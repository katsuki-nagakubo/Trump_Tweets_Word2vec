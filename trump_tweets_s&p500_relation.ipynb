{
  "nbformat": 4,
  "nbformat_minor": 0,
  "metadata": {
    "kernelspec": {
      "display_name": "Python 3",
      "language": "python",
      "name": "python3"
    },
    "language_info": {
      "codemirror_mode": {
        "name": "ipython",
        "version": 3
      },
      "file_extension": ".py",
      "mimetype": "text/x-python",
      "name": "python",
      "nbconvert_exporter": "python",
      "pygments_lexer": "ipython3",
      "version": "3.7.4"
    },
    "colab": {
      "name": "trump_tweets_s&p500_relation.ipynb",
      "provenance": [],
      "collapsed_sections": [],
      "include_colab_link": true
    }
  },
  "cells": [
    {
      "cell_type": "markdown",
      "metadata": {
        "id": "view-in-github",
        "colab_type": "text"
      },
      "source": [
        "<a href=\"https://colab.research.google.com/github/katsuki-nagakubo/Tweets_Word2vec/blob/master/trump_tweets_s%26p500_relation.ipynb\" target=\"_parent\"><img src=\"https://colab.research.google.com/assets/colab-badge.svg\" alt=\"Open In Colab\"/></a>"
      ]
    },
    {
      "cell_type": "code",
      "metadata": {
        "id": "5TBDVbUQfTEM",
        "colab_type": "code",
        "colab": {}
      },
      "source": [
        "#データの取得と成形\n",
        "\n",
        "import pandas as pd\n",
        "import numpy as np\n",
        "import matplotlib.pyplot as plt "
      ],
      "execution_count": 0,
      "outputs": []
    },
    {
      "cell_type": "code",
      "metadata": {
        "id": "0etwSm9DfTEU",
        "colab_type": "code",
        "outputId": "5a8b56b1-30c4-47c1-c218-7f2ff2bd5d94",
        "colab": {
          "base_uri": "https://localhost:8080/",
          "height": 34
        }
      },
      "source": [
        "#https://teratail.com/questions/128725\n",
        "\n",
        "from ast import literal_eval\n",
        "from pprint import pprint\n",
        "\n",
        "f = open('/content/trump_tweets.txt', 'r')\n",
        "text = f.read()\n",
        "mylist = literal_eval(text)\n",
        "\n",
        "print(type(mylist), type(mylist[0]))"
      ],
      "execution_count": 59,
      "outputs": [
        {
          "output_type": "stream",
          "text": [
            "<class 'list'> <class 'dict'>\n"
          ],
          "name": "stdout"
        }
      ]
    },
    {
      "cell_type": "code",
      "metadata": {
        "id": "e2D_Z2KUfTEY",
        "colab_type": "code",
        "outputId": "8d41bbbf-b9ba-4018-b74b-d27cd3a6f01e",
        "colab": {
          "base_uri": "https://localhost:8080/",
          "height": 34
        }
      },
      "source": [
        "df_text=[]\n",
        "df_created_at=[]\n",
        "df_id_str=[]\n",
        "\n",
        "print(len(mylist),\"tweets\")\n",
        "\n",
        "for i in range(len(mylist)):\n",
        "    text = mylist[i][\"text\"]\n",
        "    created_at = mylist[i][\"created_at\"]\n",
        "    id_str = mylist[i][\"id_str\"]\n",
        "    df_text.append(text)\n",
        "    df_created_at.append(created_at)\n",
        "    df_id_str.append(id_str)\n",
        "\n",
        "tweet_list=[df_created_at,df_id_str,df_text]\n",
        "#print(tweet_list)"
      ],
      "execution_count": 60,
      "outputs": [
        {
          "output_type": "stream",
          "text": [
            "17544 tweets\n"
          ],
          "name": "stdout"
        }
      ]
    },
    {
      "cell_type": "code",
      "metadata": {
        "id": "FfVe8YhPfTEc",
        "colab_type": "code",
        "colab": {}
      },
      "source": [
        "#https://ai-inter1.com/pandas-dataframe_basic/\n",
        "#リスト型にしたデータをPandasでDataFrameにした\n",
        "\n",
        "columns1=[\"created_at\"]\n",
        "tweet_data = pd.DataFrame( data = df_created_at, columns = columns1)\n",
        "tweet_data[\"id\"]=df_id_str\n",
        "tweet_data[\"text\"] = df_text"
      ],
      "execution_count": 0,
      "outputs": []
    },
    {
      "cell_type": "code",
      "metadata": {
        "id": "njrdAvuzfTEf",
        "colab_type": "code",
        "colab": {}
      },
      "source": [
        "#https://teratail.com/questions/132333\n",
        "#https://note.nkmk.me/python-pandas-datetime-timestamp/\n",
        "\n",
        "tweet_data[\"time_created_at\"] = pd.to_datetime(tweet_data['created_at'])\n",
        "tweet_data[\"date_created_at\"] = tweet_data[\"time_created_at\"].dt.date\n",
        "tweet_data[\"key\"]=pd.to_datetime(tweet_data[\"date_created_at\"])"
      ],
      "execution_count": 0,
      "outputs": []
    },
    {
      "cell_type": "code",
      "metadata": {
        "id": "iZi3fq8nfTEj",
        "colab_type": "code",
        "colab": {}
      },
      "source": [
        "# https://www.macrotrends.net/2488/sp500-10-year-daily-chart\n",
        "\n",
        "sp_data = pd.read_csv('/content/sp500-10-year-daily-chart.csv')\n",
        "sp_data[\"date_64\"] = pd.to_datetime(sp_data[\"date\"])\n",
        "sp_data[\"key\"] =sp_data[\"date_64\"] "
      ],
      "execution_count": 0,
      "outputs": []
    },
    {
      "cell_type": "code",
      "metadata": {
        "id": "Lb8q3TCTfTEn",
        "colab_type": "code",
        "outputId": "a030991a-2471-46e7-a0f7-2b2a27a83f17",
        "colab": {
          "base_uri": "https://localhost:8080/",
          "height": 204
        }
      },
      "source": [
        "#内部結合\n",
        "#http://pppurple.hatenablog.com/entry/2016/06/27/022310#inner-join\n",
        "#https://note.nkmk.me/python-pandas-merge-join/\n",
        "\n",
        "tweet_data=pd.merge(tweet_data, sp_data)\n",
        "tweet_data.columns\n",
        "data = tweet_data[[\"key\",\" value\",\"text\"]]\n",
        "\n",
        "#行の名前を変更する　20200505\n",
        "data = data.rename(columns={\"key\": \"date\",\" value\":\"price\"})\n",
        "data.head()"
      ],
      "execution_count": 64,
      "outputs": [
        {
          "output_type": "execute_result",
          "data": {
            "text/html": [
              "<div>\n",
              "<style scoped>\n",
              "    .dataframe tbody tr th:only-of-type {\n",
              "        vertical-align: middle;\n",
              "    }\n",
              "\n",
              "    .dataframe tbody tr th {\n",
              "        vertical-align: top;\n",
              "    }\n",
              "\n",
              "    .dataframe thead th {\n",
              "        text-align: right;\n",
              "    }\n",
              "</style>\n",
              "<table border=\"1\" class=\"dataframe\">\n",
              "  <thead>\n",
              "    <tr style=\"text-align: right;\">\n",
              "      <th></th>\n",
              "      <th>date</th>\n",
              "      <th>price</th>\n",
              "      <th>text</th>\n",
              "    </tr>\n",
              "  </thead>\n",
              "  <tbody>\n",
              "    <tr>\n",
              "      <th>0</th>\n",
              "      <td>2020-05-01</td>\n",
              "      <td>2830.71</td>\n",
              "      <td>RT @StevenTDennis: Trump gets bump in latest G...</td>\n",
              "    </tr>\n",
              "    <tr>\n",
              "      <th>1</th>\n",
              "      <td>2020-05-01</td>\n",
              "      <td>2830.71</td>\n",
              "      <td>The Governor of Michigan should give a little,...</td>\n",
              "    </tr>\n",
              "    <tr>\n",
              "      <th>2</th>\n",
              "      <td>2020-05-01</td>\n",
              "      <td>2830.71</td>\n",
              "      <td>Cryin Chuck Schumer, compared to what other Se...</td>\n",
              "    </tr>\n",
              "    <tr>\n",
              "      <th>3</th>\n",
              "      <td>2020-05-01</td>\n",
              "      <td>2830.71</td>\n",
              "      <td>Cryin’ Chuck Schumer was on a late night show ...</td>\n",
              "    </tr>\n",
              "    <tr>\n",
              "      <th>4</th>\n",
              "      <td>2020-05-01</td>\n",
              "      <td>2830.71</td>\n",
              "      <td>RT @TeamTrump: President @realDonaldTrump: “We...</td>\n",
              "    </tr>\n",
              "  </tbody>\n",
              "</table>\n",
              "</div>"
            ],
            "text/plain": [
              "        date    price                                               text\n",
              "0 2020-05-01  2830.71  RT @StevenTDennis: Trump gets bump in latest G...\n",
              "1 2020-05-01  2830.71  The Governor of Michigan should give a little,...\n",
              "2 2020-05-01  2830.71  Cryin Chuck Schumer, compared to what other Se...\n",
              "3 2020-05-01  2830.71  Cryin’ Chuck Schumer was on a late night show ...\n",
              "4 2020-05-01  2830.71  RT @TeamTrump: President @realDonaldTrump: “We..."
            ]
          },
          "metadata": {
            "tags": []
          },
          "execution_count": 64
        }
      ]
    },
    {
      "cell_type": "code",
      "metadata": {
        "id": "RbtHgL9gfTEr",
        "colab_type": "code",
        "outputId": "c4a168f9-a268-49ed-db3c-53933bd70b5b",
        "colab": {
          "base_uri": "https://localhost:8080/",
          "height": 34
        }
      },
      "source": [
        "# trumpが大統領になった2017年1月20日から、GW前2020年5月1日までのデータを分析する\n",
        "# https://qiita.com/mSpring/items/6ec1ab28dcb261db2c73\n",
        "\n",
        "import datetime as dt\n",
        "data2 = data[(data['date'] >= dt.datetime(2017,1,20)) & (data['date'] <= dt.datetime(2020,5,1))]\n",
        "print( \"2017/01/20 - 2020/05/01のツイート数は\", len(data2))"
      ],
      "execution_count": 65,
      "outputs": [
        {
          "output_type": "stream",
          "text": [
            "2017/01/20 - 2020/05/01のツイート数は 12259\n"
          ],
          "name": "stdout"
        }
      ]
    },
    {
      "cell_type": "code",
      "metadata": {
        "id": "5uWu1eYpfTEv",
        "colab_type": "code",
        "colab": {}
      },
      "source": [
        "#新しいデータを追加すると上書き保存されるようにmode=\"a\"にした。\n",
        "\n",
        "#初回だけ,headerはTrue\n",
        "#data2.to_csv(\"s&p_tweets.csv\", index=False, mode='a', header=True)\n",
        "#2回目以降はFalse\n",
        "#data2.to_csv(\"s&p_tweets.csv\", index=False, mode='a', header=False)"
      ],
      "execution_count": 0,
      "outputs": []
    },
    {
      "cell_type": "code",
      "metadata": {
        "id": "nJcHtQApfTEy",
        "colab_type": "code",
        "outputId": "815627b3-80cd-495c-ae5e-dcd65ad065e7",
        "colab": {
          "base_uri": "https://localhost:8080/",
          "height": 34
        }
      },
      "source": [
        "# Fileを読み込むことで最新のデータで分析できる\n",
        "\n",
        "data = pd.read_csv(\"s&p_tweets.csv\")\n",
        "print( len(data),\"tweets\")"
      ],
      "execution_count": 67,
      "outputs": [
        {
          "output_type": "stream",
          "text": [
            "12259 tweets\n"
          ],
          "name": "stdout"
        }
      ]
    },
    {
      "cell_type": "code",
      "metadata": {
        "id": "UK-gdwmxfTE1",
        "colab_type": "code",
        "outputId": "05106647-2e65-4700-ad0d-1cffb42ddb9f",
        "colab": {
          "base_uri": "https://localhost:8080/",
          "height": 88
        }
      },
      "source": [
        "#形態素解析\n",
        "#https://yottagin.com/?p=4360\n",
        "\n",
        "import nltk\n",
        "nltk.download('stopwords')\n",
        "\n",
        "tweet_tokenizer = nltk.tokenize.TweetTokenizer(preserve_case=False, strip_handles=True, reduce_len=True)\n",
        "for tweet in data[\"text\"][:1]:\n",
        "    print (tweet_tokenizer.tokenize(tweet))"
      ],
      "execution_count": 68,
      "outputs": [
        {
          "output_type": "stream",
          "text": [
            "[nltk_data] Downloading package stopwords to /root/nltk_data...\n",
            "[nltk_data]   Package stopwords is already up-to-date!\n",
            "['rt', ':', 'trump', 'gets', 'bump', 'in', 'latest', 'gallup', 'poll', ':', '49', '%', 'approval', '(', '+', '6', ',', 'tied', 'for', 'his', 'best', ')', '47', '%', 'disapproval', '(', '-', '7', ')']\n"
          ],
          "name": "stdout"
        }
      ]
    },
    {
      "cell_type": "code",
      "metadata": {
        "id": "DrfyzDEAfTE6",
        "colab_type": "code",
        "outputId": "75b73697-418e-46dd-98a8-33e4156471bc",
        "colab": {
          "base_uri": "https://localhost:8080/",
          "height": 323
        }
      },
      "source": [
        "words = []\n",
        "for tweet in data[\"text\"]:\n",
        "    words += tweet_tokenizer.tokenize(tweet)\n",
        "\n",
        "fdist = nltk.FreqDist(words)\n",
        "fdist.plot(50)"
      ],
      "execution_count": 69,
      "outputs": [
        {
          "output_type": "display_data",
          "data": {
            "image/png": "[encoded data removed]",
            "text/plain": [
              "<Figure size 432x288 with 1 Axes>"
            ]
          },
          "metadata": {
            "tags": [],
            "needs_background": "light"
          }
        }
      ]
    },
    {
      "cell_type": "code",
      "metadata": {
        "id": "5VLnPp6vfTE-",
        "colab_type": "code",
        "outputId": "cd0bb3a0-e4e6-483b-ceed-a36505a9e3dc",
        "colab": {
          "base_uri": "https://localhost:8080/",
          "height": 359
        }
      },
      "source": [
        "#高頻度のツイートを表示\n",
        "df_fdist = pd.DataFrame(fdist.most_common(10), columns=['Word', 'Frequency'])\n",
        "df_fdist"
      ],
      "execution_count": 70,
      "outputs": [
        {
          "output_type": "execute_result",
          "data": {
            "text/html": [
              "<div>\n",
              "<style scoped>\n",
              "    .dataframe tbody tr th:only-of-type {\n",
              "        vertical-align: middle;\n",
              "    }\n",
              "\n",
              "    .dataframe tbody tr th {\n",
              "        vertical-align: top;\n",
              "    }\n",
              "\n",
              "    .dataframe thead th {\n",
              "        text-align: right;\n",
              "    }\n",
              "</style>\n",
              "<table border=\"1\" class=\"dataframe\">\n",
              "  <thead>\n",
              "    <tr style=\"text-align: right;\">\n",
              "      <th></th>\n",
              "      <th>Word</th>\n",
              "      <th>Frequency</th>\n",
              "    </tr>\n",
              "  </thead>\n",
              "  <tbody>\n",
              "    <tr>\n",
              "      <th>0</th>\n",
              "      <td>the</td>\n",
              "      <td>15504</td>\n",
              "    </tr>\n",
              "    <tr>\n",
              "      <th>1</th>\n",
              "      <td>.</td>\n",
              "      <td>14634</td>\n",
              "    </tr>\n",
              "    <tr>\n",
              "      <th>2</th>\n",
              "      <td>,</td>\n",
              "      <td>14156</td>\n",
              "    </tr>\n",
              "    <tr>\n",
              "      <th>3</th>\n",
              "      <td>to</td>\n",
              "      <td>8172</td>\n",
              "    </tr>\n",
              "    <tr>\n",
              "      <th>4</th>\n",
              "      <td>!</td>\n",
              "      <td>7343</td>\n",
              "    </tr>\n",
              "    <tr>\n",
              "      <th>5</th>\n",
              "      <td>and</td>\n",
              "      <td>7289</td>\n",
              "    </tr>\n",
              "    <tr>\n",
              "      <th>6</th>\n",
              "      <td>of</td>\n",
              "      <td>6165</td>\n",
              "    </tr>\n",
              "    <tr>\n",
              "      <th>7</th>\n",
              "      <td>a</td>\n",
              "      <td>5419</td>\n",
              "    </tr>\n",
              "    <tr>\n",
              "      <th>8</th>\n",
              "      <td>:</td>\n",
              "      <td>4870</td>\n",
              "    </tr>\n",
              "    <tr>\n",
              "      <th>9</th>\n",
              "      <td>in</td>\n",
              "      <td>4507</td>\n",
              "    </tr>\n",
              "  </tbody>\n",
              "</table>\n",
              "</div>"
            ],
            "text/plain": [
              "  Word  Frequency\n",
              "0  the      15504\n",
              "1    .      14634\n",
              "2    ,      14156\n",
              "3   to       8172\n",
              "4    !       7343\n",
              "5  and       7289\n",
              "6   of       6165\n",
              "7    a       5419\n",
              "8    :       4870\n",
              "9   in       4507"
            ]
          },
          "metadata": {
            "tags": []
          },
          "execution_count": 70
        }
      ]
    },
    {
      "cell_type": "code",
      "metadata": {
        "id": "IvFoQ0TrfTFG",
        "colab_type": "code",
        "colab": {}
      },
      "source": [
        "#tokenにする\n",
        "import re\n",
        "import string\n",
        "\n",
        "stemmer = nltk.stem.PorterStemmer()\n",
        "punctuations = string.punctuation\n",
        "all_tweets_clean = []\n",
        "\n",
        "#Tweet毎にリスト形式で保存するための加工\n",
        "result=[]\n",
        "\n",
        "for tweet in data[\"text\"]:\n",
        "    # RTから始まる部分を取り除く。\n",
        "    tweet = re.sub(r'^RT[\\s]+', '', tweet)\n",
        "    # リンクを取り除く。\n",
        "    tweet = re.sub(r'(http|https):\\/\\/.*[\\r\\n]*', '', tweet)\n",
        "    # ハッシュタグを取り除く。\n",
        "    tweet = re.sub(r'#', '', tweet)\n",
        "    # 句読点の削除\n",
        "    tweet = tweet.translate(str.maketrans('', '', string.punctuation)) \n",
        "    # 単語に分解する。\n",
        "    tokenizer = nltk.tokenize.TweetTokenizer(preserve_case=False, strip_handles=True, reduce_len=True)\n",
        "    tweet_tokens = tokenizer.tokenize(tweet)\n",
        "    result.append(tweet_tokens)"
      ],
      "execution_count": 0,
      "outputs": []
    },
    {
      "cell_type": "code",
      "metadata": {
        "id": "jGskML9PfTFK",
        "colab_type": "code",
        "colab": {}
      },
      "source": [
        "stopwords = nltk.corpus.stopwords.words('english')\n",
        "stop_words = [\"→\", \"←\", \"?\", \"」\", \"「\",\"(\",\")\",\"!\",\".\",\",\",\"&\",\"…\",\"%\",\":\",\";\",\"“\"]\n",
        "stopwords += stop_words\n",
        "\n",
        "#print(stopwords)\n",
        "\n",
        "result_2=[]\n",
        "result_3=[]\n",
        "for i in range(len(result)):\n",
        "    for word in result[i]:\n",
        "        if word not in stopwords:\n",
        "            result_2.append(word)\n",
        "    result_3.append(result_2)\n",
        "    result_2=[]"
      ],
      "execution_count": 0,
      "outputs": []
    },
    {
      "cell_type": "code",
      "metadata": {
        "id": "wL2ASq-gfTFO",
        "colab_type": "code",
        "colab": {}
      },
      "source": [
        "#Word2Vec\n",
        "\n",
        "from gensim.models import word2vec"
      ],
      "execution_count": 0,
      "outputs": []
    },
    {
      "cell_type": "code",
      "metadata": {
        "id": "6Ov0af7rfTFQ",
        "colab_type": "code",
        "outputId": "d99e2c98-be39-4590-c2fe-f74c05d32ace",
        "colab": {
          "base_uri": "https://localhost:8080/",
          "height": 272
        }
      },
      "source": [
        "# 対象データをLinseSentence(one sentence = one lineとして扱う)で読み込む\n",
        "\n",
        "sentences = result_3\n",
        "sentences[0]"
      ],
      "execution_count": 74,
      "outputs": [
        {
          "output_type": "execute_result",
          "data": {
            "text/plain": [
              "['steventdennis',\n",
              " 'trump',\n",
              " 'gets',\n",
              " 'bump',\n",
              " 'latest',\n",
              " 'gallup',\n",
              " 'poll',\n",
              " '49',\n",
              " 'approval',\n",
              " '6',\n",
              " 'tied',\n",
              " 'best',\n",
              " '47',\n",
              " 'disapproval',\n",
              " '7']"
            ]
          },
          "metadata": {
            "tags": []
          },
          "execution_count": 74
        }
      ]
    },
    {
      "cell_type": "code",
      "metadata": {
        "id": "9u7fFXncfTFU",
        "colab_type": "code",
        "colab": {}
      },
      "source": [
        "# skip-gramモデルの学習\n",
        "skipgram_model = word2vec.Word2Vec(sentences,\n",
        "                                   sg=1,\n",
        "                                   size=300,\n",
        "                                   min_count=10,\n",
        "                                   window=15, seed=1234)"
      ],
      "execution_count": 0,
      "outputs": []
    },
    {
      "cell_type": "code",
      "metadata": {
        "id": "akHH47YRfTFZ",
        "colab_type": "code",
        "outputId": "bd268ad3-12db-4e97-b930-a5334d9b6b73",
        "colab": {
          "base_uri": "https://localhost:8080/",
          "height": 71
        }
      },
      "source": [
        "# 作成したモデルの保存\n",
        "skipgram_model.save(\"skipgram_w2v.model\")\n",
        "# saveしたモデルを読み込む時は\n",
        "#skipgram_model = word2vec.Word2Vec.load(\"skipgram_w2v.model\")"
      ],
      "execution_count": 76,
      "outputs": [
        {
          "output_type": "stream",
          "text": [
            "/usr/local/lib/python3.6/dist-packages/smart_open/smart_open_lib.py:253: UserWarning: This function is deprecated, use smart_open.open instead. See the migration notes for details: https://github.com/RaRe-Technologies/smart_open/blob/master/README.rst#migrating-to-the-new-open-function\n",
            "  'See the migration notes for details: %s' % _MIGRATION_NOTES_URL\n"
          ],
          "name": "stderr"
        }
      ]
    },
    {
      "cell_type": "code",
      "metadata": {
        "id": "ZAO8SIE_fTFc",
        "colab_type": "code",
        "outputId": "e010f317-8c18-4d6c-f3c3-284142f64546",
        "colab": {
          "base_uri": "https://localhost:8080/",
          "height": 413
        }
      },
      "source": [
        "# coronavirusと似たキーワードを見つけていきます。\n",
        "# ここで記載しているscoreは、単語同士のコサイン類似度です。\n",
        "pd.DataFrame(skipgram_model.wv.most_similar(\n",
        "    positive=[\"coronavirus\"]), columns=[\"keyword\", \"score\"])"
      ],
      "execution_count": 77,
      "outputs": [
        {
          "output_type": "stream",
          "text": [
            "/usr/local/lib/python3.6/dist-packages/gensim/matutils.py:737: FutureWarning: Conversion of the second argument of issubdtype from `int` to `np.signedinteger` is deprecated. In future, it will be treated as `np.int64 == np.dtype(int).type`.\n",
            "  if np.issubdtype(vec.dtype, np.int):\n"
          ],
          "name": "stderr"
        },
        {
          "output_type": "execute_result",
          "data": {
            "text/html": [
              "<div>\n",
              "<style scoped>\n",
              "    .dataframe tbody tr th:only-of-type {\n",
              "        vertical-align: middle;\n",
              "    }\n",
              "\n",
              "    .dataframe tbody tr th {\n",
              "        vertical-align: top;\n",
              "    }\n",
              "\n",
              "    .dataframe thead th {\n",
              "        text-align: right;\n",
              "    }\n",
              "</style>\n",
              "<table border=\"1\" class=\"dataframe\">\n",
              "  <thead>\n",
              "    <tr style=\"text-align: right;\">\n",
              "      <th></th>\n",
              "      <th>keyword</th>\n",
              "      <th>score</th>\n",
              "    </tr>\n",
              "  </thead>\n",
              "  <tbody>\n",
              "    <tr>\n",
              "      <th>0</th>\n",
              "      <td>covid</td>\n",
              "      <td>0.821305</td>\n",
              "    </tr>\n",
              "    <tr>\n",
              "      <th>1</th>\n",
              "      <td>spread</td>\n",
              "      <td>0.814027</td>\n",
              "    </tr>\n",
              "    <tr>\n",
              "      <th>2</th>\n",
              "      <td>response</td>\n",
              "      <td>0.809250</td>\n",
              "    </tr>\n",
              "    <tr>\n",
              "      <th>3</th>\n",
              "      <td>outbreak</td>\n",
              "      <td>0.783740</td>\n",
              "    </tr>\n",
              "    <tr>\n",
              "      <th>4</th>\n",
              "      <td>task</td>\n",
              "      <td>0.780223</td>\n",
              "    </tr>\n",
              "    <tr>\n",
              "      <th>5</th>\n",
              "      <td>19</td>\n",
              "      <td>0.776238</td>\n",
              "    </tr>\n",
              "    <tr>\n",
              "      <th>6</th>\n",
              "      <td>cdcgov</td>\n",
              "      <td>0.760229</td>\n",
              "    </tr>\n",
              "    <tr>\n",
              "      <th>7</th>\n",
              "      <td>force</td>\n",
              "      <td>0.752286</td>\n",
              "    </tr>\n",
              "    <tr>\n",
              "      <th>8</th>\n",
              "      <td>food</td>\n",
              "      <td>0.749110</td>\n",
              "    </tr>\n",
              "    <tr>\n",
              "      <th>9</th>\n",
              "      <td>briefing</td>\n",
              "      <td>0.746027</td>\n",
              "    </tr>\n",
              "  </tbody>\n",
              "</table>\n",
              "</div>"
            ],
            "text/plain": [
              "    keyword     score\n",
              "0     covid  0.821305\n",
              "1    spread  0.814027\n",
              "2  response  0.809250\n",
              "3  outbreak  0.783740\n",
              "4      task  0.780223\n",
              "5        19  0.776238\n",
              "6    cdcgov  0.760229\n",
              "7     force  0.752286\n",
              "8      food  0.749110\n",
              "9  briefing  0.746027"
            ]
          },
          "metadata": {
            "tags": []
          },
          "execution_count": 77
        }
      ]
    },
    {
      "cell_type": "code",
      "metadata": {
        "id": "KfKYBXI_fTFf",
        "colab_type": "code",
        "colab": {}
      },
      "source": [
        "\"\"\"\n",
        "1. 抽出された各単語を、作成したword2Vecによってベクトル化\n",
        "2. 変換された各単語ベクトルの平均をとり、その結果得られたベクトルを記事のベクトルとする\n",
        "上記2ステップを実行する関数を作成\n",
        "\"\"\"\n",
        "\n",
        "num_features = 300\n",
        "\n",
        "\n",
        "def avg_document_vector(data, num_features):\n",
        "    document_vec = np.zeros((len(data), num_features))\n",
        "    for i, doc_word_list in enumerate(data):\n",
        "        feature_vec = np.zeros((num_features,), dtype=\"float32\")\n",
        "        for word in doc_word_list:\n",
        "            try:\n",
        "                feature_vec = np.add(\n",
        "                    feature_vec, skipgram_model.wv.__getitem__(word))\n",
        "            except:\n",
        "                pass\n",
        "\n",
        "        feature_vec = np.divide(feature_vec, len(doc_word_list))\n",
        "        document_vec[i] = feature_vec\n",
        "    return document_vec"
      ],
      "execution_count": 0,
      "outputs": []
    },
    {
      "cell_type": "code",
      "metadata": {
        "id": "gcoxgMvkfTFh",
        "colab_type": "code",
        "outputId": "68b2aadc-2e6b-4559-fd32-51183a8ccdf8",
        "colab": {
          "base_uri": "https://localhost:8080/",
          "height": 51
        }
      },
      "source": [
        "X = avg_document_vector(data=sentences, num_features=300)\n",
        "X.shape"
      ],
      "execution_count": 79,
      "outputs": [
        {
          "output_type": "stream",
          "text": [
            "/usr/local/lib/python3.6/dist-packages/ipykernel_launcher.py:21: RuntimeWarning: invalid value encountered in true_divide\n"
          ],
          "name": "stderr"
        },
        {
          "output_type": "execute_result",
          "data": {
            "text/plain": [
              "(12259, 300)"
            ]
          },
          "metadata": {
            "tags": []
          },
          "execution_count": 79
        }
      ]
    },
    {
      "cell_type": "code",
      "metadata": {
        "id": "PvVmeNp5fTFj",
        "colab_type": "code",
        "outputId": "c563ebd4-04b2-4541-cb66-e6db5361b866",
        "colab": {
          "base_uri": "https://localhost:8080/",
          "height": 474
        }
      },
      "source": [
        "# outer join\n",
        "data2 = pd.DataFrame(X)\n",
        "df_tweets_word2vec =  pd.concat([data, data2], axis=1)\n",
        "df_tweets_word2vec.head()"
      ],
      "execution_count": 80,
      "outputs": [
        {
          "output_type": "execute_result",
          "data": {
            "text/html": [
              "<div>\n",
              "<style scoped>\n",
              "    .dataframe tbody tr th:only-of-type {\n",
              "        vertical-align: middle;\n",
              "    }\n",
              "\n",
              "    .dataframe tbody tr th {\n",
              "        vertical-align: top;\n",
              "    }\n",
              "\n",
              "    .dataframe thead th {\n",
              "        text-align: right;\n",
              "    }\n",
              "</style>\n",
              "<table border=\"1\" class=\"dataframe\">\n",
              "  <thead>\n",
              "    <tr style=\"text-align: right;\">\n",
              "      <th></th>\n",
              "      <th>date</th>\n",
              "      <th>price</th>\n",
              "      <th>text</th>\n",
              "      <th>0</th>\n",
              "      <th>1</th>\n",
              "      <th>2</th>\n",
              "      <th>3</th>\n",
              "      <th>4</th>\n",
              "      <th>5</th>\n",
              "      <th>6</th>\n",
              "      <th>7</th>\n",
              "      <th>8</th>\n",
              "      <th>9</th>\n",
              "      <th>10</th>\n",
              "      <th>11</th>\n",
              "      <th>12</th>\n",
              "      <th>13</th>\n",
              "      <th>14</th>\n",
              "      <th>15</th>\n",
              "      <th>16</th>\n",
              "      <th>17</th>\n",
              "      <th>18</th>\n",
              "      <th>19</th>\n",
              "      <th>20</th>\n",
              "      <th>21</th>\n",
              "      <th>22</th>\n",
              "      <th>23</th>\n",
              "      <th>24</th>\n",
              "      <th>25</th>\n",
              "      <th>26</th>\n",
              "      <th>27</th>\n",
              "      <th>28</th>\n",
              "      <th>29</th>\n",
              "      <th>30</th>\n",
              "      <th>31</th>\n",
              "      <th>32</th>\n",
              "      <th>33</th>\n",
              "      <th>34</th>\n",
              "      <th>35</th>\n",
              "      <th>36</th>\n",
              "      <th>...</th>\n",
              "      <th>260</th>\n",
              "      <th>261</th>\n",
              "      <th>262</th>\n",
              "      <th>263</th>\n",
              "      <th>264</th>\n",
              "      <th>265</th>\n",
              "      <th>266</th>\n",
              "      <th>267</th>\n",
              "      <th>268</th>\n",
              "      <th>269</th>\n",
              "      <th>270</th>\n",
              "      <th>271</th>\n",
              "      <th>272</th>\n",
              "      <th>273</th>\n",
              "      <th>274</th>\n",
              "      <th>275</th>\n",
              "      <th>276</th>\n",
              "      <th>277</th>\n",
              "      <th>278</th>\n",
              "      <th>279</th>\n",
              "      <th>280</th>\n",
              "      <th>281</th>\n",
              "      <th>282</th>\n",
              "      <th>283</th>\n",
              "      <th>284</th>\n",
              "      <th>285</th>\n",
              "      <th>286</th>\n",
              "      <th>287</th>\n",
              "      <th>288</th>\n",
              "      <th>289</th>\n",
              "      <th>290</th>\n",
              "      <th>291</th>\n",
              "      <th>292</th>\n",
              "      <th>293</th>\n",
              "      <th>294</th>\n",
              "      <th>295</th>\n",
              "      <th>296</th>\n",
              "      <th>297</th>\n",
              "      <th>298</th>\n",
              "      <th>299</th>\n",
              "    </tr>\n",
              "  </thead>\n",
              "  <tbody>\n",
              "    <tr>\n",
              "      <th>0</th>\n",
              "      <td>2020-05-01</td>\n",
              "      <td>2830.71</td>\n",
              "      <td>RT @StevenTDennis: Trump gets bump in latest G...</td>\n",
              "      <td>0.013171</td>\n",
              "      <td>-0.027658</td>\n",
              "      <td>0.040998</td>\n",
              "      <td>-0.036422</td>\n",
              "      <td>0.043205</td>\n",
              "      <td>0.007283</td>\n",
              "      <td>-0.106265</td>\n",
              "      <td>-0.049281</td>\n",
              "      <td>-0.058635</td>\n",
              "      <td>-0.059092</td>\n",
              "      <td>0.006105</td>\n",
              "      <td>-0.136367</td>\n",
              "      <td>-0.055128</td>\n",
              "      <td>-0.057226</td>\n",
              "      <td>0.021036</td>\n",
              "      <td>0.123495</td>\n",
              "      <td>-0.020720</td>\n",
              "      <td>0.002822</td>\n",
              "      <td>0.055597</td>\n",
              "      <td>-0.029578</td>\n",
              "      <td>0.094320</td>\n",
              "      <td>0.005851</td>\n",
              "      <td>-0.003850</td>\n",
              "      <td>0.042392</td>\n",
              "      <td>0.015395</td>\n",
              "      <td>-0.082058</td>\n",
              "      <td>-0.015386</td>\n",
              "      <td>0.043911</td>\n",
              "      <td>-0.070626</td>\n",
              "      <td>-0.055664</td>\n",
              "      <td>-0.108876</td>\n",
              "      <td>0.011660</td>\n",
              "      <td>0.059529</td>\n",
              "      <td>0.014832</td>\n",
              "      <td>0.010315</td>\n",
              "      <td>-0.045724</td>\n",
              "      <td>-0.010384</td>\n",
              "      <td>...</td>\n",
              "      <td>0.023702</td>\n",
              "      <td>-0.002310</td>\n",
              "      <td>0.009288</td>\n",
              "      <td>-0.006168</td>\n",
              "      <td>0.031098</td>\n",
              "      <td>0.116219</td>\n",
              "      <td>0.026843</td>\n",
              "      <td>-0.032092</td>\n",
              "      <td>-0.041582</td>\n",
              "      <td>0.011007</td>\n",
              "      <td>0.043262</td>\n",
              "      <td>-0.015088</td>\n",
              "      <td>0.017348</td>\n",
              "      <td>-0.121292</td>\n",
              "      <td>0.098151</td>\n",
              "      <td>-0.006346</td>\n",
              "      <td>0.031414</td>\n",
              "      <td>0.081600</td>\n",
              "      <td>-0.079058</td>\n",
              "      <td>0.013087</td>\n",
              "      <td>0.069395</td>\n",
              "      <td>0.020239</td>\n",
              "      <td>0.000434</td>\n",
              "      <td>0.078936</td>\n",
              "      <td>0.012103</td>\n",
              "      <td>0.086546</td>\n",
              "      <td>-0.035046</td>\n",
              "      <td>0.045611</td>\n",
              "      <td>0.000176</td>\n",
              "      <td>-0.014378</td>\n",
              "      <td>-0.003118</td>\n",
              "      <td>-0.012428</td>\n",
              "      <td>-0.008619</td>\n",
              "      <td>0.022371</td>\n",
              "      <td>-0.025438</td>\n",
              "      <td>0.019669</td>\n",
              "      <td>0.054462</td>\n",
              "      <td>-0.034452</td>\n",
              "      <td>0.057196</td>\n",
              "      <td>0.002768</td>\n",
              "    </tr>\n",
              "    <tr>\n",
              "      <th>1</th>\n",
              "      <td>2020-05-01</td>\n",
              "      <td>2830.71</td>\n",
              "      <td>The Governor of Michigan should give a little,...</td>\n",
              "      <td>-0.007420</td>\n",
              "      <td>-0.083757</td>\n",
              "      <td>0.093610</td>\n",
              "      <td>0.018616</td>\n",
              "      <td>-0.017953</td>\n",
              "      <td>0.044473</td>\n",
              "      <td>-0.076319</td>\n",
              "      <td>-0.023302</td>\n",
              "      <td>-0.026277</td>\n",
              "      <td>-0.102450</td>\n",
              "      <td>-0.031270</td>\n",
              "      <td>-0.102021</td>\n",
              "      <td>-0.036906</td>\n",
              "      <td>-0.028624</td>\n",
              "      <td>-0.028759</td>\n",
              "      <td>0.082031</td>\n",
              "      <td>-0.035437</td>\n",
              "      <td>-0.042893</td>\n",
              "      <td>0.082657</td>\n",
              "      <td>-0.107513</td>\n",
              "      <td>0.064976</td>\n",
              "      <td>-0.025708</td>\n",
              "      <td>0.047068</td>\n",
              "      <td>0.021311</td>\n",
              "      <td>0.097658</td>\n",
              "      <td>-0.091578</td>\n",
              "      <td>0.111380</td>\n",
              "      <td>0.016564</td>\n",
              "      <td>-0.019735</td>\n",
              "      <td>-0.144763</td>\n",
              "      <td>-0.119794</td>\n",
              "      <td>-0.006561</td>\n",
              "      <td>0.062642</td>\n",
              "      <td>-0.013432</td>\n",
              "      <td>0.054871</td>\n",
              "      <td>-0.095028</td>\n",
              "      <td>0.028091</td>\n",
              "      <td>...</td>\n",
              "      <td>0.078481</td>\n",
              "      <td>0.049009</td>\n",
              "      <td>-0.048643</td>\n",
              "      <td>-0.034205</td>\n",
              "      <td>-0.000398</td>\n",
              "      <td>0.125091</td>\n",
              "      <td>0.104590</td>\n",
              "      <td>-0.035589</td>\n",
              "      <td>-0.048494</td>\n",
              "      <td>-0.011989</td>\n",
              "      <td>0.022768</td>\n",
              "      <td>0.023410</td>\n",
              "      <td>0.075112</td>\n",
              "      <td>-0.151062</td>\n",
              "      <td>0.140933</td>\n",
              "      <td>-0.119270</td>\n",
              "      <td>0.097906</td>\n",
              "      <td>0.048893</td>\n",
              "      <td>-0.064702</td>\n",
              "      <td>0.005194</td>\n",
              "      <td>0.107651</td>\n",
              "      <td>0.051872</td>\n",
              "      <td>0.081811</td>\n",
              "      <td>0.096653</td>\n",
              "      <td>0.052290</td>\n",
              "      <td>0.062222</td>\n",
              "      <td>-0.035170</td>\n",
              "      <td>-0.009176</td>\n",
              "      <td>-0.024720</td>\n",
              "      <td>0.070445</td>\n",
              "      <td>0.029940</td>\n",
              "      <td>-0.019617</td>\n",
              "      <td>-0.028645</td>\n",
              "      <td>-0.006122</td>\n",
              "      <td>0.007427</td>\n",
              "      <td>0.021072</td>\n",
              "      <td>-0.027309</td>\n",
              "      <td>0.036870</td>\n",
              "      <td>0.078026</td>\n",
              "      <td>-0.058418</td>\n",
              "    </tr>\n",
              "    <tr>\n",
              "      <th>2</th>\n",
              "      <td>2020-05-01</td>\n",
              "      <td>2830.71</td>\n",
              "      <td>Cryin Chuck Schumer, compared to what other Se...</td>\n",
              "      <td>-0.006846</td>\n",
              "      <td>-0.085505</td>\n",
              "      <td>0.088355</td>\n",
              "      <td>-0.046258</td>\n",
              "      <td>0.004955</td>\n",
              "      <td>0.037178</td>\n",
              "      <td>-0.117914</td>\n",
              "      <td>0.038302</td>\n",
              "      <td>-0.036964</td>\n",
              "      <td>-0.136030</td>\n",
              "      <td>-0.047157</td>\n",
              "      <td>-0.108655</td>\n",
              "      <td>-0.068772</td>\n",
              "      <td>-0.067719</td>\n",
              "      <td>-0.025528</td>\n",
              "      <td>0.091313</td>\n",
              "      <td>-0.026479</td>\n",
              "      <td>-0.053547</td>\n",
              "      <td>0.092279</td>\n",
              "      <td>-0.061807</td>\n",
              "      <td>0.082197</td>\n",
              "      <td>0.001581</td>\n",
              "      <td>0.051986</td>\n",
              "      <td>0.008822</td>\n",
              "      <td>0.116527</td>\n",
              "      <td>-0.127231</td>\n",
              "      <td>0.116284</td>\n",
              "      <td>-0.011974</td>\n",
              "      <td>-0.058963</td>\n",
              "      <td>-0.110951</td>\n",
              "      <td>-0.132594</td>\n",
              "      <td>-0.004816</td>\n",
              "      <td>0.031016</td>\n",
              "      <td>-0.006209</td>\n",
              "      <td>0.041010</td>\n",
              "      <td>-0.115313</td>\n",
              "      <td>0.074213</td>\n",
              "      <td>...</td>\n",
              "      <td>0.063737</td>\n",
              "      <td>0.049533</td>\n",
              "      <td>-0.023585</td>\n",
              "      <td>-0.011370</td>\n",
              "      <td>-0.006465</td>\n",
              "      <td>0.120757</td>\n",
              "      <td>0.097999</td>\n",
              "      <td>-0.020323</td>\n",
              "      <td>-0.080725</td>\n",
              "      <td>-0.056354</td>\n",
              "      <td>0.001094</td>\n",
              "      <td>0.047552</td>\n",
              "      <td>0.066145</td>\n",
              "      <td>-0.138018</td>\n",
              "      <td>0.166131</td>\n",
              "      <td>-0.089125</td>\n",
              "      <td>0.137808</td>\n",
              "      <td>0.069289</td>\n",
              "      <td>-0.099328</td>\n",
              "      <td>-0.016897</td>\n",
              "      <td>0.066165</td>\n",
              "      <td>0.054168</td>\n",
              "      <td>0.085430</td>\n",
              "      <td>0.133466</td>\n",
              "      <td>0.066601</td>\n",
              "      <td>0.064842</td>\n",
              "      <td>-0.035384</td>\n",
              "      <td>0.016085</td>\n",
              "      <td>-0.013402</td>\n",
              "      <td>0.034767</td>\n",
              "      <td>0.018360</td>\n",
              "      <td>-0.006639</td>\n",
              "      <td>-0.022034</td>\n",
              "      <td>0.007595</td>\n",
              "      <td>0.019686</td>\n",
              "      <td>0.007144</td>\n",
              "      <td>0.027889</td>\n",
              "      <td>0.006937</td>\n",
              "      <td>0.059419</td>\n",
              "      <td>-0.041371</td>\n",
              "    </tr>\n",
              "    <tr>\n",
              "      <th>3</th>\n",
              "      <td>2020-05-01</td>\n",
              "      <td>2830.71</td>\n",
              "      <td>Cryin’ Chuck Schumer was on a late night show ...</td>\n",
              "      <td>0.000231</td>\n",
              "      <td>-0.109818</td>\n",
              "      <td>0.105447</td>\n",
              "      <td>-0.027717</td>\n",
              "      <td>0.042869</td>\n",
              "      <td>0.036279</td>\n",
              "      <td>-0.125687</td>\n",
              "      <td>-0.001947</td>\n",
              "      <td>-0.035959</td>\n",
              "      <td>-0.120704</td>\n",
              "      <td>-0.044530</td>\n",
              "      <td>-0.100152</td>\n",
              "      <td>-0.081338</td>\n",
              "      <td>-0.107051</td>\n",
              "      <td>-0.002781</td>\n",
              "      <td>0.113183</td>\n",
              "      <td>-0.015630</td>\n",
              "      <td>-0.064509</td>\n",
              "      <td>0.101291</td>\n",
              "      <td>-0.068164</td>\n",
              "      <td>0.070256</td>\n",
              "      <td>0.017539</td>\n",
              "      <td>-0.002193</td>\n",
              "      <td>0.033399</td>\n",
              "      <td>0.093665</td>\n",
              "      <td>-0.177480</td>\n",
              "      <td>0.092451</td>\n",
              "      <td>0.004065</td>\n",
              "      <td>-0.077570</td>\n",
              "      <td>-0.096475</td>\n",
              "      <td>-0.159781</td>\n",
              "      <td>0.008374</td>\n",
              "      <td>0.047295</td>\n",
              "      <td>-0.007155</td>\n",
              "      <td>0.025053</td>\n",
              "      <td>-0.089009</td>\n",
              "      <td>0.070533</td>\n",
              "      <td>...</td>\n",
              "      <td>0.046749</td>\n",
              "      <td>0.032093</td>\n",
              "      <td>-0.029704</td>\n",
              "      <td>-0.027975</td>\n",
              "      <td>-0.022199</td>\n",
              "      <td>0.136583</td>\n",
              "      <td>0.111894</td>\n",
              "      <td>-0.007153</td>\n",
              "      <td>-0.074985</td>\n",
              "      <td>-0.043800</td>\n",
              "      <td>0.013214</td>\n",
              "      <td>0.045647</td>\n",
              "      <td>0.064257</td>\n",
              "      <td>-0.151494</td>\n",
              "      <td>0.178893</td>\n",
              "      <td>-0.095113</td>\n",
              "      <td>0.120090</td>\n",
              "      <td>0.099236</td>\n",
              "      <td>-0.083690</td>\n",
              "      <td>0.003098</td>\n",
              "      <td>0.106320</td>\n",
              "      <td>0.035421</td>\n",
              "      <td>0.076267</td>\n",
              "      <td>0.099208</td>\n",
              "      <td>0.077493</td>\n",
              "      <td>0.096947</td>\n",
              "      <td>-0.020309</td>\n",
              "      <td>0.012899</td>\n",
              "      <td>0.023006</td>\n",
              "      <td>0.044954</td>\n",
              "      <td>-0.009825</td>\n",
              "      <td>-0.005846</td>\n",
              "      <td>-0.014956</td>\n",
              "      <td>0.009059</td>\n",
              "      <td>0.033192</td>\n",
              "      <td>0.000643</td>\n",
              "      <td>0.018527</td>\n",
              "      <td>0.028037</td>\n",
              "      <td>0.063731</td>\n",
              "      <td>-0.024946</td>\n",
              "    </tr>\n",
              "    <tr>\n",
              "      <th>4</th>\n",
              "      <td>2020-05-01</td>\n",
              "      <td>2830.71</td>\n",
              "      <td>RT @TeamTrump: President @realDonaldTrump: “We...</td>\n",
              "      <td>-0.052863</td>\n",
              "      <td>-0.035657</td>\n",
              "      <td>0.089909</td>\n",
              "      <td>-0.065979</td>\n",
              "      <td>0.073105</td>\n",
              "      <td>0.017977</td>\n",
              "      <td>-0.099576</td>\n",
              "      <td>-0.093976</td>\n",
              "      <td>-0.025242</td>\n",
              "      <td>-0.101751</td>\n",
              "      <td>-0.008809</td>\n",
              "      <td>-0.202783</td>\n",
              "      <td>-0.077599</td>\n",
              "      <td>-0.032134</td>\n",
              "      <td>0.013463</td>\n",
              "      <td>0.143750</td>\n",
              "      <td>-0.051072</td>\n",
              "      <td>-0.041445</td>\n",
              "      <td>0.066838</td>\n",
              "      <td>-0.053611</td>\n",
              "      <td>0.120533</td>\n",
              "      <td>-0.008146</td>\n",
              "      <td>0.015422</td>\n",
              "      <td>0.111795</td>\n",
              "      <td>0.028477</td>\n",
              "      <td>-0.125817</td>\n",
              "      <td>0.018339</td>\n",
              "      <td>0.087837</td>\n",
              "      <td>-0.028433</td>\n",
              "      <td>-0.112617</td>\n",
              "      <td>-0.189446</td>\n",
              "      <td>0.030141</td>\n",
              "      <td>0.078319</td>\n",
              "      <td>0.013081</td>\n",
              "      <td>0.014325</td>\n",
              "      <td>-0.095149</td>\n",
              "      <td>-0.046470</td>\n",
              "      <td>...</td>\n",
              "      <td>0.055636</td>\n",
              "      <td>-0.021465</td>\n",
              "      <td>-0.069699</td>\n",
              "      <td>-0.027592</td>\n",
              "      <td>0.037770</td>\n",
              "      <td>0.214053</td>\n",
              "      <td>0.029555</td>\n",
              "      <td>0.023860</td>\n",
              "      <td>-0.052377</td>\n",
              "      <td>0.058468</td>\n",
              "      <td>0.085479</td>\n",
              "      <td>-0.009875</td>\n",
              "      <td>-0.013698</td>\n",
              "      <td>-0.170198</td>\n",
              "      <td>0.115892</td>\n",
              "      <td>-0.104983</td>\n",
              "      <td>0.043418</td>\n",
              "      <td>0.095262</td>\n",
              "      <td>-0.049127</td>\n",
              "      <td>0.035587</td>\n",
              "      <td>0.107053</td>\n",
              "      <td>0.028463</td>\n",
              "      <td>0.052097</td>\n",
              "      <td>0.108521</td>\n",
              "      <td>0.071099</td>\n",
              "      <td>0.100056</td>\n",
              "      <td>-0.094001</td>\n",
              "      <td>0.031497</td>\n",
              "      <td>0.023116</td>\n",
              "      <td>0.016864</td>\n",
              "      <td>0.070048</td>\n",
              "      <td>-0.013576</td>\n",
              "      <td>-0.050606</td>\n",
              "      <td>0.014104</td>\n",
              "      <td>-0.025954</td>\n",
              "      <td>0.062362</td>\n",
              "      <td>0.013661</td>\n",
              "      <td>-0.033601</td>\n",
              "      <td>0.039878</td>\n",
              "      <td>-0.042058</td>\n",
              "    </tr>\n",
              "  </tbody>\n",
              "</table>\n",
              "<p>5 rows × 303 columns</p>\n",
              "</div>"
            ],
            "text/plain": [
              "         date    price  ...       298       299\n",
              "0  2020-05-01  2830.71  ...  0.057196  0.002768\n",
              "1  2020-05-01  2830.71  ...  0.078026 -0.058418\n",
              "2  2020-05-01  2830.71  ...  0.059419 -0.041371\n",
              "3  2020-05-01  2830.71  ...  0.063731 -0.024946\n",
              "4  2020-05-01  2830.71  ...  0.039878 -0.042058\n",
              "\n",
              "[5 rows x 303 columns]"
            ]
          },
          "metadata": {
            "tags": []
          },
          "execution_count": 80
        }
      ]
    },
    {
      "cell_type": "code",
      "metadata": {
        "id": "wzaVvcZ3fTFn",
        "colab_type": "code",
        "colab": {}
      },
      "source": [
        "df_tweets_word2vec.to_csv(\"price_tweets_vector.csv\", index=False)"
      ],
      "execution_count": 0,
      "outputs": []
    },
    {
      "cell_type": "code",
      "metadata": {
        "id": "CY3UVb1TfTFp",
        "colab_type": "code",
        "outputId": "9c629ec1-ffde-4657-db41-3ab473d884b3",
        "colab": {
          "base_uri": "https://localhost:8080/",
          "height": 529
        }
      },
      "source": [
        "#ツイートのベクトルを1日毎に平均にする（1日10ツイートだった場合ベクトルと足し合わせ10で割る）\n",
        "# groupby #https://qiita.com/propella/items/a9a32b878c77222630ae\n",
        "df = df_tweets_word2vec.groupby([\"date\"]).mean()\n",
        "\n",
        "\n",
        "# targetのcolである変化率（\"price\"の差分対数行列）をdateをKeyに内部結合する\n",
        "df_sp = pd.read_csv(\"/content/sp500-10-year-daily-chart.csv\")\n",
        "\n",
        "# 時系列データの差分を求める\n",
        "\n",
        "# \" value\"の行を対数化\n",
        "# https://www.sejuku.net/blog/70027\n",
        "df_sp[\"log\"] = np.log(df_sp[\" value\"])\n",
        "\n",
        "# \"log\"の1日前との差を取って、差分対数の列を作成\n",
        "# https://note.nkmk.me/python-pandas-diff-pct-change/\n",
        "df_sp[\"dif_log\"] = df_sp[\"log\"].diff()\n",
        "\n",
        "#内部結合\n",
        "df2=pd.merge(df_sp, df, how=\"inner\" ,on=\"date\")\n",
        "df2 = df2.drop(\" value\", axis=1)\n",
        "\n",
        "# groupbyを使って1日のツイート数も特徴量に加える\n",
        "# https://deepage.net/features/pandas-count.html\n",
        "df3 = df_tweets_word2vec[[\"date\",\"text\"]]\n",
        "df3 = df3.groupby([\"date\"]).count()\n",
        "\n",
        "#内部結合\n",
        "df4 = pd.merge( df3, df2, how=\"inner\" ,on=\"date\")\n",
        "\n",
        "#日付データの形を変える\n",
        "df4[\"date\"] = pd.to_datetime(df4['date']).astype('int64')\n",
        "\n",
        "#変化率のグラフ\n",
        "df4.plot( y=[\"dif_log\"], figsize=(16,4), alpha=0.5)\n",
        "\n",
        "#ツイート数と変化率の関係\n",
        "df4.plot.scatter(x=[\"text\"], y=[\"dif_log\"])"
      ],
      "execution_count": 82,
      "outputs": [
        {
          "output_type": "execute_result",
          "data": {
            "text/plain": [
              "<matplotlib.axes._subplots.AxesSubplot at 0x7f92fcc3fe80>"
            ]
          },
          "metadata": {
            "tags": []
          },
          "execution_count": 82
        },
        {
          "output_type": "display_data",
          "data": {
            "image/png": "[encoded data removed]",
            "text/plain": [
              "<Figure size 1152x288 with 1 Axes>"
            ]
          },
          "metadata": {
            "tags": [],
            "needs_background": "light"
          }
        },
        {
          "output_type": "display_data",
          "data": {
            "image/png": "[encoded data removed]",
            "text/plain": [
              "<Figure size 432x288 with 1 Axes>"
            ]
          },
          "metadata": {
            "tags": [],
            "needs_background": "light"
          }
        }
      ]
    },
    {
      "cell_type": "code",
      "metadata": {
        "id": "LoiDgt9WfTFt",
        "colab_type": "code",
        "outputId": "9b5c32b2-4804-48ed-b0d9-78695eff6b7c",
        "colab": {
          "base_uri": "https://localhost:8080/",
          "height": 253
        }
      },
      "source": [
        "df4.head()"
      ],
      "execution_count": 83,
      "outputs": [
        {
          "output_type": "execute_result",
          "data": {
            "text/html": [
              "<div>\n",
              "<style scoped>\n",
              "    .dataframe tbody tr th:only-of-type {\n",
              "        vertical-align: middle;\n",
              "    }\n",
              "\n",
              "    .dataframe tbody tr th {\n",
              "        vertical-align: top;\n",
              "    }\n",
              "\n",
              "    .dataframe thead th {\n",
              "        text-align: right;\n",
              "    }\n",
              "</style>\n",
              "<table border=\"1\" class=\"dataframe\">\n",
              "  <thead>\n",
              "    <tr style=\"text-align: right;\">\n",
              "      <th></th>\n",
              "      <th>date</th>\n",
              "      <th>text</th>\n",
              "      <th>log</th>\n",
              "      <th>dif_log</th>\n",
              "      <th>price</th>\n",
              "      <th>0</th>\n",
              "      <th>1</th>\n",
              "      <th>2</th>\n",
              "      <th>3</th>\n",
              "      <th>4</th>\n",
              "      <th>5</th>\n",
              "      <th>6</th>\n",
              "      <th>7</th>\n",
              "      <th>8</th>\n",
              "      <th>9</th>\n",
              "      <th>10</th>\n",
              "      <th>11</th>\n",
              "      <th>12</th>\n",
              "      <th>13</th>\n",
              "      <th>14</th>\n",
              "      <th>15</th>\n",
              "      <th>16</th>\n",
              "      <th>17</th>\n",
              "      <th>18</th>\n",
              "      <th>19</th>\n",
              "      <th>20</th>\n",
              "      <th>21</th>\n",
              "      <th>22</th>\n",
              "      <th>23</th>\n",
              "      <th>24</th>\n",
              "      <th>25</th>\n",
              "      <th>26</th>\n",
              "      <th>27</th>\n",
              "      <th>28</th>\n",
              "      <th>29</th>\n",
              "      <th>30</th>\n",
              "      <th>31</th>\n",
              "      <th>32</th>\n",
              "      <th>33</th>\n",
              "      <th>34</th>\n",
              "      <th>...</th>\n",
              "      <th>260</th>\n",
              "      <th>261</th>\n",
              "      <th>262</th>\n",
              "      <th>263</th>\n",
              "      <th>264</th>\n",
              "      <th>265</th>\n",
              "      <th>266</th>\n",
              "      <th>267</th>\n",
              "      <th>268</th>\n",
              "      <th>269</th>\n",
              "      <th>270</th>\n",
              "      <th>271</th>\n",
              "      <th>272</th>\n",
              "      <th>273</th>\n",
              "      <th>274</th>\n",
              "      <th>275</th>\n",
              "      <th>276</th>\n",
              "      <th>277</th>\n",
              "      <th>278</th>\n",
              "      <th>279</th>\n",
              "      <th>280</th>\n",
              "      <th>281</th>\n",
              "      <th>282</th>\n",
              "      <th>283</th>\n",
              "      <th>284</th>\n",
              "      <th>285</th>\n",
              "      <th>286</th>\n",
              "      <th>287</th>\n",
              "      <th>288</th>\n",
              "      <th>289</th>\n",
              "      <th>290</th>\n",
              "      <th>291</th>\n",
              "      <th>292</th>\n",
              "      <th>293</th>\n",
              "      <th>294</th>\n",
              "      <th>295</th>\n",
              "      <th>296</th>\n",
              "      <th>297</th>\n",
              "      <th>298</th>\n",
              "      <th>299</th>\n",
              "    </tr>\n",
              "  </thead>\n",
              "  <tbody>\n",
              "    <tr>\n",
              "      <th>0</th>\n",
              "      <td>1484870400000000000</td>\n",
              "      <td>13</td>\n",
              "      <td>7.728112</td>\n",
              "      <td>0.003361</td>\n",
              "      <td>2271.31</td>\n",
              "      <td>0.000546</td>\n",
              "      <td>-0.044999</td>\n",
              "      <td>0.068471</td>\n",
              "      <td>0.028882</td>\n",
              "      <td>-0.069885</td>\n",
              "      <td>0.045650</td>\n",
              "      <td>-0.043258</td>\n",
              "      <td>-0.079405</td>\n",
              "      <td>-0.036079</td>\n",
              "      <td>-0.093855</td>\n",
              "      <td>-0.062666</td>\n",
              "      <td>-0.186671</td>\n",
              "      <td>-0.044477</td>\n",
              "      <td>-0.047839</td>\n",
              "      <td>0.029015</td>\n",
              "      <td>0.066317</td>\n",
              "      <td>-0.035076</td>\n",
              "      <td>-0.062422</td>\n",
              "      <td>0.069086</td>\n",
              "      <td>-0.112487</td>\n",
              "      <td>0.122733</td>\n",
              "      <td>-0.022302</td>\n",
              "      <td>0.095775</td>\n",
              "      <td>-0.027054</td>\n",
              "      <td>0.056701</td>\n",
              "      <td>-0.013516</td>\n",
              "      <td>0.067799</td>\n",
              "      <td>0.027702</td>\n",
              "      <td>-0.040308</td>\n",
              "      <td>-0.124262</td>\n",
              "      <td>-0.112200</td>\n",
              "      <td>0.043741</td>\n",
              "      <td>0.090648</td>\n",
              "      <td>-0.008098</td>\n",
              "      <td>-0.000192</td>\n",
              "      <td>...</td>\n",
              "      <td>0.106986</td>\n",
              "      <td>0.034372</td>\n",
              "      <td>-0.056739</td>\n",
              "      <td>-0.013641</td>\n",
              "      <td>0.053893</td>\n",
              "      <td>0.139047</td>\n",
              "      <td>0.038264</td>\n",
              "      <td>-0.018877</td>\n",
              "      <td>-0.072355</td>\n",
              "      <td>0.047046</td>\n",
              "      <td>0.034262</td>\n",
              "      <td>-0.055482</td>\n",
              "      <td>0.036818</td>\n",
              "      <td>-0.145844</td>\n",
              "      <td>0.129074</td>\n",
              "      <td>-0.073517</td>\n",
              "      <td>0.070404</td>\n",
              "      <td>0.036014</td>\n",
              "      <td>-0.092715</td>\n",
              "      <td>0.000259</td>\n",
              "      <td>0.090024</td>\n",
              "      <td>0.096985</td>\n",
              "      <td>0.066061</td>\n",
              "      <td>0.122409</td>\n",
              "      <td>0.046836</td>\n",
              "      <td>0.061506</td>\n",
              "      <td>-0.068614</td>\n",
              "      <td>-0.028470</td>\n",
              "      <td>-0.041007</td>\n",
              "      <td>0.029596</td>\n",
              "      <td>0.059314</td>\n",
              "      <td>-0.020388</td>\n",
              "      <td>-0.086448</td>\n",
              "      <td>-0.010749</td>\n",
              "      <td>-0.024672</td>\n",
              "      <td>0.074051</td>\n",
              "      <td>-0.003026</td>\n",
              "      <td>-0.007489</td>\n",
              "      <td>0.054441</td>\n",
              "      <td>-0.061478</td>\n",
              "    </tr>\n",
              "    <tr>\n",
              "      <th>1</th>\n",
              "      <td>1485129600000000000</td>\n",
              "      <td>1</td>\n",
              "      <td>7.725418</td>\n",
              "      <td>-0.002694</td>\n",
              "      <td>2265.20</td>\n",
              "      <td>-0.034046</td>\n",
              "      <td>-0.092864</td>\n",
              "      <td>0.075625</td>\n",
              "      <td>0.019257</td>\n",
              "      <td>-0.020845</td>\n",
              "      <td>0.025994</td>\n",
              "      <td>-0.027592</td>\n",
              "      <td>-0.057755</td>\n",
              "      <td>-0.002044</td>\n",
              "      <td>-0.100741</td>\n",
              "      <td>-0.053823</td>\n",
              "      <td>-0.174302</td>\n",
              "      <td>-0.042675</td>\n",
              "      <td>-0.074124</td>\n",
              "      <td>0.008842</td>\n",
              "      <td>0.118583</td>\n",
              "      <td>-0.061396</td>\n",
              "      <td>-0.065709</td>\n",
              "      <td>0.067882</td>\n",
              "      <td>-0.120617</td>\n",
              "      <td>0.083588</td>\n",
              "      <td>-0.017403</td>\n",
              "      <td>0.034660</td>\n",
              "      <td>-0.015321</td>\n",
              "      <td>0.052075</td>\n",
              "      <td>-0.046700</td>\n",
              "      <td>0.051806</td>\n",
              "      <td>0.073819</td>\n",
              "      <td>-0.051407</td>\n",
              "      <td>-0.159308</td>\n",
              "      <td>-0.148592</td>\n",
              "      <td>0.046759</td>\n",
              "      <td>0.068659</td>\n",
              "      <td>0.024965</td>\n",
              "      <td>0.015572</td>\n",
              "      <td>...</td>\n",
              "      <td>0.095894</td>\n",
              "      <td>0.022665</td>\n",
              "      <td>-0.071844</td>\n",
              "      <td>-0.010142</td>\n",
              "      <td>0.008751</td>\n",
              "      <td>0.154366</td>\n",
              "      <td>0.044266</td>\n",
              "      <td>-0.067188</td>\n",
              "      <td>-0.084893</td>\n",
              "      <td>0.008633</td>\n",
              "      <td>0.067750</td>\n",
              "      <td>-0.028555</td>\n",
              "      <td>0.019466</td>\n",
              "      <td>-0.163582</td>\n",
              "      <td>0.154375</td>\n",
              "      <td>-0.098016</td>\n",
              "      <td>0.037580</td>\n",
              "      <td>0.110733</td>\n",
              "      <td>-0.046069</td>\n",
              "      <td>0.031818</td>\n",
              "      <td>0.119956</td>\n",
              "      <td>0.077046</td>\n",
              "      <td>0.095241</td>\n",
              "      <td>0.061997</td>\n",
              "      <td>-0.008016</td>\n",
              "      <td>0.087303</td>\n",
              "      <td>-0.084160</td>\n",
              "      <td>-0.003580</td>\n",
              "      <td>-0.032495</td>\n",
              "      <td>0.047719</td>\n",
              "      <td>0.043356</td>\n",
              "      <td>-0.002805</td>\n",
              "      <td>-0.061645</td>\n",
              "      <td>0.030170</td>\n",
              "      <td>-0.081932</td>\n",
              "      <td>0.082250</td>\n",
              "      <td>-0.016020</td>\n",
              "      <td>-0.016747</td>\n",
              "      <td>0.069524</td>\n",
              "      <td>-0.038488</td>\n",
              "    </tr>\n",
              "    <tr>\n",
              "      <th>2</th>\n",
              "      <td>1485216000000000000</td>\n",
              "      <td>4</td>\n",
              "      <td>7.731961</td>\n",
              "      <td>0.006543</td>\n",
              "      <td>2280.07</td>\n",
              "      <td>-0.018207</td>\n",
              "      <td>-0.041048</td>\n",
              "      <td>0.057653</td>\n",
              "      <td>0.029536</td>\n",
              "      <td>-0.038836</td>\n",
              "      <td>0.033791</td>\n",
              "      <td>0.021704</td>\n",
              "      <td>-0.074883</td>\n",
              "      <td>0.013006</td>\n",
              "      <td>-0.064066</td>\n",
              "      <td>-0.064883</td>\n",
              "      <td>-0.160760</td>\n",
              "      <td>-0.027837</td>\n",
              "      <td>-0.055594</td>\n",
              "      <td>0.018520</td>\n",
              "      <td>0.078891</td>\n",
              "      <td>-0.033079</td>\n",
              "      <td>-0.062135</td>\n",
              "      <td>0.064382</td>\n",
              "      <td>-0.089872</td>\n",
              "      <td>0.068216</td>\n",
              "      <td>-0.022363</td>\n",
              "      <td>0.038568</td>\n",
              "      <td>-0.010388</td>\n",
              "      <td>0.027267</td>\n",
              "      <td>-0.012703</td>\n",
              "      <td>0.042583</td>\n",
              "      <td>0.038738</td>\n",
              "      <td>-0.048296</td>\n",
              "      <td>-0.102983</td>\n",
              "      <td>-0.122040</td>\n",
              "      <td>0.082713</td>\n",
              "      <td>0.073584</td>\n",
              "      <td>-0.005266</td>\n",
              "      <td>-0.014771</td>\n",
              "      <td>...</td>\n",
              "      <td>0.077048</td>\n",
              "      <td>0.018731</td>\n",
              "      <td>-0.059579</td>\n",
              "      <td>-0.030946</td>\n",
              "      <td>0.034049</td>\n",
              "      <td>0.134943</td>\n",
              "      <td>0.039751</td>\n",
              "      <td>-0.035640</td>\n",
              "      <td>-0.075905</td>\n",
              "      <td>0.026831</td>\n",
              "      <td>0.042061</td>\n",
              "      <td>-0.059875</td>\n",
              "      <td>-0.005910</td>\n",
              "      <td>-0.142676</td>\n",
              "      <td>0.097301</td>\n",
              "      <td>-0.052265</td>\n",
              "      <td>0.029742</td>\n",
              "      <td>0.063646</td>\n",
              "      <td>-0.029243</td>\n",
              "      <td>0.013675</td>\n",
              "      <td>0.121434</td>\n",
              "      <td>0.080188</td>\n",
              "      <td>0.087495</td>\n",
              "      <td>0.040099</td>\n",
              "      <td>-0.015461</td>\n",
              "      <td>0.079239</td>\n",
              "      <td>-0.093547</td>\n",
              "      <td>-0.044669</td>\n",
              "      <td>-0.029570</td>\n",
              "      <td>0.046300</td>\n",
              "      <td>0.040114</td>\n",
              "      <td>0.000886</td>\n",
              "      <td>-0.087935</td>\n",
              "      <td>0.032907</td>\n",
              "      <td>-0.044155</td>\n",
              "      <td>0.062053</td>\n",
              "      <td>-0.037376</td>\n",
              "      <td>-0.009665</td>\n",
              "      <td>0.040567</td>\n",
              "      <td>-0.024507</td>\n",
              "    </tr>\n",
              "    <tr>\n",
              "      <th>3</th>\n",
              "      <td>1485302400000000000</td>\n",
              "      <td>8</td>\n",
              "      <td>7.739955</td>\n",
              "      <td>0.007994</td>\n",
              "      <td>2298.37</td>\n",
              "      <td>-0.007331</td>\n",
              "      <td>-0.069055</td>\n",
              "      <td>0.070354</td>\n",
              "      <td>0.003372</td>\n",
              "      <td>-0.000443</td>\n",
              "      <td>0.020097</td>\n",
              "      <td>-0.062247</td>\n",
              "      <td>-0.004509</td>\n",
              "      <td>-0.032942</td>\n",
              "      <td>-0.093277</td>\n",
              "      <td>-0.060916</td>\n",
              "      <td>-0.122702</td>\n",
              "      <td>-0.070798</td>\n",
              "      <td>-0.085189</td>\n",
              "      <td>0.026581</td>\n",
              "      <td>0.096397</td>\n",
              "      <td>-0.004538</td>\n",
              "      <td>-0.062397</td>\n",
              "      <td>0.074158</td>\n",
              "      <td>-0.070648</td>\n",
              "      <td>0.088231</td>\n",
              "      <td>-0.015933</td>\n",
              "      <td>0.016506</td>\n",
              "      <td>0.013093</td>\n",
              "      <td>0.061280</td>\n",
              "      <td>-0.089884</td>\n",
              "      <td>0.051266</td>\n",
              "      <td>0.003233</td>\n",
              "      <td>-0.080296</td>\n",
              "      <td>-0.074928</td>\n",
              "      <td>-0.137247</td>\n",
              "      <td>0.034320</td>\n",
              "      <td>0.065365</td>\n",
              "      <td>-0.016882</td>\n",
              "      <td>0.005996</td>\n",
              "      <td>...</td>\n",
              "      <td>0.062595</td>\n",
              "      <td>0.051479</td>\n",
              "      <td>-0.043696</td>\n",
              "      <td>-0.029960</td>\n",
              "      <td>0.015381</td>\n",
              "      <td>0.129435</td>\n",
              "      <td>0.048735</td>\n",
              "      <td>-0.024894</td>\n",
              "      <td>-0.081844</td>\n",
              "      <td>-0.006064</td>\n",
              "      <td>0.029760</td>\n",
              "      <td>-0.022634</td>\n",
              "      <td>0.048794</td>\n",
              "      <td>-0.130531</td>\n",
              "      <td>0.153312</td>\n",
              "      <td>-0.030771</td>\n",
              "      <td>0.064764</td>\n",
              "      <td>0.079354</td>\n",
              "      <td>-0.076962</td>\n",
              "      <td>0.005705</td>\n",
              "      <td>0.119513</td>\n",
              "      <td>0.068252</td>\n",
              "      <td>0.050312</td>\n",
              "      <td>0.072986</td>\n",
              "      <td>0.012318</td>\n",
              "      <td>0.105102</td>\n",
              "      <td>-0.082077</td>\n",
              "      <td>0.010556</td>\n",
              "      <td>-0.005239</td>\n",
              "      <td>0.062282</td>\n",
              "      <td>0.005836</td>\n",
              "      <td>0.001689</td>\n",
              "      <td>-0.055859</td>\n",
              "      <td>0.007183</td>\n",
              "      <td>-0.024639</td>\n",
              "      <td>0.024308</td>\n",
              "      <td>0.006423</td>\n",
              "      <td>0.009153</td>\n",
              "      <td>0.070973</td>\n",
              "      <td>-0.025010</td>\n",
              "    </tr>\n",
              "    <tr>\n",
              "      <th>4</th>\n",
              "      <td>1485388800000000000</td>\n",
              "      <td>11</td>\n",
              "      <td>7.739220</td>\n",
              "      <td>-0.000736</td>\n",
              "      <td>2296.68</td>\n",
              "      <td>-0.015653</td>\n",
              "      <td>-0.068004</td>\n",
              "      <td>0.065578</td>\n",
              "      <td>0.002516</td>\n",
              "      <td>-0.006994</td>\n",
              "      <td>0.029650</td>\n",
              "      <td>-0.054437</td>\n",
              "      <td>-0.034510</td>\n",
              "      <td>-0.028219</td>\n",
              "      <td>-0.088874</td>\n",
              "      <td>-0.056065</td>\n",
              "      <td>-0.144318</td>\n",
              "      <td>-0.064640</td>\n",
              "      <td>-0.068163</td>\n",
              "      <td>0.047103</td>\n",
              "      <td>0.075032</td>\n",
              "      <td>-0.020870</td>\n",
              "      <td>-0.058373</td>\n",
              "      <td>0.072300</td>\n",
              "      <td>-0.084754</td>\n",
              "      <td>0.084921</td>\n",
              "      <td>-0.024628</td>\n",
              "      <td>0.028472</td>\n",
              "      <td>0.018023</td>\n",
              "      <td>0.034086</td>\n",
              "      <td>-0.063774</td>\n",
              "      <td>0.030033</td>\n",
              "      <td>0.028711</td>\n",
              "      <td>-0.049752</td>\n",
              "      <td>-0.078231</td>\n",
              "      <td>-0.125496</td>\n",
              "      <td>0.048926</td>\n",
              "      <td>0.071287</td>\n",
              "      <td>-0.013627</td>\n",
              "      <td>-0.006984</td>\n",
              "      <td>...</td>\n",
              "      <td>0.074222</td>\n",
              "      <td>0.046128</td>\n",
              "      <td>-0.061603</td>\n",
              "      <td>-0.016684</td>\n",
              "      <td>0.022458</td>\n",
              "      <td>0.132555</td>\n",
              "      <td>0.039021</td>\n",
              "      <td>-0.030395</td>\n",
              "      <td>-0.069669</td>\n",
              "      <td>0.007528</td>\n",
              "      <td>0.047147</td>\n",
              "      <td>-0.039827</td>\n",
              "      <td>0.032216</td>\n",
              "      <td>-0.136065</td>\n",
              "      <td>0.126840</td>\n",
              "      <td>-0.059988</td>\n",
              "      <td>0.049548</td>\n",
              "      <td>0.064350</td>\n",
              "      <td>-0.066714</td>\n",
              "      <td>-0.002100</td>\n",
              "      <td>0.109228</td>\n",
              "      <td>0.080785</td>\n",
              "      <td>0.051426</td>\n",
              "      <td>0.086579</td>\n",
              "      <td>0.029987</td>\n",
              "      <td>0.076079</td>\n",
              "      <td>-0.078694</td>\n",
              "      <td>-0.015210</td>\n",
              "      <td>-0.015334</td>\n",
              "      <td>0.054156</td>\n",
              "      <td>0.032441</td>\n",
              "      <td>-0.009885</td>\n",
              "      <td>-0.058007</td>\n",
              "      <td>0.006760</td>\n",
              "      <td>-0.019434</td>\n",
              "      <td>0.033755</td>\n",
              "      <td>-0.012585</td>\n",
              "      <td>-0.017182</td>\n",
              "      <td>0.065332</td>\n",
              "      <td>-0.020529</td>\n",
              "    </tr>\n",
              "  </tbody>\n",
              "</table>\n",
              "<p>5 rows × 305 columns</p>\n",
              "</div>"
            ],
            "text/plain": [
              "                  date  text       log  ...       297       298       299\n",
              "0  1484870400000000000    13  7.728112  ... -0.007489  0.054441 -0.061478\n",
              "1  1485129600000000000     1  7.725418  ... -0.016747  0.069524 -0.038488\n",
              "2  1485216000000000000     4  7.731961  ... -0.009665  0.040567 -0.024507\n",
              "3  1485302400000000000     8  7.739955  ...  0.009153  0.070973 -0.025010\n",
              "4  1485388800000000000    11  7.739220  ... -0.017182  0.065332 -0.020529\n",
              "\n",
              "[5 rows x 305 columns]"
            ]
          },
          "metadata": {
            "tags": []
          },
          "execution_count": 83
        }
      ]
    },
    {
      "cell_type": "code",
      "metadata": {
        "id": "n7AswbGKfTFw",
        "colab_type": "code",
        "colab": {}
      },
      "source": [
        "#特徴量とターゲットを決める\n",
        "from sklearn.model_selection import train_test_split\n",
        "\n",
        "target_col = 'dif_log'\n",
        "exclude_cols = ['log', 'price', 'dif_log', \"date\",\"text\"]\n",
        "feature_cols = []\n",
        "for col in df4.columns:\n",
        "    if col not in exclude_cols:\n",
        "        feature_cols.append(col)\n",
        "        \n",
        "X = np.array(df4[feature_cols])\n",
        "y = np.array(df4[target_col])"
      ],
      "execution_count": 0,
      "outputs": []
    },
    {
      "cell_type": "code",
      "metadata": {
        "id": "20189zR5fTF0",
        "colab_type": "code",
        "outputId": "ee002d03-113a-4e25-e77f-072a2d3ecc7c",
        "colab": {
          "base_uri": "https://localhost:8080/",
          "height": 85
        }
      },
      "source": [
        "X_train_val, X_test, y_train_val, y_test = train_test_split(\n",
        "    X, y, test_size=0.1, random_state=1234)\n",
        "\n",
        "print('X_train_val Features Shape: ', X_train_val.shape)\n",
        "print('y_train_val Target Shape: ', y_train_val.shape)\n",
        "print('X_test Features Shape: ', X_test.shape)\n",
        "print('y_test Target Shape: ', y_test.shape)"
      ],
      "execution_count": 85,
      "outputs": [
        {
          "output_type": "stream",
          "text": [
            "X_train_val Features Shape:  (739, 300)\n",
            "y_train_val Target Shape:  (739,)\n",
            "X_test Features Shape:  (83, 300)\n",
            "y_test Target Shape:  (83,)\n"
          ],
          "name": "stdout"
        }
      ]
    },
    {
      "cell_type": "code",
      "metadata": {
        "id": "mW7aRfLifTF3",
        "colab_type": "code",
        "outputId": "0c141feb-be52-4972-c176-25717992a04b",
        "colab": {
          "base_uri": "https://localhost:8080/",
          "height": 85
        }
      },
      "source": [
        "X_train, X_val, y_train, y_val = train_test_split(\n",
        "    X_train_val, y_train_val, test_size=0.1, random_state=1234)\n",
        "\n",
        "# 参考：分割後のデータ数を確認\n",
        "print('X_train Features Shape: ', X_train.shape)\n",
        "print('y_train Target Shape: ', y_train.shape)\n",
        "print('X_val Features Shape: ', X_val.shape)\n",
        "print('y_val Target Shape: ', y_val.shape)"
      ],
      "execution_count": 86,
      "outputs": [
        {
          "output_type": "stream",
          "text": [
            "X_train Features Shape:  (665, 300)\n",
            "y_train Target Shape:  (665,)\n",
            "X_val Features Shape:  (74, 300)\n",
            "y_val Target Shape:  (74,)\n"
          ],
          "name": "stdout"
        }
      ]
    },
    {
      "cell_type": "code",
      "metadata": {
        "id": "AMGJVo-zfTF6",
        "colab_type": "code",
        "colab": {}
      },
      "source": [
        "#分析用のライブラリ\n",
        "\n",
        "from collections import Counter\n",
        "from sklearn.linear_model import LogisticRegression\n",
        "from sklearn.metrics import confusion_matrix, accuracy_score, classification_report\n",
        "from sklearn.linear_model import LinearRegression  # 線形回帰モデルのライブラリ\n",
        "from sklearn.metrics import mean_squared_error  # MSEのライブラリ\n",
        "from sklearn.ensemble import RandomForestRegressor"
      ],
      "execution_count": 0,
      "outputs": []
    },
    {
      "cell_type": "code",
      "metadata": {
        "id": "_7Ucu_2FfTF_",
        "colab_type": "code",
        "outputId": "84483d23-2bc5-4881-e8a9-9cb56a4b22cb",
        "colab": {
          "base_uri": "https://localhost:8080/",
          "height": 34
        }
      },
      "source": [
        "#分析1 線形回帰\n",
        "\n",
        "from sklearn.linear_model import LinearRegression  # 線形回帰モデルのライブラリ\n",
        "from sklearn.metrics import mean_squared_error  # MSEのライブラリ\n",
        "\n",
        "lm = LinearRegression()\n",
        "lm.fit(X_train, y_train)\n",
        "y_pred = lm.predict(X_val)\n",
        "lm_mse = mean_squared_error(y_val, y_pred)\n",
        "print('LinerRegression RMSE: ', round(np.sqrt(lm_mse), 3))"
      ],
      "execution_count": 88,
      "outputs": [
        {
          "output_type": "stream",
          "text": [
            "LinerRegression RMSE:  0.019\n"
          ],
          "name": "stdout"
        }
      ]
    },
    {
      "cell_type": "code",
      "metadata": {
        "id": "yP6pY8SpfTGB",
        "colab_type": "code",
        "outputId": "f49d2446-9a99-4c9f-aec9-05a6e0a92767",
        "colab": {
          "base_uri": "https://localhost:8080/",
          "height": 34
        }
      },
      "source": [
        "#分析2 決定木\n",
        "\n",
        "from sklearn.tree import DecisionTreeRegressor\n",
        "\n",
        "dt = DecisionTreeRegressor(random_state=1234)\n",
        "dt.fit(X_train, y_train)\n",
        "y_pred = dt.predict(X_val)\n",
        "dt_mse = mean_squared_error(y_val, y_pred)\n",
        "print('DecisionTreeRegressor RMSE: ', round(np.sqrt(dt_mse), 3))"
      ],
      "execution_count": 89,
      "outputs": [
        {
          "output_type": "stream",
          "text": [
            "DecisionTreeRegressor RMSE:  0.02\n"
          ],
          "name": "stdout"
        }
      ]
    },
    {
      "cell_type": "code",
      "metadata": {
        "id": "TAO7GAT8fTGE",
        "colab_type": "code",
        "outputId": "c609e138-5c99-4900-beea-cf4651ec22ce",
        "colab": {
          "base_uri": "https://localhost:8080/",
          "height": 34
        }
      },
      "source": [
        "#分析3 ランダムフォレスト\n",
        "\n",
        "from sklearn.ensemble import RandomForestRegressor\n",
        "\n",
        "rf = RandomForestRegressor(n_estimators=100, random_state=1234)\n",
        "rf.fit(X_train, y_train)\n",
        "y_pred = rf.predict(X_val)\n",
        "rf_mse = mean_squared_error(y_val, y_pred)\n",
        "print('RandomForestRegressor RMSE: ', round(np.sqrt(rf_mse), 3))"
      ],
      "execution_count": 90,
      "outputs": [
        {
          "output_type": "stream",
          "text": [
            "RandomForestRegressor RMSE:  0.013\n"
          ],
          "name": "stdout"
        }
      ]
    },
    {
      "cell_type": "code",
      "metadata": {
        "id": "8iYWdBRkfTGH",
        "colab_type": "code",
        "outputId": "d5935bee-9a0d-43bd-ec41-69363413b8b2",
        "colab": {
          "base_uri": "https://localhost:8080/",
          "height": 282
        }
      },
      "source": [
        "#分析3 ランダムフォレストの特徴量\n",
        "\n",
        "rf_importances = pd.DataFrame(rf.feature_importances_, columns=['importance'], index=feature_cols)\n",
        "rf_importances.sort_values('importance', ascending=False).iloc[0:15].plot(kind='barh')"
      ],
      "execution_count": 91,
      "outputs": [
        {
          "output_type": "execute_result",
          "data": {
            "text/plain": [
              "<matplotlib.axes._subplots.AxesSubplot at 0x7f92fdcde320>"
            ]
          },
          "metadata": {
            "tags": []
          },
          "execution_count": 91
        },
        {
          "output_type": "display_data",
          "data": {
            "image/png": "[encoded data removed]",
            "text/plain": [
              "<Figure size 432x288 with 1 Axes>"
            ]
          },
          "metadata": {
            "tags": [],
            "needs_background": "light"
          }
        }
      ]
    },
    {
      "cell_type": "code",
      "metadata": {
        "id": "_FrzHo3CfTGK",
        "colab_type": "code",
        "outputId": "9bb64e24-939c-49ef-9313-a76eda60d461",
        "colab": {
          "base_uri": "https://localhost:8080/",
          "height": 68
        }
      },
      "source": [
        "#４つの分析の結果の比較\n",
        "\n",
        "print('線形回帰モデルのRMSE:    ', round(np.sqrt(lm_mse), 3))\n",
        "print('回帰木のRMSE:                  ', round(np.sqrt(dt_mse), 3))\n",
        "print('ランダムフォレストのRMSE: ', round(np.sqrt(rf_mse), 3))"
      ],
      "execution_count": 92,
      "outputs": [
        {
          "output_type": "stream",
          "text": [
            "線形回帰モデルのRMSE:     0.019\n",
            "回帰木のRMSE:                   0.02\n",
            "ランダムフォレストのRMSE:  0.013\n"
          ],
          "name": "stdout"
        }
      ]
    },
    {
      "cell_type": "code",
      "metadata": {
        "id": "6nAtZEWZfTGO",
        "colab_type": "code",
        "outputId": "76ed9425-c513-47c8-928c-98410a89551c",
        "colab": {
          "base_uri": "https://localhost:8080/",
          "height": 85
        }
      },
      "source": [
        "#分析4 ランダムフォレストのチューニング\n",
        "\n",
        "# クロスバリデーションとグリッドサーチ のライブラリ\n",
        "from sklearn.model_selection import GridSearchCV\n",
        "\n",
        "rf = RandomForestRegressor(random_state=1234)\n",
        "\n",
        "params = {'n_estimators': [10, 25, 50, 100], 'max_depth': [10, 20, 30, 50]}\n",
        "gscv = GridSearchCV(rf, param_grid=params, verbose=1, cv=3,\n",
        "                    scoring='neg_mean_squared_error', n_jobs=-1)\n",
        "gscv.fit(X_train, y_train)\n",
        "\n",
        "gscv.best_params_"
      ],
      "execution_count": 93,
      "outputs": [
        {
          "output_type": "stream",
          "text": [
            "Fitting 3 folds for each of 16 candidates, totalling 48 fits\n"
          ],
          "name": "stdout"
        },
        {
          "output_type": "stream",
          "text": [
            "[Parallel(n_jobs=-1)]: Using backend LokyBackend with 2 concurrent workers.\n",
            "[Parallel(n_jobs=-1)]: Done  48 out of  48 | elapsed:  2.2min finished\n"
          ],
          "name": "stderr"
        },
        {
          "output_type": "execute_result",
          "data": {
            "text/plain": [
              "{'max_depth': 10, 'n_estimators': 100}"
            ]
          },
          "metadata": {
            "tags": []
          },
          "execution_count": 93
        }
      ]
    },
    {
      "cell_type": "code",
      "metadata": {
        "id": "TAcxNPOffTGR",
        "colab_type": "code",
        "outputId": "5c2e8613-fde5-47a3-ceda-3ae49cce3d3c",
        "colab": {
          "base_uri": "https://localhost:8080/",
          "height": 34
        }
      },
      "source": [
        "#分析4 ランダムフォレストのチューニング\n",
        "best_estimators = gscv.best_params_[\"n_estimators\"]\n",
        "best_depth = gscv.best_params_[\"max_depth\"]\n",
        "\n",
        "rf_best = RandomForestRegressor(n_estimators=best_estimators, max_depth=best_depth, random_state=1234)\n",
        "rf_best.fit(X_train, y_train)\n",
        "y_pred = rf_best.predict(X_val)\n",
        "rf_best_mse = mean_squared_error(y_val, y_pred)\n",
        "print('RandomForest RMSE: ', round(np.sqrt(rf_best_mse), 3))"
      ],
      "execution_count": 94,
      "outputs": [
        {
          "output_type": "stream",
          "text": [
            "RandomForest RMSE:  0.013\n"
          ],
          "name": "stdout"
        }
      ]
    },
    {
      "cell_type": "code",
      "metadata": {
        "id": "43P-uNhxfTGU",
        "colab_type": "code",
        "outputId": "9a6cfdf1-8b81-4a69-8484-659d69e54998",
        "colab": {
          "base_uri": "https://localhost:8080/",
          "height": 34
        }
      },
      "source": [
        "#分析5 チューニングしたモデルにテストデータを代入\n",
        "\n",
        "y_pred_on_test = rf_best.predict(X_test)\n",
        "rf_best_test_mse = mean_squared_error(y_test, y_pred_on_test)\n",
        "print('RandomForest RMSE: ', round(np.sqrt(rf_best_test_mse), 3))"
      ],
      "execution_count": 95,
      "outputs": [
        {
          "output_type": "stream",
          "text": [
            "RandomForest RMSE:  0.012\n"
          ],
          "name": "stdout"
        }
      ]
    },
    {
      "cell_type": "code",
      "metadata": {
        "id": "OXUicVllfTGc",
        "colab_type": "code",
        "outputId": "45458154-f5de-425f-ade9-5ce45142dbf3",
        "colab": {
          "base_uri": "https://localhost:8080/",
          "height": 564
        }
      },
      "source": [
        "#分析5 テストデータを代入\n",
        "#誤差を可視化\n",
        "\n",
        "plt.scatter(y_test, y_pred_on_test)\n",
        "plt.show()\n",
        "\n",
        "import seaborn as sns\n",
        "\n",
        "error_rate = (y_test - y_pred_on_test) / y_test\n",
        "print('Mean: ', round(np.mean(error_rate), 5))\n",
        "print('Std: ', round(np.std(error_rate), 5))\n",
        "sns.distplot(error_rate, kde=False, rug=False, bins=20)"
      ],
      "execution_count": 96,
      "outputs": [
        {
          "output_type": "display_data",
          "data": {
            "image/png": "[encoded data removed]",
            "text/plain": [
              "<Figure size 432x288 with 1 Axes>"
            ]
          },
          "metadata": {
            "tags": [],
            "needs_background": "light"
          }
        },
        {
          "output_type": "stream",
          "text": [
            "Mean:  0.65195\n",
            "Std:  3.9578\n"
          ],
          "name": "stdout"
        },
        {
          "output_type": "execute_result",
          "data": {
            "text/plain": [
              "<matplotlib.axes._subplots.AxesSubplot at 0x7f92fcb309e8>"
            ]
          },
          "metadata": {
            "tags": []
          },
          "execution_count": 96
        },
        {
          "output_type": "display_data",
          "data": {
            "image/png": "[encoded data removed]",
            "text/plain": [
              "<Figure size 432x288 with 1 Axes>"
            ]
          },
          "metadata": {
            "tags": [],
            "needs_background": "light"
          }
        }
      ]
    },
    {
      "cell_type": "code",
      "metadata": {
        "id": "sGW47_XkfTGi",
        "colab_type": "code",
        "outputId": "ee381442-59b8-4a10-ead1-b6d823e34f51",
        "colab": {
          "base_uri": "https://localhost:8080/",
          "height": 581
        }
      },
      "source": [
        "#分析6 クラスタリング\n",
        "#https://hironsan.hatenablog.com/entry/clustering-word-vectors\n",
        "\n",
        "from collections import defaultdict\n",
        "from gensim.models.keyedvectors import KeyedVectors\n",
        "from sklearn.cluster import KMeans\n",
        "\n",
        "model = KeyedVectors.load('skipgram_w2v.model')\n",
        "max_vocab = 30000\n",
        "vocab = list(model.wv.vocab.keys())[:max_vocab]\n",
        "vectors = [model.wv[word] for word in vocab]\n",
        "\n",
        "n_clusters = 30\n",
        "kmeans_model = KMeans(n_clusters=n_clusters, verbose=1, random_state=1234, n_jobs=-1)\n",
        "kmeans_model.fit(vectors)\n",
        "\n",
        "cluster_labels = kmeans_model.labels_\n",
        "cluster_to_words = defaultdict(list)\n",
        "for cluster_id, word in zip(cluster_labels, vocab):\n",
        "    cluster_to_words[cluster_id].append(word)\n",
        "\n",
        "for words in cluster_to_words.values():\n",
        "    print(words[:10])"
      ],
      "execution_count": 97,
      "outputs": [
        {
          "output_type": "stream",
          "text": [
            "/usr/local/lib/python3.6/dist-packages/smart_open/smart_open_lib.py:253: UserWarning: This function is deprecated, use smart_open.open instead. See the migration notes for details: https://github.com/RaRe-Technologies/smart_open/blob/master/README.rst#migrating-to-the-new-open-function\n",
            "  'See the migration notes for details: %s' % _MIGRATION_NOTES_URL\n"
          ],
          "name": "stderr"
        },
        {
          "output_type": "stream",
          "text": [
            "['trump', 'show', 'special', 'deep', 'swamp', 'general', 'interview', 'marthamaccallum', 'mccarthy', 'wow']\n",
            "['gets', 'fire', 'ny', 'pandemic', 'hughhewitt', 'direction', 'strategy', 'significant', 'shocking', 'quite']\n",
            "['latest', 'president', 'realdonaldtrump', 'mikepence', 'defense', 'first', 'response', 'w', 'team', 'teachers']\n",
            "['poll', 'best', 'one', 'point', 'history', 'corruption', 'yet', 'election', '2016', 'still']\n",
            "['approval', 'trillion', 'since', 'economic', 'highest', 'economy', 'numbers', 'low', 'unemployment', 'enthusiasm']\n",
            "['6', '7', 'teamtrump', 'days', 'gopchairwoman', 'new', 'office', 'million', 'announced', 'levels']\n",
            "['tied', 'called', 'using', '”', 'gave', 'cop', 'seems', 'bucksexton', 'responsible', 'knew']\n",
            "['governor', 'michigan', 'night', 'great', 'supporters', 'vote', 'opponent', 'mike', 'wisconsin', 'jersey']\n",
            "['give', 'want', 'cryin', 'chuck', 'schumer', 'senators', 'run', 'voted', 'need', 'congress']\n",
            "['little', 'good', 'people', 'back', 'make', 'amp', 'late', 'done', 'ventilators', 'making']\n",
            "['put', 'given', 'others', 'enough', 'would', 'else', 'spent', '8', 'something', 'ultimately']\n",
            "['angry', 'brought', 'dirty', 'whole', 'case', 'cops', 'mueller', 'crooked', 'scam', 'russia']\n",
            "['lives', 'americas', 'nation', 'freedom', 'covid', 'attack', 'birthday', 'roundtable', 'grateful', 'law']\n",
            "['see', 'talk', 'totally', 'loser', 'thing', 'never', 'even', 'wonder', 'cuomo', '’']\n",
            "['deal', 'dollars', '25', 'pay', 'goods', 'paying', 'powell', 'higher', 'countries', 'federal']\n",
            "['home', 'states', 'middle', 'gm', 'production', 'supply', 'rest', 'us', 'financial', 'assistance']\n",
            "['stop', 'border', 'allow', 'necessary', 'must', 'immigration', 'human', 'agents', 'built', 'build']\n",
            "['stand', 'leadership', 'america', 'americans', 'every', 'day', 'message', '—', 'chuckgrassley', 'fight']\n",
            "['false', 'media', 'fake', 'news', 'cnn', 'msdnc', 'story', 'post', 'corrupt', 'bias']\n",
            "['testing', 'chinese', 'may', 'war', 'treated', 'fairly', 'along', 'test', 'sanctions', 'putin']\n",
            "['job', 'careful', 'navy', 'incredible', 'officials', 'closely', 'supporting', 'wonderful', 'advice', 'loved']\n",
            "['lied', 'fusion', 'fbi', 'investigation', 'james', 'documents', 'director', 'christopher', 'wray', 'transcript']\n",
            "['east', 'met', 'morning', 'meeting', 'white', 'discussing', 'seeing', 'republic', 'spoke', 'friend']\n",
            "['authority', 'rep', 'jimjordan', 'speaker', 'refuses', 'house', 'th', 'elisestefanik', 'repandybiggsaz', 'gopleader']\n",
            "['act', 'ensure', 'protecting', 'funding', 'plan', 'critical', 'care', 'communities', 'emergency', 'citizens']\n",
            "['farmers', 'ranchers', 'cut', 'small', 'business', 'tax', 'plants', 'infrastructure', 'strongest', 'price']\n",
            "['honor', 'whitehouse', 'live', 'potus', 'delivers', 'remarks', 'vp', 'oval', '🚨', '45']\n",
            "['\\u2066', '\\u2069', '2020', 'iowa', 'thank', 'tonight', 'laraleatrump', 'erictrump', '🇺', '🇸']\n",
            "['military', 'vets', 'fighter', 'tom', 'supports', 'loves', 'strong', 'crime', 'second', 'amendment']\n",
            "['ं', 'ी', 'क', 'े', '्', 'र', 'ा', 'ि', 'म', 'ह']\n"
          ],
          "name": "stdout"
        }
      ]
    },
    {
      "cell_type": "code",
      "metadata": {
        "id": "Fu0b2E73mdhz",
        "colab_type": "code",
        "outputId": "d849b58a-3b37-47b6-9c4a-544a861bd395",
        "colab": {
          "base_uri": "https://localhost:8080/",
          "height": 353
        }
      },
      "source": [
        "#分析7 似ている単語をプロット\n",
        "# https://yoshipc.net/python-word2vec/\n",
        " \n",
        "from gensim.models import word2vec\n",
        "import numpy as np\n",
        "import matplotlib.pyplot as plt\n",
        "from sklearn.decomposition import PCA\n",
        " \n",
        "model = word2vec.Word2Vec.load(\"/content/skipgram_w2v.model\")\n",
        " \n",
        "#調べる情報を配列に収納\n",
        "trump_word = []\n",
        "trump_word.append([\"america\",\"china\"])\n",
        "trump_word.append([\"america\",\"great\"])\n",
        "trump_word.append([\"america\",\"japan\"])\n",
        "trump_word.append([\"trump\",\"president\"])\n",
        "trump_word.append([\"coronavirus\",\"covid\"])\n",
        "trump_word.append([\"coronavirus\",\"economy\"])\n",
        "trump_word.append([\"stock\",\"economy\"])\n",
        "\n",
        "length = len(trump_word)\n",
        "data = []\n",
        " \n",
        "j = 0\n",
        "while j < length:\n",
        "    #print(trump_word[j][1])\n",
        "    data.append(model[trump_word[j][0]])\n",
        "    data.append(model[trump_word[j][1]])\n",
        "    j += 1\n",
        " \n",
        "pca = PCA(n_components=2)\n",
        "pca.fit(data)\n",
        "data_pca= pca.transform(data)\n",
        " \n",
        "length_data = len(data_pca)\n",
        " \n",
        "i = 0\n",
        "j = 0\n",
        "while i < length_data:\n",
        "    #点プロット\n",
        "    plt.plot(data_pca[i][0], data_pca[i][1], ms=5.0, zorder=2 ,marker=\"x\")\n",
        "    plt.plot(data_pca[i+1][0], data_pca[i+1][1],ms=5.0, zorder=2 ,marker=\"x\")\n",
        " \n",
        "    #線プロット\n",
        "    plt.plot((data_pca[i][0], data_pca[i+1][0]),(data_pca[i][1],data_pca[i+1][1]),c=\"b\",linewidth=0.5,zorder=1,linestyle=\"--\")\n",
        " \n",
        "    #文字プロット\n",
        "    plt.annotate(trump_word[j][0],(data_pca[i][0], data_pca[i][1]),size=7)\n",
        "    plt.annotate(trump_word[j][1],(data_pca[i+1][0], data_pca[i+1][1]),size=7)\n",
        " \n",
        "    j += 1\n",
        "    i += 2\n",
        " \n",
        "plt.show()"
      ],
      "execution_count": 98,
      "outputs": [
        {
          "output_type": "stream",
          "text": [
            "/usr/local/lib/python3.6/dist-packages/smart_open/smart_open_lib.py:253: UserWarning: This function is deprecated, use smart_open.open instead. See the migration notes for details: https://github.com/RaRe-Technologies/smart_open/blob/master/README.rst#migrating-to-the-new-open-function\n",
            "  'See the migration notes for details: %s' % _MIGRATION_NOTES_URL\n",
            "/usr/local/lib/python3.6/dist-packages/ipykernel_launcher.py:27: DeprecationWarning: Call to deprecated `__getitem__` (Method will be removed in 4.0.0, use self.wv.__getitem__() instead).\n",
            "/usr/local/lib/python3.6/dist-packages/ipykernel_launcher.py:28: DeprecationWarning: Call to deprecated `__getitem__` (Method will be removed in 4.0.0, use self.wv.__getitem__() instead).\n"
          ],
          "name": "stderr"
        },
        {
          "output_type": "display_data",
          "data": {
            "image/png": "[encoded data removed]",
            "text/plain": [
              "<Figure size 432x288 with 1 Axes>"
            ]
          },
          "metadata": {
            "tags": [],
            "needs_background": "light"
          }
        }
      ]
    },
    {
      "cell_type": "code",
      "metadata": {
        "id": "zXq4SYqwp5Xu",
        "colab_type": "code",
        "colab": {}
      },
      "source": [
        "#分析8 DeepLearning\n",
        "#ライブラリをインポート\n",
        "\n",
        "import numpy as np\n",
        "import pandas as pd\n",
        "import torch\n",
        "from torch import nn\n",
        "from torch import optim\n",
        "import torch.nn.functional as F\n",
        "from torch.utils.data import DataLoader, TensorDataset\n",
        "from sklearn.model_selection import train_test_split\n",
        "from sklearn.metrics import confusion_matrix\n",
        "import matplotlib.pyplot as plt"
      ],
      "execution_count": 0,
      "outputs": []
    },
    {
      "cell_type": "code",
      "metadata": {
        "id": "4uecjMVBTBij",
        "colab_type": "code",
        "colab": {}
      },
      "source": [
        "class myMLP(nn.Module):\n",
        "    def __init__(self, in_features, out_features):\n",
        "        super().__init__()\n",
        "        self.ln1 = nn.Linear(in_features, 256)\n",
        "        self.ln2 = nn.Linear(256, 128)\n",
        "        self.ln3 = nn.Linear(128, 32)\n",
        "        self.ln4 = nn.Linear(32, 64)\n",
        "        self.ln5 = nn.Linear(64, 32)\n",
        "        self.ln6 = nn.Linear(32, 4)\n",
        "        self.ln7 = nn.Linear(4, out_features)\n",
        "\n",
        "    def forward(self, x):\n",
        "        x = self.ln1(x)\n",
        "        x = F.relu(x)\n",
        "        x = self.ln2(x)\n",
        "        x = F.relu(x)\n",
        "        x = self.ln3(x)\n",
        "        x = F.relu(x)\n",
        "        x = self.ln4(x)\n",
        "        x = F.relu(x)\n",
        "        x = self.ln5(x)\n",
        "        x = F.relu(x)\n",
        "        x = self.ln6(x)\n",
        "        x = F.relu(x)\n",
        "        x = self.ln7(x)\n",
        "        return x"
      ],
      "execution_count": 0,
      "outputs": []
    },
    {
      "cell_type": "code",
      "metadata": {
        "id": "_qwTPkn83jED",
        "colab_type": "code",
        "outputId": "1541add4-4f29-497b-c303-acc7b8b7997c",
        "colab": {
          "base_uri": "https://localhost:8080/",
          "height": 404
        }
      },
      "source": [
        "#分析8 DeepLearning\n",
        "# NumPyのarryをtorch.tensor型に変換する。\n",
        "\n",
        "X_train, X_test, y_train, y_test = train_test_split(\n",
        "    X, y, test_size=0.2, random_state=1234)\n",
        "\n",
        "X_train_tensor = torch.tensor(X_train, dtype=torch.float32)\n",
        "y_train_tensor = torch.tensor(y_train, dtype=torch.float32)\n",
        "X_test_tensor = torch.tensor(X_test, dtype=torch.float32)\n",
        "y_test_tensor = torch.tensor(y_test, dtype=torch.float32)\n",
        "\n",
        "train_dataset = TensorDataset(X_train_tensor, y_train_tensor)\n",
        "train_loader = DataLoader(train_dataset, batch_size=100, shuffle=True)\n",
        "\n",
        "#ネットワークを書く\n",
        "net = myMLP(300,1)\n",
        "net.parameters\n",
        "\n",
        "#目的関数を指定（今回は回帰問題のためMSELoss()を使用する）\n",
        "#https://pytorch.org/docs/stable/nn.html#loss-functions\n",
        "loss_func = nn.MSELoss()\n",
        "#Optimizerを定義する\n",
        "#https://pytorch.org/docs/stable/optim.html\n",
        "optimizer = optim.RMSprop(net.parameters())\n",
        "  \n",
        "train_loss_track = []\n",
        "test_loss_track = []\n",
        "\n",
        "for epoc in range(10):\n",
        "    running_loss = 0\n",
        "    \n",
        "    # 学習モード\n",
        "    net.train()\n",
        "    for step, (xx, yy)  in enumerate(train_loader):\n",
        "        \n",
        "        # 最後に計算した各パラメーターの勾配を初期化する\n",
        "        optimizer.zero_grad()\n",
        "        \n",
        "        # フォワード計算を行う\n",
        "        y_pred = net(xx).float()\n",
        "        \n",
        "        # 誤差関数を使ってギャップの計測\n",
        "        loss = loss_func(y_pred, yy)\n",
        "      \n",
        "        # 誤差逆伝播法を使って自動微分\n",
        "        loss.backward()\n",
        "        \n",
        "        # パラメーターを更新\n",
        "        optimizer.step()\n",
        "        \n",
        "        # 学習データを使って誤差を計算\n",
        "        running_loss += loss.item()\n",
        "        \n",
        "    # エポックが終了したら平均誤差を計算\n",
        "    train_loss_track.append(running_loss/step)\n",
        "    \n",
        "    \n",
        "    #評価（evaluation）モード\n",
        "    net.eval()\n",
        "    \n",
        "    # 予測値を計算\n",
        "    y_pred = net(X_test_tensor)\n",
        "    \n",
        "    # 誤差関数を計算\n",
        "    test_loss = loss_func(y_pred, y_test_tensor)\n",
        "    \n",
        "    # 誤差をトラッキング\n",
        "    test_loss_track.append(test_loss)\n",
        "\n",
        "\n",
        "\n",
        "plt.plot(train_loss_track)\n",
        "plt.plot(test_loss_track)\n",
        "print(\"test_loss: \",sum(test_loss_track)/len(test_loss_track))"
      ],
      "execution_count": 101,
      "outputs": [
        {
          "output_type": "stream",
          "text": [
            "/usr/local/lib/python3.6/dist-packages/torch/nn/modules/loss.py:432: UserWarning: Using a target size (torch.Size([100])) that is different to the input size (torch.Size([100, 1])). This will likely lead to incorrect results due to broadcasting. Please ensure they have the same size.\n",
            "  return F.mse_loss(input, target, reduction=self.reduction)\n",
            "/usr/local/lib/python3.6/dist-packages/torch/nn/modules/loss.py:432: UserWarning: Using a target size (torch.Size([57])) that is different to the input size (torch.Size([57, 1])). This will likely lead to incorrect results due to broadcasting. Please ensure they have the same size.\n",
            "  return F.mse_loss(input, target, reduction=self.reduction)\n",
            "/usr/local/lib/python3.6/dist-packages/torch/nn/modules/loss.py:432: UserWarning: Using a target size (torch.Size([165])) that is different to the input size (torch.Size([165, 1])). This will likely lead to incorrect results due to broadcasting. Please ensure they have the same size.\n",
            "  return F.mse_loss(input, target, reduction=self.reduction)\n"
          ],
          "name": "stderr"
        },
        {
          "output_type": "stream",
          "text": [
            "test_loss:  tensor(0.0074, grad_fn=<DivBackward0>)\n"
          ],
          "name": "stdout"
        },
        {
          "output_type": "display_data",
          "data": {
            "image/png": "[encoded data removed]",
            "text/plain": [
              "<Figure size 432x288 with 1 Axes>"
            ]
          },
          "metadata": {
            "tags": [],
            "needs_background": "light"
          }
        }
      ]
    },
    {
      "cell_type": "code",
      "metadata": {
        "id": "Zs3RyM14_Was",
        "colab_type": "code",
        "outputId": "bc035fe4-4cfc-4fd6-e66d-acf39a3596b0",
        "colab": {
          "base_uri": "https://localhost:8080/",
          "height": 537
        }
      },
      "source": [
        "#分析9　TFIDFを用いたランダムフォレスト\n",
        "\n",
        "#形態素解析のデータセットを作る\n",
        "#https://qiita.com/tomone_hata/items/67e7f9415dbf5c8ff8ba\n",
        "\n",
        "from sklearn.feature_extraction.text import CountVectorizer, TfidfTransformer\n",
        "\n",
        "#形態素解析のデータセットを作る\n",
        "#文章を全部１つのリストに入れる→TFIDFを作る→それぞれの日付に出てくる単語をKeyにTFIDFの値を取ってくる\n",
        "\n",
        "data_keitaiso = pd.read_csv(\"s&p_tweets.csv\")\n",
        "tweet_keitaiso=[]\n",
        "\n",
        "for tweet in data_keitaiso[\"text\"]:\n",
        "  tweet = re.sub(r'^RT[\\s]+', '', tweet)\n",
        "  tweet = re.sub(r'(http|https):\\/\\/.*[\\r\\n]*', '', tweet)\n",
        "  tweet = re.sub(r'#', '', tweet)\n",
        "  tweet = tweet.translate(str.maketrans('', '', string.punctuation)) \n",
        "  tweet_keitaiso.append(tweet)\n",
        "\n",
        "corpus = tweet_keitaiso         \n",
        "cv = CountVectorizer(token_pattern=r\"\\b\\w+\\b\")\n",
        "wc = cv.fit_transform(corpus)\n",
        "ttf = TfidfTransformer()\n",
        "tfidf = ttf.fit_transform(wc)\n",
        "\n",
        "#蜜行列に変更する\n",
        "X_tfidf = tfidf.toarray()\n",
        "\n",
        "data3 = pd.DataFrame(X_tfidf)\n",
        "df_tweets_tfidf =  pd.concat([data_keitaiso, data3], axis=1)\n",
        "\n",
        "df = df_tweets_tfidf.groupby([\"date\"]).mean()\n",
        "df_sp = pd.read_csv(\"/content/sp500-10-year-daily-chart.csv\")\n",
        "df_sp[\"log\"] = np.log(df_sp[\" value\"])\n",
        "df_sp[\"dif_log\"] = df_sp[\"log\"].diff()\n",
        "df2=pd.merge(df_sp, df, how=\"inner\" ,on=\"date\")\n",
        "df2 = df2.drop(\" value\", axis=1)\n",
        "df3 = df_tweets_tfidf[[\"date\",\"text\"]]\n",
        "df3 = df3.groupby([\"date\"]).count()\n",
        "df_tfidf = pd.merge( df3, df2, how=\"inner\" ,on=\"date\")\n",
        "df_tfidf[\"date\"] = pd.to_datetime(df4['date']).astype('int64')\n",
        "\n",
        "from sklearn.model_selection import train_test_split\n",
        "\n",
        "target_col = 'dif_log'\n",
        "exclude_cols = ['log', 'price', 'dif_log', \"date\",\"text\"]\n",
        "feature_cols = []\n",
        "for col in df_tfidf.columns:\n",
        "    if col not in exclude_cols:\n",
        "        feature_cols.append(col)\n",
        "        \n",
        "X2 = np.array(df_tfidf[feature_cols])\n",
        "y2 = np.array(df_tfidf[target_col])\n",
        "\n",
        "X２_train_val, X２_test, y２_train_val, y２_test = train_test_split(\n",
        "    X２, y２, test_size=0.1, random_state=1234)\n",
        "\n",
        "X２_train, X２_val, y２_train, y２_val = train_test_split(\n",
        "    X２_train_val, y２_train_val, test_size=0.1, random_state=1234)\n",
        "\n",
        "#分析\n",
        "from sklearn.ensemble import RandomForestRegressor\n",
        "\n",
        "rf = RandomForestRegressor(n_estimators=100, random_state=1234)\n",
        "rf.fit(X２_train, y２_train)\n",
        "y２_pred = rf.predict(X２_val)\n",
        "rf_mse_2 = mean_squared_error(y２_val, y２_pred)\n",
        "print('RandomForestRegressor RMSE: ', round(np.sqrt(rf_mse_2), 3))\n",
        "\n",
        "#プロット\n",
        "rf_importances = pd.DataFrame(rf.feature_importances_, columns=['importance'], index=feature_cols)\n",
        "rf_importances.sort_values('importance', ascending=False).iloc[0:15].plot(kind='barh')\n",
        "\n",
        "#列名をゲット\n",
        "#https://note.nkmk.me/python-dict-get-key-from-value/\n",
        "\n",
        "voca = cv.vocabulary_\n",
        "\n",
        "def get_keys_from_value(d, val):\n",
        "    return [k for k, v in d.items() if v == val]\n",
        "\n",
        "for i in rf_importances.sort_values('importance', ascending=False).iloc[0:15].index:\n",
        "  keys = get_keys_from_value(voca, i)\n",
        "  print(keys)\n",
        "# ['key1', 'key2']"
      ],
      "execution_count": 102,
      "outputs": [
        {
          "output_type": "stream",
          "text": [
            "RandomForestRegressor RMSE:  0.016\n",
            "['confident']\n",
            "['coronavirus']\n",
            "['declare']\n",
            "['nationwide']\n",
            "['duly']\n",
            "['spreading']\n",
            "['covid19']\n",
            "['practice']\n",
            "['cutter']\n",
            "['outbreak']\n",
            "['545']\n",
            "['prevail']\n",
            "['billcassidy']\n",
            "['restaurants']\n",
            "['jack']\n"
          ],
          "name": "stdout"
        },
        {
          "output_type": "display_data",
          "data": {
            "image/png": "[encoded data removed]",
            "text/plain": [
              "<Figure size 432x288 with 1 Axes>"
            ]
          },
          "metadata": {
            "tags": [],
            "needs_background": "light"
          }
        }
      ]
    },
    {
      "cell_type": "code",
      "metadata": {
        "id": "3fRvcdNFclQU",
        "colab_type": "code",
        "outputId": "2ce6e255-551d-4ec8-debf-2c67a5b0fcb3",
        "colab": {
          "base_uri": "https://localhost:8080/",
          "height": 404
        }
      },
      "source": [
        "#分析10　形態素解析でDeepLearning\n",
        "\n",
        "X2_train, X2_test, y2_train, y2_test = train_test_split(\n",
        "    X２, y2, test_size=0.2, random_state=1234)\n",
        "\n",
        "X2_train_tensor = torch.tensor(X2_train, dtype=torch.float32)\n",
        "y2_train_tensor = torch.tensor(y2_train, dtype=torch.float32)\n",
        "X2_test_tensor = torch.tensor(X2_test, dtype=torch.float32)\n",
        "y2_test_tensor = torch.tensor(y2_test, dtype=torch.float32)\n",
        "\n",
        "train2_dataset = TensorDataset(X2_train_tensor, y2_train_tensor)\n",
        "train2_loader = DataLoader(train2_dataset, batch_size=100, shuffle=True)\n",
        "\n",
        "#ネットワークを書く\n",
        "net = myMLP(16493,1)\n",
        "net.parameters\n",
        "\n",
        "#目的関数を指定（今回は回帰問題のためMSELoss()を使用する）\n",
        "#https://pytorch.org/docs/stable/nn.html#loss-functions\n",
        "loss_func = nn.MSELoss()\n",
        "#Optimizerを定義する\n",
        "#https://pytorch.org/docs/stable/optim.html\n",
        "optimizer = optim.RMSprop(net.parameters())\n",
        "  \n",
        "train_loss_track = []\n",
        "test_loss_track = []\n",
        "\n",
        "for epoc in range(10):\n",
        "    running_loss = 0\n",
        "    \n",
        "    # 学習モード\n",
        "    net.train()\n",
        "    for step, (xx, yy)  in enumerate(train2_loader):\n",
        "        \n",
        "        # 最後に計算した各パラメーターの勾配を初期化する\n",
        "        optimizer.zero_grad()\n",
        "        \n",
        "        # フォワード計算を行う\n",
        "        y_pred = net(xx).float()\n",
        "        \n",
        "        # 誤差関数を使ってギャップの計測\n",
        "        loss = loss_func(y_pred, yy)\n",
        "      \n",
        "        # 誤差逆伝播法を使って自動微分\n",
        "        loss.backward()\n",
        "        \n",
        "        # パラメーターを更新\n",
        "        optimizer.step()\n",
        "        \n",
        "        # 学習データを使って誤差を計算\n",
        "        running_loss += loss.item()\n",
        "        \n",
        "    # エポックが終了したら平均誤差を計算\n",
        "    train_loss_track.append(running_loss/step)\n",
        "    \n",
        "    \n",
        "    #評価（evaluation）モード\n",
        "    net.eval()\n",
        "    \n",
        "    # 予測値を計算\n",
        "    y_pred = net(X2_test_tensor)\n",
        "    \n",
        "    # 誤差関数を計算\n",
        "    test_loss = loss_func(y_pred, y2_test_tensor)\n",
        "    \n",
        "    # 誤差をトラッキング\n",
        "    test_loss_track.append(test_loss)\n",
        "\n",
        "\n",
        "\n",
        "plt.plot(train_loss_track)\n",
        "plt.plot(test_loss_track)\n",
        "print(\"test_loss: \",sum(test_loss_track)/len(test_loss_track))"
      ],
      "execution_count": 103,
      "outputs": [
        {
          "output_type": "stream",
          "text": [
            "/usr/local/lib/python3.6/dist-packages/torch/nn/modules/loss.py:432: UserWarning: Using a target size (torch.Size([100])) that is different to the input size (torch.Size([100, 1])). This will likely lead to incorrect results due to broadcasting. Please ensure they have the same size.\n",
            "  return F.mse_loss(input, target, reduction=self.reduction)\n",
            "/usr/local/lib/python3.6/dist-packages/torch/nn/modules/loss.py:432: UserWarning: Using a target size (torch.Size([57])) that is different to the input size (torch.Size([57, 1])). This will likely lead to incorrect results due to broadcasting. Please ensure they have the same size.\n",
            "  return F.mse_loss(input, target, reduction=self.reduction)\n",
            "/usr/local/lib/python3.6/dist-packages/torch/nn/modules/loss.py:432: UserWarning: Using a target size (torch.Size([165])) that is different to the input size (torch.Size([165, 1])). This will likely lead to incorrect results due to broadcasting. Please ensure they have the same size.\n",
            "  return F.mse_loss(input, target, reduction=self.reduction)\n"
          ],
          "name": "stderr"
        },
        {
          "output_type": "stream",
          "text": [
            "test_loss:  tensor(0.0026, grad_fn=<DivBackward0>)\n"
          ],
          "name": "stdout"
        },
        {
          "output_type": "display_data",
          "data": {
            "image/png": "[encoded data removed]",
            "text/plain": [
              "<Figure size 432x288 with 1 Axes>"
            ]
          },
          "metadata": {
            "tags": [],
            "needs_background": "light"
          }
        }
      ]
    },
    {
      "cell_type": "code",
      "metadata": {
        "id": "bUApNSsf5GmF",
        "colab_type": "code",
        "colab": {
          "base_uri": "https://localhost:8080/",
          "height": 85
        },
        "outputId": "9e5950c8-c104-4141-8c67-502580da9887"
      },
      "source": [
        "#分析11 アンサンブル学習\n",
        "# https://blog.ikedaosushi.com/entry/2018/10/21/204842?t=0\n",
        "\n",
        "random_state = 1234\n",
        "\n",
        "X_train_valid, X_meta_valid, y_train_valid, y_meta_valid = train_test_split(X, y, test_size=0.1, random_state=random_state)\n",
        "X_train, X_valid, y_train, y_valid = train_test_split(X_train_valid, y_train_valid, test_size=0.1, random_state=random_state)\n",
        "\n",
        "import lightgbm as lgb\n",
        "import sklearn\n",
        "from sklearn.linear_model import LinearRegression\n",
        "from sklearn.model_selection import train_test_split\n",
        "from sklearn.metrics import mean_squared_error\n",
        "from sklearn.neighbors import KNeighborsRegressor\n",
        "from lightgbm import LGBMRegressor\n",
        "\n",
        "# train base model\n",
        "base_model_1 = LinearRegression()\n",
        "base_model_2 = LGBMRegressor()\n",
        "base_model_3 = KNeighborsRegressor()\n",
        "\n",
        "base_model_1.fit(X_train, y_train)\n",
        "base_model_2.fit(X_train, y_train)\n",
        "base_model_3.fit(X_train, y_train)\n",
        "\n",
        "# base predicts\n",
        "base_pred_1 = base_model_1.predict(X_valid)\n",
        "base_pred_2 = base_model_2.predict(X_valid)\n",
        "base_pred_3 = base_model_3.predict(X_valid)\n",
        "\n",
        "# test predicts for final result \n",
        "valid_pred_1 = base_model_1.predict(X_meta_valid)\n",
        "valid_pred_2 = base_model_2.predict(X_meta_valid)\n",
        "valid_pred_3 = base_model_3.predict(X_meta_valid)\n",
        "\n",
        "print (\"mean squared error of model 1: {:.4f}\".format(mean_squared_error(y_meta_valid, valid_pred_1)) )\n",
        "print (\"mean squared error of model 2: {:.4f}\".format(mean_squared_error(y_meta_valid, valid_pred_2)) )\n",
        "print (\"mean squared error of model 3: {:.4f}\".format(mean_squared_error(y_meta_valid, valid_pred_3)) )\n",
        "\n",
        "# stack base predicts for training meta model\n",
        "stacked_predictions = np.column_stack((base_pred_1, base_pred_2, base_pred_3))\n",
        "\n",
        "# stack test predicts for final result \n",
        "stacked_valid_predictions = np.column_stack((valid_pred_1, valid_pred_2, valid_pred_3))\n",
        "\n",
        "# train meta model \n",
        "meta_model = LinearRegression()\n",
        "meta_model.fit(stacked_predictions, y_valid)\n",
        "\n",
        "# final result \n",
        "meta_valid_pred = meta_model.predict(stacked_valid_predictions)\n",
        "print (\"mean squared error of meta model: {:.4f}\".format(mean_squared_error(y_meta_valid, meta_valid_pred)) )\n"
      ],
      "execution_count": 109,
      "outputs": [
        {
          "output_type": "stream",
          "text": [
            "mean squared error of model 1: 0.0003\n",
            "mean squared error of model 2: 0.0001\n",
            "mean squared error of model 3: 0.0002\n",
            "mean squared error of meta model: 0.0001\n"
          ],
          "name": "stdout"
        }
      ]
    },
    {
      "cell_type": "code",
      "metadata": {
        "id": "pcp2tIVEfTGo",
        "colab_type": "code",
        "colab": {}
      },
      "source": [
        "#上手くいってない\n",
        "#分析6 Doc2Vecでツイートをクラスタリングする①\n",
        "#https://qiita.com/g-k/items/5ea94c13281f675302ca\n",
        "\n",
        "#from gensim.models.doc2vec import Doc2Vec, TaggedDocument\n",
        "#from gensim import models\n",
        "\n",
        "#documents = [TaggedDocument(doc, [i]) for i, doc in enumerate(sentences)]\n",
        "#model = Doc2Vec(documents, vector_size=300, window=5, min_count=1, workers=4)\n",
        "#model.save(\"doc2_w2v.model\")"
      ],
      "execution_count": 0,
      "outputs": []
    },
    {
      "cell_type": "code",
      "metadata": {
        "id": "Ge2VGRbHfTGr",
        "colab_type": "code",
        "colab": {}
      },
      "source": [
        "#上手くいってない\n",
        "#分析6 Doc2Vecでツイートをクラスタリングする②\n",
        "#https://qiita.com/naotaka1128/items/e617f63907fed035408a\n",
        "\n",
        "#model = models.Doc2Vec.load('/content/doc2_w2v.model')\n",
        "\n",
        "from sklearn.decomposition import PCA\n",
        "import matplotlib.pyplot as plt\n",
        "\n",
        "def draw_word_scatter(word, topn=30):\n",
        "    \"\"\" 入力されたwordに似ている単語の分布図を描くためのメソッド \"\"\"\n",
        "\n",
        "    # 似ている単語を求めるためにはGensim word2vecの以下の機能を利用\n",
        "    # model.most_similar(word, topn=topn)\n",
        "    words = [x[0] for x in sorted(model.most_similar(word, topn=topn))]\n",
        "    words.append(word)\n",
        "\n",
        "    # 各単語のベクトル表現を求めます。Gensimのmost_similarをベースとして\n",
        "    # 単語のベクトルを返すメソッド(model.calc_vec)を定義しています\n",
        "    # 長くなるので実装は本稿の末尾に記載しました。\n",
        "    vecs = [model.calc_vec(word) for word in words]\n",
        "\n",
        "    # 分布図\n",
        "    draw_scatter_plot(vecs, words)\n",
        "\n",
        "def draw_scatter_plot(vecs, tags, clusters):\n",
        "    \"\"\" 入力されたベクトルに基づき散布図(ラベル付き)を描くためのメソッド \"\"\"\n",
        "\n",
        "    # Scikit-learnのPCAによる次元削減とその可視化\n",
        "    pca = PCA(n_components=2)\n",
        "    coords = pca.fit_transform(vecs)\n",
        "\n",
        "    # matplotlibによる可視化\n",
        "    fig, ax = plt.subplots()\n",
        "    x = [v[0] for v in coords]\n",
        "    y = [v[1] for v in coords]\n",
        "\n",
        "    # 各点のクラスターが設定されていればクラスタを考慮\n",
        "    # エラーハンドリングは適当\n",
        "    if clusters:\n",
        "        ax.scatter(x, y, c=clusters)\n",
        "    else:\n",
        "        ax.scatter(x, y)\n",
        "\n",
        "    for i, txt in enumerate(tags):\n",
        "        ax.annotate(txt, (coords[i][0], coords[i][1]))\n",
        "    plt.show()\n",
        "    \n",
        "#draw_word_scatter('coronavirus', topn=40)"
      ],
      "execution_count": 0,
      "outputs": []
    },
    {
      "cell_type": "code",
      "metadata": {
        "id": "o9aiwySJh-Kg",
        "colab_type": "code",
        "colab": {}
      },
      "source": [
        "#　まだできていない\n",
        "# モデルの精度を確認する\n",
        "# https://note.com/uki_profit/n/nab22a04262f9"
      ],
      "execution_count": 0,
      "outputs": []
    }
  ]
}