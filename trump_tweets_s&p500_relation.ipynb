{
  "nbformat": 4,
  "nbformat_minor": 0,
  "metadata": {
    "kernelspec": {
      "display_name": "Python 3",
      "language": "python",
      "name": "python3"
    },
    "language_info": {
      "codemirror_mode": {
        "name": "ipython",
        "version": 3
      },
      "file_extension": ".py",
      "mimetype": "text/x-python",
      "name": "python",
      "nbconvert_exporter": "python",
      "pygments_lexer": "ipython3",
      "version": "3.7.4"
    },
    "colab": {
      "name": "trump_tweets_s&p500_relation.ipynb",
      "provenance": [],
      "collapsed_sections": [],
      "include_colab_link": true
    }
  },
  "cells": [
    {
      "cell_type": "markdown",
      "metadata": {
        "id": "view-in-github",
        "colab_type": "text"
      },
      "source": [
        "<a href=\"https://colab.research.google.com/github/katsuki-nagakubo/Tweets_Word2vec/blob/master/trump_tweets_s%26p500_relation.ipynb\" target=\"_parent\"><img src=\"https://colab.research.google.com/assets/colab-badge.svg\" alt=\"Open In Colab\"/></a>"
      ]
    },
    {
      "cell_type": "code",
      "metadata": {
        "id": "5TBDVbUQfTEM",
        "colab_type": "code",
        "colab": {}
      },
      "source": [
        "#データの取得と成形\n",
        "\n",
        "import pandas as pd\n",
        "import numpy as np\n",
        "import matplotlib.pyplot as plt "
      ],
      "execution_count": 0,
      "outputs": []
    },
    {
      "cell_type": "code",
      "metadata": {
        "id": "0etwSm9DfTEU",
        "colab_type": "code",
        "outputId": "7b1fd068-0c4c-46e2-8b75-0a8ef0e27559",
        "colab": {
          "base_uri": "https://localhost:8080/",
          "height": 34
        }
      },
      "source": [
        "#https://teratail.com/questions/128725\n",
        "\n",
        "from ast import literal_eval\n",
        "from pprint import pprint\n",
        "\n",
        "f = open('/content/trump_tweets.txt', 'r')\n",
        "text = f.read()\n",
        "mylist = literal_eval(text)\n",
        "\n",
        "print(type(mylist), type(mylist[0]))"
      ],
      "execution_count": 2,
      "outputs": [
        {
          "output_type": "stream",
          "text": [
            "<class 'list'> <class 'dict'>\n"
          ],
          "name": "stdout"
        }
      ]
    },
    {
      "cell_type": "code",
      "metadata": {
        "id": "e2D_Z2KUfTEY",
        "colab_type": "code",
        "outputId": "4547d0da-b00c-484e-9b8b-b090c587048b",
        "colab": {
          "base_uri": "https://localhost:8080/",
          "height": 34
        }
      },
      "source": [
        "df_text=[]\n",
        "df_created_at=[]\n",
        "df_id_str=[]\n",
        "\n",
        "print(len(mylist),\"tweets\")\n",
        "\n",
        "for i in range(len(mylist)):\n",
        "    text = mylist[i][\"text\"]\n",
        "    created_at = mylist[i][\"created_at\"]\n",
        "    id_str = mylist[i][\"id_str\"]\n",
        "    df_text.append(text)\n",
        "    df_created_at.append(created_at)\n",
        "    df_id_str.append(id_str)\n",
        "\n",
        "tweet_list=[df_created_at,df_id_str,df_text]\n",
        "#print(tweet_list)"
      ],
      "execution_count": 3,
      "outputs": [
        {
          "output_type": "stream",
          "text": [
            "17544 tweets\n"
          ],
          "name": "stdout"
        }
      ]
    },
    {
      "cell_type": "code",
      "metadata": {
        "id": "FfVe8YhPfTEc",
        "colab_type": "code",
        "colab": {}
      },
      "source": [
        "#https://ai-inter1.com/pandas-dataframe_basic/\n",
        "#リスト型にしたデータをPandasでDataFrameにした\n",
        "\n",
        "columns1=[\"created_at\"]\n",
        "tweet_data = pd.DataFrame( data = df_created_at, columns = columns1)\n",
        "tweet_data[\"id\"]=df_id_str\n",
        "tweet_data[\"text\"] = df_text"
      ],
      "execution_count": 0,
      "outputs": []
    },
    {
      "cell_type": "code",
      "metadata": {
        "id": "njrdAvuzfTEf",
        "colab_type": "code",
        "colab": {}
      },
      "source": [
        "#https://teratail.com/questions/132333\n",
        "#https://note.nkmk.me/python-pandas-datetime-timestamp/\n",
        "\n",
        "tweet_data[\"time_created_at\"] = pd.to_datetime(tweet_data['created_at'])\n",
        "tweet_data[\"date_created_at\"] = tweet_data[\"time_created_at\"].dt.date\n",
        "tweet_data[\"key\"]=pd.to_datetime(tweet_data[\"date_created_at\"])"
      ],
      "execution_count": 0,
      "outputs": []
    },
    {
      "cell_type": "code",
      "metadata": {
        "id": "iZi3fq8nfTEj",
        "colab_type": "code",
        "colab": {}
      },
      "source": [
        "# https://www.macrotrends.net/2488/sp500-10-year-daily-chart\n",
        "\n",
        "sp_data = pd.read_csv('/content/sp500-10-year-daily-chart.csv')\n",
        "sp_data[\"date_64\"] = pd.to_datetime(sp_data[\"date\"])\n",
        "sp_data[\"key\"] =sp_data[\"date_64\"] "
      ],
      "execution_count": 0,
      "outputs": []
    },
    {
      "cell_type": "code",
      "metadata": {
        "id": "Lb8q3TCTfTEn",
        "colab_type": "code",
        "outputId": "2d1fb44a-463f-4d5f-fdd6-9e83fefe68d2",
        "colab": {
          "base_uri": "https://localhost:8080/",
          "height": 204
        }
      },
      "source": [
        "#内部結合\n",
        "#http://pppurple.hatenablog.com/entry/2016/06/27/022310#inner-join\n",
        "#https://note.nkmk.me/python-pandas-merge-join/\n",
        "\n",
        "tweet_data=pd.merge(tweet_data, sp_data)\n",
        "tweet_data.columns\n",
        "data = tweet_data[[\"key\",\" value\",\"text\"]]\n",
        "\n",
        "#行の名前を変更する　20200505\n",
        "data = data.rename(columns={\"key\": \"date\",\" value\":\"price\"})\n",
        "data.head()"
      ],
      "execution_count": 7,
      "outputs": [
        {
          "output_type": "execute_result",
          "data": {
            "text/html": [
              "<div>\n",
              "<style scoped>\n",
              "    .dataframe tbody tr th:only-of-type {\n",
              "        vertical-align: middle;\n",
              "    }\n",
              "\n",
              "    .dataframe tbody tr th {\n",
              "        vertical-align: top;\n",
              "    }\n",
              "\n",
              "    .dataframe thead th {\n",
              "        text-align: right;\n",
              "    }\n",
              "</style>\n",
              "<table border=\"1\" class=\"dataframe\">\n",
              "  <thead>\n",
              "    <tr style=\"text-align: right;\">\n",
              "      <th></th>\n",
              "      <th>date</th>\n",
              "      <th>price</th>\n",
              "      <th>text</th>\n",
              "    </tr>\n",
              "  </thead>\n",
              "  <tbody>\n",
              "    <tr>\n",
              "      <th>0</th>\n",
              "      <td>2020-05-01</td>\n",
              "      <td>2830.71</td>\n",
              "      <td>RT @StevenTDennis: Trump gets bump in latest G...</td>\n",
              "    </tr>\n",
              "    <tr>\n",
              "      <th>1</th>\n",
              "      <td>2020-05-01</td>\n",
              "      <td>2830.71</td>\n",
              "      <td>The Governor of Michigan should give a little,...</td>\n",
              "    </tr>\n",
              "    <tr>\n",
              "      <th>2</th>\n",
              "      <td>2020-05-01</td>\n",
              "      <td>2830.71</td>\n",
              "      <td>Cryin Chuck Schumer, compared to what other Se...</td>\n",
              "    </tr>\n",
              "    <tr>\n",
              "      <th>3</th>\n",
              "      <td>2020-05-01</td>\n",
              "      <td>2830.71</td>\n",
              "      <td>Cryin’ Chuck Schumer was on a late night show ...</td>\n",
              "    </tr>\n",
              "    <tr>\n",
              "      <th>4</th>\n",
              "      <td>2020-05-01</td>\n",
              "      <td>2830.71</td>\n",
              "      <td>RT @TeamTrump: President @realDonaldTrump: “We...</td>\n",
              "    </tr>\n",
              "  </tbody>\n",
              "</table>\n",
              "</div>"
            ],
            "text/plain": [
              "        date    price                                               text\n",
              "0 2020-05-01  2830.71  RT @StevenTDennis: Trump gets bump in latest G...\n",
              "1 2020-05-01  2830.71  The Governor of Michigan should give a little,...\n",
              "2 2020-05-01  2830.71  Cryin Chuck Schumer, compared to what other Se...\n",
              "3 2020-05-01  2830.71  Cryin’ Chuck Schumer was on a late night show ...\n",
              "4 2020-05-01  2830.71  RT @TeamTrump: President @realDonaldTrump: “We..."
            ]
          },
          "metadata": {
            "tags": []
          },
          "execution_count": 7
        }
      ]
    },
    {
      "cell_type": "code",
      "metadata": {
        "id": "RbtHgL9gfTEr",
        "colab_type": "code",
        "outputId": "92caedab-4188-475d-a2a1-f0aca31b919b",
        "colab": {
          "base_uri": "https://localhost:8080/",
          "height": 34
        }
      },
      "source": [
        "# trumpが大統領になった2017年1月20日から、GW前2020年5月1日までのデータを分析する\n",
        "# https://qiita.com/mSpring/items/6ec1ab28dcb261db2c73\n",
        "\n",
        "import datetime as dt\n",
        "data2 = data[(data['date'] >= dt.datetime(2017,1,20)) & (data['date'] <= dt.datetime(2020,5,1))]\n",
        "print( \"2017/01/20 - 2020/05/01のツイート数は\", len(data2))"
      ],
      "execution_count": 8,
      "outputs": [
        {
          "output_type": "stream",
          "text": [
            "2017/01/20 - 2020/05/01のツイート数は 12259\n"
          ],
          "name": "stdout"
        }
      ]
    },
    {
      "cell_type": "code",
      "metadata": {
        "id": "5uWu1eYpfTEv",
        "colab_type": "code",
        "colab": {}
      },
      "source": [
        "#新しいデータを追加すると上書き保存されるようにmode=\"a\"にした。\n",
        "\n",
        "#初回だけ,headerはTrue\n",
        "data2.to_csv(\"s&p_tweets.csv\", index=False, mode='a', header=True)\n",
        "#2回目以降はFalse\n",
        "#data2.to_csv(\"s&p_tweets.csv\", index=False, mode='a', header=False)"
      ],
      "execution_count": 0,
      "outputs": []
    },
    {
      "cell_type": "code",
      "metadata": {
        "id": "nJcHtQApfTEy",
        "colab_type": "code",
        "outputId": "e51eae73-685f-4139-ae7d-658454401b27",
        "colab": {
          "base_uri": "https://localhost:8080/",
          "height": 34
        }
      },
      "source": [
        "# Fileを読み込むことで最新のデータで分析できる\n",
        "\n",
        "data = pd.read_csv(\"s&p_tweets.csv\")\n",
        "print( len(data),\"tweets\")"
      ],
      "execution_count": 10,
      "outputs": [
        {
          "output_type": "stream",
          "text": [
            "12259 tweets\n"
          ],
          "name": "stdout"
        }
      ]
    },
    {
      "cell_type": "code",
      "metadata": {
        "id": "UK-gdwmxfTE1",
        "colab_type": "code",
        "outputId": "27a8f8f3-1666-4fcb-9552-453d8b3fc78d",
        "colab": {
          "base_uri": "https://localhost:8080/",
          "height": 68
        }
      },
      "source": [
        "#形態素解析\n",
        "#https://yottagin.com/?p=4360\n",
        "\n",
        "import nltk\n",
        "nltk.download('stopwords')\n",
        "\n",
        "tweet_tokenizer = nltk.tokenize.TweetTokenizer(preserve_case=False, strip_handles=True, reduce_len=True)\n",
        "for tweet in data[\"text\"][:1]:\n",
        "    print (tweet_tokenizer.tokenize(tweet))"
      ],
      "execution_count": 11,
      "outputs": [
        {
          "output_type": "stream",
          "text": [
            "[nltk_data] Downloading package stopwords to /root/nltk_data...\n",
            "[nltk_data]   Package stopwords is already up-to-date!\n",
            "['rt', ':', 'trump', 'gets', 'bump', 'in', 'latest', 'gallup', 'poll', ':', '49', '%', 'approval', '(', '+', '6', ',', 'tied', 'for', 'his', 'best', ')', '47', '%', 'disapproval', '(', '-', '7', ')']\n"
          ],
          "name": "stdout"
        }
      ]
    },
    {
      "cell_type": "code",
      "metadata": {
        "id": "DrfyzDEAfTE6",
        "colab_type": "code",
        "outputId": "b3a02003-16d6-4efd-c58f-4008c8b4c26e",
        "colab": {
          "base_uri": "https://localhost:8080/",
          "height": 323
        }
      },
      "source": [
        "words = []\n",
        "for tweet in data[\"text\"]:\n",
        "    words += tweet_tokenizer.tokenize(tweet)\n",
        "\n",
        "fdist = nltk.FreqDist(words)\n",
        "fdist.plot(50)"
      ],
      "execution_count": 12,
      "outputs": [
        {
          "output_type": "display_data",
          "data": {
            "image/png": "[encoded data removed]",
            "text/plain": [
              "<Figure size 432x288 with 1 Axes>"
            ]
          },
          "metadata": {
            "tags": [],
            "needs_background": "light"
          }
        }
      ]
    },
    {
      "cell_type": "code",
      "metadata": {
        "id": "5VLnPp6vfTE-",
        "colab_type": "code",
        "outputId": "68b452a4-b603-4ecf-b1dc-e4a1f74694da",
        "colab": {
          "base_uri": "https://localhost:8080/",
          "height": 359
        }
      },
      "source": [
        "#高頻度のツイートを表示\n",
        "df_fdist = pd.DataFrame(fdist.most_common(10), columns=['Word', 'Frequency'])\n",
        "df_fdist"
      ],
      "execution_count": 13,
      "outputs": [
        {
          "output_type": "execute_result",
          "data": {
            "text/html": [
              "<div>\n",
              "<style scoped>\n",
              "    .dataframe tbody tr th:only-of-type {\n",
              "        vertical-align: middle;\n",
              "    }\n",
              "\n",
              "    .dataframe tbody tr th {\n",
              "        vertical-align: top;\n",
              "    }\n",
              "\n",
              "    .dataframe thead th {\n",
              "        text-align: right;\n",
              "    }\n",
              "</style>\n",
              "<table border=\"1\" class=\"dataframe\">\n",
              "  <thead>\n",
              "    <tr style=\"text-align: right;\">\n",
              "      <th></th>\n",
              "      <th>Word</th>\n",
              "      <th>Frequency</th>\n",
              "    </tr>\n",
              "  </thead>\n",
              "  <tbody>\n",
              "    <tr>\n",
              "      <th>0</th>\n",
              "      <td>the</td>\n",
              "      <td>15504</td>\n",
              "    </tr>\n",
              "    <tr>\n",
              "      <th>1</th>\n",
              "      <td>.</td>\n",
              "      <td>14634</td>\n",
              "    </tr>\n",
              "    <tr>\n",
              "      <th>2</th>\n",
              "      <td>,</td>\n",
              "      <td>14156</td>\n",
              "    </tr>\n",
              "    <tr>\n",
              "      <th>3</th>\n",
              "      <td>to</td>\n",
              "      <td>8172</td>\n",
              "    </tr>\n",
              "    <tr>\n",
              "      <th>4</th>\n",
              "      <td>!</td>\n",
              "      <td>7343</td>\n",
              "    </tr>\n",
              "    <tr>\n",
              "      <th>5</th>\n",
              "      <td>and</td>\n",
              "      <td>7289</td>\n",
              "    </tr>\n",
              "    <tr>\n",
              "      <th>6</th>\n",
              "      <td>of</td>\n",
              "      <td>6165</td>\n",
              "    </tr>\n",
              "    <tr>\n",
              "      <th>7</th>\n",
              "      <td>a</td>\n",
              "      <td>5419</td>\n",
              "    </tr>\n",
              "    <tr>\n",
              "      <th>8</th>\n",
              "      <td>:</td>\n",
              "      <td>4870</td>\n",
              "    </tr>\n",
              "    <tr>\n",
              "      <th>9</th>\n",
              "      <td>in</td>\n",
              "      <td>4507</td>\n",
              "    </tr>\n",
              "  </tbody>\n",
              "</table>\n",
              "</div>"
            ],
            "text/plain": [
              "  Word  Frequency\n",
              "0  the      15504\n",
              "1    .      14634\n",
              "2    ,      14156\n",
              "3   to       8172\n",
              "4    !       7343\n",
              "5  and       7289\n",
              "6   of       6165\n",
              "7    a       5419\n",
              "8    :       4870\n",
              "9   in       4507"
            ]
          },
          "metadata": {
            "tags": []
          },
          "execution_count": 13
        }
      ]
    },
    {
      "cell_type": "code",
      "metadata": {
        "id": "IvFoQ0TrfTFG",
        "colab_type": "code",
        "colab": {}
      },
      "source": [
        "#tokenにする\n",
        "import re\n",
        "import string\n",
        "\n",
        "stemmer = nltk.stem.PorterStemmer()\n",
        "punctuations = string.punctuation\n",
        "all_tweets_clean = []\n",
        "\n",
        "#Tweet毎にリスト形式で保存するための加工\n",
        "result=[]\n",
        "\n",
        "for tweet in data[\"text\"]:\n",
        "    # RTから始まる部分を取り除く。\n",
        "    tweet = re.sub(r'^RT[\\s]+', '', tweet)\n",
        "    # リンクを取り除く。\n",
        "    tweet = re.sub(r'(http|https):\\/\\/.*[\\r\\n]*', '', tweet)\n",
        "    # ハッシュタグを取り除く。\n",
        "    tweet = re.sub(r'#', '', tweet)\n",
        "    # 句読点の削除\n",
        "    tweet = tweet.translate(str.maketrans('', '', string.punctuation)) \n",
        "    # 単語に分解する。\n",
        "    tokenizer = nltk.tokenize.TweetTokenizer(preserve_case=False, strip_handles=True, reduce_len=True)\n",
        "    tweet_tokens = tokenizer.tokenize(tweet)\n",
        "    result.append(tweet_tokens)"
      ],
      "execution_count": 0,
      "outputs": []
    },
    {
      "cell_type": "code",
      "metadata": {
        "id": "jGskML9PfTFK",
        "colab_type": "code",
        "colab": {}
      },
      "source": [
        "stopwords = nltk.corpus.stopwords.words('english')\n",
        "stop_words = [\"→\", \"←\", \"?\", \"」\", \"「\",\"(\",\")\",\"!\",\".\",\",\",\"&\",\"…\",\"%\",\":\",\";\",\"“\"]\n",
        "stopwords += stop_words\n",
        "\n",
        "#print(stopwords)\n",
        "\n",
        "result_2=[]\n",
        "result_3=[]\n",
        "for i in range(len(result)):\n",
        "    for word in result[i]:\n",
        "        if word not in stopwords:\n",
        "            result_2.append(word)\n",
        "    result_3.append(result_2)\n",
        "    result_2=[]"
      ],
      "execution_count": 0,
      "outputs": []
    },
    {
      "cell_type": "code",
      "metadata": {
        "id": "wL2ASq-gfTFO",
        "colab_type": "code",
        "colab": {}
      },
      "source": [
        "#Word2Vec\n",
        "\n",
        "from gensim.models import word2vec"
      ],
      "execution_count": 0,
      "outputs": []
    },
    {
      "cell_type": "code",
      "metadata": {
        "id": "6Ov0af7rfTFQ",
        "colab_type": "code",
        "outputId": "a08d53cb-cf8c-4277-888b-69ee5c4c8828",
        "colab": {
          "base_uri": "https://localhost:8080/",
          "height": 272
        }
      },
      "source": [
        "# 対象データをLinseSentence(one sentence = one lineとして扱う)で読み込む\n",
        "\n",
        "sentences = result_3\n",
        "sentences[0]"
      ],
      "execution_count": 17,
      "outputs": [
        {
          "output_type": "execute_result",
          "data": {
            "text/plain": [
              "['steventdennis',\n",
              " 'trump',\n",
              " 'gets',\n",
              " 'bump',\n",
              " 'latest',\n",
              " 'gallup',\n",
              " 'poll',\n",
              " '49',\n",
              " 'approval',\n",
              " '6',\n",
              " 'tied',\n",
              " 'best',\n",
              " '47',\n",
              " 'disapproval',\n",
              " '7']"
            ]
          },
          "metadata": {
            "tags": []
          },
          "execution_count": 17
        }
      ]
    },
    {
      "cell_type": "code",
      "metadata": {
        "id": "9u7fFXncfTFU",
        "colab_type": "code",
        "colab": {}
      },
      "source": [
        "# skip-gramモデルの学習\n",
        "skipgram_model = word2vec.Word2Vec(sentences,\n",
        "                                   sg=1,\n",
        "                                   size=300,\n",
        "                                   min_count=10,\n",
        "                                   window=15, seed=1234)"
      ],
      "execution_count": 0,
      "outputs": []
    },
    {
      "cell_type": "code",
      "metadata": {
        "id": "akHH47YRfTFZ",
        "colab_type": "code",
        "outputId": "deba285d-8bfe-4654-f5b0-c802d6a0e407",
        "colab": {
          "base_uri": "https://localhost:8080/",
          "height": 71
        }
      },
      "source": [
        "# 作成したモデルの保存\n",
        "skipgram_model.save(\"skipgram_w2v.model\")\n",
        "# saveしたモデルを読み込む時は\n",
        "#skipgram_model = word2vec.Word2Vec.load(\"skipgram_w2v.model\")"
      ],
      "execution_count": 19,
      "outputs": [
        {
          "output_type": "stream",
          "text": [
            "/usr/local/lib/python3.6/dist-packages/smart_open/smart_open_lib.py:253: UserWarning: This function is deprecated, use smart_open.open instead. See the migration notes for details: https://github.com/RaRe-Technologies/smart_open/blob/master/README.rst#migrating-to-the-new-open-function\n",
            "  'See the migration notes for details: %s' % _MIGRATION_NOTES_URL\n"
          ],
          "name": "stderr"
        }
      ]
    },
    {
      "cell_type": "code",
      "metadata": {
        "id": "ZAO8SIE_fTFc",
        "colab_type": "code",
        "outputId": "8704b03a-00dc-4928-b9d0-0ba089e9d742",
        "colab": {
          "base_uri": "https://localhost:8080/",
          "height": 413
        }
      },
      "source": [
        "# coronavirusと似たキーワードを見つけていきます。\n",
        "# ここで記載しているscoreは、単語同士のコサイン類似度です。\n",
        "pd.DataFrame(skipgram_model.wv.most_similar(\n",
        "    positive=[\"coronavirus\"]), columns=[\"keyword\", \"score\"])"
      ],
      "execution_count": 20,
      "outputs": [
        {
          "output_type": "stream",
          "text": [
            "/usr/local/lib/python3.6/dist-packages/gensim/matutils.py:737: FutureWarning: Conversion of the second argument of issubdtype from `int` to `np.signedinteger` is deprecated. In future, it will be treated as `np.int64 == np.dtype(int).type`.\n",
            "  if np.issubdtype(vec.dtype, np.int):\n"
          ],
          "name": "stderr"
        },
        {
          "output_type": "execute_result",
          "data": {
            "text/html": [
              "<div>\n",
              "<style scoped>\n",
              "    .dataframe tbody tr th:only-of-type {\n",
              "        vertical-align: middle;\n",
              "    }\n",
              "\n",
              "    .dataframe tbody tr th {\n",
              "        vertical-align: top;\n",
              "    }\n",
              "\n",
              "    .dataframe thead th {\n",
              "        text-align: right;\n",
              "    }\n",
              "</style>\n",
              "<table border=\"1\" class=\"dataframe\">\n",
              "  <thead>\n",
              "    <tr style=\"text-align: right;\">\n",
              "      <th></th>\n",
              "      <th>keyword</th>\n",
              "      <th>score</th>\n",
              "    </tr>\n",
              "  </thead>\n",
              "  <tbody>\n",
              "    <tr>\n",
              "      <th>0</th>\n",
              "      <td>response</td>\n",
              "      <td>0.828251</td>\n",
              "    </tr>\n",
              "    <tr>\n",
              "      <th>1</th>\n",
              "      <td>spread</td>\n",
              "      <td>0.814340</td>\n",
              "    </tr>\n",
              "    <tr>\n",
              "      <th>2</th>\n",
              "      <td>covid</td>\n",
              "      <td>0.802479</td>\n",
              "    </tr>\n",
              "    <tr>\n",
              "      <th>3</th>\n",
              "      <td>19</td>\n",
              "      <td>0.795345</td>\n",
              "    </tr>\n",
              "    <tr>\n",
              "      <th>4</th>\n",
              "      <td>task</td>\n",
              "      <td>0.792380</td>\n",
              "    </tr>\n",
              "    <tr>\n",
              "      <th>5</th>\n",
              "      <td>outbreak</td>\n",
              "      <td>0.766250</td>\n",
              "    </tr>\n",
              "    <tr>\n",
              "      <th>6</th>\n",
              "      <td>providing</td>\n",
              "      <td>0.748792</td>\n",
              "    </tr>\n",
              "    <tr>\n",
              "      <th>7</th>\n",
              "      <td>force</td>\n",
              "      <td>0.747843</td>\n",
              "    </tr>\n",
              "    <tr>\n",
              "      <th>8</th>\n",
              "      <td>cdcgov</td>\n",
              "      <td>0.742308</td>\n",
              "    </tr>\n",
              "    <tr>\n",
              "      <th>9</th>\n",
              "      <td>briefing</td>\n",
              "      <td>0.736656</td>\n",
              "    </tr>\n",
              "  </tbody>\n",
              "</table>\n",
              "</div>"
            ],
            "text/plain": [
              "     keyword     score\n",
              "0   response  0.828251\n",
              "1     spread  0.814340\n",
              "2      covid  0.802479\n",
              "3         19  0.795345\n",
              "4       task  0.792380\n",
              "5   outbreak  0.766250\n",
              "6  providing  0.748792\n",
              "7      force  0.747843\n",
              "8     cdcgov  0.742308\n",
              "9   briefing  0.736656"
            ]
          },
          "metadata": {
            "tags": []
          },
          "execution_count": 20
        }
      ]
    },
    {
      "cell_type": "code",
      "metadata": {
        "id": "KfKYBXI_fTFf",
        "colab_type": "code",
        "colab": {}
      },
      "source": [
        "\"\"\"\n",
        "1. 抽出された各単語を、作成したword2Vecによってベクトル化\n",
        "2. 変換された各単語ベクトルの平均をとり、その結果得られたベクトルを記事のベクトルとする\n",
        "上記2ステップを実行する関数を作成\n",
        "\"\"\"\n",
        "\n",
        "num_features = 300\n",
        "\n",
        "\n",
        "def avg_document_vector(data, num_features):\n",
        "    document_vec = np.zeros((len(data), num_features))\n",
        "    for i, doc_word_list in enumerate(data):\n",
        "        feature_vec = np.zeros((num_features,), dtype=\"float32\")\n",
        "        for word in doc_word_list:\n",
        "            try:\n",
        "                feature_vec = np.add(\n",
        "                    feature_vec, skipgram_model.wv.__getitem__(word))\n",
        "            except:\n",
        "                pass\n",
        "\n",
        "        feature_vec = np.divide(feature_vec, len(doc_word_list))\n",
        "        document_vec[i] = feature_vec\n",
        "    return document_vec"
      ],
      "execution_count": 0,
      "outputs": []
    },
    {
      "cell_type": "code",
      "metadata": {
        "id": "gcoxgMvkfTFh",
        "colab_type": "code",
        "outputId": "cc7b50a8-36cb-49a9-f751-da853a320fef",
        "colab": {
          "base_uri": "https://localhost:8080/",
          "height": 51
        }
      },
      "source": [
        "X = avg_document_vector(data=sentences, num_features=300)\n",
        "X.shape"
      ],
      "execution_count": 22,
      "outputs": [
        {
          "output_type": "stream",
          "text": [
            "/usr/local/lib/python3.6/dist-packages/ipykernel_launcher.py:21: RuntimeWarning: invalid value encountered in true_divide\n"
          ],
          "name": "stderr"
        },
        {
          "output_type": "execute_result",
          "data": {
            "text/plain": [
              "(12259, 300)"
            ]
          },
          "metadata": {
            "tags": []
          },
          "execution_count": 22
        }
      ]
    },
    {
      "cell_type": "code",
      "metadata": {
        "id": "PvVmeNp5fTFj",
        "colab_type": "code",
        "outputId": "79f4b6df-bf16-4246-fa9c-0431e1bfc7f8",
        "colab": {
          "base_uri": "https://localhost:8080/",
          "height": 474
        }
      },
      "source": [
        "# outer join\n",
        "data2 = pd.DataFrame(X)\n",
        "df_tweets_word2vec =  pd.concat([data, data2], axis=1)\n",
        "df_tweets_word2vec.head()"
      ],
      "execution_count": 23,
      "outputs": [
        {
          "output_type": "execute_result",
          "data": {
            "text/html": [
              "<div>\n",
              "<style scoped>\n",
              "    .dataframe tbody tr th:only-of-type {\n",
              "        vertical-align: middle;\n",
              "    }\n",
              "\n",
              "    .dataframe tbody tr th {\n",
              "        vertical-align: top;\n",
              "    }\n",
              "\n",
              "    .dataframe thead th {\n",
              "        text-align: right;\n",
              "    }\n",
              "</style>\n",
              "<table border=\"1\" class=\"dataframe\">\n",
              "  <thead>\n",
              "    <tr style=\"text-align: right;\">\n",
              "      <th></th>\n",
              "      <th>date</th>\n",
              "      <th>price</th>\n",
              "      <th>text</th>\n",
              "      <th>0</th>\n",
              "      <th>1</th>\n",
              "      <th>2</th>\n",
              "      <th>3</th>\n",
              "      <th>4</th>\n",
              "      <th>5</th>\n",
              "      <th>6</th>\n",
              "      <th>7</th>\n",
              "      <th>8</th>\n",
              "      <th>9</th>\n",
              "      <th>10</th>\n",
              "      <th>11</th>\n",
              "      <th>12</th>\n",
              "      <th>13</th>\n",
              "      <th>14</th>\n",
              "      <th>15</th>\n",
              "      <th>16</th>\n",
              "      <th>17</th>\n",
              "      <th>18</th>\n",
              "      <th>19</th>\n",
              "      <th>20</th>\n",
              "      <th>21</th>\n",
              "      <th>22</th>\n",
              "      <th>23</th>\n",
              "      <th>24</th>\n",
              "      <th>25</th>\n",
              "      <th>26</th>\n",
              "      <th>27</th>\n",
              "      <th>28</th>\n",
              "      <th>29</th>\n",
              "      <th>30</th>\n",
              "      <th>31</th>\n",
              "      <th>32</th>\n",
              "      <th>33</th>\n",
              "      <th>34</th>\n",
              "      <th>35</th>\n",
              "      <th>36</th>\n",
              "      <th>...</th>\n",
              "      <th>260</th>\n",
              "      <th>261</th>\n",
              "      <th>262</th>\n",
              "      <th>263</th>\n",
              "      <th>264</th>\n",
              "      <th>265</th>\n",
              "      <th>266</th>\n",
              "      <th>267</th>\n",
              "      <th>268</th>\n",
              "      <th>269</th>\n",
              "      <th>270</th>\n",
              "      <th>271</th>\n",
              "      <th>272</th>\n",
              "      <th>273</th>\n",
              "      <th>274</th>\n",
              "      <th>275</th>\n",
              "      <th>276</th>\n",
              "      <th>277</th>\n",
              "      <th>278</th>\n",
              "      <th>279</th>\n",
              "      <th>280</th>\n",
              "      <th>281</th>\n",
              "      <th>282</th>\n",
              "      <th>283</th>\n",
              "      <th>284</th>\n",
              "      <th>285</th>\n",
              "      <th>286</th>\n",
              "      <th>287</th>\n",
              "      <th>288</th>\n",
              "      <th>289</th>\n",
              "      <th>290</th>\n",
              "      <th>291</th>\n",
              "      <th>292</th>\n",
              "      <th>293</th>\n",
              "      <th>294</th>\n",
              "      <th>295</th>\n",
              "      <th>296</th>\n",
              "      <th>297</th>\n",
              "      <th>298</th>\n",
              "      <th>299</th>\n",
              "    </tr>\n",
              "  </thead>\n",
              "  <tbody>\n",
              "    <tr>\n",
              "      <th>0</th>\n",
              "      <td>2020-05-01</td>\n",
              "      <td>2830.71</td>\n",
              "      <td>RT @StevenTDennis: Trump gets bump in latest G...</td>\n",
              "      <td>0.007788</td>\n",
              "      <td>-0.027938</td>\n",
              "      <td>0.058487</td>\n",
              "      <td>0.064313</td>\n",
              "      <td>-0.023041</td>\n",
              "      <td>-0.026709</td>\n",
              "      <td>0.004050</td>\n",
              "      <td>0.005956</td>\n",
              "      <td>0.011473</td>\n",
              "      <td>0.014068</td>\n",
              "      <td>-0.069238</td>\n",
              "      <td>-0.002328</td>\n",
              "      <td>0.059110</td>\n",
              "      <td>-0.068463</td>\n",
              "      <td>0.079911</td>\n",
              "      <td>-0.011462</td>\n",
              "      <td>-0.048768</td>\n",
              "      <td>-0.051642</td>\n",
              "      <td>0.033030</td>\n",
              "      <td>0.060654</td>\n",
              "      <td>0.045607</td>\n",
              "      <td>-0.004964</td>\n",
              "      <td>-0.013465</td>\n",
              "      <td>-0.053282</td>\n",
              "      <td>0.008096</td>\n",
              "      <td>0.019873</td>\n",
              "      <td>0.006984</td>\n",
              "      <td>-0.026874</td>\n",
              "      <td>0.051162</td>\n",
              "      <td>0.013285</td>\n",
              "      <td>0.022152</td>\n",
              "      <td>-0.073586</td>\n",
              "      <td>0.042953</td>\n",
              "      <td>-0.027431</td>\n",
              "      <td>-0.031710</td>\n",
              "      <td>0.018114</td>\n",
              "      <td>0.005142</td>\n",
              "      <td>...</td>\n",
              "      <td>-0.060569</td>\n",
              "      <td>0.061105</td>\n",
              "      <td>0.001095</td>\n",
              "      <td>0.055878</td>\n",
              "      <td>-0.175656</td>\n",
              "      <td>0.019550</td>\n",
              "      <td>-0.047494</td>\n",
              "      <td>-0.074547</td>\n",
              "      <td>0.014030</td>\n",
              "      <td>0.078389</td>\n",
              "      <td>0.013017</td>\n",
              "      <td>-0.073654</td>\n",
              "      <td>-0.018203</td>\n",
              "      <td>0.023949</td>\n",
              "      <td>0.019149</td>\n",
              "      <td>-0.017541</td>\n",
              "      <td>-0.045657</td>\n",
              "      <td>-0.037345</td>\n",
              "      <td>-0.103335</td>\n",
              "      <td>0.049750</td>\n",
              "      <td>-0.065219</td>\n",
              "      <td>0.018766</td>\n",
              "      <td>0.057140</td>\n",
              "      <td>0.096089</td>\n",
              "      <td>-0.067974</td>\n",
              "      <td>0.018209</td>\n",
              "      <td>0.018049</td>\n",
              "      <td>0.071835</td>\n",
              "      <td>-0.029442</td>\n",
              "      <td>0.001426</td>\n",
              "      <td>0.000125</td>\n",
              "      <td>-0.074755</td>\n",
              "      <td>-0.012584</td>\n",
              "      <td>0.014134</td>\n",
              "      <td>-0.025841</td>\n",
              "      <td>-0.031974</td>\n",
              "      <td>-0.008553</td>\n",
              "      <td>-0.049819</td>\n",
              "      <td>0.026918</td>\n",
              "      <td>-0.016594</td>\n",
              "    </tr>\n",
              "    <tr>\n",
              "      <th>1</th>\n",
              "      <td>2020-05-01</td>\n",
              "      <td>2830.71</td>\n",
              "      <td>The Governor of Michigan should give a little,...</td>\n",
              "      <td>-0.032716</td>\n",
              "      <td>-0.036205</td>\n",
              "      <td>0.132603</td>\n",
              "      <td>0.142018</td>\n",
              "      <td>0.036650</td>\n",
              "      <td>0.020094</td>\n",
              "      <td>0.038605</td>\n",
              "      <td>0.041347</td>\n",
              "      <td>-0.007202</td>\n",
              "      <td>0.003021</td>\n",
              "      <td>-0.066683</td>\n",
              "      <td>-0.088139</td>\n",
              "      <td>0.161253</td>\n",
              "      <td>-0.125319</td>\n",
              "      <td>0.050197</td>\n",
              "      <td>-0.037975</td>\n",
              "      <td>-0.046716</td>\n",
              "      <td>-0.114281</td>\n",
              "      <td>0.021907</td>\n",
              "      <td>0.125503</td>\n",
              "      <td>0.120257</td>\n",
              "      <td>0.023746</td>\n",
              "      <td>-0.033109</td>\n",
              "      <td>-0.145803</td>\n",
              "      <td>-0.064585</td>\n",
              "      <td>0.020689</td>\n",
              "      <td>0.038947</td>\n",
              "      <td>0.003297</td>\n",
              "      <td>0.114124</td>\n",
              "      <td>0.025964</td>\n",
              "      <td>0.047912</td>\n",
              "      <td>-0.047805</td>\n",
              "      <td>-0.027622</td>\n",
              "      <td>-0.051294</td>\n",
              "      <td>-0.083554</td>\n",
              "      <td>0.039115</td>\n",
              "      <td>-0.056191</td>\n",
              "      <td>...</td>\n",
              "      <td>-0.144121</td>\n",
              "      <td>0.131328</td>\n",
              "      <td>0.029839</td>\n",
              "      <td>-0.012642</td>\n",
              "      <td>-0.170515</td>\n",
              "      <td>0.060335</td>\n",
              "      <td>-0.028060</td>\n",
              "      <td>-0.058390</td>\n",
              "      <td>0.033044</td>\n",
              "      <td>0.091126</td>\n",
              "      <td>0.070783</td>\n",
              "      <td>-0.026206</td>\n",
              "      <td>-0.070045</td>\n",
              "      <td>0.006807</td>\n",
              "      <td>0.048770</td>\n",
              "      <td>0.028037</td>\n",
              "      <td>-0.044661</td>\n",
              "      <td>-0.021434</td>\n",
              "      <td>-0.129968</td>\n",
              "      <td>0.025499</td>\n",
              "      <td>-0.058853</td>\n",
              "      <td>-0.055552</td>\n",
              "      <td>0.070362</td>\n",
              "      <td>0.159557</td>\n",
              "      <td>-0.132530</td>\n",
              "      <td>0.107478</td>\n",
              "      <td>-0.105160</td>\n",
              "      <td>0.071905</td>\n",
              "      <td>-0.091456</td>\n",
              "      <td>0.089365</td>\n",
              "      <td>0.095546</td>\n",
              "      <td>-0.079474</td>\n",
              "      <td>-0.018901</td>\n",
              "      <td>0.046443</td>\n",
              "      <td>-0.045065</td>\n",
              "      <td>-0.093461</td>\n",
              "      <td>-0.030211</td>\n",
              "      <td>-0.023799</td>\n",
              "      <td>-0.048075</td>\n",
              "      <td>-0.021113</td>\n",
              "    </tr>\n",
              "    <tr>\n",
              "      <th>2</th>\n",
              "      <td>2020-05-01</td>\n",
              "      <td>2830.71</td>\n",
              "      <td>Cryin Chuck Schumer, compared to what other Se...</td>\n",
              "      <td>-0.044508</td>\n",
              "      <td>-0.056962</td>\n",
              "      <td>0.161401</td>\n",
              "      <td>0.160218</td>\n",
              "      <td>0.025861</td>\n",
              "      <td>0.019113</td>\n",
              "      <td>0.020253</td>\n",
              "      <td>0.030630</td>\n",
              "      <td>0.029213</td>\n",
              "      <td>0.016503</td>\n",
              "      <td>-0.043651</td>\n",
              "      <td>-0.032039</td>\n",
              "      <td>0.133199</td>\n",
              "      <td>-0.124627</td>\n",
              "      <td>0.096663</td>\n",
              "      <td>-0.073706</td>\n",
              "      <td>-0.036465</td>\n",
              "      <td>-0.116683</td>\n",
              "      <td>-0.005331</td>\n",
              "      <td>0.126478</td>\n",
              "      <td>0.087210</td>\n",
              "      <td>0.029247</td>\n",
              "      <td>-0.055180</td>\n",
              "      <td>-0.142278</td>\n",
              "      <td>-0.094668</td>\n",
              "      <td>0.040165</td>\n",
              "      <td>0.054434</td>\n",
              "      <td>0.003833</td>\n",
              "      <td>0.095305</td>\n",
              "      <td>0.049730</td>\n",
              "      <td>0.025154</td>\n",
              "      <td>-0.084215</td>\n",
              "      <td>-0.052148</td>\n",
              "      <td>-0.052125</td>\n",
              "      <td>-0.053621</td>\n",
              "      <td>0.057178</td>\n",
              "      <td>-0.039053</td>\n",
              "      <td>...</td>\n",
              "      <td>-0.137660</td>\n",
              "      <td>0.141950</td>\n",
              "      <td>0.043856</td>\n",
              "      <td>-0.066936</td>\n",
              "      <td>-0.196256</td>\n",
              "      <td>0.042634</td>\n",
              "      <td>-0.003650</td>\n",
              "      <td>-0.055590</td>\n",
              "      <td>-0.010461</td>\n",
              "      <td>0.098800</td>\n",
              "      <td>0.054776</td>\n",
              "      <td>-0.063828</td>\n",
              "      <td>-0.087598</td>\n",
              "      <td>-0.031482</td>\n",
              "      <td>0.089356</td>\n",
              "      <td>0.034805</td>\n",
              "      <td>-0.044865</td>\n",
              "      <td>0.001670</td>\n",
              "      <td>-0.155844</td>\n",
              "      <td>0.037962</td>\n",
              "      <td>-0.088195</td>\n",
              "      <td>-0.054576</td>\n",
              "      <td>0.056842</td>\n",
              "      <td>0.123100</td>\n",
              "      <td>-0.080491</td>\n",
              "      <td>0.071000</td>\n",
              "      <td>-0.089596</td>\n",
              "      <td>0.038075</td>\n",
              "      <td>-0.079216</td>\n",
              "      <td>0.069727</td>\n",
              "      <td>0.092342</td>\n",
              "      <td>-0.067392</td>\n",
              "      <td>-0.068636</td>\n",
              "      <td>0.019019</td>\n",
              "      <td>-0.038398</td>\n",
              "      <td>-0.083216</td>\n",
              "      <td>-0.022675</td>\n",
              "      <td>-0.060163</td>\n",
              "      <td>-0.018570</td>\n",
              "      <td>-0.016681</td>\n",
              "    </tr>\n",
              "    <tr>\n",
              "      <th>3</th>\n",
              "      <td>2020-05-01</td>\n",
              "      <td>2830.71</td>\n",
              "      <td>Cryin’ Chuck Schumer was on a late night show ...</td>\n",
              "      <td>-0.028080</td>\n",
              "      <td>-0.074628</td>\n",
              "      <td>0.168082</td>\n",
              "      <td>0.154883</td>\n",
              "      <td>-0.007014</td>\n",
              "      <td>0.033588</td>\n",
              "      <td>0.020016</td>\n",
              "      <td>0.039118</td>\n",
              "      <td>0.027137</td>\n",
              "      <td>0.012353</td>\n",
              "      <td>-0.072091</td>\n",
              "      <td>-0.061205</td>\n",
              "      <td>0.141166</td>\n",
              "      <td>-0.118131</td>\n",
              "      <td>0.099502</td>\n",
              "      <td>-0.069198</td>\n",
              "      <td>-0.048901</td>\n",
              "      <td>-0.117554</td>\n",
              "      <td>-0.021414</td>\n",
              "      <td>0.108681</td>\n",
              "      <td>0.105214</td>\n",
              "      <td>0.031945</td>\n",
              "      <td>-0.084206</td>\n",
              "      <td>-0.127173</td>\n",
              "      <td>-0.101706</td>\n",
              "      <td>0.042246</td>\n",
              "      <td>0.055448</td>\n",
              "      <td>0.001046</td>\n",
              "      <td>0.104089</td>\n",
              "      <td>0.039212</td>\n",
              "      <td>0.023573</td>\n",
              "      <td>-0.069451</td>\n",
              "      <td>-0.045544</td>\n",
              "      <td>-0.067288</td>\n",
              "      <td>-0.076969</td>\n",
              "      <td>0.059546</td>\n",
              "      <td>-0.055839</td>\n",
              "      <td>...</td>\n",
              "      <td>-0.135034</td>\n",
              "      <td>0.117370</td>\n",
              "      <td>0.048784</td>\n",
              "      <td>-0.065763</td>\n",
              "      <td>-0.177968</td>\n",
              "      <td>0.029085</td>\n",
              "      <td>0.000061</td>\n",
              "      <td>-0.031078</td>\n",
              "      <td>-0.004992</td>\n",
              "      <td>0.102643</td>\n",
              "      <td>0.076096</td>\n",
              "      <td>-0.083867</td>\n",
              "      <td>-0.084023</td>\n",
              "      <td>0.008781</td>\n",
              "      <td>0.106277</td>\n",
              "      <td>0.021218</td>\n",
              "      <td>-0.073017</td>\n",
              "      <td>0.009090</td>\n",
              "      <td>-0.153944</td>\n",
              "      <td>0.039891</td>\n",
              "      <td>-0.089153</td>\n",
              "      <td>-0.046340</td>\n",
              "      <td>0.084693</td>\n",
              "      <td>0.127650</td>\n",
              "      <td>-0.120751</td>\n",
              "      <td>0.080119</td>\n",
              "      <td>-0.102569</td>\n",
              "      <td>0.027600</td>\n",
              "      <td>-0.057786</td>\n",
              "      <td>0.057789</td>\n",
              "      <td>0.069469</td>\n",
              "      <td>-0.093145</td>\n",
              "      <td>-0.042609</td>\n",
              "      <td>0.008769</td>\n",
              "      <td>-0.015009</td>\n",
              "      <td>-0.074709</td>\n",
              "      <td>-0.026518</td>\n",
              "      <td>-0.073787</td>\n",
              "      <td>-0.001655</td>\n",
              "      <td>-0.049020</td>\n",
              "    </tr>\n",
              "    <tr>\n",
              "      <th>4</th>\n",
              "      <td>2020-05-01</td>\n",
              "      <td>2830.71</td>\n",
              "      <td>RT @TeamTrump: President @realDonaldTrump: “We...</td>\n",
              "      <td>0.037569</td>\n",
              "      <td>-0.044132</td>\n",
              "      <td>0.090934</td>\n",
              "      <td>0.058249</td>\n",
              "      <td>-0.040924</td>\n",
              "      <td>-0.051165</td>\n",
              "      <td>0.011849</td>\n",
              "      <td>0.007721</td>\n",
              "      <td>0.017288</td>\n",
              "      <td>-0.062754</td>\n",
              "      <td>-0.115407</td>\n",
              "      <td>-0.008201</td>\n",
              "      <td>0.112898</td>\n",
              "      <td>-0.114943</td>\n",
              "      <td>0.068640</td>\n",
              "      <td>-0.012604</td>\n",
              "      <td>-0.002638</td>\n",
              "      <td>-0.078635</td>\n",
              "      <td>0.064951</td>\n",
              "      <td>0.069205</td>\n",
              "      <td>0.129673</td>\n",
              "      <td>0.064604</td>\n",
              "      <td>0.020873</td>\n",
              "      <td>-0.147686</td>\n",
              "      <td>0.013335</td>\n",
              "      <td>0.025813</td>\n",
              "      <td>0.003878</td>\n",
              "      <td>-0.039827</td>\n",
              "      <td>0.020066</td>\n",
              "      <td>0.001149</td>\n",
              "      <td>0.045503</td>\n",
              "      <td>-0.029227</td>\n",
              "      <td>0.009055</td>\n",
              "      <td>0.002710</td>\n",
              "      <td>-0.067269</td>\n",
              "      <td>0.041860</td>\n",
              "      <td>-0.033187</td>\n",
              "      <td>...</td>\n",
              "      <td>-0.116690</td>\n",
              "      <td>0.114931</td>\n",
              "      <td>0.084068</td>\n",
              "      <td>0.050639</td>\n",
              "      <td>-0.145900</td>\n",
              "      <td>0.041706</td>\n",
              "      <td>-0.027344</td>\n",
              "      <td>-0.055444</td>\n",
              "      <td>0.001009</td>\n",
              "      <td>0.102251</td>\n",
              "      <td>0.027214</td>\n",
              "      <td>-0.090732</td>\n",
              "      <td>-0.056536</td>\n",
              "      <td>0.039983</td>\n",
              "      <td>0.045753</td>\n",
              "      <td>-0.021717</td>\n",
              "      <td>-0.057415</td>\n",
              "      <td>-0.047621</td>\n",
              "      <td>-0.138952</td>\n",
              "      <td>0.036113</td>\n",
              "      <td>-0.042504</td>\n",
              "      <td>0.000583</td>\n",
              "      <td>0.089605</td>\n",
              "      <td>0.149891</td>\n",
              "      <td>-0.101584</td>\n",
              "      <td>0.071733</td>\n",
              "      <td>-0.034473</td>\n",
              "      <td>0.051137</td>\n",
              "      <td>-0.047163</td>\n",
              "      <td>0.034954</td>\n",
              "      <td>0.005126</td>\n",
              "      <td>-0.042105</td>\n",
              "      <td>0.011634</td>\n",
              "      <td>0.026056</td>\n",
              "      <td>-0.048079</td>\n",
              "      <td>-0.051508</td>\n",
              "      <td>-0.076838</td>\n",
              "      <td>0.003552</td>\n",
              "      <td>0.042282</td>\n",
              "      <td>-0.058895</td>\n",
              "    </tr>\n",
              "  </tbody>\n",
              "</table>\n",
              "<p>5 rows × 303 columns</p>\n",
              "</div>"
            ],
            "text/plain": [
              "         date    price  ...       298       299\n",
              "0  2020-05-01  2830.71  ...  0.026918 -0.016594\n",
              "1  2020-05-01  2830.71  ... -0.048075 -0.021113\n",
              "2  2020-05-01  2830.71  ... -0.018570 -0.016681\n",
              "3  2020-05-01  2830.71  ... -0.001655 -0.049020\n",
              "4  2020-05-01  2830.71  ...  0.042282 -0.058895\n",
              "\n",
              "[5 rows x 303 columns]"
            ]
          },
          "metadata": {
            "tags": []
          },
          "execution_count": 23
        }
      ]
    },
    {
      "cell_type": "code",
      "metadata": {
        "id": "wzaVvcZ3fTFn",
        "colab_type": "code",
        "colab": {}
      },
      "source": [
        "df_tweets_word2vec.to_csv(\"price_tweets_vector.csv\", index=False)"
      ],
      "execution_count": 0,
      "outputs": []
    },
    {
      "cell_type": "code",
      "metadata": {
        "id": "CY3UVb1TfTFp",
        "colab_type": "code",
        "outputId": "b84f4fc7-1adf-49af-af87-db3fffa0925a",
        "colab": {
          "base_uri": "https://localhost:8080/",
          "height": 552
        }
      },
      "source": [
        "#ツイートのベクトルを1日毎に平均にする（1日10ツイートだった場合ベクトルと足し合わせ10で割る）\n",
        "# groupby #https://qiita.com/propella/items/a9a32b878c77222630ae\n",
        "df = df_tweets_word2vec.groupby([\"date\"]).mean()\n",
        "\n",
        "\n",
        "# targetのcolである変化率（\"price\"の差分対数行列）をdateをKeyに内部結合する\n",
        "df_sp = pd.read_csv(\"/content/sp500-10-year-daily-chart.csv\")\n",
        "\n",
        "# 時系列データの差分を求める\n",
        "\n",
        "# \" value\"の行を対数化\n",
        "# https://www.sejuku.net/blog/70027\n",
        "df_sp[\"log\"] = np.log(df_sp[\" value\"])\n",
        "\n",
        "# \"log\"の1日前との差を取って、差分対数の列を作成\n",
        "# https://note.nkmk.me/python-pandas-diff-pct-change/\n",
        "df_sp[\"dif_log\"] = df_sp[\"log\"].diff()\n",
        "\n",
        "#内部結合\n",
        "df2=pd.merge(df_sp, df, how=\"inner\" ,on=\"date\")\n",
        "df2 = df2.drop(\" value\", axis=1)\n",
        "\n",
        "# groupbyを使って1日のツイート数も特徴量に加える\n",
        "# https://deepage.net/features/pandas-count.html\n",
        "df3 = df_tweets_word2vec[[\"date\",\"text\"]]\n",
        "df3 = df3.groupby([\"date\"]).count()\n",
        "\n",
        "#内部結合\n",
        "df4 = pd.merge( df3, df2, how=\"inner\" ,on=\"date\")\n",
        "\n",
        "#日付データの形を変える\n",
        "df4[\"date\"] = pd.to_datetime(df4['date']).astype('int64')\n",
        "\n",
        "#変化率のグラフ\n",
        "df4.plot( y=[\"dif_log\"], figsize=(16,4), alpha=0.5)\n",
        "\n",
        "#ツイート数と変化率の関係\n",
        "df4.plot.scatter(x=[\"text\"], y=[\"dif_log\"])"
      ],
      "execution_count": 25,
      "outputs": [
        {
          "output_type": "execute_result",
          "data": {
            "text/plain": [
              "<matplotlib.axes._subplots.AxesSubplot at 0x7f2a36c94828>"
            ]
          },
          "metadata": {
            "tags": []
          },
          "execution_count": 25
        },
        {
          "output_type": "display_data",
          "data": {
            "image/png": "[encoded data removed]",
            "text/plain": [
              "<Figure size 1152x288 with 1 Axes>"
            ]
          },
          "metadata": {
            "tags": [],
            "needs_background": "light"
          }
        },
        {
          "output_type": "display_data",
          "data": {
            "image/png": "[encoded data removed]",
            "text/plain": [
              "<Figure size 432x288 with 1 Axes>"
            ]
          },
          "metadata": {
            "tags": [],
            "needs_background": "light"
          }
        }
      ]
    },
    {
      "cell_type": "code",
      "metadata": {
        "id": "LoiDgt9WfTFt",
        "colab_type": "code",
        "outputId": "7a727fb4-985c-4b7d-ad53-bc0032fd44ba",
        "colab": {
          "base_uri": "https://localhost:8080/",
          "height": 338
        }
      },
      "source": [
        "df4.head()"
      ],
      "execution_count": 26,
      "outputs": [
        {
          "output_type": "execute_result",
          "data": {
            "text/html": [
              "<div>\n",
              "<style scoped>\n",
              "    .dataframe tbody tr th:only-of-type {\n",
              "        vertical-align: middle;\n",
              "    }\n",
              "\n",
              "    .dataframe tbody tr th {\n",
              "        vertical-align: top;\n",
              "    }\n",
              "\n",
              "    .dataframe thead th {\n",
              "        text-align: right;\n",
              "    }\n",
              "</style>\n",
              "<table border=\"1\" class=\"dataframe\">\n",
              "  <thead>\n",
              "    <tr style=\"text-align: right;\">\n",
              "      <th></th>\n",
              "      <th>date</th>\n",
              "      <th>text</th>\n",
              "      <th>log</th>\n",
              "      <th>dif_log</th>\n",
              "      <th>price</th>\n",
              "      <th>0</th>\n",
              "      <th>1</th>\n",
              "      <th>2</th>\n",
              "      <th>3</th>\n",
              "      <th>4</th>\n",
              "      <th>5</th>\n",
              "      <th>6</th>\n",
              "      <th>7</th>\n",
              "      <th>8</th>\n",
              "      <th>9</th>\n",
              "      <th>10</th>\n",
              "      <th>11</th>\n",
              "      <th>12</th>\n",
              "      <th>13</th>\n",
              "      <th>14</th>\n",
              "      <th>15</th>\n",
              "      <th>16</th>\n",
              "      <th>17</th>\n",
              "      <th>18</th>\n",
              "      <th>19</th>\n",
              "      <th>20</th>\n",
              "      <th>21</th>\n",
              "      <th>22</th>\n",
              "      <th>23</th>\n",
              "      <th>24</th>\n",
              "      <th>25</th>\n",
              "      <th>26</th>\n",
              "      <th>27</th>\n",
              "      <th>28</th>\n",
              "      <th>29</th>\n",
              "      <th>30</th>\n",
              "      <th>31</th>\n",
              "      <th>32</th>\n",
              "      <th>33</th>\n",
              "      <th>34</th>\n",
              "      <th>...</th>\n",
              "      <th>260</th>\n",
              "      <th>261</th>\n",
              "      <th>262</th>\n",
              "      <th>263</th>\n",
              "      <th>264</th>\n",
              "      <th>265</th>\n",
              "      <th>266</th>\n",
              "      <th>267</th>\n",
              "      <th>268</th>\n",
              "      <th>269</th>\n",
              "      <th>270</th>\n",
              "      <th>271</th>\n",
              "      <th>272</th>\n",
              "      <th>273</th>\n",
              "      <th>274</th>\n",
              "      <th>275</th>\n",
              "      <th>276</th>\n",
              "      <th>277</th>\n",
              "      <th>278</th>\n",
              "      <th>279</th>\n",
              "      <th>280</th>\n",
              "      <th>281</th>\n",
              "      <th>282</th>\n",
              "      <th>283</th>\n",
              "      <th>284</th>\n",
              "      <th>285</th>\n",
              "      <th>286</th>\n",
              "      <th>287</th>\n",
              "      <th>288</th>\n",
              "      <th>289</th>\n",
              "      <th>290</th>\n",
              "      <th>291</th>\n",
              "      <th>292</th>\n",
              "      <th>293</th>\n",
              "      <th>294</th>\n",
              "      <th>295</th>\n",
              "      <th>296</th>\n",
              "      <th>297</th>\n",
              "      <th>298</th>\n",
              "      <th>299</th>\n",
              "    </tr>\n",
              "  </thead>\n",
              "  <tbody>\n",
              "    <tr>\n",
              "      <th>0</th>\n",
              "      <td>1484870400000000000</td>\n",
              "      <td>13</td>\n",
              "      <td>7.728112</td>\n",
              "      <td>0.003361</td>\n",
              "      <td>2271.31</td>\n",
              "      <td>-0.033870</td>\n",
              "      <td>-0.058009</td>\n",
              "      <td>0.094158</td>\n",
              "      <td>0.081443</td>\n",
              "      <td>0.049983</td>\n",
              "      <td>-0.023927</td>\n",
              "      <td>-0.011580</td>\n",
              "      <td>-0.000338</td>\n",
              "      <td>-3.438233e-02</td>\n",
              "      <td>0.005566</td>\n",
              "      <td>-0.059984</td>\n",
              "      <td>-0.069927</td>\n",
              "      <td>0.162123</td>\n",
              "      <td>-0.101246</td>\n",
              "      <td>0.052171</td>\n",
              "      <td>0.021453</td>\n",
              "      <td>-0.026568</td>\n",
              "      <td>-0.087037</td>\n",
              "      <td>0.092243</td>\n",
              "      <td>0.072199</td>\n",
              "      <td>0.115065</td>\n",
              "      <td>0.050052</td>\n",
              "      <td>0.010736</td>\n",
              "      <td>-0.140134</td>\n",
              "      <td>0.005085</td>\n",
              "      <td>-0.004245</td>\n",
              "      <td>-0.009398</td>\n",
              "      <td>-0.016284</td>\n",
              "      <td>0.068068</td>\n",
              "      <td>-0.022806</td>\n",
              "      <td>0.031619</td>\n",
              "      <td>-0.051600</td>\n",
              "      <td>-0.006820</td>\n",
              "      <td>-0.001366</td>\n",
              "      <td>-0.026205</td>\n",
              "      <td>...</td>\n",
              "      <td>-0.125794</td>\n",
              "      <td>0.116524</td>\n",
              "      <td>-0.011213</td>\n",
              "      <td>0.087788</td>\n",
              "      <td>-0.221283</td>\n",
              "      <td>0.046779</td>\n",
              "      <td>-0.089909</td>\n",
              "      <td>-0.117347</td>\n",
              "      <td>0.037530</td>\n",
              "      <td>0.086901</td>\n",
              "      <td>0.008540</td>\n",
              "      <td>-0.020386</td>\n",
              "      <td>-0.041535</td>\n",
              "      <td>0.030689</td>\n",
              "      <td>-0.008116</td>\n",
              "      <td>-0.014377</td>\n",
              "      <td>-0.020017</td>\n",
              "      <td>-0.058271</td>\n",
              "      <td>-0.155539</td>\n",
              "      <td>0.018441</td>\n",
              "      <td>-0.066167</td>\n",
              "      <td>-0.036269</td>\n",
              "      <td>0.066642</td>\n",
              "      <td>0.130536</td>\n",
              "      <td>-0.117292</td>\n",
              "      <td>0.097549</td>\n",
              "      <td>-0.045345</td>\n",
              "      <td>0.101590</td>\n",
              "      <td>-0.047412</td>\n",
              "      <td>0.036968</td>\n",
              "      <td>0.096965</td>\n",
              "      <td>-0.077788</td>\n",
              "      <td>0.029410</td>\n",
              "      <td>0.092061</td>\n",
              "      <td>-0.056079</td>\n",
              "      <td>-0.066831</td>\n",
              "      <td>-0.016023</td>\n",
              "      <td>0.004669</td>\n",
              "      <td>-0.048963</td>\n",
              "      <td>0.057145</td>\n",
              "    </tr>\n",
              "    <tr>\n",
              "      <th>1</th>\n",
              "      <td>1485129600000000000</td>\n",
              "      <td>1</td>\n",
              "      <td>7.725418</td>\n",
              "      <td>-0.002694</td>\n",
              "      <td>2265.20</td>\n",
              "      <td>-0.000899</td>\n",
              "      <td>-0.033046</td>\n",
              "      <td>0.085961</td>\n",
              "      <td>0.060512</td>\n",
              "      <td>0.032704</td>\n",
              "      <td>-0.027099</td>\n",
              "      <td>-0.012286</td>\n",
              "      <td>0.032452</td>\n",
              "      <td>9.309146e-03</td>\n",
              "      <td>-0.020629</td>\n",
              "      <td>-0.129664</td>\n",
              "      <td>-0.064277</td>\n",
              "      <td>0.185900</td>\n",
              "      <td>-0.125732</td>\n",
              "      <td>0.024701</td>\n",
              "      <td>0.012201</td>\n",
              "      <td>-0.046565</td>\n",
              "      <td>-0.115124</td>\n",
              "      <td>0.047951</td>\n",
              "      <td>0.049144</td>\n",
              "      <td>0.102811</td>\n",
              "      <td>-0.002142</td>\n",
              "      <td>-0.005083</td>\n",
              "      <td>-0.136335</td>\n",
              "      <td>-0.003307</td>\n",
              "      <td>0.003156</td>\n",
              "      <td>0.004185</td>\n",
              "      <td>-0.016646</td>\n",
              "      <td>0.067090</td>\n",
              "      <td>0.053256</td>\n",
              "      <td>0.032397</td>\n",
              "      <td>-0.019618</td>\n",
              "      <td>-0.000424</td>\n",
              "      <td>-0.046612</td>\n",
              "      <td>-0.067075</td>\n",
              "      <td>...</td>\n",
              "      <td>-0.108709</td>\n",
              "      <td>0.117050</td>\n",
              "      <td>0.009502</td>\n",
              "      <td>0.091170</td>\n",
              "      <td>-0.177972</td>\n",
              "      <td>0.091946</td>\n",
              "      <td>-0.134641</td>\n",
              "      <td>-0.101738</td>\n",
              "      <td>-0.002432</td>\n",
              "      <td>0.066312</td>\n",
              "      <td>0.037987</td>\n",
              "      <td>-0.039314</td>\n",
              "      <td>-0.052411</td>\n",
              "      <td>0.036390</td>\n",
              "      <td>-0.042763</td>\n",
              "      <td>0.023928</td>\n",
              "      <td>-0.070321</td>\n",
              "      <td>-0.078423</td>\n",
              "      <td>-0.168275</td>\n",
              "      <td>-0.006657</td>\n",
              "      <td>-0.087974</td>\n",
              "      <td>-0.049654</td>\n",
              "      <td>0.114002</td>\n",
              "      <td>0.160287</td>\n",
              "      <td>-0.085872</td>\n",
              "      <td>0.058691</td>\n",
              "      <td>-0.050093</td>\n",
              "      <td>0.081087</td>\n",
              "      <td>-0.043392</td>\n",
              "      <td>0.061924</td>\n",
              "      <td>0.064748</td>\n",
              "      <td>-0.068653</td>\n",
              "      <td>0.026868</td>\n",
              "      <td>0.063499</td>\n",
              "      <td>-0.018887</td>\n",
              "      <td>-0.038773</td>\n",
              "      <td>-0.032070</td>\n",
              "      <td>0.015999</td>\n",
              "      <td>-0.022958</td>\n",
              "      <td>-0.000873</td>\n",
              "    </tr>\n",
              "    <tr>\n",
              "      <th>2</th>\n",
              "      <td>1485216000000000000</td>\n",
              "      <td>4</td>\n",
              "      <td>7.731961</td>\n",
              "      <td>0.006543</td>\n",
              "      <td>2280.07</td>\n",
              "      <td>-0.003998</td>\n",
              "      <td>-0.053174</td>\n",
              "      <td>0.071023</td>\n",
              "      <td>0.014560</td>\n",
              "      <td>0.040608</td>\n",
              "      <td>-0.025207</td>\n",
              "      <td>-0.009312</td>\n",
              "      <td>0.009021</td>\n",
              "      <td>6.258488e-07</td>\n",
              "      <td>-0.014626</td>\n",
              "      <td>-0.083118</td>\n",
              "      <td>-0.063271</td>\n",
              "      <td>0.200121</td>\n",
              "      <td>-0.101388</td>\n",
              "      <td>-0.006075</td>\n",
              "      <td>0.028672</td>\n",
              "      <td>-0.051789</td>\n",
              "      <td>-0.057808</td>\n",
              "      <td>0.043076</td>\n",
              "      <td>-0.001070</td>\n",
              "      <td>0.099276</td>\n",
              "      <td>0.031350</td>\n",
              "      <td>0.000276</td>\n",
              "      <td>-0.110044</td>\n",
              "      <td>0.002929</td>\n",
              "      <td>0.002027</td>\n",
              "      <td>-0.006801</td>\n",
              "      <td>-0.023225</td>\n",
              "      <td>0.053868</td>\n",
              "      <td>0.006623</td>\n",
              "      <td>0.026695</td>\n",
              "      <td>-0.005080</td>\n",
              "      <td>-0.023522</td>\n",
              "      <td>-0.016787</td>\n",
              "      <td>-0.035927</td>\n",
              "      <td>...</td>\n",
              "      <td>-0.092084</td>\n",
              "      <td>0.061762</td>\n",
              "      <td>-0.002534</td>\n",
              "      <td>0.071098</td>\n",
              "      <td>-0.153363</td>\n",
              "      <td>0.046591</td>\n",
              "      <td>-0.099792</td>\n",
              "      <td>-0.074893</td>\n",
              "      <td>0.021257</td>\n",
              "      <td>0.033521</td>\n",
              "      <td>-0.010395</td>\n",
              "      <td>-0.035532</td>\n",
              "      <td>-0.051200</td>\n",
              "      <td>0.051355</td>\n",
              "      <td>-0.047407</td>\n",
              "      <td>0.005645</td>\n",
              "      <td>-0.038006</td>\n",
              "      <td>-0.046472</td>\n",
              "      <td>-0.150125</td>\n",
              "      <td>-0.023474</td>\n",
              "      <td>-0.040105</td>\n",
              "      <td>-0.037641</td>\n",
              "      <td>0.092751</td>\n",
              "      <td>0.104778</td>\n",
              "      <td>-0.072588</td>\n",
              "      <td>0.065914</td>\n",
              "      <td>-0.044106</td>\n",
              "      <td>0.073202</td>\n",
              "      <td>-0.007328</td>\n",
              "      <td>0.032239</td>\n",
              "      <td>0.078057</td>\n",
              "      <td>-0.038929</td>\n",
              "      <td>0.081850</td>\n",
              "      <td>0.070320</td>\n",
              "      <td>0.026715</td>\n",
              "      <td>-0.046321</td>\n",
              "      <td>-0.025770</td>\n",
              "      <td>0.005188</td>\n",
              "      <td>-0.042030</td>\n",
              "      <td>0.021699</td>\n",
              "    </tr>\n",
              "    <tr>\n",
              "      <th>3</th>\n",
              "      <td>1485302400000000000</td>\n",
              "      <td>8</td>\n",
              "      <td>7.739955</td>\n",
              "      <td>0.007994</td>\n",
              "      <td>2298.37</td>\n",
              "      <td>-0.020939</td>\n",
              "      <td>-0.080708</td>\n",
              "      <td>0.092209</td>\n",
              "      <td>0.098625</td>\n",
              "      <td>0.041308</td>\n",
              "      <td>0.013470</td>\n",
              "      <td>-0.009167</td>\n",
              "      <td>0.006573</td>\n",
              "      <td>-6.811952e-03</td>\n",
              "      <td>0.015721</td>\n",
              "      <td>-0.072061</td>\n",
              "      <td>-0.038482</td>\n",
              "      <td>0.141340</td>\n",
              "      <td>-0.084382</td>\n",
              "      <td>0.048462</td>\n",
              "      <td>-0.027420</td>\n",
              "      <td>-0.068690</td>\n",
              "      <td>-0.067910</td>\n",
              "      <td>0.018947</td>\n",
              "      <td>0.052629</td>\n",
              "      <td>0.078380</td>\n",
              "      <td>0.022791</td>\n",
              "      <td>-0.036392</td>\n",
              "      <td>-0.087046</td>\n",
              "      <td>-0.041178</td>\n",
              "      <td>0.014183</td>\n",
              "      <td>0.017590</td>\n",
              "      <td>-0.020323</td>\n",
              "      <td>0.091267</td>\n",
              "      <td>0.030710</td>\n",
              "      <td>0.013368</td>\n",
              "      <td>-0.048573</td>\n",
              "      <td>-0.029691</td>\n",
              "      <td>-0.036411</td>\n",
              "      <td>-0.050452</td>\n",
              "      <td>...</td>\n",
              "      <td>-0.095066</td>\n",
              "      <td>0.073020</td>\n",
              "      <td>0.000455</td>\n",
              "      <td>0.009007</td>\n",
              "      <td>-0.200561</td>\n",
              "      <td>0.041989</td>\n",
              "      <td>-0.104594</td>\n",
              "      <td>-0.057888</td>\n",
              "      <td>-0.002015</td>\n",
              "      <td>0.059239</td>\n",
              "      <td>0.030840</td>\n",
              "      <td>-0.064879</td>\n",
              "      <td>-0.046151</td>\n",
              "      <td>0.033671</td>\n",
              "      <td>0.015656</td>\n",
              "      <td>0.025278</td>\n",
              "      <td>-0.081018</td>\n",
              "      <td>-0.023205</td>\n",
              "      <td>-0.159466</td>\n",
              "      <td>-0.003573</td>\n",
              "      <td>-0.086642</td>\n",
              "      <td>-0.050875</td>\n",
              "      <td>0.095292</td>\n",
              "      <td>0.091483</td>\n",
              "      <td>-0.088278</td>\n",
              "      <td>0.059975</td>\n",
              "      <td>-0.044227</td>\n",
              "      <td>0.050822</td>\n",
              "      <td>-0.033681</td>\n",
              "      <td>0.050945</td>\n",
              "      <td>0.065599</td>\n",
              "      <td>-0.100319</td>\n",
              "      <td>-0.002497</td>\n",
              "      <td>0.022700</td>\n",
              "      <td>-0.012649</td>\n",
              "      <td>-0.010830</td>\n",
              "      <td>-0.000532</td>\n",
              "      <td>-0.030526</td>\n",
              "      <td>-0.016204</td>\n",
              "      <td>0.014038</td>\n",
              "    </tr>\n",
              "    <tr>\n",
              "      <th>4</th>\n",
              "      <td>1485388800000000000</td>\n",
              "      <td>11</td>\n",
              "      <td>7.739220</td>\n",
              "      <td>-0.000736</td>\n",
              "      <td>2296.68</td>\n",
              "      <td>-0.024364</td>\n",
              "      <td>-0.081732</td>\n",
              "      <td>0.077537</td>\n",
              "      <td>0.075043</td>\n",
              "      <td>0.020058</td>\n",
              "      <td>-0.026464</td>\n",
              "      <td>-0.018491</td>\n",
              "      <td>0.006119</td>\n",
              "      <td>-3.588017e-03</td>\n",
              "      <td>-0.009489</td>\n",
              "      <td>-0.072038</td>\n",
              "      <td>-0.051292</td>\n",
              "      <td>0.136390</td>\n",
              "      <td>-0.088917</td>\n",
              "      <td>0.050356</td>\n",
              "      <td>-0.005000</td>\n",
              "      <td>-0.061521</td>\n",
              "      <td>-0.066404</td>\n",
              "      <td>0.039008</td>\n",
              "      <td>0.038713</td>\n",
              "      <td>0.090719</td>\n",
              "      <td>0.042298</td>\n",
              "      <td>-0.018745</td>\n",
              "      <td>-0.108295</td>\n",
              "      <td>-0.015951</td>\n",
              "      <td>0.003098</td>\n",
              "      <td>0.001650</td>\n",
              "      <td>-0.024048</td>\n",
              "      <td>0.069085</td>\n",
              "      <td>0.000631</td>\n",
              "      <td>0.039560</td>\n",
              "      <td>-0.044054</td>\n",
              "      <td>-0.027741</td>\n",
              "      <td>-0.020844</td>\n",
              "      <td>-0.044648</td>\n",
              "      <td>...</td>\n",
              "      <td>-0.098749</td>\n",
              "      <td>0.076204</td>\n",
              "      <td>0.013124</td>\n",
              "      <td>0.037509</td>\n",
              "      <td>-0.175561</td>\n",
              "      <td>0.034832</td>\n",
              "      <td>-0.097147</td>\n",
              "      <td>-0.069389</td>\n",
              "      <td>0.009165</td>\n",
              "      <td>0.046781</td>\n",
              "      <td>0.022844</td>\n",
              "      <td>-0.056262</td>\n",
              "      <td>-0.043774</td>\n",
              "      <td>0.035230</td>\n",
              "      <td>-0.004933</td>\n",
              "      <td>0.013672</td>\n",
              "      <td>-0.046692</td>\n",
              "      <td>-0.052226</td>\n",
              "      <td>-0.176666</td>\n",
              "      <td>0.002695</td>\n",
              "      <td>-0.078888</td>\n",
              "      <td>-0.030516</td>\n",
              "      <td>0.084958</td>\n",
              "      <td>0.104379</td>\n",
              "      <td>-0.090519</td>\n",
              "      <td>0.073739</td>\n",
              "      <td>-0.026639</td>\n",
              "      <td>0.044977</td>\n",
              "      <td>-0.027999</td>\n",
              "      <td>0.038828</td>\n",
              "      <td>0.059542</td>\n",
              "      <td>-0.063814</td>\n",
              "      <td>0.015589</td>\n",
              "      <td>0.023700</td>\n",
              "      <td>-0.015280</td>\n",
              "      <td>-0.017420</td>\n",
              "      <td>-0.021432</td>\n",
              "      <td>-0.003628</td>\n",
              "      <td>-0.009967</td>\n",
              "      <td>0.024757</td>\n",
              "    </tr>\n",
              "  </tbody>\n",
              "</table>\n",
              "<p>5 rows × 305 columns</p>\n",
              "</div>"
            ],
            "text/plain": [
              "                  date  text       log  ...       297       298       299\n",
              "0  1484870400000000000    13  7.728112  ...  0.004669 -0.048963  0.057145\n",
              "1  1485129600000000000     1  7.725418  ...  0.015999 -0.022958 -0.000873\n",
              "2  1485216000000000000     4  7.731961  ...  0.005188 -0.042030  0.021699\n",
              "3  1485302400000000000     8  7.739955  ... -0.030526 -0.016204  0.014038\n",
              "4  1485388800000000000    11  7.739220  ... -0.003628 -0.009967  0.024757\n",
              "\n",
              "[5 rows x 305 columns]"
            ]
          },
          "metadata": {
            "tags": []
          },
          "execution_count": 26
        }
      ]
    },
    {
      "cell_type": "code",
      "metadata": {
        "id": "n7AswbGKfTFw",
        "colab_type": "code",
        "colab": {}
      },
      "source": [
        "#特徴量とターゲットを決める\n",
        "from sklearn.model_selection import train_test_split\n",
        "\n",
        "target_col = 'dif_log'\n",
        "exclude_cols = ['log', 'price', 'dif_log', \"date\",\"text\"]\n",
        "feature_cols = []\n",
        "for col in df4.columns:\n",
        "    if col not in exclude_cols:\n",
        "        feature_cols.append(col)\n",
        "        \n",
        "X = np.array(df4[feature_cols])\n",
        "y = np.array(df4[target_col])"
      ],
      "execution_count": 0,
      "outputs": []
    },
    {
      "cell_type": "code",
      "metadata": {
        "id": "20189zR5fTF0",
        "colab_type": "code",
        "outputId": "908344cd-b35b-4f5b-86ab-ae3690438a39",
        "colab": {
          "base_uri": "https://localhost:8080/",
          "height": 85
        }
      },
      "source": [
        "X_train_val, X_test, y_train_val, y_test = train_test_split(\n",
        "    X, y, test_size=0.1, random_state=1234)\n",
        "\n",
        "print('X_train_val Features Shape: ', X_train_val.shape)\n",
        "print('y_train_val Target Shape: ', y_train_val.shape)\n",
        "print('X_test Features Shape: ', X_test.shape)\n",
        "print('y_test Target Shape: ', y_test.shape)"
      ],
      "execution_count": 28,
      "outputs": [
        {
          "output_type": "stream",
          "text": [
            "X_train_val Features Shape:  (739, 300)\n",
            "y_train_val Target Shape:  (739,)\n",
            "X_test Features Shape:  (83, 300)\n",
            "y_test Target Shape:  (83,)\n"
          ],
          "name": "stdout"
        }
      ]
    },
    {
      "cell_type": "code",
      "metadata": {
        "id": "mW7aRfLifTF3",
        "colab_type": "code",
        "outputId": "c48d2cef-d375-4c41-c958-79fd812f43bd",
        "colab": {
          "base_uri": "https://localhost:8080/",
          "height": 85
        }
      },
      "source": [
        "X_train, X_val, y_train, y_val = train_test_split(\n",
        "    X_train_val, y_train_val, test_size=0.1, random_state=1234)\n",
        "\n",
        "# 参考：分割後のデータ数を確認\n",
        "print('X_train Features Shape: ', X_train.shape)\n",
        "print('y_train Target Shape: ', y_train.shape)\n",
        "print('X_val Features Shape: ', X_val.shape)\n",
        "print('y_val Target Shape: ', y_val.shape)"
      ],
      "execution_count": 29,
      "outputs": [
        {
          "output_type": "stream",
          "text": [
            "X_train Features Shape:  (665, 300)\n",
            "y_train Target Shape:  (665,)\n",
            "X_val Features Shape:  (74, 300)\n",
            "y_val Target Shape:  (74,)\n"
          ],
          "name": "stdout"
        }
      ]
    },
    {
      "cell_type": "code",
      "metadata": {
        "id": "AMGJVo-zfTF6",
        "colab_type": "code",
        "colab": {}
      },
      "source": [
        "#分析用のライブラリ\n",
        "\n",
        "from collections import Counter\n",
        "from sklearn.linear_model import LogisticRegression\n",
        "from sklearn.metrics import confusion_matrix, accuracy_score, classification_report\n",
        "from sklearn.linear_model import LinearRegression  # 線形回帰モデルのライブラリ\n",
        "from sklearn.metrics import mean_squared_error  # MSEのライブラリ\n",
        "from sklearn.ensemble import RandomForestRegressor"
      ],
      "execution_count": 0,
      "outputs": []
    },
    {
      "cell_type": "code",
      "metadata": {
        "id": "_7Ucu_2FfTF_",
        "colab_type": "code",
        "outputId": "bb153d92-03e8-4be1-cf37-7efac1682541",
        "colab": {
          "base_uri": "https://localhost:8080/",
          "height": 34
        }
      },
      "source": [
        "#分析1 線形回帰\n",
        "\n",
        "from sklearn.linear_model import LinearRegression  # 線形回帰モデルのライブラリ\n",
        "from sklearn.metrics import mean_squared_error  # MSEのライブラリ\n",
        "\n",
        "lm = LinearRegression()\n",
        "lm.fit(X_train, y_train)\n",
        "y_pred = lm.predict(X_val)\n",
        "lm_mse = mean_squared_error(y_val, y_pred)\n",
        "print('LinerRegression RMSE: ', round(np.sqrt(lm_mse), 3))"
      ],
      "execution_count": 31,
      "outputs": [
        {
          "output_type": "stream",
          "text": [
            "LinerRegression RMSE:  0.017\n"
          ],
          "name": "stdout"
        }
      ]
    },
    {
      "cell_type": "code",
      "metadata": {
        "id": "yP6pY8SpfTGB",
        "colab_type": "code",
        "outputId": "fb1db1c3-b217-422d-8880-8688a9ed2a00",
        "colab": {
          "base_uri": "https://localhost:8080/",
          "height": 34
        }
      },
      "source": [
        "#分析2 決定木\n",
        "\n",
        "from sklearn.tree import DecisionTreeRegressor\n",
        "\n",
        "dt = DecisionTreeRegressor(random_state=1234)\n",
        "dt.fit(X_train, y_train)\n",
        "y_pred = dt.predict(X_val)\n",
        "dt_mse = mean_squared_error(y_val, y_pred)\n",
        "print('DecisionTreeRegressor RMSE: ', round(np.sqrt(dt_mse), 3))"
      ],
      "execution_count": 32,
      "outputs": [
        {
          "output_type": "stream",
          "text": [
            "DecisionTreeRegressor RMSE:  0.022\n"
          ],
          "name": "stdout"
        }
      ]
    },
    {
      "cell_type": "code",
      "metadata": {
        "id": "TAO7GAT8fTGE",
        "colab_type": "code",
        "outputId": "eecade79-7d61-4290-fdf8-74803071c468",
        "colab": {
          "base_uri": "https://localhost:8080/",
          "height": 34
        }
      },
      "source": [
        "#分析3 ランダムフォレスト\n",
        "\n",
        "from sklearn.ensemble import RandomForestRegressor\n",
        "\n",
        "rf = RandomForestRegressor(n_estimators=100, random_state=1234)\n",
        "rf.fit(X_train, y_train)\n",
        "y_pred = rf.predict(X_val)\n",
        "rf_mse = mean_squared_error(y_val, y_pred)\n",
        "print('RandomForestRegressor RMSE: ', round(np.sqrt(rf_mse), 3))"
      ],
      "execution_count": 33,
      "outputs": [
        {
          "output_type": "stream",
          "text": [
            "RandomForestRegressor RMSE:  0.013\n"
          ],
          "name": "stdout"
        }
      ]
    },
    {
      "cell_type": "code",
      "metadata": {
        "id": "8iYWdBRkfTGH",
        "colab_type": "code",
        "outputId": "f5982b62-eef0-4db8-a5d5-86ed4ce12d4b",
        "colab": {
          "base_uri": "https://localhost:8080/",
          "height": 282
        }
      },
      "source": [
        "#分析3 ランダムフォレストの特徴量\n",
        "\n",
        "rf_importances = pd.DataFrame(rf.feature_importances_, columns=['importance'], index=feature_cols)\n",
        "rf_importances.sort_values('importance', ascending=False).iloc[0:15].plot(kind='barh')"
      ],
      "execution_count": 34,
      "outputs": [
        {
          "output_type": "execute_result",
          "data": {
            "text/plain": [
              "<matplotlib.axes._subplots.AxesSubplot at 0x7f2a34fe2710>"
            ]
          },
          "metadata": {
            "tags": []
          },
          "execution_count": 34
        },
        {
          "output_type": "display_data",
          "data": {
            "image/png": "[encoded data removed]",
            "text/plain": [
              "<Figure size 432x288 with 1 Axes>"
            ]
          },
          "metadata": {
            "tags": [],
            "needs_background": "light"
          }
        }
      ]
    },
    {
      "cell_type": "code",
      "metadata": {
        "id": "_FrzHo3CfTGK",
        "colab_type": "code",
        "outputId": "dc0f6546-8b21-4cfb-b83b-75b7a79d82dc",
        "colab": {
          "base_uri": "https://localhost:8080/",
          "height": 68
        }
      },
      "source": [
        "#４つの分析の結果の比較\n",
        "\n",
        "print('線形回帰モデルのRMSE:    ', round(np.sqrt(lm_mse), 3))\n",
        "print('回帰木のRMSE:                  ', round(np.sqrt(dt_mse), 3))\n",
        "print('ランダムフォレストのRMSE: ', round(np.sqrt(rf_mse), 3))"
      ],
      "execution_count": 35,
      "outputs": [
        {
          "output_type": "stream",
          "text": [
            "線形回帰モデルのRMSE:     0.017\n",
            "回帰木のRMSE:                   0.022\n",
            "ランダムフォレストのRMSE:  0.013\n"
          ],
          "name": "stdout"
        }
      ]
    },
    {
      "cell_type": "code",
      "metadata": {
        "id": "6nAtZEWZfTGO",
        "colab_type": "code",
        "outputId": "0171c901-493b-48df-f4ff-22e810551159",
        "colab": {
          "base_uri": "https://localhost:8080/",
          "height": 85
        }
      },
      "source": [
        "#分析4 ランダムフォレストのチューニング\n",
        "\n",
        "# クロスバリデーションとグリッドサーチ のライブラリ\n",
        "from sklearn.model_selection import GridSearchCV\n",
        "\n",
        "rf = RandomForestRegressor(random_state=1234)\n",
        "\n",
        "params = {'n_estimators': [10, 25, 50, 100], 'max_depth': [10, 20, 30, 50]}\n",
        "gscv = GridSearchCV(rf, param_grid=params, verbose=1, cv=3,\n",
        "                    scoring='neg_mean_squared_error', n_jobs=-1)\n",
        "gscv.fit(X_train, y_train)\n",
        "\n",
        "gscv.best_params_"
      ],
      "execution_count": 36,
      "outputs": [
        {
          "output_type": "stream",
          "text": [
            "Fitting 3 folds for each of 16 candidates, totalling 48 fits\n"
          ],
          "name": "stdout"
        },
        {
          "output_type": "stream",
          "text": [
            "[Parallel(n_jobs=-1)]: Using backend LokyBackend with 2 concurrent workers.\n",
            "[Parallel(n_jobs=-1)]: Done  48 out of  48 | elapsed:  2.3min finished\n"
          ],
          "name": "stderr"
        },
        {
          "output_type": "execute_result",
          "data": {
            "text/plain": [
              "{'max_depth': 30, 'n_estimators': 100}"
            ]
          },
          "metadata": {
            "tags": []
          },
          "execution_count": 36
        }
      ]
    },
    {
      "cell_type": "code",
      "metadata": {
        "id": "TAcxNPOffTGR",
        "colab_type": "code",
        "colab": {
          "base_uri": "https://localhost:8080/",
          "height": 34
        },
        "outputId": "d35bfad5-4c04-4d9c-a79f-82901f288c60"
      },
      "source": [
        "#分析4 ランダムフォレストのチューニング\n",
        "best_estimators = gscv.best_params_[\"n_estimators\"]\n",
        "best_depth = gscv.best_params_[\"max_depth\"]\n",
        "\n",
        "rf_best = RandomForestRegressor(n_estimators=best_estimators, max_depth=best_depth, random_state=1234)\n",
        "rf_best.fit(X_train, y_train)\n",
        "y_pred = rf_best.predict(X_val)\n",
        "rf_best_mse = mean_squared_error(y_val, y_pred)\n",
        "print('RandomForest RMSE: ', round(np.sqrt(rf_best_mse), 3))"
      ],
      "execution_count": 37,
      "outputs": [
        {
          "output_type": "stream",
          "text": [
            "RandomForest RMSE:  0.013\n"
          ],
          "name": "stdout"
        }
      ]
    },
    {
      "cell_type": "code",
      "metadata": {
        "id": "43P-uNhxfTGU",
        "colab_type": "code",
        "colab": {
          "base_uri": "https://localhost:8080/",
          "height": 34
        },
        "outputId": "87f12613-6021-45c0-bd6a-8b69029a57fd"
      },
      "source": [
        "#分析5 チューニングしたモデルにテストデータを代入\n",
        "\n",
        "y_pred_on_test = rf_best.predict(X_test)\n",
        "rf_best_test_mse = mean_squared_error(y_test, y_pred_on_test)\n",
        "print('RandomForest RMSE: ', round(np.sqrt(rf_best_test_mse), 3))"
      ],
      "execution_count": 38,
      "outputs": [
        {
          "output_type": "stream",
          "text": [
            "RandomForest RMSE:  0.011\n"
          ],
          "name": "stdout"
        }
      ]
    },
    {
      "cell_type": "code",
      "metadata": {
        "id": "OXUicVllfTGc",
        "colab_type": "code",
        "colab": {
          "base_uri": "https://localhost:8080/",
          "height": 598
        },
        "outputId": "2962dfa2-d3db-446f-cdbe-8511fbfb04e2"
      },
      "source": [
        "#分析5 テストデータを代入\n",
        "#誤差を可視化\n",
        "\n",
        "plt.scatter(y_test, y_pred_on_test)\n",
        "plt.show()\n",
        "\n",
        "import seaborn as sns\n",
        "\n",
        "error_rate = (y_test - y_pred_on_test) / y_test\n",
        "print('Mean: ', round(np.mean(error_rate), 5))\n",
        "print('Std: ', round(np.std(error_rate), 5))\n",
        "sns.distplot(error_rate, kde=False, rug=False, bins=20)"
      ],
      "execution_count": 39,
      "outputs": [
        {
          "output_type": "display_data",
          "data": {
            "image/png": "[encoded data removed]",
            "text/plain": [
              "<Figure size 432x288 with 1 Axes>"
            ]
          },
          "metadata": {
            "tags": [],
            "needs_background": "light"
          }
        },
        {
          "output_type": "stream",
          "text": [
            "Mean:  1.94613\n",
            "Std:  3.91983\n"
          ],
          "name": "stdout"
        },
        {
          "output_type": "stream",
          "text": [
            "/usr/local/lib/python3.6/dist-packages/statsmodels/tools/_testing.py:19: FutureWarning: pandas.util.testing is deprecated. Use the functions in the public API at pandas.testing instead.\n",
            "  import pandas.util.testing as tm\n"
          ],
          "name": "stderr"
        },
        {
          "output_type": "execute_result",
          "data": {
            "text/plain": [
              "<matplotlib.axes._subplots.AxesSubplot at 0x7f2a3424e780>"
            ]
          },
          "metadata": {
            "tags": []
          },
          "execution_count": 39
        },
        {
          "output_type": "display_data",
          "data": {
            "image/png": "[encoded data removed]",
            "text/plain": [
              "<Figure size 432x288 with 1 Axes>"
            ]
          },
          "metadata": {
            "tags": [],
            "needs_background": "light"
          }
        }
      ]
    },
    {
      "cell_type": "code",
      "metadata": {
        "id": "sGW47_XkfTGi",
        "colab_type": "code",
        "colab": {
          "base_uri": "https://localhost:8080/",
          "height": 581
        },
        "outputId": "9599f35e-2232-4491-b984-a73445c54699"
      },
      "source": [
        "#分析6 クラスタリング\n",
        "#https://hironsan.hatenablog.com/entry/clustering-word-vectors\n",
        "\n",
        "from collections import defaultdict\n",
        "from gensim.models.keyedvectors import KeyedVectors\n",
        "from sklearn.cluster import KMeans\n",
        "\n",
        "model = KeyedVectors.load('skipgram_w2v.model')\n",
        "max_vocab = 30000\n",
        "vocab = list(model.wv.vocab.keys())[:max_vocab]\n",
        "vectors = [model.wv[word] for word in vocab]\n",
        "\n",
        "n_clusters = 30\n",
        "kmeans_model = KMeans(n_clusters=n_clusters, verbose=1, random_state=1234, n_jobs=-1)\n",
        "kmeans_model.fit(vectors)\n",
        "\n",
        "cluster_labels = kmeans_model.labels_\n",
        "cluster_to_words = defaultdict(list)\n",
        "for cluster_id, word in zip(cluster_labels, vocab):\n",
        "    cluster_to_words[cluster_id].append(word)\n",
        "\n",
        "for words in cluster_to_words.values():\n",
        "    print(words[:10])"
      ],
      "execution_count": 40,
      "outputs": [
        {
          "output_type": "stream",
          "text": [
            "/usr/local/lib/python3.6/dist-packages/smart_open/smart_open_lib.py:253: UserWarning: This function is deprecated, use smart_open.open instead. See the migration notes for details: https://github.com/RaRe-Technologies/smart_open/blob/master/README.rst#migrating-to-the-new-open-function\n",
            "  'See the migration notes for details: %s' % _MIGRATION_NOTES_URL\n"
          ],
          "name": "stderr"
        },
        {
          "output_type": "stream",
          "text": [
            "['trump', 'show', '\\u2066', '\\u2069', '2016', 'interview', 'marthamaccallum', 'wow', 'check', 'kavanaugh']\n",
            "['gets', 'fire', 'ny', 'gave', 'pandemic', 'direction', 'strategy', 'bucksexton', 'responsible', 'may']\n",
            "['latest', 'president', 'realdonaldtrump', 'leadership', 'first', 'day', 'message', 'hughhewitt', '—', 'team']\n",
            "['poll', 'approval', 'best', 'trillion', 'since', 'history', 'economic', 'highest', 'economy', 'numbers']\n",
            "['6', '7', 'point', 'teamtrump', '8', 'days', 'gopchairwoman', 'new', 'office', 'million']\n",
            "['tied', 'using', 'cop', 'seems', 'cops', 'knew', 'general', 'flynn', 'tried', 'refuses']\n",
            "['governor', 'michigan', 'night', 'vote', 'opponent', 'wisconsin', 'jersey', 'early', 'win', 'louisiana']\n",
            "['give', 'little', 'put', 'want', 'given', 'others', 'enough', 'would', 'else', 'spent']\n",
            "['good', 'people', 'back', 'see', 'talk', 'make', 'one', 'amp', 'late', 'done']\n",
            "['angry', 'brought', 'dirty', 'whole', 'case', 'mueller', 'scam', 'greatest', 'russia', 'collusion']\n",
            "['lives', 'mikepence', 'response', 'ensure', 'supply', 'chuckgrassley', 'w', 'protecting', 'americas', 'seniors']\n",
            "['deal', 'dollars', '25', 'pay', 'goods', 'paying', 'powell', 'higher', 'countries', 'china']\n",
            "['cryin', 'chuck', 'schumer', 'democrats', 'speaker', 'pelosi', 'house', 'gopleader', 'partisan', 'votes']\n",
            "['senators', 'act', 'work', 'voted', 'need', 'congress', 'help', 'fight', 'tax', 'get']\n",
            "['home', 'states', 'testing', 'ventilators', 'chinese', 'rest', 'ultimately', 'us', 'payments', 'financial']\n",
            "['totally', 'loser', 'thing', 'never', 'even', 'called', 'wonder', '’', 'talking', '”']\n",
            "['stop', 'border', 'funding', 'allow', 'necessary', 'open', 'must', 'immigration', 'human', 'agents']\n",
            "['cuomo', 'false', 'media', 'fake', 'news', 'cnn', 'msdnc', 'story', 'washington', 'post']\n",
            "['stand', 'america', 'americans', 'every', 'incredible', 'hardworking', 'nation', 'liberty', 'freedom', 'life']\n",
            "['aoc', 'run', 'supporters', 'going', 'drain', 'swamp', 'radical', 'left', 'election', 'beat']\n",
            "['job', 'special', 'mike', 'tom', 'kevin', 'michael', 'state', 'brian', 'ryan', 'leader']\n",
            "['lied', 'fusion', 'fbi', 'investigation', 'james', 'documents', 'director', 'christopher', 'wray', 'comey']\n",
            "['middle', 'gm', 'production', 'farmers', 'ranchers', 'cut', 'small', 'business', 'parts', 'plants']\n",
            "['east', 'met', 'morning', 'test', 'meeting', 'conference', 'white', 'press', '530', 'pm']\n",
            "['authority', 'rep', 'corruption', 'jimjordan', 'deep', 'released', 'th', 'katiepavlich', 'elisestefanik', 'repandybiggsaz']\n",
            "['defense', 'careful', 'navy', 'officials', 'closely', 'supporting', 'wonderful', 'advice', 'loved', 'discussing']\n",
            "['honor', 'whitehouse', 'live', 'potus', 'delivers', 'remarks', 'today', 'birthday', 'vp', 'oval']\n",
            "['military', 'vets', 'fighter', 'supports', 'loves', 'strong', 'crime', 'second', 'amendment', 'complete']\n",
            "['2020', 'iowa', 'thank', 'tonight', 'laraleatrump', 'erictrump', '🇺', '🇸', 'west', 'maga']\n",
            "['ं', 'ी', 'क', 'े', '्', 'र', 'ा', 'ि', 'म', 'ह']\n"
          ],
          "name": "stdout"
        }
      ]
    },
    {
      "cell_type": "code",
      "metadata": {
        "id": "Fu0b2E73mdhz",
        "colab_type": "code",
        "colab": {
          "base_uri": "https://localhost:8080/",
          "height": 472
        },
        "outputId": "7c3e8125-d9cb-41c9-ac0b-63039654c53d"
      },
      "source": [
        "#分析7 似ている単語をプロット\n",
        "# https://yoshipc.net/python-word2vec/\n",
        " \n",
        "from gensim.models import word2vec\n",
        "import numpy as np\n",
        "import matplotlib.pyplot as plt\n",
        "from sklearn.decomposition import PCA\n",
        " \n",
        "model = word2vec.Word2Vec.load(\"/content/skipgram_w2v.model\")\n",
        " \n",
        "#調べる情報を配列に収納\n",
        "trump_word = []\n",
        "trump_word.append([\"america\",\"china\"])\n",
        "trump_word.append([\"america\",\"great\"])\n",
        "trump_word.append([\"america\",\"japan\"])\n",
        "trump_word.append([\"trump\",\"president\"])\n",
        "trump_word.append([\"coronavirus\",\"covid\"])\n",
        "trump_word.append([\"coronavirus\",\"economy\"])\n",
        "trump_word.append([\"stock\",\"economy\"])\n",
        "\n",
        "length = len(trump_word)\n",
        "data = []\n",
        " \n",
        "j = 0\n",
        "while j < length:\n",
        "    #print(trump_word[j][1])\n",
        "    data.append(model[trump_word[j][0]])\n",
        "    data.append(model[trump_word[j][1]])\n",
        "    j += 1\n",
        " \n",
        "pca = PCA(n_components=2)\n",
        "pca.fit(data)\n",
        "data_pca= pca.transform(data)\n",
        " \n",
        "length_data = len(data_pca)\n",
        " \n",
        "i = 0\n",
        "j = 0\n",
        "while i < length_data:\n",
        "    #点プロット\n",
        "    plt.plot(data_pca[i][0], data_pca[i][1], ms=5.0, zorder=2 ,marker=\"x\")\n",
        "    plt.plot(data_pca[i+1][0], data_pca[i+1][1],ms=5.0, zorder=2 ,marker=\"x\")\n",
        " \n",
        "    #線プロット\n",
        "    plt.plot((data_pca[i][0], data_pca[i+1][0]),(data_pca[i][1],data_pca[i+1][1]),c=\"b\",linewidth=0.5,zorder=1,linestyle=\"--\")\n",
        " \n",
        "    #文字プロット\n",
        "    plt.annotate(trump_word[j][0],(data_pca[i][0], data_pca[i][1]),size=7)\n",
        "    plt.annotate(trump_word[j][1],(data_pca[i+1][0], data_pca[i+1][1]),size=7)\n",
        " \n",
        "    j += 1\n",
        "    i += 2\n",
        " \n",
        "plt.show()"
      ],
      "execution_count": 41,
      "outputs": [
        {
          "output_type": "stream",
          "text": [
            "china\n",
            "great\n",
            "japan\n",
            "president\n",
            "covid\n",
            "economy\n",
            "economy\n"
          ],
          "name": "stdout"
        },
        {
          "output_type": "stream",
          "text": [
            "/usr/local/lib/python3.6/dist-packages/smart_open/smart_open_lib.py:253: UserWarning: This function is deprecated, use smart_open.open instead. See the migration notes for details: https://github.com/RaRe-Technologies/smart_open/blob/master/README.rst#migrating-to-the-new-open-function\n",
            "  'See the migration notes for details: %s' % _MIGRATION_NOTES_URL\n",
            "/usr/local/lib/python3.6/dist-packages/ipykernel_launcher.py:25: DeprecationWarning: Call to deprecated `__getitem__` (Method will be removed in 4.0.0, use self.wv.__getitem__() instead).\n",
            "/usr/local/lib/python3.6/dist-packages/ipykernel_launcher.py:26: DeprecationWarning: Call to deprecated `__getitem__` (Method will be removed in 4.0.0, use self.wv.__getitem__() instead).\n"
          ],
          "name": "stderr"
        },
        {
          "output_type": "display_data",
          "data": {
            "image/png": "[encoded data removed]",
            "text/plain": [
              "<Figure size 432x288 with 1 Axes>"
            ]
          },
          "metadata": {
            "tags": [],
            "needs_background": "light"
          }
        }
      ]
    },
    {
      "cell_type": "code",
      "metadata": {
        "id": "zXq4SYqwp5Xu",
        "colab_type": "code",
        "colab": {}
      },
      "source": [
        "#分析8 DeepLearning\n",
        "#ライブラリをインポート\n",
        "\n",
        "import numpy as np\n",
        "import pandas as pd\n",
        "import torch\n",
        "from torch import nn\n",
        "from torch import optim\n",
        "import torch.nn.functional as F\n",
        "from torch.utils.data import DataLoader, TensorDataset\n",
        "from sklearn.model_selection import train_test_split\n",
        "from sklearn.metrics import confusion_matrix\n",
        "import matplotlib.pyplot as plt"
      ],
      "execution_count": 0,
      "outputs": []
    },
    {
      "cell_type": "code",
      "metadata": {
        "id": "4uecjMVBTBij",
        "colab_type": "code",
        "colab": {}
      },
      "source": [
        "class myMLP(nn.Module):\n",
        "    def __init__(self, in_features, out_features):\n",
        "        super().__init__()\n",
        "        self.ln1 = nn.Linear(in_features, 256)\n",
        "        self.ln2 = nn.Linear(256, 128)\n",
        "        self.ln3 = nn.Linear(128, 32)\n",
        "        self.ln4 = nn.Linear(32, 64)\n",
        "        self.ln5 = nn.Linear(64, 32)\n",
        "        self.ln6 = nn.Linear(32, 4)\n",
        "        self.ln7 = nn.Linear(4, out_features)\n",
        "\n",
        "    def forward(self, x):\n",
        "        x = self.ln1(x)\n",
        "        x = F.relu(x)\n",
        "        x = self.ln2(x)\n",
        "        x = F.relu(x)\n",
        "        x = self.ln3(x)\n",
        "        x = F.relu(x)\n",
        "        x = self.ln4(x)\n",
        "        x = F.relu(x)\n",
        "        x = self.ln5(x)\n",
        "        x = F.relu(x)\n",
        "        x = self.ln6(x)\n",
        "        x = F.relu(x)\n",
        "        x = self.ln7(x)\n",
        "        return x"
      ],
      "execution_count": 0,
      "outputs": []
    },
    {
      "cell_type": "code",
      "metadata": {
        "id": "_qwTPkn83jED",
        "colab_type": "code",
        "colab": {
          "base_uri": "https://localhost:8080/",
          "height": 404
        },
        "outputId": "77a99906-2a96-42f8-d35a-b656a46cfb0c"
      },
      "source": [
        "#分析8 DeepLearning\n",
        "# NumPyのarryをtorch.tensor型に変換する。\n",
        "\n",
        "X_train, X_test, y_train, y_test = train_test_split(\n",
        "    X, y, test_size=0.2, random_state=1234)\n",
        "\n",
        "X_train_tensor = torch.tensor(X_train, dtype=torch.float32)\n",
        "y_train_tensor = torch.tensor(y_train, dtype=torch.float32)\n",
        "X_test_tensor = torch.tensor(X_test, dtype=torch.float32)\n",
        "y_test_tensor = torch.tensor(y_test, dtype=torch.float32)\n",
        "\n",
        "train_dataset = TensorDataset(X_train_tensor, y_train_tensor)\n",
        "train_loader = DataLoader(train_dataset, batch_size=100, shuffle=True)\n",
        "\n",
        "#ネットワークを書く\n",
        "net = myMLP(300,1)\n",
        "net.parameters\n",
        "\n",
        "#目的関数を指定（今回は回帰問題のためMSELoss()を使用する）\n",
        "#https://pytorch.org/docs/stable/nn.html#loss-functions\n",
        "loss_func = nn.MSELoss()\n",
        "#Optimizerを定義する\n",
        "#https://pytorch.org/docs/stable/optim.html\n",
        "optimizer = optim.RMSprop(net.parameters())\n",
        "  \n",
        "train_loss_track = []\n",
        "test_loss_track = []\n",
        "\n",
        "for epoc in range(10):\n",
        "    running_loss = 0\n",
        "    \n",
        "    # 学習モード\n",
        "    net.train()\n",
        "    for step, (xx, yy)  in enumerate(train_loader):\n",
        "        \n",
        "        # 最後に計算した各パラメーターの勾配を初期化する\n",
        "        optimizer.zero_grad()\n",
        "        \n",
        "        # フォワード計算を行う\n",
        "        y_pred = net(xx).float()\n",
        "        \n",
        "        # 誤差関数を使ってギャップの計測\n",
        "        loss = loss_func(y_pred, yy)\n",
        "      \n",
        "        # 誤差逆伝播法を使って自動微分\n",
        "        loss.backward()\n",
        "        \n",
        "        # パラメーターを更新\n",
        "        optimizer.step()\n",
        "        \n",
        "        # 学習データを使って誤差を計算\n",
        "        running_loss += loss.item()\n",
        "        \n",
        "    # エポックが終了したら平均誤差を計算\n",
        "    train_loss_track.append(running_loss/step)\n",
        "    \n",
        "    \n",
        "    #評価（evaluation）モード\n",
        "    net.eval()\n",
        "    \n",
        "    # 予測値を計算\n",
        "    y_pred = net(X_test_tensor)\n",
        "    \n",
        "    # 誤差関数を計算\n",
        "    test_loss = loss_func(y_pred, y_test_tensor)\n",
        "    \n",
        "    # 誤差をトラッキング\n",
        "    test_loss_track.append(test_loss)\n",
        "\n",
        "\n",
        "\n",
        "plt.plot(train_loss_track)\n",
        "plt.plot(test_loss_track)\n",
        "print(\"test_loss: \",sum(test_loss_track)/len(test_loss_track))"
      ],
      "execution_count": 63,
      "outputs": [
        {
          "output_type": "stream",
          "text": [
            "/usr/local/lib/python3.6/dist-packages/torch/nn/modules/loss.py:432: UserWarning: Using a target size (torch.Size([100])) that is different to the input size (torch.Size([100, 1])). This will likely lead to incorrect results due to broadcasting. Please ensure they have the same size.\n",
            "  return F.mse_loss(input, target, reduction=self.reduction)\n",
            "/usr/local/lib/python3.6/dist-packages/torch/nn/modules/loss.py:432: UserWarning: Using a target size (torch.Size([57])) that is different to the input size (torch.Size([57, 1])). This will likely lead to incorrect results due to broadcasting. Please ensure they have the same size.\n",
            "  return F.mse_loss(input, target, reduction=self.reduction)\n",
            "/usr/local/lib/python3.6/dist-packages/torch/nn/modules/loss.py:432: UserWarning: Using a target size (torch.Size([165])) that is different to the input size (torch.Size([165, 1])). This will likely lead to incorrect results due to broadcasting. Please ensure they have the same size.\n",
            "  return F.mse_loss(input, target, reduction=self.reduction)\n"
          ],
          "name": "stderr"
        },
        {
          "output_type": "stream",
          "text": [
            "test_loss:  tensor(0.0029, grad_fn=<DivBackward0>)\n"
          ],
          "name": "stdout"
        },
        {
          "output_type": "display_data",
          "data": {
            "image/png": "[encoded data removed]",
            "text/plain": [
              "<Figure size 432x288 with 1 Axes>"
            ]
          },
          "metadata": {
            "tags": [],
            "needs_background": "light"
          }
        }
      ]
    },
    {
      "cell_type": "code",
      "metadata": {
        "id": "Zs3RyM14_Was",
        "colab_type": "code",
        "colab": {
          "base_uri": "https://localhost:8080/",
          "height": 537
        },
        "outputId": "1f1d194e-a398-4a94-c6f7-acf755dee4db"
      },
      "source": [
        "#分析9　TFIDFを用いたランダムフォレスト\n",
        "\n",
        "#形態素解析のデータセットを作る\n",
        "#https://qiita.com/tomone_hata/items/67e7f9415dbf5c8ff8ba\n",
        "\n",
        "from sklearn.feature_extraction.text import CountVectorizer, TfidfTransformer\n",
        "\n",
        "#形態素解析のデータセットを作る\n",
        "#文章を全部１つのリストに入れる→TFIDFを作る→それぞれの日付に出てくる単語をKeyにTFIDFの値を取ってくる\n",
        "\n",
        "data_keitaiso = pd.read_csv(\"s&p_tweets.csv\")\n",
        "tweet_keitaiso=[]\n",
        "\n",
        "for tweet in data_keitaiso[\"text\"]:\n",
        "  tweet = re.sub(r'^RT[\\s]+', '', tweet)\n",
        "  tweet = re.sub(r'(http|https):\\/\\/.*[\\r\\n]*', '', tweet)\n",
        "  tweet = re.sub(r'#', '', tweet)\n",
        "  tweet = tweet.translate(str.maketrans('', '', string.punctuation)) \n",
        "  tweet_keitaiso.append(tweet)\n",
        "\n",
        "corpus = tweet_keitaiso         \n",
        "cv = CountVectorizer(token_pattern=r\"\\b\\w+\\b\")\n",
        "wc = cv.fit_transform(corpus)\n",
        "ttf = TfidfTransformer()\n",
        "tfidf = ttf.fit_transform(wc)\n",
        "\n",
        "#蜜行列に変更する\n",
        "X_tfidf = tfidf.toarray()\n",
        "\n",
        "data3 = pd.DataFrame(X_tfidf)\n",
        "df_tweets_tfidf =  pd.concat([data_keitaiso, data3], axis=1)\n",
        "\n",
        "df = df_tweets_tfidf.groupby([\"date\"]).mean()\n",
        "df_sp = pd.read_csv(\"/content/sp500-10-year-daily-chart.csv\")\n",
        "df_sp[\"log\"] = np.log(df_sp[\" value\"])\n",
        "df_sp[\"dif_log\"] = df_sp[\"log\"].diff()\n",
        "df2=pd.merge(df_sp, df, how=\"inner\" ,on=\"date\")\n",
        "df2 = df2.drop(\" value\", axis=1)\n",
        "df3 = df_tweets_tfidf[[\"date\",\"text\"]]\n",
        "df3 = df3.groupby([\"date\"]).count()\n",
        "df_tfidf = pd.merge( df3, df2, how=\"inner\" ,on=\"date\")\n",
        "df_tfidf[\"date\"] = pd.to_datetime(df4['date']).astype('int64')\n",
        "\n",
        "from sklearn.model_selection import train_test_split\n",
        "\n",
        "target_col = 'dif_log'\n",
        "exclude_cols = ['log', 'price', 'dif_log', \"date\",\"text\"]\n",
        "feature_cols = []\n",
        "for col in df_tfidf.columns:\n",
        "    if col not in exclude_cols:\n",
        "        feature_cols.append(col)\n",
        "        \n",
        "X2 = np.array(df_tfidf[feature_cols])\n",
        "y2 = np.array(df_tfidf[target_col])\n",
        "\n",
        "X２_train_val, X２_test, y２_train_val, y２_test = train_test_split(\n",
        "    X２, y２, test_size=0.1, random_state=1234)\n",
        "\n",
        "X２_train, X２_val, y２_train, y２_val = train_test_split(\n",
        "    X２_train_val, y２_train_val, test_size=0.1, random_state=1234)\n",
        "\n",
        "#分析\n",
        "from sklearn.ensemble import RandomForestRegressor\n",
        "\n",
        "rf = RandomForestRegressor(n_estimators=100, random_state=1234)\n",
        "rf.fit(X２_train, y２_train)\n",
        "y２_pred = rf.predict(X２_val)\n",
        "rf_mse_2 = mean_squared_error(y２_val, y２_pred)\n",
        "print('RandomForestRegressor RMSE: ', round(np.sqrt(rf_mse_2), 3))\n",
        "\n",
        "#プロット\n",
        "rf_importances = pd.DataFrame(rf.feature_importances_, columns=['importance'], index=feature_cols)\n",
        "rf_importances.sort_values('importance', ascending=False).iloc[0:15].plot(kind='barh')\n",
        "\n",
        "#列名をゲット\n",
        "#https://note.nkmk.me/python-dict-get-key-from-value/\n",
        "\n",
        "voca = cv.vocabulary_\n",
        "\n",
        "def get_keys_from_value(d, val):\n",
        "    return [k for k, v in d.items() if v == val]\n",
        "\n",
        "for i in rf_importances.sort_values('importance', ascending=False).iloc[0:15].index:\n",
        "  keys = get_keys_from_value(voca, i)\n",
        "  print(keys)\n",
        "# ['key1', 'key2']"
      ],
      "execution_count": 46,
      "outputs": [
        {
          "output_type": "stream",
          "text": [
            "RandomForestRegressor RMSE:  0.016\n",
            "['confident']\n",
            "['coronavirus']\n",
            "['declare']\n",
            "['nationwide']\n",
            "['duly']\n",
            "['spreading']\n",
            "['covid19']\n",
            "['practice']\n",
            "['cutter']\n",
            "['outbreak']\n",
            "['545']\n",
            "['prevail']\n",
            "['billcassidy']\n",
            "['restaurants']\n",
            "['jack']\n"
          ],
          "name": "stdout"
        },
        {
          "output_type": "display_data",
          "data": {
            "image/png": "[encoded data removed]",
            "text/plain": [
              "<Figure size 432x288 with 1 Axes>"
            ]
          },
          "metadata": {
            "tags": [],
            "needs_background": "light"
          }
        }
      ]
    },
    {
      "cell_type": "code",
      "metadata": {
        "id": "3fRvcdNFclQU",
        "colab_type": "code",
        "colab": {
          "base_uri": "https://localhost:8080/",
          "height": 408
        },
        "outputId": "68432eff-c029-4589-b64b-86413a3483b8"
      },
      "source": [
        "#分析10　形態素解析でDeepLearning\n",
        "\n",
        "X2_train, X2_test, y2_train, y2_test = train_test_split(\n",
        "    X２, y2, test_size=0.2, random_state=1234)\n",
        "\n",
        "X2_train_tensor = torch.tensor(X2_train, dtype=torch.float32)\n",
        "y2_train_tensor = torch.tensor(y2_train, dtype=torch.float32)\n",
        "X2_test_tensor = torch.tensor(X2_test, dtype=torch.float32)\n",
        "y2_test_tensor = torch.tensor(y2_test, dtype=torch.float32)\n",
        "\n",
        "train2_dataset = TensorDataset(X2_train_tensor, y2_train_tensor)\n",
        "train2_loader = DataLoader(train2_dataset, batch_size=100, shuffle=True)\n",
        "\n",
        "#ネットワークを書く\n",
        "net = myMLP(16493,1)\n",
        "net.parameters\n",
        "\n",
        "#目的関数を指定（今回は回帰問題のためMSELoss()を使用する）\n",
        "#https://pytorch.org/docs/stable/nn.html#loss-functions\n",
        "loss_func = nn.MSELoss()\n",
        "#Optimizerを定義する\n",
        "#https://pytorch.org/docs/stable/optim.html\n",
        "optimizer = optim.RMSprop(net.parameters())\n",
        "  \n",
        "train_loss_track = []\n",
        "test_loss_track = []\n",
        "\n",
        "for epoc in range(10):\n",
        "    running_loss = 0\n",
        "    \n",
        "    # 学習モード\n",
        "    net.train()\n",
        "    for step, (xx, yy)  in enumerate(train2_loader):\n",
        "        \n",
        "        # 最後に計算した各パラメーターの勾配を初期化する\n",
        "        optimizer.zero_grad()\n",
        "        \n",
        "        # フォワード計算を行う\n",
        "        y_pred = net(xx).float()\n",
        "        \n",
        "        # 誤差関数を使ってギャップの計測\n",
        "        loss = loss_func(y_pred, yy)\n",
        "      \n",
        "        # 誤差逆伝播法を使って自動微分\n",
        "        loss.backward()\n",
        "        \n",
        "        # パラメーターを更新\n",
        "        optimizer.step()\n",
        "        \n",
        "        # 学習データを使って誤差を計算\n",
        "        running_loss += loss.item()\n",
        "        \n",
        "    # エポックが終了したら平均誤差を計算\n",
        "    train_loss_track.append(running_loss/step)\n",
        "    \n",
        "    \n",
        "    #評価（evaluation）モード\n",
        "    net.eval()\n",
        "    \n",
        "    # 予測値を計算\n",
        "    y_pred = net(X2_test_tensor)\n",
        "    \n",
        "    # 誤差関数を計算\n",
        "    test_loss = loss_func(y_pred, y2_test_tensor)\n",
        "    \n",
        "    # 誤差をトラッキング\n",
        "    test_loss_track.append(test_loss)\n",
        "\n",
        "\n",
        "\n",
        "plt.plot(train_loss_track)\n",
        "plt.plot(test_loss_track)\n",
        "print(\"test_loss: \",sum(test_loss_track)/len(test_loss_track))"
      ],
      "execution_count": 62,
      "outputs": [
        {
          "output_type": "stream",
          "text": [
            "/usr/local/lib/python3.6/dist-packages/torch/nn/modules/loss.py:432: UserWarning: Using a target size (torch.Size([100])) that is different to the input size (torch.Size([100, 1])). This will likely lead to incorrect results due to broadcasting. Please ensure they have the same size.\n",
            "  return F.mse_loss(input, target, reduction=self.reduction)\n",
            "/usr/local/lib/python3.6/dist-packages/torch/nn/modules/loss.py:432: UserWarning: Using a target size (torch.Size([57])) that is different to the input size (torch.Size([57, 1])). This will likely lead to incorrect results due to broadcasting. Please ensure they have the same size.\n",
            "  return F.mse_loss(input, target, reduction=self.reduction)\n",
            "/usr/local/lib/python3.6/dist-packages/torch/nn/modules/loss.py:432: UserWarning: Using a target size (torch.Size([165])) that is different to the input size (torch.Size([165, 1])). This will likely lead to incorrect results due to broadcasting. Please ensure they have the same size.\n",
            "  return F.mse_loss(input, target, reduction=self.reduction)\n"
          ],
          "name": "stderr"
        },
        {
          "output_type": "stream",
          "text": [
            "test_loss:  tensor(0.0014, grad_fn=<DivBackward0>)\n"
          ],
          "name": "stdout"
        },
        {
          "output_type": "display_data",
          "data": {
            "image/png": "[encoded data removed]",
            "text/plain": [
              "<Figure size 432x288 with 1 Axes>"
            ]
          },
          "metadata": {
            "tags": [],
            "needs_background": "light"
          }
        }
      ]
    },
    {
      "cell_type": "code",
      "metadata": {
        "id": "pcp2tIVEfTGo",
        "colab_type": "code",
        "colab": {}
      },
      "source": [
        "#上手くいってない\n",
        "#分析6 Doc2Vecでツイートをクラスタリングする①\n",
        "#https://qiita.com/g-k/items/5ea94c13281f675302ca\n",
        "\n",
        "#from gensim.models.doc2vec import Doc2Vec, TaggedDocument\n",
        "#from gensim import models\n",
        "\n",
        "#documents = [TaggedDocument(doc, [i]) for i, doc in enumerate(sentences)]\n",
        "#model = Doc2Vec(documents, vector_size=300, window=5, min_count=1, workers=4)\n",
        "#model.save(\"doc2_w2v.model\")"
      ],
      "execution_count": 0,
      "outputs": []
    },
    {
      "cell_type": "code",
      "metadata": {
        "id": "Ge2VGRbHfTGr",
        "colab_type": "code",
        "colab": {}
      },
      "source": [
        "#上手くいってない\n",
        "#分析6 Doc2Vecでツイートをクラスタリングする②\n",
        "#https://qiita.com/naotaka1128/items/e617f63907fed035408a\n",
        "\n",
        "#model = models.Doc2Vec.load('/content/doc2_w2v.model')\n",
        "\n",
        "from sklearn.decomposition import PCA\n",
        "import matplotlib.pyplot as plt\n",
        "\n",
        "def draw_word_scatter(word, topn=30):\n",
        "    \"\"\" 入力されたwordに似ている単語の分布図を描くためのメソッド \"\"\"\n",
        "\n",
        "    # 似ている単語を求めるためにはGensim word2vecの以下の機能を利用\n",
        "    # model.most_similar(word, topn=topn)\n",
        "    words = [x[0] for x in sorted(model.most_similar(word, topn=topn))]\n",
        "    words.append(word)\n",
        "\n",
        "    # 各単語のベクトル表現を求めます。Gensimのmost_similarをベースとして\n",
        "    # 単語のベクトルを返すメソッド(model.calc_vec)を定義しています\n",
        "    # 長くなるので実装は本稿の末尾に記載しました。\n",
        "    vecs = [model.calc_vec(word) for word in words]\n",
        "\n",
        "    # 分布図\n",
        "    draw_scatter_plot(vecs, words)\n",
        "\n",
        "def draw_scatter_plot(vecs, tags, clusters):\n",
        "    \"\"\" 入力されたベクトルに基づき散布図(ラベル付き)を描くためのメソッド \"\"\"\n",
        "\n",
        "    # Scikit-learnのPCAによる次元削減とその可視化\n",
        "    pca = PCA(n_components=2)\n",
        "    coords = pca.fit_transform(vecs)\n",
        "\n",
        "    # matplotlibによる可視化\n",
        "    fig, ax = plt.subplots()\n",
        "    x = [v[0] for v in coords]\n",
        "    y = [v[1] for v in coords]\n",
        "\n",
        "    # 各点のクラスターが設定されていればクラスタを考慮\n",
        "    # エラーハンドリングは適当\n",
        "    if clusters:\n",
        "        ax.scatter(x, y, c=clusters)\n",
        "    else:\n",
        "        ax.scatter(x, y)\n",
        "\n",
        "    for i, txt in enumerate(tags):\n",
        "        ax.annotate(txt, (coords[i][0], coords[i][1]))\n",
        "    plt.show()\n",
        "    \n",
        "#draw_word_scatter('coronavirus', topn=40)"
      ],
      "execution_count": 0,
      "outputs": []
    },
    {
      "cell_type": "code",
      "metadata": {
        "id": "o9aiwySJh-Kg",
        "colab_type": "code",
        "colab": {}
      },
      "source": [
        "#　まだできていない\n",
        "# モデルの精度を確認する\n",
        "# https://note.com/uki_profit/n/nab22a04262f9"
      ],
      "execution_count": 0,
      "outputs": []
    }
  ]
}