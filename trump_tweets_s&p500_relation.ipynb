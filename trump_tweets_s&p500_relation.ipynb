{
  "nbformat": 4,
  "nbformat_minor": 0,
  "metadata": {
    "kernelspec": {
      "display_name": "Python 3",
      "language": "python",
      "name": "python3"
    },
    "language_info": {
      "codemirror_mode": {
        "name": "ipython",
        "version": 3
      },
      "file_extension": ".py",
      "mimetype": "text/x-python",
      "name": "python",
      "nbconvert_exporter": "python",
      "pygments_lexer": "ipython3",
      "version": "3.7.4"
    },
    "colab": {
      "name": "trump_tweets_s&p500_relation.ipynb ",
      "provenance": [],
      "collapsed_sections": [],
      "include_colab_link": true
    }
  },
  "cells": [
    {
      "cell_type": "markdown",
      "metadata": {
        "id": "view-in-github",
        "colab_type": "text"
      },
      "source": [
        "<a href=\"https://colab.research.google.com/github/katsuki-nagakubo/Tweets_Word2vec/blob/master/trump_tweets_s%26p500_relation.ipynb\" target=\"_parent\"><img src=\"https://colab.research.google.com/assets/colab-badge.svg\" alt=\"Open In Colab\"/></a>"
      ]
    },
    {
      "cell_type": "code",
      "metadata": {
        "id": "5TBDVbUQfTEM",
        "colab_type": "code",
        "colab": {}
      },
      "source": [
        "#データの取得と成形\n",
        "\n",
        "import pandas as pd\n",
        "import numpy as np\n",
        "import matplotlib.pyplot as plt "
      ],
      "execution_count": 0,
      "outputs": []
    },
    {
      "cell_type": "code",
      "metadata": {
        "id": "0etwSm9DfTEU",
        "colab_type": "code",
        "outputId": "72132613-f282-4620-ca1a-465407450f26",
        "colab": {
          "base_uri": "https://localhost:8080/",
          "height": 34
        }
      },
      "source": [
        "#https://teratail.com/questions/128725\n",
        "\n",
        "from ast import literal_eval\n",
        "from pprint import pprint\n",
        "\n",
        "f = open('/content/trump_tweets.txt', 'r')\n",
        "text = f.read()\n",
        "mylist = literal_eval(text)\n",
        "\n",
        "print(type(mylist), type(mylist[0]))"
      ],
      "execution_count": 2,
      "outputs": [
        {
          "output_type": "stream",
          "text": [
            "<class 'list'> <class 'dict'>\n"
          ],
          "name": "stdout"
        }
      ]
    },
    {
      "cell_type": "code",
      "metadata": {
        "id": "e2D_Z2KUfTEY",
        "colab_type": "code",
        "outputId": "efd8e2ed-5dcf-42e7-fcfb-0c8627c6ec4d",
        "colab": {
          "base_uri": "https://localhost:8080/",
          "height": 34
        }
      },
      "source": [
        "df_text=[]\n",
        "df_created_at=[]\n",
        "df_id_str=[]\n",
        "\n",
        "print(len(mylist),\"tweets\")\n",
        "\n",
        "for i in range(len(mylist)):\n",
        "    text = mylist[i][\"text\"]\n",
        "    created_at = mylist[i][\"created_at\"]\n",
        "    id_str = mylist[i][\"id_str\"]\n",
        "    df_text.append(text)\n",
        "    df_created_at.append(created_at)\n",
        "    df_id_str.append(id_str)\n",
        "\n",
        "tweet_list=[df_created_at,df_id_str,df_text]\n",
        "#print(tweet_list)"
      ],
      "execution_count": 3,
      "outputs": [
        {
          "output_type": "stream",
          "text": [
            "17544 tweets\n"
          ],
          "name": "stdout"
        }
      ]
    },
    {
      "cell_type": "code",
      "metadata": {
        "id": "FfVe8YhPfTEc",
        "colab_type": "code",
        "colab": {}
      },
      "source": [
        "#https://ai-inter1.com/pandas-dataframe_basic/\n",
        "#リスト型にしたデータをPandasでDataFrameにした\n",
        "\n",
        "columns1=[\"created_at\"]\n",
        "tweet_data = pd.DataFrame( data = df_created_at, columns = columns1)\n",
        "tweet_data[\"id\"]=df_id_str\n",
        "tweet_data[\"text\"] = df_text"
      ],
      "execution_count": 0,
      "outputs": []
    },
    {
      "cell_type": "code",
      "metadata": {
        "id": "njrdAvuzfTEf",
        "colab_type": "code",
        "colab": {}
      },
      "source": [
        "#https://teratail.com/questions/132333\n",
        "#https://note.nkmk.me/python-pandas-datetime-timestamp/\n",
        "\n",
        "tweet_data[\"time_created_at\"] = pd.to_datetime(tweet_data['created_at'])\n",
        "tweet_data[\"date_created_at\"] = tweet_data[\"time_created_at\"].dt.date\n",
        "tweet_data[\"key\"]=pd.to_datetime(tweet_data[\"date_created_at\"])"
      ],
      "execution_count": 0,
      "outputs": []
    },
    {
      "cell_type": "code",
      "metadata": {
        "id": "iZi3fq8nfTEj",
        "colab_type": "code",
        "colab": {}
      },
      "source": [
        "# https://www.macrotrends.net/2488/sp500-10-year-daily-chart\n",
        "\n",
        "sp_data = pd.read_csv('/content/sp500-10-year-daily-chart.csv')\n",
        "sp_data[\"date_64\"] = pd.to_datetime(sp_data[\"date\"])\n",
        "sp_data[\"key\"] =sp_data[\"date_64\"] "
      ],
      "execution_count": 0,
      "outputs": []
    },
    {
      "cell_type": "code",
      "metadata": {
        "id": "Lb8q3TCTfTEn",
        "colab_type": "code",
        "outputId": "2ff21965-ca28-4291-8f63-b75e7b89a4a9",
        "colab": {
          "base_uri": "https://localhost:8080/",
          "height": 204
        }
      },
      "source": [
        "#内部結合\n",
        "#http://pppurple.hatenablog.com/entry/2016/06/27/022310#inner-join\n",
        "#https://note.nkmk.me/python-pandas-merge-join/\n",
        "\n",
        "tweet_data=pd.merge(tweet_data, sp_data)\n",
        "tweet_data.columns\n",
        "data = tweet_data[[\"key\",\" value\",\"text\"]]\n",
        "\n",
        "#行の名前を変更する　20200505\n",
        "data = data.rename(columns={\"key\": \"date\",\" value\":\"price\"})\n",
        "data.head()"
      ],
      "execution_count": 7,
      "outputs": [
        {
          "output_type": "execute_result",
          "data": {
            "text/html": [
              "<div>\n",
              "<style scoped>\n",
              "    .dataframe tbody tr th:only-of-type {\n",
              "        vertical-align: middle;\n",
              "    }\n",
              "\n",
              "    .dataframe tbody tr th {\n",
              "        vertical-align: top;\n",
              "    }\n",
              "\n",
              "    .dataframe thead th {\n",
              "        text-align: right;\n",
              "    }\n",
              "</style>\n",
              "<table border=\"1\" class=\"dataframe\">\n",
              "  <thead>\n",
              "    <tr style=\"text-align: right;\">\n",
              "      <th></th>\n",
              "      <th>date</th>\n",
              "      <th>price</th>\n",
              "      <th>text</th>\n",
              "    </tr>\n",
              "  </thead>\n",
              "  <tbody>\n",
              "    <tr>\n",
              "      <th>0</th>\n",
              "      <td>2020-05-01</td>\n",
              "      <td>2830.71</td>\n",
              "      <td>RT @StevenTDennis: Trump gets bump in latest G...</td>\n",
              "    </tr>\n",
              "    <tr>\n",
              "      <th>1</th>\n",
              "      <td>2020-05-01</td>\n",
              "      <td>2830.71</td>\n",
              "      <td>The Governor of Michigan should give a little,...</td>\n",
              "    </tr>\n",
              "    <tr>\n",
              "      <th>2</th>\n",
              "      <td>2020-05-01</td>\n",
              "      <td>2830.71</td>\n",
              "      <td>Cryin Chuck Schumer, compared to what other Se...</td>\n",
              "    </tr>\n",
              "    <tr>\n",
              "      <th>3</th>\n",
              "      <td>2020-05-01</td>\n",
              "      <td>2830.71</td>\n",
              "      <td>Cryin’ Chuck Schumer was on a late night show ...</td>\n",
              "    </tr>\n",
              "    <tr>\n",
              "      <th>4</th>\n",
              "      <td>2020-05-01</td>\n",
              "      <td>2830.71</td>\n",
              "      <td>RT @TeamTrump: President @realDonaldTrump: “We...</td>\n",
              "    </tr>\n",
              "  </tbody>\n",
              "</table>\n",
              "</div>"
            ],
            "text/plain": [
              "        date    price                                               text\n",
              "0 2020-05-01  2830.71  RT @StevenTDennis: Trump gets bump in latest G...\n",
              "1 2020-05-01  2830.71  The Governor of Michigan should give a little,...\n",
              "2 2020-05-01  2830.71  Cryin Chuck Schumer, compared to what other Se...\n",
              "3 2020-05-01  2830.71  Cryin’ Chuck Schumer was on a late night show ...\n",
              "4 2020-05-01  2830.71  RT @TeamTrump: President @realDonaldTrump: “We..."
            ]
          },
          "metadata": {
            "tags": []
          },
          "execution_count": 7
        }
      ]
    },
    {
      "cell_type": "code",
      "metadata": {
        "id": "RbtHgL9gfTEr",
        "colab_type": "code",
        "outputId": "10572440-1f1c-4aac-e03e-60dcd311b06c",
        "colab": {
          "base_uri": "https://localhost:8080/",
          "height": 34
        }
      },
      "source": [
        "# trumpが大統領になった2017年1月20日から、GW前2020年5月1日までのデータを分析する\n",
        "# https://qiita.com/mSpring/items/6ec1ab28dcb261db2c73\n",
        "\n",
        "import datetime as dt\n",
        "data2 = data[(data['date'] >= dt.datetime(2017,1,20)) & (data['date'] <= dt.datetime(2020,5,1))]\n",
        "print( \"2017/01/20 - 2020/05/01のツイート数は\", len(data2))"
      ],
      "execution_count": 8,
      "outputs": [
        {
          "output_type": "stream",
          "text": [
            "2017/01/20 - 2020/05/01のツイート数は 12259\n"
          ],
          "name": "stdout"
        }
      ]
    },
    {
      "cell_type": "code",
      "metadata": {
        "id": "5uWu1eYpfTEv",
        "colab_type": "code",
        "colab": {}
      },
      "source": [
        "#新しいデータを追加すると上書き保存されるようにmode=\"a\"にした。\n",
        "\n",
        "#初回だけ,headerはTrue\n",
        "data2.to_csv(\"s&p_tweets.csv\", index=False, mode='a', header=True)\n",
        "#2回目以降はFalse\n",
        "#data2.to_csv(\"s&p_tweets.csv\", index=False, mode='a', header=False)"
      ],
      "execution_count": 0,
      "outputs": []
    },
    {
      "cell_type": "code",
      "metadata": {
        "id": "nJcHtQApfTEy",
        "colab_type": "code",
        "outputId": "42583e12-b987-49cb-b6ea-8a5dc304369e",
        "colab": {
          "base_uri": "https://localhost:8080/",
          "height": 34
        }
      },
      "source": [
        "# Fileを読み込むことで最新のデータで分析できる\n",
        "\n",
        "data = pd.read_csv(\"s&p_tweets.csv\")\n",
        "print( len(data),\"tweets\")"
      ],
      "execution_count": 10,
      "outputs": [
        {
          "output_type": "stream",
          "text": [
            "12259 tweets\n"
          ],
          "name": "stdout"
        }
      ]
    },
    {
      "cell_type": "code",
      "metadata": {
        "id": "UK-gdwmxfTE1",
        "colab_type": "code",
        "outputId": "96bf76fd-eaf2-421e-f980-4d90f659cbf1",
        "colab": {
          "base_uri": "https://localhost:8080/",
          "height": 88
        }
      },
      "source": [
        "#形態素解析\n",
        "#https://yottagin.com/?p=4360\n",
        "\n",
        "import nltk\n",
        "nltk.download('stopwords')\n",
        "\n",
        "tweet_tokenizer = nltk.tokenize.TweetTokenizer(preserve_case=False, strip_handles=True, reduce_len=True)\n",
        "for tweet in data[\"text\"][:1]:\n",
        "    print (tweet_tokenizer.tokenize(tweet))"
      ],
      "execution_count": 11,
      "outputs": [
        {
          "output_type": "stream",
          "text": [
            "[nltk_data] Downloading package stopwords to /root/nltk_data...\n",
            "[nltk_data]   Unzipping corpora/stopwords.zip.\n",
            "['rt', ':', 'trump', 'gets', 'bump', 'in', 'latest', 'gallup', 'poll', ':', '49', '%', 'approval', '(', '+', '6', ',', 'tied', 'for', 'his', 'best', ')', '47', '%', 'disapproval', '(', '-', '7', ')']\n"
          ],
          "name": "stdout"
        }
      ]
    },
    {
      "cell_type": "code",
      "metadata": {
        "id": "DrfyzDEAfTE6",
        "colab_type": "code",
        "outputId": "845b44b6-8090-43e8-8b4a-7fede5d4a304",
        "colab": {
          "base_uri": "https://localhost:8080/",
          "height": 323
        }
      },
      "source": [
        "words = []\n",
        "for tweet in data[\"text\"]:\n",
        "    words += tweet_tokenizer.tokenize(tweet)\n",
        "\n",
        "fdist = nltk.FreqDist(words)\n",
        "fdist.plot(50)"
      ],
      "execution_count": 12,
      "outputs": [
        {
          "output_type": "display_data",
          "data": {
            "image/png": "[encoded data removed]",
            "text/plain": [
              "<Figure size 432x288 with 1 Axes>"
            ]
          },
          "metadata": {
            "tags": [],
            "needs_background": "light"
          }
        }
      ]
    },
    {
      "cell_type": "code",
      "metadata": {
        "id": "5VLnPp6vfTE-",
        "colab_type": "code",
        "outputId": "16d04335-a880-458a-8bfd-a065c3312cf4",
        "colab": {
          "base_uri": "https://localhost:8080/",
          "height": 359
        }
      },
      "source": [
        "#高頻度のツイートを表示\n",
        "df_fdist = pd.DataFrame(fdist.most_common(10), columns=['Word', 'Frequency'])\n",
        "df_fdist"
      ],
      "execution_count": 13,
      "outputs": [
        {
          "output_type": "execute_result",
          "data": {
            "text/html": [
              "<div>\n",
              "<style scoped>\n",
              "    .dataframe tbody tr th:only-of-type {\n",
              "        vertical-align: middle;\n",
              "    }\n",
              "\n",
              "    .dataframe tbody tr th {\n",
              "        vertical-align: top;\n",
              "    }\n",
              "\n",
              "    .dataframe thead th {\n",
              "        text-align: right;\n",
              "    }\n",
              "</style>\n",
              "<table border=\"1\" class=\"dataframe\">\n",
              "  <thead>\n",
              "    <tr style=\"text-align: right;\">\n",
              "      <th></th>\n",
              "      <th>Word</th>\n",
              "      <th>Frequency</th>\n",
              "    </tr>\n",
              "  </thead>\n",
              "  <tbody>\n",
              "    <tr>\n",
              "      <th>0</th>\n",
              "      <td>the</td>\n",
              "      <td>15504</td>\n",
              "    </tr>\n",
              "    <tr>\n",
              "      <th>1</th>\n",
              "      <td>.</td>\n",
              "      <td>14634</td>\n",
              "    </tr>\n",
              "    <tr>\n",
              "      <th>2</th>\n",
              "      <td>,</td>\n",
              "      <td>14156</td>\n",
              "    </tr>\n",
              "    <tr>\n",
              "      <th>3</th>\n",
              "      <td>to</td>\n",
              "      <td>8172</td>\n",
              "    </tr>\n",
              "    <tr>\n",
              "      <th>4</th>\n",
              "      <td>!</td>\n",
              "      <td>7343</td>\n",
              "    </tr>\n",
              "    <tr>\n",
              "      <th>5</th>\n",
              "      <td>and</td>\n",
              "      <td>7289</td>\n",
              "    </tr>\n",
              "    <tr>\n",
              "      <th>6</th>\n",
              "      <td>of</td>\n",
              "      <td>6165</td>\n",
              "    </tr>\n",
              "    <tr>\n",
              "      <th>7</th>\n",
              "      <td>a</td>\n",
              "      <td>5419</td>\n",
              "    </tr>\n",
              "    <tr>\n",
              "      <th>8</th>\n",
              "      <td>:</td>\n",
              "      <td>4870</td>\n",
              "    </tr>\n",
              "    <tr>\n",
              "      <th>9</th>\n",
              "      <td>in</td>\n",
              "      <td>4507</td>\n",
              "    </tr>\n",
              "  </tbody>\n",
              "</table>\n",
              "</div>"
            ],
            "text/plain": [
              "  Word  Frequency\n",
              "0  the      15504\n",
              "1    .      14634\n",
              "2    ,      14156\n",
              "3   to       8172\n",
              "4    !       7343\n",
              "5  and       7289\n",
              "6   of       6165\n",
              "7    a       5419\n",
              "8    :       4870\n",
              "9   in       4507"
            ]
          },
          "metadata": {
            "tags": []
          },
          "execution_count": 13
        }
      ]
    },
    {
      "cell_type": "code",
      "metadata": {
        "id": "IvFoQ0TrfTFG",
        "colab_type": "code",
        "colab": {}
      },
      "source": [
        "#tokenにする\n",
        "import re\n",
        "import string\n",
        "\n",
        "stemmer = nltk.stem.PorterStemmer()\n",
        "punctuations = string.punctuation\n",
        "all_tweets_clean = []\n",
        "\n",
        "#Tweet毎にリスト形式で保存するための加工\n",
        "result=[]\n",
        "\n",
        "for tweet in data[\"text\"]:\n",
        "    # RTから始まる部分を取り除く。\n",
        "    tweet = re.sub(r'^RT[\\s]+', '', tweet)\n",
        "    # リンクを取り除く。\n",
        "    tweet = re.sub(r'(http|https):\\/\\/.*[\\r\\n]*', '', tweet)\n",
        "    # ハッシュタグを取り除く。\n",
        "    tweet = re.sub(r'#', '', tweet)\n",
        "    # 句読点の削除\n",
        "    tweet = tweet.translate(str.maketrans('', '', string.punctuation)) \n",
        "    # 単語に分解する。\n",
        "    tokenizer = nltk.tokenize.TweetTokenizer(preserve_case=False, strip_handles=True, reduce_len=True)\n",
        "    tweet_tokens = tokenizer.tokenize(tweet)\n",
        "    result.append(tweet_tokens)"
      ],
      "execution_count": 0,
      "outputs": []
    },
    {
      "cell_type": "code",
      "metadata": {
        "id": "jGskML9PfTFK",
        "colab_type": "code",
        "colab": {}
      },
      "source": [
        "stopwords = nltk.corpus.stopwords.words('english')\n",
        "stop_words = [\"→\", \"←\", \"?\", \"」\", \"「\",\"(\",\")\",\"!\",\".\",\",\",\"&\",\"…\",\"%\",\":\",\";\",\"“\"]\n",
        "stopwords += stop_words\n",
        "\n",
        "#print(stopwords)\n",
        "\n",
        "result_2=[]\n",
        "result_3=[]\n",
        "for i in range(len(result)):\n",
        "    for word in result[i]:\n",
        "        if word not in stopwords:\n",
        "            result_2.append(word)\n",
        "    result_3.append(result_2)\n",
        "    result_2=[]"
      ],
      "execution_count": 0,
      "outputs": []
    },
    {
      "cell_type": "code",
      "metadata": {
        "id": "wL2ASq-gfTFO",
        "colab_type": "code",
        "colab": {}
      },
      "source": [
        "#Word2Vec\n",
        "\n",
        "from gensim.models import word2vec"
      ],
      "execution_count": 0,
      "outputs": []
    },
    {
      "cell_type": "code",
      "metadata": {
        "id": "6Ov0af7rfTFQ",
        "colab_type": "code",
        "outputId": "ee2394e7-368f-47e6-fd04-d7515ade1b94",
        "colab": {
          "base_uri": "https://localhost:8080/",
          "height": 272
        }
      },
      "source": [
        "# 対象データをLinseSentence(one sentence = one lineとして扱う)で読み込む\n",
        "\n",
        "sentences = result_3\n",
        "sentences[0]"
      ],
      "execution_count": 17,
      "outputs": [
        {
          "output_type": "execute_result",
          "data": {
            "text/plain": [
              "['steventdennis',\n",
              " 'trump',\n",
              " 'gets',\n",
              " 'bump',\n",
              " 'latest',\n",
              " 'gallup',\n",
              " 'poll',\n",
              " '49',\n",
              " 'approval',\n",
              " '6',\n",
              " 'tied',\n",
              " 'best',\n",
              " '47',\n",
              " 'disapproval',\n",
              " '7']"
            ]
          },
          "metadata": {
            "tags": []
          },
          "execution_count": 17
        }
      ]
    },
    {
      "cell_type": "code",
      "metadata": {
        "id": "9u7fFXncfTFU",
        "colab_type": "code",
        "colab": {}
      },
      "source": [
        "# skip-gramモデルの学習\n",
        "skipgram_model = word2vec.Word2Vec(sentences,\n",
        "                                   sg=1,\n",
        "                                   size=300,\n",
        "                                   min_count=10,\n",
        "                                   window=15, seed=1234)"
      ],
      "execution_count": 0,
      "outputs": []
    },
    {
      "cell_type": "code",
      "metadata": {
        "id": "akHH47YRfTFZ",
        "colab_type": "code",
        "outputId": "114631c6-b52f-4e5c-bf0c-0b6a3f9bf3a0",
        "colab": {
          "base_uri": "https://localhost:8080/",
          "height": 71
        }
      },
      "source": [
        "# 作成したモデルの保存\n",
        "skipgram_model.save(\"skipgram_w2v.model\")\n",
        "# saveしたモデルを読み込む時は\n",
        "#skipgram_model = word2vec.Word2Vec.load(\"skipgram_w2v.model\")"
      ],
      "execution_count": 19,
      "outputs": [
        {
          "output_type": "stream",
          "text": [
            "/usr/local/lib/python3.6/dist-packages/smart_open/smart_open_lib.py:253: UserWarning: This function is deprecated, use smart_open.open instead. See the migration notes for details: https://github.com/RaRe-Technologies/smart_open/blob/master/README.rst#migrating-to-the-new-open-function\n",
            "  'See the migration notes for details: %s' % _MIGRATION_NOTES_URL\n"
          ],
          "name": "stderr"
        }
      ]
    },
    {
      "cell_type": "code",
      "metadata": {
        "id": "ZAO8SIE_fTFc",
        "colab_type": "code",
        "outputId": "14794da4-4791-4eb7-afe1-dd8f8458f666",
        "colab": {
          "base_uri": "https://localhost:8080/",
          "height": 413
        }
      },
      "source": [
        "# coronavirusと似たキーワードを見つけていきます。\n",
        "# ここで記載しているscoreは、単語同士のコサイン類似度です。\n",
        "pd.DataFrame(skipgram_model.wv.most_similar(\n",
        "    positive=[\"coronavirus\"]), columns=[\"keyword\", \"score\"])"
      ],
      "execution_count": 20,
      "outputs": [
        {
          "output_type": "stream",
          "text": [
            "/usr/local/lib/python3.6/dist-packages/gensim/matutils.py:737: FutureWarning: Conversion of the second argument of issubdtype from `int` to `np.signedinteger` is deprecated. In future, it will be treated as `np.int64 == np.dtype(int).type`.\n",
            "  if np.issubdtype(vec.dtype, np.int):\n"
          ],
          "name": "stderr"
        },
        {
          "output_type": "execute_result",
          "data": {
            "text/html": [
              "<div>\n",
              "<style scoped>\n",
              "    .dataframe tbody tr th:only-of-type {\n",
              "        vertical-align: middle;\n",
              "    }\n",
              "\n",
              "    .dataframe tbody tr th {\n",
              "        vertical-align: top;\n",
              "    }\n",
              "\n",
              "    .dataframe thead th {\n",
              "        text-align: right;\n",
              "    }\n",
              "</style>\n",
              "<table border=\"1\" class=\"dataframe\">\n",
              "  <thead>\n",
              "    <tr style=\"text-align: right;\">\n",
              "      <th></th>\n",
              "      <th>keyword</th>\n",
              "      <th>score</th>\n",
              "    </tr>\n",
              "  </thead>\n",
              "  <tbody>\n",
              "    <tr>\n",
              "      <th>0</th>\n",
              "      <td>response</td>\n",
              "      <td>0.839156</td>\n",
              "    </tr>\n",
              "    <tr>\n",
              "      <th>1</th>\n",
              "      <td>task</td>\n",
              "      <td>0.830859</td>\n",
              "    </tr>\n",
              "    <tr>\n",
              "      <th>2</th>\n",
              "      <td>covid</td>\n",
              "      <td>0.829232</td>\n",
              "    </tr>\n",
              "    <tr>\n",
              "      <th>3</th>\n",
              "      <td>19</td>\n",
              "      <td>0.822113</td>\n",
              "    </tr>\n",
              "    <tr>\n",
              "      <th>4</th>\n",
              "      <td>spread</td>\n",
              "      <td>0.815175</td>\n",
              "    </tr>\n",
              "    <tr>\n",
              "      <th>5</th>\n",
              "      <td>force</td>\n",
              "      <td>0.805391</td>\n",
              "    </tr>\n",
              "    <tr>\n",
              "      <th>6</th>\n",
              "      <td>briefing</td>\n",
              "      <td>0.775355</td>\n",
              "    </tr>\n",
              "    <tr>\n",
              "      <th>7</th>\n",
              "      <td>outbreak</td>\n",
              "      <td>0.772840</td>\n",
              "    </tr>\n",
              "    <tr>\n",
              "      <th>8</th>\n",
              "      <td>cdcgov</td>\n",
              "      <td>0.770742</td>\n",
              "    </tr>\n",
              "    <tr>\n",
              "      <th>9</th>\n",
              "      <td>live</td>\n",
              "      <td>0.762929</td>\n",
              "    </tr>\n",
              "  </tbody>\n",
              "</table>\n",
              "</div>"
            ],
            "text/plain": [
              "    keyword     score\n",
              "0  response  0.839156\n",
              "1      task  0.830859\n",
              "2     covid  0.829232\n",
              "3        19  0.822113\n",
              "4    spread  0.815175\n",
              "5     force  0.805391\n",
              "6  briefing  0.775355\n",
              "7  outbreak  0.772840\n",
              "8    cdcgov  0.770742\n",
              "9      live  0.762929"
            ]
          },
          "metadata": {
            "tags": []
          },
          "execution_count": 20
        }
      ]
    },
    {
      "cell_type": "code",
      "metadata": {
        "id": "KfKYBXI_fTFf",
        "colab_type": "code",
        "colab": {}
      },
      "source": [
        "\"\"\"\n",
        "1. 抽出された各単語を、作成したword2Vecによってベクトル化\n",
        "2. 変換された各単語ベクトルの平均をとり、その結果得られたベクトルを記事のベクトルとする\n",
        "上記2ステップを実行する関数を作成\n",
        "\"\"\"\n",
        "\n",
        "num_features = 300\n",
        "\n",
        "\n",
        "def avg_document_vector(data, num_features):\n",
        "    document_vec = np.zeros((len(data), num_features))\n",
        "    for i, doc_word_list in enumerate(data):\n",
        "        feature_vec = np.zeros((num_features,), dtype=\"float32\")\n",
        "        for word in doc_word_list:\n",
        "            try:\n",
        "                feature_vec = np.add(\n",
        "                    feature_vec, skipgram_model.wv.__getitem__(word))\n",
        "            except:\n",
        "                pass\n",
        "\n",
        "        feature_vec = np.divide(feature_vec, len(doc_word_list))\n",
        "        document_vec[i] = feature_vec\n",
        "    return document_vec"
      ],
      "execution_count": 0,
      "outputs": []
    },
    {
      "cell_type": "code",
      "metadata": {
        "id": "gcoxgMvkfTFh",
        "colab_type": "code",
        "outputId": "d04aafd8-d2fe-4151-dbe4-278bb9dbfc24",
        "colab": {
          "base_uri": "https://localhost:8080/",
          "height": 71
        }
      },
      "source": [
        "X = avg_document_vector(data=sentences, num_features=300)\n",
        "X.shape"
      ],
      "execution_count": 22,
      "outputs": [
        {
          "output_type": "stream",
          "text": [
            "/usr/local/lib/python3.6/dist-packages/ipykernel_launcher.py:21: RuntimeWarning: invalid value encountered in true_divide\n"
          ],
          "name": "stderr"
        },
        {
          "output_type": "execute_result",
          "data": {
            "text/plain": [
              "(12259, 300)"
            ]
          },
          "metadata": {
            "tags": []
          },
          "execution_count": 22
        }
      ]
    },
    {
      "cell_type": "code",
      "metadata": {
        "id": "PvVmeNp5fTFj",
        "colab_type": "code",
        "outputId": "425b51fa-38ba-4532-ad36-b853048947cb",
        "colab": {
          "base_uri": "https://localhost:8080/",
          "height": 474
        }
      },
      "source": [
        "# outer join\n",
        "data2 = pd.DataFrame(X)\n",
        "df_tweets_word2vec =  pd.concat([data, data2], axis=1)\n",
        "df_tweets_word2vec.head()"
      ],
      "execution_count": 23,
      "outputs": [
        {
          "output_type": "execute_result",
          "data": {
            "text/html": [
              "<div>\n",
              "<style scoped>\n",
              "    .dataframe tbody tr th:only-of-type {\n",
              "        vertical-align: middle;\n",
              "    }\n",
              "\n",
              "    .dataframe tbody tr th {\n",
              "        vertical-align: top;\n",
              "    }\n",
              "\n",
              "    .dataframe thead th {\n",
              "        text-align: right;\n",
              "    }\n",
              "</style>\n",
              "<table border=\"1\" class=\"dataframe\">\n",
              "  <thead>\n",
              "    <tr style=\"text-align: right;\">\n",
              "      <th></th>\n",
              "      <th>date</th>\n",
              "      <th>price</th>\n",
              "      <th>text</th>\n",
              "      <th>0</th>\n",
              "      <th>1</th>\n",
              "      <th>2</th>\n",
              "      <th>3</th>\n",
              "      <th>4</th>\n",
              "      <th>5</th>\n",
              "      <th>6</th>\n",
              "      <th>7</th>\n",
              "      <th>8</th>\n",
              "      <th>9</th>\n",
              "      <th>10</th>\n",
              "      <th>11</th>\n",
              "      <th>12</th>\n",
              "      <th>13</th>\n",
              "      <th>14</th>\n",
              "      <th>15</th>\n",
              "      <th>16</th>\n",
              "      <th>17</th>\n",
              "      <th>18</th>\n",
              "      <th>19</th>\n",
              "      <th>20</th>\n",
              "      <th>21</th>\n",
              "      <th>22</th>\n",
              "      <th>23</th>\n",
              "      <th>24</th>\n",
              "      <th>25</th>\n",
              "      <th>26</th>\n",
              "      <th>27</th>\n",
              "      <th>28</th>\n",
              "      <th>29</th>\n",
              "      <th>30</th>\n",
              "      <th>31</th>\n",
              "      <th>32</th>\n",
              "      <th>33</th>\n",
              "      <th>34</th>\n",
              "      <th>35</th>\n",
              "      <th>36</th>\n",
              "      <th>...</th>\n",
              "      <th>260</th>\n",
              "      <th>261</th>\n",
              "      <th>262</th>\n",
              "      <th>263</th>\n",
              "      <th>264</th>\n",
              "      <th>265</th>\n",
              "      <th>266</th>\n",
              "      <th>267</th>\n",
              "      <th>268</th>\n",
              "      <th>269</th>\n",
              "      <th>270</th>\n",
              "      <th>271</th>\n",
              "      <th>272</th>\n",
              "      <th>273</th>\n",
              "      <th>274</th>\n",
              "      <th>275</th>\n",
              "      <th>276</th>\n",
              "      <th>277</th>\n",
              "      <th>278</th>\n",
              "      <th>279</th>\n",
              "      <th>280</th>\n",
              "      <th>281</th>\n",
              "      <th>282</th>\n",
              "      <th>283</th>\n",
              "      <th>284</th>\n",
              "      <th>285</th>\n",
              "      <th>286</th>\n",
              "      <th>287</th>\n",
              "      <th>288</th>\n",
              "      <th>289</th>\n",
              "      <th>290</th>\n",
              "      <th>291</th>\n",
              "      <th>292</th>\n",
              "      <th>293</th>\n",
              "      <th>294</th>\n",
              "      <th>295</th>\n",
              "      <th>296</th>\n",
              "      <th>297</th>\n",
              "      <th>298</th>\n",
              "      <th>299</th>\n",
              "    </tr>\n",
              "  </thead>\n",
              "  <tbody>\n",
              "    <tr>\n",
              "      <th>0</th>\n",
              "      <td>2020-05-01</td>\n",
              "      <td>2830.71</td>\n",
              "      <td>RT @StevenTDennis: Trump gets bump in latest G...</td>\n",
              "      <td>0.034668</td>\n",
              "      <td>0.032862</td>\n",
              "      <td>0.023658</td>\n",
              "      <td>0.029253</td>\n",
              "      <td>-0.013177</td>\n",
              "      <td>0.021524</td>\n",
              "      <td>-0.002276</td>\n",
              "      <td>-0.095802</td>\n",
              "      <td>-0.093084</td>\n",
              "      <td>-0.017043</td>\n",
              "      <td>0.166670</td>\n",
              "      <td>0.029273</td>\n",
              "      <td>-0.063835</td>\n",
              "      <td>-0.003456</td>\n",
              "      <td>0.014148</td>\n",
              "      <td>0.023715</td>\n",
              "      <td>-0.112737</td>\n",
              "      <td>-0.027724</td>\n",
              "      <td>0.060361</td>\n",
              "      <td>-0.025195</td>\n",
              "      <td>-0.027360</td>\n",
              "      <td>-0.053627</td>\n",
              "      <td>0.074348</td>\n",
              "      <td>0.038746</td>\n",
              "      <td>-0.026441</td>\n",
              "      <td>0.053469</td>\n",
              "      <td>-0.001740</td>\n",
              "      <td>0.040550</td>\n",
              "      <td>0.006910</td>\n",
              "      <td>0.024576</td>\n",
              "      <td>0.015363</td>\n",
              "      <td>0.100584</td>\n",
              "      <td>0.031658</td>\n",
              "      <td>-0.053575</td>\n",
              "      <td>0.030106</td>\n",
              "      <td>0.010826</td>\n",
              "      <td>-0.028022</td>\n",
              "      <td>...</td>\n",
              "      <td>-0.048107</td>\n",
              "      <td>-0.011013</td>\n",
              "      <td>0.060904</td>\n",
              "      <td>0.077885</td>\n",
              "      <td>0.044534</td>\n",
              "      <td>-0.033368</td>\n",
              "      <td>-0.000952</td>\n",
              "      <td>-0.001520</td>\n",
              "      <td>0.030853</td>\n",
              "      <td>-0.001149</td>\n",
              "      <td>0.017292</td>\n",
              "      <td>0.053910</td>\n",
              "      <td>-0.017758</td>\n",
              "      <td>-0.003551</td>\n",
              "      <td>-0.098725</td>\n",
              "      <td>-0.123900</td>\n",
              "      <td>0.035073</td>\n",
              "      <td>0.015213</td>\n",
              "      <td>-0.086132</td>\n",
              "      <td>0.057789</td>\n",
              "      <td>-0.026041</td>\n",
              "      <td>0.059482</td>\n",
              "      <td>-0.051640</td>\n",
              "      <td>-0.025310</td>\n",
              "      <td>0.000555</td>\n",
              "      <td>-0.096436</td>\n",
              "      <td>-0.015741</td>\n",
              "      <td>-0.044183</td>\n",
              "      <td>0.037062</td>\n",
              "      <td>0.016437</td>\n",
              "      <td>0.011807</td>\n",
              "      <td>-0.072124</td>\n",
              "      <td>-0.003385</td>\n",
              "      <td>-0.046859</td>\n",
              "      <td>-0.002370</td>\n",
              "      <td>-0.029641</td>\n",
              "      <td>-0.162498</td>\n",
              "      <td>-0.019773</td>\n",
              "      <td>0.031853</td>\n",
              "      <td>0.002953</td>\n",
              "    </tr>\n",
              "    <tr>\n",
              "      <th>1</th>\n",
              "      <td>2020-05-01</td>\n",
              "      <td>2830.71</td>\n",
              "      <td>The Governor of Michigan should give a little,...</td>\n",
              "      <td>0.004535</td>\n",
              "      <td>0.040273</td>\n",
              "      <td>0.012970</td>\n",
              "      <td>0.116965</td>\n",
              "      <td>0.043437</td>\n",
              "      <td>0.085711</td>\n",
              "      <td>0.033703</td>\n",
              "      <td>-0.015721</td>\n",
              "      <td>-0.092577</td>\n",
              "      <td>-0.031364</td>\n",
              "      <td>0.192597</td>\n",
              "      <td>0.047379</td>\n",
              "      <td>-0.079537</td>\n",
              "      <td>-0.016245</td>\n",
              "      <td>0.030796</td>\n",
              "      <td>0.051927</td>\n",
              "      <td>-0.087334</td>\n",
              "      <td>-0.078752</td>\n",
              "      <td>0.047611</td>\n",
              "      <td>-0.009892</td>\n",
              "      <td>0.008370</td>\n",
              "      <td>-0.069926</td>\n",
              "      <td>0.079895</td>\n",
              "      <td>0.015038</td>\n",
              "      <td>-0.067991</td>\n",
              "      <td>0.002117</td>\n",
              "      <td>0.025813</td>\n",
              "      <td>0.055130</td>\n",
              "      <td>-0.014713</td>\n",
              "      <td>0.094113</td>\n",
              "      <td>-0.021650</td>\n",
              "      <td>0.004820</td>\n",
              "      <td>0.041327</td>\n",
              "      <td>-0.062832</td>\n",
              "      <td>-0.060461</td>\n",
              "      <td>-0.040161</td>\n",
              "      <td>-0.063296</td>\n",
              "      <td>...</td>\n",
              "      <td>-0.081868</td>\n",
              "      <td>-0.023843</td>\n",
              "      <td>0.141091</td>\n",
              "      <td>0.072397</td>\n",
              "      <td>0.027682</td>\n",
              "      <td>-0.046586</td>\n",
              "      <td>-0.003715</td>\n",
              "      <td>-0.002951</td>\n",
              "      <td>-0.014504</td>\n",
              "      <td>-0.073898</td>\n",
              "      <td>0.031159</td>\n",
              "      <td>0.086065</td>\n",
              "      <td>-0.046756</td>\n",
              "      <td>0.011474</td>\n",
              "      <td>-0.178629</td>\n",
              "      <td>-0.204653</td>\n",
              "      <td>0.100312</td>\n",
              "      <td>0.045181</td>\n",
              "      <td>-0.079723</td>\n",
              "      <td>0.078168</td>\n",
              "      <td>0.058694</td>\n",
              "      <td>0.107680</td>\n",
              "      <td>-0.049630</td>\n",
              "      <td>-0.003357</td>\n",
              "      <td>0.010909</td>\n",
              "      <td>-0.122022</td>\n",
              "      <td>0.037471</td>\n",
              "      <td>-0.018487</td>\n",
              "      <td>0.131222</td>\n",
              "      <td>0.015786</td>\n",
              "      <td>0.036137</td>\n",
              "      <td>-0.068402</td>\n",
              "      <td>0.033584</td>\n",
              "      <td>-0.177718</td>\n",
              "      <td>0.081675</td>\n",
              "      <td>-0.061960</td>\n",
              "      <td>-0.150616</td>\n",
              "      <td>0.108829</td>\n",
              "      <td>0.009614</td>\n",
              "      <td>0.022000</td>\n",
              "    </tr>\n",
              "    <tr>\n",
              "      <th>2</th>\n",
              "      <td>2020-05-01</td>\n",
              "      <td>2830.71</td>\n",
              "      <td>Cryin Chuck Schumer, compared to what other Se...</td>\n",
              "      <td>0.019631</td>\n",
              "      <td>0.035392</td>\n",
              "      <td>0.021153</td>\n",
              "      <td>0.073259</td>\n",
              "      <td>0.065488</td>\n",
              "      <td>0.068322</td>\n",
              "      <td>0.048845</td>\n",
              "      <td>-0.076545</td>\n",
              "      <td>-0.074224</td>\n",
              "      <td>0.010203</td>\n",
              "      <td>0.186228</td>\n",
              "      <td>-0.001390</td>\n",
              "      <td>-0.097164</td>\n",
              "      <td>-0.009631</td>\n",
              "      <td>0.009912</td>\n",
              "      <td>0.010975</td>\n",
              "      <td>-0.095113</td>\n",
              "      <td>-0.053134</td>\n",
              "      <td>0.052378</td>\n",
              "      <td>0.036467</td>\n",
              "      <td>0.012664</td>\n",
              "      <td>-0.073415</td>\n",
              "      <td>0.095243</td>\n",
              "      <td>-0.017948</td>\n",
              "      <td>-0.106033</td>\n",
              "      <td>-0.039241</td>\n",
              "      <td>0.036335</td>\n",
              "      <td>0.014977</td>\n",
              "      <td>0.002521</td>\n",
              "      <td>0.096634</td>\n",
              "      <td>-0.031417</td>\n",
              "      <td>0.037362</td>\n",
              "      <td>0.051348</td>\n",
              "      <td>-0.053299</td>\n",
              "      <td>-0.016844</td>\n",
              "      <td>-0.032427</td>\n",
              "      <td>-0.072484</td>\n",
              "      <td>...</td>\n",
              "      <td>-0.025844</td>\n",
              "      <td>-0.012597</td>\n",
              "      <td>0.107939</td>\n",
              "      <td>0.037174</td>\n",
              "      <td>0.021252</td>\n",
              "      <td>-0.033811</td>\n",
              "      <td>0.050176</td>\n",
              "      <td>-0.072727</td>\n",
              "      <td>0.013162</td>\n",
              "      <td>-0.061825</td>\n",
              "      <td>0.009582</td>\n",
              "      <td>0.081927</td>\n",
              "      <td>-0.037628</td>\n",
              "      <td>0.039639</td>\n",
              "      <td>-0.192083</td>\n",
              "      <td>-0.185903</td>\n",
              "      <td>0.104570</td>\n",
              "      <td>0.073256</td>\n",
              "      <td>-0.105143</td>\n",
              "      <td>0.047021</td>\n",
              "      <td>0.019848</td>\n",
              "      <td>0.111646</td>\n",
              "      <td>-0.041922</td>\n",
              "      <td>0.005064</td>\n",
              "      <td>0.031928</td>\n",
              "      <td>-0.060893</td>\n",
              "      <td>0.040720</td>\n",
              "      <td>-0.008394</td>\n",
              "      <td>0.118382</td>\n",
              "      <td>0.055105</td>\n",
              "      <td>0.022997</td>\n",
              "      <td>-0.111974</td>\n",
              "      <td>0.010741</td>\n",
              "      <td>-0.148730</td>\n",
              "      <td>0.041598</td>\n",
              "      <td>-0.106116</td>\n",
              "      <td>-0.201503</td>\n",
              "      <td>0.060636</td>\n",
              "      <td>0.000353</td>\n",
              "      <td>0.024849</td>\n",
              "    </tr>\n",
              "    <tr>\n",
              "      <th>3</th>\n",
              "      <td>2020-05-01</td>\n",
              "      <td>2830.71</td>\n",
              "      <td>Cryin’ Chuck Schumer was on a late night show ...</td>\n",
              "      <td>0.022760</td>\n",
              "      <td>0.030620</td>\n",
              "      <td>0.034516</td>\n",
              "      <td>0.067073</td>\n",
              "      <td>0.061572</td>\n",
              "      <td>0.087697</td>\n",
              "      <td>0.032544</td>\n",
              "      <td>-0.079229</td>\n",
              "      <td>-0.070214</td>\n",
              "      <td>-0.026564</td>\n",
              "      <td>0.231197</td>\n",
              "      <td>0.039945</td>\n",
              "      <td>-0.083914</td>\n",
              "      <td>-0.021917</td>\n",
              "      <td>0.021878</td>\n",
              "      <td>0.017437</td>\n",
              "      <td>-0.090121</td>\n",
              "      <td>-0.052456</td>\n",
              "      <td>0.036859</td>\n",
              "      <td>0.004332</td>\n",
              "      <td>0.053686</td>\n",
              "      <td>-0.056240</td>\n",
              "      <td>0.095270</td>\n",
              "      <td>0.010711</td>\n",
              "      <td>-0.096365</td>\n",
              "      <td>-0.014045</td>\n",
              "      <td>0.033101</td>\n",
              "      <td>0.017680</td>\n",
              "      <td>-0.017873</td>\n",
              "      <td>0.055447</td>\n",
              "      <td>-0.034770</td>\n",
              "      <td>0.026810</td>\n",
              "      <td>0.067400</td>\n",
              "      <td>-0.067881</td>\n",
              "      <td>-0.024715</td>\n",
              "      <td>-0.014257</td>\n",
              "      <td>-0.093988</td>\n",
              "      <td>...</td>\n",
              "      <td>-0.059907</td>\n",
              "      <td>-0.010097</td>\n",
              "      <td>0.126604</td>\n",
              "      <td>0.039113</td>\n",
              "      <td>0.060053</td>\n",
              "      <td>-0.031133</td>\n",
              "      <td>0.037507</td>\n",
              "      <td>-0.034222</td>\n",
              "      <td>-0.010149</td>\n",
              "      <td>-0.045879</td>\n",
              "      <td>0.019360</td>\n",
              "      <td>0.038501</td>\n",
              "      <td>-0.021033</td>\n",
              "      <td>0.047326</td>\n",
              "      <td>-0.176568</td>\n",
              "      <td>-0.174561</td>\n",
              "      <td>0.114357</td>\n",
              "      <td>0.065293</td>\n",
              "      <td>-0.129822</td>\n",
              "      <td>0.058504</td>\n",
              "      <td>0.045901</td>\n",
              "      <td>0.125196</td>\n",
              "      <td>-0.047620</td>\n",
              "      <td>-0.011547</td>\n",
              "      <td>0.038746</td>\n",
              "      <td>-0.102726</td>\n",
              "      <td>0.008027</td>\n",
              "      <td>-0.024197</td>\n",
              "      <td>0.095468</td>\n",
              "      <td>0.065560</td>\n",
              "      <td>0.024689</td>\n",
              "      <td>-0.106346</td>\n",
              "      <td>0.009034</td>\n",
              "      <td>-0.179102</td>\n",
              "      <td>0.041612</td>\n",
              "      <td>-0.122430</td>\n",
              "      <td>-0.232066</td>\n",
              "      <td>0.065232</td>\n",
              "      <td>0.025391</td>\n",
              "      <td>0.014309</td>\n",
              "    </tr>\n",
              "    <tr>\n",
              "      <th>4</th>\n",
              "      <td>2020-05-01</td>\n",
              "      <td>2830.71</td>\n",
              "      <td>RT @TeamTrump: President @realDonaldTrump: “We...</td>\n",
              "      <td>-0.000219</td>\n",
              "      <td>0.018840</td>\n",
              "      <td>0.030799</td>\n",
              "      <td>0.068230</td>\n",
              "      <td>-0.027951</td>\n",
              "      <td>0.045323</td>\n",
              "      <td>-0.002531</td>\n",
              "      <td>-0.089953</td>\n",
              "      <td>-0.166387</td>\n",
              "      <td>-0.040309</td>\n",
              "      <td>0.169265</td>\n",
              "      <td>0.064265</td>\n",
              "      <td>-0.028366</td>\n",
              "      <td>-0.037714</td>\n",
              "      <td>0.026719</td>\n",
              "      <td>0.044525</td>\n",
              "      <td>-0.123241</td>\n",
              "      <td>-0.028567</td>\n",
              "      <td>0.067871</td>\n",
              "      <td>-0.021128</td>\n",
              "      <td>-0.062842</td>\n",
              "      <td>-0.053452</td>\n",
              "      <td>0.091893</td>\n",
              "      <td>0.056985</td>\n",
              "      <td>0.012868</td>\n",
              "      <td>0.108320</td>\n",
              "      <td>0.005164</td>\n",
              "      <td>0.054866</td>\n",
              "      <td>0.055271</td>\n",
              "      <td>0.063776</td>\n",
              "      <td>0.026980</td>\n",
              "      <td>0.068073</td>\n",
              "      <td>0.019163</td>\n",
              "      <td>-0.058004</td>\n",
              "      <td>0.025216</td>\n",
              "      <td>-0.021043</td>\n",
              "      <td>-0.065071</td>\n",
              "      <td>...</td>\n",
              "      <td>-0.077436</td>\n",
              "      <td>0.033999</td>\n",
              "      <td>0.026509</td>\n",
              "      <td>0.114757</td>\n",
              "      <td>0.035531</td>\n",
              "      <td>-0.047205</td>\n",
              "      <td>-0.036143</td>\n",
              "      <td>0.003889</td>\n",
              "      <td>0.013219</td>\n",
              "      <td>-0.025260</td>\n",
              "      <td>-0.038925</td>\n",
              "      <td>0.115212</td>\n",
              "      <td>-0.078149</td>\n",
              "      <td>-0.002684</td>\n",
              "      <td>-0.162102</td>\n",
              "      <td>-0.270719</td>\n",
              "      <td>0.032793</td>\n",
              "      <td>0.042206</td>\n",
              "      <td>-0.185197</td>\n",
              "      <td>0.100498</td>\n",
              "      <td>0.007758</td>\n",
              "      <td>0.145300</td>\n",
              "      <td>-0.010402</td>\n",
              "      <td>-0.025176</td>\n",
              "      <td>0.015557</td>\n",
              "      <td>-0.189911</td>\n",
              "      <td>0.009287</td>\n",
              "      <td>-0.057563</td>\n",
              "      <td>0.060833</td>\n",
              "      <td>0.024067</td>\n",
              "      <td>0.042043</td>\n",
              "      <td>-0.088862</td>\n",
              "      <td>-0.039020</td>\n",
              "      <td>-0.061551</td>\n",
              "      <td>0.008582</td>\n",
              "      <td>-0.053182</td>\n",
              "      <td>-0.173307</td>\n",
              "      <td>-0.007667</td>\n",
              "      <td>-0.015186</td>\n",
              "      <td>0.004740</td>\n",
              "    </tr>\n",
              "  </tbody>\n",
              "</table>\n",
              "<p>5 rows × 303 columns</p>\n",
              "</div>"
            ],
            "text/plain": [
              "         date    price  ...       298       299\n",
              "0  2020-05-01  2830.71  ...  0.031853  0.002953\n",
              "1  2020-05-01  2830.71  ...  0.009614  0.022000\n",
              "2  2020-05-01  2830.71  ...  0.000353  0.024849\n",
              "3  2020-05-01  2830.71  ...  0.025391  0.014309\n",
              "4  2020-05-01  2830.71  ... -0.015186  0.004740\n",
              "\n",
              "[5 rows x 303 columns]"
            ]
          },
          "metadata": {
            "tags": []
          },
          "execution_count": 23
        }
      ]
    },
    {
      "cell_type": "code",
      "metadata": {
        "id": "wzaVvcZ3fTFn",
        "colab_type": "code",
        "colab": {}
      },
      "source": [
        "df_tweets_word2vec.to_csv(\"price_tweets_vector.csv\", index=False)"
      ],
      "execution_count": 0,
      "outputs": []
    },
    {
      "cell_type": "code",
      "metadata": {
        "id": "CY3UVb1TfTFp",
        "colab_type": "code",
        "outputId": "e0e807bc-fbd8-4af2-b100-fef321001af9",
        "colab": {
          "base_uri": "https://localhost:8080/",
          "height": 496
        }
      },
      "source": [
        "#ツイートのベクトルを1日毎に平均にする（1日10ツイートだった場合ベクトルと足し合わせ10で割る）\n",
        "# groupby #https://qiita.com/propella/items/a9a32b878c77222630ae\n",
        "df = df_tweets_word2vec.groupby([\"date\"]).mean()\n",
        "\n",
        "\n",
        "# targetのcolである変化率（\"price\"の差分対数行列）をdateをKeyに内部結合する\n",
        "df_sp = pd.read_csv(\"/content/sp500-10-year-daily-chart.csv\")\n",
        "\n",
        "# 時系列データの差分を求める\n",
        "\n",
        "# \" value\"の行を対数化\n",
        "# https://www.sejuku.net/blog/70027\n",
        "df_sp[\"log\"] = np.log(df_sp[\" value\"])\n",
        "\n",
        "# \"log\"の1日前との差を取って、差分対数の列を作成\n",
        "# https://note.nkmk.me/python-pandas-diff-pct-change/\n",
        "df_sp[\"dif_log\"] = df_sp[\"log\"].diff()\n",
        "\n",
        "#内部結合\n",
        "df2=pd.merge(df_sp, df, how=\"inner\" ,on=\"date\")\n",
        "df2 = df2.drop(\" value\", axis=1)\n",
        "\n",
        "# groupbyを使って1日のツイート数も特徴量に加える\n",
        "# https://deepage.net/features/pandas-count.html\n",
        "df3 = df_tweets_word2vec[[\"date\",\"text\"]]\n",
        "df3 = df3.groupby([\"date\"]).count()\n",
        "\n",
        "#内部結合\n",
        "df4 = pd.merge( df3, df2, how=\"inner\" ,on=\"date\")\n",
        "\n",
        "#日付データの形を変える\n",
        "df4[\"date\"] = pd.to_datetime(df4['date']).astype('int64')\n",
        "\n",
        "#変化率のグラフ\n",
        "df4.plot( y=[\"dif_log\"], figsize=(16,4), alpha=0.5)\n",
        "\n",
        "#ツイート数と変化率の関係\n",
        "df4.plot.scatter(x=[\"text\"], y=[\"dif_log\"])"
      ],
      "execution_count": 25,
      "outputs": [
        {
          "output_type": "execute_result",
          "data": {
            "text/plain": [
              "<matplotlib.axes._subplots.AxesSubplot at 0x7f9b0dd18a20>"
            ]
          },
          "metadata": {
            "tags": []
          },
          "execution_count": 25
        },
        {
          "output_type": "display_data",
          "data": {
            "image/png": "[encoded data removed]",
            "text/plain": [
              "<Figure size 1152x288 with 1 Axes>"
            ]
          },
          "metadata": {
            "tags": [],
            "needs_background": "light"
          }
        },
        {
          "output_type": "display_data",
          "data": {
            "image/png": "[encoded data removed]",
            "text/plain": [
              "<Figure size 432x288 with 1 Axes>"
            ]
          },
          "metadata": {
            "tags": [],
            "needs_background": "light"
          }
        }
      ]
    },
    {
      "cell_type": "code",
      "metadata": {
        "id": "LoiDgt9WfTFt",
        "colab_type": "code",
        "outputId": "0bf93ae7-a1ce-4824-dc1d-54e49e7a57cc",
        "colab": {
          "base_uri": "https://localhost:8080/",
          "height": 253
        }
      },
      "source": [
        "df4.head()"
      ],
      "execution_count": 26,
      "outputs": [
        {
          "output_type": "execute_result",
          "data": {
            "text/html": [
              "<div>\n",
              "<style scoped>\n",
              "    .dataframe tbody tr th:only-of-type {\n",
              "        vertical-align: middle;\n",
              "    }\n",
              "\n",
              "    .dataframe tbody tr th {\n",
              "        vertical-align: top;\n",
              "    }\n",
              "\n",
              "    .dataframe thead th {\n",
              "        text-align: right;\n",
              "    }\n",
              "</style>\n",
              "<table border=\"1\" class=\"dataframe\">\n",
              "  <thead>\n",
              "    <tr style=\"text-align: right;\">\n",
              "      <th></th>\n",
              "      <th>date</th>\n",
              "      <th>text</th>\n",
              "      <th>log</th>\n",
              "      <th>dif_log</th>\n",
              "      <th>price</th>\n",
              "      <th>0</th>\n",
              "      <th>1</th>\n",
              "      <th>2</th>\n",
              "      <th>3</th>\n",
              "      <th>4</th>\n",
              "      <th>5</th>\n",
              "      <th>6</th>\n",
              "      <th>7</th>\n",
              "      <th>8</th>\n",
              "      <th>9</th>\n",
              "      <th>10</th>\n",
              "      <th>11</th>\n",
              "      <th>12</th>\n",
              "      <th>13</th>\n",
              "      <th>14</th>\n",
              "      <th>15</th>\n",
              "      <th>16</th>\n",
              "      <th>17</th>\n",
              "      <th>18</th>\n",
              "      <th>19</th>\n",
              "      <th>20</th>\n",
              "      <th>21</th>\n",
              "      <th>22</th>\n",
              "      <th>23</th>\n",
              "      <th>24</th>\n",
              "      <th>25</th>\n",
              "      <th>26</th>\n",
              "      <th>27</th>\n",
              "      <th>28</th>\n",
              "      <th>29</th>\n",
              "      <th>30</th>\n",
              "      <th>31</th>\n",
              "      <th>32</th>\n",
              "      <th>33</th>\n",
              "      <th>34</th>\n",
              "      <th>...</th>\n",
              "      <th>260</th>\n",
              "      <th>261</th>\n",
              "      <th>262</th>\n",
              "      <th>263</th>\n",
              "      <th>264</th>\n",
              "      <th>265</th>\n",
              "      <th>266</th>\n",
              "      <th>267</th>\n",
              "      <th>268</th>\n",
              "      <th>269</th>\n",
              "      <th>270</th>\n",
              "      <th>271</th>\n",
              "      <th>272</th>\n",
              "      <th>273</th>\n",
              "      <th>274</th>\n",
              "      <th>275</th>\n",
              "      <th>276</th>\n",
              "      <th>277</th>\n",
              "      <th>278</th>\n",
              "      <th>279</th>\n",
              "      <th>280</th>\n",
              "      <th>281</th>\n",
              "      <th>282</th>\n",
              "      <th>283</th>\n",
              "      <th>284</th>\n",
              "      <th>285</th>\n",
              "      <th>286</th>\n",
              "      <th>287</th>\n",
              "      <th>288</th>\n",
              "      <th>289</th>\n",
              "      <th>290</th>\n",
              "      <th>291</th>\n",
              "      <th>292</th>\n",
              "      <th>293</th>\n",
              "      <th>294</th>\n",
              "      <th>295</th>\n",
              "      <th>296</th>\n",
              "      <th>297</th>\n",
              "      <th>298</th>\n",
              "      <th>299</th>\n",
              "    </tr>\n",
              "  </thead>\n",
              "  <tbody>\n",
              "    <tr>\n",
              "      <th>0</th>\n",
              "      <td>1484870400000000000</td>\n",
              "      <td>13</td>\n",
              "      <td>7.728112</td>\n",
              "      <td>0.003361</td>\n",
              "      <td>2271.31</td>\n",
              "      <td>0.007234</td>\n",
              "      <td>0.017049</td>\n",
              "      <td>0.014785</td>\n",
              "      <td>0.112818</td>\n",
              "      <td>0.005808</td>\n",
              "      <td>0.031268</td>\n",
              "      <td>0.004004</td>\n",
              "      <td>-0.022390</td>\n",
              "      <td>-0.136406</td>\n",
              "      <td>-0.018931</td>\n",
              "      <td>0.167987</td>\n",
              "      <td>0.062027</td>\n",
              "      <td>-0.069072</td>\n",
              "      <td>0.039909</td>\n",
              "      <td>0.005455</td>\n",
              "      <td>0.047577</td>\n",
              "      <td>-0.139473</td>\n",
              "      <td>-0.034086</td>\n",
              "      <td>0.060369</td>\n",
              "      <td>0.012020</td>\n",
              "      <td>-0.100937</td>\n",
              "      <td>-0.056442</td>\n",
              "      <td>0.072030</td>\n",
              "      <td>0.003405</td>\n",
              "      <td>-0.020730</td>\n",
              "      <td>0.071168</td>\n",
              "      <td>0.047397</td>\n",
              "      <td>0.096156</td>\n",
              "      <td>0.006172</td>\n",
              "      <td>0.084143</td>\n",
              "      <td>-0.009108</td>\n",
              "      <td>0.070680</td>\n",
              "      <td>0.043552</td>\n",
              "      <td>-0.083781</td>\n",
              "      <td>-0.033807</td>\n",
              "      <td>...</td>\n",
              "      <td>-0.068709</td>\n",
              "      <td>-0.022975</td>\n",
              "      <td>0.071099</td>\n",
              "      <td>0.094701</td>\n",
              "      <td>-0.023330</td>\n",
              "      <td>-0.041544</td>\n",
              "      <td>-0.067197</td>\n",
              "      <td>0.023510</td>\n",
              "      <td>0.022729</td>\n",
              "      <td>-0.068556</td>\n",
              "      <td>0.029744</td>\n",
              "      <td>0.160471</td>\n",
              "      <td>-0.042716</td>\n",
              "      <td>-0.036826</td>\n",
              "      <td>-0.159243</td>\n",
              "      <td>-0.228928</td>\n",
              "      <td>0.050862</td>\n",
              "      <td>0.018077</td>\n",
              "      <td>-0.076906</td>\n",
              "      <td>0.132662</td>\n",
              "      <td>0.059498</td>\n",
              "      <td>0.071058</td>\n",
              "      <td>-0.041725</td>\n",
              "      <td>-0.033907</td>\n",
              "      <td>0.007470</td>\n",
              "      <td>-0.166834</td>\n",
              "      <td>0.026485</td>\n",
              "      <td>-0.031519</td>\n",
              "      <td>0.102397</td>\n",
              "      <td>0.010282</td>\n",
              "      <td>0.006805</td>\n",
              "      <td>-0.039812</td>\n",
              "      <td>0.051687</td>\n",
              "      <td>-0.148433</td>\n",
              "      <td>0.078150</td>\n",
              "      <td>0.047691</td>\n",
              "      <td>-0.105479</td>\n",
              "      <td>0.044766</td>\n",
              "      <td>0.042667</td>\n",
              "      <td>0.024178</td>\n",
              "    </tr>\n",
              "    <tr>\n",
              "      <th>1</th>\n",
              "      <td>1485129600000000000</td>\n",
              "      <td>1</td>\n",
              "      <td>7.725418</td>\n",
              "      <td>-0.002694</td>\n",
              "      <td>2265.20</td>\n",
              "      <td>0.016577</td>\n",
              "      <td>0.034811</td>\n",
              "      <td>0.014100</td>\n",
              "      <td>0.128171</td>\n",
              "      <td>-0.044889</td>\n",
              "      <td>0.068484</td>\n",
              "      <td>0.043878</td>\n",
              "      <td>-0.015371</td>\n",
              "      <td>-0.142381</td>\n",
              "      <td>-0.001081</td>\n",
              "      <td>0.203091</td>\n",
              "      <td>0.066895</td>\n",
              "      <td>-0.059639</td>\n",
              "      <td>0.017732</td>\n",
              "      <td>0.004902</td>\n",
              "      <td>0.051652</td>\n",
              "      <td>-0.096870</td>\n",
              "      <td>-0.047045</td>\n",
              "      <td>0.051783</td>\n",
              "      <td>-0.011320</td>\n",
              "      <td>-0.056187</td>\n",
              "      <td>-0.124266</td>\n",
              "      <td>0.051863</td>\n",
              "      <td>0.041674</td>\n",
              "      <td>-0.007736</td>\n",
              "      <td>0.084583</td>\n",
              "      <td>0.064044</td>\n",
              "      <td>0.080721</td>\n",
              "      <td>-0.021760</td>\n",
              "      <td>0.082473</td>\n",
              "      <td>-0.027006</td>\n",
              "      <td>0.079006</td>\n",
              "      <td>0.034400</td>\n",
              "      <td>-0.042196</td>\n",
              "      <td>0.001821</td>\n",
              "      <td>...</td>\n",
              "      <td>-0.061574</td>\n",
              "      <td>-0.020078</td>\n",
              "      <td>0.098960</td>\n",
              "      <td>0.106442</td>\n",
              "      <td>-0.004874</td>\n",
              "      <td>-0.079585</td>\n",
              "      <td>-0.034193</td>\n",
              "      <td>0.018061</td>\n",
              "      <td>0.011998</td>\n",
              "      <td>-0.072753</td>\n",
              "      <td>0.011138</td>\n",
              "      <td>0.123703</td>\n",
              "      <td>-0.065976</td>\n",
              "      <td>-0.035464</td>\n",
              "      <td>-0.171503</td>\n",
              "      <td>-0.226783</td>\n",
              "      <td>0.050160</td>\n",
              "      <td>-0.000016</td>\n",
              "      <td>-0.096289</td>\n",
              "      <td>0.109914</td>\n",
              "      <td>0.058411</td>\n",
              "      <td>0.098651</td>\n",
              "      <td>-0.053953</td>\n",
              "      <td>-0.051472</td>\n",
              "      <td>0.037305</td>\n",
              "      <td>-0.155737</td>\n",
              "      <td>0.033014</td>\n",
              "      <td>-0.076577</td>\n",
              "      <td>0.045948</td>\n",
              "      <td>0.004400</td>\n",
              "      <td>0.018246</td>\n",
              "      <td>-0.070684</td>\n",
              "      <td>0.000077</td>\n",
              "      <td>-0.097913</td>\n",
              "      <td>0.091223</td>\n",
              "      <td>-0.024641</td>\n",
              "      <td>-0.132505</td>\n",
              "      <td>0.047423</td>\n",
              "      <td>-0.004179</td>\n",
              "      <td>0.010015</td>\n",
              "    </tr>\n",
              "    <tr>\n",
              "      <th>2</th>\n",
              "      <td>1485216000000000000</td>\n",
              "      <td>4</td>\n",
              "      <td>7.731961</td>\n",
              "      <td>0.006543</td>\n",
              "      <td>2280.07</td>\n",
              "      <td>0.022373</td>\n",
              "      <td>-0.002345</td>\n",
              "      <td>0.006942</td>\n",
              "      <td>0.106005</td>\n",
              "      <td>-0.050417</td>\n",
              "      <td>0.050619</td>\n",
              "      <td>0.013287</td>\n",
              "      <td>-0.000541</td>\n",
              "      <td>-0.096851</td>\n",
              "      <td>-0.013654</td>\n",
              "      <td>0.162091</td>\n",
              "      <td>0.061318</td>\n",
              "      <td>-0.043622</td>\n",
              "      <td>0.029410</td>\n",
              "      <td>0.005576</td>\n",
              "      <td>0.060882</td>\n",
              "      <td>-0.090658</td>\n",
              "      <td>-0.018320</td>\n",
              "      <td>-0.002166</td>\n",
              "      <td>0.017193</td>\n",
              "      <td>-0.072062</td>\n",
              "      <td>-0.077634</td>\n",
              "      <td>0.055301</td>\n",
              "      <td>-0.001682</td>\n",
              "      <td>0.001800</td>\n",
              "      <td>0.102373</td>\n",
              "      <td>0.054684</td>\n",
              "      <td>0.086990</td>\n",
              "      <td>-0.030959</td>\n",
              "      <td>0.037515</td>\n",
              "      <td>-0.034522</td>\n",
              "      <td>0.021617</td>\n",
              "      <td>0.012607</td>\n",
              "      <td>-0.027677</td>\n",
              "      <td>-0.043448</td>\n",
              "      <td>...</td>\n",
              "      <td>-0.060864</td>\n",
              "      <td>-0.030683</td>\n",
              "      <td>0.067379</td>\n",
              "      <td>0.089321</td>\n",
              "      <td>-0.018022</td>\n",
              "      <td>-0.034274</td>\n",
              "      <td>-0.084918</td>\n",
              "      <td>0.043997</td>\n",
              "      <td>0.021283</td>\n",
              "      <td>-0.054310</td>\n",
              "      <td>0.006195</td>\n",
              "      <td>0.113080</td>\n",
              "      <td>-0.035286</td>\n",
              "      <td>-0.053998</td>\n",
              "      <td>-0.143640</td>\n",
              "      <td>-0.158309</td>\n",
              "      <td>0.031019</td>\n",
              "      <td>-0.021042</td>\n",
              "      <td>-0.063839</td>\n",
              "      <td>0.105555</td>\n",
              "      <td>0.080082</td>\n",
              "      <td>0.076908</td>\n",
              "      <td>-0.013181</td>\n",
              "      <td>-0.058657</td>\n",
              "      <td>0.044690</td>\n",
              "      <td>-0.166711</td>\n",
              "      <td>0.033440</td>\n",
              "      <td>-0.036636</td>\n",
              "      <td>0.048611</td>\n",
              "      <td>0.020666</td>\n",
              "      <td>-0.000292</td>\n",
              "      <td>-0.024946</td>\n",
              "      <td>0.025918</td>\n",
              "      <td>-0.141669</td>\n",
              "      <td>0.070860</td>\n",
              "      <td>0.007933</td>\n",
              "      <td>-0.112391</td>\n",
              "      <td>0.056183</td>\n",
              "      <td>0.017356</td>\n",
              "      <td>0.038554</td>\n",
              "    </tr>\n",
              "    <tr>\n",
              "      <th>3</th>\n",
              "      <td>1485302400000000000</td>\n",
              "      <td>8</td>\n",
              "      <td>7.739955</td>\n",
              "      <td>0.007994</td>\n",
              "      <td>2298.37</td>\n",
              "      <td>0.035464</td>\n",
              "      <td>0.046641</td>\n",
              "      <td>0.008425</td>\n",
              "      <td>0.066411</td>\n",
              "      <td>0.023535</td>\n",
              "      <td>0.042226</td>\n",
              "      <td>0.029412</td>\n",
              "      <td>-0.047515</td>\n",
              "      <td>-0.091725</td>\n",
              "      <td>-0.010349</td>\n",
              "      <td>0.185545</td>\n",
              "      <td>0.062454</td>\n",
              "      <td>-0.045673</td>\n",
              "      <td>0.022659</td>\n",
              "      <td>0.001343</td>\n",
              "      <td>0.040288</td>\n",
              "      <td>-0.115148</td>\n",
              "      <td>-0.028602</td>\n",
              "      <td>0.026120</td>\n",
              "      <td>0.010538</td>\n",
              "      <td>-0.031150</td>\n",
              "      <td>-0.075358</td>\n",
              "      <td>0.071055</td>\n",
              "      <td>0.003468</td>\n",
              "      <td>-0.061545</td>\n",
              "      <td>0.040869</td>\n",
              "      <td>0.041517</td>\n",
              "      <td>0.079357</td>\n",
              "      <td>-0.035360</td>\n",
              "      <td>0.029346</td>\n",
              "      <td>-0.023080</td>\n",
              "      <td>0.038498</td>\n",
              "      <td>0.040036</td>\n",
              "      <td>-0.045099</td>\n",
              "      <td>0.003364</td>\n",
              "      <td>...</td>\n",
              "      <td>-0.038011</td>\n",
              "      <td>-0.009135</td>\n",
              "      <td>0.070427</td>\n",
              "      <td>0.062917</td>\n",
              "      <td>0.014458</td>\n",
              "      <td>-0.037090</td>\n",
              "      <td>-0.012725</td>\n",
              "      <td>0.006745</td>\n",
              "      <td>0.043103</td>\n",
              "      <td>-0.031128</td>\n",
              "      <td>0.026731</td>\n",
              "      <td>0.095253</td>\n",
              "      <td>-0.020391</td>\n",
              "      <td>-0.007338</td>\n",
              "      <td>-0.137141</td>\n",
              "      <td>-0.155335</td>\n",
              "      <td>0.055805</td>\n",
              "      <td>0.025378</td>\n",
              "      <td>-0.069944</td>\n",
              "      <td>0.076989</td>\n",
              "      <td>0.031117</td>\n",
              "      <td>0.092755</td>\n",
              "      <td>-0.050111</td>\n",
              "      <td>-0.028174</td>\n",
              "      <td>0.029447</td>\n",
              "      <td>-0.131341</td>\n",
              "      <td>0.009169</td>\n",
              "      <td>-0.036167</td>\n",
              "      <td>0.065047</td>\n",
              "      <td>0.054295</td>\n",
              "      <td>0.009020</td>\n",
              "      <td>-0.080732</td>\n",
              "      <td>0.009945</td>\n",
              "      <td>-0.137727</td>\n",
              "      <td>0.048265</td>\n",
              "      <td>-0.032567</td>\n",
              "      <td>-0.156393</td>\n",
              "      <td>0.014243</td>\n",
              "      <td>0.043100</td>\n",
              "      <td>0.017472</td>\n",
              "    </tr>\n",
              "    <tr>\n",
              "      <th>4</th>\n",
              "      <td>1485388800000000000</td>\n",
              "      <td>11</td>\n",
              "      <td>7.739220</td>\n",
              "      <td>-0.000736</td>\n",
              "      <td>2296.68</td>\n",
              "      <td>0.011055</td>\n",
              "      <td>0.007951</td>\n",
              "      <td>0.020428</td>\n",
              "      <td>0.080771</td>\n",
              "      <td>0.000402</td>\n",
              "      <td>0.038979</td>\n",
              "      <td>0.007085</td>\n",
              "      <td>-0.030261</td>\n",
              "      <td>-0.100627</td>\n",
              "      <td>-0.013516</td>\n",
              "      <td>0.168507</td>\n",
              "      <td>0.071330</td>\n",
              "      <td>-0.052262</td>\n",
              "      <td>0.022635</td>\n",
              "      <td>-0.017368</td>\n",
              "      <td>0.021951</td>\n",
              "      <td>-0.115638</td>\n",
              "      <td>-0.014456</td>\n",
              "      <td>0.032822</td>\n",
              "      <td>-0.001799</td>\n",
              "      <td>-0.047942</td>\n",
              "      <td>-0.055352</td>\n",
              "      <td>0.070688</td>\n",
              "      <td>0.014991</td>\n",
              "      <td>-0.033788</td>\n",
              "      <td>0.073589</td>\n",
              "      <td>0.042703</td>\n",
              "      <td>0.075836</td>\n",
              "      <td>-0.011948</td>\n",
              "      <td>0.036197</td>\n",
              "      <td>-0.028603</td>\n",
              "      <td>0.043192</td>\n",
              "      <td>0.034215</td>\n",
              "      <td>-0.060168</td>\n",
              "      <td>0.002991</td>\n",
              "      <td>...</td>\n",
              "      <td>-0.044661</td>\n",
              "      <td>-0.008710</td>\n",
              "      <td>0.053833</td>\n",
              "      <td>0.094793</td>\n",
              "      <td>0.008679</td>\n",
              "      <td>-0.050496</td>\n",
              "      <td>-0.045018</td>\n",
              "      <td>0.011189</td>\n",
              "      <td>0.025322</td>\n",
              "      <td>-0.024716</td>\n",
              "      <td>0.022974</td>\n",
              "      <td>0.100882</td>\n",
              "      <td>-0.049973</td>\n",
              "      <td>-0.028148</td>\n",
              "      <td>-0.143196</td>\n",
              "      <td>-0.176459</td>\n",
              "      <td>0.044973</td>\n",
              "      <td>0.020565</td>\n",
              "      <td>-0.085845</td>\n",
              "      <td>0.107217</td>\n",
              "      <td>0.042021</td>\n",
              "      <td>0.075018</td>\n",
              "      <td>-0.048475</td>\n",
              "      <td>-0.025812</td>\n",
              "      <td>0.035424</td>\n",
              "      <td>-0.153611</td>\n",
              "      <td>0.006751</td>\n",
              "      <td>-0.044191</td>\n",
              "      <td>0.065033</td>\n",
              "      <td>0.031968</td>\n",
              "      <td>0.011084</td>\n",
              "      <td>-0.052907</td>\n",
              "      <td>-0.001256</td>\n",
              "      <td>-0.105521</td>\n",
              "      <td>0.050669</td>\n",
              "      <td>-0.016669</td>\n",
              "      <td>-0.139190</td>\n",
              "      <td>0.011059</td>\n",
              "      <td>0.045543</td>\n",
              "      <td>-0.000021</td>\n",
              "    </tr>\n",
              "  </tbody>\n",
              "</table>\n",
              "<p>5 rows × 305 columns</p>\n",
              "</div>"
            ],
            "text/plain": [
              "                  date  text       log  ...       297       298       299\n",
              "0  1484870400000000000    13  7.728112  ...  0.044766  0.042667  0.024178\n",
              "1  1485129600000000000     1  7.725418  ...  0.047423 -0.004179  0.010015\n",
              "2  1485216000000000000     4  7.731961  ...  0.056183  0.017356  0.038554\n",
              "3  1485302400000000000     8  7.739955  ...  0.014243  0.043100  0.017472\n",
              "4  1485388800000000000    11  7.739220  ...  0.011059  0.045543 -0.000021\n",
              "\n",
              "[5 rows x 305 columns]"
            ]
          },
          "metadata": {
            "tags": []
          },
          "execution_count": 26
        }
      ]
    },
    {
      "cell_type": "code",
      "metadata": {
        "id": "n7AswbGKfTFw",
        "colab_type": "code",
        "colab": {}
      },
      "source": [
        "#特徴量とターゲットを決める\n",
        "from sklearn.model_selection import train_test_split\n",
        "\n",
        "target_col = 'dif_log'\n",
        "exclude_cols = ['log', 'price', 'dif_log', \"date\",\"text\"]\n",
        "feature_cols = []\n",
        "for col in df4.columns:\n",
        "    if col not in exclude_cols:\n",
        "        feature_cols.append(col)\n",
        "        \n",
        "X = np.array(df4[feature_cols])\n",
        "y = np.array(df4[target_col])"
      ],
      "execution_count": 0,
      "outputs": []
    },
    {
      "cell_type": "code",
      "metadata": {
        "id": "20189zR5fTF0",
        "colab_type": "code",
        "outputId": "869dcddb-e6e5-4416-a1f5-c84bf7f44d8a",
        "colab": {
          "base_uri": "https://localhost:8080/",
          "height": 85
        }
      },
      "source": [
        "X_train_val, X_test, y_train_val, y_test = train_test_split(\n",
        "    X, y, test_size=0.1, random_state=1234)\n",
        "\n",
        "print('X_train_val Features Shape: ', X_train_val.shape)\n",
        "print('y_train_val Target Shape: ', y_train_val.shape)\n",
        "print('X_test Features Shape: ', X_test.shape)\n",
        "print('y_test Target Shape: ', y_test.shape)"
      ],
      "execution_count": 28,
      "outputs": [
        {
          "output_type": "stream",
          "text": [
            "X_train_val Features Shape:  (739, 300)\n",
            "y_train_val Target Shape:  (739,)\n",
            "X_test Features Shape:  (83, 300)\n",
            "y_test Target Shape:  (83,)\n"
          ],
          "name": "stdout"
        }
      ]
    },
    {
      "cell_type": "code",
      "metadata": {
        "id": "mW7aRfLifTF3",
        "colab_type": "code",
        "outputId": "8ad9dc87-993d-4632-c81a-acf78a19062b",
        "colab": {
          "base_uri": "https://localhost:8080/",
          "height": 85
        }
      },
      "source": [
        "X_train, X_val, y_train, y_val = train_test_split(\n",
        "    X_train_val, y_train_val, test_size=0.1, random_state=1234)\n",
        "\n",
        "# 参考：分割後のデータ数を確認\n",
        "print('X_train Features Shape: ', X_train.shape)\n",
        "print('y_train Target Shape: ', y_train.shape)\n",
        "print('X_val Features Shape: ', X_val.shape)\n",
        "print('y_val Target Shape: ', y_val.shape)"
      ],
      "execution_count": 29,
      "outputs": [
        {
          "output_type": "stream",
          "text": [
            "X_train Features Shape:  (665, 300)\n",
            "y_train Target Shape:  (665,)\n",
            "X_val Features Shape:  (74, 300)\n",
            "y_val Target Shape:  (74,)\n"
          ],
          "name": "stdout"
        }
      ]
    },
    {
      "cell_type": "code",
      "metadata": {
        "id": "AMGJVo-zfTF6",
        "colab_type": "code",
        "colab": {}
      },
      "source": [
        "#分析用のライブラリ\n",
        "\n",
        "from collections import Counter\n",
        "from sklearn.linear_model import LogisticRegression\n",
        "from sklearn.metrics import confusion_matrix, accuracy_score, classification_report\n",
        "from sklearn.linear_model import LinearRegression  # 線形回帰モデルのライブラリ\n",
        "from sklearn.metrics import mean_squared_error  # MSEのライブラリ\n",
        "from sklearn.ensemble import RandomForestRegressor"
      ],
      "execution_count": 0,
      "outputs": []
    },
    {
      "cell_type": "code",
      "metadata": {
        "id": "_7Ucu_2FfTF_",
        "colab_type": "code",
        "outputId": "ca02bd96-25ff-4ed3-945c-27bdf02ffd8a",
        "colab": {
          "base_uri": "https://localhost:8080/",
          "height": 88
        }
      },
      "source": [
        "#分析1 線形回帰\n",
        "\n",
        "from sklearn.linear_model import LinearRegression  # 線形回帰モデルのライブラリ\n",
        "from sklearn.metrics import mean_squared_error  # MSEのライブラリ\n",
        "from sklearn.externals import joblib\n",
        "import pickle\n",
        "\n",
        "lm = LinearRegression()\n",
        "lm.fit(X_train, y_train)\n",
        "\n",
        "# モデルを保存する\n",
        "filename = 'lm_model.sav'\n",
        "pickle.dump(lm, open(filename, 'wb'))\n",
        "\n",
        "y_pred = lm.predict(X_val)\n",
        "lm_mse = mean_squared_error(y_val, y_pred)\n",
        "print('LinerRegression RMSE: ', round(np.sqrt(lm_mse), 3))"
      ],
      "execution_count": 31,
      "outputs": [
        {
          "output_type": "stream",
          "text": [
            "LinerRegression RMSE:  0.019\n"
          ],
          "name": "stdout"
        },
        {
          "output_type": "stream",
          "text": [
            "/usr/local/lib/python3.6/dist-packages/sklearn/externals/joblib/__init__.py:15: FutureWarning: sklearn.externals.joblib is deprecated in 0.21 and will be removed in 0.23. Please import this functionality directly from joblib, which can be installed with: pip install joblib. If this warning is raised when loading pickled models, you may need to re-serialize those models with scikit-learn 0.21+.\n",
            "  warnings.warn(msg, category=FutureWarning)\n"
          ],
          "name": "stderr"
        }
      ]
    },
    {
      "cell_type": "code",
      "metadata": {
        "id": "44WIdMIIdhon",
        "colab_type": "code",
        "outputId": "2c0edaea-6799-422a-94ce-6497f75e9c99",
        "colab": {
          "base_uri": "https://localhost:8080/",
          "height": 34
        }
      },
      "source": [
        "#保存したモデルを読み取る\n",
        "loaded_model = pickle.load(open(filename, 'rb'))\n",
        "\n",
        "y_pred = loaded_model.predict(X_val)\n",
        "lm_mse = mean_squared_error(y_val, y_pred)\n",
        "print('LinerRegression RMSE: ', round(np.sqrt(lm_mse), 3))"
      ],
      "execution_count": 32,
      "outputs": [
        {
          "output_type": "stream",
          "text": [
            "LinerRegression RMSE:  0.019\n"
          ],
          "name": "stdout"
        }
      ]
    },
    {
      "cell_type": "code",
      "metadata": {
        "id": "yP6pY8SpfTGB",
        "colab_type": "code",
        "outputId": "2c129f86-dd31-4455-f3c6-cfee09c59953",
        "colab": {
          "base_uri": "https://localhost:8080/",
          "height": 34
        }
      },
      "source": [
        "#分析2 決定木\n",
        "\n",
        "from sklearn.tree import DecisionTreeRegressor\n",
        "\n",
        "dt = DecisionTreeRegressor(random_state=1234)\n",
        "dt.fit(X_train, y_train)\n",
        "\n",
        "# モデルを保存する\n",
        "filename = 'dt_model.sav'\n",
        "pickle.dump(dt, open(filename, 'wb'))\n",
        "\n",
        "y_pred = dt.predict(X_val)\n",
        "dt_mse = mean_squared_error(y_val, y_pred)\n",
        "print('DecisionTreeRegressor RMSE: ', round(np.sqrt(dt_mse), 3))"
      ],
      "execution_count": 33,
      "outputs": [
        {
          "output_type": "stream",
          "text": [
            "DecisionTreeRegressor RMSE:  0.021\n"
          ],
          "name": "stdout"
        }
      ]
    },
    {
      "cell_type": "code",
      "metadata": {
        "id": "TAO7GAT8fTGE",
        "colab_type": "code",
        "outputId": "df902bb1-1c88-4640-d646-4ad2e4994167",
        "colab": {
          "base_uri": "https://localhost:8080/",
          "height": 34
        }
      },
      "source": [
        "#分析3 ランダムフォレスト\n",
        "\n",
        "from sklearn.ensemble import RandomForestRegressor\n",
        "\n",
        "rf = RandomForestRegressor(n_estimators=100, random_state=1234)\n",
        "rf.fit(X_train, y_train)\n",
        "\n",
        "# モデルを保存する\n",
        "filename = 'rf_model.sav'\n",
        "pickle.dump(rf, open(filename, 'wb'))\n",
        "\n",
        "y_pred = rf.predict(X_val)\n",
        "rf_mse = mean_squared_error(y_val, y_pred)\n",
        "print('RandomForestRegressor RMSE: ', round(np.sqrt(rf_mse), 3))"
      ],
      "execution_count": 34,
      "outputs": [
        {
          "output_type": "stream",
          "text": [
            "RandomForestRegressor RMSE:  0.013\n"
          ],
          "name": "stdout"
        }
      ]
    },
    {
      "cell_type": "code",
      "metadata": {
        "id": "8iYWdBRkfTGH",
        "colab_type": "code",
        "outputId": "b63470f3-1eff-4a77-cfa7-c96360cd0037",
        "colab": {
          "base_uri": "https://localhost:8080/",
          "height": 282
        }
      },
      "source": [
        "#分析3 ランダムフォレストの特徴量\n",
        "\n",
        "rf_importances = pd.DataFrame(rf.feature_importances_, columns=['importance'], index=feature_cols)\n",
        "rf_importances.sort_values('importance', ascending=False).iloc[0:15].plot(kind='barh')"
      ],
      "execution_count": 35,
      "outputs": [
        {
          "output_type": "execute_result",
          "data": {
            "text/plain": [
              "<matplotlib.axes._subplots.AxesSubplot at 0x7f9b0dc77550>"
            ]
          },
          "metadata": {
            "tags": []
          },
          "execution_count": 35
        },
        {
          "output_type": "display_data",
          "data": {
            "image/png": "[encoded data removed]",
            "text/plain": [
              "<Figure size 432x288 with 1 Axes>"
            ]
          },
          "metadata": {
            "tags": [],
            "needs_background": "light"
          }
        }
      ]
    },
    {
      "cell_type": "code",
      "metadata": {
        "id": "_FrzHo3CfTGK",
        "colab_type": "code",
        "outputId": "d36b91fa-e918-47df-ad6b-4955c62e684a",
        "colab": {
          "base_uri": "https://localhost:8080/",
          "height": 68
        }
      },
      "source": [
        "#４つの分析の結果の比較\n",
        "\n",
        "print('線形回帰モデルのRMSE:    ', round(np.sqrt(lm_mse), 3))\n",
        "print('回帰木のRMSE:                  ', round(np.sqrt(dt_mse), 3))\n",
        "print('ランダムフォレストのRMSE: ', round(np.sqrt(rf_mse), 3))"
      ],
      "execution_count": 36,
      "outputs": [
        {
          "output_type": "stream",
          "text": [
            "線形回帰モデルのRMSE:     0.019\n",
            "回帰木のRMSE:                   0.021\n",
            "ランダムフォレストのRMSE:  0.013\n"
          ],
          "name": "stdout"
        }
      ]
    },
    {
      "cell_type": "code",
      "metadata": {
        "id": "6nAtZEWZfTGO",
        "colab_type": "code",
        "outputId": "17239c53-01d5-4d66-a31d-82756c8eedfc",
        "colab": {
          "base_uri": "https://localhost:8080/",
          "height": 85
        }
      },
      "source": [
        "#分析4 ランダムフォレストのチューニング\n",
        "\n",
        "# クロスバリデーションとグリッドサーチ のライブラリ\n",
        "from sklearn.model_selection import GridSearchCV\n",
        "\n",
        "rf = RandomForestRegressor(random_state=1234)\n",
        "\n",
        "params = {'n_estimators': [10, 25, 50, 100], 'max_depth': [10, 20, 30, 50]}\n",
        "gscv = GridSearchCV(rf, param_grid=params, verbose=1, cv=3,\n",
        "                    scoring='neg_mean_squared_error', n_jobs=-1)\n",
        "gscv.fit(X_train, y_train)\n",
        "\n",
        "gscv.best_params_"
      ],
      "execution_count": 37,
      "outputs": [
        {
          "output_type": "stream",
          "text": [
            "Fitting 3 folds for each of 16 candidates, totalling 48 fits\n"
          ],
          "name": "stdout"
        },
        {
          "output_type": "stream",
          "text": [
            "[Parallel(n_jobs=-1)]: Using backend LokyBackend with 2 concurrent workers.\n",
            "[Parallel(n_jobs=-1)]: Done  48 out of  48 | elapsed:  2.3min finished\n"
          ],
          "name": "stderr"
        },
        {
          "output_type": "execute_result",
          "data": {
            "text/plain": [
              "{'max_depth': 20, 'n_estimators': 50}"
            ]
          },
          "metadata": {
            "tags": []
          },
          "execution_count": 37
        }
      ]
    },
    {
      "cell_type": "code",
      "metadata": {
        "id": "TAcxNPOffTGR",
        "colab_type": "code",
        "outputId": "27791f5d-02b0-453d-dc64-7d7820838930",
        "colab": {
          "base_uri": "https://localhost:8080/",
          "height": 34
        }
      },
      "source": [
        "#分析4 ランダムフォレストのチューニング\n",
        "best_estimators = gscv.best_params_[\"n_estimators\"]\n",
        "best_depth = gscv.best_params_[\"max_depth\"]\n",
        "\n",
        "rf_best = RandomForestRegressor(n_estimators=best_estimators, max_depth=best_depth, random_state=1234)\n",
        "rf_best.fit(X_train, y_train)\n",
        "\n",
        "# モデルを保存する\n",
        "filename = 'rf_best_model.sav'\n",
        "pickle.dump(rf_best, open(filename, 'wb'))\n",
        "\n",
        "y_pred = rf_best.predict(X_val)\n",
        "rf_best_mse = mean_squared_error(y_val, y_pred)\n",
        "print('RandomForest RMSE: ', round(np.sqrt(rf_best_mse), 3))"
      ],
      "execution_count": 38,
      "outputs": [
        {
          "output_type": "stream",
          "text": [
            "RandomForest RMSE:  0.013\n"
          ],
          "name": "stdout"
        }
      ]
    },
    {
      "cell_type": "code",
      "metadata": {
        "id": "43P-uNhxfTGU",
        "colab_type": "code",
        "outputId": "821ef09b-5d21-4226-f0be-92b871191253",
        "colab": {
          "base_uri": "https://localhost:8080/",
          "height": 34
        }
      },
      "source": [
        "#分析5 チューニングしたモデルにテストデータを代入\n",
        "\n",
        "y_pred_on_test = rf_best.predict(X_test)\n",
        "rf_best_test_mse = mean_squared_error(y_test, y_pred_on_test)\n",
        "print('RandomForest RMSE: ', round(np.sqrt(rf_best_test_mse), 3))"
      ],
      "execution_count": 39,
      "outputs": [
        {
          "output_type": "stream",
          "text": [
            "RandomForest RMSE:  0.014\n"
          ],
          "name": "stdout"
        }
      ]
    },
    {
      "cell_type": "code",
      "metadata": {
        "id": "OXUicVllfTGc",
        "colab_type": "code",
        "outputId": "d71fccfa-77bc-4a84-cbe3-ee5819afda6f",
        "colab": {
          "base_uri": "https://localhost:8080/",
          "height": 618
        }
      },
      "source": [
        "#分析5 テストデータを代入\n",
        "#誤差を可視化\n",
        "\n",
        "plt.scatter(y_test, y_pred_on_test)\n",
        "plt.show()\n",
        "\n",
        "import seaborn as sns\n",
        "\n",
        "error_rate = (y_test - y_pred_on_test) / y_test\n",
        "print('Mean: ', round(np.mean(error_rate), 5))\n",
        "print('Std: ', round(np.std(error_rate), 5))\n",
        "sns.distplot(error_rate, kde=False, rug=False, bins=20)"
      ],
      "execution_count": 40,
      "outputs": [
        {
          "output_type": "display_data",
          "data": {
            "image/png": "[encoded data removed]",
            "text/plain": [
              "<Figure size 432x288 with 1 Axes>"
            ]
          },
          "metadata": {
            "tags": [],
            "needs_background": "light"
          }
        },
        {
          "output_type": "stream",
          "text": [
            "Mean:  1.64134\n",
            "Std:  3.05155\n"
          ],
          "name": "stdout"
        },
        {
          "output_type": "stream",
          "text": [
            "/usr/local/lib/python3.6/dist-packages/statsmodels/tools/_testing.py:19: FutureWarning: pandas.util.testing is deprecated. Use the functions in the public API at pandas.testing instead.\n",
            "  import pandas.util.testing as tm\n"
          ],
          "name": "stderr"
        },
        {
          "output_type": "execute_result",
          "data": {
            "text/plain": [
              "<matplotlib.axes._subplots.AxesSubplot at 0x7f9b0b854dd8>"
            ]
          },
          "metadata": {
            "tags": []
          },
          "execution_count": 40
        },
        {
          "output_type": "display_data",
          "data": {
            "image/png": "[encoded data removed]",
            "text/plain": [
              "<Figure size 432x288 with 1 Axes>"
            ]
          },
          "metadata": {
            "tags": [],
            "needs_background": "light"
          }
        }
      ]
    },
    {
      "cell_type": "code",
      "metadata": {
        "id": "sGW47_XkfTGi",
        "colab_type": "code",
        "outputId": "cb22dc30-a69b-4994-eae7-e65e2a421034",
        "colab": {
          "base_uri": "https://localhost:8080/",
          "height": 581
        }
      },
      "source": [
        "#分析6 クラスタリング\n",
        "#https://hironsan.hatenablog.com/entry/clustering-word-vectors\n",
        "\n",
        "from collections import defaultdict\n",
        "from gensim.models.keyedvectors import KeyedVectors\n",
        "from sklearn.cluster import KMeans\n",
        "\n",
        "model = KeyedVectors.load('skipgram_w2v.model')\n",
        "max_vocab = 30000\n",
        "vocab = list(model.wv.vocab.keys())[:max_vocab]\n",
        "vectors = [model.wv[word] for word in vocab]\n",
        "\n",
        "n_clusters = 30\n",
        "kmeans_model = KMeans(n_clusters=n_clusters, verbose=1, random_state=1234, n_jobs=-1)\n",
        "kmeans_model.fit(vectors)\n",
        "\n",
        "cluster_labels = kmeans_model.labels_\n",
        "cluster_to_words = defaultdict(list)\n",
        "for cluster_id, word in zip(cluster_labels, vocab):\n",
        "    cluster_to_words[cluster_id].append(word)\n",
        "\n",
        "for words in cluster_to_words.values():\n",
        "    print(words[:10])"
      ],
      "execution_count": 41,
      "outputs": [
        {
          "output_type": "stream",
          "text": [
            "/usr/local/lib/python3.6/dist-packages/smart_open/smart_open_lib.py:253: UserWarning: This function is deprecated, use smart_open.open instead. See the migration notes for details: https://github.com/RaRe-Technologies/smart_open/blob/master/README.rst#migrating-to-the-new-open-function\n",
            "  'See the migration notes for details: %s' % _MIGRATION_NOTES_URL\n"
          ],
          "name": "stderr"
        },
        {
          "output_type": "stream",
          "text": [
            "['trump', 'cuomo', 'special', 'general', 'flynn', 'director', 'covering', 'interview', 'marthamaccallum', 'wow']\n",
            "['gets', 'loser', 'thing', 'even', 'called', 'wonder', '’', 'aoc', 'talking', '”']\n",
            "['latest', 'fire', 'ny', 'president', 'hughhewitt', 'direction', 'strategy', 'bucksexton', 'received', 'significant']\n",
            "['poll', 'approval', 'republican', 'party', 'worker', 'rating', 'high', 'overall', '95', '53']\n",
            "['6', '7', 'point', '8', 'first', 'days', 'history', 'gopchairwoman', 'new', 'office']\n",
            "['tied', 'angry', 'brought', 'using', 'cop', 'whole', 'seems', 'responsible', 'corruption', 'knew']\n",
            "['best', 'trillion', 'since', 'economic', 'highest', 'economy', 'numbers', 'ever', 'low', 'unemployment']\n",
            "['governor', 'michigan', 'night', 'vote', 'wisconsin', 'jersey', 'iowa', 'win', 'louisiana', 'fantastic']\n",
            "['give', 'want', 'amp', 'done', 'always', 'work', 'chuckgrassley', 'need', 'help', 'fight']\n",
            "['little', 'put', 'given', 'others', 'late', 'enough', 'would', 'else', 'spent', 'getting']\n",
            "['good', 'see', 'make', 'one', 'great', 'making', 'supporters', 'working', 'hard', 'tremendous']\n",
            "['people', 'talk', 'totally', 'never', 'show', 'everything', 'going', 'partner', 'radical', 'left']\n",
            "['lives', 'mikepence', 'leadership', 'act', 'response', 'ensure', 'americans', 'supply', 'every', 'day']\n",
            "['back', 'ventilators', 'middle', 'gm', 'production', 'farmers', 'ranchers', 'cut', 'us', 'small']\n",
            "['deal', 'dollars', '25', 'pay', 'goods', 'paying', 'countries', 'china', 'additional', 'phase']\n",
            "['cryin', 'chuck', 'schumer', 'senators', 'voted', 'congress', 'democrats', 'speaker', 'pelosi', 'house']\n",
            "['home', 'states', 'pandemic', 'chinese', 'rest', 'ultimately', 'may', 'teachers', 'assistance', '33']\n",
            "['stop', 'border', 'funding', 'allow', 'necessary', 'open', 'must', 'immigration', 'human', 'agents']\n",
            "['stand', 'america', 'incredible', 'hardworking', 'nation', 'freedom', 'proud', 'thank', 'family', 'birthday']\n",
            "['false', 'media', 'worse', 'fake', 'news', 'cnn', 'msdnc', 'story', 'post', 'corrupt']\n",
            "['testing', 'east', 'war', 'meeting', 'sanctions', 'leaders', 'discussing', 'putin', 'spoke', 'forward']\n",
            "['job', 'opponent', 'mike', 'deep', 'drain', 'swamp', 'kevin', 'liberal', 'state', 'brian']\n",
            "['lied', 'dirty', 'fusion', 'fbi', 'investigation', 'cops', 'mueller', 'james', 'documents', 'christopher']\n",
            "['teamtrump', 'realdonaldtrump', '\\u2066', '\\u2069', '2020', '🚨', 'tonight', 'laraleatrump', 'pm', 'erictrump']\n",
            "['authority', 'case', 'rep', 'jimjordan', 'refuses', 'th', 'elisestefanik', 'repandybiggsaz', 'gopleader', 'mccarthy']\n",
            "['defense', 'careful', 'team', 'navy', 'sector', 'airport', 'officials', 'closely', 'supporting', 'wonderful']\n",
            "['honor', 'whitehouse', 'live', 'potus', 'delivers', 'remarks', 'met', 'vp', 'oval', '45']\n",
            "['military', 'vets', 'fighter', 'tom', 'supports', 'loves', 'strong', 'crime', 'second', 'amendment']\n",
            "['powell', 'higher', 'federal', 'interest', 'lower', 'dollar', 'raised', 'rates', 'reserve', 'fed']\n",
            "['ं', 'ी', 'क', 'े', '्', 'र', 'ा', 'ि', 'म', 'ह']\n"
          ],
          "name": "stdout"
        }
      ]
    },
    {
      "cell_type": "code",
      "metadata": {
        "id": "Fu0b2E73mdhz",
        "colab_type": "code",
        "outputId": "87e1febf-d63b-4ae2-910b-5f03615597e5",
        "colab": {
          "base_uri": "https://localhost:8080/",
          "height": 466
        }
      },
      "source": [
        "#分析7 似ている単語をプロット\n",
        "# https://yoshipc.net/python-word2vec/\n",
        " \n",
        "from gensim.models import word2vec\n",
        "import numpy as np\n",
        "import matplotlib.pyplot as plt\n",
        "from sklearn.decomposition import PCA\n",
        " \n",
        "model = word2vec.Word2Vec.load(\"/content/skipgram_w2v.model\")\n",
        " \n",
        "#調べる情報を配列に収納\n",
        "trump_word = []\n",
        "trump_word.append([\"america\",\"china\"])\n",
        "trump_word.append([\"america\",\"great\"])\n",
        "trump_word.append([\"america\",\"japan\"])\n",
        "trump_word.append([\"trump\",\"president\"])\n",
        "trump_word.append([\"coronavirus\",\"covid\"])\n",
        "trump_word.append([\"coronavirus\",\"economy\"])\n",
        "trump_word.append([\"stock\",\"economy\"])\n",
        "\n",
        "length = len(trump_word)\n",
        "data = []\n",
        " \n",
        "j = 0\n",
        "while j < length:\n",
        "    #print(trump_word[j][1])\n",
        "    data.append(model[trump_word[j][0]])\n",
        "    data.append(model[trump_word[j][1]])\n",
        "    j += 1\n",
        " \n",
        "pca = PCA(n_components=2)\n",
        "pca.fit(data)\n",
        "data_pca= pca.transform(data)\n",
        " \n",
        "length_data = len(data_pca)\n",
        " \n",
        "i = 0\n",
        "j = 0\n",
        "\n",
        "plt.figure(figsize=(2.4, 1.8), dpi=200)\n",
        "\n",
        "while i < length_data:\n",
        "    #点プロット\n",
        "    plt.plot(data_pca[i][0], data_pca[i][1], ms=5.0, zorder=2 ,marker=\"x\")\n",
        "    plt.plot(data_pca[i+1][0], data_pca[i+1][1],ms=5.0, zorder=2 ,marker=\"x\")\n",
        " \n",
        "    #線プロット\n",
        "    plt.plot((data_pca[i][0], data_pca[i+1][0]),(data_pca[i][1],data_pca[i+1][1]),c=\"b\",linewidth=0.5,zorder=1,linestyle=\"--\")\n",
        " \n",
        "    #文字プロット\n",
        "    plt.annotate(trump_word[j][0],(data_pca[i][0], data_pca[i][1]),size=7)\n",
        "    plt.annotate(trump_word[j][1],(data_pca[i+1][0], data_pca[i+1][1]),size=7)\n",
        " \n",
        "    j += 1\n",
        "    i += 2\n",
        " \n",
        "plt.show()"
      ],
      "execution_count": 42,
      "outputs": [
        {
          "output_type": "stream",
          "text": [
            "/usr/local/lib/python3.6/dist-packages/smart_open/smart_open_lib.py:253: UserWarning: This function is deprecated, use smart_open.open instead. See the migration notes for details: https://github.com/RaRe-Technologies/smart_open/blob/master/README.rst#migrating-to-the-new-open-function\n",
            "  'See the migration notes for details: %s' % _MIGRATION_NOTES_URL\n",
            "/usr/local/lib/python3.6/dist-packages/ipykernel_launcher.py:27: DeprecationWarning: Call to deprecated `__getitem__` (Method will be removed in 4.0.0, use self.wv.__getitem__() instead).\n",
            "/usr/local/lib/python3.6/dist-packages/ipykernel_launcher.py:28: DeprecationWarning: Call to deprecated `__getitem__` (Method will be removed in 4.0.0, use self.wv.__getitem__() instead).\n"
          ],
          "name": "stderr"
        },
        {
          "output_type": "display_data",
          "data": {
            "image/png": "[encoded data removed]",
            "text/plain": [
              "<Figure size 480x360 with 1 Axes>"
            ]
          },
          "metadata": {
            "tags": [],
            "needs_background": "light"
          }
        }
      ]
    },
    {
      "cell_type": "code",
      "metadata": {
        "id": "zXq4SYqwp5Xu",
        "colab_type": "code",
        "colab": {}
      },
      "source": [
        "#分析8 DeepLearning\n",
        "#ライブラリをインポート\n",
        "\n",
        "import numpy as np\n",
        "import pandas as pd\n",
        "import torch\n",
        "from torch import nn\n",
        "from torch import optim\n",
        "import torch.nn.functional as F\n",
        "from torch.utils.data import DataLoader, TensorDataset\n",
        "from sklearn.model_selection import train_test_split\n",
        "from sklearn.metrics import confusion_matrix\n",
        "import matplotlib.pyplot as plt"
      ],
      "execution_count": 0,
      "outputs": []
    },
    {
      "cell_type": "code",
      "metadata": {
        "id": "4uecjMVBTBij",
        "colab_type": "code",
        "colab": {}
      },
      "source": [
        "class myMLP(nn.Module):\n",
        "    def __init__(self, in_features, out_features):\n",
        "        super().__init__()\n",
        "        self.ln1 = nn.Linear(in_features, 256)\n",
        "        self.ln2 = nn.Linear(256, 128)\n",
        "        self.ln3 = nn.Linear(128, 32)\n",
        "        self.ln4 = nn.Linear(32, 64)\n",
        "        self.ln5 = nn.Linear(64, 32)\n",
        "        self.ln6 = nn.Linear(32, 4)\n",
        "        self.ln7 = nn.Linear(4, out_features)\n",
        "\n",
        "    def forward(self, x):\n",
        "        x = self.ln1(x)\n",
        "        x = F.relu(x)\n",
        "        x = self.ln2(x)\n",
        "        x = F.relu(x)\n",
        "        x = self.ln3(x)\n",
        "        x = F.relu(x)\n",
        "        x = self.ln4(x)\n",
        "        x = F.relu(x)\n",
        "        x = self.ln5(x)\n",
        "        x = F.relu(x)\n",
        "        x = self.ln6(x)\n",
        "        x = F.relu(x)\n",
        "        x = self.ln7(x)\n",
        "        return x"
      ],
      "execution_count": 0,
      "outputs": []
    },
    {
      "cell_type": "code",
      "metadata": {
        "id": "_qwTPkn83jED",
        "colab_type": "code",
        "outputId": "b7b8123f-517b-4eb5-96fe-8fadb9c2d11c",
        "colab": {
          "base_uri": "https://localhost:8080/",
          "height": 404
        }
      },
      "source": [
        "#分析8 DeepLearning\n",
        "# NumPyのarryをtorch.tensor型に変換する。\n",
        "\n",
        "X_train, X_test, y_train, y_test = train_test_split(\n",
        "    X, y, test_size=0.2, random_state=1234)\n",
        "\n",
        "X_train_tensor = torch.tensor(X_train, dtype=torch.float32)\n",
        "y_train_tensor = torch.tensor(y_train, dtype=torch.float32)\n",
        "X_test_tensor = torch.tensor(X_test, dtype=torch.float32)\n",
        "y_test_tensor = torch.tensor(y_test, dtype=torch.float32)\n",
        "\n",
        "train_dataset = TensorDataset(X_train_tensor, y_train_tensor)\n",
        "train_loader = DataLoader(train_dataset, batch_size=100, shuffle=True)\n",
        "\n",
        "#ネットワークを書く\n",
        "net = myMLP(300,1)\n",
        "net.parameters\n",
        "\n",
        "#目的関数を指定（今回は回帰問題のためMSELoss()を使用する）\n",
        "#https://pytorch.org/docs/stable/nn.html#loss-functions\n",
        "loss_func = nn.MSELoss()\n",
        "#Optimizerを定義する\n",
        "#https://pytorch.org/docs/stable/optim.html\n",
        "optimizer = optim.RMSprop(net.parameters())\n",
        "  \n",
        "train_loss_track = []\n",
        "test_loss_track = []\n",
        "\n",
        "for epoc in range(10):\n",
        "    running_loss = 0\n",
        "    \n",
        "    # 学習モード\n",
        "    net.train()\n",
        "    for step, (xx, yy)  in enumerate(train_loader):\n",
        "        \n",
        "        # 最後に計算した各パラメーターの勾配を初期化する\n",
        "        optimizer.zero_grad()\n",
        "        \n",
        "        # フォワード計算を行う\n",
        "        y_pred = net(xx).float()\n",
        "        \n",
        "        # 誤差関数を使ってギャップの計測\n",
        "        loss = loss_func(y_pred, yy)\n",
        "      \n",
        "        # 誤差逆伝播法を使って自動微分\n",
        "        loss.backward()\n",
        "        \n",
        "        # パラメーターを更新\n",
        "        optimizer.step()\n",
        "        \n",
        "        # 学習データを使って誤差を計算\n",
        "        running_loss += loss.item()\n",
        "        \n",
        "    # エポックが終了したら平均誤差を計算\n",
        "    train_loss_track.append(running_loss/step)\n",
        "    \n",
        "    \n",
        "    #評価（evaluation）モード\n",
        "    net.eval()\n",
        "    \n",
        "    # 予測値を計算\n",
        "    y_pred = net(X_test_tensor)\n",
        "    \n",
        "    # 誤差関数を計算\n",
        "    test_loss = loss_func(y_pred, y_test_tensor)\n",
        "    \n",
        "    # 誤差をトラッキング\n",
        "    test_loss_track.append(test_loss)\n",
        "\n",
        "\n",
        "\n",
        "plt.plot(train_loss_track)\n",
        "plt.plot(test_loss_track)\n",
        "print(\"test_loss: \",sum(test_loss_track)/len(test_loss_track))"
      ],
      "execution_count": 45,
      "outputs": [
        {
          "output_type": "stream",
          "text": [
            "/usr/local/lib/python3.6/dist-packages/torch/nn/modules/loss.py:432: UserWarning: Using a target size (torch.Size([100])) that is different to the input size (torch.Size([100, 1])). This will likely lead to incorrect results due to broadcasting. Please ensure they have the same size.\n",
            "  return F.mse_loss(input, target, reduction=self.reduction)\n",
            "/usr/local/lib/python3.6/dist-packages/torch/nn/modules/loss.py:432: UserWarning: Using a target size (torch.Size([57])) that is different to the input size (torch.Size([57, 1])). This will likely lead to incorrect results due to broadcasting. Please ensure they have the same size.\n",
            "  return F.mse_loss(input, target, reduction=self.reduction)\n",
            "/usr/local/lib/python3.6/dist-packages/torch/nn/modules/loss.py:432: UserWarning: Using a target size (torch.Size([165])) that is different to the input size (torch.Size([165, 1])). This will likely lead to incorrect results due to broadcasting. Please ensure they have the same size.\n",
            "  return F.mse_loss(input, target, reduction=self.reduction)\n"
          ],
          "name": "stderr"
        },
        {
          "output_type": "stream",
          "text": [
            "test_loss:  tensor(0.0158, grad_fn=<DivBackward0>)\n"
          ],
          "name": "stdout"
        },
        {
          "output_type": "display_data",
          "data": {
            "image/png": "[encoded data removed]",
            "text/plain": [
              "<Figure size 432x288 with 1 Axes>"
            ]
          },
          "metadata": {
            "tags": [],
            "needs_background": "light"
          }
        }
      ]
    },
    {
      "cell_type": "code",
      "metadata": {
        "id": "Zs3RyM14_Was",
        "colab_type": "code",
        "outputId": "bcbbfa93-1970-4e96-b091-07067dfbc45d",
        "colab": {
          "base_uri": "https://localhost:8080/",
          "height": 537
        }
      },
      "source": [
        "#分析9　TFIDFを用いたランダムフォレスト\n",
        "\n",
        "#形態素解析のデータセットを作る\n",
        "#https://qiita.com/tomone_hata/items/67e7f9415dbf5c8ff8ba\n",
        "\n",
        "from sklearn.feature_extraction.text import CountVectorizer, TfidfTransformer\n",
        "\n",
        "#形態素解析のデータセットを作る\n",
        "#文章を全部１つのリストに入れる→TFIDFを作る→それぞれの日付に出てくる単語をKeyにTFIDFの値を取ってくる\n",
        "\n",
        "data_keitaiso = pd.read_csv(\"s&p_tweets.csv\")\n",
        "tweet_keitaiso=[]\n",
        "\n",
        "for tweet in data_keitaiso[\"text\"]:\n",
        "  tweet = re.sub(r'^RT[\\s]+', '', tweet)\n",
        "  tweet = re.sub(r'(http|https):\\/\\/.*[\\r\\n]*', '', tweet)\n",
        "  tweet = re.sub(r'#', '', tweet)\n",
        "  tweet = tweet.translate(str.maketrans('', '', string.punctuation)) \n",
        "  tweet_keitaiso.append(tweet)\n",
        "\n",
        "corpus = tweet_keitaiso         \n",
        "cv = CountVectorizer(token_pattern=r\"\\b\\w+\\b\")\n",
        "wc = cv.fit_transform(corpus)\n",
        "ttf = TfidfTransformer()\n",
        "tfidf = ttf.fit_transform(wc)\n",
        "\n",
        "#蜜行列に変更する\n",
        "X_tfidf = tfidf.toarray()\n",
        "\n",
        "data3 = pd.DataFrame(X_tfidf)\n",
        "df_tweets_tfidf =  pd.concat([data_keitaiso, data3], axis=1)\n",
        "\n",
        "df = df_tweets_tfidf.groupby([\"date\"]).mean()\n",
        "df_sp = pd.read_csv(\"/content/sp500-10-year-daily-chart.csv\")\n",
        "df_sp[\"log\"] = np.log(df_sp[\" value\"])\n",
        "df_sp[\"dif_log\"] = df_sp[\"log\"].diff()\n",
        "df2=pd.merge(df_sp, df, how=\"inner\" ,on=\"date\")\n",
        "df2 = df2.drop(\" value\", axis=1)\n",
        "df3 = df_tweets_tfidf[[\"date\",\"text\"]]\n",
        "df3 = df3.groupby([\"date\"]).count()\n",
        "df_tfidf = pd.merge( df3, df2, how=\"inner\" ,on=\"date\")\n",
        "df_tfidf[\"date\"] = pd.to_datetime(df4['date']).astype('int64')\n",
        "\n",
        "from sklearn.model_selection import train_test_split\n",
        "\n",
        "target_col = 'dif_log'\n",
        "exclude_cols = ['log', 'price', 'dif_log', \"date\",\"text\"]\n",
        "feature_cols = []\n",
        "for col in df_tfidf.columns:\n",
        "    if col not in exclude_cols:\n",
        "        feature_cols.append(col)\n",
        "        \n",
        "X2 = np.array(df_tfidf[feature_cols])\n",
        "y2 = np.array(df_tfidf[target_col])\n",
        "\n",
        "X２_train_val, X２_test, y２_train_val, y２_test = train_test_split(\n",
        "    X２, y２, test_size=0.1, random_state=1234)\n",
        "\n",
        "X２_train, X２_val, y２_train, y２_val = train_test_split(\n",
        "    X２_train_val, y２_train_val, test_size=0.1, random_state=1234)\n",
        "\n",
        "#分析\n",
        "from sklearn.ensemble import RandomForestRegressor\n",
        "\n",
        "rf = RandomForestRegressor(n_estimators=100, random_state=1234)\n",
        "rf.fit(X２_train, y２_train)\n",
        "\n",
        "filename = 'rf_TFIDF_model.sav'\n",
        "pickle.dump(rf, open(filename, 'wb'))\n",
        "\n",
        "y２_pred = rf.predict(X２_val)\n",
        "rf_mse_2 = mean_squared_error(y２_val, y２_pred)\n",
        "print('RandomForestRegressor RMSE: ', round(np.sqrt(rf_mse_2), 3))\n",
        "\n",
        "#プロット\n",
        "rf_importances = pd.DataFrame(rf.feature_importances_, columns=['importance'], index=feature_cols)\n",
        "rf_importances.sort_values('importance', ascending=False).iloc[0:15].plot(kind='barh')\n",
        "\n",
        "#列名をゲット\n",
        "#https://note.nkmk.me/python-dict-get-key-from-value/\n",
        "\n",
        "voca = cv.vocabulary_\n",
        "\n",
        "def get_keys_from_value(d, val):\n",
        "    return [k for k, v in d.items() if v == val]\n",
        "\n",
        "for i in rf_importances.sort_values('importance', ascending=False).iloc[0:15].index:\n",
        "  keys = get_keys_from_value(voca, i)\n",
        "  print(keys)\n",
        "# ['key1', 'key2']"
      ],
      "execution_count": 46,
      "outputs": [
        {
          "output_type": "stream",
          "text": [
            "RandomForestRegressor RMSE:  0.016\n",
            "['confident']\n",
            "['coronavirus']\n",
            "['declare']\n",
            "['nationwide']\n",
            "['duly']\n",
            "['spreading']\n",
            "['covid19']\n",
            "['practice']\n",
            "['cutter']\n",
            "['outbreak']\n",
            "['545']\n",
            "['prevail']\n",
            "['billcassidy']\n",
            "['restaurants']\n",
            "['jack']\n"
          ],
          "name": "stdout"
        },
        {
          "output_type": "display_data",
          "data": {
            "image/png": "[encoded data removed]",
            "text/plain": [
              "<Figure size 432x288 with 1 Axes>"
            ]
          },
          "metadata": {
            "tags": [],
            "needs_background": "light"
          }
        }
      ]
    },
    {
      "cell_type": "code",
      "metadata": {
        "id": "3fRvcdNFclQU",
        "colab_type": "code",
        "outputId": "97ec0d63-7d6a-424f-98db-629ac02f5f8d",
        "colab": {
          "base_uri": "https://localhost:8080/",
          "height": 404
        }
      },
      "source": [
        "#分析10　形態素解析でDeepLearning\n",
        "\n",
        "X2_train, X2_test, y2_train, y2_test = train_test_split(\n",
        "    X２, y2, test_size=0.2, random_state=1234)\n",
        "\n",
        "X2_train_tensor = torch.tensor(X2_train, dtype=torch.float32)\n",
        "y2_train_tensor = torch.tensor(y2_train, dtype=torch.float32)\n",
        "X2_test_tensor = torch.tensor(X2_test, dtype=torch.float32)\n",
        "y2_test_tensor = torch.tensor(y2_test, dtype=torch.float32)\n",
        "\n",
        "train2_dataset = TensorDataset(X2_train_tensor, y2_train_tensor)\n",
        "train2_loader = DataLoader(train2_dataset, batch_size=100, shuffle=True)\n",
        "\n",
        "#ネットワークを書く\n",
        "net = myMLP(16493,1)\n",
        "net.parameters\n",
        "\n",
        "#目的関数を指定（今回は回帰問題のためMSELoss()を使用する）\n",
        "#https://pytorch.org/docs/stable/nn.html#loss-functions\n",
        "loss_func = nn.MSELoss()\n",
        "#Optimizerを定義する\n",
        "#https://pytorch.org/docs/stable/optim.html\n",
        "optimizer = optim.RMSprop(net.parameters())\n",
        "  \n",
        "train_loss_track = []\n",
        "test_loss_track = []\n",
        "\n",
        "for epoc in range(10):\n",
        "    running_loss = 0\n",
        "    \n",
        "    # 学習モード\n",
        "    net.train()\n",
        "    for step, (xx, yy)  in enumerate(train2_loader):\n",
        "        \n",
        "        # 最後に計算した各パラメーターの勾配を初期化する\n",
        "        optimizer.zero_grad()\n",
        "        \n",
        "        # フォワード計算を行う\n",
        "        y_pred = net(xx).float()\n",
        "        \n",
        "        # 誤差関数を使ってギャップの計測\n",
        "        loss = loss_func(y_pred, yy)\n",
        "      \n",
        "        # 誤差逆伝播法を使って自動微分\n",
        "        loss.backward()\n",
        "        \n",
        "        # パラメーターを更新\n",
        "        optimizer.step()\n",
        "        \n",
        "        # 学習データを使って誤差を計算\n",
        "        running_loss += loss.item()\n",
        "        \n",
        "    # エポックが終了したら平均誤差を計算\n",
        "    train_loss_track.append(running_loss/step)\n",
        "    \n",
        "    \n",
        "    #評価（evaluation）モード\n",
        "    net.eval()\n",
        "    \n",
        "    # 予測値を計算\n",
        "    y_pred = net(X2_test_tensor)\n",
        "    \n",
        "    # 誤差関数を計算\n",
        "    test_loss = loss_func(y_pred, y2_test_tensor)\n",
        "    \n",
        "    # 誤差をトラッキング\n",
        "    test_loss_track.append(test_loss)\n",
        "\n",
        "\n",
        "\n",
        "plt.plot(train_loss_track)\n",
        "plt.plot(test_loss_track)\n",
        "print(\"test_loss: \",sum(test_loss_track)/len(test_loss_track))"
      ],
      "execution_count": 47,
      "outputs": [
        {
          "output_type": "stream",
          "text": [
            "/usr/local/lib/python3.6/dist-packages/torch/nn/modules/loss.py:432: UserWarning: Using a target size (torch.Size([100])) that is different to the input size (torch.Size([100, 1])). This will likely lead to incorrect results due to broadcasting. Please ensure they have the same size.\n",
            "  return F.mse_loss(input, target, reduction=self.reduction)\n",
            "/usr/local/lib/python3.6/dist-packages/torch/nn/modules/loss.py:432: UserWarning: Using a target size (torch.Size([57])) that is different to the input size (torch.Size([57, 1])). This will likely lead to incorrect results due to broadcasting. Please ensure they have the same size.\n",
            "  return F.mse_loss(input, target, reduction=self.reduction)\n",
            "/usr/local/lib/python3.6/dist-packages/torch/nn/modules/loss.py:432: UserWarning: Using a target size (torch.Size([165])) that is different to the input size (torch.Size([165, 1])). This will likely lead to incorrect results due to broadcasting. Please ensure they have the same size.\n",
            "  return F.mse_loss(input, target, reduction=self.reduction)\n"
          ],
          "name": "stderr"
        },
        {
          "output_type": "stream",
          "text": [
            "test_loss:  tensor(0.0882, grad_fn=<DivBackward0>)\n"
          ],
          "name": "stdout"
        },
        {
          "output_type": "display_data",
          "data": {
            "image/png": "[encoded data removed]",
            "text/plain": [
              "<Figure size 432x288 with 1 Axes>"
            ]
          },
          "metadata": {
            "tags": [],
            "needs_background": "light"
          }
        }
      ]
    },
    {
      "cell_type": "code",
      "metadata": {
        "id": "bUApNSsf5GmF",
        "colab_type": "code",
        "outputId": "263b778b-9eeb-4f83-d7bb-697a9f657d9b",
        "colab": {
          "base_uri": "https://localhost:8080/",
          "height": 85
        }
      },
      "source": [
        "#分析11 アンサンブル学習\n",
        "# https://blog.ikedaosushi.com/entry/2018/10/21/204842?t=0\n",
        "\n",
        "random_state = 1234\n",
        "\n",
        "X_train_valid, X_meta_valid, y_train_valid, y_meta_valid = train_test_split(X, y, test_size=0.1, random_state=random_state)\n",
        "X_train, X_valid, y_train, y_valid = train_test_split(X_train_valid, y_train_valid, test_size=0.1, random_state=random_state)\n",
        "\n",
        "import lightgbm as lgb\n",
        "import sklearn\n",
        "from sklearn.linear_model import LinearRegression\n",
        "from sklearn.model_selection import train_test_split\n",
        "from sklearn.metrics import mean_squared_error\n",
        "from sklearn.neighbors import KNeighborsRegressor\n",
        "from lightgbm import LGBMRegressor\n",
        "\n",
        "# train base model\n",
        "base_model_1 = LinearRegression()\n",
        "base_model_2 = LGBMRegressor()\n",
        "base_model_3 = KNeighborsRegressor()\n",
        "\n",
        "base_model_1.fit(X_train, y_train)\n",
        "base_model_2.fit(X_train, y_train)\n",
        "base_model_3.fit(X_train, y_train)\n",
        "\n",
        "# base predicts\n",
        "base_pred_1 = base_model_1.predict(X_valid)\n",
        "base_pred_2 = base_model_2.predict(X_valid)\n",
        "base_pred_3 = base_model_3.predict(X_valid)\n",
        "\n",
        "# test predicts for final result \n",
        "valid_pred_1 = base_model_1.predict(X_meta_valid)\n",
        "valid_pred_2 = base_model_2.predict(X_meta_valid)\n",
        "valid_pred_3 = base_model_3.predict(X_meta_valid)\n",
        "\n",
        "print (\"mean squared error of model 1: {:.4f}\".format(mean_squared_error(y_meta_valid, valid_pred_1)) )\n",
        "print (\"mean squared error of model 2: {:.4f}\".format(mean_squared_error(y_meta_valid, valid_pred_2)) )\n",
        "print (\"mean squared error of model 3: {:.4f}\".format(mean_squared_error(y_meta_valid, valid_pred_3)) )\n",
        "\n",
        "# stack base predicts for training meta model\n",
        "stacked_predictions = np.column_stack((base_pred_1, base_pred_2, base_pred_3))\n",
        "\n",
        "# stack test predicts for final result \n",
        "stacked_valid_predictions = np.column_stack((valid_pred_1, valid_pred_2, valid_pred_3))\n",
        "\n",
        "# train meta model \n",
        "meta_model = LinearRegression()\n",
        "meta_model.fit(stacked_predictions, y_valid)\n",
        "\n",
        "filename = 'meta_model.sav'\n",
        "pickle.dump(meta_model, open(filename, 'wb'))\n",
        "\n",
        "# final result \n",
        "meta_valid_pred = meta_model.predict(stacked_valid_predictions)\n",
        "print (\"mean squared error of meta model: {:.4f}\".format(mean_squared_error(y_meta_valid, meta_valid_pred)) )\n"
      ],
      "execution_count": 48,
      "outputs": [
        {
          "output_type": "stream",
          "text": [
            "mean squared error of model 1: 0.0004\n",
            "mean squared error of model 2: 0.0002\n",
            "mean squared error of model 3: 0.0002\n",
            "mean squared error of meta model: 0.0002\n"
          ],
          "name": "stdout"
        }
      ]
    },
    {
      "cell_type": "code",
      "metadata": {
        "id": "pcp2tIVEfTGo",
        "colab_type": "code",
        "colab": {}
      },
      "source": [
        "#上手くいってない\n",
        "#分析6 Doc2Vecでツイートをクラスタリングする①\n",
        "#https://qiita.com/g-k/items/5ea94c13281f675302ca\n",
        "\n",
        "#from gensim.models.doc2vec import Doc2Vec, TaggedDocument\n",
        "#from gensim import models\n",
        "\n",
        "#documents = [TaggedDocument(doc, [i]) for i, doc in enumerate(sentences)]\n",
        "#model = Doc2Vec(documents, vector_size=300, window=5, min_count=1, workers=4)\n",
        "#model.save(\"doc2_w2v.model\")"
      ],
      "execution_count": 0,
      "outputs": []
    },
    {
      "cell_type": "code",
      "metadata": {
        "id": "Ge2VGRbHfTGr",
        "colab_type": "code",
        "colab": {}
      },
      "source": [
        "#上手くいってない\n",
        "#分析6 Doc2Vecでツイートをクラスタリングする②\n",
        "#https://qiita.com/naotaka1128/items/e617f63907fed035408a\n",
        "\n",
        "#model = models.Doc2Vec.load('/content/doc2_w2v.model')\n",
        "\n",
        "from sklearn.decomposition import PCA\n",
        "import matplotlib.pyplot as plt\n",
        "\n",
        "def draw_word_scatter(word, topn=30):\n",
        "    \"\"\" 入力されたwordに似ている単語の分布図を描くためのメソッド \"\"\"\n",
        "\n",
        "    # 似ている単語を求めるためにはGensim word2vecの以下の機能を利用\n",
        "    # model.most_similar(word, topn=topn)\n",
        "    words = [x[0] for x in sorted(model.most_similar(word, topn=topn))]\n",
        "    words.append(word)\n",
        "\n",
        "    # 各単語のベクトル表現を求めます。Gensimのmost_similarをベースとして\n",
        "    # 単語のベクトルを返すメソッド(model.calc_vec)を定義しています\n",
        "    # 長くなるので実装は本稿の末尾に記載しました。\n",
        "    vecs = [model.calc_vec(word) for word in words]\n",
        "\n",
        "    # 分布図\n",
        "    draw_scatter_plot(vecs, words)\n",
        "\n",
        "def draw_scatter_plot(vecs, tags, clusters):\n",
        "    \"\"\" 入力されたベクトルに基づき散布図(ラベル付き)を描くためのメソッド \"\"\"\n",
        "\n",
        "    # Scikit-learnのPCAによる次元削減とその可視化\n",
        "    pca = PCA(n_components=2)\n",
        "    coords = pca.fit_transform(vecs)\n",
        "\n",
        "    # matplotlibによる可視化\n",
        "    fig, ax = plt.subplots()\n",
        "    x = [v[0] for v in coords]\n",
        "    y = [v[1] for v in coords]\n",
        "\n",
        "    # 各点のクラスターが設定されていればクラスタを考慮\n",
        "    # エラーハンドリングは適当\n",
        "    if clusters:\n",
        "        ax.scatter(x, y, c=clusters)\n",
        "    else:\n",
        "        ax.scatter(x, y)\n",
        "\n",
        "    for i, txt in enumerate(tags):\n",
        "        ax.annotate(txt, (coords[i][0], coords[i][1]))\n",
        "    plt.show()\n",
        "    \n",
        "#draw_word_scatter('coronavirus', topn=40)"
      ],
      "execution_count": 0,
      "outputs": []
    },
    {
      "cell_type": "code",
      "metadata": {
        "id": "o9aiwySJh-Kg",
        "colab_type": "code",
        "colab": {}
      },
      "source": [
        "#　まだできていない\n",
        "# モデルの精度を確認する\n",
        "# https://note.com/uki_profit/n/nab22a04262f9"
      ],
      "execution_count": 0,
      "outputs": []
    },
    {
      "cell_type": "code",
      "metadata": {
        "id": "Rc2BiUt2ikqY",
        "colab_type": "code",
        "colab": {}
      },
      "source": [
        "#分析２　決定木　描画\n",
        "\n",
        "#$ brew install graphviz\n",
        "\n",
        "#from sklearn.tree import export_graphviz\n",
        "#export_graphviz(regressor, out_file='tree.dot', feature_names=['nth', 'holiday'])\n",
        "\n",
        "#$ dot -Tpng tree.dot -o tree.png"
      ],
      "execution_count": 0,
      "outputs": []
    }
  ]
}