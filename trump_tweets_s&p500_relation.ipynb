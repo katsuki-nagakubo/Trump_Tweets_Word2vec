{
  "nbformat": 4,
  "nbformat_minor": 0,
  "metadata": {
    "kernelspec": {
      "display_name": "Python 3",
      "language": "python",
      "name": "python3"
    },
    "language_info": {
      "codemirror_mode": {
        "name": "ipython",
        "version": 3
      },
      "file_extension": ".py",
      "mimetype": "text/x-python",
      "name": "python",
      "nbconvert_exporter": "python",
      "pygments_lexer": "ipython3",
      "version": "3.7.4"
    },
    "colab": {
      "name": "trump_tweets_s&p500_relation.ipynb ",
      "provenance": [],
      "collapsed_sections": [],
      "include_colab_link": true
    }
  },
  "cells": [
    {
      "cell_type": "markdown",
      "metadata": {
        "id": "view-in-github",
        "colab_type": "text"
      },
      "source": [
        "<a href=\"https://colab.research.google.com/github/katsuki-nagakubo/Tweets_Word2vec/blob/master/trump_tweets_s%26p500_relation.ipynb\" target=\"_parent\"><img src=\"https://colab.research.google.com/assets/colab-badge.svg\" alt=\"Open In Colab\"/></a>"
      ]
    },
    {
      "cell_type": "code",
      "metadata": {
        "id": "5TBDVbUQfTEM",
        "colab_type": "code",
        "colab": {}
      },
      "source": [
        "#データの取得と成形\n",
        "\n",
        "import pandas as pd\n",
        "import numpy as np\n",
        "import matplotlib.pyplot as plt "
      ],
      "execution_count": 0,
      "outputs": []
    },
    {
      "cell_type": "code",
      "metadata": {
        "id": "0etwSm9DfTEU",
        "colab_type": "code",
        "outputId": "fb46e8de-7011-4c51-811b-0f459ce7e841",
        "colab": {
          "base_uri": "https://localhost:8080/",
          "height": 34
        }
      },
      "source": [
        "#https://teratail.com/questions/128725\n",
        "\n",
        "from ast import literal_eval\n",
        "from pprint import pprint\n",
        "\n",
        "f = open('/content/trump_tweets.txt', 'r')\n",
        "text = f.read()\n",
        "mylist = literal_eval(text)\n",
        "\n",
        "print(type(mylist), type(mylist[0]))"
      ],
      "execution_count": 2,
      "outputs": [
        {
          "output_type": "stream",
          "text": [
            "<class 'list'> <class 'dict'>\n"
          ],
          "name": "stdout"
        }
      ]
    },
    {
      "cell_type": "code",
      "metadata": {
        "id": "e2D_Z2KUfTEY",
        "colab_type": "code",
        "outputId": "6ac75968-9655-46d6-8bfc-d378784bcb57",
        "colab": {
          "base_uri": "https://localhost:8080/",
          "height": 34
        }
      },
      "source": [
        "df_text=[]\n",
        "df_created_at=[]\n",
        "df_id_str=[]\n",
        "\n",
        "print(len(mylist),\"tweets\")\n",
        "\n",
        "for i in range(len(mylist)):\n",
        "    text = mylist[i][\"text\"]\n",
        "    created_at = mylist[i][\"created_at\"]\n",
        "    id_str = mylist[i][\"id_str\"]\n",
        "    df_text.append(text)\n",
        "    df_created_at.append(created_at)\n",
        "    df_id_str.append(id_str)\n",
        "\n",
        "tweet_list=[df_created_at,df_id_str,df_text]\n",
        "#print(tweet_list)"
      ],
      "execution_count": 3,
      "outputs": [
        {
          "output_type": "stream",
          "text": [
            "17544 tweets\n"
          ],
          "name": "stdout"
        }
      ]
    },
    {
      "cell_type": "code",
      "metadata": {
        "id": "FfVe8YhPfTEc",
        "colab_type": "code",
        "colab": {}
      },
      "source": [
        "#https://ai-inter1.com/pandas-dataframe_basic/\n",
        "#リスト型にしたデータをPandasでDataFrameにした\n",
        "\n",
        "columns1=[\"created_at\"]\n",
        "tweet_data = pd.DataFrame( data = df_created_at, columns = columns1)\n",
        "tweet_data[\"id\"]=df_id_str\n",
        "tweet_data[\"text\"] = df_text"
      ],
      "execution_count": 0,
      "outputs": []
    },
    {
      "cell_type": "code",
      "metadata": {
        "id": "njrdAvuzfTEf",
        "colab_type": "code",
        "colab": {}
      },
      "source": [
        "#https://teratail.com/questions/132333\n",
        "#https://note.nkmk.me/python-pandas-datetime-timestamp/\n",
        "\n",
        "tweet_data[\"time_created_at\"] = pd.to_datetime(tweet_data['created_at'])\n",
        "tweet_data[\"date_created_at\"] = tweet_data[\"time_created_at\"].dt.date\n",
        "tweet_data[\"key\"]=pd.to_datetime(tweet_data[\"date_created_at\"])"
      ],
      "execution_count": 0,
      "outputs": []
    },
    {
      "cell_type": "code",
      "metadata": {
        "id": "iZi3fq8nfTEj",
        "colab_type": "code",
        "colab": {}
      },
      "source": [
        "# https://www.macrotrends.net/2488/sp500-10-year-daily-chart\n",
        "\n",
        "sp_data = pd.read_csv('/content/sp500-10-year-daily-chart.csv')\n",
        "sp_data[\"date_64\"] = pd.to_datetime(sp_data[\"date\"])\n",
        "sp_data[\"key\"] =sp_data[\"date_64\"] "
      ],
      "execution_count": 0,
      "outputs": []
    },
    {
      "cell_type": "code",
      "metadata": {
        "id": "Lb8q3TCTfTEn",
        "colab_type": "code",
        "outputId": "1970b0f8-dde6-4d49-f5bf-f04503afde96",
        "colab": {
          "base_uri": "https://localhost:8080/",
          "height": 204
        }
      },
      "source": [
        "#内部結合\n",
        "#http://pppurple.hatenablog.com/entry/2016/06/27/022310#inner-join\n",
        "#https://note.nkmk.me/python-pandas-merge-join/\n",
        "\n",
        "tweet_data=pd.merge(tweet_data, sp_data)\n",
        "tweet_data.columns\n",
        "data = tweet_data[[\"key\",\" value\",\"text\"]]\n",
        "\n",
        "#行の名前を変更する　20200505\n",
        "data = data.rename(columns={\"key\": \"date\",\" value\":\"price\"})\n",
        "data.head()"
      ],
      "execution_count": 7,
      "outputs": [
        {
          "output_type": "execute_result",
          "data": {
            "text/html": [
              "<div>\n",
              "<style scoped>\n",
              "    .dataframe tbody tr th:only-of-type {\n",
              "        vertical-align: middle;\n",
              "    }\n",
              "\n",
              "    .dataframe tbody tr th {\n",
              "        vertical-align: top;\n",
              "    }\n",
              "\n",
              "    .dataframe thead th {\n",
              "        text-align: right;\n",
              "    }\n",
              "</style>\n",
              "<table border=\"1\" class=\"dataframe\">\n",
              "  <thead>\n",
              "    <tr style=\"text-align: right;\">\n",
              "      <th></th>\n",
              "      <th>date</th>\n",
              "      <th>price</th>\n",
              "      <th>text</th>\n",
              "    </tr>\n",
              "  </thead>\n",
              "  <tbody>\n",
              "    <tr>\n",
              "      <th>0</th>\n",
              "      <td>2020-05-01</td>\n",
              "      <td>2830.71</td>\n",
              "      <td>RT @StevenTDennis: Trump gets bump in latest G...</td>\n",
              "    </tr>\n",
              "    <tr>\n",
              "      <th>1</th>\n",
              "      <td>2020-05-01</td>\n",
              "      <td>2830.71</td>\n",
              "      <td>The Governor of Michigan should give a little,...</td>\n",
              "    </tr>\n",
              "    <tr>\n",
              "      <th>2</th>\n",
              "      <td>2020-05-01</td>\n",
              "      <td>2830.71</td>\n",
              "      <td>Cryin Chuck Schumer, compared to what other Se...</td>\n",
              "    </tr>\n",
              "    <tr>\n",
              "      <th>3</th>\n",
              "      <td>2020-05-01</td>\n",
              "      <td>2830.71</td>\n",
              "      <td>Cryin’ Chuck Schumer was on a late night show ...</td>\n",
              "    </tr>\n",
              "    <tr>\n",
              "      <th>4</th>\n",
              "      <td>2020-05-01</td>\n",
              "      <td>2830.71</td>\n",
              "      <td>RT @TeamTrump: President @realDonaldTrump: “We...</td>\n",
              "    </tr>\n",
              "  </tbody>\n",
              "</table>\n",
              "</div>"
            ],
            "text/plain": [
              "        date    price                                               text\n",
              "0 2020-05-01  2830.71  RT @StevenTDennis: Trump gets bump in latest G...\n",
              "1 2020-05-01  2830.71  The Governor of Michigan should give a little,...\n",
              "2 2020-05-01  2830.71  Cryin Chuck Schumer, compared to what other Se...\n",
              "3 2020-05-01  2830.71  Cryin’ Chuck Schumer was on a late night show ...\n",
              "4 2020-05-01  2830.71  RT @TeamTrump: President @realDonaldTrump: “We..."
            ]
          },
          "metadata": {
            "tags": []
          },
          "execution_count": 7
        }
      ]
    },
    {
      "cell_type": "code",
      "metadata": {
        "id": "RbtHgL9gfTEr",
        "colab_type": "code",
        "outputId": "28fe0061-94f8-4bd8-9a29-21ebef4c2709",
        "colab": {
          "base_uri": "https://localhost:8080/",
          "height": 34
        }
      },
      "source": [
        "# trumpが大統領になった2017年1月20日から、GW前2020年5月1日までのデータを分析する\n",
        "# https://qiita.com/mSpring/items/6ec1ab28dcb261db2c73\n",
        "\n",
        "import datetime as dt\n",
        "data2 = data[(data['date'] >= dt.datetime(2017,1,20)) & (data['date'] <= dt.datetime(2020,5,1))]\n",
        "print( \"2017/01/20 - 2020/05/01のツイート数は\", len(data2))"
      ],
      "execution_count": 8,
      "outputs": [
        {
          "output_type": "stream",
          "text": [
            "2017/01/20 - 2020/05/01のツイート数は 12259\n"
          ],
          "name": "stdout"
        }
      ]
    },
    {
      "cell_type": "code",
      "metadata": {
        "id": "5uWu1eYpfTEv",
        "colab_type": "code",
        "colab": {}
      },
      "source": [
        "#新しいデータを追加すると上書き保存されるようにmode=\"a\"にした。\n",
        "\n",
        "#初回だけ,headerはTrue\n",
        "data2.to_csv(\"s&p_tweets.csv\", index=False, mode='a', header=True)\n",
        "#2回目以降はFalse\n",
        "#data2.to_csv(\"s&p_tweets.csv\", index=False, mode='a', header=False)"
      ],
      "execution_count": 0,
      "outputs": []
    },
    {
      "cell_type": "code",
      "metadata": {
        "id": "nJcHtQApfTEy",
        "colab_type": "code",
        "outputId": "bf857720-c8e7-41dc-d2bd-0b17e1c0d205",
        "colab": {
          "base_uri": "https://localhost:8080/",
          "height": 34
        }
      },
      "source": [
        "# Fileを読み込むことで最新のデータで分析できる\n",
        "\n",
        "data = pd.read_csv(\"s&p_tweets.csv\")\n",
        "print( len(data),\"tweets\")"
      ],
      "execution_count": 10,
      "outputs": [
        {
          "output_type": "stream",
          "text": [
            "12259 tweets\n"
          ],
          "name": "stdout"
        }
      ]
    },
    {
      "cell_type": "code",
      "metadata": {
        "id": "UK-gdwmxfTE1",
        "colab_type": "code",
        "outputId": "eed65d7e-76a0-4bd4-bcb8-7abbab5529a5",
        "colab": {
          "base_uri": "https://localhost:8080/",
          "height": 88
        }
      },
      "source": [
        "#形態素解析\n",
        "#https://yottagin.com/?p=4360\n",
        "\n",
        "import nltk\n",
        "nltk.download('stopwords')\n",
        "\n",
        "tweet_tokenizer = nltk.tokenize.TweetTokenizer(preserve_case=False, strip_handles=True, reduce_len=True)\n",
        "for tweet in data[\"text\"][:1]:\n",
        "    print (tweet_tokenizer.tokenize(tweet))"
      ],
      "execution_count": 11,
      "outputs": [
        {
          "output_type": "stream",
          "text": [
            "[nltk_data] Downloading package stopwords to /root/nltk_data...\n",
            "[nltk_data]   Unzipping corpora/stopwords.zip.\n",
            "['rt', ':', 'trump', 'gets', 'bump', 'in', 'latest', 'gallup', 'poll', ':', '49', '%', 'approval', '(', '+', '6', ',', 'tied', 'for', 'his', 'best', ')', '47', '%', 'disapproval', '(', '-', '7', ')']\n"
          ],
          "name": "stdout"
        }
      ]
    },
    {
      "cell_type": "code",
      "metadata": {
        "id": "DrfyzDEAfTE6",
        "colab_type": "code",
        "outputId": "6eb5731f-2988-46ea-ce8b-4c745f4c0692",
        "colab": {
          "base_uri": "https://localhost:8080/",
          "height": 323
        }
      },
      "source": [
        "words = []\n",
        "for tweet in data[\"text\"]:\n",
        "    words += tweet_tokenizer.tokenize(tweet)\n",
        "\n",
        "fdist = nltk.FreqDist(words)\n",
        "fdist.plot(50)"
      ],
      "execution_count": 12,
      "outputs": [
        {
          "output_type": "display_data",
          "data": {
            "image/png": "[encoded data removed]",
            "text/plain": [
              "<Figure size 432x288 with 1 Axes>"
            ]
          },
          "metadata": {
            "tags": [],
            "needs_background": "light"
          }
        }
      ]
    },
    {
      "cell_type": "code",
      "metadata": {
        "id": "5VLnPp6vfTE-",
        "colab_type": "code",
        "outputId": "54c51eb7-65dd-4db2-dcf4-9051033dcf2d",
        "colab": {
          "base_uri": "https://localhost:8080/",
          "height": 359
        }
      },
      "source": [
        "#高頻度のツイートを表示\n",
        "df_fdist = pd.DataFrame(fdist.most_common(10), columns=['Word', 'Frequency'])\n",
        "df_fdist"
      ],
      "execution_count": 13,
      "outputs": [
        {
          "output_type": "execute_result",
          "data": {
            "text/html": [
              "<div>\n",
              "<style scoped>\n",
              "    .dataframe tbody tr th:only-of-type {\n",
              "        vertical-align: middle;\n",
              "    }\n",
              "\n",
              "    .dataframe tbody tr th {\n",
              "        vertical-align: top;\n",
              "    }\n",
              "\n",
              "    .dataframe thead th {\n",
              "        text-align: right;\n",
              "    }\n",
              "</style>\n",
              "<table border=\"1\" class=\"dataframe\">\n",
              "  <thead>\n",
              "    <tr style=\"text-align: right;\">\n",
              "      <th></th>\n",
              "      <th>Word</th>\n",
              "      <th>Frequency</th>\n",
              "    </tr>\n",
              "  </thead>\n",
              "  <tbody>\n",
              "    <tr>\n",
              "      <th>0</th>\n",
              "      <td>the</td>\n",
              "      <td>15504</td>\n",
              "    </tr>\n",
              "    <tr>\n",
              "      <th>1</th>\n",
              "      <td>.</td>\n",
              "      <td>14634</td>\n",
              "    </tr>\n",
              "    <tr>\n",
              "      <th>2</th>\n",
              "      <td>,</td>\n",
              "      <td>14156</td>\n",
              "    </tr>\n",
              "    <tr>\n",
              "      <th>3</th>\n",
              "      <td>to</td>\n",
              "      <td>8172</td>\n",
              "    </tr>\n",
              "    <tr>\n",
              "      <th>4</th>\n",
              "      <td>!</td>\n",
              "      <td>7343</td>\n",
              "    </tr>\n",
              "    <tr>\n",
              "      <th>5</th>\n",
              "      <td>and</td>\n",
              "      <td>7289</td>\n",
              "    </tr>\n",
              "    <tr>\n",
              "      <th>6</th>\n",
              "      <td>of</td>\n",
              "      <td>6165</td>\n",
              "    </tr>\n",
              "    <tr>\n",
              "      <th>7</th>\n",
              "      <td>a</td>\n",
              "      <td>5419</td>\n",
              "    </tr>\n",
              "    <tr>\n",
              "      <th>8</th>\n",
              "      <td>:</td>\n",
              "      <td>4870</td>\n",
              "    </tr>\n",
              "    <tr>\n",
              "      <th>9</th>\n",
              "      <td>in</td>\n",
              "      <td>4507</td>\n",
              "    </tr>\n",
              "  </tbody>\n",
              "</table>\n",
              "</div>"
            ],
            "text/plain": [
              "  Word  Frequency\n",
              "0  the      15504\n",
              "1    .      14634\n",
              "2    ,      14156\n",
              "3   to       8172\n",
              "4    !       7343\n",
              "5  and       7289\n",
              "6   of       6165\n",
              "7    a       5419\n",
              "8    :       4870\n",
              "9   in       4507"
            ]
          },
          "metadata": {
            "tags": []
          },
          "execution_count": 13
        }
      ]
    },
    {
      "cell_type": "code",
      "metadata": {
        "id": "IvFoQ0TrfTFG",
        "colab_type": "code",
        "colab": {}
      },
      "source": [
        "#tokenにする\n",
        "import re\n",
        "import string\n",
        "\n",
        "stemmer = nltk.stem.PorterStemmer()\n",
        "punctuations = string.punctuation\n",
        "all_tweets_clean = []\n",
        "\n",
        "#Tweet毎にリスト形式で保存するための加工\n",
        "result=[]\n",
        "\n",
        "for tweet in data[\"text\"]:\n",
        "    # RTから始まる部分を取り除く。\n",
        "    tweet = re.sub(r'^RT[\\s]+', '', tweet)\n",
        "    # リンクを取り除く。\n",
        "    tweet = re.sub(r'(http|https):\\/\\/.*[\\r\\n]*', '', tweet)\n",
        "    # ハッシュタグを取り除く。\n",
        "    tweet = re.sub(r'#', '', tweet)\n",
        "    # 句読点の削除\n",
        "    tweet = tweet.translate(str.maketrans('', '', string.punctuation)) \n",
        "    # 単語に分解する。\n",
        "    tokenizer = nltk.tokenize.TweetTokenizer(preserve_case=False, strip_handles=True, reduce_len=True)\n",
        "    tweet_tokens = tokenizer.tokenize(tweet)\n",
        "    result.append(tweet_tokens)"
      ],
      "execution_count": 0,
      "outputs": []
    },
    {
      "cell_type": "code",
      "metadata": {
        "id": "jGskML9PfTFK",
        "colab_type": "code",
        "colab": {}
      },
      "source": [
        "stopwords = nltk.corpus.stopwords.words('english')\n",
        "stop_words = [\"→\", \"←\", \"?\", \"」\", \"「\",\"(\",\")\",\"!\",\".\",\",\",\"&\",\"…\",\"%\",\":\",\";\",\"“\"]\n",
        "stopwords += stop_words\n",
        "\n",
        "#print(stopwords)\n",
        "\n",
        "result_2=[]\n",
        "result_3=[]\n",
        "for i in range(len(result)):\n",
        "    for word in result[i]:\n",
        "        if word not in stopwords:\n",
        "            result_2.append(word)\n",
        "    result_3.append(result_2)\n",
        "    result_2=[]"
      ],
      "execution_count": 0,
      "outputs": []
    },
    {
      "cell_type": "code",
      "metadata": {
        "id": "wL2ASq-gfTFO",
        "colab_type": "code",
        "colab": {}
      },
      "source": [
        "#Word2Vec\n",
        "\n",
        "from gensim.models import word2vec"
      ],
      "execution_count": 0,
      "outputs": []
    },
    {
      "cell_type": "code",
      "metadata": {
        "id": "6Ov0af7rfTFQ",
        "colab_type": "code",
        "outputId": "94d76e25-6814-4337-dcfc-f4b47230ab5c",
        "colab": {
          "base_uri": "https://localhost:8080/",
          "height": 272
        }
      },
      "source": [
        "# 対象データをLinseSentence(one sentence = one lineとして扱う)で読み込む\n",
        "\n",
        "sentences = result_3\n",
        "sentences[0]"
      ],
      "execution_count": 17,
      "outputs": [
        {
          "output_type": "execute_result",
          "data": {
            "text/plain": [
              "['steventdennis',\n",
              " 'trump',\n",
              " 'gets',\n",
              " 'bump',\n",
              " 'latest',\n",
              " 'gallup',\n",
              " 'poll',\n",
              " '49',\n",
              " 'approval',\n",
              " '6',\n",
              " 'tied',\n",
              " 'best',\n",
              " '47',\n",
              " 'disapproval',\n",
              " '7']"
            ]
          },
          "metadata": {
            "tags": []
          },
          "execution_count": 17
        }
      ]
    },
    {
      "cell_type": "code",
      "metadata": {
        "id": "9u7fFXncfTFU",
        "colab_type": "code",
        "colab": {}
      },
      "source": [
        "# skip-gramモデルの学習\n",
        "skipgram_model = word2vec.Word2Vec(sentences,\n",
        "                                   sg=1,\n",
        "                                   size=300,\n",
        "                                   min_count=10,\n",
        "                                   window=15, seed=1234)"
      ],
      "execution_count": 0,
      "outputs": []
    },
    {
      "cell_type": "code",
      "metadata": {
        "id": "akHH47YRfTFZ",
        "colab_type": "code",
        "outputId": "52678ca9-668d-4917-fabf-7f6f636c38d8",
        "colab": {
          "base_uri": "https://localhost:8080/",
          "height": 71
        }
      },
      "source": [
        "# 作成したモデルの保存\n",
        "skipgram_model.save(\"skipgram_w2v.model\")\n",
        "# saveしたモデルを読み込む時は\n",
        "#skipgram_model = word2vec.Word2Vec.load(\"skipgram_w2v.model\")"
      ],
      "execution_count": 19,
      "outputs": [
        {
          "output_type": "stream",
          "text": [
            "/usr/local/lib/python3.6/dist-packages/smart_open/smart_open_lib.py:253: UserWarning: This function is deprecated, use smart_open.open instead. See the migration notes for details: https://github.com/RaRe-Technologies/smart_open/blob/master/README.rst#migrating-to-the-new-open-function\n",
            "  'See the migration notes for details: %s' % _MIGRATION_NOTES_URL\n"
          ],
          "name": "stderr"
        }
      ]
    },
    {
      "cell_type": "code",
      "metadata": {
        "id": "ZAO8SIE_fTFc",
        "colab_type": "code",
        "outputId": "5f4c14b8-ee1a-4480-83ae-054e423d83d6",
        "colab": {
          "base_uri": "https://localhost:8080/",
          "height": 413
        }
      },
      "source": [
        "# coronavirusと似たキーワードを見つけていきます。\n",
        "# ここで記載しているscoreは、単語同士のコサイン類似度です。\n",
        "pd.DataFrame(skipgram_model.wv.most_similar(\n",
        "    positive=[\"coronavirus\"]), columns=[\"keyword\", \"score\"])"
      ],
      "execution_count": 20,
      "outputs": [
        {
          "output_type": "stream",
          "text": [
            "/usr/local/lib/python3.6/dist-packages/gensim/matutils.py:737: FutureWarning: Conversion of the second argument of issubdtype from `int` to `np.signedinteger` is deprecated. In future, it will be treated as `np.int64 == np.dtype(int).type`.\n",
            "  if np.issubdtype(vec.dtype, np.int):\n"
          ],
          "name": "stderr"
        },
        {
          "output_type": "execute_result",
          "data": {
            "text/html": [
              "<div>\n",
              "<style scoped>\n",
              "    .dataframe tbody tr th:only-of-type {\n",
              "        vertical-align: middle;\n",
              "    }\n",
              "\n",
              "    .dataframe tbody tr th {\n",
              "        vertical-align: top;\n",
              "    }\n",
              "\n",
              "    .dataframe thead th {\n",
              "        text-align: right;\n",
              "    }\n",
              "</style>\n",
              "<table border=\"1\" class=\"dataframe\">\n",
              "  <thead>\n",
              "    <tr style=\"text-align: right;\">\n",
              "      <th></th>\n",
              "      <th>keyword</th>\n",
              "      <th>score</th>\n",
              "    </tr>\n",
              "  </thead>\n",
              "  <tbody>\n",
              "    <tr>\n",
              "      <th>0</th>\n",
              "      <td>covid</td>\n",
              "      <td>0.839506</td>\n",
              "    </tr>\n",
              "    <tr>\n",
              "      <th>1</th>\n",
              "      <td>19</td>\n",
              "      <td>0.835481</td>\n",
              "    </tr>\n",
              "    <tr>\n",
              "      <th>2</th>\n",
              "      <td>response</td>\n",
              "      <td>0.828846</td>\n",
              "    </tr>\n",
              "    <tr>\n",
              "      <th>3</th>\n",
              "      <td>spread</td>\n",
              "      <td>0.809800</td>\n",
              "    </tr>\n",
              "    <tr>\n",
              "      <th>4</th>\n",
              "      <td>task</td>\n",
              "      <td>0.805949</td>\n",
              "    </tr>\n",
              "    <tr>\n",
              "      <th>5</th>\n",
              "      <td>outbreak</td>\n",
              "      <td>0.785701</td>\n",
              "    </tr>\n",
              "    <tr>\n",
              "      <th>6</th>\n",
              "      <td>providing</td>\n",
              "      <td>0.773629</td>\n",
              "    </tr>\n",
              "    <tr>\n",
              "      <th>7</th>\n",
              "      <td>force</td>\n",
              "      <td>0.769314</td>\n",
              "    </tr>\n",
              "    <tr>\n",
              "      <th>8</th>\n",
              "      <td>briefing</td>\n",
              "      <td>0.763798</td>\n",
              "    </tr>\n",
              "    <tr>\n",
              "      <th>9</th>\n",
              "      <td>cdcgov</td>\n",
              "      <td>0.759438</td>\n",
              "    </tr>\n",
              "  </tbody>\n",
              "</table>\n",
              "</div>"
            ],
            "text/plain": [
              "     keyword     score\n",
              "0      covid  0.839506\n",
              "1         19  0.835481\n",
              "2   response  0.828846\n",
              "3     spread  0.809800\n",
              "4       task  0.805949\n",
              "5   outbreak  0.785701\n",
              "6  providing  0.773629\n",
              "7      force  0.769314\n",
              "8   briefing  0.763798\n",
              "9     cdcgov  0.759438"
            ]
          },
          "metadata": {
            "tags": []
          },
          "execution_count": 20
        }
      ]
    },
    {
      "cell_type": "code",
      "metadata": {
        "id": "KfKYBXI_fTFf",
        "colab_type": "code",
        "colab": {}
      },
      "source": [
        "\"\"\"\n",
        "1. 抽出された各単語を、作成したword2Vecによってベクトル化\n",
        "2. 変換された各単語ベクトルの平均をとり、その結果得られたベクトルを記事のベクトルとする\n",
        "上記2ステップを実行する関数を作成\n",
        "\"\"\"\n",
        "\n",
        "num_features = 300\n",
        "\n",
        "\n",
        "def avg_document_vector(data, num_features):\n",
        "    document_vec = np.zeros((len(data), num_features))\n",
        "    for i, doc_word_list in enumerate(data):\n",
        "        feature_vec = np.zeros((num_features,), dtype=\"float32\")\n",
        "        for word in doc_word_list:\n",
        "            try:\n",
        "                feature_vec = np.add(\n",
        "                    feature_vec, skipgram_model.wv.__getitem__(word))\n",
        "            except:\n",
        "                pass\n",
        "\n",
        "        feature_vec = np.divide(feature_vec, len(doc_word_list))\n",
        "        document_vec[i] = feature_vec\n",
        "    return document_vec"
      ],
      "execution_count": 0,
      "outputs": []
    },
    {
      "cell_type": "code",
      "metadata": {
        "id": "gcoxgMvkfTFh",
        "colab_type": "code",
        "outputId": "bccbb33c-1de9-4c32-a6c7-0b21a1de88c0",
        "colab": {
          "base_uri": "https://localhost:8080/",
          "height": 71
        }
      },
      "source": [
        "X = avg_document_vector(data=sentences, num_features=300)\n",
        "X.shape"
      ],
      "execution_count": 22,
      "outputs": [
        {
          "output_type": "stream",
          "text": [
            "/usr/local/lib/python3.6/dist-packages/ipykernel_launcher.py:21: RuntimeWarning: invalid value encountered in true_divide\n"
          ],
          "name": "stderr"
        },
        {
          "output_type": "execute_result",
          "data": {
            "text/plain": [
              "(12259, 300)"
            ]
          },
          "metadata": {
            "tags": []
          },
          "execution_count": 22
        }
      ]
    },
    {
      "cell_type": "code",
      "metadata": {
        "id": "PvVmeNp5fTFj",
        "colab_type": "code",
        "outputId": "d2827840-b468-4b22-8d08-abf34b38d0da",
        "colab": {
          "base_uri": "https://localhost:8080/",
          "height": 474
        }
      },
      "source": [
        "# outer join\n",
        "data2 = pd.DataFrame(X)\n",
        "df_tweets_word2vec =  pd.concat([data, data2], axis=1)\n",
        "df_tweets_word2vec.head()"
      ],
      "execution_count": 23,
      "outputs": [
        {
          "output_type": "execute_result",
          "data": {
            "text/html": [
              "<div>\n",
              "<style scoped>\n",
              "    .dataframe tbody tr th:only-of-type {\n",
              "        vertical-align: middle;\n",
              "    }\n",
              "\n",
              "    .dataframe tbody tr th {\n",
              "        vertical-align: top;\n",
              "    }\n",
              "\n",
              "    .dataframe thead th {\n",
              "        text-align: right;\n",
              "    }\n",
              "</style>\n",
              "<table border=\"1\" class=\"dataframe\">\n",
              "  <thead>\n",
              "    <tr style=\"text-align: right;\">\n",
              "      <th></th>\n",
              "      <th>date</th>\n",
              "      <th>price</th>\n",
              "      <th>text</th>\n",
              "      <th>0</th>\n",
              "      <th>1</th>\n",
              "      <th>2</th>\n",
              "      <th>3</th>\n",
              "      <th>4</th>\n",
              "      <th>5</th>\n",
              "      <th>6</th>\n",
              "      <th>7</th>\n",
              "      <th>8</th>\n",
              "      <th>9</th>\n",
              "      <th>10</th>\n",
              "      <th>11</th>\n",
              "      <th>12</th>\n",
              "      <th>13</th>\n",
              "      <th>14</th>\n",
              "      <th>15</th>\n",
              "      <th>16</th>\n",
              "      <th>17</th>\n",
              "      <th>18</th>\n",
              "      <th>19</th>\n",
              "      <th>20</th>\n",
              "      <th>21</th>\n",
              "      <th>22</th>\n",
              "      <th>23</th>\n",
              "      <th>24</th>\n",
              "      <th>25</th>\n",
              "      <th>26</th>\n",
              "      <th>27</th>\n",
              "      <th>28</th>\n",
              "      <th>29</th>\n",
              "      <th>30</th>\n",
              "      <th>31</th>\n",
              "      <th>32</th>\n",
              "      <th>33</th>\n",
              "      <th>34</th>\n",
              "      <th>35</th>\n",
              "      <th>36</th>\n",
              "      <th>...</th>\n",
              "      <th>260</th>\n",
              "      <th>261</th>\n",
              "      <th>262</th>\n",
              "      <th>263</th>\n",
              "      <th>264</th>\n",
              "      <th>265</th>\n",
              "      <th>266</th>\n",
              "      <th>267</th>\n",
              "      <th>268</th>\n",
              "      <th>269</th>\n",
              "      <th>270</th>\n",
              "      <th>271</th>\n",
              "      <th>272</th>\n",
              "      <th>273</th>\n",
              "      <th>274</th>\n",
              "      <th>275</th>\n",
              "      <th>276</th>\n",
              "      <th>277</th>\n",
              "      <th>278</th>\n",
              "      <th>279</th>\n",
              "      <th>280</th>\n",
              "      <th>281</th>\n",
              "      <th>282</th>\n",
              "      <th>283</th>\n",
              "      <th>284</th>\n",
              "      <th>285</th>\n",
              "      <th>286</th>\n",
              "      <th>287</th>\n",
              "      <th>288</th>\n",
              "      <th>289</th>\n",
              "      <th>290</th>\n",
              "      <th>291</th>\n",
              "      <th>292</th>\n",
              "      <th>293</th>\n",
              "      <th>294</th>\n",
              "      <th>295</th>\n",
              "      <th>296</th>\n",
              "      <th>297</th>\n",
              "      <th>298</th>\n",
              "      <th>299</th>\n",
              "    </tr>\n",
              "  </thead>\n",
              "  <tbody>\n",
              "    <tr>\n",
              "      <th>0</th>\n",
              "      <td>2020-05-01</td>\n",
              "      <td>2830.71</td>\n",
              "      <td>RT @StevenTDennis: Trump gets bump in latest G...</td>\n",
              "      <td>-0.047408</td>\n",
              "      <td>-0.114639</td>\n",
              "      <td>0.022420</td>\n",
              "      <td>-0.066796</td>\n",
              "      <td>0.046665</td>\n",
              "      <td>0.009718</td>\n",
              "      <td>0.102605</td>\n",
              "      <td>-0.017475</td>\n",
              "      <td>0.060976</td>\n",
              "      <td>-0.035973</td>\n",
              "      <td>-0.004328</td>\n",
              "      <td>-0.045763</td>\n",
              "      <td>-0.044800</td>\n",
              "      <td>0.033736</td>\n",
              "      <td>-0.080005</td>\n",
              "      <td>-0.013142</td>\n",
              "      <td>0.033545</td>\n",
              "      <td>0.006298</td>\n",
              "      <td>-0.070220</td>\n",
              "      <td>-0.046904</td>\n",
              "      <td>0.033742</td>\n",
              "      <td>-0.029497</td>\n",
              "      <td>0.025669</td>\n",
              "      <td>0.038542</td>\n",
              "      <td>-0.042770</td>\n",
              "      <td>0.019448</td>\n",
              "      <td>0.058515</td>\n",
              "      <td>-0.047387</td>\n",
              "      <td>0.015714</td>\n",
              "      <td>0.053065</td>\n",
              "      <td>0.015976</td>\n",
              "      <td>-0.065652</td>\n",
              "      <td>0.014567</td>\n",
              "      <td>0.014342</td>\n",
              "      <td>0.093472</td>\n",
              "      <td>-0.013297</td>\n",
              "      <td>-0.103008</td>\n",
              "      <td>...</td>\n",
              "      <td>-0.075595</td>\n",
              "      <td>0.016391</td>\n",
              "      <td>0.115700</td>\n",
              "      <td>0.044990</td>\n",
              "      <td>0.040954</td>\n",
              "      <td>-0.055349</td>\n",
              "      <td>0.019331</td>\n",
              "      <td>-0.067635</td>\n",
              "      <td>-0.010256</td>\n",
              "      <td>-0.025514</td>\n",
              "      <td>0.010049</td>\n",
              "      <td>0.060165</td>\n",
              "      <td>-0.000559</td>\n",
              "      <td>0.008616</td>\n",
              "      <td>0.019450</td>\n",
              "      <td>-0.007830</td>\n",
              "      <td>0.015110</td>\n",
              "      <td>0.038413</td>\n",
              "      <td>-0.095625</td>\n",
              "      <td>-0.009953</td>\n",
              "      <td>0.038923</td>\n",
              "      <td>0.024030</td>\n",
              "      <td>0.026372</td>\n",
              "      <td>-0.032635</td>\n",
              "      <td>-0.023538</td>\n",
              "      <td>-0.107333</td>\n",
              "      <td>-0.045790</td>\n",
              "      <td>-0.040300</td>\n",
              "      <td>-0.036344</td>\n",
              "      <td>0.058691</td>\n",
              "      <td>-0.063636</td>\n",
              "      <td>-0.110800</td>\n",
              "      <td>-0.018734</td>\n",
              "      <td>-0.042180</td>\n",
              "      <td>-0.031404</td>\n",
              "      <td>-0.020302</td>\n",
              "      <td>-0.038662</td>\n",
              "      <td>0.056573</td>\n",
              "      <td>0.063541</td>\n",
              "      <td>0.009408</td>\n",
              "    </tr>\n",
              "    <tr>\n",
              "      <th>1</th>\n",
              "      <td>2020-05-01</td>\n",
              "      <td>2830.71</td>\n",
              "      <td>The Governor of Michigan should give a little,...</td>\n",
              "      <td>-0.011018</td>\n",
              "      <td>-0.128302</td>\n",
              "      <td>0.029524</td>\n",
              "      <td>-0.051319</td>\n",
              "      <td>0.031111</td>\n",
              "      <td>-0.033020</td>\n",
              "      <td>0.198499</td>\n",
              "      <td>-0.040628</td>\n",
              "      <td>-0.049317</td>\n",
              "      <td>-0.098137</td>\n",
              "      <td>0.007605</td>\n",
              "      <td>-0.067803</td>\n",
              "      <td>-0.079711</td>\n",
              "      <td>-0.034508</td>\n",
              "      <td>-0.054893</td>\n",
              "      <td>-0.102843</td>\n",
              "      <td>0.085980</td>\n",
              "      <td>0.023746</td>\n",
              "      <td>-0.082283</td>\n",
              "      <td>-0.120344</td>\n",
              "      <td>0.095253</td>\n",
              "      <td>-0.108994</td>\n",
              "      <td>0.033243</td>\n",
              "      <td>0.047289</td>\n",
              "      <td>-0.043080</td>\n",
              "      <td>-0.086225</td>\n",
              "      <td>0.070274</td>\n",
              "      <td>-0.127987</td>\n",
              "      <td>0.027058</td>\n",
              "      <td>0.070848</td>\n",
              "      <td>0.048906</td>\n",
              "      <td>-0.046238</td>\n",
              "      <td>0.030112</td>\n",
              "      <td>-0.007572</td>\n",
              "      <td>0.082881</td>\n",
              "      <td>-0.056523</td>\n",
              "      <td>-0.058029</td>\n",
              "      <td>...</td>\n",
              "      <td>-0.012561</td>\n",
              "      <td>0.008109</td>\n",
              "      <td>0.227773</td>\n",
              "      <td>0.018122</td>\n",
              "      <td>-0.044226</td>\n",
              "      <td>-0.060186</td>\n",
              "      <td>0.003491</td>\n",
              "      <td>-0.084233</td>\n",
              "      <td>-0.046827</td>\n",
              "      <td>-0.089215</td>\n",
              "      <td>-0.043933</td>\n",
              "      <td>0.034636</td>\n",
              "      <td>0.024104</td>\n",
              "      <td>-0.001637</td>\n",
              "      <td>0.036034</td>\n",
              "      <td>-0.054521</td>\n",
              "      <td>-0.072561</td>\n",
              "      <td>0.055158</td>\n",
              "      <td>-0.070494</td>\n",
              "      <td>-0.032596</td>\n",
              "      <td>0.038674</td>\n",
              "      <td>-0.016218</td>\n",
              "      <td>0.034205</td>\n",
              "      <td>-0.009199</td>\n",
              "      <td>0.064907</td>\n",
              "      <td>-0.119184</td>\n",
              "      <td>-0.145458</td>\n",
              "      <td>-0.057778</td>\n",
              "      <td>-0.065914</td>\n",
              "      <td>0.048347</td>\n",
              "      <td>0.005844</td>\n",
              "      <td>-0.107224</td>\n",
              "      <td>-0.031028</td>\n",
              "      <td>-0.059566</td>\n",
              "      <td>0.084018</td>\n",
              "      <td>-0.014503</td>\n",
              "      <td>-0.033096</td>\n",
              "      <td>0.051680</td>\n",
              "      <td>0.045311</td>\n",
              "      <td>-0.001109</td>\n",
              "    </tr>\n",
              "    <tr>\n",
              "      <th>2</th>\n",
              "      <td>2020-05-01</td>\n",
              "      <td>2830.71</td>\n",
              "      <td>Cryin Chuck Schumer, compared to what other Se...</td>\n",
              "      <td>-0.026881</td>\n",
              "      <td>-0.120101</td>\n",
              "      <td>0.077776</td>\n",
              "      <td>-0.048520</td>\n",
              "      <td>0.011587</td>\n",
              "      <td>-0.084461</td>\n",
              "      <td>0.191377</td>\n",
              "      <td>-0.058548</td>\n",
              "      <td>-0.085279</td>\n",
              "      <td>-0.097688</td>\n",
              "      <td>-0.026161</td>\n",
              "      <td>-0.076085</td>\n",
              "      <td>-0.061009</td>\n",
              "      <td>-0.028390</td>\n",
              "      <td>-0.041618</td>\n",
              "      <td>-0.057885</td>\n",
              "      <td>0.094417</td>\n",
              "      <td>0.017565</td>\n",
              "      <td>-0.108213</td>\n",
              "      <td>-0.143048</td>\n",
              "      <td>0.061699</td>\n",
              "      <td>-0.122271</td>\n",
              "      <td>0.013694</td>\n",
              "      <td>0.038438</td>\n",
              "      <td>-0.048455</td>\n",
              "      <td>-0.083088</td>\n",
              "      <td>0.080436</td>\n",
              "      <td>-0.136853</td>\n",
              "      <td>0.061768</td>\n",
              "      <td>0.060976</td>\n",
              "      <td>0.036620</td>\n",
              "      <td>-0.040293</td>\n",
              "      <td>0.062445</td>\n",
              "      <td>-0.034303</td>\n",
              "      <td>0.052017</td>\n",
              "      <td>-0.084454</td>\n",
              "      <td>-0.048160</td>\n",
              "      <td>...</td>\n",
              "      <td>-0.062517</td>\n",
              "      <td>0.011703</td>\n",
              "      <td>0.215169</td>\n",
              "      <td>0.016075</td>\n",
              "      <td>-0.039604</td>\n",
              "      <td>-0.054747</td>\n",
              "      <td>0.024385</td>\n",
              "      <td>-0.066157</td>\n",
              "      <td>-0.021630</td>\n",
              "      <td>-0.067900</td>\n",
              "      <td>-0.062252</td>\n",
              "      <td>0.036942</td>\n",
              "      <td>0.033215</td>\n",
              "      <td>-0.001783</td>\n",
              "      <td>0.036048</td>\n",
              "      <td>-0.037897</td>\n",
              "      <td>-0.048069</td>\n",
              "      <td>-0.002929</td>\n",
              "      <td>-0.080930</td>\n",
              "      <td>-0.000807</td>\n",
              "      <td>0.020242</td>\n",
              "      <td>-0.011894</td>\n",
              "      <td>0.008029</td>\n",
              "      <td>-0.024358</td>\n",
              "      <td>0.017753</td>\n",
              "      <td>-0.123481</td>\n",
              "      <td>-0.139726</td>\n",
              "      <td>-0.020554</td>\n",
              "      <td>-0.048072</td>\n",
              "      <td>0.055070</td>\n",
              "      <td>0.008022</td>\n",
              "      <td>-0.090761</td>\n",
              "      <td>-0.037954</td>\n",
              "      <td>-0.056118</td>\n",
              "      <td>0.056418</td>\n",
              "      <td>0.012047</td>\n",
              "      <td>-0.025750</td>\n",
              "      <td>0.061865</td>\n",
              "      <td>0.054327</td>\n",
              "      <td>0.028440</td>\n",
              "    </tr>\n",
              "    <tr>\n",
              "      <th>3</th>\n",
              "      <td>2020-05-01</td>\n",
              "      <td>2830.71</td>\n",
              "      <td>Cryin’ Chuck Schumer was on a late night show ...</td>\n",
              "      <td>-0.018712</td>\n",
              "      <td>-0.177056</td>\n",
              "      <td>0.050056</td>\n",
              "      <td>-0.030579</td>\n",
              "      <td>0.013266</td>\n",
              "      <td>-0.100669</td>\n",
              "      <td>0.192207</td>\n",
              "      <td>-0.096759</td>\n",
              "      <td>-0.046680</td>\n",
              "      <td>-0.056844</td>\n",
              "      <td>-0.000716</td>\n",
              "      <td>-0.062883</td>\n",
              "      <td>-0.050727</td>\n",
              "      <td>-0.020059</td>\n",
              "      <td>-0.106659</td>\n",
              "      <td>-0.043230</td>\n",
              "      <td>0.055217</td>\n",
              "      <td>0.037079</td>\n",
              "      <td>-0.115340</td>\n",
              "      <td>-0.131740</td>\n",
              "      <td>0.123824</td>\n",
              "      <td>-0.082872</td>\n",
              "      <td>0.031324</td>\n",
              "      <td>0.050178</td>\n",
              "      <td>-0.014611</td>\n",
              "      <td>-0.057450</td>\n",
              "      <td>0.072201</td>\n",
              "      <td>-0.155215</td>\n",
              "      <td>0.030155</td>\n",
              "      <td>0.082592</td>\n",
              "      <td>0.068350</td>\n",
              "      <td>-0.053074</td>\n",
              "      <td>0.046921</td>\n",
              "      <td>-0.003229</td>\n",
              "      <td>0.099662</td>\n",
              "      <td>-0.124802</td>\n",
              "      <td>-0.044737</td>\n",
              "      <td>...</td>\n",
              "      <td>-0.050514</td>\n",
              "      <td>0.021141</td>\n",
              "      <td>0.205940</td>\n",
              "      <td>0.016433</td>\n",
              "      <td>-0.034755</td>\n",
              "      <td>-0.057588</td>\n",
              "      <td>0.021376</td>\n",
              "      <td>-0.089018</td>\n",
              "      <td>-0.027722</td>\n",
              "      <td>-0.089351</td>\n",
              "      <td>-0.062822</td>\n",
              "      <td>0.039982</td>\n",
              "      <td>0.000711</td>\n",
              "      <td>0.014852</td>\n",
              "      <td>0.046680</td>\n",
              "      <td>-0.017925</td>\n",
              "      <td>-0.029521</td>\n",
              "      <td>-0.009336</td>\n",
              "      <td>-0.096079</td>\n",
              "      <td>-0.016535</td>\n",
              "      <td>0.021354</td>\n",
              "      <td>0.003718</td>\n",
              "      <td>0.006142</td>\n",
              "      <td>-0.061424</td>\n",
              "      <td>0.015899</td>\n",
              "      <td>-0.174858</td>\n",
              "      <td>-0.091610</td>\n",
              "      <td>-0.050758</td>\n",
              "      <td>-0.043181</td>\n",
              "      <td>0.053141</td>\n",
              "      <td>-0.023874</td>\n",
              "      <td>-0.110983</td>\n",
              "      <td>-0.021706</td>\n",
              "      <td>-0.033344</td>\n",
              "      <td>0.087139</td>\n",
              "      <td>0.011384</td>\n",
              "      <td>-0.009182</td>\n",
              "      <td>0.080942</td>\n",
              "      <td>0.043363</td>\n",
              "      <td>0.024223</td>\n",
              "    </tr>\n",
              "    <tr>\n",
              "      <th>4</th>\n",
              "      <td>2020-05-01</td>\n",
              "      <td>2830.71</td>\n",
              "      <td>RT @TeamTrump: President @realDonaldTrump: “We...</td>\n",
              "      <td>-0.062363</td>\n",
              "      <td>-0.152768</td>\n",
              "      <td>0.011932</td>\n",
              "      <td>-0.037895</td>\n",
              "      <td>0.105952</td>\n",
              "      <td>0.029897</td>\n",
              "      <td>0.253758</td>\n",
              "      <td>0.005132</td>\n",
              "      <td>0.057563</td>\n",
              "      <td>-0.012140</td>\n",
              "      <td>0.031551</td>\n",
              "      <td>-0.042712</td>\n",
              "      <td>-0.049261</td>\n",
              "      <td>0.042661</td>\n",
              "      <td>-0.094464</td>\n",
              "      <td>-0.095238</td>\n",
              "      <td>0.043191</td>\n",
              "      <td>0.020127</td>\n",
              "      <td>-0.040896</td>\n",
              "      <td>-0.055914</td>\n",
              "      <td>0.059571</td>\n",
              "      <td>-0.016820</td>\n",
              "      <td>-0.030181</td>\n",
              "      <td>0.073932</td>\n",
              "      <td>-0.012904</td>\n",
              "      <td>0.022261</td>\n",
              "      <td>0.042359</td>\n",
              "      <td>-0.088944</td>\n",
              "      <td>0.067959</td>\n",
              "      <td>0.045291</td>\n",
              "      <td>0.018870</td>\n",
              "      <td>-0.090875</td>\n",
              "      <td>-0.021277</td>\n",
              "      <td>0.028073</td>\n",
              "      <td>0.101617</td>\n",
              "      <td>-0.075238</td>\n",
              "      <td>-0.113239</td>\n",
              "      <td>...</td>\n",
              "      <td>-0.039031</td>\n",
              "      <td>0.017971</td>\n",
              "      <td>0.154409</td>\n",
              "      <td>0.020186</td>\n",
              "      <td>-0.042743</td>\n",
              "      <td>-0.028248</td>\n",
              "      <td>-0.079483</td>\n",
              "      <td>-0.119310</td>\n",
              "      <td>-0.069222</td>\n",
              "      <td>-0.040570</td>\n",
              "      <td>0.022109</td>\n",
              "      <td>0.091386</td>\n",
              "      <td>0.019573</td>\n",
              "      <td>0.026863</td>\n",
              "      <td>0.044842</td>\n",
              "      <td>-0.008005</td>\n",
              "      <td>-0.013843</td>\n",
              "      <td>0.063816</td>\n",
              "      <td>-0.173473</td>\n",
              "      <td>-0.042964</td>\n",
              "      <td>0.051340</td>\n",
              "      <td>0.002752</td>\n",
              "      <td>0.028463</td>\n",
              "      <td>-0.043951</td>\n",
              "      <td>0.007851</td>\n",
              "      <td>-0.159186</td>\n",
              "      <td>-0.103394</td>\n",
              "      <td>-0.085303</td>\n",
              "      <td>-0.022885</td>\n",
              "      <td>0.023088</td>\n",
              "      <td>-0.117177</td>\n",
              "      <td>-0.097620</td>\n",
              "      <td>0.004785</td>\n",
              "      <td>-0.094721</td>\n",
              "      <td>-0.035433</td>\n",
              "      <td>-0.022249</td>\n",
              "      <td>-0.023457</td>\n",
              "      <td>0.104341</td>\n",
              "      <td>0.088478</td>\n",
              "      <td>0.041309</td>\n",
              "    </tr>\n",
              "  </tbody>\n",
              "</table>\n",
              "<p>5 rows × 303 columns</p>\n",
              "</div>"
            ],
            "text/plain": [
              "         date    price  ...       298       299\n",
              "0  2020-05-01  2830.71  ...  0.063541  0.009408\n",
              "1  2020-05-01  2830.71  ...  0.045311 -0.001109\n",
              "2  2020-05-01  2830.71  ...  0.054327  0.028440\n",
              "3  2020-05-01  2830.71  ...  0.043363  0.024223\n",
              "4  2020-05-01  2830.71  ...  0.088478  0.041309\n",
              "\n",
              "[5 rows x 303 columns]"
            ]
          },
          "metadata": {
            "tags": []
          },
          "execution_count": 23
        }
      ]
    },
    {
      "cell_type": "code",
      "metadata": {
        "id": "wzaVvcZ3fTFn",
        "colab_type": "code",
        "colab": {}
      },
      "source": [
        "df_tweets_word2vec.to_csv(\"price_tweets_vector.csv\", index=False)"
      ],
      "execution_count": 0,
      "outputs": []
    },
    {
      "cell_type": "code",
      "metadata": {
        "id": "CY3UVb1TfTFp",
        "colab_type": "code",
        "outputId": "4de52b9c-650c-4983-b84e-0293ccfabfd3",
        "colab": {
          "base_uri": "https://localhost:8080/",
          "height": 513
        }
      },
      "source": [
        "#ツイートのベクトルを1日毎に平均にする（1日10ツイートだった場合ベクトルと足し合わせ10で割る）\n",
        "# groupby #https://qiita.com/propella/items/a9a32b878c77222630ae\n",
        "df = df_tweets_word2vec.groupby([\"date\"]).mean()\n",
        "\n",
        "\n",
        "# targetのcolである変化率（\"price\"の差分対数行列）をdateをKeyに内部結合する\n",
        "df_sp = pd.read_csv(\"/content/sp500-10-year-daily-chart.csv\")\n",
        "\n",
        "# 時系列データの差分を求める\n",
        "\n",
        "# \" value\"の行を対数化\n",
        "# https://www.sejuku.net/blog/70027\n",
        "df_sp[\"log\"] = np.log(df_sp[\" value\"])\n",
        "\n",
        "# \"log\"の1日前との差を取って、差分対数の列を作成\n",
        "# https://note.nkmk.me/python-pandas-diff-pct-change/\n",
        "df_sp[\"dif_log\"] = df_sp[\"log\"].diff()\n",
        "\n",
        "#内部結合\n",
        "df2=pd.merge(df_sp, df, how=\"inner\" ,on=\"date\")\n",
        "df2 = df2.drop(\" value\", axis=1)\n",
        "\n",
        "# groupbyを使って1日のツイート数も特徴量に加える\n",
        "# https://deepage.net/features/pandas-count.html\n",
        "df3 = df_tweets_word2vec[[\"date\",\"text\"]]\n",
        "df3 = df3.groupby([\"date\"]).count()\n",
        "\n",
        "#内部結合\n",
        "df4 = pd.merge( df3, df2, how=\"inner\" ,on=\"date\")\n",
        "\n",
        "#日付データの形を変える\n",
        "df4[\"date\"] = pd.to_datetime(df4['date']).astype('int64')\n",
        "\n",
        "#変化率のグラフ\n",
        "df4.plot( y=[\"dif_log\"], figsize=(16,4), alpha=0.5)\n",
        "\n",
        "#ツイート数と変化率の関係\n",
        "df4.plot.scatter(x=[\"text\"], y=[\"dif_log\"])"
      ],
      "execution_count": 24,
      "outputs": [
        {
          "output_type": "execute_result",
          "data": {
            "text/plain": [
              "<matplotlib.axes._subplots.AxesSubplot at 0x7f7af3053400>"
            ]
          },
          "metadata": {
            "tags": []
          },
          "execution_count": 24
        },
        {
          "output_type": "display_data",
          "data": {
            "image/png": "[encoded data removed]",
            "text/plain": [
              "<Figure size 1152x288 with 1 Axes>"
            ]
          },
          "metadata": {
            "tags": [],
            "needs_background": "light"
          }
        },
        {
          "output_type": "display_data",
          "data": {
            "image/png": "[encoded data removed]",
            "text/plain": [
              "<Figure size 432x288 with 1 Axes>"
            ]
          },
          "metadata": {
            "tags": [],
            "needs_background": "light"
          }
        }
      ]
    },
    {
      "cell_type": "code",
      "metadata": {
        "id": "LoiDgt9WfTFt",
        "colab_type": "code",
        "outputId": "dd0a5e36-2a4a-4cf7-d8e7-4a65d185570a",
        "colab": {
          "base_uri": "https://localhost:8080/",
          "height": 253
        }
      },
      "source": [
        "df4.head()"
      ],
      "execution_count": 25,
      "outputs": [
        {
          "output_type": "execute_result",
          "data": {
            "text/html": [
              "<div>\n",
              "<style scoped>\n",
              "    .dataframe tbody tr th:only-of-type {\n",
              "        vertical-align: middle;\n",
              "    }\n",
              "\n",
              "    .dataframe tbody tr th {\n",
              "        vertical-align: top;\n",
              "    }\n",
              "\n",
              "    .dataframe thead th {\n",
              "        text-align: right;\n",
              "    }\n",
              "</style>\n",
              "<table border=\"1\" class=\"dataframe\">\n",
              "  <thead>\n",
              "    <tr style=\"text-align: right;\">\n",
              "      <th></th>\n",
              "      <th>date</th>\n",
              "      <th>text</th>\n",
              "      <th>log</th>\n",
              "      <th>dif_log</th>\n",
              "      <th>price</th>\n",
              "      <th>0</th>\n",
              "      <th>1</th>\n",
              "      <th>2</th>\n",
              "      <th>3</th>\n",
              "      <th>4</th>\n",
              "      <th>5</th>\n",
              "      <th>6</th>\n",
              "      <th>7</th>\n",
              "      <th>8</th>\n",
              "      <th>9</th>\n",
              "      <th>10</th>\n",
              "      <th>11</th>\n",
              "      <th>12</th>\n",
              "      <th>13</th>\n",
              "      <th>14</th>\n",
              "      <th>15</th>\n",
              "      <th>16</th>\n",
              "      <th>17</th>\n",
              "      <th>18</th>\n",
              "      <th>19</th>\n",
              "      <th>20</th>\n",
              "      <th>21</th>\n",
              "      <th>22</th>\n",
              "      <th>23</th>\n",
              "      <th>24</th>\n",
              "      <th>25</th>\n",
              "      <th>26</th>\n",
              "      <th>27</th>\n",
              "      <th>28</th>\n",
              "      <th>29</th>\n",
              "      <th>30</th>\n",
              "      <th>31</th>\n",
              "      <th>32</th>\n",
              "      <th>33</th>\n",
              "      <th>34</th>\n",
              "      <th>...</th>\n",
              "      <th>260</th>\n",
              "      <th>261</th>\n",
              "      <th>262</th>\n",
              "      <th>263</th>\n",
              "      <th>264</th>\n",
              "      <th>265</th>\n",
              "      <th>266</th>\n",
              "      <th>267</th>\n",
              "      <th>268</th>\n",
              "      <th>269</th>\n",
              "      <th>270</th>\n",
              "      <th>271</th>\n",
              "      <th>272</th>\n",
              "      <th>273</th>\n",
              "      <th>274</th>\n",
              "      <th>275</th>\n",
              "      <th>276</th>\n",
              "      <th>277</th>\n",
              "      <th>278</th>\n",
              "      <th>279</th>\n",
              "      <th>280</th>\n",
              "      <th>281</th>\n",
              "      <th>282</th>\n",
              "      <th>283</th>\n",
              "      <th>284</th>\n",
              "      <th>285</th>\n",
              "      <th>286</th>\n",
              "      <th>287</th>\n",
              "      <th>288</th>\n",
              "      <th>289</th>\n",
              "      <th>290</th>\n",
              "      <th>291</th>\n",
              "      <th>292</th>\n",
              "      <th>293</th>\n",
              "      <th>294</th>\n",
              "      <th>295</th>\n",
              "      <th>296</th>\n",
              "      <th>297</th>\n",
              "      <th>298</th>\n",
              "      <th>299</th>\n",
              "    </tr>\n",
              "  </thead>\n",
              "  <tbody>\n",
              "    <tr>\n",
              "      <th>0</th>\n",
              "      <td>1484870400000000000</td>\n",
              "      <td>13</td>\n",
              "      <td>7.728112</td>\n",
              "      <td>0.003361</td>\n",
              "      <td>2271.31</td>\n",
              "      <td>-0.056089</td>\n",
              "      <td>-0.124900</td>\n",
              "      <td>-0.001962</td>\n",
              "      <td>-0.080792</td>\n",
              "      <td>0.021780</td>\n",
              "      <td>0.020878</td>\n",
              "      <td>0.194489</td>\n",
              "      <td>0.042179</td>\n",
              "      <td>0.030403</td>\n",
              "      <td>-0.081307</td>\n",
              "      <td>0.034159</td>\n",
              "      <td>-0.044365</td>\n",
              "      <td>-0.056804</td>\n",
              "      <td>-0.011074</td>\n",
              "      <td>-0.008866</td>\n",
              "      <td>-0.119983</td>\n",
              "      <td>0.093923</td>\n",
              "      <td>-0.039024</td>\n",
              "      <td>-0.066007</td>\n",
              "      <td>-0.087879</td>\n",
              "      <td>0.052775</td>\n",
              "      <td>-0.079870</td>\n",
              "      <td>0.018767</td>\n",
              "      <td>0.070245</td>\n",
              "      <td>-0.059593</td>\n",
              "      <td>-0.077208</td>\n",
              "      <td>0.057750</td>\n",
              "      <td>-0.035673</td>\n",
              "      <td>0.004853</td>\n",
              "      <td>0.058442</td>\n",
              "      <td>0.023401</td>\n",
              "      <td>-0.067717</td>\n",
              "      <td>0.041216</td>\n",
              "      <td>0.004741</td>\n",
              "      <td>0.074335</td>\n",
              "      <td>...</td>\n",
              "      <td>-0.017449</td>\n",
              "      <td>0.008038</td>\n",
              "      <td>0.193947</td>\n",
              "      <td>0.045713</td>\n",
              "      <td>0.016926</td>\n",
              "      <td>-0.059648</td>\n",
              "      <td>-0.045026</td>\n",
              "      <td>-0.094420</td>\n",
              "      <td>-0.061698</td>\n",
              "      <td>-0.101421</td>\n",
              "      <td>0.021129</td>\n",
              "      <td>0.063223</td>\n",
              "      <td>0.062858</td>\n",
              "      <td>-0.024923</td>\n",
              "      <td>-0.003941</td>\n",
              "      <td>-0.052215</td>\n",
              "      <td>-0.041719</td>\n",
              "      <td>0.114975</td>\n",
              "      <td>-0.083059</td>\n",
              "      <td>-0.012615</td>\n",
              "      <td>0.071495</td>\n",
              "      <td>0.007090</td>\n",
              "      <td>0.044942</td>\n",
              "      <td>-0.010026</td>\n",
              "      <td>0.060501</td>\n",
              "      <td>-0.079726</td>\n",
              "      <td>-0.114978</td>\n",
              "      <td>-0.070804</td>\n",
              "      <td>-0.050378</td>\n",
              "      <td>0.077069</td>\n",
              "      <td>-0.077981</td>\n",
              "      <td>-0.136628</td>\n",
              "      <td>-0.025381</td>\n",
              "      <td>-0.083362</td>\n",
              "      <td>-0.010933</td>\n",
              "      <td>-0.015941</td>\n",
              "      <td>-0.030216</td>\n",
              "      <td>0.009629</td>\n",
              "      <td>0.095277</td>\n",
              "      <td>-0.004384</td>\n",
              "    </tr>\n",
              "    <tr>\n",
              "      <th>1</th>\n",
              "      <td>1485129600000000000</td>\n",
              "      <td>1</td>\n",
              "      <td>7.725418</td>\n",
              "      <td>-0.002694</td>\n",
              "      <td>2265.20</td>\n",
              "      <td>-0.038704</td>\n",
              "      <td>-0.125995</td>\n",
              "      <td>-0.004152</td>\n",
              "      <td>-0.075120</td>\n",
              "      <td>0.075036</td>\n",
              "      <td>0.030422</td>\n",
              "      <td>0.238361</td>\n",
              "      <td>0.041870</td>\n",
              "      <td>0.046989</td>\n",
              "      <td>-0.053397</td>\n",
              "      <td>0.055783</td>\n",
              "      <td>-0.036650</td>\n",
              "      <td>-0.003811</td>\n",
              "      <td>0.014382</td>\n",
              "      <td>-0.069278</td>\n",
              "      <td>-0.119165</td>\n",
              "      <td>0.080200</td>\n",
              "      <td>-0.007862</td>\n",
              "      <td>-0.023581</td>\n",
              "      <td>-0.064751</td>\n",
              "      <td>0.102328</td>\n",
              "      <td>-0.022351</td>\n",
              "      <td>0.004377</td>\n",
              "      <td>0.076071</td>\n",
              "      <td>-0.045885</td>\n",
              "      <td>-0.059482</td>\n",
              "      <td>0.064139</td>\n",
              "      <td>-0.087642</td>\n",
              "      <td>-0.014380</td>\n",
              "      <td>0.050282</td>\n",
              "      <td>0.055191</td>\n",
              "      <td>-0.004985</td>\n",
              "      <td>0.022416</td>\n",
              "      <td>0.028692</td>\n",
              "      <td>0.107581</td>\n",
              "      <td>...</td>\n",
              "      <td>-0.019274</td>\n",
              "      <td>0.044352</td>\n",
              "      <td>0.220147</td>\n",
              "      <td>0.068641</td>\n",
              "      <td>-0.004248</td>\n",
              "      <td>-0.023895</td>\n",
              "      <td>-0.037908</td>\n",
              "      <td>-0.112546</td>\n",
              "      <td>-0.060981</td>\n",
              "      <td>-0.085142</td>\n",
              "      <td>0.002762</td>\n",
              "      <td>0.085645</td>\n",
              "      <td>0.039793</td>\n",
              "      <td>0.014074</td>\n",
              "      <td>0.059672</td>\n",
              "      <td>-0.054288</td>\n",
              "      <td>-0.029786</td>\n",
              "      <td>0.100267</td>\n",
              "      <td>-0.107633</td>\n",
              "      <td>-0.019944</td>\n",
              "      <td>0.028744</td>\n",
              "      <td>0.022893</td>\n",
              "      <td>0.036337</td>\n",
              "      <td>-0.018048</td>\n",
              "      <td>0.003889</td>\n",
              "      <td>-0.149079</td>\n",
              "      <td>-0.138704</td>\n",
              "      <td>-0.043471</td>\n",
              "      <td>-0.074809</td>\n",
              "      <td>0.060735</td>\n",
              "      <td>-0.060470</td>\n",
              "      <td>-0.088643</td>\n",
              "      <td>-0.000783</td>\n",
              "      <td>-0.053443</td>\n",
              "      <td>0.003348</td>\n",
              "      <td>-0.040194</td>\n",
              "      <td>-0.050417</td>\n",
              "      <td>0.043648</td>\n",
              "      <td>0.068011</td>\n",
              "      <td>-0.029226</td>\n",
              "    </tr>\n",
              "    <tr>\n",
              "      <th>2</th>\n",
              "      <td>1485216000000000000</td>\n",
              "      <td>4</td>\n",
              "      <td>7.731961</td>\n",
              "      <td>0.006543</td>\n",
              "      <td>2280.07</td>\n",
              "      <td>-0.024573</td>\n",
              "      <td>-0.125489</td>\n",
              "      <td>-0.054011</td>\n",
              "      <td>-0.025481</td>\n",
              "      <td>0.066256</td>\n",
              "      <td>0.009217</td>\n",
              "      <td>0.183376</td>\n",
              "      <td>0.071803</td>\n",
              "      <td>0.039478</td>\n",
              "      <td>-0.042205</td>\n",
              "      <td>0.080640</td>\n",
              "      <td>-0.009149</td>\n",
              "      <td>-0.010394</td>\n",
              "      <td>0.009765</td>\n",
              "      <td>-0.034488</td>\n",
              "      <td>-0.106112</td>\n",
              "      <td>0.061434</td>\n",
              "      <td>-0.034963</td>\n",
              "      <td>-0.012444</td>\n",
              "      <td>-0.050165</td>\n",
              "      <td>0.083428</td>\n",
              "      <td>0.001934</td>\n",
              "      <td>-0.002017</td>\n",
              "      <td>0.069562</td>\n",
              "      <td>-0.034421</td>\n",
              "      <td>-0.032069</td>\n",
              "      <td>0.020516</td>\n",
              "      <td>-0.058093</td>\n",
              "      <td>-0.029401</td>\n",
              "      <td>0.042134</td>\n",
              "      <td>0.029453</td>\n",
              "      <td>-0.000752</td>\n",
              "      <td>0.009892</td>\n",
              "      <td>0.019353</td>\n",
              "      <td>0.090073</td>\n",
              "      <td>...</td>\n",
              "      <td>0.022861</td>\n",
              "      <td>0.017611</td>\n",
              "      <td>0.121172</td>\n",
              "      <td>0.051024</td>\n",
              "      <td>0.000789</td>\n",
              "      <td>-0.009364</td>\n",
              "      <td>-0.040043</td>\n",
              "      <td>-0.091724</td>\n",
              "      <td>-0.053929</td>\n",
              "      <td>-0.079703</td>\n",
              "      <td>0.026699</td>\n",
              "      <td>0.052948</td>\n",
              "      <td>0.035239</td>\n",
              "      <td>0.005873</td>\n",
              "      <td>0.025653</td>\n",
              "      <td>-0.054135</td>\n",
              "      <td>-0.023086</td>\n",
              "      <td>0.122312</td>\n",
              "      <td>-0.057578</td>\n",
              "      <td>-0.025186</td>\n",
              "      <td>0.022777</td>\n",
              "      <td>0.023420</td>\n",
              "      <td>0.036183</td>\n",
              "      <td>-0.029056</td>\n",
              "      <td>0.045269</td>\n",
              "      <td>-0.098610</td>\n",
              "      <td>-0.074804</td>\n",
              "      <td>-0.065530</td>\n",
              "      <td>-0.059709</td>\n",
              "      <td>0.052844</td>\n",
              "      <td>-0.066489</td>\n",
              "      <td>-0.060723</td>\n",
              "      <td>-0.002085</td>\n",
              "      <td>-0.034085</td>\n",
              "      <td>-0.021904</td>\n",
              "      <td>-0.026748</td>\n",
              "      <td>-0.015498</td>\n",
              "      <td>0.021533</td>\n",
              "      <td>0.081194</td>\n",
              "      <td>-0.044860</td>\n",
              "    </tr>\n",
              "    <tr>\n",
              "      <th>3</th>\n",
              "      <td>1485302400000000000</td>\n",
              "      <td>8</td>\n",
              "      <td>7.739955</td>\n",
              "      <td>0.007994</td>\n",
              "      <td>2298.37</td>\n",
              "      <td>-0.031703</td>\n",
              "      <td>-0.150664</td>\n",
              "      <td>0.015211</td>\n",
              "      <td>-0.044234</td>\n",
              "      <td>0.028907</td>\n",
              "      <td>-0.039317</td>\n",
              "      <td>0.167204</td>\n",
              "      <td>0.015246</td>\n",
              "      <td>0.014843</td>\n",
              "      <td>-0.053105</td>\n",
              "      <td>0.041487</td>\n",
              "      <td>-0.032670</td>\n",
              "      <td>-0.034563</td>\n",
              "      <td>-0.013459</td>\n",
              "      <td>-0.051733</td>\n",
              "      <td>-0.065344</td>\n",
              "      <td>0.052457</td>\n",
              "      <td>0.007441</td>\n",
              "      <td>-0.074439</td>\n",
              "      <td>-0.082500</td>\n",
              "      <td>0.122514</td>\n",
              "      <td>-0.037580</td>\n",
              "      <td>0.021627</td>\n",
              "      <td>0.044865</td>\n",
              "      <td>-0.034588</td>\n",
              "      <td>-0.028922</td>\n",
              "      <td>0.045946</td>\n",
              "      <td>-0.068504</td>\n",
              "      <td>0.006933</td>\n",
              "      <td>0.078047</td>\n",
              "      <td>0.038145</td>\n",
              "      <td>-0.018918</td>\n",
              "      <td>0.036386</td>\n",
              "      <td>0.004575</td>\n",
              "      <td>0.089248</td>\n",
              "      <td>...</td>\n",
              "      <td>-0.036171</td>\n",
              "      <td>0.008228</td>\n",
              "      <td>0.184192</td>\n",
              "      <td>0.050491</td>\n",
              "      <td>0.005508</td>\n",
              "      <td>-0.030502</td>\n",
              "      <td>-0.004075</td>\n",
              "      <td>-0.084064</td>\n",
              "      <td>-0.040385</td>\n",
              "      <td>-0.081452</td>\n",
              "      <td>-0.023269</td>\n",
              "      <td>0.044274</td>\n",
              "      <td>0.023616</td>\n",
              "      <td>0.016508</td>\n",
              "      <td>0.001136</td>\n",
              "      <td>-0.055725</td>\n",
              "      <td>-0.011079</td>\n",
              "      <td>0.078898</td>\n",
              "      <td>-0.075412</td>\n",
              "      <td>-0.004276</td>\n",
              "      <td>0.020972</td>\n",
              "      <td>0.020075</td>\n",
              "      <td>0.030874</td>\n",
              "      <td>-0.064601</td>\n",
              "      <td>0.011764</td>\n",
              "      <td>-0.151015</td>\n",
              "      <td>-0.095137</td>\n",
              "      <td>-0.038436</td>\n",
              "      <td>-0.033972</td>\n",
              "      <td>0.092131</td>\n",
              "      <td>-0.064117</td>\n",
              "      <td>-0.087420</td>\n",
              "      <td>0.005580</td>\n",
              "      <td>-0.010927</td>\n",
              "      <td>0.025592</td>\n",
              "      <td>-0.006183</td>\n",
              "      <td>-0.018014</td>\n",
              "      <td>0.044931</td>\n",
              "      <td>0.058537</td>\n",
              "      <td>0.007244</td>\n",
              "    </tr>\n",
              "    <tr>\n",
              "      <th>4</th>\n",
              "      <td>1485388800000000000</td>\n",
              "      <td>11</td>\n",
              "      <td>7.739220</td>\n",
              "      <td>-0.000736</td>\n",
              "      <td>2296.68</td>\n",
              "      <td>-0.043458</td>\n",
              "      <td>-0.134020</td>\n",
              "      <td>0.001143</td>\n",
              "      <td>-0.038578</td>\n",
              "      <td>0.041194</td>\n",
              "      <td>-0.012140</td>\n",
              "      <td>0.199962</td>\n",
              "      <td>0.016921</td>\n",
              "      <td>0.002338</td>\n",
              "      <td>-0.037620</td>\n",
              "      <td>0.043445</td>\n",
              "      <td>-0.017953</td>\n",
              "      <td>-0.038654</td>\n",
              "      <td>-0.013690</td>\n",
              "      <td>-0.042070</td>\n",
              "      <td>-0.095617</td>\n",
              "      <td>0.052074</td>\n",
              "      <td>-0.009204</td>\n",
              "      <td>-0.058561</td>\n",
              "      <td>-0.085566</td>\n",
              "      <td>0.098882</td>\n",
              "      <td>-0.037994</td>\n",
              "      <td>0.017531</td>\n",
              "      <td>0.061387</td>\n",
              "      <td>-0.018250</td>\n",
              "      <td>-0.029150</td>\n",
              "      <td>0.052917</td>\n",
              "      <td>-0.056446</td>\n",
              "      <td>-0.003555</td>\n",
              "      <td>0.056080</td>\n",
              "      <td>0.046062</td>\n",
              "      <td>-0.032552</td>\n",
              "      <td>0.022848</td>\n",
              "      <td>-0.000534</td>\n",
              "      <td>0.081409</td>\n",
              "      <td>...</td>\n",
              "      <td>-0.006071</td>\n",
              "      <td>0.009365</td>\n",
              "      <td>0.173994</td>\n",
              "      <td>0.052083</td>\n",
              "      <td>-0.005359</td>\n",
              "      <td>-0.035002</td>\n",
              "      <td>-0.029151</td>\n",
              "      <td>-0.078411</td>\n",
              "      <td>-0.040754</td>\n",
              "      <td>-0.083623</td>\n",
              "      <td>0.003291</td>\n",
              "      <td>0.051276</td>\n",
              "      <td>0.031679</td>\n",
              "      <td>0.015985</td>\n",
              "      <td>0.004292</td>\n",
              "      <td>-0.050691</td>\n",
              "      <td>-0.008813</td>\n",
              "      <td>0.087079</td>\n",
              "      <td>-0.091140</td>\n",
              "      <td>-0.013201</td>\n",
              "      <td>0.023022</td>\n",
              "      <td>0.023979</td>\n",
              "      <td>0.029588</td>\n",
              "      <td>-0.053135</td>\n",
              "      <td>0.030427</td>\n",
              "      <td>-0.120983</td>\n",
              "      <td>-0.081201</td>\n",
              "      <td>-0.063593</td>\n",
              "      <td>-0.036626</td>\n",
              "      <td>0.055930</td>\n",
              "      <td>-0.084248</td>\n",
              "      <td>-0.081528</td>\n",
              "      <td>-0.000374</td>\n",
              "      <td>-0.033526</td>\n",
              "      <td>-0.010038</td>\n",
              "      <td>0.001737</td>\n",
              "      <td>-0.015806</td>\n",
              "      <td>0.043131</td>\n",
              "      <td>0.079436</td>\n",
              "      <td>0.005099</td>\n",
              "    </tr>\n",
              "  </tbody>\n",
              "</table>\n",
              "<p>5 rows × 305 columns</p>\n",
              "</div>"
            ],
            "text/plain": [
              "                  date  text       log  ...       297       298       299\n",
              "0  1484870400000000000    13  7.728112  ...  0.009629  0.095277 -0.004384\n",
              "1  1485129600000000000     1  7.725418  ...  0.043648  0.068011 -0.029226\n",
              "2  1485216000000000000     4  7.731961  ...  0.021533  0.081194 -0.044860\n",
              "3  1485302400000000000     8  7.739955  ...  0.044931  0.058537  0.007244\n",
              "4  1485388800000000000    11  7.739220  ...  0.043131  0.079436  0.005099\n",
              "\n",
              "[5 rows x 305 columns]"
            ]
          },
          "metadata": {
            "tags": []
          },
          "execution_count": 25
        }
      ]
    },
    {
      "cell_type": "code",
      "metadata": {
        "id": "n7AswbGKfTFw",
        "colab_type": "code",
        "colab": {}
      },
      "source": [
        "#特徴量とターゲットを決める\n",
        "from sklearn.model_selection import train_test_split\n",
        "\n",
        "target_col = 'dif_log'\n",
        "exclude_cols = ['log', 'price', 'dif_log', \"date\",\"text\"]\n",
        "feature_cols = []\n",
        "for col in df4.columns:\n",
        "    if col not in exclude_cols:\n",
        "        feature_cols.append(col)\n",
        "        \n",
        "X = np.array(df4[feature_cols])\n",
        "y = np.array(df4[target_col])"
      ],
      "execution_count": 0,
      "outputs": []
    },
    {
      "cell_type": "code",
      "metadata": {
        "id": "20189zR5fTF0",
        "colab_type": "code",
        "outputId": "ee002d03-113a-4e25-e77f-072a2d3ecc7c",
        "colab": {
          "base_uri": "https://localhost:8080/",
          "height": 85
        }
      },
      "source": [
        "#X_train_val, X_test, y_train_val, y_test = train_test_split(\n",
        "#    X, y, test_size=0.1, random_state=1234)\n",
        "\n",
        "print('X_train_val Features Shape: ', X_train_val.shape)\n",
        "print('y_train_val Target Shape: ', y_train_val.shape)\n",
        "print('X_test Features Shape: ', X_test.shape)\n",
        "print('y_test Target Shape: ', y_test.shape)"
      ],
      "execution_count": 0,
      "outputs": [
        {
          "output_type": "stream",
          "text": [
            "X_train_val Features Shape:  (739, 300)\n",
            "y_train_val Target Shape:  (739,)\n",
            "X_test Features Shape:  (83, 300)\n",
            "y_test Target Shape:  (83,)\n"
          ],
          "name": "stdout"
        }
      ]
    },
    {
      "cell_type": "code",
      "metadata": {
        "id": "mW7aRfLifTF3",
        "colab_type": "code",
        "outputId": "c5a57196-47c1-4e25-b899-afea23b14615",
        "colab": {
          "base_uri": "https://localhost:8080/",
          "height": 85
        }
      },
      "source": [
        "X_train, X_val, y_train, y_val = train_test_split(\n",
        "    X, y, test_size=0.2, random_state=1234)\n",
        "\n",
        "# 参考：分割後のデータ数を確認\n",
        "print('X_train Features Shape: ', X_train.shape)\n",
        "print('y_train Target Shape: ', y_train.shape)\n",
        "print('X_val Features Shape: ', X_val.shape)\n",
        "print('y_val Target Shape: ', y_val.shape)"
      ],
      "execution_count": 27,
      "outputs": [
        {
          "output_type": "stream",
          "text": [
            "X_train Features Shape:  (657, 300)\n",
            "y_train Target Shape:  (657,)\n",
            "X_val Features Shape:  (165, 300)\n",
            "y_val Target Shape:  (165,)\n"
          ],
          "name": "stdout"
        }
      ]
    },
    {
      "cell_type": "code",
      "metadata": {
        "id": "AMGJVo-zfTF6",
        "colab_type": "code",
        "colab": {}
      },
      "source": [
        "#分析用のライブラリ\n",
        "\n",
        "from collections import Counter\n",
        "from sklearn.linear_model import LogisticRegression\n",
        "from sklearn.metrics import confusion_matrix, accuracy_score, classification_report\n",
        "from sklearn.linear_model import LinearRegression  # 線形回帰モデルのライブラリ\n",
        "from sklearn.metrics import mean_squared_error  # MSEのライブラリ\n",
        "from sklearn.ensemble import RandomForestRegressor"
      ],
      "execution_count": 0,
      "outputs": []
    },
    {
      "cell_type": "code",
      "metadata": {
        "id": "_7Ucu_2FfTF_",
        "colab_type": "code",
        "outputId": "2bd97ced-1366-40d9-a346-62643fd18078",
        "colab": {
          "base_uri": "https://localhost:8080/",
          "height": 34
        }
      },
      "source": [
        "#分析1 線形回帰\n",
        "\n",
        "from sklearn.linear_model import LinearRegression  # 線形回帰モデルのライブラリ\n",
        "from sklearn.metrics import mean_squared_error  # MSEのライブラリ\n",
        "\n",
        "lm = LinearRegression()\n",
        "lm.fit(X_train, y_train)\n",
        "y_pred = lm.predict(X_val)\n",
        "lm_mse = mean_squared_error(y_val, y_pred)\n",
        "print('LinerRegression RMSE: ', round(np.sqrt(lm_mse), 3))"
      ],
      "execution_count": 29,
      "outputs": [
        {
          "output_type": "stream",
          "text": [
            "LinerRegression RMSE:  0.018\n"
          ],
          "name": "stdout"
        }
      ]
    },
    {
      "cell_type": "code",
      "metadata": {
        "id": "yP6pY8SpfTGB",
        "colab_type": "code",
        "outputId": "794ed2ad-fcf7-409a-ce74-44832e894fc9",
        "colab": {
          "base_uri": "https://localhost:8080/",
          "height": 34
        }
      },
      "source": [
        "#分析2 決定木\n",
        "\n",
        "from sklearn.tree import DecisionTreeRegressor\n",
        "\n",
        "dt = DecisionTreeRegressor(random_state=1234)\n",
        "dt.fit(X_train, y_train)\n",
        "y_pred = dt.predict(X_val)\n",
        "dt_mse = mean_squared_error(y_val, y_pred)\n",
        "print('DecisionTreeRegressor RMSE: ', round(np.sqrt(dt_mse), 3))"
      ],
      "execution_count": 30,
      "outputs": [
        {
          "output_type": "stream",
          "text": [
            "DecisionTreeRegressor RMSE:  0.021\n"
          ],
          "name": "stdout"
        }
      ]
    },
    {
      "cell_type": "code",
      "metadata": {
        "id": "TAO7GAT8fTGE",
        "colab_type": "code",
        "outputId": "05266781-25e0-43e4-91cd-30364e5de531",
        "colab": {
          "base_uri": "https://localhost:8080/",
          "height": 34
        }
      },
      "source": [
        "#分析3 ランダムフォレスト\n",
        "\n",
        "from sklearn.ensemble import RandomForestRegressor\n",
        "\n",
        "rf = RandomForestRegressor(n_estimators=100, random_state=1234)\n",
        "rf.fit(X_train, y_train)\n",
        "y_pred = rf.predict(X_val)\n",
        "rf_mse = mean_squared_error(y_val, y_pred)\n",
        "print('RandomForestRegressor RMSE: ', round(np.sqrt(rf_mse), 3))"
      ],
      "execution_count": 31,
      "outputs": [
        {
          "output_type": "stream",
          "text": [
            "RandomForestRegressor RMSE:  0.013\n"
          ],
          "name": "stdout"
        }
      ]
    },
    {
      "cell_type": "code",
      "metadata": {
        "id": "8iYWdBRkfTGH",
        "colab_type": "code",
        "outputId": "5ba69d0e-9308-4a0f-bf9e-d1f979eef00f",
        "colab": {
          "base_uri": "https://localhost:8080/",
          "height": 282
        }
      },
      "source": [
        "#分析3 ランダムフォレストの特徴量\n",
        "\n",
        "rf_importances = pd.DataFrame(rf.feature_importances_, columns=['importance'], index=feature_cols)\n",
        "rf_importances.sort_values('importance', ascending=False).iloc[0:15].plot(kind='barh')"
      ],
      "execution_count": 32,
      "outputs": [
        {
          "output_type": "execute_result",
          "data": {
            "text/plain": [
              "<matplotlib.axes._subplots.AxesSubplot at 0x7f7af134f748>"
            ]
          },
          "metadata": {
            "tags": []
          },
          "execution_count": 32
        },
        {
          "output_type": "display_data",
          "data": {
            "image/png": "[encoded data removed]",
            "text/plain": [
              "<Figure size 432x288 with 1 Axes>"
            ]
          },
          "metadata": {
            "tags": [],
            "needs_background": "light"
          }
        }
      ]
    },
    {
      "cell_type": "code",
      "metadata": {
        "id": "_FrzHo3CfTGK",
        "colab_type": "code",
        "outputId": "93a9ee24-c2f1-490d-d20b-0c10c698345e",
        "colab": {
          "base_uri": "https://localhost:8080/",
          "height": 68
        }
      },
      "source": [
        "#４つの分析の結果の比較\n",
        "\n",
        "print('線形回帰モデルのRMSE:    ', round(np.sqrt(lm_mse), 3))\n",
        "print('回帰木のRMSE:                  ', round(np.sqrt(dt_mse), 3))\n",
        "print('ランダムフォレストのRMSE: ', round(np.sqrt(rf_mse), 3))"
      ],
      "execution_count": 33,
      "outputs": [
        {
          "output_type": "stream",
          "text": [
            "線形回帰モデルのRMSE:     0.018\n",
            "回帰木のRMSE:                   0.021\n",
            "ランダムフォレストのRMSE:  0.013\n"
          ],
          "name": "stdout"
        }
      ]
    },
    {
      "cell_type": "code",
      "metadata": {
        "id": "6nAtZEWZfTGO",
        "colab_type": "code",
        "outputId": "9eda48fc-65ab-47d1-ceeb-caf89057a133",
        "colab": {
          "base_uri": "https://localhost:8080/",
          "height": 85
        }
      },
      "source": [
        "#分析4 ランダムフォレストのチューニング\n",
        "\n",
        "# クロスバリデーションとグリッドサーチ のライブラリ\n",
        "from sklearn.model_selection import GridSearchCV\n",
        "\n",
        "rf = RandomForestRegressor(random_state=1234)\n",
        "\n",
        "params = {'n_estimators': [10, 25, 50, 100], 'max_depth': [10, 20, 30, 50]}\n",
        "gscv = GridSearchCV(rf, param_grid=params, verbose=1, cv=3,\n",
        "                    scoring='neg_mean_squared_error', n_jobs=-1)\n",
        "gscv.fit(X_train, y_train)\n",
        "\n",
        "gscv.best_params_"
      ],
      "execution_count": 34,
      "outputs": [
        {
          "output_type": "stream",
          "text": [
            "Fitting 3 folds for each of 16 candidates, totalling 48 fits\n"
          ],
          "name": "stdout"
        },
        {
          "output_type": "stream",
          "text": [
            "[Parallel(n_jobs=-1)]: Using backend LokyBackend with 2 concurrent workers.\n",
            "[Parallel(n_jobs=-1)]: Done  48 out of  48 | elapsed:  2.2min finished\n"
          ],
          "name": "stderr"
        },
        {
          "output_type": "execute_result",
          "data": {
            "text/plain": [
              "{'max_depth': 20, 'n_estimators': 100}"
            ]
          },
          "metadata": {
            "tags": []
          },
          "execution_count": 34
        }
      ]
    },
    {
      "cell_type": "code",
      "metadata": {
        "id": "TAcxNPOffTGR",
        "colab_type": "code",
        "outputId": "9e8f2666-6033-4897-b4e4-aa00984916f5",
        "colab": {
          "base_uri": "https://localhost:8080/",
          "height": 34
        }
      },
      "source": [
        "#分析4 ランダムフォレストのチューニング\n",
        "best_estimators = gscv.best_params_[\"n_estimators\"]\n",
        "best_depth = gscv.best_params_[\"max_depth\"]\n",
        "\n",
        "rf_best = RandomForestRegressor(n_estimators=best_estimators, max_depth=best_depth, random_state=1234)\n",
        "rf_best.fit(X_train, y_train)\n",
        "y_pred = rf_best.predict(X_val)\n",
        "rf_best_mse = mean_squared_error(y_val, y_pred)\n",
        "print('RandomForest RMSE: ', round(np.sqrt(rf_best_mse), 3))"
      ],
      "execution_count": 35,
      "outputs": [
        {
          "output_type": "stream",
          "text": [
            "RandomForest RMSE:  0.013\n"
          ],
          "name": "stdout"
        }
      ]
    },
    {
      "cell_type": "code",
      "metadata": {
        "id": "43P-uNhxfTGU",
        "colab_type": "code",
        "outputId": "9f9bcbd8-aef0-4dca-ef02-b538ea9874f7",
        "colab": {
          "base_uri": "https://localhost:8080/",
          "height": 34
        }
      },
      "source": [
        "#分析5 チューニングしたモデルにテストデータを代入\n",
        "\n",
        "y_pred_on_test = rf_best.predict(X_test)\n",
        "rf_best_test_mse = mean_squared_error(y_test, y_pred_on_test)\n",
        "print('RandomForest RMSE: ', round(np.sqrt(rf_best_test_mse), 3))"
      ],
      "execution_count": 37,
      "outputs": [
        {
          "output_type": "stream",
          "text": [
            "RandomForest RMSE:  0.013\n"
          ],
          "name": "stdout"
        }
      ]
    },
    {
      "cell_type": "code",
      "metadata": {
        "id": "OXUicVllfTGc",
        "colab_type": "code",
        "colab": {}
      },
      "source": [
        "#分析5 テストデータを代入\n",
        "#誤差を可視化\n",
        "\n",
        "plt.scatter(y_test, y_pred_on_test)\n",
        "plt.show()\n",
        "\n",
        "import seaborn as sns\n",
        "\n",
        "error_rate = (y_test - y_pred_on_test) / y_test\n",
        "print('Mean: ', round(np.mean(error_rate), 5))\n",
        "print('Std: ', round(np.std(error_rate), 5))\n",
        "sns.distplot(error_rate, kde=False, rug=False, bins=20)"
      ],
      "execution_count": 0,
      "outputs": []
    },
    {
      "cell_type": "code",
      "metadata": {
        "id": "sGW47_XkfTGi",
        "colab_type": "code",
        "outputId": "ff792631-9853-44a0-f3db-c7e3c7fb18c0",
        "colab": {
          "base_uri": "https://localhost:8080/",
          "height": 581
        }
      },
      "source": [
        "#分析6 クラスタリング\n",
        "#https://hironsan.hatenablog.com/entry/clustering-word-vectors\n",
        "\n",
        "from collections import defaultdict\n",
        "from gensim.models.keyedvectors import KeyedVectors\n",
        "from sklearn.cluster import KMeans\n",
        "\n",
        "model = KeyedVectors.load('skipgram_w2v.model')\n",
        "max_vocab = 30000\n",
        "vocab = list(model.wv.vocab.keys())[:max_vocab]\n",
        "vectors = [model.wv[word] for word in vocab]\n",
        "\n",
        "n_clusters = 30\n",
        "kmeans_model = KMeans(n_clusters=n_clusters, verbose=1, random_state=1234, n_jobs=-1)\n",
        "kmeans_model.fit(vectors)\n",
        "\n",
        "cluster_labels = kmeans_model.labels_\n",
        "cluster_to_words = defaultdict(list)\n",
        "for cluster_id, word in zip(cluster_labels, vocab):\n",
        "    cluster_to_words[cluster_id].append(word)\n",
        "\n",
        "for words in cluster_to_words.values():\n",
        "    print(words[:10])"
      ],
      "execution_count": 38,
      "outputs": [
        {
          "output_type": "stream",
          "text": [
            "/usr/local/lib/python3.6/dist-packages/smart_open/smart_open_lib.py:253: UserWarning: This function is deprecated, use smart_open.open instead. See the migration notes for details: https://github.com/RaRe-Technologies/smart_open/blob/master/README.rst#migrating-to-the-new-open-function\n",
            "  'See the migration notes for details: %s' % _MIGRATION_NOTES_URL\n"
          ],
          "name": "stderr"
        },
        {
          "output_type": "stream",
          "text": [
            "['trump', 'show', '”', 'deep', 'general', '2016', 'covering', 'interview', 'quite', 'marthamaccallum']\n",
            "['gets', 'tied', 'fire', 'ny', 'gave', '8', 'direction', 'strategy', 'bucksexton', 'responsible']\n",
            "['latest', 'teamtrump', 'president', 'realdonaldtrump', 'leadership', 'first', 'response', 'hughhewitt', 'office', 'team']\n",
            "['poll', 'approval', 'supporters', '2020', 'election', 'last', 'liberal', 'bernie', 'voters', 'democrat']\n",
            "['6', 'best', '7', 'point', 'trillion', 'since', 'days', 'history', 'gopchairwoman', 'cut']\n",
            "['governor', 'vote', 'opponent', 'fighter', 'tom', 'wisconsin', 'jersey', 'kevin', 'state', 'brian']\n",
            "['michigan', 'see', 'night', 'incredible', 'proud', 'iowa', 'thank', 'morning', 'wonderful', 'tonight']\n",
            "['give', 'want', '’', 'aoc', 'late', 'enough', 'run', 'going', 'something', 'drain']\n",
            "['little', 'put', 'given', 'others', 'would', 'ventilators', 'else', 'spent', 'getting', 'ultimately']\n",
            "['good', 'people', 'back', 'make', 'one', 'amp', 'pandemic', 'making', 'working', 'always']\n",
            "['angry', 'brought', 'totally', 'using', 'cop', 'whole', 'case', 'seems', 'corruption', 'cops']\n",
            "['lives', 'act', 'ensure', 'chuckgrassley', 'w', 'protecting', 'seniors', 'coronavirus', 'critical', 'spread']\n",
            "['talk', 'loser', 'thing', 'never', 'even', 'called', 'wonder', 'talking', 'knows', 'like']\n",
            "['deal', 'dollars', '25', 'pay', 'goods', 'paying', 'powell', 'higher', 'countries', 'china']\n",
            "['cryin', 'chuck', 'schumer', 'senators', 'voted', 'congress', 'democrats', 'speaker', 'pelosi', 'house']\n",
            "['home', 'states', 'testing', 'middle', 'supply', 'chinese', 'us', 'financial', 'assistance', '33']\n",
            "['stop', 'border', 'allow', 'necessary', 'open', 'must', 'immigration', 'human', 'agents', 'built']\n",
            "['cuomo', 'done', 'great', 'job', 'hard', 'special', 'navy', 'mike', 'michael', 'williams']\n",
            "['stand', 'mikepence', 'america', 'americans', 'every', 'day', 'message', '—', 'fight', 'hardworking']\n",
            "['false', 'media', 'fake', 'news', 'cnn', 'msdnc', 'story', 'washington', 'post', 'corrupt']\n",
            "['lied', 'dirty', 'fusion', 'fbi', 'investigation', 'mueller', 'knew', 'james', 'flynn', 'documents']\n",
            "['east', 'met', 'meeting', 'sanctions', 'discussing', 'conversation', 'republic', 'spoke', 'forward', 'discussions']\n",
            "['gm', 'production', 'farmers', 'ranchers', 'small', 'business', 'parts', 'plants', 'coming', 'thousands']\n",
            "['authority', 'rep', 'jimjordan', 'released', 'transcript', 'elisestefanik', 'repandybiggsaz', 'pro', 'didnt', 'dbongino']\n",
            "['defense', 'careful', 'hospitals', 'sector', 'officials', 'closely', 'advice', 'prayers', 'safe', 'juan']\n",
            "['honor', 'americas', 'nation', 'freedom', 'today', 'family', 'happy', 'birthday', 'roundtable', 'grateful']\n",
            "['whitehouse', '\\u2066', '\\u2069', 'live', 'potus', 'delivers', 'remarks', 'vp', 'oval', '🚨']\n",
            "['military', 'vets', 'supports', 'loves', 'strong', 'crime', 'second', 'amendment', 'complete', 'total']\n",
            "['need', 'help', 'tax', 'funding', 'plan', 'support', 'care', 'infrastructure', 'insurance', 'paycheck']\n",
            "['ं', 'ी', 'क', 'े', '्', 'र', 'ा', 'ि', 'म', 'ह']\n"
          ],
          "name": "stdout"
        }
      ]
    },
    {
      "cell_type": "code",
      "metadata": {
        "id": "Fu0b2E73mdhz",
        "colab_type": "code",
        "outputId": "a6180e21-41b6-4532-b5e2-1af10ac825ce",
        "colab": {
          "base_uri": "https://localhost:8080/",
          "height": 353
        }
      },
      "source": [
        "#分析7 似ている単語をプロット\n",
        "# https://yoshipc.net/python-word2vec/\n",
        " \n",
        "from gensim.models import word2vec\n",
        "import numpy as np\n",
        "import matplotlib.pyplot as plt\n",
        "from sklearn.decomposition import PCA\n",
        " \n",
        "model = word2vec.Word2Vec.load(\"/content/skipgram_w2v.model\")\n",
        " \n",
        "#調べる情報を配列に収納\n",
        "trump_word = []\n",
        "trump_word.append([\"america\",\"china\"])\n",
        "trump_word.append([\"america\",\"great\"])\n",
        "trump_word.append([\"america\",\"japan\"])\n",
        "trump_word.append([\"trump\",\"president\"])\n",
        "trump_word.append([\"coronavirus\",\"covid\"])\n",
        "trump_word.append([\"coronavirus\",\"economy\"])\n",
        "trump_word.append([\"stock\",\"economy\"])\n",
        "\n",
        "length = len(trump_word)\n",
        "data = []\n",
        " \n",
        "j = 0\n",
        "while j < length:\n",
        "    #print(trump_word[j][1])\n",
        "    data.append(model[trump_word[j][0]])\n",
        "    data.append(model[trump_word[j][1]])\n",
        "    j += 1\n",
        " \n",
        "pca = PCA(n_components=2)\n",
        "pca.fit(data)\n",
        "data_pca= pca.transform(data)\n",
        " \n",
        "length_data = len(data_pca)\n",
        " \n",
        "i = 0\n",
        "j = 0\n",
        "while i < length_data:\n",
        "    #点プロット\n",
        "    plt.plot(data_pca[i][0], data_pca[i][1], ms=5.0, zorder=2 ,marker=\"x\")\n",
        "    plt.plot(data_pca[i+1][0], data_pca[i+1][1],ms=5.0, zorder=2 ,marker=\"x\")\n",
        " \n",
        "    #線プロット\n",
        "    plt.plot((data_pca[i][0], data_pca[i+1][0]),(data_pca[i][1],data_pca[i+1][1]),c=\"b\",linewidth=0.5,zorder=1,linestyle=\"--\")\n",
        " \n",
        "    #文字プロット\n",
        "    plt.annotate(trump_word[j][0],(data_pca[i][0], data_pca[i][1]),size=7)\n",
        "    plt.annotate(trump_word[j][1],(data_pca[i+1][0], data_pca[i+1][1]),size=7)\n",
        " \n",
        "    j += 1\n",
        "    i += 2\n",
        " \n",
        "plt.show()"
      ],
      "execution_count": 39,
      "outputs": [
        {
          "output_type": "stream",
          "text": [
            "/usr/local/lib/python3.6/dist-packages/smart_open/smart_open_lib.py:253: UserWarning: This function is deprecated, use smart_open.open instead. See the migration notes for details: https://github.com/RaRe-Technologies/smart_open/blob/master/README.rst#migrating-to-the-new-open-function\n",
            "  'See the migration notes for details: %s' % _MIGRATION_NOTES_URL\n",
            "/usr/local/lib/python3.6/dist-packages/ipykernel_launcher.py:27: DeprecationWarning: Call to deprecated `__getitem__` (Method will be removed in 4.0.0, use self.wv.__getitem__() instead).\n",
            "/usr/local/lib/python3.6/dist-packages/ipykernel_launcher.py:28: DeprecationWarning: Call to deprecated `__getitem__` (Method will be removed in 4.0.0, use self.wv.__getitem__() instead).\n"
          ],
          "name": "stderr"
        },
        {
          "output_type": "display_data",
          "data": {
            "image/png": "[encoded data removed]",
            "text/plain": [
              "<Figure size 432x288 with 1 Axes>"
            ]
          },
          "metadata": {
            "tags": [],
            "needs_background": "light"
          }
        }
      ]
    },
    {
      "cell_type": "code",
      "metadata": {
        "id": "zXq4SYqwp5Xu",
        "colab_type": "code",
        "colab": {}
      },
      "source": [
        "#分析8 DeepLearning\n",
        "#ライブラリをインポート\n",
        "\n",
        "import numpy as np\n",
        "import pandas as pd\n",
        "import torch\n",
        "from torch import nn\n",
        "from torch import optim\n",
        "import torch.nn.functional as F\n",
        "from torch.utils.data import DataLoader, TensorDataset\n",
        "from sklearn.model_selection import train_test_split\n",
        "from sklearn.metrics import confusion_matrix\n",
        "import matplotlib.pyplot as plt"
      ],
      "execution_count": 0,
      "outputs": []
    },
    {
      "cell_type": "code",
      "metadata": {
        "id": "4uecjMVBTBij",
        "colab_type": "code",
        "colab": {}
      },
      "source": [
        "class myMLP(nn.Module):\n",
        "    def __init__(self, in_features, out_features):\n",
        "        super().__init__()\n",
        "        self.ln1 = nn.Linear(in_features, 256)\n",
        "        self.ln2 = nn.Linear(256, 128)\n",
        "        self.ln3 = nn.Linear(128, 32)\n",
        "        self.ln4 = nn.Linear(32, 64)\n",
        "        self.ln5 = nn.Linear(64, 32)\n",
        "        self.ln6 = nn.Linear(32, 4)\n",
        "        self.ln7 = nn.Linear(4, out_features)\n",
        "\n",
        "    def forward(self, x):\n",
        "        x = self.ln1(x)\n",
        "        x = F.relu(x)\n",
        "        x = self.ln2(x)\n",
        "        x = F.relu(x)\n",
        "        x = self.ln3(x)\n",
        "        x = F.relu(x)\n",
        "        x = self.ln4(x)\n",
        "        x = F.relu(x)\n",
        "        x = self.ln5(x)\n",
        "        x = F.relu(x)\n",
        "        x = self.ln6(x)\n",
        "        x = F.relu(x)\n",
        "        x = self.ln7(x)\n",
        "        return x"
      ],
      "execution_count": 0,
      "outputs": []
    },
    {
      "cell_type": "code",
      "metadata": {
        "id": "_qwTPkn83jED",
        "colab_type": "code",
        "outputId": "32c59556-011b-40ae-ed97-8a341ce54cd8",
        "colab": {
          "base_uri": "https://localhost:8080/",
          "height": 404
        }
      },
      "source": [
        "#分析8 DeepLearning\n",
        "# NumPyのarryをtorch.tensor型に変換する。\n",
        "\n",
        "X_train, X_test, y_train, y_test = train_test_split(\n",
        "    X, y, test_size=0.2, random_state=1234)\n",
        "\n",
        "X_train_tensor = torch.tensor(X_train, dtype=torch.float32)\n",
        "y_train_tensor = torch.tensor(y_train, dtype=torch.float32)\n",
        "X_test_tensor = torch.tensor(X_test, dtype=torch.float32)\n",
        "y_test_tensor = torch.tensor(y_test, dtype=torch.float32)\n",
        "\n",
        "train_dataset = TensorDataset(X_train_tensor, y_train_tensor)\n",
        "train_loader = DataLoader(train_dataset, batch_size=100, shuffle=True)\n",
        "\n",
        "#ネットワークを書く\n",
        "net = myMLP(300,1)\n",
        "net.parameters\n",
        "\n",
        "#目的関数を指定（今回は回帰問題のためMSELoss()を使用する）\n",
        "#https://pytorch.org/docs/stable/nn.html#loss-functions\n",
        "loss_func = nn.MSELoss()\n",
        "#Optimizerを定義する\n",
        "#https://pytorch.org/docs/stable/optim.html\n",
        "optimizer = optim.RMSprop(net.parameters())\n",
        "  \n",
        "train_loss_track = []\n",
        "test_loss_track = []\n",
        "\n",
        "for epoc in range(10):\n",
        "    running_loss = 0\n",
        "    \n",
        "    # 学習モード\n",
        "    net.train()\n",
        "    for step, (xx, yy)  in enumerate(train_loader):\n",
        "        \n",
        "        # 最後に計算した各パラメーターの勾配を初期化する\n",
        "        optimizer.zero_grad()\n",
        "        \n",
        "        # フォワード計算を行う\n",
        "        y_pred = net(xx).float()\n",
        "        \n",
        "        # 誤差関数を使ってギャップの計測\n",
        "        loss = loss_func(y_pred, yy)\n",
        "      \n",
        "        # 誤差逆伝播法を使って自動微分\n",
        "        loss.backward()\n",
        "        \n",
        "        # パラメーターを更新\n",
        "        optimizer.step()\n",
        "        \n",
        "        # 学習データを使って誤差を計算\n",
        "        running_loss += loss.item()\n",
        "        \n",
        "    # エポックが終了したら平均誤差を計算\n",
        "    train_loss_track.append(running_loss/step)\n",
        "    \n",
        "    \n",
        "    #評価（evaluation）モード\n",
        "    net.eval()\n",
        "    \n",
        "    # 予測値を計算\n",
        "    y_pred = net(X_test_tensor)\n",
        "    \n",
        "    # 誤差関数を計算\n",
        "    test_loss = loss_func(y_pred, y_test_tensor)\n",
        "    \n",
        "    # 誤差をトラッキング\n",
        "    test_loss_track.append(test_loss)\n",
        "\n",
        "\n",
        "\n",
        "plt.plot(train_loss_track)\n",
        "plt.plot(test_loss_track)\n",
        "print(\"test_loss: \",sum(test_loss_track)/len(test_loss_track))"
      ],
      "execution_count": 42,
      "outputs": [
        {
          "output_type": "stream",
          "text": [
            "/usr/local/lib/python3.6/dist-packages/torch/nn/modules/loss.py:432: UserWarning: Using a target size (torch.Size([100])) that is different to the input size (torch.Size([100, 1])). This will likely lead to incorrect results due to broadcasting. Please ensure they have the same size.\n",
            "  return F.mse_loss(input, target, reduction=self.reduction)\n",
            "/usr/local/lib/python3.6/dist-packages/torch/nn/modules/loss.py:432: UserWarning: Using a target size (torch.Size([57])) that is different to the input size (torch.Size([57, 1])). This will likely lead to incorrect results due to broadcasting. Please ensure they have the same size.\n",
            "  return F.mse_loss(input, target, reduction=self.reduction)\n",
            "/usr/local/lib/python3.6/dist-packages/torch/nn/modules/loss.py:432: UserWarning: Using a target size (torch.Size([165])) that is different to the input size (torch.Size([165, 1])). This will likely lead to incorrect results due to broadcasting. Please ensure they have the same size.\n",
            "  return F.mse_loss(input, target, reduction=self.reduction)\n"
          ],
          "name": "stderr"
        },
        {
          "output_type": "stream",
          "text": [
            "test_loss:  tensor(0.0001, grad_fn=<DivBackward0>)\n"
          ],
          "name": "stdout"
        },
        {
          "output_type": "display_data",
          "data": {
            "image/png": "[encoded data removed]",
            "text/plain": [
              "<Figure size 432x288 with 1 Axes>"
            ]
          },
          "metadata": {
            "tags": [],
            "needs_background": "light"
          }
        }
      ]
    },
    {
      "cell_type": "code",
      "metadata": {
        "id": "Zs3RyM14_Was",
        "colab_type": "code",
        "outputId": "79e5c25f-f0e9-41cc-c601-5d24d1a33993",
        "colab": {
          "base_uri": "https://localhost:8080/",
          "height": 537
        }
      },
      "source": [
        "#分析9　TFIDFを用いたランダムフォレスト\n",
        "\n",
        "#形態素解析のデータセットを作る\n",
        "#https://qiita.com/tomone_hata/items/67e7f9415dbf5c8ff8ba\n",
        "\n",
        "from sklearn.feature_extraction.text import CountVectorizer, TfidfTransformer\n",
        "\n",
        "#形態素解析のデータセットを作る\n",
        "#文章を全部１つのリストに入れる→TFIDFを作る→それぞれの日付に出てくる単語をKeyにTFIDFの値を取ってくる\n",
        "\n",
        "data_keitaiso = pd.read_csv(\"s&p_tweets.csv\")\n",
        "tweet_keitaiso=[]\n",
        "\n",
        "for tweet in data_keitaiso[\"text\"]:\n",
        "  tweet = re.sub(r'^RT[\\s]+', '', tweet)\n",
        "  tweet = re.sub(r'(http|https):\\/\\/.*[\\r\\n]*', '', tweet)\n",
        "  tweet = re.sub(r'#', '', tweet)\n",
        "  tweet = tweet.translate(str.maketrans('', '', string.punctuation)) \n",
        "  tweet_keitaiso.append(tweet)\n",
        "\n",
        "corpus = tweet_keitaiso         \n",
        "cv = CountVectorizer(token_pattern=r\"\\b\\w+\\b\")\n",
        "wc = cv.fit_transform(corpus)\n",
        "ttf = TfidfTransformer()\n",
        "tfidf = ttf.fit_transform(wc)\n",
        "\n",
        "#蜜行列に変更する\n",
        "X_tfidf = tfidf.toarray()\n",
        "\n",
        "data3 = pd.DataFrame(X_tfidf)\n",
        "df_tweets_tfidf =  pd.concat([data_keitaiso, data3], axis=1)\n",
        "\n",
        "df = df_tweets_tfidf.groupby([\"date\"]).mean()\n",
        "df_sp = pd.read_csv(\"/content/sp500-10-year-daily-chart.csv\")\n",
        "df_sp[\"log\"] = np.log(df_sp[\" value\"])\n",
        "df_sp[\"dif_log\"] = df_sp[\"log\"].diff()\n",
        "df2=pd.merge(df_sp, df, how=\"inner\" ,on=\"date\")\n",
        "df2 = df2.drop(\" value\", axis=1)\n",
        "df3 = df_tweets_tfidf[[\"date\",\"text\"]]\n",
        "df3 = df3.groupby([\"date\"]).count()\n",
        "df_tfidf = pd.merge( df3, df2, how=\"inner\" ,on=\"date\")\n",
        "df_tfidf[\"date\"] = pd.to_datetime(df4['date']).astype('int64')\n",
        "\n",
        "from sklearn.model_selection import train_test_split\n",
        "\n",
        "target_col = 'dif_log'\n",
        "exclude_cols = ['log', 'price', 'dif_log', \"date\",\"text\"]\n",
        "feature_cols = []\n",
        "for col in df_tfidf.columns:\n",
        "    if col not in exclude_cols:\n",
        "        feature_cols.append(col)\n",
        "        \n",
        "X2 = np.array(df_tfidf[feature_cols])\n",
        "y2 = np.array(df_tfidf[target_col])\n",
        "\n",
        "X２_train_val, X２_test, y２_train_val, y２_test = train_test_split(\n",
        "    X２, y２, test_size=0.1, random_state=1234)\n",
        "\n",
        "X２_train, X２_val, y２_train, y２_val = train_test_split(\n",
        "    X２_train_val, y２_train_val, test_size=0.1, random_state=1234)\n",
        "\n",
        "#分析\n",
        "from sklearn.ensemble import RandomForestRegressor\n",
        "\n",
        "rf = RandomForestRegressor(n_estimators=100, random_state=1234)\n",
        "rf.fit(X２_train, y２_train)\n",
        "y２_pred = rf.predict(X２_val)\n",
        "rf_mse_2 = mean_squared_error(y２_val, y２_pred)\n",
        "print('RandomForestRegressor RMSE: ', round(np.sqrt(rf_mse_2), 3))\n",
        "\n",
        "#プロット\n",
        "rf_importances = pd.DataFrame(rf.feature_importances_, columns=['importance'], index=feature_cols)\n",
        "rf_importances.sort_values('importance', ascending=False).iloc[0:15].plot(kind='barh')\n",
        "\n",
        "#列名をゲット\n",
        "#https://note.nkmk.me/python-dict-get-key-from-value/\n",
        "\n",
        "voca = cv.vocabulary_\n",
        "\n",
        "def get_keys_from_value(d, val):\n",
        "    return [k for k, v in d.items() if v == val]\n",
        "\n",
        "for i in rf_importances.sort_values('importance', ascending=False).iloc[0:15].index:\n",
        "  keys = get_keys_from_value(voca, i)\n",
        "  print(keys)\n",
        "# ['key1', 'key2']"
      ],
      "execution_count": 43,
      "outputs": [
        {
          "output_type": "stream",
          "text": [
            "RandomForestRegressor RMSE:  0.016\n",
            "['confident']\n",
            "['coronavirus']\n",
            "['declare']\n",
            "['nationwide']\n",
            "['duly']\n",
            "['spreading']\n",
            "['covid19']\n",
            "['practice']\n",
            "['cutter']\n",
            "['outbreak']\n",
            "['545']\n",
            "['prevail']\n",
            "['billcassidy']\n",
            "['restaurants']\n",
            "['jack']\n"
          ],
          "name": "stdout"
        },
        {
          "output_type": "display_data",
          "data": {
            "image/png": "[encoded data removed]",
            "text/plain": [
              "<Figure size 432x288 with 1 Axes>"
            ]
          },
          "metadata": {
            "tags": [],
            "needs_background": "light"
          }
        }
      ]
    },
    {
      "cell_type": "code",
      "metadata": {
        "id": "3fRvcdNFclQU",
        "colab_type": "code",
        "outputId": "8d982895-20fe-442c-a53a-bca5af728464",
        "colab": {
          "base_uri": "https://localhost:8080/",
          "height": 404
        }
      },
      "source": [
        "#分析10　形態素解析でDeepLearning\n",
        "\n",
        "X2_train, X2_test, y2_train, y2_test = train_test_split(\n",
        "    X２, y2, test_size=0.2, random_state=1234)\n",
        "\n",
        "X2_train_tensor = torch.tensor(X2_train, dtype=torch.float32)\n",
        "y2_train_tensor = torch.tensor(y2_train, dtype=torch.float32)\n",
        "X2_test_tensor = torch.tensor(X2_test, dtype=torch.float32)\n",
        "y2_test_tensor = torch.tensor(y2_test, dtype=torch.float32)\n",
        "\n",
        "train2_dataset = TensorDataset(X2_train_tensor, y2_train_tensor)\n",
        "train2_loader = DataLoader(train2_dataset, batch_size=100, shuffle=True)\n",
        "\n",
        "#ネットワークを書く\n",
        "net = myMLP(16493,1)\n",
        "net.parameters\n",
        "\n",
        "#目的関数を指定（今回は回帰問題のためMSELoss()を使用する）\n",
        "#https://pytorch.org/docs/stable/nn.html#loss-functions\n",
        "loss_func = nn.MSELoss()\n",
        "#Optimizerを定義する\n",
        "#https://pytorch.org/docs/stable/optim.html\n",
        "optimizer = optim.RMSprop(net.parameters())\n",
        "  \n",
        "train_loss_track = []\n",
        "test_loss_track = []\n",
        "\n",
        "for epoc in range(10):\n",
        "    running_loss = 0\n",
        "    \n",
        "    # 学習モード\n",
        "    net.train()\n",
        "    for step, (xx, yy)  in enumerate(train2_loader):\n",
        "        \n",
        "        # 最後に計算した各パラメーターの勾配を初期化する\n",
        "        optimizer.zero_grad()\n",
        "        \n",
        "        # フォワード計算を行う\n",
        "        y_pred = net(xx).float()\n",
        "        \n",
        "        # 誤差関数を使ってギャップの計測\n",
        "        loss = loss_func(y_pred, yy)\n",
        "      \n",
        "        # 誤差逆伝播法を使って自動微分\n",
        "        loss.backward()\n",
        "        \n",
        "        # パラメーターを更新\n",
        "        optimizer.step()\n",
        "        \n",
        "        # 学習データを使って誤差を計算\n",
        "        running_loss += loss.item()\n",
        "        \n",
        "    # エポックが終了したら平均誤差を計算\n",
        "    train_loss_track.append(running_loss/step)\n",
        "    \n",
        "    \n",
        "    #評価（evaluation）モード\n",
        "    net.eval()\n",
        "    \n",
        "    # 予測値を計算\n",
        "    y_pred = net(X2_test_tensor)\n",
        "    \n",
        "    # 誤差関数を計算\n",
        "    test_loss = loss_func(y_pred, y2_test_tensor)\n",
        "    \n",
        "    # 誤差をトラッキング\n",
        "    test_loss_track.append(test_loss)\n",
        "\n",
        "\n",
        "\n",
        "plt.plot(train_loss_track)\n",
        "plt.plot(test_loss_track)\n",
        "print(\"test_loss: \",sum(test_loss_track)/len(test_loss_track))"
      ],
      "execution_count": 44,
      "outputs": [
        {
          "output_type": "stream",
          "text": [
            "/usr/local/lib/python3.6/dist-packages/torch/nn/modules/loss.py:432: UserWarning: Using a target size (torch.Size([100])) that is different to the input size (torch.Size([100, 1])). This will likely lead to incorrect results due to broadcasting. Please ensure they have the same size.\n",
            "  return F.mse_loss(input, target, reduction=self.reduction)\n",
            "/usr/local/lib/python3.6/dist-packages/torch/nn/modules/loss.py:432: UserWarning: Using a target size (torch.Size([57])) that is different to the input size (torch.Size([57, 1])). This will likely lead to incorrect results due to broadcasting. Please ensure they have the same size.\n",
            "  return F.mse_loss(input, target, reduction=self.reduction)\n",
            "/usr/local/lib/python3.6/dist-packages/torch/nn/modules/loss.py:432: UserWarning: Using a target size (torch.Size([165])) that is different to the input size (torch.Size([165, 1])). This will likely lead to incorrect results due to broadcasting. Please ensure they have the same size.\n",
            "  return F.mse_loss(input, target, reduction=self.reduction)\n"
          ],
          "name": "stderr"
        },
        {
          "output_type": "stream",
          "text": [
            "test_loss:  tensor(0.0007, grad_fn=<DivBackward0>)\n"
          ],
          "name": "stdout"
        },
        {
          "output_type": "display_data",
          "data": {
            "image/png": "[encoded data removed]",
            "text/plain": [
              "<Figure size 432x288 with 1 Axes>"
            ]
          },
          "metadata": {
            "tags": [],
            "needs_background": "light"
          }
        }
      ]
    },
    {
      "cell_type": "code",
      "metadata": {
        "id": "bUApNSsf5GmF",
        "colab_type": "code",
        "outputId": "7a9001d4-8ec3-4abb-ea4a-fbd735a63a1c",
        "colab": {
          "base_uri": "https://localhost:8080/",
          "height": 85
        }
      },
      "source": [
        "#分析11 アンサンブル学習\n",
        "# https://blog.ikedaosushi.com/entry/2018/10/21/204842?t=0\n",
        "\n",
        "random_state = 1234\n",
        "\n",
        "X_train_valid, X_meta_valid, y_train_valid, y_meta_valid = train_test_split(X, y, test_size=0.1, random_state=random_state)\n",
        "X_train, X_valid, y_train, y_valid = train_test_split(X_train_valid, y_train_valid, test_size=0.1, random_state=random_state)\n",
        "\n",
        "import lightgbm as lgb\n",
        "import sklearn\n",
        "from sklearn.linear_model import LinearRegression\n",
        "from sklearn.model_selection import train_test_split\n",
        "from sklearn.metrics import mean_squared_error\n",
        "from sklearn.neighbors import KNeighborsRegressor\n",
        "from lightgbm import LGBMRegressor\n",
        "\n",
        "# train base model\n",
        "base_model_1 = LinearRegression()\n",
        "base_model_2 = LGBMRegressor()\n",
        "base_model_3 = KNeighborsRegressor()\n",
        "\n",
        "base_model_1.fit(X_train, y_train)\n",
        "base_model_2.fit(X_train, y_train)\n",
        "base_model_3.fit(X_train, y_train)\n",
        "\n",
        "# base predicts\n",
        "base_pred_1 = base_model_1.predict(X_valid)\n",
        "base_pred_2 = base_model_2.predict(X_valid)\n",
        "base_pred_3 = base_model_3.predict(X_valid)\n",
        "\n",
        "# test predicts for final result \n",
        "valid_pred_1 = base_model_1.predict(X_meta_valid)\n",
        "valid_pred_2 = base_model_2.predict(X_meta_valid)\n",
        "valid_pred_3 = base_model_3.predict(X_meta_valid)\n",
        "\n",
        "print (\"mean squared error of model 1: {:.4f}\".format(mean_squared_error(y_meta_valid, valid_pred_1)) )\n",
        "print (\"mean squared error of model 2: {:.4f}\".format(mean_squared_error(y_meta_valid, valid_pred_2)) )\n",
        "print (\"mean squared error of model 3: {:.4f}\".format(mean_squared_error(y_meta_valid, valid_pred_3)) )\n",
        "\n",
        "# stack base predicts for training meta model\n",
        "stacked_predictions = np.column_stack((base_pred_1, base_pred_2, base_pred_3))\n",
        "\n",
        "# stack test predicts for final result \n",
        "stacked_valid_predictions = np.column_stack((valid_pred_1, valid_pred_2, valid_pred_3))\n",
        "\n",
        "# train meta model \n",
        "meta_model = LinearRegression()\n",
        "meta_model.fit(stacked_predictions, y_valid)\n",
        "\n",
        "# final result \n",
        "meta_valid_pred = meta_model.predict(stacked_valid_predictions)\n",
        "print (\"mean squared error of meta model: {:.4f}\".format(mean_squared_error(y_meta_valid, meta_valid_pred)) )\n"
      ],
      "execution_count": 45,
      "outputs": [
        {
          "output_type": "stream",
          "text": [
            "mean squared error of model 1: 0.0003\n",
            "mean squared error of model 2: 0.0001\n",
            "mean squared error of model 3: 0.0002\n",
            "mean squared error of meta model: 0.0002\n"
          ],
          "name": "stdout"
        }
      ]
    },
    {
      "cell_type": "code",
      "metadata": {
        "id": "pcp2tIVEfTGo",
        "colab_type": "code",
        "colab": {}
      },
      "source": [
        "#上手くいってない\n",
        "#分析6 Doc2Vecでツイートをクラスタリングする①\n",
        "#https://qiita.com/g-k/items/5ea94c13281f675302ca\n",
        "\n",
        "#from gensim.models.doc2vec import Doc2Vec, TaggedDocument\n",
        "#from gensim import models\n",
        "\n",
        "#documents = [TaggedDocument(doc, [i]) for i, doc in enumerate(sentences)]\n",
        "#model = Doc2Vec(documents, vector_size=300, window=5, min_count=1, workers=4)\n",
        "#model.save(\"doc2_w2v.model\")"
      ],
      "execution_count": 0,
      "outputs": []
    },
    {
      "cell_type": "code",
      "metadata": {
        "id": "Ge2VGRbHfTGr",
        "colab_type": "code",
        "colab": {}
      },
      "source": [
        "#上手くいってない\n",
        "#分析6 Doc2Vecでツイートをクラスタリングする②\n",
        "#https://qiita.com/naotaka1128/items/e617f63907fed035408a\n",
        "\n",
        "#model = models.Doc2Vec.load('/content/doc2_w2v.model')\n",
        "\n",
        "from sklearn.decomposition import PCA\n",
        "import matplotlib.pyplot as plt\n",
        "\n",
        "def draw_word_scatter(word, topn=30):\n",
        "    \"\"\" 入力されたwordに似ている単語の分布図を描くためのメソッド \"\"\"\n",
        "\n",
        "    # 似ている単語を求めるためにはGensim word2vecの以下の機能を利用\n",
        "    # model.most_similar(word, topn=topn)\n",
        "    words = [x[0] for x in sorted(model.most_similar(word, topn=topn))]\n",
        "    words.append(word)\n",
        "\n",
        "    # 各単語のベクトル表現を求めます。Gensimのmost_similarをベースとして\n",
        "    # 単語のベクトルを返すメソッド(model.calc_vec)を定義しています\n",
        "    # 長くなるので実装は本稿の末尾に記載しました。\n",
        "    vecs = [model.calc_vec(word) for word in words]\n",
        "\n",
        "    # 分布図\n",
        "    draw_scatter_plot(vecs, words)\n",
        "\n",
        "def draw_scatter_plot(vecs, tags, clusters):\n",
        "    \"\"\" 入力されたベクトルに基づき散布図(ラベル付き)を描くためのメソッド \"\"\"\n",
        "\n",
        "    # Scikit-learnのPCAによる次元削減とその可視化\n",
        "    pca = PCA(n_components=2)\n",
        "    coords = pca.fit_transform(vecs)\n",
        "\n",
        "    # matplotlibによる可視化\n",
        "    fig, ax = plt.subplots()\n",
        "    x = [v[0] for v in coords]\n",
        "    y = [v[1] for v in coords]\n",
        "\n",
        "    # 各点のクラスターが設定されていればクラスタを考慮\n",
        "    # エラーハンドリングは適当\n",
        "    if clusters:\n",
        "        ax.scatter(x, y, c=clusters)\n",
        "    else:\n",
        "        ax.scatter(x, y)\n",
        "\n",
        "    for i, txt in enumerate(tags):\n",
        "        ax.annotate(txt, (coords[i][0], coords[i][1]))\n",
        "    plt.show()\n",
        "    \n",
        "#draw_word_scatter('coronavirus', topn=40)"
      ],
      "execution_count": 0,
      "outputs": []
    },
    {
      "cell_type": "code",
      "metadata": {
        "id": "o9aiwySJh-Kg",
        "colab_type": "code",
        "colab": {}
      },
      "source": [
        "#　まだできていない\n",
        "# モデルの精度を確認する\n",
        "# https://note.com/uki_profit/n/nab22a04262f9"
      ],
      "execution_count": 0,
      "outputs": []
    }
  ]
}