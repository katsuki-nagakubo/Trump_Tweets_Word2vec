{
  "nbformat": 4,
  "nbformat_minor": 0,
  "metadata": {
    "kernelspec": {
      "display_name": "Python 3",
      "language": "python",
      "name": "python3"
    },
    "language_info": {
      "codemirror_mode": {
        "name": "ipython",
        "version": 3
      },
      "file_extension": ".py",
      "mimetype": "text/x-python",
      "name": "python",
      "nbconvert_exporter": "python",
      "pygments_lexer": "ipython3",
      "version": "3.7.4"
    },
    "colab": {
      "name": "trump_tweets_s&p500_relation.ipynb ",
      "provenance": [],
      "collapsed_sections": [],
      "include_colab_link": true
    }
  },
  "cells": [
    {
      "cell_type": "markdown",
      "metadata": {
        "id": "view-in-github",
        "colab_type": "text"
      },
      "source": [
        "<a href=\"https://colab.research.google.com/github/katsuki-nagakubo/Tweets_Word2vec/blob/master/trump_tweets_s%26p500_relation.ipynb\" target=\"_parent\"><img src=\"https://colab.research.google.com/assets/colab-badge.svg\" alt=\"Open In Colab\"/></a>"
      ]
    },
    {
      "cell_type": "code",
      "metadata": {
        "id": "5TBDVbUQfTEM",
        "colab_type": "code",
        "colab": {}
      },
      "source": [
        "#データの取得と成形\n",
        "\n",
        "import pandas as pd\n",
        "import numpy as np\n",
        "import matplotlib.pyplot as plt "
      ],
      "execution_count": 0,
      "outputs": []
    },
    {
      "cell_type": "code",
      "metadata": {
        "id": "0etwSm9DfTEU",
        "colab_type": "code",
        "outputId": "76e6da55-ce8e-45e3-90c6-9f7198f95340",
        "colab": {
          "base_uri": "https://localhost:8080/",
          "height": 34
        }
      },
      "source": [
        "#https://teratail.com/questions/128725\n",
        "\n",
        "from ast import literal_eval\n",
        "from pprint import pprint\n",
        "\n",
        "f = open('/content/trump_tweets.txt', 'r')\n",
        "text = f.read()\n",
        "mylist = literal_eval(text)\n",
        "\n",
        "print(type(mylist), type(mylist[0]))"
      ],
      "execution_count": 2,
      "outputs": [
        {
          "output_type": "stream",
          "text": [
            "<class 'list'> <class 'dict'>\n"
          ],
          "name": "stdout"
        }
      ]
    },
    {
      "cell_type": "code",
      "metadata": {
        "id": "e2D_Z2KUfTEY",
        "colab_type": "code",
        "outputId": "1101cd52-4c43-4526-a96b-8d138d562a7d",
        "colab": {
          "base_uri": "https://localhost:8080/",
          "height": 34
        }
      },
      "source": [
        "df_text=[]\n",
        "df_created_at=[]\n",
        "df_id_str=[]\n",
        "\n",
        "print(len(mylist),\"tweets\")\n",
        "\n",
        "for i in range(len(mylist)):\n",
        "    text = mylist[i][\"text\"]\n",
        "    created_at = mylist[i][\"created_at\"]\n",
        "    id_str = mylist[i][\"id_str\"]\n",
        "    df_text.append(text)\n",
        "    df_created_at.append(created_at)\n",
        "    df_id_str.append(id_str)\n",
        "\n",
        "tweet_list=[df_created_at,df_id_str,df_text]\n",
        "#print(tweet_list)"
      ],
      "execution_count": 3,
      "outputs": [
        {
          "output_type": "stream",
          "text": [
            "17544 tweets\n"
          ],
          "name": "stdout"
        }
      ]
    },
    {
      "cell_type": "code",
      "metadata": {
        "id": "FfVe8YhPfTEc",
        "colab_type": "code",
        "colab": {}
      },
      "source": [
        "#https://ai-inter1.com/pandas-dataframe_basic/\n",
        "#リスト型にしたデータをPandasでDataFrameにした\n",
        "\n",
        "columns1=[\"created_at\"]\n",
        "tweet_data = pd.DataFrame( data = df_created_at, columns = columns1)\n",
        "tweet_data[\"id\"]=df_id_str\n",
        "tweet_data[\"text\"] = df_text"
      ],
      "execution_count": 0,
      "outputs": []
    },
    {
      "cell_type": "code",
      "metadata": {
        "id": "njrdAvuzfTEf",
        "colab_type": "code",
        "colab": {}
      },
      "source": [
        "#https://teratail.com/questions/132333\n",
        "#https://note.nkmk.me/python-pandas-datetime-timestamp/\n",
        "\n",
        "tweet_data[\"time_created_at\"] = pd.to_datetime(tweet_data['created_at'])\n",
        "tweet_data[\"date_created_at\"] = tweet_data[\"time_created_at\"].dt.date\n",
        "tweet_data[\"key\"]=pd.to_datetime(tweet_data[\"date_created_at\"])"
      ],
      "execution_count": 0,
      "outputs": []
    },
    {
      "cell_type": "code",
      "metadata": {
        "id": "iZi3fq8nfTEj",
        "colab_type": "code",
        "colab": {}
      },
      "source": [
        "# https://www.macrotrends.net/2488/sp500-10-year-daily-chart\n",
        "\n",
        "sp_data = pd.read_csv('/content/sp500-10-year-daily-chart.csv')\n",
        "sp_data[\"date_64\"] = pd.to_datetime(sp_data[\"date\"])\n",
        "sp_data[\"key\"] =sp_data[\"date_64\"] "
      ],
      "execution_count": 0,
      "outputs": []
    },
    {
      "cell_type": "code",
      "metadata": {
        "id": "Lb8q3TCTfTEn",
        "colab_type": "code",
        "outputId": "97588178-4adf-4e9f-8516-9c650ec8aa39",
        "colab": {
          "base_uri": "https://localhost:8080/",
          "height": 204
        }
      },
      "source": [
        "#内部結合\n",
        "#http://pppurple.hatenablog.com/entry/2016/06/27/022310#inner-join\n",
        "#https://note.nkmk.me/python-pandas-merge-join/\n",
        "\n",
        "tweet_data=pd.merge(tweet_data, sp_data)\n",
        "tweet_data.columns\n",
        "data = tweet_data[[\"key\",\" value\",\"text\"]]\n",
        "\n",
        "#行の名前を変更する　20200505\n",
        "data = data.rename(columns={\"key\": \"date\",\" value\":\"price\"})\n",
        "data.head()"
      ],
      "execution_count": 7,
      "outputs": [
        {
          "output_type": "execute_result",
          "data": {
            "text/html": [
              "<div>\n",
              "<style scoped>\n",
              "    .dataframe tbody tr th:only-of-type {\n",
              "        vertical-align: middle;\n",
              "    }\n",
              "\n",
              "    .dataframe tbody tr th {\n",
              "        vertical-align: top;\n",
              "    }\n",
              "\n",
              "    .dataframe thead th {\n",
              "        text-align: right;\n",
              "    }\n",
              "</style>\n",
              "<table border=\"1\" class=\"dataframe\">\n",
              "  <thead>\n",
              "    <tr style=\"text-align: right;\">\n",
              "      <th></th>\n",
              "      <th>date</th>\n",
              "      <th>price</th>\n",
              "      <th>text</th>\n",
              "    </tr>\n",
              "  </thead>\n",
              "  <tbody>\n",
              "    <tr>\n",
              "      <th>0</th>\n",
              "      <td>2020-05-01</td>\n",
              "      <td>2830.71</td>\n",
              "      <td>RT @StevenTDennis: Trump gets bump in latest G...</td>\n",
              "    </tr>\n",
              "    <tr>\n",
              "      <th>1</th>\n",
              "      <td>2020-05-01</td>\n",
              "      <td>2830.71</td>\n",
              "      <td>The Governor of Michigan should give a little,...</td>\n",
              "    </tr>\n",
              "    <tr>\n",
              "      <th>2</th>\n",
              "      <td>2020-05-01</td>\n",
              "      <td>2830.71</td>\n",
              "      <td>Cryin Chuck Schumer, compared to what other Se...</td>\n",
              "    </tr>\n",
              "    <tr>\n",
              "      <th>3</th>\n",
              "      <td>2020-05-01</td>\n",
              "      <td>2830.71</td>\n",
              "      <td>Cryin’ Chuck Schumer was on a late night show ...</td>\n",
              "    </tr>\n",
              "    <tr>\n",
              "      <th>4</th>\n",
              "      <td>2020-05-01</td>\n",
              "      <td>2830.71</td>\n",
              "      <td>RT @TeamTrump: President @realDonaldTrump: “We...</td>\n",
              "    </tr>\n",
              "  </tbody>\n",
              "</table>\n",
              "</div>"
            ],
            "text/plain": [
              "        date    price                                               text\n",
              "0 2020-05-01  2830.71  RT @StevenTDennis: Trump gets bump in latest G...\n",
              "1 2020-05-01  2830.71  The Governor of Michigan should give a little,...\n",
              "2 2020-05-01  2830.71  Cryin Chuck Schumer, compared to what other Se...\n",
              "3 2020-05-01  2830.71  Cryin’ Chuck Schumer was on a late night show ...\n",
              "4 2020-05-01  2830.71  RT @TeamTrump: President @realDonaldTrump: “We..."
            ]
          },
          "metadata": {
            "tags": []
          },
          "execution_count": 7
        }
      ]
    },
    {
      "cell_type": "code",
      "metadata": {
        "id": "RbtHgL9gfTEr",
        "colab_type": "code",
        "outputId": "4526ee3b-0e4f-461a-f797-e0d46bb3b0cf",
        "colab": {
          "base_uri": "https://localhost:8080/",
          "height": 34
        }
      },
      "source": [
        "# trumpが大統領になった2017年1月20日から、GW前2020年5月1日までのデータを分析する\n",
        "# https://qiita.com/mSpring/items/6ec1ab28dcb261db2c73\n",
        "\n",
        "import datetime as dt\n",
        "data2 = data[(data['date'] >= dt.datetime(2017,1,20)) & (data['date'] <= dt.datetime(2020,5,1))]\n",
        "print( \"2017/01/20 - 2020/05/01のツイート数は\", len(data2))"
      ],
      "execution_count": 8,
      "outputs": [
        {
          "output_type": "stream",
          "text": [
            "2017/01/20 - 2020/05/01のツイート数は 12259\n"
          ],
          "name": "stdout"
        }
      ]
    },
    {
      "cell_type": "code",
      "metadata": {
        "id": "5uWu1eYpfTEv",
        "colab_type": "code",
        "colab": {}
      },
      "source": [
        "#新しいデータを追加すると上書き保存されるようにmode=\"a\"にした。\n",
        "\n",
        "#初回だけ,headerはTrue\n",
        "data2.to_csv(\"s&p_tweets.csv\", index=False, mode='a', header=True)\n",
        "#2回目以降はFalse\n",
        "#data2.to_csv(\"s&p_tweets.csv\", index=False, mode='a', header=False)"
      ],
      "execution_count": 0,
      "outputs": []
    },
    {
      "cell_type": "code",
      "metadata": {
        "id": "nJcHtQApfTEy",
        "colab_type": "code",
        "outputId": "d8d8b742-4348-4c75-9fa2-8b9f0706b680",
        "colab": {
          "base_uri": "https://localhost:8080/",
          "height": 34
        }
      },
      "source": [
        "# Fileを読み込むことで最新のデータで分析できる\n",
        "\n",
        "data = pd.read_csv(\"s&p_tweets.csv\")\n",
        "print( len(data),\"tweets\")"
      ],
      "execution_count": 10,
      "outputs": [
        {
          "output_type": "stream",
          "text": [
            "24519 tweets\n"
          ],
          "name": "stdout"
        }
      ]
    },
    {
      "cell_type": "code",
      "metadata": {
        "id": "UK-gdwmxfTE1",
        "colab_type": "code",
        "outputId": "93220a17-406a-4b94-f931-74bcb6a29806",
        "colab": {
          "base_uri": "https://localhost:8080/",
          "height": 88
        }
      },
      "source": [
        "#形態素解析\n",
        "#https://yottagin.com/?p=4360\n",
        "\n",
        "import nltk\n",
        "nltk.download('stopwords')\n",
        "\n",
        "tweet_tokenizer = nltk.tokenize.TweetTokenizer(preserve_case=False, strip_handles=True, reduce_len=True)\n",
        "for tweet in data[\"text\"][:1]:\n",
        "    print (tweet_tokenizer.tokenize(tweet))"
      ],
      "execution_count": 11,
      "outputs": [
        {
          "output_type": "stream",
          "text": [
            "[nltk_data] Downloading package stopwords to /root/nltk_data...\n",
            "[nltk_data]   Package stopwords is already up-to-date!\n",
            "['rt', ':', 'trump', 'gets', 'bump', 'in', 'latest', 'gallup', 'poll', ':', '49', '%', 'approval', '(', '+', '6', ',', 'tied', 'for', 'his', 'best', ')', '47', '%', 'disapproval', '(', '-', '7', ')']\n"
          ],
          "name": "stdout"
        }
      ]
    },
    {
      "cell_type": "code",
      "metadata": {
        "id": "DrfyzDEAfTE6",
        "colab_type": "code",
        "outputId": "a1f34960-e803-4b81-df31-1bbd617e8b86",
        "colab": {
          "base_uri": "https://localhost:8080/",
          "height": 322
        }
      },
      "source": [
        "words = []\n",
        "for tweet in data[\"text\"]:\n",
        "    words += tweet_tokenizer.tokenize(tweet)\n",
        "\n",
        "fdist = nltk.FreqDist(words)\n",
        "fdist.plot(50)"
      ],
      "execution_count": 12,
      "outputs": [
        {
          "output_type": "display_data",
          "data": {
            "image/png": "[encoded data removed]",
            "text/plain": [
              "<Figure size 432x288 with 1 Axes>"
            ]
          },
          "metadata": {
            "tags": [],
            "needs_background": "light"
          }
        }
      ]
    },
    {
      "cell_type": "code",
      "metadata": {
        "id": "5VLnPp6vfTE-",
        "colab_type": "code",
        "outputId": "e061454e-897a-4438-bfbd-1eecf9862af9",
        "colab": {
          "base_uri": "https://localhost:8080/",
          "height": 359
        }
      },
      "source": [
        "#高頻度のツイートを表示\n",
        "df_fdist = pd.DataFrame(fdist.most_common(10), columns=['Word', 'Frequency'])\n",
        "df_fdist"
      ],
      "execution_count": 13,
      "outputs": [
        {
          "output_type": "execute_result",
          "data": {
            "text/html": [
              "<div>\n",
              "<style scoped>\n",
              "    .dataframe tbody tr th:only-of-type {\n",
              "        vertical-align: middle;\n",
              "    }\n",
              "\n",
              "    .dataframe tbody tr th {\n",
              "        vertical-align: top;\n",
              "    }\n",
              "\n",
              "    .dataframe thead th {\n",
              "        text-align: right;\n",
              "    }\n",
              "</style>\n",
              "<table border=\"1\" class=\"dataframe\">\n",
              "  <thead>\n",
              "    <tr style=\"text-align: right;\">\n",
              "      <th></th>\n",
              "      <th>Word</th>\n",
              "      <th>Frequency</th>\n",
              "    </tr>\n",
              "  </thead>\n",
              "  <tbody>\n",
              "    <tr>\n",
              "      <th>0</th>\n",
              "      <td>the</td>\n",
              "      <td>31008</td>\n",
              "    </tr>\n",
              "    <tr>\n",
              "      <th>1</th>\n",
              "      <td>.</td>\n",
              "      <td>29268</td>\n",
              "    </tr>\n",
              "    <tr>\n",
              "      <th>2</th>\n",
              "      <td>,</td>\n",
              "      <td>28312</td>\n",
              "    </tr>\n",
              "    <tr>\n",
              "      <th>3</th>\n",
              "      <td>to</td>\n",
              "      <td>16344</td>\n",
              "    </tr>\n",
              "    <tr>\n",
              "      <th>4</th>\n",
              "      <td>!</td>\n",
              "      <td>14686</td>\n",
              "    </tr>\n",
              "    <tr>\n",
              "      <th>5</th>\n",
              "      <td>and</td>\n",
              "      <td>14578</td>\n",
              "    </tr>\n",
              "    <tr>\n",
              "      <th>6</th>\n",
              "      <td>of</td>\n",
              "      <td>12330</td>\n",
              "    </tr>\n",
              "    <tr>\n",
              "      <th>7</th>\n",
              "      <td>a</td>\n",
              "      <td>10838</td>\n",
              "    </tr>\n",
              "    <tr>\n",
              "      <th>8</th>\n",
              "      <td>:</td>\n",
              "      <td>9740</td>\n",
              "    </tr>\n",
              "    <tr>\n",
              "      <th>9</th>\n",
              "      <td>in</td>\n",
              "      <td>9014</td>\n",
              "    </tr>\n",
              "  </tbody>\n",
              "</table>\n",
              "</div>"
            ],
            "text/plain": [
              "  Word  Frequency\n",
              "0  the      31008\n",
              "1    .      29268\n",
              "2    ,      28312\n",
              "3   to      16344\n",
              "4    !      14686\n",
              "5  and      14578\n",
              "6   of      12330\n",
              "7    a      10838\n",
              "8    :       9740\n",
              "9   in       9014"
            ]
          },
          "metadata": {
            "tags": []
          },
          "execution_count": 13
        }
      ]
    },
    {
      "cell_type": "code",
      "metadata": {
        "id": "IvFoQ0TrfTFG",
        "colab_type": "code",
        "colab": {}
      },
      "source": [
        "#tokenにする\n",
        "import re\n",
        "import string\n",
        "\n",
        "stemmer = nltk.stem.PorterStemmer()\n",
        "punctuations = string.punctuation\n",
        "all_tweets_clean = []\n",
        "\n",
        "#Tweet毎にリスト形式で保存するための加工\n",
        "result=[]\n",
        "\n",
        "for tweet in data[\"text\"]:\n",
        "    # RTから始まる部分を取り除く。\n",
        "    tweet = re.sub(r'^RT[\\s]+', '', tweet)\n",
        "    # リンクを取り除く。\n",
        "    tweet = re.sub(r'(http|https):\\/\\/.*[\\r\\n]*', '', tweet)\n",
        "    # ハッシュタグを取り除く。\n",
        "    tweet = re.sub(r'#', '', tweet)\n",
        "    # 句読点の削除\n",
        "    tweet = tweet.translate(str.maketrans('', '', string.punctuation)) \n",
        "    # 単語に分解する。\n",
        "    tokenizer = nltk.tokenize.TweetTokenizer(preserve_case=False, strip_handles=True, reduce_len=True)\n",
        "    tweet_tokens = tokenizer.tokenize(tweet)\n",
        "    result.append(tweet_tokens)"
      ],
      "execution_count": 0,
      "outputs": []
    },
    {
      "cell_type": "code",
      "metadata": {
        "id": "jGskML9PfTFK",
        "colab_type": "code",
        "colab": {}
      },
      "source": [
        "stopwords = nltk.corpus.stopwords.words('english')\n",
        "stop_words = [\"→\", \"←\", \"?\", \"」\", \"「\",\"(\",\")\",\"!\",\".\",\",\",\"&\",\"…\",\"%\",\":\",\";\",\"“\"]\n",
        "stopwords += stop_words\n",
        "\n",
        "#print(stopwords)\n",
        "\n",
        "result_2=[]\n",
        "result_3=[]\n",
        "for i in range(len(result)):\n",
        "    for word in result[i]:\n",
        "        if word not in stopwords:\n",
        "            result_2.append(word)\n",
        "    result_3.append(result_2)\n",
        "    result_2=[]"
      ],
      "execution_count": 0,
      "outputs": []
    },
    {
      "cell_type": "code",
      "metadata": {
        "id": "wL2ASq-gfTFO",
        "colab_type": "code",
        "colab": {}
      },
      "source": [
        "#Word2Vec\n",
        "\n",
        "from gensim.models import word2vec"
      ],
      "execution_count": 0,
      "outputs": []
    },
    {
      "cell_type": "code",
      "metadata": {
        "id": "6Ov0af7rfTFQ",
        "colab_type": "code",
        "outputId": "c43e5faf-5af8-4110-a785-2eba843cf6c6",
        "colab": {
          "base_uri": "https://localhost:8080/",
          "height": 272
        }
      },
      "source": [
        "# 対象データをLinseSentence(one sentence = one lineとして扱う)で読み込む\n",
        "\n",
        "sentences = result_3\n",
        "sentences[0]"
      ],
      "execution_count": 17,
      "outputs": [
        {
          "output_type": "execute_result",
          "data": {
            "text/plain": [
              "['steventdennis',\n",
              " 'trump',\n",
              " 'gets',\n",
              " 'bump',\n",
              " 'latest',\n",
              " 'gallup',\n",
              " 'poll',\n",
              " '49',\n",
              " 'approval',\n",
              " '6',\n",
              " 'tied',\n",
              " 'best',\n",
              " '47',\n",
              " 'disapproval',\n",
              " '7']"
            ]
          },
          "metadata": {
            "tags": []
          },
          "execution_count": 17
        }
      ]
    },
    {
      "cell_type": "code",
      "metadata": {
        "id": "9u7fFXncfTFU",
        "colab_type": "code",
        "colab": {}
      },
      "source": [
        "# skip-gramモデルの学習\n",
        "skipgram_model = word2vec.Word2Vec(sentences,\n",
        "                                   sg=1,\n",
        "                                   size=300,\n",
        "                                   min_count=10,\n",
        "                                   window=15, seed=1234)"
      ],
      "execution_count": 0,
      "outputs": []
    },
    {
      "cell_type": "code",
      "metadata": {
        "id": "akHH47YRfTFZ",
        "colab_type": "code",
        "outputId": "ebf132df-f89c-43cb-9716-ca6128d745d8",
        "colab": {
          "base_uri": "https://localhost:8080/",
          "height": 71
        }
      },
      "source": [
        "# 作成したモデルの保存\n",
        "skipgram_model.save(\"skipgram_w2v.model\")\n",
        "# saveしたモデルを読み込む時は\n",
        "#skipgram_model = word2vec.Word2Vec.load(\"skipgram_w2v.model\")"
      ],
      "execution_count": 19,
      "outputs": [
        {
          "output_type": "stream",
          "text": [
            "/usr/local/lib/python3.6/dist-packages/smart_open/smart_open_lib.py:253: UserWarning: This function is deprecated, use smart_open.open instead. See the migration notes for details: https://github.com/RaRe-Technologies/smart_open/blob/master/README.rst#migrating-to-the-new-open-function\n",
            "  'See the migration notes for details: %s' % _MIGRATION_NOTES_URL\n"
          ],
          "name": "stderr"
        }
      ]
    },
    {
      "cell_type": "code",
      "metadata": {
        "id": "ZAO8SIE_fTFc",
        "colab_type": "code",
        "outputId": "967581a8-09f1-4a84-a415-e061897b7288",
        "colab": {
          "base_uri": "https://localhost:8080/",
          "height": 413
        }
      },
      "source": [
        "# coronavirusと似たキーワードを見つけていきます。\n",
        "# ここで記載しているscoreは、単語同士のコサイン類似度です。\n",
        "pd.DataFrame(skipgram_model.wv.most_similar(\n",
        "    positive=[\"coronavirus\"]), columns=[\"keyword\", \"score\"])"
      ],
      "execution_count": 20,
      "outputs": [
        {
          "output_type": "stream",
          "text": [
            "/usr/local/lib/python3.6/dist-packages/gensim/matutils.py:737: FutureWarning: Conversion of the second argument of issubdtype from `int` to `np.signedinteger` is deprecated. In future, it will be treated as `np.int64 == np.dtype(int).type`.\n",
            "  if np.issubdtype(vec.dtype, np.int):\n"
          ],
          "name": "stderr"
        },
        {
          "output_type": "execute_result",
          "data": {
            "text/html": [
              "<div>\n",
              "<style scoped>\n",
              "    .dataframe tbody tr th:only-of-type {\n",
              "        vertical-align: middle;\n",
              "    }\n",
              "\n",
              "    .dataframe tbody tr th {\n",
              "        vertical-align: top;\n",
              "    }\n",
              "\n",
              "    .dataframe thead th {\n",
              "        text-align: right;\n",
              "    }\n",
              "</style>\n",
              "<table border=\"1\" class=\"dataframe\">\n",
              "  <thead>\n",
              "    <tr style=\"text-align: right;\">\n",
              "      <th></th>\n",
              "      <th>keyword</th>\n",
              "      <th>score</th>\n",
              "    </tr>\n",
              "  </thead>\n",
              "  <tbody>\n",
              "    <tr>\n",
              "      <th>0</th>\n",
              "      <td>response</td>\n",
              "      <td>0.726005</td>\n",
              "    </tr>\n",
              "    <tr>\n",
              "      <th>1</th>\n",
              "      <td>task</td>\n",
              "      <td>0.686805</td>\n",
              "    </tr>\n",
              "    <tr>\n",
              "      <th>2</th>\n",
              "      <td>cdc</td>\n",
              "      <td>0.659948</td>\n",
              "    </tr>\n",
              "    <tr>\n",
              "      <th>3</th>\n",
              "      <td>outbreak</td>\n",
              "      <td>0.647401</td>\n",
              "    </tr>\n",
              "    <tr>\n",
              "      <th>4</th>\n",
              "      <td>trumpwarroom</td>\n",
              "      <td>0.632869</td>\n",
              "    </tr>\n",
              "    <tr>\n",
              "      <th>5</th>\n",
              "      <td>distancing</td>\n",
              "      <td>0.623853</td>\n",
              "    </tr>\n",
              "    <tr>\n",
              "      <th>6</th>\n",
              "      <td>nih</td>\n",
              "      <td>0.617176</td>\n",
              "    </tr>\n",
              "    <tr>\n",
              "      <th>7</th>\n",
              "      <td>spread</td>\n",
              "      <td>0.614925</td>\n",
              "    </tr>\n",
              "    <tr>\n",
              "      <th>8</th>\n",
              "      <td>aggressive</td>\n",
              "      <td>0.597702</td>\n",
              "    </tr>\n",
              "    <tr>\n",
              "      <th>9</th>\n",
              "      <td>cdcgov</td>\n",
              "      <td>0.596990</td>\n",
              "    </tr>\n",
              "  </tbody>\n",
              "</table>\n",
              "</div>"
            ],
            "text/plain": [
              "        keyword     score\n",
              "0      response  0.726005\n",
              "1          task  0.686805\n",
              "2           cdc  0.659948\n",
              "3      outbreak  0.647401\n",
              "4  trumpwarroom  0.632869\n",
              "5    distancing  0.623853\n",
              "6           nih  0.617176\n",
              "7        spread  0.614925\n",
              "8    aggressive  0.597702\n",
              "9        cdcgov  0.596990"
            ]
          },
          "metadata": {
            "tags": []
          },
          "execution_count": 20
        }
      ]
    },
    {
      "cell_type": "code",
      "metadata": {
        "id": "KfKYBXI_fTFf",
        "colab_type": "code",
        "colab": {}
      },
      "source": [
        "\"\"\"\n",
        "1. 抽出された各単語を、作成したword2Vecによってベクトル化\n",
        "2. 変換された各単語ベクトルの平均をとり、その結果得られたベクトルを記事のベクトルとする\n",
        "上記2ステップを実行する関数を作成\n",
        "\"\"\"\n",
        "\n",
        "num_features = 300\n",
        "\n",
        "\n",
        "def avg_document_vector(data, num_features):\n",
        "    document_vec = np.zeros((len(data), num_features))\n",
        "    for i, doc_word_list in enumerate(data):\n",
        "        feature_vec = np.zeros((num_features,), dtype=\"float32\")\n",
        "        for word in doc_word_list:\n",
        "            try:\n",
        "                feature_vec = np.add(\n",
        "                    feature_vec, skipgram_model.wv.__getitem__(word))\n",
        "            except:\n",
        "                pass\n",
        "\n",
        "        feature_vec = np.divide(feature_vec, len(doc_word_list))\n",
        "        document_vec[i] = feature_vec\n",
        "    return document_vec"
      ],
      "execution_count": 0,
      "outputs": []
    },
    {
      "cell_type": "code",
      "metadata": {
        "id": "gcoxgMvkfTFh",
        "colab_type": "code",
        "outputId": "df39f77f-1404-43a3-b68b-fc375ee59168",
        "colab": {
          "base_uri": "https://localhost:8080/",
          "height": 51
        }
      },
      "source": [
        "X = avg_document_vector(data=sentences, num_features=300)\n",
        "X.shape"
      ],
      "execution_count": 22,
      "outputs": [
        {
          "output_type": "stream",
          "text": [
            "/usr/local/lib/python3.6/dist-packages/ipykernel_launcher.py:21: RuntimeWarning: invalid value encountered in true_divide\n"
          ],
          "name": "stderr"
        },
        {
          "output_type": "execute_result",
          "data": {
            "text/plain": [
              "(24519, 300)"
            ]
          },
          "metadata": {
            "tags": []
          },
          "execution_count": 22
        }
      ]
    },
    {
      "cell_type": "code",
      "metadata": {
        "id": "PvVmeNp5fTFj",
        "colab_type": "code",
        "outputId": "f1f72f05-ea9a-4dcb-8bfc-fbbc419f49a3",
        "colab": {
          "base_uri": "https://localhost:8080/",
          "height": 474
        }
      },
      "source": [
        "# outer join\n",
        "data2 = pd.DataFrame(X)\n",
        "df_tweets_word2vec =  pd.concat([data, data2], axis=1)\n",
        "df_tweets_word2vec.head()"
      ],
      "execution_count": 23,
      "outputs": [
        {
          "output_type": "execute_result",
          "data": {
            "text/html": [
              "<div>\n",
              "<style scoped>\n",
              "    .dataframe tbody tr th:only-of-type {\n",
              "        vertical-align: middle;\n",
              "    }\n",
              "\n",
              "    .dataframe tbody tr th {\n",
              "        vertical-align: top;\n",
              "    }\n",
              "\n",
              "    .dataframe thead th {\n",
              "        text-align: right;\n",
              "    }\n",
              "</style>\n",
              "<table border=\"1\" class=\"dataframe\">\n",
              "  <thead>\n",
              "    <tr style=\"text-align: right;\">\n",
              "      <th></th>\n",
              "      <th>date</th>\n",
              "      <th>price</th>\n",
              "      <th>text</th>\n",
              "      <th>0</th>\n",
              "      <th>1</th>\n",
              "      <th>2</th>\n",
              "      <th>3</th>\n",
              "      <th>4</th>\n",
              "      <th>5</th>\n",
              "      <th>6</th>\n",
              "      <th>7</th>\n",
              "      <th>8</th>\n",
              "      <th>9</th>\n",
              "      <th>10</th>\n",
              "      <th>11</th>\n",
              "      <th>12</th>\n",
              "      <th>13</th>\n",
              "      <th>14</th>\n",
              "      <th>15</th>\n",
              "      <th>16</th>\n",
              "      <th>17</th>\n",
              "      <th>18</th>\n",
              "      <th>19</th>\n",
              "      <th>20</th>\n",
              "      <th>21</th>\n",
              "      <th>22</th>\n",
              "      <th>23</th>\n",
              "      <th>24</th>\n",
              "      <th>25</th>\n",
              "      <th>26</th>\n",
              "      <th>27</th>\n",
              "      <th>28</th>\n",
              "      <th>29</th>\n",
              "      <th>30</th>\n",
              "      <th>31</th>\n",
              "      <th>32</th>\n",
              "      <th>33</th>\n",
              "      <th>34</th>\n",
              "      <th>35</th>\n",
              "      <th>36</th>\n",
              "      <th>...</th>\n",
              "      <th>260</th>\n",
              "      <th>261</th>\n",
              "      <th>262</th>\n",
              "      <th>263</th>\n",
              "      <th>264</th>\n",
              "      <th>265</th>\n",
              "      <th>266</th>\n",
              "      <th>267</th>\n",
              "      <th>268</th>\n",
              "      <th>269</th>\n",
              "      <th>270</th>\n",
              "      <th>271</th>\n",
              "      <th>272</th>\n",
              "      <th>273</th>\n",
              "      <th>274</th>\n",
              "      <th>275</th>\n",
              "      <th>276</th>\n",
              "      <th>277</th>\n",
              "      <th>278</th>\n",
              "      <th>279</th>\n",
              "      <th>280</th>\n",
              "      <th>281</th>\n",
              "      <th>282</th>\n",
              "      <th>283</th>\n",
              "      <th>284</th>\n",
              "      <th>285</th>\n",
              "      <th>286</th>\n",
              "      <th>287</th>\n",
              "      <th>288</th>\n",
              "      <th>289</th>\n",
              "      <th>290</th>\n",
              "      <th>291</th>\n",
              "      <th>292</th>\n",
              "      <th>293</th>\n",
              "      <th>294</th>\n",
              "      <th>295</th>\n",
              "      <th>296</th>\n",
              "      <th>297</th>\n",
              "      <th>298</th>\n",
              "      <th>299</th>\n",
              "    </tr>\n",
              "  </thead>\n",
              "  <tbody>\n",
              "    <tr>\n",
              "      <th>0</th>\n",
              "      <td>2020-05-01</td>\n",
              "      <td>2830.71</td>\n",
              "      <td>RT @StevenTDennis: Trump gets bump in latest G...</td>\n",
              "      <td>-0.116309</td>\n",
              "      <td>0.161109</td>\n",
              "      <td>0.063274</td>\n",
              "      <td>-0.152277</td>\n",
              "      <td>0.052654</td>\n",
              "      <td>-0.105484</td>\n",
              "      <td>0.099789</td>\n",
              "      <td>0.085226</td>\n",
              "      <td>-0.121960</td>\n",
              "      <td>0.124674</td>\n",
              "      <td>-0.123784</td>\n",
              "      <td>0.118097</td>\n",
              "      <td>0.144497</td>\n",
              "      <td>0.069755</td>\n",
              "      <td>0.084514</td>\n",
              "      <td>-0.079711</td>\n",
              "      <td>0.036364</td>\n",
              "      <td>-0.042946</td>\n",
              "      <td>0.037107</td>\n",
              "      <td>0.154312</td>\n",
              "      <td>-0.029473</td>\n",
              "      <td>-0.046759</td>\n",
              "      <td>-0.129629</td>\n",
              "      <td>0.008137</td>\n",
              "      <td>-0.009327</td>\n",
              "      <td>-0.023227</td>\n",
              "      <td>0.003923</td>\n",
              "      <td>0.121964</td>\n",
              "      <td>0.143590</td>\n",
              "      <td>-0.074463</td>\n",
              "      <td>0.021790</td>\n",
              "      <td>0.021037</td>\n",
              "      <td>0.169523</td>\n",
              "      <td>0.085471</td>\n",
              "      <td>-0.074093</td>\n",
              "      <td>0.149259</td>\n",
              "      <td>0.075053</td>\n",
              "      <td>...</td>\n",
              "      <td>0.064131</td>\n",
              "      <td>-0.046009</td>\n",
              "      <td>0.111901</td>\n",
              "      <td>0.127325</td>\n",
              "      <td>0.055239</td>\n",
              "      <td>0.095575</td>\n",
              "      <td>-0.123831</td>\n",
              "      <td>-0.136961</td>\n",
              "      <td>0.056211</td>\n",
              "      <td>-0.024715</td>\n",
              "      <td>0.100923</td>\n",
              "      <td>0.000292</td>\n",
              "      <td>0.214848</td>\n",
              "      <td>0.110118</td>\n",
              "      <td>-0.177144</td>\n",
              "      <td>0.133725</td>\n",
              "      <td>0.078193</td>\n",
              "      <td>-0.068701</td>\n",
              "      <td>-0.133895</td>\n",
              "      <td>0.001452</td>\n",
              "      <td>0.166881</td>\n",
              "      <td>-0.036847</td>\n",
              "      <td>-0.070478</td>\n",
              "      <td>-0.145913</td>\n",
              "      <td>-0.034501</td>\n",
              "      <td>0.083051</td>\n",
              "      <td>-0.119039</td>\n",
              "      <td>-0.030300</td>\n",
              "      <td>0.063272</td>\n",
              "      <td>-0.051066</td>\n",
              "      <td>-0.023854</td>\n",
              "      <td>0.191800</td>\n",
              "      <td>0.045313</td>\n",
              "      <td>-0.156054</td>\n",
              "      <td>0.141787</td>\n",
              "      <td>-0.019952</td>\n",
              "      <td>0.135830</td>\n",
              "      <td>0.137459</td>\n",
              "      <td>-0.085133</td>\n",
              "      <td>0.051858</td>\n",
              "    </tr>\n",
              "    <tr>\n",
              "      <th>1</th>\n",
              "      <td>2020-05-01</td>\n",
              "      <td>2830.71</td>\n",
              "      <td>The Governor of Michigan should give a little,...</td>\n",
              "      <td>0.030210</td>\n",
              "      <td>0.067979</td>\n",
              "      <td>-0.122826</td>\n",
              "      <td>-0.169543</td>\n",
              "      <td>0.054662</td>\n",
              "      <td>0.000819</td>\n",
              "      <td>-0.019018</td>\n",
              "      <td>0.097569</td>\n",
              "      <td>0.013244</td>\n",
              "      <td>-0.062064</td>\n",
              "      <td>-0.087321</td>\n",
              "      <td>0.196616</td>\n",
              "      <td>-0.003709</td>\n",
              "      <td>0.048366</td>\n",
              "      <td>0.142418</td>\n",
              "      <td>-0.079694</td>\n",
              "      <td>-0.014451</td>\n",
              "      <td>-0.084721</td>\n",
              "      <td>0.088653</td>\n",
              "      <td>0.092387</td>\n",
              "      <td>0.011837</td>\n",
              "      <td>-0.044463</td>\n",
              "      <td>-0.100118</td>\n",
              "      <td>0.027842</td>\n",
              "      <td>0.047074</td>\n",
              "      <td>-0.076265</td>\n",
              "      <td>-0.142344</td>\n",
              "      <td>0.060214</td>\n",
              "      <td>-0.141745</td>\n",
              "      <td>0.049416</td>\n",
              "      <td>-0.007969</td>\n",
              "      <td>0.037118</td>\n",
              "      <td>0.157000</td>\n",
              "      <td>0.083259</td>\n",
              "      <td>0.026668</td>\n",
              "      <td>0.067857</td>\n",
              "      <td>0.060772</td>\n",
              "      <td>...</td>\n",
              "      <td>0.080566</td>\n",
              "      <td>0.014404</td>\n",
              "      <td>-0.004018</td>\n",
              "      <td>0.063078</td>\n",
              "      <td>0.023812</td>\n",
              "      <td>0.045332</td>\n",
              "      <td>-0.089437</td>\n",
              "      <td>0.004475</td>\n",
              "      <td>-0.029146</td>\n",
              "      <td>-0.124315</td>\n",
              "      <td>0.050901</td>\n",
              "      <td>-0.060112</td>\n",
              "      <td>-0.024935</td>\n",
              "      <td>0.001998</td>\n",
              "      <td>-0.085152</td>\n",
              "      <td>0.081710</td>\n",
              "      <td>0.045675</td>\n",
              "      <td>0.036468</td>\n",
              "      <td>-0.096817</td>\n",
              "      <td>-0.118302</td>\n",
              "      <td>0.099809</td>\n",
              "      <td>-0.051711</td>\n",
              "      <td>-0.084223</td>\n",
              "      <td>-0.165875</td>\n",
              "      <td>-0.089607</td>\n",
              "      <td>0.042523</td>\n",
              "      <td>-0.051729</td>\n",
              "      <td>0.075057</td>\n",
              "      <td>-0.014339</td>\n",
              "      <td>0.054777</td>\n",
              "      <td>-0.154661</td>\n",
              "      <td>0.151888</td>\n",
              "      <td>-0.044448</td>\n",
              "      <td>-0.124339</td>\n",
              "      <td>0.098809</td>\n",
              "      <td>-0.023013</td>\n",
              "      <td>-0.028402</td>\n",
              "      <td>0.089593</td>\n",
              "      <td>-0.026691</td>\n",
              "      <td>-0.026022</td>\n",
              "    </tr>\n",
              "    <tr>\n",
              "      <th>2</th>\n",
              "      <td>2020-05-01</td>\n",
              "      <td>2830.71</td>\n",
              "      <td>Cryin Chuck Schumer, compared to what other Se...</td>\n",
              "      <td>-0.002143</td>\n",
              "      <td>0.101752</td>\n",
              "      <td>-0.081581</td>\n",
              "      <td>-0.099153</td>\n",
              "      <td>0.015779</td>\n",
              "      <td>-0.071956</td>\n",
              "      <td>-0.012954</td>\n",
              "      <td>0.071415</td>\n",
              "      <td>-0.003539</td>\n",
              "      <td>-0.054923</td>\n",
              "      <td>0.043944</td>\n",
              "      <td>0.179318</td>\n",
              "      <td>0.110095</td>\n",
              "      <td>0.078789</td>\n",
              "      <td>0.057159</td>\n",
              "      <td>0.006153</td>\n",
              "      <td>-0.031917</td>\n",
              "      <td>0.034638</td>\n",
              "      <td>0.107689</td>\n",
              "      <td>0.169464</td>\n",
              "      <td>-0.006438</td>\n",
              "      <td>-0.049861</td>\n",
              "      <td>-0.205909</td>\n",
              "      <td>-0.013294</td>\n",
              "      <td>0.083285</td>\n",
              "      <td>-0.133057</td>\n",
              "      <td>-0.118573</td>\n",
              "      <td>0.086454</td>\n",
              "      <td>-0.041550</td>\n",
              "      <td>0.024263</td>\n",
              "      <td>0.034014</td>\n",
              "      <td>0.096721</td>\n",
              "      <td>0.116994</td>\n",
              "      <td>0.045451</td>\n",
              "      <td>0.005283</td>\n",
              "      <td>0.053050</td>\n",
              "      <td>0.079120</td>\n",
              "      <td>...</td>\n",
              "      <td>0.152160</td>\n",
              "      <td>0.000667</td>\n",
              "      <td>0.022821</td>\n",
              "      <td>0.041387</td>\n",
              "      <td>-0.026076</td>\n",
              "      <td>0.012947</td>\n",
              "      <td>-0.002978</td>\n",
              "      <td>-0.022243</td>\n",
              "      <td>0.023211</td>\n",
              "      <td>-0.102579</td>\n",
              "      <td>0.109145</td>\n",
              "      <td>-0.053999</td>\n",
              "      <td>-0.009798</td>\n",
              "      <td>-0.072212</td>\n",
              "      <td>-0.040619</td>\n",
              "      <td>0.102080</td>\n",
              "      <td>-0.039242</td>\n",
              "      <td>0.022292</td>\n",
              "      <td>-0.056822</td>\n",
              "      <td>-0.059403</td>\n",
              "      <td>0.064897</td>\n",
              "      <td>-0.016800</td>\n",
              "      <td>-0.059147</td>\n",
              "      <td>-0.129974</td>\n",
              "      <td>-0.065160</td>\n",
              "      <td>0.059357</td>\n",
              "      <td>-0.084156</td>\n",
              "      <td>0.007636</td>\n",
              "      <td>0.067696</td>\n",
              "      <td>0.061270</td>\n",
              "      <td>-0.113609</td>\n",
              "      <td>0.122966</td>\n",
              "      <td>-0.034719</td>\n",
              "      <td>-0.127571</td>\n",
              "      <td>0.059789</td>\n",
              "      <td>-0.027314</td>\n",
              "      <td>-0.077050</td>\n",
              "      <td>0.042052</td>\n",
              "      <td>-0.002417</td>\n",
              "      <td>-0.064983</td>\n",
              "    </tr>\n",
              "    <tr>\n",
              "      <th>3</th>\n",
              "      <td>2020-05-01</td>\n",
              "      <td>2830.71</td>\n",
              "      <td>Cryin’ Chuck Schumer was on a late night show ...</td>\n",
              "      <td>0.019107</td>\n",
              "      <td>0.101873</td>\n",
              "      <td>-0.040526</td>\n",
              "      <td>-0.128267</td>\n",
              "      <td>0.007445</td>\n",
              "      <td>-0.074596</td>\n",
              "      <td>-0.026338</td>\n",
              "      <td>0.100803</td>\n",
              "      <td>0.015566</td>\n",
              "      <td>-0.060611</td>\n",
              "      <td>0.050690</td>\n",
              "      <td>0.193712</td>\n",
              "      <td>0.075391</td>\n",
              "      <td>0.015648</td>\n",
              "      <td>0.087953</td>\n",
              "      <td>-0.060779</td>\n",
              "      <td>-0.011476</td>\n",
              "      <td>0.011193</td>\n",
              "      <td>0.075504</td>\n",
              "      <td>0.153378</td>\n",
              "      <td>-0.029260</td>\n",
              "      <td>-0.051329</td>\n",
              "      <td>-0.167368</td>\n",
              "      <td>0.005894</td>\n",
              "      <td>0.062117</td>\n",
              "      <td>-0.100447</td>\n",
              "      <td>-0.109812</td>\n",
              "      <td>0.111646</td>\n",
              "      <td>-0.064523</td>\n",
              "      <td>0.027537</td>\n",
              "      <td>0.020341</td>\n",
              "      <td>0.067282</td>\n",
              "      <td>0.153686</td>\n",
              "      <td>0.073710</td>\n",
              "      <td>0.002263</td>\n",
              "      <td>0.049465</td>\n",
              "      <td>0.114792</td>\n",
              "      <td>...</td>\n",
              "      <td>0.156970</td>\n",
              "      <td>0.038518</td>\n",
              "      <td>0.018977</td>\n",
              "      <td>0.110526</td>\n",
              "      <td>0.007943</td>\n",
              "      <td>0.080702</td>\n",
              "      <td>0.024850</td>\n",
              "      <td>-0.024741</td>\n",
              "      <td>-0.045833</td>\n",
              "      <td>-0.115947</td>\n",
              "      <td>0.128155</td>\n",
              "      <td>-0.049310</td>\n",
              "      <td>0.054583</td>\n",
              "      <td>0.014711</td>\n",
              "      <td>-0.095976</td>\n",
              "      <td>0.134109</td>\n",
              "      <td>-0.002267</td>\n",
              "      <td>0.024575</td>\n",
              "      <td>-0.021383</td>\n",
              "      <td>-0.086979</td>\n",
              "      <td>0.041087</td>\n",
              "      <td>-0.014521</td>\n",
              "      <td>-0.065272</td>\n",
              "      <td>-0.138771</td>\n",
              "      <td>-0.067469</td>\n",
              "      <td>0.013142</td>\n",
              "      <td>-0.050884</td>\n",
              "      <td>0.002006</td>\n",
              "      <td>0.056046</td>\n",
              "      <td>0.046148</td>\n",
              "      <td>-0.139105</td>\n",
              "      <td>0.123566</td>\n",
              "      <td>-0.010362</td>\n",
              "      <td>-0.146156</td>\n",
              "      <td>0.092255</td>\n",
              "      <td>-0.029682</td>\n",
              "      <td>-0.047033</td>\n",
              "      <td>0.053958</td>\n",
              "      <td>-0.046748</td>\n",
              "      <td>-0.003870</td>\n",
              "    </tr>\n",
              "    <tr>\n",
              "      <th>4</th>\n",
              "      <td>2020-05-01</td>\n",
              "      <td>2830.71</td>\n",
              "      <td>RT @TeamTrump: President @realDonaldTrump: “We...</td>\n",
              "      <td>0.042712</td>\n",
              "      <td>0.083935</td>\n",
              "      <td>-0.089757</td>\n",
              "      <td>-0.244150</td>\n",
              "      <td>0.107094</td>\n",
              "      <td>-0.066801</td>\n",
              "      <td>0.057858</td>\n",
              "      <td>0.073930</td>\n",
              "      <td>-0.013087</td>\n",
              "      <td>0.035637</td>\n",
              "      <td>-0.051280</td>\n",
              "      <td>0.200391</td>\n",
              "      <td>0.114659</td>\n",
              "      <td>0.147189</td>\n",
              "      <td>0.088969</td>\n",
              "      <td>-0.038067</td>\n",
              "      <td>0.023419</td>\n",
              "      <td>-0.065294</td>\n",
              "      <td>0.023216</td>\n",
              "      <td>0.130702</td>\n",
              "      <td>0.001440</td>\n",
              "      <td>-0.130137</td>\n",
              "      <td>-0.222080</td>\n",
              "      <td>0.041220</td>\n",
              "      <td>-0.001947</td>\n",
              "      <td>-0.008953</td>\n",
              "      <td>-0.138558</td>\n",
              "      <td>0.159228</td>\n",
              "      <td>0.008415</td>\n",
              "      <td>0.043546</td>\n",
              "      <td>0.020035</td>\n",
              "      <td>0.023504</td>\n",
              "      <td>0.229982</td>\n",
              "      <td>0.176956</td>\n",
              "      <td>-0.099101</td>\n",
              "      <td>0.154185</td>\n",
              "      <td>0.071368</td>\n",
              "      <td>...</td>\n",
              "      <td>0.074774</td>\n",
              "      <td>0.059173</td>\n",
              "      <td>0.014995</td>\n",
              "      <td>0.112880</td>\n",
              "      <td>0.011042</td>\n",
              "      <td>0.091446</td>\n",
              "      <td>-0.062679</td>\n",
              "      <td>-0.007632</td>\n",
              "      <td>0.006881</td>\n",
              "      <td>-0.059382</td>\n",
              "      <td>0.068044</td>\n",
              "      <td>-0.051341</td>\n",
              "      <td>0.025546</td>\n",
              "      <td>0.038558</td>\n",
              "      <td>-0.189699</td>\n",
              "      <td>0.108568</td>\n",
              "      <td>0.022885</td>\n",
              "      <td>-0.079975</td>\n",
              "      <td>-0.101911</td>\n",
              "      <td>-0.041542</td>\n",
              "      <td>0.088163</td>\n",
              "      <td>-0.096143</td>\n",
              "      <td>-0.158883</td>\n",
              "      <td>-0.049162</td>\n",
              "      <td>-0.086577</td>\n",
              "      <td>0.022755</td>\n",
              "      <td>-0.037067</td>\n",
              "      <td>-0.012487</td>\n",
              "      <td>-0.009579</td>\n",
              "      <td>0.049413</td>\n",
              "      <td>-0.106167</td>\n",
              "      <td>0.143376</td>\n",
              "      <td>-0.031292</td>\n",
              "      <td>-0.162456</td>\n",
              "      <td>0.122473</td>\n",
              "      <td>0.072939</td>\n",
              "      <td>-0.011305</td>\n",
              "      <td>0.091688</td>\n",
              "      <td>-0.004951</td>\n",
              "      <td>-0.033062</td>\n",
              "    </tr>\n",
              "  </tbody>\n",
              "</table>\n",
              "<p>5 rows × 303 columns</p>\n",
              "</div>"
            ],
            "text/plain": [
              "         date    price  ...       298       299\n",
              "0  2020-05-01  2830.71  ... -0.085133  0.051858\n",
              "1  2020-05-01  2830.71  ... -0.026691 -0.026022\n",
              "2  2020-05-01  2830.71  ... -0.002417 -0.064983\n",
              "3  2020-05-01  2830.71  ... -0.046748 -0.003870\n",
              "4  2020-05-01  2830.71  ... -0.004951 -0.033062\n",
              "\n",
              "[5 rows x 303 columns]"
            ]
          },
          "metadata": {
            "tags": []
          },
          "execution_count": 23
        }
      ]
    },
    {
      "cell_type": "code",
      "metadata": {
        "id": "wzaVvcZ3fTFn",
        "colab_type": "code",
        "colab": {}
      },
      "source": [
        "df_tweets_word2vec.to_csv(\"price_tweets_vector.csv\", index=False)"
      ],
      "execution_count": 0,
      "outputs": []
    },
    {
      "cell_type": "code",
      "metadata": {
        "id": "CY3UVb1TfTFp",
        "colab_type": "code",
        "outputId": "111f4966-fc3d-4c61-b615-88c38822127d",
        "colab": {
          "base_uri": "https://localhost:8080/",
          "height": 552
        }
      },
      "source": [
        "#ツイートのベクトルを1日毎に平均にする（1日10ツイートだった場合ベクトルと足し合わせ10で割る）\n",
        "# groupby #https://qiita.com/propella/items/a9a32b878c77222630ae\n",
        "df = df_tweets_word2vec.groupby([\"date\"]).mean()\n",
        "\n",
        "\n",
        "# targetのcolである変化率（\"price\"の差分対数行列）をdateをKeyに内部結合する\n",
        "df_sp = pd.read_csv(\"/content/sp500-10-year-daily-chart.csv\")\n",
        "\n",
        "# 時系列データの差分を求める\n",
        "\n",
        "# \" value\"の行を対数化\n",
        "# https://www.sejuku.net/blog/70027\n",
        "df_sp[\"log\"] = np.log(df_sp[\" value\"])\n",
        "\n",
        "# \"log\"の1日前との差を取って、差分対数の列を作成\n",
        "# https://note.nkmk.me/python-pandas-diff-pct-change/\n",
        "df_sp[\"dif_log\"] = df_sp[\"log\"].diff()\n",
        "\n",
        "#内部結合\n",
        "df2=pd.merge(df_sp, df, how=\"inner\" ,on=\"date\")\n",
        "df2 = df2.drop(\" value\", axis=1)\n",
        "\n",
        "# groupbyを使って1日のツイート数も特徴量に加える\n",
        "# https://deepage.net/features/pandas-count.html\n",
        "df3 = df_tweets_word2vec[[\"date\",\"text\"]]\n",
        "df3 = df3.groupby([\"date\"]).count()\n",
        "\n",
        "#内部結合\n",
        "df4 = pd.merge( df3, df2, how=\"inner\" ,on=\"date\")\n",
        "\n",
        "#日付データの形を変える\n",
        "df4[\"date\"] = pd.to_datetime(df4['date']).astype('int64')\n",
        "\n",
        "#変化率のグラフ\n",
        "df4.plot( y=[\"dif_log\"], figsize=(16,4), alpha=0.5)\n",
        "\n",
        "#ツイート数と変化率の関係\n",
        "df4.plot.scatter(x=[\"text\"], y=[\"dif_log\"])"
      ],
      "execution_count": 25,
      "outputs": [
        {
          "output_type": "execute_result",
          "data": {
            "text/plain": [
              "<matplotlib.axes._subplots.AxesSubplot at 0x7fd957a3b240>"
            ]
          },
          "metadata": {
            "tags": []
          },
          "execution_count": 25
        },
        {
          "output_type": "display_data",
          "data": {
            "image/png": "[encoded data removed]",
            "text/plain": [
              "<Figure size 1152x288 with 1 Axes>"
            ]
          },
          "metadata": {
            "tags": [],
            "needs_background": "light"
          }
        },
        {
          "output_type": "display_data",
          "data": {
            "image/png": "[encoded data removed]",
            "text/plain": [
              "<Figure size 432x288 with 1 Axes>"
            ]
          },
          "metadata": {
            "tags": [],
            "needs_background": "light"
          }
        }
      ]
    },
    {
      "cell_type": "code",
      "metadata": {
        "id": "LoiDgt9WfTFt",
        "colab_type": "code",
        "outputId": "f79d5c1c-32cc-41f2-fefc-03093f828887",
        "colab": {
          "base_uri": "https://localhost:8080/",
          "height": 253
        }
      },
      "source": [
        "df4.head()"
      ],
      "execution_count": 26,
      "outputs": [
        {
          "output_type": "execute_result",
          "data": {
            "text/html": [
              "<div>\n",
              "<style scoped>\n",
              "    .dataframe tbody tr th:only-of-type {\n",
              "        vertical-align: middle;\n",
              "    }\n",
              "\n",
              "    .dataframe tbody tr th {\n",
              "        vertical-align: top;\n",
              "    }\n",
              "\n",
              "    .dataframe thead th {\n",
              "        text-align: right;\n",
              "    }\n",
              "</style>\n",
              "<table border=\"1\" class=\"dataframe\">\n",
              "  <thead>\n",
              "    <tr style=\"text-align: right;\">\n",
              "      <th></th>\n",
              "      <th>date</th>\n",
              "      <th>text</th>\n",
              "      <th>log</th>\n",
              "      <th>dif_log</th>\n",
              "      <th>0</th>\n",
              "      <th>1</th>\n",
              "      <th>2</th>\n",
              "      <th>3</th>\n",
              "      <th>4</th>\n",
              "      <th>5</th>\n",
              "      <th>6</th>\n",
              "      <th>7</th>\n",
              "      <th>8</th>\n",
              "      <th>9</th>\n",
              "      <th>10</th>\n",
              "      <th>11</th>\n",
              "      <th>12</th>\n",
              "      <th>13</th>\n",
              "      <th>14</th>\n",
              "      <th>15</th>\n",
              "      <th>16</th>\n",
              "      <th>17</th>\n",
              "      <th>18</th>\n",
              "      <th>19</th>\n",
              "      <th>20</th>\n",
              "      <th>21</th>\n",
              "      <th>22</th>\n",
              "      <th>23</th>\n",
              "      <th>24</th>\n",
              "      <th>25</th>\n",
              "      <th>26</th>\n",
              "      <th>27</th>\n",
              "      <th>28</th>\n",
              "      <th>29</th>\n",
              "      <th>30</th>\n",
              "      <th>31</th>\n",
              "      <th>32</th>\n",
              "      <th>33</th>\n",
              "      <th>34</th>\n",
              "      <th>35</th>\n",
              "      <th>...</th>\n",
              "      <th>260</th>\n",
              "      <th>261</th>\n",
              "      <th>262</th>\n",
              "      <th>263</th>\n",
              "      <th>264</th>\n",
              "      <th>265</th>\n",
              "      <th>266</th>\n",
              "      <th>267</th>\n",
              "      <th>268</th>\n",
              "      <th>269</th>\n",
              "      <th>270</th>\n",
              "      <th>271</th>\n",
              "      <th>272</th>\n",
              "      <th>273</th>\n",
              "      <th>274</th>\n",
              "      <th>275</th>\n",
              "      <th>276</th>\n",
              "      <th>277</th>\n",
              "      <th>278</th>\n",
              "      <th>279</th>\n",
              "      <th>280</th>\n",
              "      <th>281</th>\n",
              "      <th>282</th>\n",
              "      <th>283</th>\n",
              "      <th>284</th>\n",
              "      <th>285</th>\n",
              "      <th>286</th>\n",
              "      <th>287</th>\n",
              "      <th>288</th>\n",
              "      <th>289</th>\n",
              "      <th>290</th>\n",
              "      <th>291</th>\n",
              "      <th>292</th>\n",
              "      <th>293</th>\n",
              "      <th>294</th>\n",
              "      <th>295</th>\n",
              "      <th>296</th>\n",
              "      <th>297</th>\n",
              "      <th>298</th>\n",
              "      <th>299</th>\n",
              "    </tr>\n",
              "  </thead>\n",
              "  <tbody>\n",
              "    <tr>\n",
              "      <th>0</th>\n",
              "      <td>1484870400000000000</td>\n",
              "      <td>26</td>\n",
              "      <td>7.728112</td>\n",
              "      <td>0.003361</td>\n",
              "      <td>-0.000022</td>\n",
              "      <td>0.092714</td>\n",
              "      <td>-0.129581</td>\n",
              "      <td>-0.099434</td>\n",
              "      <td>0.087939</td>\n",
              "      <td>-0.095155</td>\n",
              "      <td>0.028644</td>\n",
              "      <td>0.020384</td>\n",
              "      <td>-0.035038</td>\n",
              "      <td>0.019401</td>\n",
              "      <td>-0.084292</td>\n",
              "      <td>0.156048</td>\n",
              "      <td>0.110026</td>\n",
              "      <td>0.028222</td>\n",
              "      <td>0.081952</td>\n",
              "      <td>-0.047736</td>\n",
              "      <td>-0.015218</td>\n",
              "      <td>-0.044324</td>\n",
              "      <td>0.073495</td>\n",
              "      <td>0.062611</td>\n",
              "      <td>0.003396</td>\n",
              "      <td>0.010147</td>\n",
              "      <td>-0.151522</td>\n",
              "      <td>0.065756</td>\n",
              "      <td>0.049374</td>\n",
              "      <td>-0.036895</td>\n",
              "      <td>-0.155308</td>\n",
              "      <td>0.053238</td>\n",
              "      <td>0.024726</td>\n",
              "      <td>0.012017</td>\n",
              "      <td>-0.040188</td>\n",
              "      <td>0.049446</td>\n",
              "      <td>0.161174</td>\n",
              "      <td>0.116892</td>\n",
              "      <td>-0.097975</td>\n",
              "      <td>0.125036</td>\n",
              "      <td>...</td>\n",
              "      <td>0.073555</td>\n",
              "      <td>-0.041157</td>\n",
              "      <td>-0.017093</td>\n",
              "      <td>0.000427</td>\n",
              "      <td>0.020548</td>\n",
              "      <td>0.064712</td>\n",
              "      <td>-0.086478</td>\n",
              "      <td>-0.013927</td>\n",
              "      <td>0.041651</td>\n",
              "      <td>-0.064991</td>\n",
              "      <td>0.082198</td>\n",
              "      <td>-0.128745</td>\n",
              "      <td>-0.050186</td>\n",
              "      <td>0.059766</td>\n",
              "      <td>-0.038667</td>\n",
              "      <td>-0.040802</td>\n",
              "      <td>0.080622</td>\n",
              "      <td>-0.044343</td>\n",
              "      <td>-0.108270</td>\n",
              "      <td>-0.027045</td>\n",
              "      <td>0.120867</td>\n",
              "      <td>0.022601</td>\n",
              "      <td>-0.044682</td>\n",
              "      <td>-0.072373</td>\n",
              "      <td>-0.082888</td>\n",
              "      <td>0.049895</td>\n",
              "      <td>-0.021237</td>\n",
              "      <td>0.006787</td>\n",
              "      <td>-0.112844</td>\n",
              "      <td>0.091334</td>\n",
              "      <td>-0.127973</td>\n",
              "      <td>0.066606</td>\n",
              "      <td>-0.016401</td>\n",
              "      <td>-0.107519</td>\n",
              "      <td>0.144325</td>\n",
              "      <td>-0.042153</td>\n",
              "      <td>-0.005437</td>\n",
              "      <td>0.055807</td>\n",
              "      <td>-0.013114</td>\n",
              "      <td>0.018782</td>\n",
              "    </tr>\n",
              "    <tr>\n",
              "      <th>1</th>\n",
              "      <td>1485129600000000000</td>\n",
              "      <td>2</td>\n",
              "      <td>7.725418</td>\n",
              "      <td>-0.002694</td>\n",
              "      <td>0.027361</td>\n",
              "      <td>0.112119</td>\n",
              "      <td>-0.014894</td>\n",
              "      <td>-0.155512</td>\n",
              "      <td>0.064390</td>\n",
              "      <td>-0.034114</td>\n",
              "      <td>0.003312</td>\n",
              "      <td>0.028291</td>\n",
              "      <td>-0.005412</td>\n",
              "      <td>0.071270</td>\n",
              "      <td>-0.143584</td>\n",
              "      <td>0.159175</td>\n",
              "      <td>0.061375</td>\n",
              "      <td>0.077995</td>\n",
              "      <td>0.063746</td>\n",
              "      <td>-0.005426</td>\n",
              "      <td>-0.022830</td>\n",
              "      <td>-0.026297</td>\n",
              "      <td>0.020512</td>\n",
              "      <td>0.126123</td>\n",
              "      <td>0.004920</td>\n",
              "      <td>-0.058399</td>\n",
              "      <td>-0.204190</td>\n",
              "      <td>0.050768</td>\n",
              "      <td>-0.015661</td>\n",
              "      <td>-0.087371</td>\n",
              "      <td>-0.052043</td>\n",
              "      <td>0.016759</td>\n",
              "      <td>-0.096072</td>\n",
              "      <td>0.032934</td>\n",
              "      <td>-0.191375</td>\n",
              "      <td>0.015911</td>\n",
              "      <td>0.155101</td>\n",
              "      <td>0.189560</td>\n",
              "      <td>-0.001368</td>\n",
              "      <td>0.078497</td>\n",
              "      <td>...</td>\n",
              "      <td>0.006248</td>\n",
              "      <td>-0.024826</td>\n",
              "      <td>0.058173</td>\n",
              "      <td>0.137632</td>\n",
              "      <td>0.118278</td>\n",
              "      <td>0.041045</td>\n",
              "      <td>-0.026634</td>\n",
              "      <td>0.028176</td>\n",
              "      <td>0.004652</td>\n",
              "      <td>-0.048654</td>\n",
              "      <td>0.069907</td>\n",
              "      <td>0.010963</td>\n",
              "      <td>0.032248</td>\n",
              "      <td>0.119182</td>\n",
              "      <td>-0.095347</td>\n",
              "      <td>0.004329</td>\n",
              "      <td>0.046106</td>\n",
              "      <td>-0.114587</td>\n",
              "      <td>-0.079524</td>\n",
              "      <td>-0.038944</td>\n",
              "      <td>0.153505</td>\n",
              "      <td>-0.102017</td>\n",
              "      <td>-0.028237</td>\n",
              "      <td>-0.141748</td>\n",
              "      <td>-0.101013</td>\n",
              "      <td>0.083082</td>\n",
              "      <td>0.009622</td>\n",
              "      <td>0.059266</td>\n",
              "      <td>-0.056941</td>\n",
              "      <td>0.027931</td>\n",
              "      <td>-0.106423</td>\n",
              "      <td>0.088678</td>\n",
              "      <td>-0.024982</td>\n",
              "      <td>-0.116115</td>\n",
              "      <td>0.093129</td>\n",
              "      <td>-0.048467</td>\n",
              "      <td>-0.011823</td>\n",
              "      <td>0.159281</td>\n",
              "      <td>0.006901</td>\n",
              "      <td>0.022099</td>\n",
              "    </tr>\n",
              "    <tr>\n",
              "      <th>2</th>\n",
              "      <td>1485216000000000000</td>\n",
              "      <td>8</td>\n",
              "      <td>7.731961</td>\n",
              "      <td>0.006543</td>\n",
              "      <td>0.059658</td>\n",
              "      <td>0.056130</td>\n",
              "      <td>-0.069293</td>\n",
              "      <td>-0.115781</td>\n",
              "      <td>0.020204</td>\n",
              "      <td>-0.046648</td>\n",
              "      <td>0.026683</td>\n",
              "      <td>0.028490</td>\n",
              "      <td>-0.000887</td>\n",
              "      <td>0.060430</td>\n",
              "      <td>-0.120677</td>\n",
              "      <td>0.182387</td>\n",
              "      <td>0.066980</td>\n",
              "      <td>0.041018</td>\n",
              "      <td>0.051732</td>\n",
              "      <td>-0.040921</td>\n",
              "      <td>-0.005644</td>\n",
              "      <td>-0.012770</td>\n",
              "      <td>0.022444</td>\n",
              "      <td>0.058871</td>\n",
              "      <td>-0.046968</td>\n",
              "      <td>-0.006374</td>\n",
              "      <td>-0.101376</td>\n",
              "      <td>0.049542</td>\n",
              "      <td>0.032674</td>\n",
              "      <td>-0.008490</td>\n",
              "      <td>-0.069313</td>\n",
              "      <td>0.042996</td>\n",
              "      <td>-0.078930</td>\n",
              "      <td>-0.003398</td>\n",
              "      <td>-0.122290</td>\n",
              "      <td>0.011171</td>\n",
              "      <td>0.162590</td>\n",
              "      <td>0.177950</td>\n",
              "      <td>-0.046751</td>\n",
              "      <td>0.095424</td>\n",
              "      <td>...</td>\n",
              "      <td>0.009231</td>\n",
              "      <td>-0.031584</td>\n",
              "      <td>0.029360</td>\n",
              "      <td>0.118272</td>\n",
              "      <td>0.059085</td>\n",
              "      <td>0.051975</td>\n",
              "      <td>-0.032684</td>\n",
              "      <td>0.012807</td>\n",
              "      <td>-0.000149</td>\n",
              "      <td>-0.045437</td>\n",
              "      <td>0.077867</td>\n",
              "      <td>-0.036215</td>\n",
              "      <td>-0.004521</td>\n",
              "      <td>0.064785</td>\n",
              "      <td>-0.009548</td>\n",
              "      <td>-0.003933</td>\n",
              "      <td>0.054719</td>\n",
              "      <td>-0.047487</td>\n",
              "      <td>-0.084267</td>\n",
              "      <td>0.040290</td>\n",
              "      <td>0.114486</td>\n",
              "      <td>-0.073862</td>\n",
              "      <td>-0.024178</td>\n",
              "      <td>-0.111507</td>\n",
              "      <td>-0.065762</td>\n",
              "      <td>0.062034</td>\n",
              "      <td>-0.025035</td>\n",
              "      <td>0.007605</td>\n",
              "      <td>-0.053497</td>\n",
              "      <td>0.025872</td>\n",
              "      <td>-0.115986</td>\n",
              "      <td>0.019281</td>\n",
              "      <td>-0.025761</td>\n",
              "      <td>-0.103188</td>\n",
              "      <td>0.081409</td>\n",
              "      <td>-0.014298</td>\n",
              "      <td>-0.053681</td>\n",
              "      <td>0.113941</td>\n",
              "      <td>-0.032361</td>\n",
              "      <td>0.017127</td>\n",
              "    </tr>\n",
              "    <tr>\n",
              "      <th>3</th>\n",
              "      <td>1485302400000000000</td>\n",
              "      <td>16</td>\n",
              "      <td>7.739955</td>\n",
              "      <td>0.007994</td>\n",
              "      <td>-0.015938</td>\n",
              "      <td>0.078082</td>\n",
              "      <td>-0.050626</td>\n",
              "      <td>-0.086329</td>\n",
              "      <td>0.034804</td>\n",
              "      <td>-0.058008</td>\n",
              "      <td>0.011234</td>\n",
              "      <td>0.067007</td>\n",
              "      <td>-0.005180</td>\n",
              "      <td>0.022005</td>\n",
              "      <td>-0.035317</td>\n",
              "      <td>0.175477</td>\n",
              "      <td>0.035893</td>\n",
              "      <td>-0.013301</td>\n",
              "      <td>0.067694</td>\n",
              "      <td>-0.069228</td>\n",
              "      <td>-0.013620</td>\n",
              "      <td>-0.017213</td>\n",
              "      <td>0.057419</td>\n",
              "      <td>0.109488</td>\n",
              "      <td>-0.063858</td>\n",
              "      <td>-0.002610</td>\n",
              "      <td>-0.130533</td>\n",
              "      <td>0.051772</td>\n",
              "      <td>0.079068</td>\n",
              "      <td>-0.022414</td>\n",
              "      <td>-0.078205</td>\n",
              "      <td>0.061229</td>\n",
              "      <td>0.015950</td>\n",
              "      <td>-0.031322</td>\n",
              "      <td>-0.041437</td>\n",
              "      <td>0.075748</td>\n",
              "      <td>0.106083</td>\n",
              "      <td>0.083588</td>\n",
              "      <td>-0.027001</td>\n",
              "      <td>0.121297</td>\n",
              "      <td>...</td>\n",
              "      <td>0.062664</td>\n",
              "      <td>-0.027205</td>\n",
              "      <td>-0.002673</td>\n",
              "      <td>0.110264</td>\n",
              "      <td>0.046825</td>\n",
              "      <td>0.060001</td>\n",
              "      <td>-0.043543</td>\n",
              "      <td>-0.049497</td>\n",
              "      <td>0.025677</td>\n",
              "      <td>-0.078823</td>\n",
              "      <td>0.108352</td>\n",
              "      <td>-0.029995</td>\n",
              "      <td>0.040508</td>\n",
              "      <td>0.072520</td>\n",
              "      <td>-0.084103</td>\n",
              "      <td>0.048868</td>\n",
              "      <td>0.013479</td>\n",
              "      <td>-0.013671</td>\n",
              "      <td>-0.098014</td>\n",
              "      <td>-0.036819</td>\n",
              "      <td>0.088262</td>\n",
              "      <td>-0.088850</td>\n",
              "      <td>-0.051478</td>\n",
              "      <td>-0.107005</td>\n",
              "      <td>-0.052135</td>\n",
              "      <td>0.095349</td>\n",
              "      <td>-0.070372</td>\n",
              "      <td>0.049426</td>\n",
              "      <td>-0.046649</td>\n",
              "      <td>0.040632</td>\n",
              "      <td>-0.092211</td>\n",
              "      <td>0.135923</td>\n",
              "      <td>-0.001957</td>\n",
              "      <td>-0.087078</td>\n",
              "      <td>0.095102</td>\n",
              "      <td>-0.062373</td>\n",
              "      <td>-0.011351</td>\n",
              "      <td>0.068190</td>\n",
              "      <td>-0.058749</td>\n",
              "      <td>0.045771</td>\n",
              "    </tr>\n",
              "    <tr>\n",
              "      <th>4</th>\n",
              "      <td>1485388800000000000</td>\n",
              "      <td>22</td>\n",
              "      <td>7.739220</td>\n",
              "      <td>-0.000736</td>\n",
              "      <td>0.010247</td>\n",
              "      <td>0.073493</td>\n",
              "      <td>-0.107031</td>\n",
              "      <td>-0.123288</td>\n",
              "      <td>0.050309</td>\n",
              "      <td>-0.068928</td>\n",
              "      <td>0.027927</td>\n",
              "      <td>0.095068</td>\n",
              "      <td>-0.006596</td>\n",
              "      <td>0.049284</td>\n",
              "      <td>-0.052647</td>\n",
              "      <td>0.115026</td>\n",
              "      <td>0.056825</td>\n",
              "      <td>0.024898</td>\n",
              "      <td>0.069846</td>\n",
              "      <td>-0.032680</td>\n",
              "      <td>0.004549</td>\n",
              "      <td>-0.024566</td>\n",
              "      <td>0.065427</td>\n",
              "      <td>0.107961</td>\n",
              "      <td>-0.049133</td>\n",
              "      <td>-0.021678</td>\n",
              "      <td>-0.123550</td>\n",
              "      <td>0.038034</td>\n",
              "      <td>0.049051</td>\n",
              "      <td>-0.031613</td>\n",
              "      <td>-0.124028</td>\n",
              "      <td>0.052047</td>\n",
              "      <td>0.013065</td>\n",
              "      <td>-0.007724</td>\n",
              "      <td>-0.001210</td>\n",
              "      <td>0.019725</td>\n",
              "      <td>0.159806</td>\n",
              "      <td>0.111667</td>\n",
              "      <td>-0.065592</td>\n",
              "      <td>0.094203</td>\n",
              "      <td>...</td>\n",
              "      <td>0.031725</td>\n",
              "      <td>-0.041371</td>\n",
              "      <td>0.014126</td>\n",
              "      <td>0.089848</td>\n",
              "      <td>0.055860</td>\n",
              "      <td>0.081933</td>\n",
              "      <td>-0.028210</td>\n",
              "      <td>-0.026899</td>\n",
              "      <td>0.016945</td>\n",
              "      <td>-0.097382</td>\n",
              "      <td>0.081571</td>\n",
              "      <td>-0.035820</td>\n",
              "      <td>0.050643</td>\n",
              "      <td>0.074971</td>\n",
              "      <td>-0.059836</td>\n",
              "      <td>0.037430</td>\n",
              "      <td>0.025630</td>\n",
              "      <td>-0.036453</td>\n",
              "      <td>-0.065961</td>\n",
              "      <td>-0.005373</td>\n",
              "      <td>0.074514</td>\n",
              "      <td>-0.074611</td>\n",
              "      <td>-0.066028</td>\n",
              "      <td>-0.087092</td>\n",
              "      <td>-0.063776</td>\n",
              "      <td>0.059394</td>\n",
              "      <td>-0.034489</td>\n",
              "      <td>0.030411</td>\n",
              "      <td>-0.048762</td>\n",
              "      <td>0.043932</td>\n",
              "      <td>-0.097534</td>\n",
              "      <td>0.119870</td>\n",
              "      <td>0.002879</td>\n",
              "      <td>-0.100136</td>\n",
              "      <td>0.073972</td>\n",
              "      <td>0.009996</td>\n",
              "      <td>-0.006549</td>\n",
              "      <td>0.083475</td>\n",
              "      <td>-0.052542</td>\n",
              "      <td>0.060300</td>\n",
              "    </tr>\n",
              "  </tbody>\n",
              "</table>\n",
              "<p>5 rows × 304 columns</p>\n",
              "</div>"
            ],
            "text/plain": [
              "                  date  text       log  ...       297       298       299\n",
              "0  1484870400000000000    26  7.728112  ...  0.055807 -0.013114  0.018782\n",
              "1  1485129600000000000     2  7.725418  ...  0.159281  0.006901  0.022099\n",
              "2  1485216000000000000     8  7.731961  ...  0.113941 -0.032361  0.017127\n",
              "3  1485302400000000000    16  7.739955  ...  0.068190 -0.058749  0.045771\n",
              "4  1485388800000000000    22  7.739220  ...  0.083475 -0.052542  0.060300\n",
              "\n",
              "[5 rows x 304 columns]"
            ]
          },
          "metadata": {
            "tags": []
          },
          "execution_count": 26
        }
      ]
    },
    {
      "cell_type": "code",
      "metadata": {
        "id": "n7AswbGKfTFw",
        "colab_type": "code",
        "colab": {}
      },
      "source": [
        "#特徴量とターゲットを決める\n",
        "from sklearn.model_selection import train_test_split\n",
        "\n",
        "target_col = 'dif_log'\n",
        "exclude_cols = ['log', 'price', 'dif_log', \"date\",\"text\"]\n",
        "feature_cols = []\n",
        "for col in df4.columns:\n",
        "    if col not in exclude_cols:\n",
        "        feature_cols.append(col)\n",
        "        \n",
        "X = np.array(df4[feature_cols])\n",
        "y = np.array(df4[target_col])"
      ],
      "execution_count": 0,
      "outputs": []
    },
    {
      "cell_type": "code",
      "metadata": {
        "id": "20189zR5fTF0",
        "colab_type": "code",
        "outputId": "d4b6c2de-d45f-4dbe-b3f2-89e542df9676",
        "colab": {
          "base_uri": "https://localhost:8080/",
          "height": 85
        }
      },
      "source": [
        "X_train_val, X_test, y_train_val, y_test = train_test_split(\n",
        "    X, y, test_size=0.1, random_state=1234)\n",
        "\n",
        "print('X_train_val Features Shape: ', X_train_val.shape)\n",
        "print('y_train_val Target Shape: ', y_train_val.shape)\n",
        "print('X_test Features Shape: ', X_test.shape)\n",
        "print('y_test Target Shape: ', y_test.shape)"
      ],
      "execution_count": 28,
      "outputs": [
        {
          "output_type": "stream",
          "text": [
            "X_train_val Features Shape:  (739, 300)\n",
            "y_train_val Target Shape:  (739,)\n",
            "X_test Features Shape:  (83, 300)\n",
            "y_test Target Shape:  (83,)\n"
          ],
          "name": "stdout"
        }
      ]
    },
    {
      "cell_type": "code",
      "metadata": {
        "id": "mW7aRfLifTF3",
        "colab_type": "code",
        "outputId": "54545d7c-2f91-4d7e-a340-73a402f0f54b",
        "colab": {
          "base_uri": "https://localhost:8080/",
          "height": 85
        }
      },
      "source": [
        "X_train, X_val, y_train, y_val = train_test_split(\n",
        "    X_train_val, y_train_val, test_size=0.1, random_state=1234)\n",
        "\n",
        "# 参考：分割後のデータ数を確認\n",
        "print('X_train Features Shape: ', X_train.shape)\n",
        "print('y_train Target Shape: ', y_train.shape)\n",
        "print('X_val Features Shape: ', X_val.shape)\n",
        "print('y_val Target Shape: ', y_val.shape)"
      ],
      "execution_count": 29,
      "outputs": [
        {
          "output_type": "stream",
          "text": [
            "X_train Features Shape:  (665, 300)\n",
            "y_train Target Shape:  (665,)\n",
            "X_val Features Shape:  (74, 300)\n",
            "y_val Target Shape:  (74,)\n"
          ],
          "name": "stdout"
        }
      ]
    },
    {
      "cell_type": "code",
      "metadata": {
        "id": "AMGJVo-zfTF6",
        "colab_type": "code",
        "colab": {}
      },
      "source": [
        "#分析用のライブラリ\n",
        "\n",
        "from collections import Counter\n",
        "from sklearn.linear_model import LogisticRegression\n",
        "from sklearn.metrics import confusion_matrix, accuracy_score, classification_report\n",
        "from sklearn.linear_model import LinearRegression  # 線形回帰モデルのライブラリ\n",
        "from sklearn.metrics import mean_squared_error  # MSEのライブラリ\n",
        "from sklearn.ensemble import RandomForestRegressor"
      ],
      "execution_count": 0,
      "outputs": []
    },
    {
      "cell_type": "code",
      "metadata": {
        "id": "_7Ucu_2FfTF_",
        "colab_type": "code",
        "outputId": "98d730c7-67ba-4a88-9f4c-2ee86c69bc4d",
        "colab": {
          "base_uri": "https://localhost:8080/",
          "height": 88
        }
      },
      "source": [
        "#分析1 線形回帰\n",
        "\n",
        "from sklearn.linear_model import LinearRegression  # 線形回帰モデルのライブラリ\n",
        "from sklearn.metrics import mean_squared_error  # MSEのライブラリ\n",
        "from sklearn.externals import joblib\n",
        "import pickle\n",
        "\n",
        "lm = LinearRegression()\n",
        "lm.fit(X_train, y_train)\n",
        "\n",
        "# モデルを保存する\n",
        "filename = 'lm_model.sav'\n",
        "pickle.dump(lm, open(filename, 'wb'))\n",
        "\n",
        "y_pred = lm.predict(X_val)\n",
        "lm_mse = mean_squared_error(y_val, y_pred)\n",
        "print('LinerRegression RMSE: ', round(np.sqrt(lm_mse), 3))"
      ],
      "execution_count": 31,
      "outputs": [
        {
          "output_type": "stream",
          "text": [
            "LinerRegression RMSE:  0.019\n"
          ],
          "name": "stdout"
        },
        {
          "output_type": "stream",
          "text": [
            "/usr/local/lib/python3.6/dist-packages/sklearn/externals/joblib/__init__.py:15: FutureWarning: sklearn.externals.joblib is deprecated in 0.21 and will be removed in 0.23. Please import this functionality directly from joblib, which can be installed with: pip install joblib. If this warning is raised when loading pickled models, you may need to re-serialize those models with scikit-learn 0.21+.\n",
            "  warnings.warn(msg, category=FutureWarning)\n"
          ],
          "name": "stderr"
        }
      ]
    },
    {
      "cell_type": "code",
      "metadata": {
        "id": "44WIdMIIdhon",
        "colab_type": "code",
        "colab": {
          "base_uri": "https://localhost:8080/",
          "height": 34
        },
        "outputId": "5ce3a043-bf4d-4e55-9477-12941eaa7121"
      },
      "source": [
        "#保存したモデルを読み取る\n",
        "loaded_model = pickle.load(open(filename, 'rb'))\n",
        "\n",
        "y_pred = loaded_model.predict(X_val)\n",
        "lm_mse = mean_squared_error(y_val, y_pred)\n",
        "print('LinerRegression RMSE: ', round(np.sqrt(lm_mse), 3))"
      ],
      "execution_count": 32,
      "outputs": [
        {
          "output_type": "stream",
          "text": [
            "LinerRegression RMSE:  0.019\n"
          ],
          "name": "stdout"
        }
      ]
    },
    {
      "cell_type": "code",
      "metadata": {
        "id": "yP6pY8SpfTGB",
        "colab_type": "code",
        "outputId": "180fe725-045d-4b2f-aca3-bfb3261af801",
        "colab": {
          "base_uri": "https://localhost:8080/",
          "height": 34
        }
      },
      "source": [
        "#分析2 決定木\n",
        "\n",
        "from sklearn.tree import DecisionTreeRegressor\n",
        "\n",
        "dt = DecisionTreeRegressor(random_state=1234)\n",
        "dt.fit(X_train, y_train)\n",
        "\n",
        "# モデルを保存する\n",
        "filename = 'dt_model.sav'\n",
        "pickle.dump(dt, open(filename, 'wb'))\n",
        "\n",
        "y_pred = dt.predict(X_val)\n",
        "dt_mse = mean_squared_error(y_val, y_pred)\n",
        "print('DecisionTreeRegressor RMSE: ', round(np.sqrt(dt_mse), 3))"
      ],
      "execution_count": 33,
      "outputs": [
        {
          "output_type": "stream",
          "text": [
            "DecisionTreeRegressor RMSE:  0.029\n"
          ],
          "name": "stdout"
        }
      ]
    },
    {
      "cell_type": "code",
      "metadata": {
        "id": "TAO7GAT8fTGE",
        "colab_type": "code",
        "outputId": "3122f43a-0fa4-4ccc-c4e7-a87f7b1c5786",
        "colab": {
          "base_uri": "https://localhost:8080/",
          "height": 34
        }
      },
      "source": [
        "#分析3 ランダムフォレスト\n",
        "\n",
        "from sklearn.ensemble import RandomForestRegressor\n",
        "\n",
        "rf = RandomForestRegressor(n_estimators=100, random_state=1234)\n",
        "rf.fit(X_train, y_train)\n",
        "\n",
        "# モデルを保存する\n",
        "filename = 'rf_model.sav'\n",
        "pickle.dump(rf, open(filename, 'wb'))\n",
        "\n",
        "y_pred = rf.predict(X_val)\n",
        "rf_mse = mean_squared_error(y_val, y_pred)\n",
        "print('RandomForestRegressor RMSE: ', round(np.sqrt(rf_mse), 3))"
      ],
      "execution_count": 34,
      "outputs": [
        {
          "output_type": "stream",
          "text": [
            "RandomForestRegressor RMSE:  0.013\n"
          ],
          "name": "stdout"
        }
      ]
    },
    {
      "cell_type": "code",
      "metadata": {
        "id": "8iYWdBRkfTGH",
        "colab_type": "code",
        "outputId": "a8398e93-1902-4659-9641-b0d5f8790d96",
        "colab": {
          "base_uri": "https://localhost:8080/",
          "height": 282
        }
      },
      "source": [
        "#分析3 ランダムフォレストの特徴量\n",
        "\n",
        "rf_importances = pd.DataFrame(rf.feature_importances_, columns=['importance'], index=feature_cols)\n",
        "rf_importances.sort_values('importance', ascending=False).iloc[0:15].plot(kind='barh')"
      ],
      "execution_count": 35,
      "outputs": [
        {
          "output_type": "execute_result",
          "data": {
            "text/plain": [
              "<matplotlib.axes._subplots.AxesSubplot at 0x7fd955ded5c0>"
            ]
          },
          "metadata": {
            "tags": []
          },
          "execution_count": 35
        },
        {
          "output_type": "display_data",
          "data": {
            "image/png": "[encoded data removed]",
            "text/plain": [
              "<Figure size 432x288 with 1 Axes>"
            ]
          },
          "metadata": {
            "tags": [],
            "needs_background": "light"
          }
        }
      ]
    },
    {
      "cell_type": "code",
      "metadata": {
        "id": "_FrzHo3CfTGK",
        "colab_type": "code",
        "outputId": "ad5684c0-6f98-494b-eb08-c4a004d31714",
        "colab": {
          "base_uri": "https://localhost:8080/",
          "height": 68
        }
      },
      "source": [
        "#４つの分析の結果の比較\n",
        "\n",
        "print('線形回帰モデルのRMSE:    ', round(np.sqrt(lm_mse), 3))\n",
        "print('回帰木のRMSE:                  ', round(np.sqrt(dt_mse), 3))\n",
        "print('ランダムフォレストのRMSE: ', round(np.sqrt(rf_mse), 3))"
      ],
      "execution_count": 36,
      "outputs": [
        {
          "output_type": "stream",
          "text": [
            "線形回帰モデルのRMSE:     0.019\n",
            "回帰木のRMSE:                   0.029\n",
            "ランダムフォレストのRMSE:  0.013\n"
          ],
          "name": "stdout"
        }
      ]
    },
    {
      "cell_type": "code",
      "metadata": {
        "id": "6nAtZEWZfTGO",
        "colab_type": "code",
        "outputId": "d9c0526e-b8a9-406c-982c-63175dfa6203",
        "colab": {
          "base_uri": "https://localhost:8080/",
          "height": 85
        }
      },
      "source": [
        "#分析4 ランダムフォレストのチューニング\n",
        "\n",
        "# クロスバリデーションとグリッドサーチ のライブラリ\n",
        "from sklearn.model_selection import GridSearchCV\n",
        "\n",
        "rf = RandomForestRegressor(random_state=1234)\n",
        "\n",
        "params = {'n_estimators': [10, 25, 50, 100], 'max_depth': [10, 20, 30, 50]}\n",
        "gscv = GridSearchCV(rf, param_grid=params, verbose=1, cv=3,\n",
        "                    scoring='neg_mean_squared_error', n_jobs=-1)\n",
        "gscv.fit(X_train, y_train)\n",
        "\n",
        "gscv.best_params_"
      ],
      "execution_count": 37,
      "outputs": [
        {
          "output_type": "stream",
          "text": [
            "Fitting 3 folds for each of 16 candidates, totalling 48 fits\n"
          ],
          "name": "stdout"
        },
        {
          "output_type": "stream",
          "text": [
            "[Parallel(n_jobs=-1)]: Using backend LokyBackend with 2 concurrent workers.\n",
            "[Parallel(n_jobs=-1)]: Done  48 out of  48 | elapsed:  2.3min finished\n"
          ],
          "name": "stderr"
        },
        {
          "output_type": "execute_result",
          "data": {
            "text/plain": [
              "{'max_depth': 10, 'n_estimators': 100}"
            ]
          },
          "metadata": {
            "tags": []
          },
          "execution_count": 37
        }
      ]
    },
    {
      "cell_type": "code",
      "metadata": {
        "id": "TAcxNPOffTGR",
        "colab_type": "code",
        "outputId": "123e14ab-fe22-465b-cfb9-248965555659",
        "colab": {
          "base_uri": "https://localhost:8080/",
          "height": 34
        }
      },
      "source": [
        "#分析4 ランダムフォレストのチューニング\n",
        "best_estimators = gscv.best_params_[\"n_estimators\"]\n",
        "best_depth = gscv.best_params_[\"max_depth\"]\n",
        "\n",
        "rf_best = RandomForestRegressor(n_estimators=best_estimators, max_depth=best_depth, random_state=1234)\n",
        "rf_best.fit(X_train, y_train)\n",
        "\n",
        "# モデルを保存する\n",
        "filename = 'rf_best_model.sav'\n",
        "pickle.dump(rf_best, open(filename, 'wb'))\n",
        "\n",
        "y_pred = rf_best.predict(X_val)\n",
        "rf_best_mse = mean_squared_error(y_val, y_pred)\n",
        "print('RandomForest RMSE: ', round(np.sqrt(rf_best_mse), 3))"
      ],
      "execution_count": 38,
      "outputs": [
        {
          "output_type": "stream",
          "text": [
            "RandomForest RMSE:  0.013\n"
          ],
          "name": "stdout"
        }
      ]
    },
    {
      "cell_type": "code",
      "metadata": {
        "id": "43P-uNhxfTGU",
        "colab_type": "code",
        "outputId": "740ebb4a-1a45-452c-fd05-e18c94d4e0bb",
        "colab": {
          "base_uri": "https://localhost:8080/",
          "height": 34
        }
      },
      "source": [
        "#分析5 チューニングしたモデルにテストデータを代入\n",
        "\n",
        "y_pred_on_test = rf_best.predict(X_test)\n",
        "rf_best_test_mse = mean_squared_error(y_test, y_pred_on_test)\n",
        "print('RandomForest RMSE: ', round(np.sqrt(rf_best_test_mse), 3))"
      ],
      "execution_count": 39,
      "outputs": [
        {
          "output_type": "stream",
          "text": [
            "RandomForest RMSE:  0.012\n"
          ],
          "name": "stdout"
        }
      ]
    },
    {
      "cell_type": "code",
      "metadata": {
        "id": "OXUicVllfTGc",
        "colab_type": "code",
        "outputId": "e36ef5ac-6b7a-4a76-d5dd-f442ecdc2f14",
        "colab": {
          "base_uri": "https://localhost:8080/",
          "height": 618
        }
      },
      "source": [
        "#分析5 テストデータを代入\n",
        "#誤差を可視化\n",
        "\n",
        "plt.scatter(y_test, y_pred_on_test)\n",
        "plt.show()\n",
        "\n",
        "import seaborn as sns\n",
        "\n",
        "error_rate = (y_test - y_pred_on_test) / y_test\n",
        "print('Mean: ', round(np.mean(error_rate), 5))\n",
        "print('Std: ', round(np.std(error_rate), 5))\n",
        "sns.distplot(error_rate, kde=False, rug=False, bins=20)"
      ],
      "execution_count": 40,
      "outputs": [
        {
          "output_type": "display_data",
          "data": {
            "image/png": "[encoded data removed]",
            "text/plain": [
              "<Figure size 432x288 with 1 Axes>"
            ]
          },
          "metadata": {
            "tags": [],
            "needs_background": "light"
          }
        },
        {
          "output_type": "stream",
          "text": [
            "Mean:  1.84371\n",
            "Std:  4.31453\n"
          ],
          "name": "stdout"
        },
        {
          "output_type": "stream",
          "text": [
            "/usr/local/lib/python3.6/dist-packages/statsmodels/tools/_testing.py:19: FutureWarning: pandas.util.testing is deprecated. Use the functions in the public API at pandas.testing instead.\n",
            "  import pandas.util.testing as tm\n"
          ],
          "name": "stderr"
        },
        {
          "output_type": "execute_result",
          "data": {
            "text/plain": [
              "<matplotlib.axes._subplots.AxesSubplot at 0x7fd95504e5f8>"
            ]
          },
          "metadata": {
            "tags": []
          },
          "execution_count": 40
        },
        {
          "output_type": "display_data",
          "data": {
            "image/png": "[encoded data removed]",
            "text/plain": [
              "<Figure size 432x288 with 1 Axes>"
            ]
          },
          "metadata": {
            "tags": [],
            "needs_background": "light"
          }
        }
      ]
    },
    {
      "cell_type": "code",
      "metadata": {
        "id": "sGW47_XkfTGi",
        "colab_type": "code",
        "outputId": "e2854486-0c9c-4386-d498-a18cb7c18b4a",
        "colab": {
          "base_uri": "https://localhost:8080/",
          "height": 581
        }
      },
      "source": [
        "#分析6 クラスタリング\n",
        "#https://hironsan.hatenablog.com/entry/clustering-word-vectors\n",
        "\n",
        "from collections import defaultdict\n",
        "from gensim.models.keyedvectors import KeyedVectors\n",
        "from sklearn.cluster import KMeans\n",
        "\n",
        "model = KeyedVectors.load('skipgram_w2v.model')\n",
        "max_vocab = 30000\n",
        "vocab = list(model.wv.vocab.keys())[:max_vocab]\n",
        "vectors = [model.wv[word] for word in vocab]\n",
        "\n",
        "n_clusters = 30\n",
        "kmeans_model = KMeans(n_clusters=n_clusters, verbose=1, random_state=1234, n_jobs=-1)\n",
        "kmeans_model.fit(vectors)\n",
        "\n",
        "cluster_labels = kmeans_model.labels_\n",
        "cluster_to_words = defaultdict(list)\n",
        "for cluster_id, word in zip(cluster_labels, vocab):\n",
        "    cluster_to_words[cluster_id].append(word)\n",
        "\n",
        "for words in cluster_to_words.values():\n",
        "    print(words[:10])"
      ],
      "execution_count": 41,
      "outputs": [
        {
          "output_type": "stream",
          "text": [
            "/usr/local/lib/python3.6/dist-packages/smart_open/smart_open_lib.py:253: UserWarning: This function is deprecated, use smart_open.open instead. See the migration notes for details: https://github.com/RaRe-Technologies/smart_open/blob/master/README.rst#migrating-to-the-new-open-function\n",
            "  'See the migration notes for details: %s' % _MIGRATION_NOTES_URL\n"
          ],
          "name": "stderr"
        },
        {
          "output_type": "stream",
          "text": [
            "['trump', 'show', 'teamtrump', 'realdonaldtrump', '\\u2066', '\\u2069', 'andrewcmccarthy', 'swamp', 'katiepavlich', 'interview']\n",
            "['gets', 'little', 'put', 'talk', 'brought', 'one', 'thing', 'never', 'even', 'called']\n",
            "['bump', 'gallup', 'poll', '49', 'approval', '6', '47', '7', 'point', '8']\n",
            "['latest', 'president', 'mikepence', 'pandemic', 'response', 'supply', 'hughhewitt', 'w', 'potus', 'received']\n",
            "['tied', 'fire', 'ny', 'using', 'gave', 'direction', 'strategy', 'seems', 'bucksexton', 'responsible']\n",
            "['best', 'trillion', 'history', 'gopchairwoman', 'economic', 'highest', 'levels', 'economy', 'openings', 'hispanics']\n",
            "['governor', 'military', 'vote', 'opponent', 'vets', 'fighter', 'pilot', 'tom', 'tiffany', 'advocate']\n",
            "['michigan', 'night', 'supporters', '2020', 'incredible', 'wisconsin', 'iowa', 'thank', 'supporting', 'tune']\n",
            "['give', 'want', 'make', 'senators', 'given', 'enough', 'hard', 'always', 'fight', 'drain']\n",
            "['good', 'deal', 'testing', 'chinese', 'ultimately', 'impact', 'financial', 'assistance', 'including', 'virus']\n",
            "['people', 'lives', 'stand', 'leadership', 'america', 'americans', 'every', 'day', 'message', 'rest']\n",
            "['angry', 'lied', 'dirty', 'fusion', 'fbi', 'cops', 'james', 'comey', 'lyin', 'caught']\n",
            "['back', 'fixing', 'roads', 'gm', 'production', 'making', 'ranchers', 'business', 'keep', 'plants']\n",
            "['safely', 'home', 'states', 'middle', 'sentomcotton', 'may', 'around', 'helping', 'largely', 'thousands']\n",
            "['see', 'great', 'first', 'days', 'working', 'tremendous', 'new', 'team', '12th', 'big']\n",
            "['cryin', 'chuck', 'schumer', 'spent', 'authority', 'rep', 'voted', 'democrats', 'tried', 'repstefanik']\n",
            "['compared', 'loser', 'aoc', 'late', 'run', 'got', 'mike', 'away', 'bit', 'joe']\n",
            "['totally', 'wonder', 'cuomo', 'false', 'media', 'worse', 'fake', 'news', 'partner', 'covering']\n",
            "['stop', 'border', 'necessary', 'immigration', 'human', 'agents', 'built', 'build', 'crisis', 'cities']\n",
            "['job', 'defense', 'distinction', 'special', 'navy', 'general', 'director', 'michael', 'hero', 'former']\n",
            "['ventilators', 'careful', 'teachers', 'hospitals', 'food', 'spread', 'airport', 'covid', 'officials', 'closely']\n",
            "['dollars', 'farmers', 'beef', '25', 'pay', 'us', 'payments', 'goods', 'gas', 'paying']\n",
            "['east', 'met', 'denmark', 'test', 'meeting', 'leaders', 'launch', 'discussing', 'putin', 'republic']\n",
            "['act', 'ensure', 'work', 'chuckgrassley', 'cut', 'need', 'congress', 'help', 'small', 'tax']\n",
            "['cop', 'case', 'investigation', 'genflynn', 'corruption', 'docs', 'mueller', 'deep', 'knew', 'flynn']\n",
            "['honor', 'civilian', 'americas', 'nation', 'liberty', 'freedom', 'communities', 'ones', 'bravery', 'helicopter']\n",
            "['whitehouse', 'live', 'delivers', 'remarks', 'oval', '45', 'joined', 'garden', 'conference', '530']\n",
            "['jimjordan', 'released', 'transcript', 'elisestefanik', 'pro', 'link', 'lies', 'release', 'read', 'charges']\n",
            "['parts', 'strongest', 'powell', 'higher', 'low', 'federal', 'ease', 'usual', 'interest', 'lower']\n",
            "['🤦', '🏼', '\\u200d', '♂', 'स', 'ं', 'ी', 'क', 'े', '्']\n"
          ],
          "name": "stdout"
        }
      ]
    },
    {
      "cell_type": "code",
      "metadata": {
        "id": "Fu0b2E73mdhz",
        "colab_type": "code",
        "outputId": "2aaf0d02-91b6-49c9-be53-05a3f72d0341",
        "colab": {
          "base_uri": "https://localhost:8080/",
          "height": 466
        }
      },
      "source": [
        "#分析7 似ている単語をプロット\n",
        "# https://yoshipc.net/python-word2vec/\n",
        " \n",
        "from gensim.models import word2vec\n",
        "import numpy as np\n",
        "import matplotlib.pyplot as plt\n",
        "from sklearn.decomposition import PCA\n",
        " \n",
        "model = word2vec.Word2Vec.load(\"/content/skipgram_w2v.model\")\n",
        " \n",
        "#調べる情報を配列に収納\n",
        "trump_word = []\n",
        "trump_word.append([\"america\",\"china\"])\n",
        "trump_word.append([\"america\",\"great\"])\n",
        "trump_word.append([\"america\",\"japan\"])\n",
        "trump_word.append([\"trump\",\"president\"])\n",
        "trump_word.append([\"coronavirus\",\"covid\"])\n",
        "trump_word.append([\"coronavirus\",\"economy\"])\n",
        "trump_word.append([\"stock\",\"economy\"])\n",
        "\n",
        "length = len(trump_word)\n",
        "data = []\n",
        " \n",
        "j = 0\n",
        "while j < length:\n",
        "    #print(trump_word[j][1])\n",
        "    data.append(model[trump_word[j][0]])\n",
        "    data.append(model[trump_word[j][1]])\n",
        "    j += 1\n",
        " \n",
        "pca = PCA(n_components=2)\n",
        "pca.fit(data)\n",
        "data_pca= pca.transform(data)\n",
        " \n",
        "length_data = len(data_pca)\n",
        " \n",
        "i = 0\n",
        "j = 0\n",
        "\n",
        "plt.figure(figsize=(2.4, 1.8), dpi=200)\n",
        "\n",
        "while i < length_data:\n",
        "    #点プロット\n",
        "    plt.plot(data_pca[i][0], data_pca[i][1], ms=5.0, zorder=2 ,marker=\"x\")\n",
        "    plt.plot(data_pca[i+1][0], data_pca[i+1][1],ms=5.0, zorder=2 ,marker=\"x\")\n",
        " \n",
        "    #線プロット\n",
        "    plt.plot((data_pca[i][0], data_pca[i+1][0]),(data_pca[i][1],data_pca[i+1][1]),c=\"b\",linewidth=0.5,zorder=1,linestyle=\"--\")\n",
        " \n",
        "    #文字プロット\n",
        "    plt.annotate(trump_word[j][0],(data_pca[i][0], data_pca[i][1]),size=7)\n",
        "    plt.annotate(trump_word[j][1],(data_pca[i+1][0], data_pca[i+1][1]),size=7)\n",
        " \n",
        "    j += 1\n",
        "    i += 2\n",
        " \n",
        "plt.show()"
      ],
      "execution_count": 42,
      "outputs": [
        {
          "output_type": "stream",
          "text": [
            "/usr/local/lib/python3.6/dist-packages/smart_open/smart_open_lib.py:253: UserWarning: This function is deprecated, use smart_open.open instead. See the migration notes for details: https://github.com/RaRe-Technologies/smart_open/blob/master/README.rst#migrating-to-the-new-open-function\n",
            "  'See the migration notes for details: %s' % _MIGRATION_NOTES_URL\n",
            "/usr/local/lib/python3.6/dist-packages/ipykernel_launcher.py:27: DeprecationWarning: Call to deprecated `__getitem__` (Method will be removed in 4.0.0, use self.wv.__getitem__() instead).\n",
            "/usr/local/lib/python3.6/dist-packages/ipykernel_launcher.py:28: DeprecationWarning: Call to deprecated `__getitem__` (Method will be removed in 4.0.0, use self.wv.__getitem__() instead).\n"
          ],
          "name": "stderr"
        },
        {
          "output_type": "display_data",
          "data": {
            "image/png": "[encoded data removed]",
            "text/plain": [
              "<Figure size 480x360 with 1 Axes>"
            ]
          },
          "metadata": {
            "tags": [],
            "needs_background": "light"
          }
        }
      ]
    },
    {
      "cell_type": "code",
      "metadata": {
        "id": "zXq4SYqwp5Xu",
        "colab_type": "code",
        "colab": {}
      },
      "source": [
        "#分析8 DeepLearning\n",
        "#ライブラリをインポート\n",
        "\n",
        "import numpy as np\n",
        "import pandas as pd\n",
        "import torch\n",
        "from torch import nn\n",
        "from torch import optim\n",
        "import torch.nn.functional as F\n",
        "from torch.utils.data import DataLoader, TensorDataset\n",
        "from sklearn.model_selection import train_test_split\n",
        "from sklearn.metrics import confusion_matrix\n",
        "import matplotlib.pyplot as plt"
      ],
      "execution_count": 0,
      "outputs": []
    },
    {
      "cell_type": "code",
      "metadata": {
        "id": "4uecjMVBTBij",
        "colab_type": "code",
        "colab": {}
      },
      "source": [
        "class myMLP(nn.Module):\n",
        "    def __init__(self, in_features, out_features):\n",
        "        super().__init__()\n",
        "        self.ln1 = nn.Linear(in_features, 256)\n",
        "        self.ln2 = nn.Linear(256, 128)\n",
        "        self.ln3 = nn.Linear(128, 32)\n",
        "        self.ln4 = nn.Linear(32, 64)\n",
        "        self.ln5 = nn.Linear(64, 32)\n",
        "        self.ln6 = nn.Linear(32, 4)\n",
        "        self.ln7 = nn.Linear(4, out_features)\n",
        "\n",
        "    def forward(self, x):\n",
        "        x = self.ln1(x)\n",
        "        x = F.relu(x)\n",
        "        x = self.ln2(x)\n",
        "        x = F.relu(x)\n",
        "        x = self.ln3(x)\n",
        "        x = F.relu(x)\n",
        "        x = self.ln4(x)\n",
        "        x = F.relu(x)\n",
        "        x = self.ln5(x)\n",
        "        x = F.relu(x)\n",
        "        x = self.ln6(x)\n",
        "        x = F.relu(x)\n",
        "        x = self.ln7(x)\n",
        "        return x"
      ],
      "execution_count": 0,
      "outputs": []
    },
    {
      "cell_type": "code",
      "metadata": {
        "id": "_qwTPkn83jED",
        "colab_type": "code",
        "outputId": "e8b7051c-172d-46dc-abdb-80e2ad0a5f7b",
        "colab": {
          "base_uri": "https://localhost:8080/",
          "height": 407
        }
      },
      "source": [
        "#分析8 DeepLearning\n",
        "# NumPyのarryをtorch.tensor型に変換する。\n",
        "\n",
        "X_train, X_test, y_train, y_test = train_test_split(\n",
        "    X, y, test_size=0.2, random_state=1234)\n",
        "\n",
        "X_train_tensor = torch.tensor(X_train, dtype=torch.float32)\n",
        "y_train_tensor = torch.tensor(y_train, dtype=torch.float32)\n",
        "X_test_tensor = torch.tensor(X_test, dtype=torch.float32)\n",
        "y_test_tensor = torch.tensor(y_test, dtype=torch.float32)\n",
        "\n",
        "train_dataset = TensorDataset(X_train_tensor, y_train_tensor)\n",
        "train_loader = DataLoader(train_dataset, batch_size=100, shuffle=True)\n",
        "\n",
        "#ネットワークを書く\n",
        "net = myMLP(300,1)\n",
        "net.parameters\n",
        "\n",
        "#目的関数を指定（今回は回帰問題のためMSELoss()を使用する）\n",
        "#https://pytorch.org/docs/stable/nn.html#loss-functions\n",
        "loss_func = nn.MSELoss()\n",
        "#Optimizerを定義する\n",
        "#https://pytorch.org/docs/stable/optim.html\n",
        "optimizer = optim.RMSprop(net.parameters())\n",
        "  \n",
        "train_loss_track = []\n",
        "test_loss_track = []\n",
        "\n",
        "for epoc in range(10):\n",
        "    running_loss = 0\n",
        "    \n",
        "    # 学習モード\n",
        "    net.train()\n",
        "    for step, (xx, yy)  in enumerate(train_loader):\n",
        "        \n",
        "        # 最後に計算した各パラメーターの勾配を初期化する\n",
        "        optimizer.zero_grad()\n",
        "        \n",
        "        # フォワード計算を行う\n",
        "        y_pred = net(xx).float()\n",
        "        \n",
        "        # 誤差関数を使ってギャップの計測\n",
        "        loss = loss_func(y_pred, yy)\n",
        "      \n",
        "        # 誤差逆伝播法を使って自動微分\n",
        "        loss.backward()\n",
        "        \n",
        "        # パラメーターを更新\n",
        "        optimizer.step()\n",
        "        \n",
        "        # 学習データを使って誤差を計算\n",
        "        running_loss += loss.item()\n",
        "        \n",
        "    # エポックが終了したら平均誤差を計算\n",
        "    train_loss_track.append(running_loss/step)\n",
        "    \n",
        "    \n",
        "    #評価（evaluation）モード\n",
        "    net.eval()\n",
        "    \n",
        "    # 予測値を計算\n",
        "    y_pred = net(X_test_tensor)\n",
        "    \n",
        "    # 誤差関数を計算\n",
        "    test_loss = loss_func(y_pred, y_test_tensor)\n",
        "    \n",
        "    # 誤差をトラッキング\n",
        "    test_loss_track.append(test_loss)\n",
        "\n",
        "\n",
        "\n",
        "plt.plot(train_loss_track)\n",
        "plt.plot(test_loss_track)\n",
        "print(\"test_loss: \",sum(test_loss_track)/len(test_loss_track))"
      ],
      "execution_count": 45,
      "outputs": [
        {
          "output_type": "stream",
          "text": [
            "/usr/local/lib/python3.6/dist-packages/torch/nn/modules/loss.py:432: UserWarning: Using a target size (torch.Size([100])) that is different to the input size (torch.Size([100, 1])). This will likely lead to incorrect results due to broadcasting. Please ensure they have the same size.\n",
            "  return F.mse_loss(input, target, reduction=self.reduction)\n",
            "/usr/local/lib/python3.6/dist-packages/torch/nn/modules/loss.py:432: UserWarning: Using a target size (torch.Size([57])) that is different to the input size (torch.Size([57, 1])). This will likely lead to incorrect results due to broadcasting. Please ensure they have the same size.\n",
            "  return F.mse_loss(input, target, reduction=self.reduction)\n",
            "/usr/local/lib/python3.6/dist-packages/torch/nn/modules/loss.py:432: UserWarning: Using a target size (torch.Size([165])) that is different to the input size (torch.Size([165, 1])). This will likely lead to incorrect results due to broadcasting. Please ensure they have the same size.\n",
            "  return F.mse_loss(input, target, reduction=self.reduction)\n"
          ],
          "name": "stderr"
        },
        {
          "output_type": "stream",
          "text": [
            "test_loss:  tensor(0.0429, grad_fn=<DivBackward0>)\n"
          ],
          "name": "stdout"
        },
        {
          "output_type": "display_data",
          "data": {
            "image/png": "[encoded data removed]",
            "text/plain": [
              "<Figure size 432x288 with 1 Axes>"
            ]
          },
          "metadata": {
            "tags": [],
            "needs_background": "light"
          }
        }
      ]
    },
    {
      "cell_type": "code",
      "metadata": {
        "id": "Zs3RyM14_Was",
        "colab_type": "code",
        "outputId": "dff023cb-3c10-4c5a-b85e-27b859f94d90",
        "colab": {
          "base_uri": "https://localhost:8080/",
          "height": 537
        }
      },
      "source": [
        "#分析9　TFIDFを用いたランダムフォレスト\n",
        "\n",
        "#形態素解析のデータセットを作る\n",
        "#https://qiita.com/tomone_hata/items/67e7f9415dbf5c8ff8ba\n",
        "\n",
        "from sklearn.feature_extraction.text import CountVectorizer, TfidfTransformer\n",
        "\n",
        "#形態素解析のデータセットを作る\n",
        "#文章を全部１つのリストに入れる→TFIDFを作る→それぞれの日付に出てくる単語をKeyにTFIDFの値を取ってくる\n",
        "\n",
        "data_keitaiso = pd.read_csv(\"s&p_tweets.csv\")\n",
        "tweet_keitaiso=[]\n",
        "\n",
        "for tweet in data_keitaiso[\"text\"]:\n",
        "  tweet = re.sub(r'^RT[\\s]+', '', tweet)\n",
        "  tweet = re.sub(r'(http|https):\\/\\/.*[\\r\\n]*', '', tweet)\n",
        "  tweet = re.sub(r'#', '', tweet)\n",
        "  tweet = tweet.translate(str.maketrans('', '', string.punctuation)) \n",
        "  tweet_keitaiso.append(tweet)\n",
        "\n",
        "corpus = tweet_keitaiso         \n",
        "cv = CountVectorizer(token_pattern=r\"\\b\\w+\\b\")\n",
        "wc = cv.fit_transform(corpus)\n",
        "ttf = TfidfTransformer()\n",
        "tfidf = ttf.fit_transform(wc)\n",
        "\n",
        "#蜜行列に変更する\n",
        "X_tfidf = tfidf.toarray()\n",
        "\n",
        "data3 = pd.DataFrame(X_tfidf)\n",
        "df_tweets_tfidf =  pd.concat([data_keitaiso, data3], axis=1)\n",
        "\n",
        "df = df_tweets_tfidf.groupby([\"date\"]).mean()\n",
        "df_sp = pd.read_csv(\"/content/sp500-10-year-daily-chart.csv\")\n",
        "df_sp[\"log\"] = np.log(df_sp[\" value\"])\n",
        "df_sp[\"dif_log\"] = df_sp[\"log\"].diff()\n",
        "df2=pd.merge(df_sp, df, how=\"inner\" ,on=\"date\")\n",
        "df2 = df2.drop(\" value\", axis=1)\n",
        "df3 = df_tweets_tfidf[[\"date\",\"text\"]]\n",
        "df3 = df3.groupby([\"date\"]).count()\n",
        "df_tfidf = pd.merge( df3, df2, how=\"inner\" ,on=\"date\")\n",
        "df_tfidf[\"date\"] = pd.to_datetime(df4['date']).astype('int64')\n",
        "\n",
        "from sklearn.model_selection import train_test_split\n",
        "\n",
        "target_col = 'dif_log'\n",
        "exclude_cols = ['log', 'price', 'dif_log', \"date\",\"text\"]\n",
        "feature_cols = []\n",
        "for col in df_tfidf.columns:\n",
        "    if col not in exclude_cols:\n",
        "        feature_cols.append(col)\n",
        "        \n",
        "X2 = np.array(df_tfidf[feature_cols])\n",
        "y2 = np.array(df_tfidf[target_col])\n",
        "\n",
        "X２_train_val, X２_test, y２_train_val, y２_test = train_test_split(\n",
        "    X２, y２, test_size=0.1, random_state=1234)\n",
        "\n",
        "X２_train, X２_val, y２_train, y２_val = train_test_split(\n",
        "    X２_train_val, y２_train_val, test_size=0.1, random_state=1234)\n",
        "\n",
        "#分析\n",
        "from sklearn.ensemble import RandomForestRegressor\n",
        "\n",
        "rf = RandomForestRegressor(n_estimators=100, random_state=1234)\n",
        "rf.fit(X２_train, y２_train)\n",
        "y２_pred = rf.predict(X２_val)\n",
        "rf_mse_2 = mean_squared_error(y２_val, y２_pred)\n",
        "print('RandomForestRegressor RMSE: ', round(np.sqrt(rf_mse_2), 3))\n",
        "\n",
        "#プロット\n",
        "rf_importances = pd.DataFrame(rf.feature_importances_, columns=['importance'], index=feature_cols)\n",
        "rf_importances.sort_values('importance', ascending=False).iloc[0:15].plot(kind='barh')\n",
        "\n",
        "#列名をゲット\n",
        "#https://note.nkmk.me/python-dict-get-key-from-value/\n",
        "\n",
        "voca = cv.vocabulary_\n",
        "\n",
        "def get_keys_from_value(d, val):\n",
        "    return [k for k, v in d.items() if v == val]\n",
        "\n",
        "for i in rf_importances.sort_values('importance', ascending=False).iloc[0:15].index:\n",
        "  keys = get_keys_from_value(voca, i)\n",
        "  print(keys)\n",
        "# ['key1', 'key2']"
      ],
      "execution_count": 46,
      "outputs": [
        {
          "output_type": "stream",
          "text": [
            "RandomForestRegressor RMSE:  0.016\n",
            "['confident']\n",
            "['coronavirus']\n",
            "['declare']\n",
            "['nationwide']\n",
            "['duly']\n",
            "['spreading']\n",
            "['covid19']\n",
            "['practice']\n",
            "['cutter']\n",
            "['outbreak']\n",
            "['545']\n",
            "['prevail']\n",
            "['restaurants']\n",
            "['billcassidy']\n",
            "['jack']\n"
          ],
          "name": "stdout"
        },
        {
          "output_type": "display_data",
          "data": {
            "image/png": "[encoded data removed]",
            "text/plain": [
              "<Figure size 432x288 with 1 Axes>"
            ]
          },
          "metadata": {
            "tags": [],
            "needs_background": "light"
          }
        }
      ]
    },
    {
      "cell_type": "code",
      "metadata": {
        "id": "3fRvcdNFclQU",
        "colab_type": "code",
        "outputId": "657a5823-4e51-4df9-b2b3-43ce18c94248",
        "colab": {
          "base_uri": "https://localhost:8080/",
          "height": 404
        }
      },
      "source": [
        "#分析10　形態素解析でDeepLearning\n",
        "\n",
        "X2_train, X2_test, y2_train, y2_test = train_test_split(\n",
        "    X２, y2, test_size=0.2, random_state=1234)\n",
        "\n",
        "X2_train_tensor = torch.tensor(X2_train, dtype=torch.float32)\n",
        "y2_train_tensor = torch.tensor(y2_train, dtype=torch.float32)\n",
        "X2_test_tensor = torch.tensor(X2_test, dtype=torch.float32)\n",
        "y2_test_tensor = torch.tensor(y2_test, dtype=torch.float32)\n",
        "\n",
        "train2_dataset = TensorDataset(X2_train_tensor, y2_train_tensor)\n",
        "train2_loader = DataLoader(train2_dataset, batch_size=100, shuffle=True)\n",
        "\n",
        "#ネットワークを書く\n",
        "net = myMLP(16493,1)\n",
        "net.parameters\n",
        "\n",
        "#目的関数を指定（今回は回帰問題のためMSELoss()を使用する）\n",
        "#https://pytorch.org/docs/stable/nn.html#loss-functions\n",
        "loss_func = nn.MSELoss()\n",
        "#Optimizerを定義する\n",
        "#https://pytorch.org/docs/stable/optim.html\n",
        "optimizer = optim.RMSprop(net.parameters())\n",
        "  \n",
        "train_loss_track = []\n",
        "test_loss_track = []\n",
        "\n",
        "for epoc in range(10):\n",
        "    running_loss = 0\n",
        "    \n",
        "    # 学習モード\n",
        "    net.train()\n",
        "    for step, (xx, yy)  in enumerate(train2_loader):\n",
        "        \n",
        "        # 最後に計算した各パラメーターの勾配を初期化する\n",
        "        optimizer.zero_grad()\n",
        "        \n",
        "        # フォワード計算を行う\n",
        "        y_pred = net(xx).float()\n",
        "        \n",
        "        # 誤差関数を使ってギャップの計測\n",
        "        loss = loss_func(y_pred, yy)\n",
        "      \n",
        "        # 誤差逆伝播法を使って自動微分\n",
        "        loss.backward()\n",
        "        \n",
        "        # パラメーターを更新\n",
        "        optimizer.step()\n",
        "        \n",
        "        # 学習データを使って誤差を計算\n",
        "        running_loss += loss.item()\n",
        "        \n",
        "    # エポックが終了したら平均誤差を計算\n",
        "    train_loss_track.append(running_loss/step)\n",
        "    \n",
        "    \n",
        "    #評価（evaluation）モード\n",
        "    net.eval()\n",
        "    \n",
        "    # 予測値を計算\n",
        "    y_pred = net(X2_test_tensor)\n",
        "    \n",
        "    # 誤差関数を計算\n",
        "    test_loss = loss_func(y_pred, y2_test_tensor)\n",
        "    \n",
        "    # 誤差をトラッキング\n",
        "    test_loss_track.append(test_loss)\n",
        "\n",
        "\n",
        "\n",
        "plt.plot(train_loss_track)\n",
        "plt.plot(test_loss_track)\n",
        "print(\"test_loss: \",sum(test_loss_track)/len(test_loss_track))"
      ],
      "execution_count": 47,
      "outputs": [
        {
          "output_type": "stream",
          "text": [
            "/usr/local/lib/python3.6/dist-packages/torch/nn/modules/loss.py:432: UserWarning: Using a target size (torch.Size([100])) that is different to the input size (torch.Size([100, 1])). This will likely lead to incorrect results due to broadcasting. Please ensure they have the same size.\n",
            "  return F.mse_loss(input, target, reduction=self.reduction)\n",
            "/usr/local/lib/python3.6/dist-packages/torch/nn/modules/loss.py:432: UserWarning: Using a target size (torch.Size([57])) that is different to the input size (torch.Size([57, 1])). This will likely lead to incorrect results due to broadcasting. Please ensure they have the same size.\n",
            "  return F.mse_loss(input, target, reduction=self.reduction)\n",
            "/usr/local/lib/python3.6/dist-packages/torch/nn/modules/loss.py:432: UserWarning: Using a target size (torch.Size([165])) that is different to the input size (torch.Size([165, 1])). This will likely lead to incorrect results due to broadcasting. Please ensure they have the same size.\n",
            "  return F.mse_loss(input, target, reduction=self.reduction)\n"
          ],
          "name": "stderr"
        },
        {
          "output_type": "stream",
          "text": [
            "test_loss:  tensor(0.0058, grad_fn=<DivBackward0>)\n"
          ],
          "name": "stdout"
        },
        {
          "output_type": "display_data",
          "data": {
            "image/png": "[encoded data removed]",
            "text/plain": [
              "<Figure size 432x288 with 1 Axes>"
            ]
          },
          "metadata": {
            "tags": [],
            "needs_background": "light"
          }
        }
      ]
    },
    {
      "cell_type": "code",
      "metadata": {
        "id": "bUApNSsf5GmF",
        "colab_type": "code",
        "outputId": "314967ea-8457-46e9-d645-35c6011b9aee",
        "colab": {
          "base_uri": "https://localhost:8080/",
          "height": 85
        }
      },
      "source": [
        "#分析11 アンサンブル学習\n",
        "# https://blog.ikedaosushi.com/entry/2018/10/21/204842?t=0\n",
        "\n",
        "random_state = 1234\n",
        "\n",
        "X_train_valid, X_meta_valid, y_train_valid, y_meta_valid = train_test_split(X, y, test_size=0.1, random_state=random_state)\n",
        "X_train, X_valid, y_train, y_valid = train_test_split(X_train_valid, y_train_valid, test_size=0.1, random_state=random_state)\n",
        "\n",
        "import lightgbm as lgb\n",
        "import sklearn\n",
        "from sklearn.linear_model import LinearRegression\n",
        "from sklearn.model_selection import train_test_split\n",
        "from sklearn.metrics import mean_squared_error\n",
        "from sklearn.neighbors import KNeighborsRegressor\n",
        "from lightgbm import LGBMRegressor\n",
        "\n",
        "# train base model\n",
        "base_model_1 = LinearRegression()\n",
        "base_model_2 = LGBMRegressor()\n",
        "base_model_3 = KNeighborsRegressor()\n",
        "\n",
        "base_model_1.fit(X_train, y_train)\n",
        "base_model_2.fit(X_train, y_train)\n",
        "base_model_3.fit(X_train, y_train)\n",
        "\n",
        "# base predicts\n",
        "base_pred_1 = base_model_1.predict(X_valid)\n",
        "base_pred_2 = base_model_2.predict(X_valid)\n",
        "base_pred_3 = base_model_3.predict(X_valid)\n",
        "\n",
        "# test predicts for final result \n",
        "valid_pred_1 = base_model_1.predict(X_meta_valid)\n",
        "valid_pred_2 = base_model_2.predict(X_meta_valid)\n",
        "valid_pred_3 = base_model_3.predict(X_meta_valid)\n",
        "\n",
        "print (\"mean squared error of model 1: {:.4f}\".format(mean_squared_error(y_meta_valid, valid_pred_1)) )\n",
        "print (\"mean squared error of model 2: {:.4f}\".format(mean_squared_error(y_meta_valid, valid_pred_2)) )\n",
        "print (\"mean squared error of model 3: {:.4f}\".format(mean_squared_error(y_meta_valid, valid_pred_3)) )\n",
        "\n",
        "# stack base predicts for training meta model\n",
        "stacked_predictions = np.column_stack((base_pred_1, base_pred_2, base_pred_3))\n",
        "\n",
        "# stack test predicts for final result \n",
        "stacked_valid_predictions = np.column_stack((valid_pred_1, valid_pred_2, valid_pred_3))\n",
        "\n",
        "# train meta model \n",
        "meta_model = LinearRegression()\n",
        "meta_model.fit(stacked_predictions, y_valid)\n",
        "\n",
        "# final result \n",
        "meta_valid_pred = meta_model.predict(stacked_valid_predictions)\n",
        "print (\"mean squared error of meta model: {:.4f}\".format(mean_squared_error(y_meta_valid, meta_valid_pred)) )\n"
      ],
      "execution_count": 48,
      "outputs": [
        {
          "output_type": "stream",
          "text": [
            "mean squared error of model 1: 0.0004\n",
            "mean squared error of model 2: 0.0001\n",
            "mean squared error of model 3: 0.0001\n",
            "mean squared error of meta model: 0.0001\n"
          ],
          "name": "stdout"
        }
      ]
    },
    {
      "cell_type": "code",
      "metadata": {
        "id": "pcp2tIVEfTGo",
        "colab_type": "code",
        "colab": {}
      },
      "source": [
        "#上手くいってない\n",
        "#分析6 Doc2Vecでツイートをクラスタリングする①\n",
        "#https://qiita.com/g-k/items/5ea94c13281f675302ca\n",
        "\n",
        "#from gensim.models.doc2vec import Doc2Vec, TaggedDocument\n",
        "#from gensim import models\n",
        "\n",
        "#documents = [TaggedDocument(doc, [i]) for i, doc in enumerate(sentences)]\n",
        "#model = Doc2Vec(documents, vector_size=300, window=5, min_count=1, workers=4)\n",
        "#model.save(\"doc2_w2v.model\")"
      ],
      "execution_count": 0,
      "outputs": []
    },
    {
      "cell_type": "code",
      "metadata": {
        "id": "Ge2VGRbHfTGr",
        "colab_type": "code",
        "colab": {}
      },
      "source": [
        "#上手くいってない\n",
        "#分析6 Doc2Vecでツイートをクラスタリングする②\n",
        "#https://qiita.com/naotaka1128/items/e617f63907fed035408a\n",
        "\n",
        "#model = models.Doc2Vec.load('/content/doc2_w2v.model')\n",
        "\n",
        "from sklearn.decomposition import PCA\n",
        "import matplotlib.pyplot as plt\n",
        "\n",
        "def draw_word_scatter(word, topn=30):\n",
        "    \"\"\" 入力されたwordに似ている単語の分布図を描くためのメソッド \"\"\"\n",
        "\n",
        "    # 似ている単語を求めるためにはGensim word2vecの以下の機能を利用\n",
        "    # model.most_similar(word, topn=topn)\n",
        "    words = [x[0] for x in sorted(model.most_similar(word, topn=topn))]\n",
        "    words.append(word)\n",
        "\n",
        "    # 各単語のベクトル表現を求めます。Gensimのmost_similarをベースとして\n",
        "    # 単語のベクトルを返すメソッド(model.calc_vec)を定義しています\n",
        "    # 長くなるので実装は本稿の末尾に記載しました。\n",
        "    vecs = [model.calc_vec(word) for word in words]\n",
        "\n",
        "    # 分布図\n",
        "    draw_scatter_plot(vecs, words)\n",
        "\n",
        "def draw_scatter_plot(vecs, tags, clusters):\n",
        "    \"\"\" 入力されたベクトルに基づき散布図(ラベル付き)を描くためのメソッド \"\"\"\n",
        "\n",
        "    # Scikit-learnのPCAによる次元削減とその可視化\n",
        "    pca = PCA(n_components=2)\n",
        "    coords = pca.fit_transform(vecs)\n",
        "\n",
        "    # matplotlibによる可視化\n",
        "    fig, ax = plt.subplots()\n",
        "    x = [v[0] for v in coords]\n",
        "    y = [v[1] for v in coords]\n",
        "\n",
        "    # 各点のクラスターが設定されていればクラスタを考慮\n",
        "    # エラーハンドリングは適当\n",
        "    if clusters:\n",
        "        ax.scatter(x, y, c=clusters)\n",
        "    else:\n",
        "        ax.scatter(x, y)\n",
        "\n",
        "    for i, txt in enumerate(tags):\n",
        "        ax.annotate(txt, (coords[i][0], coords[i][1]))\n",
        "    plt.show()\n",
        "    \n",
        "#draw_word_scatter('coronavirus', topn=40)"
      ],
      "execution_count": 0,
      "outputs": []
    },
    {
      "cell_type": "code",
      "metadata": {
        "id": "o9aiwySJh-Kg",
        "colab_type": "code",
        "colab": {}
      },
      "source": [
        "#　まだできていない\n",
        "# モデルの精度を確認する\n",
        "# https://note.com/uki_profit/n/nab22a04262f9"
      ],
      "execution_count": 0,
      "outputs": []
    },
    {
      "cell_type": "code",
      "metadata": {
        "id": "Rc2BiUt2ikqY",
        "colab_type": "code",
        "colab": {}
      },
      "source": [
        "#分析２　決定木　描画\n",
        "\n",
        "#$ brew install graphviz\n",
        "\n",
        "#from sklearn.tree import export_graphviz\n",
        "#export_graphviz(regressor, out_file='tree.dot', feature_names=['nth', 'holiday'])\n",
        "\n",
        "#$ dot -Tpng tree.dot -o tree.png"
      ],
      "execution_count": 0,
      "outputs": []
    }
  ]
}