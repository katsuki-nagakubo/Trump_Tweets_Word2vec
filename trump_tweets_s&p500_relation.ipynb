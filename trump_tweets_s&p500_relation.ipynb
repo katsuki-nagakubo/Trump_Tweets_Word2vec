{
  "nbformat": 4,
  "nbformat_minor": 0,
  "metadata": {
    "kernelspec": {
      "display_name": "Python 3",
      "language": "python",
      "name": "python3"
    },
    "language_info": {
      "codemirror_mode": {
        "name": "ipython",
        "version": 3
      },
      "file_extension": ".py",
      "mimetype": "text/x-python",
      "name": "python",
      "nbconvert_exporter": "python",
      "pygments_lexer": "ipython3",
      "version": "3.7.4"
    },
    "colab": {
      "name": "trump_tweets_s&p500_relation.ipynb",
      "provenance": [],
      "collapsed_sections": [],
      "include_colab_link": true
    }
  },
  "cells": [
    {
      "cell_type": "markdown",
      "metadata": {
        "id": "view-in-github",
        "colab_type": "text"
      },
      "source": [
        "<a href=\"https://colab.research.google.com/github/katsuki-nagakubo/Tweets_Word2vec/blob/master/trump_tweets_s%26p500_relation.ipynb\" target=\"_parent\"><img src=\"https://colab.research.google.com/assets/colab-badge.svg\" alt=\"Open In Colab\"/></a>"
      ]
    },
    {
      "cell_type": "code",
      "metadata": {
        "id": "5TBDVbUQfTEM",
        "colab_type": "code",
        "colab": {}
      },
      "source": [
        "#データの取得と成形\n",
        "\n",
        "import pandas as pd\n",
        "import numpy as np\n",
        "import matplotlib.pyplot as plt "
      ],
      "execution_count": 0,
      "outputs": []
    },
    {
      "cell_type": "code",
      "metadata": {
        "id": "0etwSm9DfTEU",
        "colab_type": "code",
        "colab": {
          "base_uri": "https://localhost:8080/",
          "height": 34
        },
        "outputId": "4d07c6f3-1c17-4949-a933-0ab680a2d1bb"
      },
      "source": [
        "#https://teratail.com/questions/128725\n",
        "\n",
        "from ast import literal_eval\n",
        "from pprint import pprint\n",
        "\n",
        "f = open('/content/trump_tweets.txt', 'r')\n",
        "text = f.read()\n",
        "mylist = literal_eval(text)\n",
        "\n",
        "print(type(mylist), type(mylist[0]))"
      ],
      "execution_count": 57,
      "outputs": [
        {
          "output_type": "stream",
          "text": [
            "<class 'list'> <class 'dict'>\n"
          ],
          "name": "stdout"
        }
      ]
    },
    {
      "cell_type": "code",
      "metadata": {
        "id": "e2D_Z2KUfTEY",
        "colab_type": "code",
        "colab": {
          "base_uri": "https://localhost:8080/",
          "height": 34
        },
        "outputId": "a4cd1005-9984-4e5e-f190-a0c47c8e365f"
      },
      "source": [
        "df_text=[]\n",
        "df_created_at=[]\n",
        "df_id_str=[]\n",
        "\n",
        "print(len(mylist),\"tweets\")\n",
        "\n",
        "for i in range(len(mylist)):\n",
        "    text = mylist[i][\"text\"]\n",
        "    created_at = mylist[i][\"created_at\"]\n",
        "    id_str = mylist[i][\"id_str\"]\n",
        "    df_text.append(text)\n",
        "    df_created_at.append(created_at)\n",
        "    df_id_str.append(id_str)\n",
        "\n",
        "tweet_list=[df_created_at,df_id_str,df_text]\n",
        "#print(tweet_list)"
      ],
      "execution_count": 58,
      "outputs": [
        {
          "output_type": "stream",
          "text": [
            "17544 tweets\n"
          ],
          "name": "stdout"
        }
      ]
    },
    {
      "cell_type": "code",
      "metadata": {
        "id": "FfVe8YhPfTEc",
        "colab_type": "code",
        "colab": {}
      },
      "source": [
        "#https://ai-inter1.com/pandas-dataframe_basic/\n",
        "#リスト型にしたデータをPandasでDataFrameにした\n",
        "\n",
        "columns1=[\"created_at\"]\n",
        "tweet_data = pd.DataFrame( data = df_created_at, columns = columns1)\n",
        "tweet_data[\"id\"]=df_id_str\n",
        "tweet_data[\"text\"] = df_text"
      ],
      "execution_count": 0,
      "outputs": []
    },
    {
      "cell_type": "code",
      "metadata": {
        "id": "njrdAvuzfTEf",
        "colab_type": "code",
        "colab": {}
      },
      "source": [
        "#https://teratail.com/questions/132333\n",
        "#https://note.nkmk.me/python-pandas-datetime-timestamp/\n",
        "\n",
        "tweet_data[\"time_created_at\"] = pd.to_datetime(tweet_data['created_at'])\n",
        "tweet_data[\"date_created_at\"] = tweet_data[\"time_created_at\"].dt.date\n",
        "tweet_data[\"key\"]=pd.to_datetime(tweet_data[\"date_created_at\"])"
      ],
      "execution_count": 0,
      "outputs": []
    },
    {
      "cell_type": "code",
      "metadata": {
        "id": "iZi3fq8nfTEj",
        "colab_type": "code",
        "colab": {}
      },
      "source": [
        "# https://www.macrotrends.net/2488/sp500-10-year-daily-chart\n",
        "\n",
        "sp_data = pd.read_csv('/content/sp500-10-year-daily-chart.csv')\n",
        "sp_data[\"date_64\"] = pd.to_datetime(sp_data[\"date\"])\n",
        "sp_data[\"key\"] =sp_data[\"date_64\"] "
      ],
      "execution_count": 0,
      "outputs": []
    },
    {
      "cell_type": "code",
      "metadata": {
        "id": "Lb8q3TCTfTEn",
        "colab_type": "code",
        "colab": {
          "base_uri": "https://localhost:8080/",
          "height": 204
        },
        "outputId": "0681e0b8-f6a1-4126-885a-2a57c7aaf1f3"
      },
      "source": [
        "#内部結合\n",
        "#http://pppurple.hatenablog.com/entry/2016/06/27/022310#inner-join\n",
        "#https://note.nkmk.me/python-pandas-merge-join/\n",
        "\n",
        "tweet_data=pd.merge(tweet_data, sp_data)\n",
        "tweet_data.columns\n",
        "data = tweet_data[[\"key\",\" value\",\"text\"]]\n",
        "\n",
        "#行の名前を変更する　20200505\n",
        "data = data.rename(columns={\"key\": \"date\",\" value\":\"price\"})\n",
        "data.head()"
      ],
      "execution_count": 62,
      "outputs": [
        {
          "output_type": "execute_result",
          "data": {
            "text/html": [
              "<div>\n",
              "<style scoped>\n",
              "    .dataframe tbody tr th:only-of-type {\n",
              "        vertical-align: middle;\n",
              "    }\n",
              "\n",
              "    .dataframe tbody tr th {\n",
              "        vertical-align: top;\n",
              "    }\n",
              "\n",
              "    .dataframe thead th {\n",
              "        text-align: right;\n",
              "    }\n",
              "</style>\n",
              "<table border=\"1\" class=\"dataframe\">\n",
              "  <thead>\n",
              "    <tr style=\"text-align: right;\">\n",
              "      <th></th>\n",
              "      <th>date</th>\n",
              "      <th>price</th>\n",
              "      <th>text</th>\n",
              "    </tr>\n",
              "  </thead>\n",
              "  <tbody>\n",
              "    <tr>\n",
              "      <th>0</th>\n",
              "      <td>2020-05-01</td>\n",
              "      <td>2830.71</td>\n",
              "      <td>RT @StevenTDennis: Trump gets bump in latest G...</td>\n",
              "    </tr>\n",
              "    <tr>\n",
              "      <th>1</th>\n",
              "      <td>2020-05-01</td>\n",
              "      <td>2830.71</td>\n",
              "      <td>The Governor of Michigan should give a little,...</td>\n",
              "    </tr>\n",
              "    <tr>\n",
              "      <th>2</th>\n",
              "      <td>2020-05-01</td>\n",
              "      <td>2830.71</td>\n",
              "      <td>Cryin Chuck Schumer, compared to what other Se...</td>\n",
              "    </tr>\n",
              "    <tr>\n",
              "      <th>3</th>\n",
              "      <td>2020-05-01</td>\n",
              "      <td>2830.71</td>\n",
              "      <td>Cryin’ Chuck Schumer was on a late night show ...</td>\n",
              "    </tr>\n",
              "    <tr>\n",
              "      <th>4</th>\n",
              "      <td>2020-05-01</td>\n",
              "      <td>2830.71</td>\n",
              "      <td>RT @TeamTrump: President @realDonaldTrump: “We...</td>\n",
              "    </tr>\n",
              "  </tbody>\n",
              "</table>\n",
              "</div>"
            ],
            "text/plain": [
              "        date    price                                               text\n",
              "0 2020-05-01  2830.71  RT @StevenTDennis: Trump gets bump in latest G...\n",
              "1 2020-05-01  2830.71  The Governor of Michigan should give a little,...\n",
              "2 2020-05-01  2830.71  Cryin Chuck Schumer, compared to what other Se...\n",
              "3 2020-05-01  2830.71  Cryin’ Chuck Schumer was on a late night show ...\n",
              "4 2020-05-01  2830.71  RT @TeamTrump: President @realDonaldTrump: “We..."
            ]
          },
          "metadata": {
            "tags": []
          },
          "execution_count": 62
        }
      ]
    },
    {
      "cell_type": "code",
      "metadata": {
        "id": "RbtHgL9gfTEr",
        "colab_type": "code",
        "colab": {
          "base_uri": "https://localhost:8080/",
          "height": 34
        },
        "outputId": "fa4c5c24-f361-4ef6-b153-559e77e6823b"
      },
      "source": [
        "# trumpが大統領になった2017年1月20日から、GW前2020年5月1日までのデータを分析する\n",
        "# https://qiita.com/mSpring/items/6ec1ab28dcb261db2c73\n",
        "\n",
        "import datetime as dt\n",
        "data2 = data[(data['date'] >= dt.datetime(2017,1,20)) & (data['date'] <= dt.datetime(2020,5,1))]\n",
        "print( \"2017/01/20 - 2020/05/01のツイート数は\", len(data2))"
      ],
      "execution_count": 63,
      "outputs": [
        {
          "output_type": "stream",
          "text": [
            "2017/01/20 - 2020/05/01のツイート数は 12259\n"
          ],
          "name": "stdout"
        }
      ]
    },
    {
      "cell_type": "code",
      "metadata": {
        "id": "5uWu1eYpfTEv",
        "colab_type": "code",
        "colab": {}
      },
      "source": [
        "#新しいデータを追加すると上書き保存されるようにmode=\"a\"にした。\n",
        "\n",
        "#初回だけ,headerはTrue\n",
        "#data2.to_csv(\"s&p_tweets.csv\", index=False, mode='a', header=True)\n",
        "#2回目以降はFalse\n",
        "#data2.to_csv(\"s&p_tweets.csv\", index=False, mode='a', header=False)"
      ],
      "execution_count": 0,
      "outputs": []
    },
    {
      "cell_type": "code",
      "metadata": {
        "id": "nJcHtQApfTEy",
        "colab_type": "code",
        "colab": {
          "base_uri": "https://localhost:8080/",
          "height": 34
        },
        "outputId": "9c89b3dd-a1cb-4ab9-9e4d-efd8bc18edcc"
      },
      "source": [
        "# Fileを読み込むことで最新のデータで分析できる\n",
        "\n",
        "data = pd.read_csv(\"s&p_tweets.csv\")\n",
        "print( len(data),\"tweets\")"
      ],
      "execution_count": 65,
      "outputs": [
        {
          "output_type": "stream",
          "text": [
            "12259 tweets\n"
          ],
          "name": "stdout"
        }
      ]
    },
    {
      "cell_type": "code",
      "metadata": {
        "id": "UK-gdwmxfTE1",
        "colab_type": "code",
        "colab": {
          "base_uri": "https://localhost:8080/",
          "height": 88
        },
        "outputId": "7ae08197-2f80-4b87-8117-b001f7a379c7"
      },
      "source": [
        "#形態素解析\n",
        "#https://yottagin.com/?p=4360\n",
        "\n",
        "import nltk\n",
        "nltk.download('stopwords')\n",
        "\n",
        "tweet_tokenizer = nltk.tokenize.TweetTokenizer(preserve_case=False, strip_handles=True, reduce_len=True)\n",
        "for tweet in data[\"text\"][:1]:\n",
        "    print (tweet_tokenizer.tokenize(tweet))"
      ],
      "execution_count": 66,
      "outputs": [
        {
          "output_type": "stream",
          "text": [
            "[nltk_data] Downloading package stopwords to /root/nltk_data...\n",
            "[nltk_data]   Package stopwords is already up-to-date!\n",
            "['rt', ':', 'trump', 'gets', 'bump', 'in', 'latest', 'gallup', 'poll', ':', '49', '%', 'approval', '(', '+', '6', ',', 'tied', 'for', 'his', 'best', ')', '47', '%', 'disapproval', '(', '-', '7', ')']\n"
          ],
          "name": "stdout"
        }
      ]
    },
    {
      "cell_type": "code",
      "metadata": {
        "id": "DrfyzDEAfTE6",
        "colab_type": "code",
        "colab": {
          "base_uri": "https://localhost:8080/",
          "height": 323
        },
        "outputId": "f183b4d0-3e4f-48df-f776-294483c704d5"
      },
      "source": [
        "words = []\n",
        "for tweet in data[\"text\"]:\n",
        "    words += tweet_tokenizer.tokenize(tweet)\n",
        "\n",
        "fdist = nltk.FreqDist(words)\n",
        "fdist.plot(50)"
      ],
      "execution_count": 67,
      "outputs": [
        {
          "output_type": "display_data",
          "data": {
            "image/png": "[encoded data removed]",
            "text/plain": [
              "<Figure size 432x288 with 1 Axes>"
            ]
          },
          "metadata": {
            "tags": [],
            "needs_background": "light"
          }
        }
      ]
    },
    {
      "cell_type": "code",
      "metadata": {
        "id": "5VLnPp6vfTE-",
        "colab_type": "code",
        "colab": {
          "base_uri": "https://localhost:8080/",
          "height": 359
        },
        "outputId": "8083052b-cbf3-4e9f-8ba3-019a84ac7142"
      },
      "source": [
        "#高頻度のツイートを表示\n",
        "df_fdist = pd.DataFrame(fdist.most_common(10), columns=['Word', 'Frequency'])\n",
        "df_fdist"
      ],
      "execution_count": 68,
      "outputs": [
        {
          "output_type": "execute_result",
          "data": {
            "text/html": [
              "<div>\n",
              "<style scoped>\n",
              "    .dataframe tbody tr th:only-of-type {\n",
              "        vertical-align: middle;\n",
              "    }\n",
              "\n",
              "    .dataframe tbody tr th {\n",
              "        vertical-align: top;\n",
              "    }\n",
              "\n",
              "    .dataframe thead th {\n",
              "        text-align: right;\n",
              "    }\n",
              "</style>\n",
              "<table border=\"1\" class=\"dataframe\">\n",
              "  <thead>\n",
              "    <tr style=\"text-align: right;\">\n",
              "      <th></th>\n",
              "      <th>Word</th>\n",
              "      <th>Frequency</th>\n",
              "    </tr>\n",
              "  </thead>\n",
              "  <tbody>\n",
              "    <tr>\n",
              "      <th>0</th>\n",
              "      <td>the</td>\n",
              "      <td>15504</td>\n",
              "    </tr>\n",
              "    <tr>\n",
              "      <th>1</th>\n",
              "      <td>.</td>\n",
              "      <td>14634</td>\n",
              "    </tr>\n",
              "    <tr>\n",
              "      <th>2</th>\n",
              "      <td>,</td>\n",
              "      <td>14156</td>\n",
              "    </tr>\n",
              "    <tr>\n",
              "      <th>3</th>\n",
              "      <td>to</td>\n",
              "      <td>8172</td>\n",
              "    </tr>\n",
              "    <tr>\n",
              "      <th>4</th>\n",
              "      <td>!</td>\n",
              "      <td>7343</td>\n",
              "    </tr>\n",
              "    <tr>\n",
              "      <th>5</th>\n",
              "      <td>and</td>\n",
              "      <td>7289</td>\n",
              "    </tr>\n",
              "    <tr>\n",
              "      <th>6</th>\n",
              "      <td>of</td>\n",
              "      <td>6165</td>\n",
              "    </tr>\n",
              "    <tr>\n",
              "      <th>7</th>\n",
              "      <td>a</td>\n",
              "      <td>5419</td>\n",
              "    </tr>\n",
              "    <tr>\n",
              "      <th>8</th>\n",
              "      <td>:</td>\n",
              "      <td>4870</td>\n",
              "    </tr>\n",
              "    <tr>\n",
              "      <th>9</th>\n",
              "      <td>in</td>\n",
              "      <td>4507</td>\n",
              "    </tr>\n",
              "  </tbody>\n",
              "</table>\n",
              "</div>"
            ],
            "text/plain": [
              "  Word  Frequency\n",
              "0  the      15504\n",
              "1    .      14634\n",
              "2    ,      14156\n",
              "3   to       8172\n",
              "4    !       7343\n",
              "5  and       7289\n",
              "6   of       6165\n",
              "7    a       5419\n",
              "8    :       4870\n",
              "9   in       4507"
            ]
          },
          "metadata": {
            "tags": []
          },
          "execution_count": 68
        }
      ]
    },
    {
      "cell_type": "code",
      "metadata": {
        "id": "IvFoQ0TrfTFG",
        "colab_type": "code",
        "colab": {}
      },
      "source": [
        "#tokenにする\n",
        "import re\n",
        "import string\n",
        "\n",
        "stemmer = nltk.stem.PorterStemmer()\n",
        "punctuations = string.punctuation\n",
        "all_tweets_clean = []\n",
        "\n",
        "#Tweet毎にリスト形式で保存するための加工\n",
        "result=[]\n",
        "\n",
        "for tweet in data[\"text\"]:\n",
        "    # RTから始まる部分を取り除く。\n",
        "    tweet = re.sub(r'^RT[\\s]+', '', tweet)\n",
        "    # リンクを取り除く。\n",
        "    tweet = re.sub(r'(http|https):\\/\\/.*[\\r\\n]*', '', tweet)\n",
        "    # ハッシュタグを取り除く。\n",
        "    tweet = re.sub(r'#', '', tweet)\n",
        "    # 句読点の削除\n",
        "    tweet = tweet.translate(str.maketrans('', '', string.punctuation)) \n",
        "    # 単語に分解する。\n",
        "    tokenizer = nltk.tokenize.TweetTokenizer(preserve_case=False, strip_handles=True, reduce_len=True)\n",
        "    tweet_tokens = tokenizer.tokenize(tweet)\n",
        "    result.append(tweet_tokens)"
      ],
      "execution_count": 0,
      "outputs": []
    },
    {
      "cell_type": "code",
      "metadata": {
        "id": "jGskML9PfTFK",
        "colab_type": "code",
        "colab": {}
      },
      "source": [
        "stopwords = nltk.corpus.stopwords.words('english')\n",
        "stop_words = [\"→\", \"←\", \"?\", \"」\", \"「\",\"(\",\")\",\"!\",\".\",\",\",\"&\",\"…\",\"%\",\":\",\";\",\"“\"]\n",
        "stopwords += stop_words\n",
        "\n",
        "#print(stopwords)\n",
        "\n",
        "result_2=[]\n",
        "result_3=[]\n",
        "for i in range(len(result)):\n",
        "    for word in result[i]:\n",
        "        if word not in stopwords:\n",
        "            result_2.append(word)\n",
        "    result_3.append(result_2)\n",
        "    result_2=[]"
      ],
      "execution_count": 0,
      "outputs": []
    },
    {
      "cell_type": "code",
      "metadata": {
        "id": "wL2ASq-gfTFO",
        "colab_type": "code",
        "colab": {}
      },
      "source": [
        "#Word2Vec\n",
        "\n",
        "from gensim.models import word2vec"
      ],
      "execution_count": 0,
      "outputs": []
    },
    {
      "cell_type": "code",
      "metadata": {
        "id": "6Ov0af7rfTFQ",
        "colab_type": "code",
        "colab": {
          "base_uri": "https://localhost:8080/",
          "height": 272
        },
        "outputId": "4d74be63-845d-4718-812a-1413204fb60b"
      },
      "source": [
        "# 対象データをLinseSentence(one sentence = one lineとして扱う)で読み込む\n",
        "\n",
        "sentences = result_3\n",
        "sentences[0]"
      ],
      "execution_count": 72,
      "outputs": [
        {
          "output_type": "execute_result",
          "data": {
            "text/plain": [
              "['steventdennis',\n",
              " 'trump',\n",
              " 'gets',\n",
              " 'bump',\n",
              " 'latest',\n",
              " 'gallup',\n",
              " 'poll',\n",
              " '49',\n",
              " 'approval',\n",
              " '6',\n",
              " 'tied',\n",
              " 'best',\n",
              " '47',\n",
              " 'disapproval',\n",
              " '7']"
            ]
          },
          "metadata": {
            "tags": []
          },
          "execution_count": 72
        }
      ]
    },
    {
      "cell_type": "code",
      "metadata": {
        "id": "9u7fFXncfTFU",
        "colab_type": "code",
        "colab": {}
      },
      "source": [
        "# skip-gramモデルの学習\n",
        "skipgram_model = word2vec.Word2Vec(sentences,\n",
        "                                   sg=1,\n",
        "                                   size=300,\n",
        "                                   min_count=10,\n",
        "                                   window=15, seed=1234)"
      ],
      "execution_count": 0,
      "outputs": []
    },
    {
      "cell_type": "code",
      "metadata": {
        "id": "akHH47YRfTFZ",
        "colab_type": "code",
        "colab": {
          "base_uri": "https://localhost:8080/",
          "height": 71
        },
        "outputId": "7ab239d6-2e18-4ac1-c5ce-d8ea928118b1"
      },
      "source": [
        "# 作成したモデルの保存\n",
        "skipgram_model.save(\"skipgram_w2v.model\")\n",
        "# saveしたモデルを読み込む時は\n",
        "#skipgram_model = word2vec.Word2Vec.load(\"skipgram_w2v.model\")"
      ],
      "execution_count": 74,
      "outputs": [
        {
          "output_type": "stream",
          "text": [
            "/usr/local/lib/python3.6/dist-packages/smart_open/smart_open_lib.py:253: UserWarning: This function is deprecated, use smart_open.open instead. See the migration notes for details: https://github.com/RaRe-Technologies/smart_open/blob/master/README.rst#migrating-to-the-new-open-function\n",
            "  'See the migration notes for details: %s' % _MIGRATION_NOTES_URL\n"
          ],
          "name": "stderr"
        }
      ]
    },
    {
      "cell_type": "code",
      "metadata": {
        "id": "ZAO8SIE_fTFc",
        "colab_type": "code",
        "colab": {
          "base_uri": "https://localhost:8080/",
          "height": 413
        },
        "outputId": "4ce8c7d7-fa36-4203-cfeb-43e05cdd6835"
      },
      "source": [
        "# coronavirusと似たキーワードを見つけていきます。\n",
        "# ここで記載しているscoreは、単語同士のコサイン類似度です。\n",
        "pd.DataFrame(skipgram_model.wv.most_similar(\n",
        "    positive=[\"coronavirus\"]), columns=[\"keyword\", \"score\"])"
      ],
      "execution_count": 75,
      "outputs": [
        {
          "output_type": "stream",
          "text": [
            "/usr/local/lib/python3.6/dist-packages/gensim/matutils.py:737: FutureWarning: Conversion of the second argument of issubdtype from `int` to `np.signedinteger` is deprecated. In future, it will be treated as `np.int64 == np.dtype(int).type`.\n",
            "  if np.issubdtype(vec.dtype, np.int):\n"
          ],
          "name": "stderr"
        },
        {
          "output_type": "execute_result",
          "data": {
            "text/html": [
              "<div>\n",
              "<style scoped>\n",
              "    .dataframe tbody tr th:only-of-type {\n",
              "        vertical-align: middle;\n",
              "    }\n",
              "\n",
              "    .dataframe tbody tr th {\n",
              "        vertical-align: top;\n",
              "    }\n",
              "\n",
              "    .dataframe thead th {\n",
              "        text-align: right;\n",
              "    }\n",
              "</style>\n",
              "<table border=\"1\" class=\"dataframe\">\n",
              "  <thead>\n",
              "    <tr style=\"text-align: right;\">\n",
              "      <th></th>\n",
              "      <th>keyword</th>\n",
              "      <th>score</th>\n",
              "    </tr>\n",
              "  </thead>\n",
              "  <tbody>\n",
              "    <tr>\n",
              "      <th>0</th>\n",
              "      <td>covid</td>\n",
              "      <td>0.834653</td>\n",
              "    </tr>\n",
              "    <tr>\n",
              "      <th>1</th>\n",
              "      <td>response</td>\n",
              "      <td>0.822260</td>\n",
              "    </tr>\n",
              "    <tr>\n",
              "      <th>2</th>\n",
              "      <td>spread</td>\n",
              "      <td>0.822201</td>\n",
              "    </tr>\n",
              "    <tr>\n",
              "      <th>3</th>\n",
              "      <td>task</td>\n",
              "      <td>0.807297</td>\n",
              "    </tr>\n",
              "    <tr>\n",
              "      <th>4</th>\n",
              "      <td>outbreak</td>\n",
              "      <td>0.791311</td>\n",
              "    </tr>\n",
              "    <tr>\n",
              "      <th>5</th>\n",
              "      <td>19</td>\n",
              "      <td>0.786053</td>\n",
              "    </tr>\n",
              "    <tr>\n",
              "      <th>6</th>\n",
              "      <td>executive</td>\n",
              "      <td>0.785270</td>\n",
              "    </tr>\n",
              "    <tr>\n",
              "      <th>7</th>\n",
              "      <td>cdcgov</td>\n",
              "      <td>0.785263</td>\n",
              "    </tr>\n",
              "    <tr>\n",
              "      <th>8</th>\n",
              "      <td>force</td>\n",
              "      <td>0.773812</td>\n",
              "    </tr>\n",
              "    <tr>\n",
              "      <th>9</th>\n",
              "      <td>briefing</td>\n",
              "      <td>0.766953</td>\n",
              "    </tr>\n",
              "  </tbody>\n",
              "</table>\n",
              "</div>"
            ],
            "text/plain": [
              "     keyword     score\n",
              "0      covid  0.834653\n",
              "1   response  0.822260\n",
              "2     spread  0.822201\n",
              "3       task  0.807297\n",
              "4   outbreak  0.791311\n",
              "5         19  0.786053\n",
              "6  executive  0.785270\n",
              "7     cdcgov  0.785263\n",
              "8      force  0.773812\n",
              "9   briefing  0.766953"
            ]
          },
          "metadata": {
            "tags": []
          },
          "execution_count": 75
        }
      ]
    },
    {
      "cell_type": "code",
      "metadata": {
        "id": "KfKYBXI_fTFf",
        "colab_type": "code",
        "colab": {}
      },
      "source": [
        "\"\"\"\n",
        "1. 抽出された各単語を、作成したword2Vecによってベクトル化\n",
        "2. 変換された各単語ベクトルの平均をとり、その結果得られたベクトルを記事のベクトルとする\n",
        "上記2ステップを実行する関数を作成\n",
        "\"\"\"\n",
        "\n",
        "num_features = 300\n",
        "\n",
        "\n",
        "def avg_document_vector(data, num_features):\n",
        "    document_vec = np.zeros((len(data), num_features))\n",
        "    for i, doc_word_list in enumerate(data):\n",
        "        feature_vec = np.zeros((num_features,), dtype=\"float32\")\n",
        "        for word in doc_word_list:\n",
        "            try:\n",
        "                feature_vec = np.add(\n",
        "                    feature_vec, skipgram_model.wv.__getitem__(word))\n",
        "            except:\n",
        "                pass\n",
        "\n",
        "        feature_vec = np.divide(feature_vec, len(doc_word_list))\n",
        "        document_vec[i] = feature_vec\n",
        "    return document_vec"
      ],
      "execution_count": 0,
      "outputs": []
    },
    {
      "cell_type": "code",
      "metadata": {
        "id": "gcoxgMvkfTFh",
        "colab_type": "code",
        "colab": {
          "base_uri": "https://localhost:8080/",
          "height": 51
        },
        "outputId": "87a76a09-095d-4935-d09e-7503d51d4f21"
      },
      "source": [
        "X = avg_document_vector(data=sentences, num_features=300)\n",
        "X.shape"
      ],
      "execution_count": 77,
      "outputs": [
        {
          "output_type": "stream",
          "text": [
            "/usr/local/lib/python3.6/dist-packages/ipykernel_launcher.py:21: RuntimeWarning: invalid value encountered in true_divide\n"
          ],
          "name": "stderr"
        },
        {
          "output_type": "execute_result",
          "data": {
            "text/plain": [
              "(12259, 300)"
            ]
          },
          "metadata": {
            "tags": []
          },
          "execution_count": 77
        }
      ]
    },
    {
      "cell_type": "code",
      "metadata": {
        "id": "PvVmeNp5fTFj",
        "colab_type": "code",
        "colab": {
          "base_uri": "https://localhost:8080/",
          "height": 474
        },
        "outputId": "030696b4-9e59-4602-85dc-aeef3d8d281e"
      },
      "source": [
        "# outer join\n",
        "data2 = pd.DataFrame(X)\n",
        "df_tweets_word2vec =  pd.concat([data, data2], axis=1)\n",
        "df_tweets_word2vec.head()"
      ],
      "execution_count": 78,
      "outputs": [
        {
          "output_type": "execute_result",
          "data": {
            "text/html": [
              "<div>\n",
              "<style scoped>\n",
              "    .dataframe tbody tr th:only-of-type {\n",
              "        vertical-align: middle;\n",
              "    }\n",
              "\n",
              "    .dataframe tbody tr th {\n",
              "        vertical-align: top;\n",
              "    }\n",
              "\n",
              "    .dataframe thead th {\n",
              "        text-align: right;\n",
              "    }\n",
              "</style>\n",
              "<table border=\"1\" class=\"dataframe\">\n",
              "  <thead>\n",
              "    <tr style=\"text-align: right;\">\n",
              "      <th></th>\n",
              "      <th>date</th>\n",
              "      <th>price</th>\n",
              "      <th>text</th>\n",
              "      <th>0</th>\n",
              "      <th>1</th>\n",
              "      <th>2</th>\n",
              "      <th>3</th>\n",
              "      <th>4</th>\n",
              "      <th>5</th>\n",
              "      <th>6</th>\n",
              "      <th>7</th>\n",
              "      <th>8</th>\n",
              "      <th>9</th>\n",
              "      <th>10</th>\n",
              "      <th>11</th>\n",
              "      <th>12</th>\n",
              "      <th>13</th>\n",
              "      <th>14</th>\n",
              "      <th>15</th>\n",
              "      <th>16</th>\n",
              "      <th>17</th>\n",
              "      <th>18</th>\n",
              "      <th>19</th>\n",
              "      <th>20</th>\n",
              "      <th>21</th>\n",
              "      <th>22</th>\n",
              "      <th>23</th>\n",
              "      <th>24</th>\n",
              "      <th>25</th>\n",
              "      <th>26</th>\n",
              "      <th>27</th>\n",
              "      <th>28</th>\n",
              "      <th>29</th>\n",
              "      <th>30</th>\n",
              "      <th>31</th>\n",
              "      <th>32</th>\n",
              "      <th>33</th>\n",
              "      <th>34</th>\n",
              "      <th>35</th>\n",
              "      <th>36</th>\n",
              "      <th>...</th>\n",
              "      <th>260</th>\n",
              "      <th>261</th>\n",
              "      <th>262</th>\n",
              "      <th>263</th>\n",
              "      <th>264</th>\n",
              "      <th>265</th>\n",
              "      <th>266</th>\n",
              "      <th>267</th>\n",
              "      <th>268</th>\n",
              "      <th>269</th>\n",
              "      <th>270</th>\n",
              "      <th>271</th>\n",
              "      <th>272</th>\n",
              "      <th>273</th>\n",
              "      <th>274</th>\n",
              "      <th>275</th>\n",
              "      <th>276</th>\n",
              "      <th>277</th>\n",
              "      <th>278</th>\n",
              "      <th>279</th>\n",
              "      <th>280</th>\n",
              "      <th>281</th>\n",
              "      <th>282</th>\n",
              "      <th>283</th>\n",
              "      <th>284</th>\n",
              "      <th>285</th>\n",
              "      <th>286</th>\n",
              "      <th>287</th>\n",
              "      <th>288</th>\n",
              "      <th>289</th>\n",
              "      <th>290</th>\n",
              "      <th>291</th>\n",
              "      <th>292</th>\n",
              "      <th>293</th>\n",
              "      <th>294</th>\n",
              "      <th>295</th>\n",
              "      <th>296</th>\n",
              "      <th>297</th>\n",
              "      <th>298</th>\n",
              "      <th>299</th>\n",
              "    </tr>\n",
              "  </thead>\n",
              "  <tbody>\n",
              "    <tr>\n",
              "      <th>0</th>\n",
              "      <td>2020-05-01</td>\n",
              "      <td>2830.71</td>\n",
              "      <td>RT @StevenTDennis: Trump gets bump in latest G...</td>\n",
              "      <td>0.029254</td>\n",
              "      <td>-0.029112</td>\n",
              "      <td>-0.039578</td>\n",
              "      <td>-0.000698</td>\n",
              "      <td>0.033135</td>\n",
              "      <td>0.072449</td>\n",
              "      <td>-0.021514</td>\n",
              "      <td>-0.051474</td>\n",
              "      <td>-0.046347</td>\n",
              "      <td>0.008492</td>\n",
              "      <td>0.012455</td>\n",
              "      <td>0.007079</td>\n",
              "      <td>-0.002713</td>\n",
              "      <td>0.002171</td>\n",
              "      <td>-0.043276</td>\n",
              "      <td>-0.000905</td>\n",
              "      <td>-0.132624</td>\n",
              "      <td>-0.027660</td>\n",
              "      <td>0.075861</td>\n",
              "      <td>-0.015676</td>\n",
              "      <td>-0.000670</td>\n",
              "      <td>-0.049908</td>\n",
              "      <td>-0.032540</td>\n",
              "      <td>0.022742</td>\n",
              "      <td>0.038533</td>\n",
              "      <td>-0.023503</td>\n",
              "      <td>0.047077</td>\n",
              "      <td>-0.088954</td>\n",
              "      <td>-0.030689</td>\n",
              "      <td>0.075599</td>\n",
              "      <td>-0.007973</td>\n",
              "      <td>-0.106350</td>\n",
              "      <td>-0.003815</td>\n",
              "      <td>-0.028294</td>\n",
              "      <td>0.021526</td>\n",
              "      <td>-0.038360</td>\n",
              "      <td>-0.009898</td>\n",
              "      <td>...</td>\n",
              "      <td>0.055604</td>\n",
              "      <td>-0.099900</td>\n",
              "      <td>-0.012291</td>\n",
              "      <td>-0.034681</td>\n",
              "      <td>0.003611</td>\n",
              "      <td>-0.040171</td>\n",
              "      <td>-0.047009</td>\n",
              "      <td>0.070985</td>\n",
              "      <td>0.034126</td>\n",
              "      <td>-0.124601</td>\n",
              "      <td>-0.041198</td>\n",
              "      <td>0.004352</td>\n",
              "      <td>-0.069801</td>\n",
              "      <td>0.004175</td>\n",
              "      <td>0.039796</td>\n",
              "      <td>-0.100976</td>\n",
              "      <td>-0.015116</td>\n",
              "      <td>-0.042992</td>\n",
              "      <td>-0.036014</td>\n",
              "      <td>0.007685</td>\n",
              "      <td>0.036876</td>\n",
              "      <td>0.029007</td>\n",
              "      <td>-0.011582</td>\n",
              "      <td>-0.075737</td>\n",
              "      <td>-0.115471</td>\n",
              "      <td>0.017384</td>\n",
              "      <td>0.092891</td>\n",
              "      <td>-0.051070</td>\n",
              "      <td>0.044922</td>\n",
              "      <td>-0.044120</td>\n",
              "      <td>0.041023</td>\n",
              "      <td>-0.054297</td>\n",
              "      <td>-0.047244</td>\n",
              "      <td>0.009755</td>\n",
              "      <td>0.032986</td>\n",
              "      <td>-0.002706</td>\n",
              "      <td>-0.015110</td>\n",
              "      <td>-0.031178</td>\n",
              "      <td>0.011647</td>\n",
              "      <td>0.003682</td>\n",
              "    </tr>\n",
              "    <tr>\n",
              "      <th>1</th>\n",
              "      <td>2020-05-01</td>\n",
              "      <td>2830.71</td>\n",
              "      <td>The Governor of Michigan should give a little,...</td>\n",
              "      <td>-0.023910</td>\n",
              "      <td>-0.153142</td>\n",
              "      <td>-0.118406</td>\n",
              "      <td>0.052884</td>\n",
              "      <td>-0.085271</td>\n",
              "      <td>0.174902</td>\n",
              "      <td>-0.016087</td>\n",
              "      <td>-0.053824</td>\n",
              "      <td>-0.101076</td>\n",
              "      <td>0.074434</td>\n",
              "      <td>0.106698</td>\n",
              "      <td>0.024537</td>\n",
              "      <td>-0.029953</td>\n",
              "      <td>0.056074</td>\n",
              "      <td>-0.086071</td>\n",
              "      <td>-0.035854</td>\n",
              "      <td>-0.195776</td>\n",
              "      <td>0.096838</td>\n",
              "      <td>0.070187</td>\n",
              "      <td>0.005657</td>\n",
              "      <td>0.087931</td>\n",
              "      <td>-0.101123</td>\n",
              "      <td>-0.140838</td>\n",
              "      <td>0.062374</td>\n",
              "      <td>0.073083</td>\n",
              "      <td>0.038378</td>\n",
              "      <td>0.090826</td>\n",
              "      <td>-0.099523</td>\n",
              "      <td>-0.009455</td>\n",
              "      <td>0.124304</td>\n",
              "      <td>0.031830</td>\n",
              "      <td>-0.236789</td>\n",
              "      <td>-0.013098</td>\n",
              "      <td>-0.062156</td>\n",
              "      <td>0.032153</td>\n",
              "      <td>-0.041497</td>\n",
              "      <td>0.075091</td>\n",
              "      <td>...</td>\n",
              "      <td>0.069719</td>\n",
              "      <td>-0.009477</td>\n",
              "      <td>-0.063727</td>\n",
              "      <td>-0.074336</td>\n",
              "      <td>-0.044264</td>\n",
              "      <td>-0.072038</td>\n",
              "      <td>-0.088582</td>\n",
              "      <td>0.060030</td>\n",
              "      <td>0.018386</td>\n",
              "      <td>-0.123697</td>\n",
              "      <td>-0.034146</td>\n",
              "      <td>0.077247</td>\n",
              "      <td>-0.040845</td>\n",
              "      <td>0.035488</td>\n",
              "      <td>0.053728</td>\n",
              "      <td>-0.150723</td>\n",
              "      <td>0.037745</td>\n",
              "      <td>-0.011749</td>\n",
              "      <td>-0.056513</td>\n",
              "      <td>0.009243</td>\n",
              "      <td>0.173512</td>\n",
              "      <td>-0.003508</td>\n",
              "      <td>-0.075780</td>\n",
              "      <td>-0.110525</td>\n",
              "      <td>-0.135936</td>\n",
              "      <td>-0.024496</td>\n",
              "      <td>0.018472</td>\n",
              "      <td>-0.030382</td>\n",
              "      <td>0.041236</td>\n",
              "      <td>-0.027847</td>\n",
              "      <td>0.079717</td>\n",
              "      <td>-0.017577</td>\n",
              "      <td>-0.069822</td>\n",
              "      <td>-0.051282</td>\n",
              "      <td>0.066294</td>\n",
              "      <td>-0.093309</td>\n",
              "      <td>-0.088301</td>\n",
              "      <td>0.013621</td>\n",
              "      <td>0.040368</td>\n",
              "      <td>-0.002394</td>\n",
              "    </tr>\n",
              "    <tr>\n",
              "      <th>2</th>\n",
              "      <td>2020-05-01</td>\n",
              "      <td>2830.71</td>\n",
              "      <td>Cryin Chuck Schumer, compared to what other Se...</td>\n",
              "      <td>-0.003403</td>\n",
              "      <td>-0.138126</td>\n",
              "      <td>-0.108735</td>\n",
              "      <td>0.064385</td>\n",
              "      <td>-0.079571</td>\n",
              "      <td>0.182774</td>\n",
              "      <td>-0.023081</td>\n",
              "      <td>-0.048436</td>\n",
              "      <td>-0.058299</td>\n",
              "      <td>0.013548</td>\n",
              "      <td>0.110888</td>\n",
              "      <td>-0.029153</td>\n",
              "      <td>-0.024520</td>\n",
              "      <td>0.030992</td>\n",
              "      <td>-0.038846</td>\n",
              "      <td>-0.091074</td>\n",
              "      <td>-0.188560</td>\n",
              "      <td>0.083701</td>\n",
              "      <td>0.082051</td>\n",
              "      <td>0.007530</td>\n",
              "      <td>0.060832</td>\n",
              "      <td>-0.050303</td>\n",
              "      <td>-0.156436</td>\n",
              "      <td>0.059158</td>\n",
              "      <td>0.104945</td>\n",
              "      <td>0.050035</td>\n",
              "      <td>0.091981</td>\n",
              "      <td>-0.083268</td>\n",
              "      <td>-0.045417</td>\n",
              "      <td>0.131998</td>\n",
              "      <td>-0.004913</td>\n",
              "      <td>-0.195180</td>\n",
              "      <td>0.031139</td>\n",
              "      <td>-0.033088</td>\n",
              "      <td>0.034858</td>\n",
              "      <td>-0.019633</td>\n",
              "      <td>0.038751</td>\n",
              "      <td>...</td>\n",
              "      <td>0.064609</td>\n",
              "      <td>-0.035872</td>\n",
              "      <td>-0.061420</td>\n",
              "      <td>-0.093947</td>\n",
              "      <td>-0.024907</td>\n",
              "      <td>-0.087490</td>\n",
              "      <td>-0.069290</td>\n",
              "      <td>0.044989</td>\n",
              "      <td>-0.004907</td>\n",
              "      <td>-0.155769</td>\n",
              "      <td>-0.046327</td>\n",
              "      <td>0.064563</td>\n",
              "      <td>-0.073041</td>\n",
              "      <td>0.070709</td>\n",
              "      <td>0.026264</td>\n",
              "      <td>-0.166763</td>\n",
              "      <td>0.041734</td>\n",
              "      <td>-0.075374</td>\n",
              "      <td>-0.014471</td>\n",
              "      <td>-0.034785</td>\n",
              "      <td>0.176714</td>\n",
              "      <td>0.037035</td>\n",
              "      <td>-0.036277</td>\n",
              "      <td>-0.077383</td>\n",
              "      <td>-0.150840</td>\n",
              "      <td>0.001349</td>\n",
              "      <td>0.049864</td>\n",
              "      <td>-0.010259</td>\n",
              "      <td>0.028051</td>\n",
              "      <td>-0.011545</td>\n",
              "      <td>0.063342</td>\n",
              "      <td>-0.013700</td>\n",
              "      <td>-0.056762</td>\n",
              "      <td>-0.050136</td>\n",
              "      <td>0.064047</td>\n",
              "      <td>-0.098600</td>\n",
              "      <td>-0.075374</td>\n",
              "      <td>-0.022343</td>\n",
              "      <td>0.022007</td>\n",
              "      <td>-0.009131</td>\n",
              "    </tr>\n",
              "    <tr>\n",
              "      <th>3</th>\n",
              "      <td>2020-05-01</td>\n",
              "      <td>2830.71</td>\n",
              "      <td>Cryin’ Chuck Schumer was on a late night show ...</td>\n",
              "      <td>-0.000355</td>\n",
              "      <td>-0.122648</td>\n",
              "      <td>-0.111087</td>\n",
              "      <td>0.064239</td>\n",
              "      <td>-0.082102</td>\n",
              "      <td>0.172885</td>\n",
              "      <td>-0.041055</td>\n",
              "      <td>-0.058122</td>\n",
              "      <td>-0.062212</td>\n",
              "      <td>0.014773</td>\n",
              "      <td>0.104712</td>\n",
              "      <td>-0.019952</td>\n",
              "      <td>-0.027693</td>\n",
              "      <td>0.034850</td>\n",
              "      <td>-0.041550</td>\n",
              "      <td>-0.074668</td>\n",
              "      <td>-0.171587</td>\n",
              "      <td>0.038131</td>\n",
              "      <td>0.069571</td>\n",
              "      <td>0.001385</td>\n",
              "      <td>0.061180</td>\n",
              "      <td>-0.064729</td>\n",
              "      <td>-0.136610</td>\n",
              "      <td>0.060427</td>\n",
              "      <td>0.088279</td>\n",
              "      <td>0.063322</td>\n",
              "      <td>0.073469</td>\n",
              "      <td>-0.099135</td>\n",
              "      <td>-0.051466</td>\n",
              "      <td>0.100207</td>\n",
              "      <td>0.032536</td>\n",
              "      <td>-0.202571</td>\n",
              "      <td>0.040952</td>\n",
              "      <td>-0.040348</td>\n",
              "      <td>0.045058</td>\n",
              "      <td>-0.015014</td>\n",
              "      <td>0.057285</td>\n",
              "      <td>...</td>\n",
              "      <td>0.062001</td>\n",
              "      <td>-0.059523</td>\n",
              "      <td>-0.077641</td>\n",
              "      <td>-0.077812</td>\n",
              "      <td>-0.011685</td>\n",
              "      <td>-0.103840</td>\n",
              "      <td>-0.074020</td>\n",
              "      <td>0.056034</td>\n",
              "      <td>0.005130</td>\n",
              "      <td>-0.192105</td>\n",
              "      <td>-0.070829</td>\n",
              "      <td>0.024089</td>\n",
              "      <td>-0.063743</td>\n",
              "      <td>0.060576</td>\n",
              "      <td>0.022678</td>\n",
              "      <td>-0.164083</td>\n",
              "      <td>0.018919</td>\n",
              "      <td>-0.020186</td>\n",
              "      <td>-0.004875</td>\n",
              "      <td>-0.025283</td>\n",
              "      <td>0.167771</td>\n",
              "      <td>0.023989</td>\n",
              "      <td>-0.009455</td>\n",
              "      <td>-0.090656</td>\n",
              "      <td>-0.167026</td>\n",
              "      <td>-0.023392</td>\n",
              "      <td>0.045312</td>\n",
              "      <td>0.007329</td>\n",
              "      <td>0.038725</td>\n",
              "      <td>-0.033077</td>\n",
              "      <td>0.064534</td>\n",
              "      <td>0.018042</td>\n",
              "      <td>-0.069462</td>\n",
              "      <td>-0.029607</td>\n",
              "      <td>0.069984</td>\n",
              "      <td>-0.097373</td>\n",
              "      <td>-0.072488</td>\n",
              "      <td>-0.021109</td>\n",
              "      <td>-0.017609</td>\n",
              "      <td>-0.020874</td>\n",
              "    </tr>\n",
              "    <tr>\n",
              "      <th>4</th>\n",
              "      <td>2020-05-01</td>\n",
              "      <td>2830.71</td>\n",
              "      <td>RT @TeamTrump: President @realDonaldTrump: “We...</td>\n",
              "      <td>0.022608</td>\n",
              "      <td>-0.109109</td>\n",
              "      <td>-0.182376</td>\n",
              "      <td>0.056593</td>\n",
              "      <td>0.033230</td>\n",
              "      <td>0.187159</td>\n",
              "      <td>-0.039795</td>\n",
              "      <td>-0.061153</td>\n",
              "      <td>-0.066109</td>\n",
              "      <td>0.088480</td>\n",
              "      <td>0.002403</td>\n",
              "      <td>0.029243</td>\n",
              "      <td>-0.065980</td>\n",
              "      <td>0.051222</td>\n",
              "      <td>-0.067785</td>\n",
              "      <td>0.004915</td>\n",
              "      <td>-0.246634</td>\n",
              "      <td>0.001815</td>\n",
              "      <td>0.018014</td>\n",
              "      <td>0.025340</td>\n",
              "      <td>-0.000656</td>\n",
              "      <td>-0.100135</td>\n",
              "      <td>-0.073580</td>\n",
              "      <td>0.058623</td>\n",
              "      <td>0.042176</td>\n",
              "      <td>-0.006644</td>\n",
              "      <td>0.032617</td>\n",
              "      <td>-0.109181</td>\n",
              "      <td>-0.049740</td>\n",
              "      <td>0.136758</td>\n",
              "      <td>0.073633</td>\n",
              "      <td>-0.173588</td>\n",
              "      <td>-0.041507</td>\n",
              "      <td>-0.024295</td>\n",
              "      <td>0.060546</td>\n",
              "      <td>-0.046638</td>\n",
              "      <td>0.068127</td>\n",
              "      <td>...</td>\n",
              "      <td>0.083247</td>\n",
              "      <td>-0.060422</td>\n",
              "      <td>-0.043517</td>\n",
              "      <td>-0.103091</td>\n",
              "      <td>0.007930</td>\n",
              "      <td>-0.062761</td>\n",
              "      <td>-0.038790</td>\n",
              "      <td>0.105520</td>\n",
              "      <td>0.057103</td>\n",
              "      <td>-0.126966</td>\n",
              "      <td>-0.031807</td>\n",
              "      <td>0.030034</td>\n",
              "      <td>-0.080431</td>\n",
              "      <td>-0.016264</td>\n",
              "      <td>0.060285</td>\n",
              "      <td>-0.123494</td>\n",
              "      <td>-0.025946</td>\n",
              "      <td>0.021892</td>\n",
              "      <td>-0.029796</td>\n",
              "      <td>0.029009</td>\n",
              "      <td>0.123426</td>\n",
              "      <td>-0.006166</td>\n",
              "      <td>-0.030639</td>\n",
              "      <td>-0.133077</td>\n",
              "      <td>-0.146692</td>\n",
              "      <td>0.013796</td>\n",
              "      <td>0.098413</td>\n",
              "      <td>-0.069927</td>\n",
              "      <td>0.046775</td>\n",
              "      <td>-0.043542</td>\n",
              "      <td>0.028236</td>\n",
              "      <td>-0.028840</td>\n",
              "      <td>-0.010656</td>\n",
              "      <td>0.029935</td>\n",
              "      <td>0.077578</td>\n",
              "      <td>0.009459</td>\n",
              "      <td>-0.018943</td>\n",
              "      <td>-0.064408</td>\n",
              "      <td>0.007123</td>\n",
              "      <td>-0.024466</td>\n",
              "    </tr>\n",
              "  </tbody>\n",
              "</table>\n",
              "<p>5 rows × 303 columns</p>\n",
              "</div>"
            ],
            "text/plain": [
              "         date    price  ...       298       299\n",
              "0  2020-05-01  2830.71  ...  0.011647  0.003682\n",
              "1  2020-05-01  2830.71  ...  0.040368 -0.002394\n",
              "2  2020-05-01  2830.71  ...  0.022007 -0.009131\n",
              "3  2020-05-01  2830.71  ... -0.017609 -0.020874\n",
              "4  2020-05-01  2830.71  ...  0.007123 -0.024466\n",
              "\n",
              "[5 rows x 303 columns]"
            ]
          },
          "metadata": {
            "tags": []
          },
          "execution_count": 78
        }
      ]
    },
    {
      "cell_type": "code",
      "metadata": {
        "id": "wzaVvcZ3fTFn",
        "colab_type": "code",
        "colab": {}
      },
      "source": [
        "df_tweets_word2vec.to_csv(\"price_tweets_vector.csv\", index=False)"
      ],
      "execution_count": 0,
      "outputs": []
    },
    {
      "cell_type": "code",
      "metadata": {
        "id": "CY3UVb1TfTFp",
        "colab_type": "code",
        "colab": {
          "base_uri": "https://localhost:8080/",
          "height": 552
        },
        "outputId": "468a9bfa-2ef8-4b24-d77a-cd83d7d623d1"
      },
      "source": [
        "#ツイートのベクトルを1日毎に平均にする（1日10ツイートだった場合ベクトルと足し合わせ10で割る）\n",
        "# groupby #https://qiita.com/propella/items/a9a32b878c77222630ae\n",
        "df = df_tweets_word2vec.groupby([\"date\"]).mean()\n",
        "\n",
        "\n",
        "# targetのcolである変化率（\"price\"の差分対数行列）をdateをKeyに内部結合する\n",
        "df_sp = pd.read_csv(\"/content/sp500-10-year-daily-chart.csv\")\n",
        "\n",
        "# 時系列データの差分を求める\n",
        "\n",
        "# \" value\"の行を対数化\n",
        "# https://www.sejuku.net/blog/70027\n",
        "df_sp[\"log\"] = np.log(df_sp[\" value\"])\n",
        "\n",
        "# \"log\"の1日前との差を取って、差分対数の列を作成\n",
        "# https://note.nkmk.me/python-pandas-diff-pct-change/\n",
        "df_sp[\"dif_log\"] = df_sp[\"log\"].diff()\n",
        "\n",
        "#内部結合\n",
        "df2=pd.merge(df_sp, df, how=\"inner\" ,on=\"date\")\n",
        "df2 = df2.drop(\" value\", axis=1)\n",
        "\n",
        "# groupbyを使って1日のツイート数も特徴量に加える\n",
        "# https://deepage.net/features/pandas-count.html\n",
        "df3 = df_tweets_word2vec[[\"date\",\"text\"]]\n",
        "df3 = df3.groupby([\"date\"]).count()\n",
        "\n",
        "#内部結合\n",
        "df4 = pd.merge( df3, df2, how=\"inner\" ,on=\"date\")\n",
        "\n",
        "#日付データの形を変える\n",
        "df4[\"date\"] = pd.to_datetime(df4['date']).astype('int64')\n",
        "\n",
        "#変化率のグラフ\n",
        "df4.plot( y=[\"dif_log\"], figsize=(16,4), alpha=0.5)\n",
        "\n",
        "#ツイート数と変化率の関係\n",
        "df4.plot.scatter(x=[\"text\"], y=[\"dif_log\"])"
      ],
      "execution_count": 80,
      "outputs": [
        {
          "output_type": "execute_result",
          "data": {
            "text/plain": [
              "<matplotlib.axes._subplots.AxesSubplot at 0x7febb4b7d898>"
            ]
          },
          "metadata": {
            "tags": []
          },
          "execution_count": 80
        },
        {
          "output_type": "display_data",
          "data": {
            "image/png": "[encoded data removed]",
            "text/plain": [
              "<Figure size 1152x288 with 1 Axes>"
            ]
          },
          "metadata": {
            "tags": [],
            "needs_background": "light"
          }
        },
        {
          "output_type": "display_data",
          "data": {
            "image/png": "[encoded data removed]",
            "text/plain": [
              "<Figure size 432x288 with 1 Axes>"
            ]
          },
          "metadata": {
            "tags": [],
            "needs_background": "light"
          }
        }
      ]
    },
    {
      "cell_type": "code",
      "metadata": {
        "id": "LoiDgt9WfTFt",
        "colab_type": "code",
        "colab": {
          "base_uri": "https://localhost:8080/",
          "height": 253
        },
        "outputId": "a7389a6a-30ff-4882-d9fe-c25c96dcd5c8"
      },
      "source": [
        "df4.head()"
      ],
      "execution_count": 81,
      "outputs": [
        {
          "output_type": "execute_result",
          "data": {
            "text/html": [
              "<div>\n",
              "<style scoped>\n",
              "    .dataframe tbody tr th:only-of-type {\n",
              "        vertical-align: middle;\n",
              "    }\n",
              "\n",
              "    .dataframe tbody tr th {\n",
              "        vertical-align: top;\n",
              "    }\n",
              "\n",
              "    .dataframe thead th {\n",
              "        text-align: right;\n",
              "    }\n",
              "</style>\n",
              "<table border=\"1\" class=\"dataframe\">\n",
              "  <thead>\n",
              "    <tr style=\"text-align: right;\">\n",
              "      <th></th>\n",
              "      <th>date</th>\n",
              "      <th>text</th>\n",
              "      <th>log</th>\n",
              "      <th>dif_log</th>\n",
              "      <th>price</th>\n",
              "      <th>0</th>\n",
              "      <th>1</th>\n",
              "      <th>2</th>\n",
              "      <th>3</th>\n",
              "      <th>4</th>\n",
              "      <th>5</th>\n",
              "      <th>6</th>\n",
              "      <th>7</th>\n",
              "      <th>8</th>\n",
              "      <th>9</th>\n",
              "      <th>10</th>\n",
              "      <th>11</th>\n",
              "      <th>12</th>\n",
              "      <th>13</th>\n",
              "      <th>14</th>\n",
              "      <th>15</th>\n",
              "      <th>16</th>\n",
              "      <th>17</th>\n",
              "      <th>18</th>\n",
              "      <th>19</th>\n",
              "      <th>20</th>\n",
              "      <th>21</th>\n",
              "      <th>22</th>\n",
              "      <th>23</th>\n",
              "      <th>24</th>\n",
              "      <th>25</th>\n",
              "      <th>26</th>\n",
              "      <th>27</th>\n",
              "      <th>28</th>\n",
              "      <th>29</th>\n",
              "      <th>30</th>\n",
              "      <th>31</th>\n",
              "      <th>32</th>\n",
              "      <th>33</th>\n",
              "      <th>34</th>\n",
              "      <th>...</th>\n",
              "      <th>260</th>\n",
              "      <th>261</th>\n",
              "      <th>262</th>\n",
              "      <th>263</th>\n",
              "      <th>264</th>\n",
              "      <th>265</th>\n",
              "      <th>266</th>\n",
              "      <th>267</th>\n",
              "      <th>268</th>\n",
              "      <th>269</th>\n",
              "      <th>270</th>\n",
              "      <th>271</th>\n",
              "      <th>272</th>\n",
              "      <th>273</th>\n",
              "      <th>274</th>\n",
              "      <th>275</th>\n",
              "      <th>276</th>\n",
              "      <th>277</th>\n",
              "      <th>278</th>\n",
              "      <th>279</th>\n",
              "      <th>280</th>\n",
              "      <th>281</th>\n",
              "      <th>282</th>\n",
              "      <th>283</th>\n",
              "      <th>284</th>\n",
              "      <th>285</th>\n",
              "      <th>286</th>\n",
              "      <th>287</th>\n",
              "      <th>288</th>\n",
              "      <th>289</th>\n",
              "      <th>290</th>\n",
              "      <th>291</th>\n",
              "      <th>292</th>\n",
              "      <th>293</th>\n",
              "      <th>294</th>\n",
              "      <th>295</th>\n",
              "      <th>296</th>\n",
              "      <th>297</th>\n",
              "      <th>298</th>\n",
              "      <th>299</th>\n",
              "    </tr>\n",
              "  </thead>\n",
              "  <tbody>\n",
              "    <tr>\n",
              "      <th>0</th>\n",
              "      <td>1484870400000000000</td>\n",
              "      <td>13</td>\n",
              "      <td>7.728112</td>\n",
              "      <td>0.003361</td>\n",
              "      <td>2271.31</td>\n",
              "      <td>0.013688</td>\n",
              "      <td>-0.119102</td>\n",
              "      <td>-0.130674</td>\n",
              "      <td>0.014103</td>\n",
              "      <td>-0.024085</td>\n",
              "      <td>0.163021</td>\n",
              "      <td>0.021404</td>\n",
              "      <td>-0.072148</td>\n",
              "      <td>-0.119826</td>\n",
              "      <td>0.080691</td>\n",
              "      <td>0.073030</td>\n",
              "      <td>0.060508</td>\n",
              "      <td>-0.076160</td>\n",
              "      <td>0.034967</td>\n",
              "      <td>-0.106638</td>\n",
              "      <td>0.001639</td>\n",
              "      <td>-0.227377</td>\n",
              "      <td>0.092760</td>\n",
              "      <td>0.068948</td>\n",
              "      <td>0.010089</td>\n",
              "      <td>0.103285</td>\n",
              "      <td>-0.166138</td>\n",
              "      <td>-0.084043</td>\n",
              "      <td>0.059326</td>\n",
              "      <td>0.003641</td>\n",
              "      <td>-0.015002</td>\n",
              "      <td>0.074667</td>\n",
              "      <td>-0.147431</td>\n",
              "      <td>0.012749</td>\n",
              "      <td>0.109570</td>\n",
              "      <td>-0.007145</td>\n",
              "      <td>-0.235826</td>\n",
              "      <td>-0.079447</td>\n",
              "      <td>-0.051585</td>\n",
              "      <td>0.019101</td>\n",
              "      <td>...</td>\n",
              "      <td>0.083988</td>\n",
              "      <td>-0.055713</td>\n",
              "      <td>-0.007806</td>\n",
              "      <td>-0.066404</td>\n",
              "      <td>0.013506</td>\n",
              "      <td>-0.017036</td>\n",
              "      <td>-0.063549</td>\n",
              "      <td>0.045654</td>\n",
              "      <td>0.014832</td>\n",
              "      <td>-0.087752</td>\n",
              "      <td>-0.066585</td>\n",
              "      <td>0.095404</td>\n",
              "      <td>-0.058957</td>\n",
              "      <td>0.020811</td>\n",
              "      <td>0.103463</td>\n",
              "      <td>-0.130432</td>\n",
              "      <td>0.007166</td>\n",
              "      <td>-0.014531</td>\n",
              "      <td>-0.124162</td>\n",
              "      <td>0.039128</td>\n",
              "      <td>0.141804</td>\n",
              "      <td>0.019744</td>\n",
              "      <td>-0.105390</td>\n",
              "      <td>-0.132734</td>\n",
              "      <td>-0.151227</td>\n",
              "      <td>0.020082</td>\n",
              "      <td>0.065183</td>\n",
              "      <td>-0.057700</td>\n",
              "      <td>0.083111</td>\n",
              "      <td>-0.018261</td>\n",
              "      <td>0.106703</td>\n",
              "      <td>-0.053864</td>\n",
              "      <td>-0.028663</td>\n",
              "      <td>-0.054336</td>\n",
              "      <td>0.047837</td>\n",
              "      <td>-0.044122</td>\n",
              "      <td>-0.075667</td>\n",
              "      <td>0.023281</td>\n",
              "      <td>0.063064</td>\n",
              "      <td>-0.001739</td>\n",
              "    </tr>\n",
              "    <tr>\n",
              "      <th>1</th>\n",
              "      <td>1485129600000000000</td>\n",
              "      <td>1</td>\n",
              "      <td>7.725418</td>\n",
              "      <td>-0.002694</td>\n",
              "      <td>2265.20</td>\n",
              "      <td>-0.005339</td>\n",
              "      <td>-0.106798</td>\n",
              "      <td>-0.162513</td>\n",
              "      <td>0.006388</td>\n",
              "      <td>-0.030094</td>\n",
              "      <td>0.169668</td>\n",
              "      <td>-0.003105</td>\n",
              "      <td>-0.064500</td>\n",
              "      <td>-0.044487</td>\n",
              "      <td>0.114969</td>\n",
              "      <td>0.045731</td>\n",
              "      <td>0.079130</td>\n",
              "      <td>-0.056310</td>\n",
              "      <td>0.065510</td>\n",
              "      <td>-0.097182</td>\n",
              "      <td>0.015148</td>\n",
              "      <td>-0.225699</td>\n",
              "      <td>0.055541</td>\n",
              "      <td>0.054545</td>\n",
              "      <td>-0.012170</td>\n",
              "      <td>0.065117</td>\n",
              "      <td>-0.097080</td>\n",
              "      <td>-0.074617</td>\n",
              "      <td>0.047748</td>\n",
              "      <td>0.040656</td>\n",
              "      <td>0.010356</td>\n",
              "      <td>0.084846</td>\n",
              "      <td>-0.112360</td>\n",
              "      <td>-0.003469</td>\n",
              "      <td>0.120801</td>\n",
              "      <td>0.062202</td>\n",
              "      <td>-0.190847</td>\n",
              "      <td>-0.059512</td>\n",
              "      <td>-0.049585</td>\n",
              "      <td>0.020616</td>\n",
              "      <td>...</td>\n",
              "      <td>0.124086</td>\n",
              "      <td>-0.057076</td>\n",
              "      <td>-0.033559</td>\n",
              "      <td>-0.024157</td>\n",
              "      <td>-0.003107</td>\n",
              "      <td>-0.044808</td>\n",
              "      <td>-0.054577</td>\n",
              "      <td>0.074228</td>\n",
              "      <td>0.029578</td>\n",
              "      <td>-0.114971</td>\n",
              "      <td>-0.042669</td>\n",
              "      <td>0.079782</td>\n",
              "      <td>-0.084663</td>\n",
              "      <td>0.031260</td>\n",
              "      <td>0.086034</td>\n",
              "      <td>-0.174657</td>\n",
              "      <td>-0.032782</td>\n",
              "      <td>-0.017343</td>\n",
              "      <td>-0.071903</td>\n",
              "      <td>0.017297</td>\n",
              "      <td>0.126494</td>\n",
              "      <td>-0.027596</td>\n",
              "      <td>-0.060815</td>\n",
              "      <td>-0.172925</td>\n",
              "      <td>-0.172255</td>\n",
              "      <td>-0.008095</td>\n",
              "      <td>0.068089</td>\n",
              "      <td>-0.047126</td>\n",
              "      <td>0.117961</td>\n",
              "      <td>-0.021066</td>\n",
              "      <td>0.052572</td>\n",
              "      <td>-0.045473</td>\n",
              "      <td>-0.021157</td>\n",
              "      <td>-0.015974</td>\n",
              "      <td>0.087443</td>\n",
              "      <td>-0.016868</td>\n",
              "      <td>-0.093867</td>\n",
              "      <td>0.005548</td>\n",
              "      <td>0.063382</td>\n",
              "      <td>-0.020820</td>\n",
              "    </tr>\n",
              "    <tr>\n",
              "      <th>2</th>\n",
              "      <td>1485216000000000000</td>\n",
              "      <td>4</td>\n",
              "      <td>7.731961</td>\n",
              "      <td>0.006543</td>\n",
              "      <td>2280.07</td>\n",
              "      <td>0.003486</td>\n",
              "      <td>-0.076264</td>\n",
              "      <td>-0.154291</td>\n",
              "      <td>-0.008916</td>\n",
              "      <td>-0.014868</td>\n",
              "      <td>0.115484</td>\n",
              "      <td>0.023208</td>\n",
              "      <td>-0.079038</td>\n",
              "      <td>-0.048156</td>\n",
              "      <td>0.097570</td>\n",
              "      <td>0.044758</td>\n",
              "      <td>0.080892</td>\n",
              "      <td>-0.081148</td>\n",
              "      <td>0.055076</td>\n",
              "      <td>-0.102120</td>\n",
              "      <td>0.037895</td>\n",
              "      <td>-0.174331</td>\n",
              "      <td>0.054879</td>\n",
              "      <td>0.020863</td>\n",
              "      <td>0.004077</td>\n",
              "      <td>0.057490</td>\n",
              "      <td>-0.109024</td>\n",
              "      <td>-0.055438</td>\n",
              "      <td>0.055921</td>\n",
              "      <td>-0.002856</td>\n",
              "      <td>0.013402</td>\n",
              "      <td>0.041506</td>\n",
              "      <td>-0.114308</td>\n",
              "      <td>0.024163</td>\n",
              "      <td>0.046103</td>\n",
              "      <td>0.036448</td>\n",
              "      <td>-0.166681</td>\n",
              "      <td>-0.061696</td>\n",
              "      <td>-0.031946</td>\n",
              "      <td>0.021132</td>\n",
              "      <td>...</td>\n",
              "      <td>0.104668</td>\n",
              "      <td>-0.069272</td>\n",
              "      <td>-0.009853</td>\n",
              "      <td>-0.031020</td>\n",
              "      <td>0.049600</td>\n",
              "      <td>-0.005707</td>\n",
              "      <td>-0.025589</td>\n",
              "      <td>0.059342</td>\n",
              "      <td>0.016911</td>\n",
              "      <td>-0.087270</td>\n",
              "      <td>-0.047198</td>\n",
              "      <td>0.041550</td>\n",
              "      <td>-0.048792</td>\n",
              "      <td>0.021784</td>\n",
              "      <td>0.086282</td>\n",
              "      <td>-0.119952</td>\n",
              "      <td>-0.027043</td>\n",
              "      <td>0.033781</td>\n",
              "      <td>-0.097541</td>\n",
              "      <td>0.026266</td>\n",
              "      <td>0.087733</td>\n",
              "      <td>-0.020300</td>\n",
              "      <td>-0.058134</td>\n",
              "      <td>-0.153324</td>\n",
              "      <td>-0.160321</td>\n",
              "      <td>-0.000700</td>\n",
              "      <td>0.044981</td>\n",
              "      <td>-0.004838</td>\n",
              "      <td>0.107533</td>\n",
              "      <td>-0.013592</td>\n",
              "      <td>0.070000</td>\n",
              "      <td>-0.010337</td>\n",
              "      <td>-0.009257</td>\n",
              "      <td>-0.037313</td>\n",
              "      <td>0.064540</td>\n",
              "      <td>-0.031127</td>\n",
              "      <td>-0.078214</td>\n",
              "      <td>0.023469</td>\n",
              "      <td>0.043460</td>\n",
              "      <td>-0.051864</td>\n",
              "    </tr>\n",
              "    <tr>\n",
              "      <th>3</th>\n",
              "      <td>1485302400000000000</td>\n",
              "      <td>8</td>\n",
              "      <td>7.739955</td>\n",
              "      <td>0.007994</td>\n",
              "      <td>2298.37</td>\n",
              "      <td>0.001185</td>\n",
              "      <td>-0.089880</td>\n",
              "      <td>-0.097622</td>\n",
              "      <td>0.008226</td>\n",
              "      <td>-0.035443</td>\n",
              "      <td>0.138182</td>\n",
              "      <td>-0.008729</td>\n",
              "      <td>-0.049418</td>\n",
              "      <td>-0.032506</td>\n",
              "      <td>0.031621</td>\n",
              "      <td>0.048186</td>\n",
              "      <td>0.012833</td>\n",
              "      <td>-0.048971</td>\n",
              "      <td>0.042391</td>\n",
              "      <td>-0.058513</td>\n",
              "      <td>-0.029050</td>\n",
              "      <td>-0.145102</td>\n",
              "      <td>0.036015</td>\n",
              "      <td>0.050723</td>\n",
              "      <td>0.001347</td>\n",
              "      <td>0.077702</td>\n",
              "      <td>-0.072414</td>\n",
              "      <td>-0.055984</td>\n",
              "      <td>0.050754</td>\n",
              "      <td>0.042346</td>\n",
              "      <td>0.027707</td>\n",
              "      <td>0.065869</td>\n",
              "      <td>-0.118026</td>\n",
              "      <td>-0.010878</td>\n",
              "      <td>0.080783</td>\n",
              "      <td>0.004381</td>\n",
              "      <td>-0.170232</td>\n",
              "      <td>-0.013113</td>\n",
              "      <td>-0.046053</td>\n",
              "      <td>0.029018</td>\n",
              "      <td>...</td>\n",
              "      <td>0.092728</td>\n",
              "      <td>-0.070333</td>\n",
              "      <td>-0.032979</td>\n",
              "      <td>-0.035164</td>\n",
              "      <td>0.050639</td>\n",
              "      <td>-0.040600</td>\n",
              "      <td>-0.055152</td>\n",
              "      <td>0.057514</td>\n",
              "      <td>0.012204</td>\n",
              "      <td>-0.144893</td>\n",
              "      <td>-0.074744</td>\n",
              "      <td>0.047292</td>\n",
              "      <td>-0.062096</td>\n",
              "      <td>0.051686</td>\n",
              "      <td>0.072853</td>\n",
              "      <td>-0.121085</td>\n",
              "      <td>-0.018635</td>\n",
              "      <td>-0.019641</td>\n",
              "      <td>-0.068336</td>\n",
              "      <td>-0.039803</td>\n",
              "      <td>0.109098</td>\n",
              "      <td>0.028588</td>\n",
              "      <td>-0.034280</td>\n",
              "      <td>-0.122628</td>\n",
              "      <td>-0.160372</td>\n",
              "      <td>-0.007232</td>\n",
              "      <td>0.066909</td>\n",
              "      <td>-0.003821</td>\n",
              "      <td>0.111072</td>\n",
              "      <td>-0.009415</td>\n",
              "      <td>0.069469</td>\n",
              "      <td>-0.020559</td>\n",
              "      <td>-0.028893</td>\n",
              "      <td>-0.002429</td>\n",
              "      <td>0.073057</td>\n",
              "      <td>-0.055437</td>\n",
              "      <td>-0.088474</td>\n",
              "      <td>0.005590</td>\n",
              "      <td>0.040608</td>\n",
              "      <td>-0.024054</td>\n",
              "    </tr>\n",
              "    <tr>\n",
              "      <th>4</th>\n",
              "      <td>1485388800000000000</td>\n",
              "      <td>11</td>\n",
              "      <td>7.739220</td>\n",
              "      <td>-0.000736</td>\n",
              "      <td>2296.68</td>\n",
              "      <td>0.003759</td>\n",
              "      <td>-0.084202</td>\n",
              "      <td>-0.135158</td>\n",
              "      <td>0.007990</td>\n",
              "      <td>-0.022507</td>\n",
              "      <td>0.153811</td>\n",
              "      <td>-0.008984</td>\n",
              "      <td>-0.060101</td>\n",
              "      <td>-0.041378</td>\n",
              "      <td>0.047109</td>\n",
              "      <td>0.063339</td>\n",
              "      <td>0.035584</td>\n",
              "      <td>-0.070633</td>\n",
              "      <td>0.044801</td>\n",
              "      <td>-0.083104</td>\n",
              "      <td>-0.025473</td>\n",
              "      <td>-0.186798</td>\n",
              "      <td>0.042646</td>\n",
              "      <td>0.043087</td>\n",
              "      <td>0.011614</td>\n",
              "      <td>0.069900</td>\n",
              "      <td>-0.121916</td>\n",
              "      <td>-0.065288</td>\n",
              "      <td>0.043319</td>\n",
              "      <td>0.027099</td>\n",
              "      <td>-0.000421</td>\n",
              "      <td>0.051933</td>\n",
              "      <td>-0.124787</td>\n",
              "      <td>-0.012313</td>\n",
              "      <td>0.093022</td>\n",
              "      <td>0.025830</td>\n",
              "      <td>-0.181258</td>\n",
              "      <td>-0.037918</td>\n",
              "      <td>-0.036933</td>\n",
              "      <td>0.034158</td>\n",
              "      <td>...</td>\n",
              "      <td>0.083080</td>\n",
              "      <td>-0.060702</td>\n",
              "      <td>-0.014359</td>\n",
              "      <td>-0.037556</td>\n",
              "      <td>0.044290</td>\n",
              "      <td>-0.046565</td>\n",
              "      <td>-0.055208</td>\n",
              "      <td>0.066817</td>\n",
              "      <td>0.024993</td>\n",
              "      <td>-0.118449</td>\n",
              "      <td>-0.066029</td>\n",
              "      <td>0.029693</td>\n",
              "      <td>-0.074027</td>\n",
              "      <td>0.032408</td>\n",
              "      <td>0.078925</td>\n",
              "      <td>-0.112908</td>\n",
              "      <td>-0.027560</td>\n",
              "      <td>0.001705</td>\n",
              "      <td>-0.076546</td>\n",
              "      <td>-0.004877</td>\n",
              "      <td>0.113081</td>\n",
              "      <td>0.000040</td>\n",
              "      <td>-0.047199</td>\n",
              "      <td>-0.123369</td>\n",
              "      <td>-0.173330</td>\n",
              "      <td>0.004952</td>\n",
              "      <td>0.060858</td>\n",
              "      <td>-0.026729</td>\n",
              "      <td>0.095759</td>\n",
              "      <td>-0.023277</td>\n",
              "      <td>0.065745</td>\n",
              "      <td>-0.018365</td>\n",
              "      <td>-0.010427</td>\n",
              "      <td>-0.013244</td>\n",
              "      <td>0.059110</td>\n",
              "      <td>-0.034460</td>\n",
              "      <td>-0.073779</td>\n",
              "      <td>0.005180</td>\n",
              "      <td>0.042735</td>\n",
              "      <td>-0.033193</td>\n",
              "    </tr>\n",
              "  </tbody>\n",
              "</table>\n",
              "<p>5 rows × 305 columns</p>\n",
              "</div>"
            ],
            "text/plain": [
              "                  date  text       log  ...       297       298       299\n",
              "0  1484870400000000000    13  7.728112  ...  0.023281  0.063064 -0.001739\n",
              "1  1485129600000000000     1  7.725418  ...  0.005548  0.063382 -0.020820\n",
              "2  1485216000000000000     4  7.731961  ...  0.023469  0.043460 -0.051864\n",
              "3  1485302400000000000     8  7.739955  ...  0.005590  0.040608 -0.024054\n",
              "4  1485388800000000000    11  7.739220  ...  0.005180  0.042735 -0.033193\n",
              "\n",
              "[5 rows x 305 columns]"
            ]
          },
          "metadata": {
            "tags": []
          },
          "execution_count": 81
        }
      ]
    },
    {
      "cell_type": "code",
      "metadata": {
        "id": "n7AswbGKfTFw",
        "colab_type": "code",
        "colab": {}
      },
      "source": [
        "#特徴量とターゲットを決める\n",
        "from sklearn.model_selection import train_test_split\n",
        "\n",
        "target_col = 'dif_log'\n",
        "exclude_cols = ['log', 'price', 'dif_log', \"date\"]\n",
        "feature_cols = []\n",
        "for col in df4.columns:\n",
        "    if col not in exclude_cols:\n",
        "        feature_cols.append(col)\n",
        "        \n",
        "X = np.array(df4[feature_cols])\n",
        "y = np.array(df4[target_col])"
      ],
      "execution_count": 0,
      "outputs": []
    },
    {
      "cell_type": "code",
      "metadata": {
        "id": "20189zR5fTF0",
        "colab_type": "code",
        "colab": {
          "base_uri": "https://localhost:8080/",
          "height": 85
        },
        "outputId": "a5291167-85d8-4f42-a3ec-2194515d90a5"
      },
      "source": [
        "X_train_val, X_test, y_train_val, y_test = train_test_split(\n",
        "    X, y, test_size=0.1, random_state=1234)\n",
        "\n",
        "print('X_train_val Features Shape: ', X_train_val.shape)\n",
        "print('y_train_val Target Shape: ', y_train_val.shape)\n",
        "print('X_test Features Shape: ', X_test.shape)\n",
        "print('y_test Target Shape: ', y_test.shape)"
      ],
      "execution_count": 83,
      "outputs": [
        {
          "output_type": "stream",
          "text": [
            "X_train_val Features Shape:  (739, 301)\n",
            "y_train_val Target Shape:  (739,)\n",
            "X_test Features Shape:  (83, 301)\n",
            "y_test Target Shape:  (83,)\n"
          ],
          "name": "stdout"
        }
      ]
    },
    {
      "cell_type": "code",
      "metadata": {
        "id": "mW7aRfLifTF3",
        "colab_type": "code",
        "colab": {
          "base_uri": "https://localhost:8080/",
          "height": 85
        },
        "outputId": "4a227aac-4a43-4f3f-90fa-46e12ffe47de"
      },
      "source": [
        "X_train, X_val, y_train, y_val = train_test_split(\n",
        "    X_train_val, y_train_val, test_size=0.1, random_state=1234)\n",
        "\n",
        "# 参考：分割後のデータ数を確認\n",
        "print('X_train Features Shape: ', X_train.shape)\n",
        "print('y_train Target Shape: ', y_train.shape)\n",
        "print('X_val Features Shape: ', X_val.shape)\n",
        "print('y_val Target Shape: ', y_val.shape)"
      ],
      "execution_count": 84,
      "outputs": [
        {
          "output_type": "stream",
          "text": [
            "X_train Features Shape:  (665, 301)\n",
            "y_train Target Shape:  (665,)\n",
            "X_val Features Shape:  (74, 301)\n",
            "y_val Target Shape:  (74,)\n"
          ],
          "name": "stdout"
        }
      ]
    },
    {
      "cell_type": "code",
      "metadata": {
        "id": "AMGJVo-zfTF6",
        "colab_type": "code",
        "colab": {}
      },
      "source": [
        "#分析用のライブラリ\n",
        "\n",
        "from collections import Counter\n",
        "from sklearn.linear_model import LogisticRegression\n",
        "from sklearn.metrics import confusion_matrix, accuracy_score, classification_report\n",
        "from sklearn.linear_model import LinearRegression  # 線形回帰モデルのライブラリ\n",
        "from sklearn.metrics import mean_squared_error  # MSEのライブラリ\n",
        "from sklearn.ensemble import RandomForestRegressor"
      ],
      "execution_count": 0,
      "outputs": []
    },
    {
      "cell_type": "code",
      "metadata": {
        "id": "_7Ucu_2FfTF_",
        "colab_type": "code",
        "colab": {
          "base_uri": "https://localhost:8080/",
          "height": 34
        },
        "outputId": "65c0b746-78d8-4460-e59c-bceb738b1c2c"
      },
      "source": [
        "#分析1 線形回帰\n",
        "\n",
        "from sklearn.linear_model import LinearRegression  # 線形回帰モデルのライブラリ\n",
        "from sklearn.metrics import mean_squared_error  # MSEのライブラリ\n",
        "\n",
        "lm = LinearRegression()\n",
        "lm.fit(X_train, y_train)\n",
        "y_pred = lm.predict(X_val)\n",
        "lm_mse = mean_squared_error(y_val, y_pred)\n",
        "print('LinerRegression RMSE: ', round(np.sqrt(lm_mse), 3))"
      ],
      "execution_count": 86,
      "outputs": [
        {
          "output_type": "stream",
          "text": [
            "LinerRegression RMSE:  0.018\n"
          ],
          "name": "stdout"
        }
      ]
    },
    {
      "cell_type": "code",
      "metadata": {
        "id": "yP6pY8SpfTGB",
        "colab_type": "code",
        "colab": {
          "base_uri": "https://localhost:8080/",
          "height": 34
        },
        "outputId": "401d17c7-1355-40fa-d293-08275c6d85ba"
      },
      "source": [
        "#分析2 決定木\n",
        "\n",
        "from sklearn.tree import DecisionTreeRegressor\n",
        "\n",
        "dt = DecisionTreeRegressor(random_state=1234)\n",
        "dt.fit(X_train, y_train)\n",
        "y_pred = dt.predict(X_val)\n",
        "dt_mse = mean_squared_error(y_val, y_pred)\n",
        "print('DecisionTreeRegressor RMSE: ', round(np.sqrt(dt_mse), 3))"
      ],
      "execution_count": 87,
      "outputs": [
        {
          "output_type": "stream",
          "text": [
            "DecisionTreeRegressor RMSE:  0.024\n"
          ],
          "name": "stdout"
        }
      ]
    },
    {
      "cell_type": "code",
      "metadata": {
        "id": "TAO7GAT8fTGE",
        "colab_type": "code",
        "colab": {
          "base_uri": "https://localhost:8080/",
          "height": 34
        },
        "outputId": "6e32beef-0063-462d-e89b-5bad9772fddb"
      },
      "source": [
        "#分析3 ランダムフォレスト\n",
        "\n",
        "from sklearn.ensemble import RandomForestRegressor\n",
        "\n",
        "rf = RandomForestRegressor(n_estimators=100, random_state=1234)\n",
        "rf.fit(X_train, y_train)\n",
        "y_pred = rf.predict(X_val)\n",
        "rf_mse = mean_squared_error(y_val, y_pred)\n",
        "print('RandomForestRegressor RMSE: ', round(np.sqrt(rf_mse), 3))"
      ],
      "execution_count": 88,
      "outputs": [
        {
          "output_type": "stream",
          "text": [
            "RandomForestRegressor RMSE:  0.013\n"
          ],
          "name": "stdout"
        }
      ]
    },
    {
      "cell_type": "code",
      "metadata": {
        "id": "8iYWdBRkfTGH",
        "colab_type": "code",
        "colab": {
          "base_uri": "https://localhost:8080/",
          "height": 282
        },
        "outputId": "143f6781-8b32-4eda-b811-6c303639b1c2"
      },
      "source": [
        "#分析3 ランダムフォレストの特徴量\n",
        "\n",
        "rf_importances = pd.DataFrame(rf.feature_importances_, columns=['importance'], index=feature_cols)\n",
        "rf_importances.sort_values('importance', ascending=False).iloc[0:15].plot(kind='barh')"
      ],
      "execution_count": 89,
      "outputs": [
        {
          "output_type": "execute_result",
          "data": {
            "text/plain": [
              "<matplotlib.axes._subplots.AxesSubplot at 0x7febb4afe908>"
            ]
          },
          "metadata": {
            "tags": []
          },
          "execution_count": 89
        },
        {
          "output_type": "display_data",
          "data": {
            "image/png": "[encoded data removed]",
            "text/plain": [
              "<Figure size 432x288 with 1 Axes>"
            ]
          },
          "metadata": {
            "tags": [],
            "needs_background": "light"
          }
        }
      ]
    },
    {
      "cell_type": "code",
      "metadata": {
        "id": "_FrzHo3CfTGK",
        "colab_type": "code",
        "colab": {
          "base_uri": "https://localhost:8080/",
          "height": 68
        },
        "outputId": "fd325e7d-ca4d-41e2-fa93-8936d6e866ad"
      },
      "source": [
        "#３つの分析の結果の比較\n",
        "\n",
        "print('線形回帰モデルのRMSE:    ', round(np.sqrt(lm_mse), 3))\n",
        "print('回帰木のRMSE:                  ', round(np.sqrt(dt_mse), 3))\n",
        "print('ランダムフォレストのRMSE: ', round(np.sqrt(rf_mse), 3))"
      ],
      "execution_count": 90,
      "outputs": [
        {
          "output_type": "stream",
          "text": [
            "線形回帰モデルのRMSE:     0.018\n",
            "回帰木のRMSE:                   0.024\n",
            "ランダムフォレストのRMSE:  0.013\n"
          ],
          "name": "stdout"
        }
      ]
    },
    {
      "cell_type": "code",
      "metadata": {
        "id": "6nAtZEWZfTGO",
        "colab_type": "code",
        "colab": {
          "base_uri": "https://localhost:8080/",
          "height": 85
        },
        "outputId": "0f12edab-191e-4fc2-b4ec-49641af69ee5"
      },
      "source": [
        "#分析4 ランダムフォレストのチューニング\n",
        "\n",
        "# クロスバリデーションとグリッドサーチ のライブラリ\n",
        "from sklearn.model_selection import GridSearchCV\n",
        "\n",
        "rf = RandomForestRegressor(random_state=1234)\n",
        "\n",
        "params = {'n_estimators': [10, 25, 50, 100], 'max_depth': [10, 20, 30, 50]}\n",
        "gscv = GridSearchCV(rf, param_grid=params, verbose=1, cv=3,\n",
        "                    scoring='neg_mean_squared_error', n_jobs=-1)\n",
        "gscv.fit(X_train, y_train)\n",
        "\n",
        "gscv.best_params_"
      ],
      "execution_count": 91,
      "outputs": [
        {
          "output_type": "stream",
          "text": [
            "Fitting 3 folds for each of 16 candidates, totalling 48 fits\n"
          ],
          "name": "stdout"
        },
        {
          "output_type": "stream",
          "text": [
            "[Parallel(n_jobs=-1)]: Using backend LokyBackend with 2 concurrent workers.\n",
            "[Parallel(n_jobs=-1)]: Done  48 out of  48 | elapsed:  2.3min finished\n"
          ],
          "name": "stderr"
        },
        {
          "output_type": "execute_result",
          "data": {
            "text/plain": [
              "{'max_depth': 10, 'n_estimators': 50}"
            ]
          },
          "metadata": {
            "tags": []
          },
          "execution_count": 91
        }
      ]
    },
    {
      "cell_type": "code",
      "metadata": {
        "id": "TAcxNPOffTGR",
        "colab_type": "code",
        "colab": {
          "base_uri": "https://localhost:8080/",
          "height": 34
        },
        "outputId": "e8960391-797c-4906-cdd0-6811f145736c"
      },
      "source": [
        "#分析4 ランダムフォレストのチューニング\n",
        "best_estimators = gscv.best_params_[\"n_estimators\"]\n",
        "best_depth = gscv.best_params_[\"max_depth\"]\n",
        "\n",
        "rf_best = RandomForestRegressor(n_estimators=best_estimators, max_depth=best_depth, random_state=1234)\n",
        "rf_best.fit(X_train, y_train)\n",
        "y_pred = rf_best.predict(X_val)\n",
        "rf_best_mse = mean_squared_error(y_val, y_pred)\n",
        "print('RandomForest RMSE: ', round(np.sqrt(rf_best_mse), 3))"
      ],
      "execution_count": 92,
      "outputs": [
        {
          "output_type": "stream",
          "text": [
            "RandomForest RMSE:  0.013\n"
          ],
          "name": "stdout"
        }
      ]
    },
    {
      "cell_type": "code",
      "metadata": {
        "id": "43P-uNhxfTGU",
        "colab_type": "code",
        "colab": {
          "base_uri": "https://localhost:8080/",
          "height": 34
        },
        "outputId": "cb79bc73-eace-47d1-db2b-b0d7d66de3c4"
      },
      "source": [
        "#分析5 チューニングしたモデルにテストデータを代入\n",
        "\n",
        "y_pred_on_test = rf_best.predict(X_test)\n",
        "rf_best_test_mse = mean_squared_error(y_test, y_pred_on_test)\n",
        "print('RandomForest RMSE: ', round(np.sqrt(rf_best_test_mse), 3))"
      ],
      "execution_count": 93,
      "outputs": [
        {
          "output_type": "stream",
          "text": [
            "RandomForest RMSE:  0.014\n"
          ],
          "name": "stdout"
        }
      ]
    },
    {
      "cell_type": "code",
      "metadata": {
        "id": "OXUicVllfTGc",
        "colab_type": "code",
        "colab": {
          "base_uri": "https://localhost:8080/",
          "height": 564
        },
        "outputId": "a88ce558-4b1b-4c5d-ad9c-02152792c6a6"
      },
      "source": [
        "#分析5 テストデータを代入\n",
        "#誤差を可視化\n",
        "\n",
        "plt.scatter(y_test, y_pred_on_test)\n",
        "plt.show()\n",
        "\n",
        "import seaborn as sns\n",
        "\n",
        "error_rate = (y_test - y_pred_on_test) / y_test\n",
        "print('Mean: ', round(np.mean(error_rate), 5))\n",
        "print('Std: ', round(np.std(error_rate), 5))\n",
        "sns.distplot(error_rate, kde=False, rug=False, bins=20)"
      ],
      "execution_count": 94,
      "outputs": [
        {
          "output_type": "display_data",
          "data": {
            "image/png": "[encoded data removed]",
            "text/plain": [
              "<Figure size 432x288 with 1 Axes>"
            ]
          },
          "metadata": {
            "tags": [],
            "needs_background": "light"
          }
        },
        {
          "output_type": "stream",
          "text": [
            "Mean:  1.68339\n",
            "Std:  3.98837\n"
          ],
          "name": "stdout"
        },
        {
          "output_type": "execute_result",
          "data": {
            "text/plain": [
              "<matplotlib.axes._subplots.AxesSubplot at 0x7febb4a6ac18>"
            ]
          },
          "metadata": {
            "tags": []
          },
          "execution_count": 94
        },
        {
          "output_type": "display_data",
          "data": {
            "image/png": "[encoded data removed]",
            "text/plain": [
              "<Figure size 432x288 with 1 Axes>"
            ]
          },
          "metadata": {
            "tags": [],
            "needs_background": "light"
          }
        }
      ]
    },
    {
      "cell_type": "code",
      "metadata": {
        "id": "sGW47_XkfTGi",
        "colab_type": "code",
        "colab": {
          "base_uri": "https://localhost:8080/",
          "height": 581
        },
        "outputId": "f8520023-bb00-434b-8eee-bc2640726f86"
      },
      "source": [
        "#分析6 クラスタリング\n",
        "#https://hironsan.hatenablog.com/entry/clustering-word-vectors\n",
        "\n",
        "from collections import defaultdict\n",
        "from gensim.models.keyedvectors import KeyedVectors\n",
        "from sklearn.cluster import KMeans\n",
        "\n",
        "model = KeyedVectors.load('skipgram_w2v.model')\n",
        "max_vocab = 30000\n",
        "vocab = list(model.wv.vocab.keys())[:max_vocab]\n",
        "vectors = [model.wv[word] for word in vocab]\n",
        "\n",
        "n_clusters = 30\n",
        "kmeans_model = KMeans(n_clusters=n_clusters, verbose=1, random_state=1234, n_jobs=-1)\n",
        "kmeans_model.fit(vectors)\n",
        "\n",
        "cluster_labels = kmeans_model.labels_\n",
        "cluster_to_words = defaultdict(list)\n",
        "for cluster_id, word in zip(cluster_labels, vocab):\n",
        "    cluster_to_words[cluster_id].append(word)\n",
        "\n",
        "for words in cluster_to_words.values():\n",
        "    print(words[:10])"
      ],
      "execution_count": 95,
      "outputs": [
        {
          "output_type": "stream",
          "text": [
            "/usr/local/lib/python3.6/dist-packages/smart_open/smart_open_lib.py:253: UserWarning: This function is deprecated, use smart_open.open instead. See the migration notes for details: https://github.com/RaRe-Technologies/smart_open/blob/master/README.rst#migrating-to-the-new-open-function\n",
            "  'See the migration notes for details: %s' % _MIGRATION_NOTES_URL\n"
          ],
          "name": "stderr"
        },
        {
          "output_type": "stream",
          "text": [
            "['trump', 'show', '”', 'corruption', 'special', 'deep', 'general', 'katiepavlich', 'covering', 'interview']\n",
            "['gets', 'little', 'put', 'good', 'given', 'others', 'enough', 'would', 'else', 'getting']\n",
            "['latest', 'fire', 'ny', 'gave', 'president', 'spent', '8', 'pandemic', 'hughhewitt', 'direction']\n",
            "['poll', '6', '7', 'trillion', 'since', 'gopchairwoman', 'cut', 'million', 'economic', 'highest']\n",
            "['approval', 'republican', 'party', 'rating', 'high', 'overall', '95', '53']\n",
            "['tied', 'angry', 'totally', 'loser', 'called', 'using', 'knows', 'whole', 'seems', 'responsible']\n",
            "['best', 'never', 'history', 'yet', 'election', '2016', 'still', 'seen', 'dropped', 'happened']\n",
            "['governor', 'michigan', 'night', 'great', '2020', 'incredible', 'wisconsin', 'jersey', 'proud', 'iowa']\n",
            "['give', 'want', 'cryin', 'chuck', 'schumer', 'brought', 'swamp', 'radical', 'nothing', 'democrats']\n",
            "['people', 'back', 'make', 'one', 'amp', 'done', 'making', 'working', 'hard', 'always']\n",
            "['lives', 'act', 'ensure', 'supply', 'protecting', 'seniors', 'coronavirus', 'assistance', 'funding', 'critical']\n",
            "['see', 'talk', 'thing', 'even', 'wonder', 'cuomo', '’', 'aoc', 'late', 'talking']\n",
            "['deal', 'dollars', '25', 'pay', 'goods', 'paying', 'powell', 'higher', 'countries', 'federal']\n",
            "['senators', 'vote', 'voted', 'need', 'congress', 'tax', 'get', 'plan', 'support', 'care']\n",
            "['home', 'states', 'testing', 'ventilators', 'middle', 'chinese', '33', 'hospitals', 'food', 'spread']\n",
            "['stop', 'border', 'allow', 'necessary', 'open', 'must', 'immigration', 'finally', 'human', 'agents']\n",
            "['stand', 'mikepence', 'america', 'americans', 'every', 'day', 'message', '—', 'americas', 'hardworking']\n",
            "['false', 'media', 'fake', 'news', 'partner', 'cnn', 'msdnc', 'story', 'post', 'corrupt']\n",
            "['job', 'opponent', 'mike', 'tom', 'drain', 'kevin', 'liberal', 'state', 'brian', 'ryan']\n",
            "['lied', 'dirty', 'fusion', 'fbi', 'investigation', 'mueller', 'james', 'documents', 'christopher', 'comey']\n",
            "['teamtrump', 'realdonaldtrump', 'leadership', 'first', 'days', 'response', 'new', 'team', 'teachers', 'received']\n",
            "['east', 'meeting', 'sanctions', 'putin', 'seeing', 'spoke', 'forward', 'north', 'south', 'exciting']\n",
            "['gm', 'production', 'farmers', 'ranchers', 'us', 'small', 'business', 'financial', 'parts', 'plants']\n",
            "['authority', 'rep', 'jimjordan', 'refuses', 'house', 'th', 'elisestefanik', 'repandybiggsaz', 'gopleader', 'mccarthy']\n",
            "['defense', 'w', 'officials', 'closely', 'supporting', 'enforcement', 'loved', 'staff', 'prayers', 'safe']\n",
            "['cop', 'case', 'cops', 'knew', 'flynn', 'released', 'director', 'wray', 'transcript', 'pro']\n",
            "['honor', 'whitehouse', 'live', 'potus', 'delivers', 'remarks', 'met', 'birthday', 'vp', 'oval']\n",
            "['\\u2066', '\\u2069', 'morning', 'tonight', 'hall', 'conference', 'white', 'press', 'pm', 'erictrump']\n",
            "['military', 'vets', 'fighter', 'supports', 'loves', 'strong', 'crime', 'second', 'amendment', 'complete']\n",
            "['ं', 'ी', 'क', 'े', '्', 'र', 'ा', 'ि', 'म', 'ह']\n"
          ],
          "name": "stdout"
        }
      ]
    },
    {
      "cell_type": "code",
      "metadata": {
        "id": "Fu0b2E73mdhz",
        "colab_type": "code",
        "colab": {
          "base_uri": "https://localhost:8080/",
          "height": 472
        },
        "outputId": "8df5f2d9-4649-473f-8aae-ac8b966d9b46"
      },
      "source": [
        "#分析7 似ている単語をプロット\n",
        "# https://yoshipc.net/python-word2vec/\n",
        " \n",
        "from gensim.models import word2vec\n",
        "import numpy as np\n",
        "import matplotlib.pyplot as plt\n",
        "from sklearn.decomposition import PCA\n",
        " \n",
        "model = word2vec.Word2Vec.load(\"/content/skipgram_w2v.model\")\n",
        " \n",
        "#調べる情報を配列に収納\n",
        "trump_word = []\n",
        "trump_word.append([\"america\",\"china\"])\n",
        "trump_word.append([\"america\",\"great\"])\n",
        "trump_word.append([\"america\",\"japan\"])\n",
        "trump_word.append([\"trump\",\"president\"])\n",
        "trump_word.append([\"coronavirus\",\"covid\"])\n",
        "trump_word.append([\"coronavirus\",\"economy\"])\n",
        "trump_word.append([\"stock\",\"economy\"])\n",
        "\n",
        "length = len(trump_word)\n",
        "data = []\n",
        " \n",
        "j = 0\n",
        "while j < length:\n",
        "    print(trump_word[j][1])\n",
        "    data.append(model[trump_word[j][0]])\n",
        "    data.append(model[trump_word[j][1]])\n",
        "    j += 1\n",
        " \n",
        "pca = PCA(n_components=2)\n",
        "pca.fit(data)\n",
        "data_pca= pca.transform(data)\n",
        " \n",
        "length_data = len(data_pca)\n",
        " \n",
        "i = 0\n",
        "j = 0\n",
        "while i < length_data:\n",
        "    #点プロット\n",
        "    plt.plot(data_pca[i][0], data_pca[i][1], ms=5.0, zorder=2 ,marker=\"x\")\n",
        "    plt.plot(data_pca[i+1][0], data_pca[i+1][1],ms=5.0, zorder=2 ,marker=\"x\")\n",
        " \n",
        "    #線プロット\n",
        "    plt.plot((data_pca[i][0], data_pca[i+1][0]),(data_pca[i][1],data_pca[i+1][1]),c=\"b\",linewidth=0.5,zorder=1,linestyle=\"--\")\n",
        " \n",
        "    #文字プロット\n",
        "    plt.annotate(trump_word[j][0],(data_pca[i][0], data_pca[i][1]),size=7)\n",
        "    plt.annotate(trump_word[j][1],(data_pca[i+1][0], data_pca[i+1][1]),size=7)\n",
        " \n",
        "    j += 1\n",
        "    i += 2\n",
        " \n",
        "plt.show()"
      ],
      "execution_count": 96,
      "outputs": [
        {
          "output_type": "stream",
          "text": [
            "china\n",
            "great\n",
            "japan\n",
            "president\n",
            "covid\n",
            "economy\n",
            "economy\n"
          ],
          "name": "stdout"
        },
        {
          "output_type": "stream",
          "text": [
            "/usr/local/lib/python3.6/dist-packages/smart_open/smart_open_lib.py:253: UserWarning: This function is deprecated, use smart_open.open instead. See the migration notes for details: https://github.com/RaRe-Technologies/smart_open/blob/master/README.rst#migrating-to-the-new-open-function\n",
            "  'See the migration notes for details: %s' % _MIGRATION_NOTES_URL\n",
            "/usr/local/lib/python3.6/dist-packages/ipykernel_launcher.py:25: DeprecationWarning: Call to deprecated `__getitem__` (Method will be removed in 4.0.0, use self.wv.__getitem__() instead).\n",
            "/usr/local/lib/python3.6/dist-packages/ipykernel_launcher.py:26: DeprecationWarning: Call to deprecated `__getitem__` (Method will be removed in 4.0.0, use self.wv.__getitem__() instead).\n"
          ],
          "name": "stderr"
        },
        {
          "output_type": "display_data",
          "data": {
            "image/png": "[encoded data removed]",
            "text/plain": [
              "<Figure size 432x288 with 1 Axes>"
            ]
          },
          "metadata": {
            "tags": [],
            "needs_background": "light"
          }
        }
      ]
    },
    {
      "cell_type": "code",
      "metadata": {
        "id": "zXq4SYqwp5Xu",
        "colab_type": "code",
        "colab": {}
      },
      "source": [
        "#分析8 DeepLearning\n",
        "#ライブラリをインポート\n",
        "\n",
        "import numpy as np\n",
        "import pandas as pd\n",
        "import torch\n",
        "from torch import nn\n",
        "from torch import optim\n",
        "import torch.nn.functional as F\n",
        "from torch.utils.data import DataLoader, TensorDataset\n",
        "from sklearn.model_selection import train_test_split\n",
        "from sklearn.metrics import confusion_matrix\n",
        "import matplotlib.pyplot as plt"
      ],
      "execution_count": 0,
      "outputs": []
    },
    {
      "cell_type": "code",
      "metadata": {
        "id": "4uecjMVBTBij",
        "colab_type": "code",
        "colab": {}
      },
      "source": [
        "class myMLP(nn.Module):\n",
        "    def __init__(self, in_features, out_features):\n",
        "        super().__init__()\n",
        "        self.ln1 = nn.Linear(in_features, 256)\n",
        "        self.ln2 = nn.Linear(256, 128)\n",
        "        self.ln3 = nn.Linear(128, 32)\n",
        "        self.ln4 = nn.Linear(32, 64)\n",
        "        self.ln5 = nn.Linear(64, 32)\n",
        "        self.ln6 = nn.Linear(32, 4)\n",
        "        self.ln7 = nn.Linear(4, out_features)\n",
        "\n",
        "    def forward(self, x):\n",
        "        x = self.ln1(x)\n",
        "        x = F.relu(x)\n",
        "        x = self.ln2(x)\n",
        "        x = F.relu(x)\n",
        "        x = self.ln3(x)\n",
        "        x = F.relu(x)\n",
        "        x = self.ln4(x)\n",
        "        x = F.relu(x)\n",
        "        x = self.ln5(x)\n",
        "        x = F.relu(x)\n",
        "        x = self.ln6(x)\n",
        "        x = F.relu(x)\n",
        "        x = self.ln7(x)\n",
        "        return x"
      ],
      "execution_count": 0,
      "outputs": []
    },
    {
      "cell_type": "code",
      "metadata": {
        "id": "_qwTPkn83jED",
        "colab_type": "code",
        "colab": {
          "base_uri": "https://localhost:8080/",
          "height": 406
        },
        "outputId": "a8977b05-9022-4b05-db77-c5f294b3027e"
      },
      "source": [
        "#分析8 DeepLearning\n",
        "# NumPyのarryをtorch.tensor型に変換する。\n",
        "\n",
        "X_train, X_test, y_train, y_test = train_test_split(\n",
        "    X, y, test_size=0.2, random_state=1234)\n",
        "\n",
        "X_train_tensor = torch.tensor(X_train, dtype=torch.float32)\n",
        "y_train_tensor = torch.tensor(y_train, dtype=torch.float32)\n",
        "X_test_tensor = torch.tensor(X_test, dtype=torch.float32)\n",
        "y_test_tensor = torch.tensor(y_test, dtype=torch.float32)\n",
        "\n",
        "train_dataset = TensorDataset(X_train_tensor, y_train_tensor)\n",
        "train_loader = DataLoader(train_dataset, batch_size=100, shuffle=True)\n",
        "\n",
        "#ネットワークを書く\n",
        "net = myMLP(301,1)\n",
        "net.parameters\n",
        "\n",
        "#目的関数を指定（今回は回帰問題のためMSELoss()を使用する）\n",
        "#https://pytorch.org/docs/stable/nn.html#loss-functions\n",
        "loss_func = nn.MSELoss()\n",
        "#Optimizerを定義する\n",
        "#https://pytorch.org/docs/stable/optim.html\n",
        "optimizer = optim.RMSprop(net.parameters())\n",
        "\n",
        "train_loss_track = []\n",
        "test_loss_track = []\n",
        "\n",
        "for epoc in range(100):\n",
        "    running_loss = 0\n",
        "    \n",
        "    # 学習モード\n",
        "    net.train()\n",
        "    for step, (xx, yy)  in enumerate(train_loader):\n",
        "        \n",
        "        # 最後に計算した各パラメーターの勾配を初期化する\n",
        "        optimizer.zero_grad()\n",
        "        \n",
        "        # フォワード計算を行う\n",
        "        y_pred = net(xx).float()\n",
        "        \n",
        "        # 誤差関数を使ってギャップの計測\n",
        "        loss = loss_func(y_pred, yy)\n",
        "      \n",
        "        # 誤差逆伝播法を使って自動微分\n",
        "        loss.backward()\n",
        "        \n",
        "        # パラメーターを更新\n",
        "        optimizer.step()\n",
        "        \n",
        "        # 学習データを使って誤差を計算\n",
        "        running_loss += loss.item()\n",
        "        \n",
        "    # エポックが終了したら平均誤差を計算\n",
        "    train_loss_track.append(running_loss/step)\n",
        "    \n",
        "    \n",
        "    #評価（evaluation）モード\n",
        "    net.eval()\n",
        "    \n",
        "    # 予測値を計算\n",
        "    y_pred = net(X_test_tensor)\n",
        "    \n",
        "    # 誤差関数を計算\n",
        "    test_loss = loss_func(y_pred, y_test_tensor)\n",
        "    \n",
        "    # 誤差をトラッキング\n",
        "    test_loss_track.append(test_loss)\n",
        "\n",
        "plt.plot(train_loss_track)\n",
        "plt.plot(test_loss_track)"
      ],
      "execution_count": 106,
      "outputs": [
        {
          "output_type": "stream",
          "text": [
            "/usr/local/lib/python3.6/dist-packages/torch/nn/modules/loss.py:432: UserWarning: Using a target size (torch.Size([100])) that is different to the input size (torch.Size([100, 1])). This will likely lead to incorrect results due to broadcasting. Please ensure they have the same size.\n",
            "  return F.mse_loss(input, target, reduction=self.reduction)\n",
            "/usr/local/lib/python3.6/dist-packages/torch/nn/modules/loss.py:432: UserWarning: Using a target size (torch.Size([57])) that is different to the input size (torch.Size([57, 1])). This will likely lead to incorrect results due to broadcasting. Please ensure they have the same size.\n",
            "  return F.mse_loss(input, target, reduction=self.reduction)\n",
            "/usr/local/lib/python3.6/dist-packages/torch/nn/modules/loss.py:432: UserWarning: Using a target size (torch.Size([165])) that is different to the input size (torch.Size([165, 1])). This will likely lead to incorrect results due to broadcasting. Please ensure they have the same size.\n",
            "  return F.mse_loss(input, target, reduction=self.reduction)\n"
          ],
          "name": "stderr"
        },
        {
          "output_type": "execute_result",
          "data": {
            "text/plain": [
              "[<matplotlib.lines.Line2D at 0x7febb4a2bf28>]"
            ]
          },
          "metadata": {
            "tags": []
          },
          "execution_count": 106
        },
        {
          "output_type": "display_data",
          "data": {
            "image/png": "[encoded data removed]",
            "text/plain": [
              "<Figure size 432x288 with 1 Axes>"
            ]
          },
          "metadata": {
            "tags": [],
            "needs_background": "light"
          }
        }
      ]
    },
    {
      "cell_type": "code",
      "metadata": {
        "id": "SzkCD7czXEFc",
        "colab_type": "code",
        "colab": {
          "base_uri": "https://localhost:8080/",
          "height": 34
        },
        "outputId": "3d787f1e-d053-4f82-f4d3-5136352a86b6"
      },
      "source": [
        "print(test_loss_track[0])"
      ],
      "execution_count": 107,
      "outputs": [
        {
          "output_type": "stream",
          "text": [
            "tensor(0.0037, grad_fn=<MseLossBackward>)\n"
          ],
          "name": "stdout"
        }
      ]
    },
    {
      "cell_type": "code",
      "metadata": {
        "id": "pcp2tIVEfTGo",
        "colab_type": "code",
        "colab": {}
      },
      "source": [
        "#上手くいってない\n",
        "#分析6 Doc2Vecでツイートをクラスタリングする①\n",
        "#https://qiita.com/g-k/items/5ea94c13281f675302ca\n",
        "\n",
        "#from gensim.models.doc2vec import Doc2Vec, TaggedDocument\n",
        "#from gensim import models\n",
        "\n",
        "#documents = [TaggedDocument(doc, [i]) for i, doc in enumerate(sentences)]\n",
        "#model = Doc2Vec(documents, vector_size=300, window=5, min_count=1, workers=4)\n",
        "#model.save(\"doc2_w2v.model\")"
      ],
      "execution_count": 0,
      "outputs": []
    },
    {
      "cell_type": "code",
      "metadata": {
        "id": "Ge2VGRbHfTGr",
        "colab_type": "code",
        "colab": {}
      },
      "source": [
        "#上手くいってない\n",
        "#分析6 Doc2Vecでツイートをクラスタリングする②\n",
        "#https://qiita.com/naotaka1128/items/e617f63907fed035408a\n",
        "\n",
        "#model = models.Doc2Vec.load('/content/doc2_w2v.model')\n",
        "\n",
        "from sklearn.decomposition import PCA\n",
        "import matplotlib.pyplot as plt\n",
        "\n",
        "def draw_word_scatter(word, topn=30):\n",
        "    \"\"\" 入力されたwordに似ている単語の分布図を描くためのメソッド \"\"\"\n",
        "\n",
        "    # 似ている単語を求めるためにはGensim word2vecの以下の機能を利用\n",
        "    # model.most_similar(word, topn=topn)\n",
        "    words = [x[0] for x in sorted(model.most_similar(word, topn=topn))]\n",
        "    words.append(word)\n",
        "\n",
        "    # 各単語のベクトル表現を求めます。Gensimのmost_similarをベースとして\n",
        "    # 単語のベクトルを返すメソッド(model.calc_vec)を定義しています\n",
        "    # 長くなるので実装は本稿の末尾に記載しました。\n",
        "    vecs = [model.calc_vec(word) for word in words]\n",
        "\n",
        "    # 分布図\n",
        "    draw_scatter_plot(vecs, words)\n",
        "\n",
        "def draw_scatter_plot(vecs, tags, clusters):\n",
        "    \"\"\" 入力されたベクトルに基づき散布図(ラベル付き)を描くためのメソッド \"\"\"\n",
        "\n",
        "    # Scikit-learnのPCAによる次元削減とその可視化\n",
        "    pca = PCA(n_components=2)\n",
        "    coords = pca.fit_transform(vecs)\n",
        "\n",
        "    # matplotlibによる可視化\n",
        "    fig, ax = plt.subplots()\n",
        "    x = [v[0] for v in coords]\n",
        "    y = [v[1] for v in coords]\n",
        "\n",
        "    # 各点のクラスターが設定されていればクラスタを考慮\n",
        "    # エラーハンドリングは適当\n",
        "    if clusters:\n",
        "        ax.scatter(x, y, c=clusters)\n",
        "    else:\n",
        "        ax.scatter(x, y)\n",
        "\n",
        "    for i, txt in enumerate(tags):\n",
        "        ax.annotate(txt, (coords[i][0], coords[i][1]))\n",
        "    plt.show()\n",
        "    \n",
        "#draw_word_scatter('coronavirus', topn=40)"
      ],
      "execution_count": 0,
      "outputs": []
    },
    {
      "cell_type": "code",
      "metadata": {
        "id": "o9aiwySJh-Kg",
        "colab_type": "code",
        "colab": {}
      },
      "source": [
        ""
      ],
      "execution_count": 0,
      "outputs": []
    }
  ]
}