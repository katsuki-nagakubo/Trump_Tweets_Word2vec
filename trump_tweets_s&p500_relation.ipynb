{
  "nbformat": 4,
  "nbformat_minor": 0,
  "metadata": {
    "kernelspec": {
      "display_name": "Python 3",
      "language": "python",
      "name": "python3"
    },
    "language_info": {
      "codemirror_mode": {
        "name": "ipython",
        "version": 3
      },
      "file_extension": ".py",
      "mimetype": "text/x-python",
      "name": "python",
      "nbconvert_exporter": "python",
      "pygments_lexer": "ipython3",
      "version": "3.7.4"
    },
    "colab": {
      "name": "trump_tweets_s&p500_relation.ipynb ",
      "provenance": [],
      "collapsed_sections": [],
      "include_colab_link": true
    }
  },
  "cells": [
    {
      "cell_type": "markdown",
      "metadata": {
        "id": "view-in-github",
        "colab_type": "text"
      },
      "source": [
        "<a href=\"https://colab.research.google.com/github/katsuki-nagakubo/Tweets_Word2vec/blob/final/trump_tweets_s%26p500_relation.ipynb\" target=\"_parent\"><img src=\"https://colab.research.google.com/assets/colab-badge.svg\" alt=\"Open In Colab\"/></a>"
      ]
    },
    {
      "cell_type": "code",
      "metadata": {
        "id": "5TBDVbUQfTEM",
        "colab_type": "code",
        "colab": {}
      },
      "source": [
        "#データの取得と成形\n",
        "\n",
        "import pandas as pd\n",
        "import numpy as np\n",
        "import matplotlib.pyplot as plt "
      ],
      "execution_count": 0,
      "outputs": []
    },
    {
      "cell_type": "code",
      "metadata": {
        "id": "0etwSm9DfTEU",
        "colab_type": "code",
        "outputId": "a1ed847c-7186-4350-9602-cd0dd96d927e",
        "colab": {
          "base_uri": "https://localhost:8080/",
          "height": 34
        }
      },
      "source": [
        "#https://teratail.com/questions/128725\n",
        "\n",
        "from ast import literal_eval\n",
        "from pprint import pprint\n",
        "\n",
        "f = open('/content/trump_tweets.txt', 'r')\n",
        "text = f.read()\n",
        "mylist = literal_eval(text)\n",
        "\n",
        "print(type(mylist), type(mylist[0]))"
      ],
      "execution_count": 2,
      "outputs": [
        {
          "output_type": "stream",
          "text": [
            "<class 'list'> <class 'dict'>\n"
          ],
          "name": "stdout"
        }
      ]
    },
    {
      "cell_type": "code",
      "metadata": {
        "id": "e2D_Z2KUfTEY",
        "colab_type": "code",
        "outputId": "80da0129-23c5-444c-9b31-98e9766f8db8",
        "colab": {
          "base_uri": "https://localhost:8080/",
          "height": 34
        }
      },
      "source": [
        "df_text=[]\n",
        "df_created_at=[]\n",
        "df_id_str=[]\n",
        "\n",
        "print(len(mylist),\"tweets\")\n",
        "\n",
        "for i in range(len(mylist)):\n",
        "    text = mylist[i][\"text\"]\n",
        "    created_at = mylist[i][\"created_at\"]\n",
        "    id_str = mylist[i][\"id_str\"]\n",
        "    df_text.append(text)\n",
        "    df_created_at.append(created_at)\n",
        "    df_id_str.append(id_str)\n",
        "\n",
        "tweet_list=[df_created_at,df_id_str,df_text]\n",
        "#print(tweet_list)"
      ],
      "execution_count": 3,
      "outputs": [
        {
          "output_type": "stream",
          "text": [
            "17544 tweets\n"
          ],
          "name": "stdout"
        }
      ]
    },
    {
      "cell_type": "code",
      "metadata": {
        "id": "FfVe8YhPfTEc",
        "colab_type": "code",
        "colab": {}
      },
      "source": [
        "#https://ai-inter1.com/pandas-dataframe_basic/\n",
        "#リスト型にしたデータをPandasでDataFrameにした\n",
        "\n",
        "columns1=[\"created_at\"]\n",
        "tweet_data = pd.DataFrame( data = df_created_at, columns = columns1)\n",
        "tweet_data[\"id\"]=df_id_str\n",
        "tweet_data[\"text\"] = df_text"
      ],
      "execution_count": 0,
      "outputs": []
    },
    {
      "cell_type": "code",
      "metadata": {
        "id": "njrdAvuzfTEf",
        "colab_type": "code",
        "colab": {}
      },
      "source": [
        "#https://teratail.com/questions/132333\n",
        "#https://note.nkmk.me/python-pandas-datetime-timestamp/\n",
        "\n",
        "tweet_data[\"time_created_at\"] = pd.to_datetime(tweet_data['created_at'])\n",
        "tweet_data[\"date_created_at\"] = tweet_data[\"time_created_at\"].dt.date\n",
        "tweet_data[\"key\"]=pd.to_datetime(tweet_data[\"date_created_at\"])"
      ],
      "execution_count": 0,
      "outputs": []
    },
    {
      "cell_type": "code",
      "metadata": {
        "id": "iZi3fq8nfTEj",
        "colab_type": "code",
        "colab": {}
      },
      "source": [
        "# https://www.macrotrends.net/2488/sp500-10-year-daily-chart\n",
        "\n",
        "sp_data = pd.read_csv('/content/sp500-10-year-daily-chart.csv')\n",
        "sp_data[\"date_64\"] = pd.to_datetime(sp_data[\"date\"])\n",
        "sp_data[\"key\"] =sp_data[\"date_64\"] "
      ],
      "execution_count": 0,
      "outputs": []
    },
    {
      "cell_type": "code",
      "metadata": {
        "id": "Lb8q3TCTfTEn",
        "colab_type": "code",
        "outputId": "e8dc35f9-2cb6-4a49-9263-3dca727db6cc",
        "colab": {
          "base_uri": "https://localhost:8080/",
          "height": 204
        }
      },
      "source": [
        "#内部結合\n",
        "#http://pppurple.hatenablog.com/entry/2016/06/27/022310#inner-join\n",
        "#https://note.nkmk.me/python-pandas-merge-join/\n",
        "\n",
        "tweet_data=pd.merge(tweet_data, sp_data)\n",
        "tweet_data.columns\n",
        "data = tweet_data[[\"key\",\" value\",\"text\"]]\n",
        "\n",
        "#行の名前を変更する　20200505\n",
        "data = data.rename(columns={\"key\": \"date\",\" value\":\"price\"})\n",
        "data.head()"
      ],
      "execution_count": 7,
      "outputs": [
        {
          "output_type": "execute_result",
          "data": {
            "text/html": [
              "<div>\n",
              "<style scoped>\n",
              "    .dataframe tbody tr th:only-of-type {\n",
              "        vertical-align: middle;\n",
              "    }\n",
              "\n",
              "    .dataframe tbody tr th {\n",
              "        vertical-align: top;\n",
              "    }\n",
              "\n",
              "    .dataframe thead th {\n",
              "        text-align: right;\n",
              "    }\n",
              "</style>\n",
              "<table border=\"1\" class=\"dataframe\">\n",
              "  <thead>\n",
              "    <tr style=\"text-align: right;\">\n",
              "      <th></th>\n",
              "      <th>date</th>\n",
              "      <th>price</th>\n",
              "      <th>text</th>\n",
              "    </tr>\n",
              "  </thead>\n",
              "  <tbody>\n",
              "    <tr>\n",
              "      <th>0</th>\n",
              "      <td>2020-05-01</td>\n",
              "      <td>2830.71</td>\n",
              "      <td>RT @StevenTDennis: Trump gets bump in latest G...</td>\n",
              "    </tr>\n",
              "    <tr>\n",
              "      <th>1</th>\n",
              "      <td>2020-05-01</td>\n",
              "      <td>2830.71</td>\n",
              "      <td>The Governor of Michigan should give a little,...</td>\n",
              "    </tr>\n",
              "    <tr>\n",
              "      <th>2</th>\n",
              "      <td>2020-05-01</td>\n",
              "      <td>2830.71</td>\n",
              "      <td>Cryin Chuck Schumer, compared to what other Se...</td>\n",
              "    </tr>\n",
              "    <tr>\n",
              "      <th>3</th>\n",
              "      <td>2020-05-01</td>\n",
              "      <td>2830.71</td>\n",
              "      <td>Cryin’ Chuck Schumer was on a late night show ...</td>\n",
              "    </tr>\n",
              "    <tr>\n",
              "      <th>4</th>\n",
              "      <td>2020-05-01</td>\n",
              "      <td>2830.71</td>\n",
              "      <td>RT @TeamTrump: President @realDonaldTrump: “We...</td>\n",
              "    </tr>\n",
              "  </tbody>\n",
              "</table>\n",
              "</div>"
            ],
            "text/plain": [
              "        date    price                                               text\n",
              "0 2020-05-01  2830.71  RT @StevenTDennis: Trump gets bump in latest G...\n",
              "1 2020-05-01  2830.71  The Governor of Michigan should give a little,...\n",
              "2 2020-05-01  2830.71  Cryin Chuck Schumer, compared to what other Se...\n",
              "3 2020-05-01  2830.71  Cryin’ Chuck Schumer was on a late night show ...\n",
              "4 2020-05-01  2830.71  RT @TeamTrump: President @realDonaldTrump: “We..."
            ]
          },
          "metadata": {
            "tags": []
          },
          "execution_count": 7
        }
      ]
    },
    {
      "cell_type": "code",
      "metadata": {
        "id": "RbtHgL9gfTEr",
        "colab_type": "code",
        "outputId": "f264ee24-9b5d-414e-e3d3-d5c76cb44406",
        "colab": {
          "base_uri": "https://localhost:8080/",
          "height": 34
        }
      },
      "source": [
        "# trumpが大統領になった2017年1月20日から、GW前2020年5月1日までのデータを分析する\n",
        "# https://qiita.com/mSpring/items/6ec1ab28dcb261db2c73\n",
        "\n",
        "import datetime as dt\n",
        "data2 = data[(data['date'] >= dt.datetime(2017,1,20)) & (data['date'] <= dt.datetime(2020,5,1))]\n",
        "print( \"2017/01/20 - 2020/05/01のツイート数は\", len(data2))"
      ],
      "execution_count": 8,
      "outputs": [
        {
          "output_type": "stream",
          "text": [
            "2017/01/20 - 2020/05/01のツイート数は 12259\n"
          ],
          "name": "stdout"
        }
      ]
    },
    {
      "cell_type": "code",
      "metadata": {
        "id": "5uWu1eYpfTEv",
        "colab_type": "code",
        "colab": {}
      },
      "source": [
        "#新しいデータを追加すると上書き保存されるようにmode=\"a\"にした。\n",
        "\n",
        "#初回だけ,headerはTrue\n",
        "data2.to_csv(\"s&p_tweets.csv\", index=False, mode='a', header=True)\n",
        "#2回目以降はFalse\n",
        "#data2.to_csv(\"s&p_tweets.csv\", index=False, mode='a', header=False)"
      ],
      "execution_count": 0,
      "outputs": []
    },
    {
      "cell_type": "code",
      "metadata": {
        "id": "nJcHtQApfTEy",
        "colab_type": "code",
        "outputId": "d512d464-0de0-4ec7-fb32-34abd97b1fe4",
        "colab": {
          "base_uri": "https://localhost:8080/",
          "height": 34
        }
      },
      "source": [
        "# Fileを読み込むことで最新のデータで分析できる\n",
        "\n",
        "data = pd.read_csv(\"s&p_tweets.csv\")\n",
        "print( len(data),\"tweets\")"
      ],
      "execution_count": 10,
      "outputs": [
        {
          "output_type": "stream",
          "text": [
            "12259 tweets\n"
          ],
          "name": "stdout"
        }
      ]
    },
    {
      "cell_type": "code",
      "metadata": {
        "id": "UK-gdwmxfTE1",
        "colab_type": "code",
        "outputId": "42a03ce7-f932-48a0-b7de-015a513cd5ab",
        "colab": {
          "base_uri": "https://localhost:8080/",
          "height": 88
        }
      },
      "source": [
        "#形態素解析\n",
        "#https://yottagin.com/?p=4360\n",
        "\n",
        "import nltk\n",
        "nltk.download('stopwords')\n",
        "\n",
        "tweet_tokenizer = nltk.tokenize.TweetTokenizer(preserve_case=False, strip_handles=True, reduce_len=True)\n",
        "for tweet in data[\"text\"][:1]:\n",
        "    print (tweet_tokenizer.tokenize(tweet))"
      ],
      "execution_count": 11,
      "outputs": [
        {
          "output_type": "stream",
          "text": [
            "[nltk_data] Downloading package stopwords to /root/nltk_data...\n",
            "[nltk_data]   Package stopwords is already up-to-date!\n",
            "['rt', ':', 'trump', 'gets', 'bump', 'in', 'latest', 'gallup', 'poll', ':', '49', '%', 'approval', '(', '+', '6', ',', 'tied', 'for', 'his', 'best', ')', '47', '%', 'disapproval', '(', '-', '7', ')']\n"
          ],
          "name": "stdout"
        }
      ]
    },
    {
      "cell_type": "code",
      "metadata": {
        "id": "DrfyzDEAfTE6",
        "colab_type": "code",
        "outputId": "59bc0700-beb9-4ca6-c0d7-edbba66da13e",
        "colab": {
          "base_uri": "https://localhost:8080/",
          "height": 323
        }
      },
      "source": [
        "words = []\n",
        "for tweet in data[\"text\"]:\n",
        "    words += tweet_tokenizer.tokenize(tweet)\n",
        "\n",
        "fdist = nltk.FreqDist(words)\n",
        "fdist.plot(50)"
      ],
      "execution_count": 12,
      "outputs": [
        {
          "output_type": "display_data",
          "data": {
            "image/png": "[encoded data removed]",
            "text/plain": [
              "<Figure size 432x288 with 1 Axes>"
            ]
          },
          "metadata": {
            "tags": [],
            "needs_background": "light"
          }
        }
      ]
    },
    {
      "cell_type": "code",
      "metadata": {
        "id": "5VLnPp6vfTE-",
        "colab_type": "code",
        "outputId": "7f24a3d9-166d-4776-96c7-84cc834c5e51",
        "colab": {
          "base_uri": "https://localhost:8080/",
          "height": 359
        }
      },
      "source": [
        "#高頻度のツイートを表示\n",
        "df_fdist = pd.DataFrame(fdist.most_common(10), columns=['Word', 'Frequency'])\n",
        "df_fdist"
      ],
      "execution_count": 13,
      "outputs": [
        {
          "output_type": "execute_result",
          "data": {
            "text/html": [
              "<div>\n",
              "<style scoped>\n",
              "    .dataframe tbody tr th:only-of-type {\n",
              "        vertical-align: middle;\n",
              "    }\n",
              "\n",
              "    .dataframe tbody tr th {\n",
              "        vertical-align: top;\n",
              "    }\n",
              "\n",
              "    .dataframe thead th {\n",
              "        text-align: right;\n",
              "    }\n",
              "</style>\n",
              "<table border=\"1\" class=\"dataframe\">\n",
              "  <thead>\n",
              "    <tr style=\"text-align: right;\">\n",
              "      <th></th>\n",
              "      <th>Word</th>\n",
              "      <th>Frequency</th>\n",
              "    </tr>\n",
              "  </thead>\n",
              "  <tbody>\n",
              "    <tr>\n",
              "      <th>0</th>\n",
              "      <td>the</td>\n",
              "      <td>15504</td>\n",
              "    </tr>\n",
              "    <tr>\n",
              "      <th>1</th>\n",
              "      <td>.</td>\n",
              "      <td>14634</td>\n",
              "    </tr>\n",
              "    <tr>\n",
              "      <th>2</th>\n",
              "      <td>,</td>\n",
              "      <td>14156</td>\n",
              "    </tr>\n",
              "    <tr>\n",
              "      <th>3</th>\n",
              "      <td>to</td>\n",
              "      <td>8172</td>\n",
              "    </tr>\n",
              "    <tr>\n",
              "      <th>4</th>\n",
              "      <td>!</td>\n",
              "      <td>7343</td>\n",
              "    </tr>\n",
              "    <tr>\n",
              "      <th>5</th>\n",
              "      <td>and</td>\n",
              "      <td>7289</td>\n",
              "    </tr>\n",
              "    <tr>\n",
              "      <th>6</th>\n",
              "      <td>of</td>\n",
              "      <td>6165</td>\n",
              "    </tr>\n",
              "    <tr>\n",
              "      <th>7</th>\n",
              "      <td>a</td>\n",
              "      <td>5419</td>\n",
              "    </tr>\n",
              "    <tr>\n",
              "      <th>8</th>\n",
              "      <td>:</td>\n",
              "      <td>4870</td>\n",
              "    </tr>\n",
              "    <tr>\n",
              "      <th>9</th>\n",
              "      <td>in</td>\n",
              "      <td>4507</td>\n",
              "    </tr>\n",
              "  </tbody>\n",
              "</table>\n",
              "</div>"
            ],
            "text/plain": [
              "  Word  Frequency\n",
              "0  the      15504\n",
              "1    .      14634\n",
              "2    ,      14156\n",
              "3   to       8172\n",
              "4    !       7343\n",
              "5  and       7289\n",
              "6   of       6165\n",
              "7    a       5419\n",
              "8    :       4870\n",
              "9   in       4507"
            ]
          },
          "metadata": {
            "tags": []
          },
          "execution_count": 13
        }
      ]
    },
    {
      "cell_type": "code",
      "metadata": {
        "id": "IvFoQ0TrfTFG",
        "colab_type": "code",
        "colab": {}
      },
      "source": [
        "#tokenにする\n",
        "import re\n",
        "import string\n",
        "\n",
        "stemmer = nltk.stem.PorterStemmer()\n",
        "punctuations = string.punctuation\n",
        "all_tweets_clean = []\n",
        "\n",
        "#Tweet毎にリスト形式で保存するための加工\n",
        "result=[]\n",
        "\n",
        "for tweet in data[\"text\"]:\n",
        "    # RTから始まる部分を取り除く。\n",
        "    tweet = re.sub(r'^RT[\\s]+', '', tweet)\n",
        "    # リンクを取り除く。\n",
        "    tweet = re.sub(r'(http|https):\\/\\/.*[\\r\\n]*', '', tweet)\n",
        "    # ハッシュタグを取り除く。\n",
        "    tweet = re.sub(r'#', '', tweet)\n",
        "    # 句読点の削除\n",
        "    tweet = tweet.translate(str.maketrans('', '', string.punctuation)) \n",
        "    # 単語に分解する。\n",
        "    tokenizer = nltk.tokenize.TweetTokenizer(preserve_case=False, strip_handles=True, reduce_len=True)\n",
        "    tweet_tokens = tokenizer.tokenize(tweet)\n",
        "    result.append(tweet_tokens)"
      ],
      "execution_count": 0,
      "outputs": []
    },
    {
      "cell_type": "code",
      "metadata": {
        "id": "jGskML9PfTFK",
        "colab_type": "code",
        "colab": {}
      },
      "source": [
        "stopwords = nltk.corpus.stopwords.words('english')\n",
        "stop_words = [\"→\", \"←\", \"?\", \"」\", \"「\",\"(\",\")\",\"!\",\".\",\",\",\"&\",\"…\",\"%\",\":\",\";\",\"“\"]\n",
        "stopwords += stop_words\n",
        "\n",
        "#print(stopwords)\n",
        "\n",
        "result_2=[]\n",
        "result_3=[]\n",
        "for i in range(len(result)):\n",
        "    for word in result[i]:\n",
        "        if word not in stopwords:\n",
        "            result_2.append(word)\n",
        "    result_3.append(result_2)\n",
        "    result_2=[]"
      ],
      "execution_count": 0,
      "outputs": []
    },
    {
      "cell_type": "code",
      "metadata": {
        "id": "wL2ASq-gfTFO",
        "colab_type": "code",
        "colab": {}
      },
      "source": [
        "#Word2Vec\n",
        "\n",
        "from gensim.models import word2vec"
      ],
      "execution_count": 0,
      "outputs": []
    },
    {
      "cell_type": "code",
      "metadata": {
        "id": "6Ov0af7rfTFQ",
        "colab_type": "code",
        "outputId": "e3395dae-5486-4a24-e73b-cb612f9b07c0",
        "colab": {
          "base_uri": "https://localhost:8080/",
          "height": 272
        }
      },
      "source": [
        "# 対象データをLinseSentence(one sentence = one lineとして扱う)で読み込む\n",
        "\n",
        "sentences = result_3\n",
        "sentences[0]"
      ],
      "execution_count": 17,
      "outputs": [
        {
          "output_type": "execute_result",
          "data": {
            "text/plain": [
              "['steventdennis',\n",
              " 'trump',\n",
              " 'gets',\n",
              " 'bump',\n",
              " 'latest',\n",
              " 'gallup',\n",
              " 'poll',\n",
              " '49',\n",
              " 'approval',\n",
              " '6',\n",
              " 'tied',\n",
              " 'best',\n",
              " '47',\n",
              " 'disapproval',\n",
              " '7']"
            ]
          },
          "metadata": {
            "tags": []
          },
          "execution_count": 17
        }
      ]
    },
    {
      "cell_type": "code",
      "metadata": {
        "id": "9u7fFXncfTFU",
        "colab_type": "code",
        "colab": {}
      },
      "source": [
        "# skip-gramモデルの学習\n",
        "skipgram_model = word2vec.Word2Vec(sentences,\n",
        "                                   sg=1,\n",
        "                                   size=300,\n",
        "                                   min_count=10,\n",
        "                                   window=15, seed=1234)"
      ],
      "execution_count": 0,
      "outputs": []
    },
    {
      "cell_type": "code",
      "metadata": {
        "id": "akHH47YRfTFZ",
        "colab_type": "code",
        "outputId": "cab9cf14-06b3-4870-cb0a-eb59039ddf31",
        "colab": {
          "base_uri": "https://localhost:8080/",
          "height": 71
        }
      },
      "source": [
        "# 作成したモデルの保存\n",
        "skipgram_model.save(\"skipgram_w2v.model\")\n",
        "# saveしたモデルを読み込む時は\n",
        "#skipgram_model = word2vec.Word2Vec.load(\"skipgram_w2v.model\")"
      ],
      "execution_count": 19,
      "outputs": [
        {
          "output_type": "stream",
          "text": [
            "/usr/local/lib/python3.6/dist-packages/smart_open/smart_open_lib.py:253: UserWarning: This function is deprecated, use smart_open.open instead. See the migration notes for details: https://github.com/RaRe-Technologies/smart_open/blob/master/README.rst#migrating-to-the-new-open-function\n",
            "  'See the migration notes for details: %s' % _MIGRATION_NOTES_URL\n"
          ],
          "name": "stderr"
        }
      ]
    },
    {
      "cell_type": "code",
      "metadata": {
        "id": "ZAO8SIE_fTFc",
        "colab_type": "code",
        "outputId": "b84f94b4-eb18-48e5-95c8-753a6414075f",
        "colab": {
          "base_uri": "https://localhost:8080/",
          "height": 413
        }
      },
      "source": [
        "# coronavirusと似たキーワードを見つけていきます。\n",
        "# ここで記載しているscoreは、単語同士のコサイン類似度です。\n",
        "pd.DataFrame(skipgram_model.wv.most_similar(\n",
        "    positive=[\"coronavirus\"]), columns=[\"keyword\", \"score\"])"
      ],
      "execution_count": 20,
      "outputs": [
        {
          "output_type": "stream",
          "text": [
            "/usr/local/lib/python3.6/dist-packages/gensim/matutils.py:737: FutureWarning: Conversion of the second argument of issubdtype from `int` to `np.signedinteger` is deprecated. In future, it will be treated as `np.int64 == np.dtype(int).type`.\n",
            "  if np.issubdtype(vec.dtype, np.int):\n"
          ],
          "name": "stderr"
        },
        {
          "output_type": "execute_result",
          "data": {
            "text/html": [
              "<div>\n",
              "<style scoped>\n",
              "    .dataframe tbody tr th:only-of-type {\n",
              "        vertical-align: middle;\n",
              "    }\n",
              "\n",
              "    .dataframe tbody tr th {\n",
              "        vertical-align: top;\n",
              "    }\n",
              "\n",
              "    .dataframe thead th {\n",
              "        text-align: right;\n",
              "    }\n",
              "</style>\n",
              "<table border=\"1\" class=\"dataframe\">\n",
              "  <thead>\n",
              "    <tr style=\"text-align: right;\">\n",
              "      <th></th>\n",
              "      <th>keyword</th>\n",
              "      <th>score</th>\n",
              "    </tr>\n",
              "  </thead>\n",
              "  <tbody>\n",
              "    <tr>\n",
              "      <th>0</th>\n",
              "      <td>covid</td>\n",
              "      <td>0.838701</td>\n",
              "    </tr>\n",
              "    <tr>\n",
              "      <th>1</th>\n",
              "      <td>response</td>\n",
              "      <td>0.836250</td>\n",
              "    </tr>\n",
              "    <tr>\n",
              "      <th>2</th>\n",
              "      <td>task</td>\n",
              "      <td>0.823789</td>\n",
              "    </tr>\n",
              "    <tr>\n",
              "      <th>3</th>\n",
              "      <td>spread</td>\n",
              "      <td>0.818272</td>\n",
              "    </tr>\n",
              "    <tr>\n",
              "      <th>4</th>\n",
              "      <td>outbreak</td>\n",
              "      <td>0.802567</td>\n",
              "    </tr>\n",
              "    <tr>\n",
              "      <th>5</th>\n",
              "      <td>19</td>\n",
              "      <td>0.793259</td>\n",
              "    </tr>\n",
              "    <tr>\n",
              "      <th>6</th>\n",
              "      <td>briefing</td>\n",
              "      <td>0.768820</td>\n",
              "    </tr>\n",
              "    <tr>\n",
              "      <th>7</th>\n",
              "      <td>executive</td>\n",
              "      <td>0.767917</td>\n",
              "    </tr>\n",
              "    <tr>\n",
              "      <th>8</th>\n",
              "      <td>providing</td>\n",
              "      <td>0.765017</td>\n",
              "    </tr>\n",
              "    <tr>\n",
              "      <th>9</th>\n",
              "      <td>force</td>\n",
              "      <td>0.762355</td>\n",
              "    </tr>\n",
              "  </tbody>\n",
              "</table>\n",
              "</div>"
            ],
            "text/plain": [
              "     keyword     score\n",
              "0      covid  0.838701\n",
              "1   response  0.836250\n",
              "2       task  0.823789\n",
              "3     spread  0.818272\n",
              "4   outbreak  0.802567\n",
              "5         19  0.793259\n",
              "6   briefing  0.768820\n",
              "7  executive  0.767917\n",
              "8  providing  0.765017\n",
              "9      force  0.762355"
            ]
          },
          "metadata": {
            "tags": []
          },
          "execution_count": 20
        }
      ]
    },
    {
      "cell_type": "code",
      "metadata": {
        "id": "KfKYBXI_fTFf",
        "colab_type": "code",
        "colab": {}
      },
      "source": [
        "\"\"\"\n",
        "1. 抽出された各単語を、作成したword2Vecによってベクトル化\n",
        "2. 変換された各単語ベクトルの平均をとり、その結果得られたベクトルを記事のベクトルとする\n",
        "上記2ステップを実行する関数を作成\n",
        "\"\"\"\n",
        "\n",
        "num_features = 300\n",
        "\n",
        "\n",
        "def avg_document_vector(data, num_features):\n",
        "    document_vec = np.zeros((len(data), num_features))\n",
        "    for i, doc_word_list in enumerate(data):\n",
        "        feature_vec = np.zeros((num_features,), dtype=\"float32\")\n",
        "        for word in doc_word_list:\n",
        "            try:\n",
        "                feature_vec = np.add(\n",
        "                    feature_vec, skipgram_model.wv.__getitem__(word))\n",
        "            except:\n",
        "                pass\n",
        "\n",
        "        feature_vec = np.divide(feature_vec, len(doc_word_list))\n",
        "        document_vec[i] = feature_vec\n",
        "    return document_vec"
      ],
      "execution_count": 0,
      "outputs": []
    },
    {
      "cell_type": "code",
      "metadata": {
        "id": "gcoxgMvkfTFh",
        "colab_type": "code",
        "outputId": "62db83ad-975d-4808-f30b-b2b105435d7d",
        "colab": {
          "base_uri": "https://localhost:8080/",
          "height": 51
        }
      },
      "source": [
        "X = avg_document_vector(data=sentences, num_features=300)\n",
        "X.shape"
      ],
      "execution_count": 22,
      "outputs": [
        {
          "output_type": "stream",
          "text": [
            "/usr/local/lib/python3.6/dist-packages/ipykernel_launcher.py:21: RuntimeWarning: invalid value encountered in true_divide\n"
          ],
          "name": "stderr"
        },
        {
          "output_type": "execute_result",
          "data": {
            "text/plain": [
              "(12259, 300)"
            ]
          },
          "metadata": {
            "tags": []
          },
          "execution_count": 22
        }
      ]
    },
    {
      "cell_type": "code",
      "metadata": {
        "id": "PvVmeNp5fTFj",
        "colab_type": "code",
        "outputId": "6a83b5a0-e2c1-47c0-a457-f09bef6dc61a",
        "colab": {
          "base_uri": "https://localhost:8080/",
          "height": 474
        }
      },
      "source": [
        "# outer join\n",
        "data2 = pd.DataFrame(X)\n",
        "df_tweets_word2vec =  pd.concat([data, data2], axis=1)\n",
        "df_tweets_word2vec.head()"
      ],
      "execution_count": 23,
      "outputs": [
        {
          "output_type": "execute_result",
          "data": {
            "text/html": [
              "<div>\n",
              "<style scoped>\n",
              "    .dataframe tbody tr th:only-of-type {\n",
              "        vertical-align: middle;\n",
              "    }\n",
              "\n",
              "    .dataframe tbody tr th {\n",
              "        vertical-align: top;\n",
              "    }\n",
              "\n",
              "    .dataframe thead th {\n",
              "        text-align: right;\n",
              "    }\n",
              "</style>\n",
              "<table border=\"1\" class=\"dataframe\">\n",
              "  <thead>\n",
              "    <tr style=\"text-align: right;\">\n",
              "      <th></th>\n",
              "      <th>date</th>\n",
              "      <th>price</th>\n",
              "      <th>text</th>\n",
              "      <th>0</th>\n",
              "      <th>1</th>\n",
              "      <th>2</th>\n",
              "      <th>3</th>\n",
              "      <th>4</th>\n",
              "      <th>5</th>\n",
              "      <th>6</th>\n",
              "      <th>7</th>\n",
              "      <th>8</th>\n",
              "      <th>9</th>\n",
              "      <th>10</th>\n",
              "      <th>11</th>\n",
              "      <th>12</th>\n",
              "      <th>13</th>\n",
              "      <th>14</th>\n",
              "      <th>15</th>\n",
              "      <th>16</th>\n",
              "      <th>17</th>\n",
              "      <th>18</th>\n",
              "      <th>19</th>\n",
              "      <th>20</th>\n",
              "      <th>21</th>\n",
              "      <th>22</th>\n",
              "      <th>23</th>\n",
              "      <th>24</th>\n",
              "      <th>25</th>\n",
              "      <th>26</th>\n",
              "      <th>27</th>\n",
              "      <th>28</th>\n",
              "      <th>29</th>\n",
              "      <th>30</th>\n",
              "      <th>31</th>\n",
              "      <th>32</th>\n",
              "      <th>33</th>\n",
              "      <th>34</th>\n",
              "      <th>35</th>\n",
              "      <th>36</th>\n",
              "      <th>...</th>\n",
              "      <th>260</th>\n",
              "      <th>261</th>\n",
              "      <th>262</th>\n",
              "      <th>263</th>\n",
              "      <th>264</th>\n",
              "      <th>265</th>\n",
              "      <th>266</th>\n",
              "      <th>267</th>\n",
              "      <th>268</th>\n",
              "      <th>269</th>\n",
              "      <th>270</th>\n",
              "      <th>271</th>\n",
              "      <th>272</th>\n",
              "      <th>273</th>\n",
              "      <th>274</th>\n",
              "      <th>275</th>\n",
              "      <th>276</th>\n",
              "      <th>277</th>\n",
              "      <th>278</th>\n",
              "      <th>279</th>\n",
              "      <th>280</th>\n",
              "      <th>281</th>\n",
              "      <th>282</th>\n",
              "      <th>283</th>\n",
              "      <th>284</th>\n",
              "      <th>285</th>\n",
              "      <th>286</th>\n",
              "      <th>287</th>\n",
              "      <th>288</th>\n",
              "      <th>289</th>\n",
              "      <th>290</th>\n",
              "      <th>291</th>\n",
              "      <th>292</th>\n",
              "      <th>293</th>\n",
              "      <th>294</th>\n",
              "      <th>295</th>\n",
              "      <th>296</th>\n",
              "      <th>297</th>\n",
              "      <th>298</th>\n",
              "      <th>299</th>\n",
              "    </tr>\n",
              "  </thead>\n",
              "  <tbody>\n",
              "    <tr>\n",
              "      <th>0</th>\n",
              "      <td>2020-05-01</td>\n",
              "      <td>2830.71</td>\n",
              "      <td>RT @StevenTDennis: Trump gets bump in latest G...</td>\n",
              "      <td>-0.001855</td>\n",
              "      <td>-0.012664</td>\n",
              "      <td>0.006259</td>\n",
              "      <td>-0.037889</td>\n",
              "      <td>0.015356</td>\n",
              "      <td>0.011330</td>\n",
              "      <td>0.054757</td>\n",
              "      <td>0.136159</td>\n",
              "      <td>0.021117</td>\n",
              "      <td>-0.028413</td>\n",
              "      <td>-0.062699</td>\n",
              "      <td>0.110947</td>\n",
              "      <td>-0.061708</td>\n",
              "      <td>-0.032517</td>\n",
              "      <td>-0.072860</td>\n",
              "      <td>-0.073859</td>\n",
              "      <td>-0.023836</td>\n",
              "      <td>0.109070</td>\n",
              "      <td>0.079070</td>\n",
              "      <td>-0.021593</td>\n",
              "      <td>-0.060306</td>\n",
              "      <td>-0.019323</td>\n",
              "      <td>0.035336</td>\n",
              "      <td>0.004693</td>\n",
              "      <td>0.072716</td>\n",
              "      <td>0.049219</td>\n",
              "      <td>-0.006881</td>\n",
              "      <td>-0.078244</td>\n",
              "      <td>-0.071053</td>\n",
              "      <td>-0.021288</td>\n",
              "      <td>0.016575</td>\n",
              "      <td>0.008747</td>\n",
              "      <td>-0.068069</td>\n",
              "      <td>-0.005744</td>\n",
              "      <td>0.068391</td>\n",
              "      <td>-0.021733</td>\n",
              "      <td>-0.017072</td>\n",
              "      <td>...</td>\n",
              "      <td>-0.035680</td>\n",
              "      <td>0.015852</td>\n",
              "      <td>-0.024409</td>\n",
              "      <td>0.081092</td>\n",
              "      <td>0.019203</td>\n",
              "      <td>-0.018462</td>\n",
              "      <td>-0.034454</td>\n",
              "      <td>-0.022070</td>\n",
              "      <td>-0.092207</td>\n",
              "      <td>-0.002817</td>\n",
              "      <td>0.024777</td>\n",
              "      <td>0.027125</td>\n",
              "      <td>-0.030542</td>\n",
              "      <td>-0.096125</td>\n",
              "      <td>0.093001</td>\n",
              "      <td>0.024433</td>\n",
              "      <td>0.049615</td>\n",
              "      <td>0.009546</td>\n",
              "      <td>-0.020779</td>\n",
              "      <td>-0.010671</td>\n",
              "      <td>-0.018739</td>\n",
              "      <td>-0.031594</td>\n",
              "      <td>0.055235</td>\n",
              "      <td>0.047631</td>\n",
              "      <td>-0.049034</td>\n",
              "      <td>-0.017799</td>\n",
              "      <td>0.026682</td>\n",
              "      <td>0.022988</td>\n",
              "      <td>0.004036</td>\n",
              "      <td>-0.042397</td>\n",
              "      <td>0.005096</td>\n",
              "      <td>0.038117</td>\n",
              "      <td>-0.000408</td>\n",
              "      <td>-0.016730</td>\n",
              "      <td>0.004429</td>\n",
              "      <td>-0.000401</td>\n",
              "      <td>0.132213</td>\n",
              "      <td>-0.002682</td>\n",
              "      <td>0.080970</td>\n",
              "      <td>-0.010272</td>\n",
              "    </tr>\n",
              "    <tr>\n",
              "      <th>1</th>\n",
              "      <td>2020-05-01</td>\n",
              "      <td>2830.71</td>\n",
              "      <td>The Governor of Michigan should give a little,...</td>\n",
              "      <td>0.042632</td>\n",
              "      <td>-0.011647</td>\n",
              "      <td>0.035950</td>\n",
              "      <td>-0.012630</td>\n",
              "      <td>0.052427</td>\n",
              "      <td>0.097174</td>\n",
              "      <td>0.079703</td>\n",
              "      <td>0.101501</td>\n",
              "      <td>0.052831</td>\n",
              "      <td>0.005622</td>\n",
              "      <td>-0.043406</td>\n",
              "      <td>0.104008</td>\n",
              "      <td>-0.064728</td>\n",
              "      <td>-0.054121</td>\n",
              "      <td>-0.081160</td>\n",
              "      <td>-0.013056</td>\n",
              "      <td>-0.060260</td>\n",
              "      <td>0.096077</td>\n",
              "      <td>0.073962</td>\n",
              "      <td>-0.053392</td>\n",
              "      <td>-0.076299</td>\n",
              "      <td>-0.012012</td>\n",
              "      <td>0.051783</td>\n",
              "      <td>-0.069421</td>\n",
              "      <td>0.126999</td>\n",
              "      <td>0.039446</td>\n",
              "      <td>0.036591</td>\n",
              "      <td>-0.076302</td>\n",
              "      <td>-0.030991</td>\n",
              "      <td>-0.093983</td>\n",
              "      <td>-0.050499</td>\n",
              "      <td>-0.025902</td>\n",
              "      <td>-0.063294</td>\n",
              "      <td>-0.003646</td>\n",
              "      <td>0.017050</td>\n",
              "      <td>-0.073679</td>\n",
              "      <td>0.013177</td>\n",
              "      <td>...</td>\n",
              "      <td>0.053671</td>\n",
              "      <td>0.037690</td>\n",
              "      <td>-0.092510</td>\n",
              "      <td>0.148671</td>\n",
              "      <td>0.028207</td>\n",
              "      <td>0.085117</td>\n",
              "      <td>-0.057449</td>\n",
              "      <td>0.038470</td>\n",
              "      <td>-0.163596</td>\n",
              "      <td>0.011097</td>\n",
              "      <td>0.033333</td>\n",
              "      <td>-0.046056</td>\n",
              "      <td>0.031114</td>\n",
              "      <td>-0.114743</td>\n",
              "      <td>0.104083</td>\n",
              "      <td>0.032642</td>\n",
              "      <td>0.046742</td>\n",
              "      <td>-0.056765</td>\n",
              "      <td>-0.053072</td>\n",
              "      <td>-0.034869</td>\n",
              "      <td>0.096174</td>\n",
              "      <td>-0.090722</td>\n",
              "      <td>-0.025627</td>\n",
              "      <td>0.164103</td>\n",
              "      <td>-0.063270</td>\n",
              "      <td>0.031896</td>\n",
              "      <td>0.068325</td>\n",
              "      <td>0.002283</td>\n",
              "      <td>0.024580</td>\n",
              "      <td>-0.051535</td>\n",
              "      <td>-0.049991</td>\n",
              "      <td>0.003620</td>\n",
              "      <td>0.051684</td>\n",
              "      <td>-0.127743</td>\n",
              "      <td>0.023166</td>\n",
              "      <td>0.039447</td>\n",
              "      <td>0.137874</td>\n",
              "      <td>-0.074612</td>\n",
              "      <td>0.207607</td>\n",
              "      <td>-0.005585</td>\n",
              "    </tr>\n",
              "    <tr>\n",
              "      <th>2</th>\n",
              "      <td>2020-05-01</td>\n",
              "      <td>2830.71</td>\n",
              "      <td>Cryin Chuck Schumer, compared to what other Se...</td>\n",
              "      <td>0.012644</td>\n",
              "      <td>0.018666</td>\n",
              "      <td>0.083664</td>\n",
              "      <td>0.030715</td>\n",
              "      <td>0.038990</td>\n",
              "      <td>0.125626</td>\n",
              "      <td>0.108409</td>\n",
              "      <td>0.112505</td>\n",
              "      <td>0.033215</td>\n",
              "      <td>-0.032161</td>\n",
              "      <td>-0.041521</td>\n",
              "      <td>0.117187</td>\n",
              "      <td>-0.067462</td>\n",
              "      <td>-0.070713</td>\n",
              "      <td>-0.116776</td>\n",
              "      <td>-0.017248</td>\n",
              "      <td>-0.052156</td>\n",
              "      <td>0.107201</td>\n",
              "      <td>0.044683</td>\n",
              "      <td>-0.070712</td>\n",
              "      <td>-0.086832</td>\n",
              "      <td>-0.004347</td>\n",
              "      <td>0.060374</td>\n",
              "      <td>-0.034535</td>\n",
              "      <td>0.140229</td>\n",
              "      <td>0.061129</td>\n",
              "      <td>0.029107</td>\n",
              "      <td>-0.109473</td>\n",
              "      <td>-0.038540</td>\n",
              "      <td>-0.071149</td>\n",
              "      <td>-0.071792</td>\n",
              "      <td>0.022618</td>\n",
              "      <td>-0.074153</td>\n",
              "      <td>0.000364</td>\n",
              "      <td>0.005431</td>\n",
              "      <td>-0.020995</td>\n",
              "      <td>0.045981</td>\n",
              "      <td>...</td>\n",
              "      <td>0.097812</td>\n",
              "      <td>0.054049</td>\n",
              "      <td>-0.082330</td>\n",
              "      <td>0.132435</td>\n",
              "      <td>-0.002753</td>\n",
              "      <td>0.025444</td>\n",
              "      <td>-0.006693</td>\n",
              "      <td>0.057145</td>\n",
              "      <td>-0.148167</td>\n",
              "      <td>0.058605</td>\n",
              "      <td>0.048495</td>\n",
              "      <td>-0.019721</td>\n",
              "      <td>0.008883</td>\n",
              "      <td>-0.112951</td>\n",
              "      <td>0.082995</td>\n",
              "      <td>0.022820</td>\n",
              "      <td>0.034654</td>\n",
              "      <td>-0.052915</td>\n",
              "      <td>-0.025171</td>\n",
              "      <td>-0.020780</td>\n",
              "      <td>0.099264</td>\n",
              "      <td>-0.084154</td>\n",
              "      <td>-0.007884</td>\n",
              "      <td>0.157299</td>\n",
              "      <td>-0.064039</td>\n",
              "      <td>0.009577</td>\n",
              "      <td>0.121489</td>\n",
              "      <td>-0.016628</td>\n",
              "      <td>-0.019995</td>\n",
              "      <td>-0.033260</td>\n",
              "      <td>-0.055468</td>\n",
              "      <td>0.052506</td>\n",
              "      <td>0.017726</td>\n",
              "      <td>-0.113767</td>\n",
              "      <td>0.047332</td>\n",
              "      <td>0.029480</td>\n",
              "      <td>0.165202</td>\n",
              "      <td>-0.037377</td>\n",
              "      <td>0.231233</td>\n",
              "      <td>-0.029022</td>\n",
              "    </tr>\n",
              "    <tr>\n",
              "      <th>3</th>\n",
              "      <td>2020-05-01</td>\n",
              "      <td>2830.71</td>\n",
              "      <td>Cryin’ Chuck Schumer was on a late night show ...</td>\n",
              "      <td>0.032215</td>\n",
              "      <td>-0.008024</td>\n",
              "      <td>0.071354</td>\n",
              "      <td>-0.005140</td>\n",
              "      <td>0.057845</td>\n",
              "      <td>0.082640</td>\n",
              "      <td>0.107394</td>\n",
              "      <td>0.126921</td>\n",
              "      <td>0.018414</td>\n",
              "      <td>-0.006666</td>\n",
              "      <td>-0.065830</td>\n",
              "      <td>0.132300</td>\n",
              "      <td>-0.067853</td>\n",
              "      <td>-0.059532</td>\n",
              "      <td>-0.095593</td>\n",
              "      <td>-0.014284</td>\n",
              "      <td>-0.082710</td>\n",
              "      <td>0.119907</td>\n",
              "      <td>0.068277</td>\n",
              "      <td>-0.063850</td>\n",
              "      <td>-0.072399</td>\n",
              "      <td>-0.022992</td>\n",
              "      <td>0.058125</td>\n",
              "      <td>-0.026683</td>\n",
              "      <td>0.143568</td>\n",
              "      <td>0.075517</td>\n",
              "      <td>0.031317</td>\n",
              "      <td>-0.134845</td>\n",
              "      <td>-0.043997</td>\n",
              "      <td>-0.064946</td>\n",
              "      <td>-0.103409</td>\n",
              "      <td>0.021169</td>\n",
              "      <td>-0.042195</td>\n",
              "      <td>-0.029687</td>\n",
              "      <td>0.043954</td>\n",
              "      <td>-0.010926</td>\n",
              "      <td>0.062476</td>\n",
              "      <td>...</td>\n",
              "      <td>0.068278</td>\n",
              "      <td>0.060685</td>\n",
              "      <td>-0.095817</td>\n",
              "      <td>0.150232</td>\n",
              "      <td>-0.022652</td>\n",
              "      <td>0.032466</td>\n",
              "      <td>-0.035215</td>\n",
              "      <td>0.025638</td>\n",
              "      <td>-0.134358</td>\n",
              "      <td>0.060817</td>\n",
              "      <td>0.060437</td>\n",
              "      <td>-0.012456</td>\n",
              "      <td>0.003486</td>\n",
              "      <td>-0.128910</td>\n",
              "      <td>0.093093</td>\n",
              "      <td>0.021425</td>\n",
              "      <td>0.039507</td>\n",
              "      <td>-0.057721</td>\n",
              "      <td>-0.070023</td>\n",
              "      <td>-0.009381</td>\n",
              "      <td>0.094912</td>\n",
              "      <td>-0.081205</td>\n",
              "      <td>-0.009930</td>\n",
              "      <td>0.170080</td>\n",
              "      <td>-0.071772</td>\n",
              "      <td>0.017838</td>\n",
              "      <td>0.089020</td>\n",
              "      <td>-0.023514</td>\n",
              "      <td>-0.022670</td>\n",
              "      <td>-0.060157</td>\n",
              "      <td>-0.071862</td>\n",
              "      <td>0.080888</td>\n",
              "      <td>0.042504</td>\n",
              "      <td>-0.116483</td>\n",
              "      <td>0.029041</td>\n",
              "      <td>0.034549</td>\n",
              "      <td>0.181120</td>\n",
              "      <td>-0.016154</td>\n",
              "      <td>0.208019</td>\n",
              "      <td>-0.031305</td>\n",
              "    </tr>\n",
              "    <tr>\n",
              "      <th>4</th>\n",
              "      <td>2020-05-01</td>\n",
              "      <td>2830.71</td>\n",
              "      <td>RT @TeamTrump: President @realDonaldTrump: “We...</td>\n",
              "      <td>0.020510</td>\n",
              "      <td>-0.052788</td>\n",
              "      <td>-0.034441</td>\n",
              "      <td>-0.044598</td>\n",
              "      <td>0.033568</td>\n",
              "      <td>-0.003054</td>\n",
              "      <td>0.036785</td>\n",
              "      <td>0.203072</td>\n",
              "      <td>0.102415</td>\n",
              "      <td>-0.026785</td>\n",
              "      <td>-0.100056</td>\n",
              "      <td>0.171844</td>\n",
              "      <td>-0.048667</td>\n",
              "      <td>-0.062643</td>\n",
              "      <td>-0.106255</td>\n",
              "      <td>-0.038045</td>\n",
              "      <td>-0.006074</td>\n",
              "      <td>0.058659</td>\n",
              "      <td>0.154803</td>\n",
              "      <td>0.001957</td>\n",
              "      <td>-0.000572</td>\n",
              "      <td>-0.008334</td>\n",
              "      <td>0.044005</td>\n",
              "      <td>-0.080185</td>\n",
              "      <td>0.119779</td>\n",
              "      <td>0.015701</td>\n",
              "      <td>0.042214</td>\n",
              "      <td>-0.141249</td>\n",
              "      <td>-0.060872</td>\n",
              "      <td>-0.099997</td>\n",
              "      <td>0.037209</td>\n",
              "      <td>-0.027940</td>\n",
              "      <td>-0.114052</td>\n",
              "      <td>0.004825</td>\n",
              "      <td>0.078254</td>\n",
              "      <td>-0.038823</td>\n",
              "      <td>-0.005363</td>\n",
              "      <td>...</td>\n",
              "      <td>0.034700</td>\n",
              "      <td>-0.037024</td>\n",
              "      <td>-0.033683</td>\n",
              "      <td>0.136114</td>\n",
              "      <td>0.001662</td>\n",
              "      <td>0.034007</td>\n",
              "      <td>-0.100805</td>\n",
              "      <td>-0.062734</td>\n",
              "      <td>-0.129082</td>\n",
              "      <td>-0.057206</td>\n",
              "      <td>0.048345</td>\n",
              "      <td>-0.004438</td>\n",
              "      <td>0.008297</td>\n",
              "      <td>-0.106109</td>\n",
              "      <td>0.150814</td>\n",
              "      <td>0.051925</td>\n",
              "      <td>0.093115</td>\n",
              "      <td>-0.011422</td>\n",
              "      <td>-0.055214</td>\n",
              "      <td>0.031723</td>\n",
              "      <td>-0.001402</td>\n",
              "      <td>-0.065019</td>\n",
              "      <td>0.032262</td>\n",
              "      <td>0.121720</td>\n",
              "      <td>-0.022141</td>\n",
              "      <td>-0.015119</td>\n",
              "      <td>0.062773</td>\n",
              "      <td>0.050032</td>\n",
              "      <td>0.026127</td>\n",
              "      <td>-0.056163</td>\n",
              "      <td>-0.015229</td>\n",
              "      <td>0.017805</td>\n",
              "      <td>-0.016661</td>\n",
              "      <td>-0.082287</td>\n",
              "      <td>0.014445</td>\n",
              "      <td>0.045103</td>\n",
              "      <td>0.097865</td>\n",
              "      <td>-0.058296</td>\n",
              "      <td>0.106851</td>\n",
              "      <td>-0.026499</td>\n",
              "    </tr>\n",
              "  </tbody>\n",
              "</table>\n",
              "<p>5 rows × 303 columns</p>\n",
              "</div>"
            ],
            "text/plain": [
              "         date    price  ...       298       299\n",
              "0  2020-05-01  2830.71  ...  0.080970 -0.010272\n",
              "1  2020-05-01  2830.71  ...  0.207607 -0.005585\n",
              "2  2020-05-01  2830.71  ...  0.231233 -0.029022\n",
              "3  2020-05-01  2830.71  ...  0.208019 -0.031305\n",
              "4  2020-05-01  2830.71  ...  0.106851 -0.026499\n",
              "\n",
              "[5 rows x 303 columns]"
            ]
          },
          "metadata": {
            "tags": []
          },
          "execution_count": 23
        }
      ]
    },
    {
      "cell_type": "code",
      "metadata": {
        "id": "wzaVvcZ3fTFn",
        "colab_type": "code",
        "colab": {}
      },
      "source": [
        "df_tweets_word2vec.to_csv(\"price_tweets_vector.csv\", index=False)"
      ],
      "execution_count": 0,
      "outputs": []
    },
    {
      "cell_type": "code",
      "metadata": {
        "id": "CY3UVb1TfTFp",
        "colab_type": "code",
        "outputId": "f8200308-7fda-4b9d-9190-e36ac549416d",
        "colab": {
          "base_uri": "https://localhost:8080/",
          "height": 532
        }
      },
      "source": [
        "#ツイートのベクトルを1日毎に平均にする（1日10ツイートだった場合ベクトルと足し合わせ10で割る）\n",
        "# groupby #https://qiita.com/propella/items/a9a32b878c77222630ae\n",
        "df = df_tweets_word2vec.groupby([\"date\"]).mean()\n",
        "\n",
        "\n",
        "# targetのcolである変化率（\"price\"の差分対数行列）をdateをKeyに内部結合する\n",
        "df_sp = pd.read_csv(\"/content/sp500-10-year-daily-chart.csv\")\n",
        "\n",
        "# 時系列データの差分を求める\n",
        "\n",
        "# \" value\"の行を対数化\n",
        "# https://www.sejuku.net/blog/70027\n",
        "df_sp[\"log\"] = np.log(df_sp[\" value\"])\n",
        "\n",
        "# \"log\"の1日前との差を取って、差分対数の列を作成\n",
        "# https://note.nkmk.me/python-pandas-diff-pct-change/\n",
        "df_sp[\"dif_log\"] = df_sp[\"log\"].diff()\n",
        "\n",
        "#内部結合\n",
        "df2=pd.merge(df_sp, df, how=\"inner\" ,on=\"date\")\n",
        "df2 = df2.drop(\" value\", axis=1)\n",
        "\n",
        "# groupbyを使って1日のツイート数も特徴量に加える\n",
        "# https://deepage.net/features/pandas-count.html\n",
        "df3 = df_tweets_word2vec[[\"date\",\"text\"]]\n",
        "df3 = df3.groupby([\"date\"]).count()\n",
        "\n",
        "#内部結合\n",
        "df4 = pd.merge( df3, df2, how=\"inner\" ,on=\"date\")\n",
        "\n",
        "#曜日を取得\n",
        "df4['day_of_week'] = pd.to_datetime(df4['date']).dt.day_name()\n",
        "\n",
        "#日付データの形を変える\n",
        "df4[\"date\"] = pd.to_datetime(df4['date']).astype('int64')\n",
        "\n",
        "#変化率のグラフ\n",
        "df4.plot( y=[\"dif_log\"], figsize=(16,4), alpha=0.5)\n",
        "\n",
        "#ツイート数と変化率の関係\n",
        "df4.plot.scatter(x=[\"text\"], y=[\"dif_log\"])"
      ],
      "execution_count": 25,
      "outputs": [
        {
          "output_type": "execute_result",
          "data": {
            "text/plain": [
              "<matplotlib.axes._subplots.AxesSubplot at 0x7f27a90e0470>"
            ]
          },
          "metadata": {
            "tags": []
          },
          "execution_count": 25
        },
        {
          "output_type": "display_data",
          "data": {
            "image/png": "[encoded data removed]",
            "text/plain": [
              "<Figure size 1152x288 with 1 Axes>"
            ]
          },
          "metadata": {
            "tags": [],
            "needs_background": "light"
          }
        },
        {
          "output_type": "display_data",
          "data": {
            "image/png": "[encoded data removed]",
            "text/plain": [
              "<Figure size 432x288 with 1 Axes>"
            ]
          },
          "metadata": {
            "tags": [],
            "needs_background": "light"
          }
        }
      ]
    },
    {
      "cell_type": "code",
      "metadata": {
        "id": "yEzPjOUKhrir",
        "colab_type": "code",
        "colab": {}
      },
      "source": [
        "dummy_df = pd.get_dummies(df4[['day_of_week']], drop_first = False) \n",
        "df4 = pd.merge(df4, dummy_df, left_index=True, right_index=True)"
      ],
      "execution_count": 0,
      "outputs": []
    },
    {
      "cell_type": "code",
      "metadata": {
        "id": "LoiDgt9WfTFt",
        "colab_type": "code",
        "outputId": "d4fde99a-689e-4ab3-bd90-9d76a687c909",
        "colab": {
          "base_uri": "https://localhost:8080/",
          "height": 253
        }
      },
      "source": [
        "df4.head()"
      ],
      "execution_count": 27,
      "outputs": [
        {
          "output_type": "execute_result",
          "data": {
            "text/html": [
              "<div>\n",
              "<style scoped>\n",
              "    .dataframe tbody tr th:only-of-type {\n",
              "        vertical-align: middle;\n",
              "    }\n",
              "\n",
              "    .dataframe tbody tr th {\n",
              "        vertical-align: top;\n",
              "    }\n",
              "\n",
              "    .dataframe thead th {\n",
              "        text-align: right;\n",
              "    }\n",
              "</style>\n",
              "<table border=\"1\" class=\"dataframe\">\n",
              "  <thead>\n",
              "    <tr style=\"text-align: right;\">\n",
              "      <th></th>\n",
              "      <th>date</th>\n",
              "      <th>text</th>\n",
              "      <th>log</th>\n",
              "      <th>dif_log</th>\n",
              "      <th>price</th>\n",
              "      <th>0</th>\n",
              "      <th>1</th>\n",
              "      <th>2</th>\n",
              "      <th>3</th>\n",
              "      <th>4</th>\n",
              "      <th>5</th>\n",
              "      <th>6</th>\n",
              "      <th>7</th>\n",
              "      <th>8</th>\n",
              "      <th>9</th>\n",
              "      <th>10</th>\n",
              "      <th>11</th>\n",
              "      <th>12</th>\n",
              "      <th>13</th>\n",
              "      <th>14</th>\n",
              "      <th>15</th>\n",
              "      <th>16</th>\n",
              "      <th>17</th>\n",
              "      <th>18</th>\n",
              "      <th>19</th>\n",
              "      <th>20</th>\n",
              "      <th>21</th>\n",
              "      <th>22</th>\n",
              "      <th>23</th>\n",
              "      <th>24</th>\n",
              "      <th>25</th>\n",
              "      <th>26</th>\n",
              "      <th>27</th>\n",
              "      <th>28</th>\n",
              "      <th>29</th>\n",
              "      <th>30</th>\n",
              "      <th>31</th>\n",
              "      <th>32</th>\n",
              "      <th>33</th>\n",
              "      <th>34</th>\n",
              "      <th>...</th>\n",
              "      <th>266</th>\n",
              "      <th>267</th>\n",
              "      <th>268</th>\n",
              "      <th>269</th>\n",
              "      <th>270</th>\n",
              "      <th>271</th>\n",
              "      <th>272</th>\n",
              "      <th>273</th>\n",
              "      <th>274</th>\n",
              "      <th>275</th>\n",
              "      <th>276</th>\n",
              "      <th>277</th>\n",
              "      <th>278</th>\n",
              "      <th>279</th>\n",
              "      <th>280</th>\n",
              "      <th>281</th>\n",
              "      <th>282</th>\n",
              "      <th>283</th>\n",
              "      <th>284</th>\n",
              "      <th>285</th>\n",
              "      <th>286</th>\n",
              "      <th>287</th>\n",
              "      <th>288</th>\n",
              "      <th>289</th>\n",
              "      <th>290</th>\n",
              "      <th>291</th>\n",
              "      <th>292</th>\n",
              "      <th>293</th>\n",
              "      <th>294</th>\n",
              "      <th>295</th>\n",
              "      <th>296</th>\n",
              "      <th>297</th>\n",
              "      <th>298</th>\n",
              "      <th>299</th>\n",
              "      <th>day_of_week</th>\n",
              "      <th>day_of_week_Friday</th>\n",
              "      <th>day_of_week_Monday</th>\n",
              "      <th>day_of_week_Thursday</th>\n",
              "      <th>day_of_week_Tuesday</th>\n",
              "      <th>day_of_week_Wednesday</th>\n",
              "    </tr>\n",
              "  </thead>\n",
              "  <tbody>\n",
              "    <tr>\n",
              "      <th>0</th>\n",
              "      <td>1484870400000000000</td>\n",
              "      <td>13</td>\n",
              "      <td>7.728112</td>\n",
              "      <td>0.003361</td>\n",
              "      <td>2271.31</td>\n",
              "      <td>0.031134</td>\n",
              "      <td>0.001249</td>\n",
              "      <td>0.010945</td>\n",
              "      <td>-0.044521</td>\n",
              "      <td>0.020407</td>\n",
              "      <td>0.054613</td>\n",
              "      <td>0.064077</td>\n",
              "      <td>0.123329</td>\n",
              "      <td>0.081225</td>\n",
              "      <td>-0.005168</td>\n",
              "      <td>-0.024195</td>\n",
              "      <td>0.115243</td>\n",
              "      <td>-0.014268</td>\n",
              "      <td>-0.061127</td>\n",
              "      <td>-0.099218</td>\n",
              "      <td>-0.055028</td>\n",
              "      <td>-0.038964</td>\n",
              "      <td>0.117803</td>\n",
              "      <td>0.084434</td>\n",
              "      <td>-0.024622</td>\n",
              "      <td>-0.061650</td>\n",
              "      <td>-0.023350</td>\n",
              "      <td>0.060949</td>\n",
              "      <td>-0.002806</td>\n",
              "      <td>0.126923</td>\n",
              "      <td>0.006518</td>\n",
              "      <td>0.016442</td>\n",
              "      <td>-0.092195</td>\n",
              "      <td>-0.055066</td>\n",
              "      <td>-0.120646</td>\n",
              "      <td>0.065779</td>\n",
              "      <td>-0.054222</td>\n",
              "      <td>-0.114080</td>\n",
              "      <td>-0.014821</td>\n",
              "      <td>0.026681</td>\n",
              "      <td>...</td>\n",
              "      <td>-0.086199</td>\n",
              "      <td>0.017327</td>\n",
              "      <td>-0.171792</td>\n",
              "      <td>-0.040116</td>\n",
              "      <td>-0.002045</td>\n",
              "      <td>-0.012771</td>\n",
              "      <td>-0.013664</td>\n",
              "      <td>-0.081285</td>\n",
              "      <td>0.154167</td>\n",
              "      <td>0.048707</td>\n",
              "      <td>0.084071</td>\n",
              "      <td>-0.004616</td>\n",
              "      <td>0.003247</td>\n",
              "      <td>-0.058901</td>\n",
              "      <td>0.031159</td>\n",
              "      <td>-0.093227</td>\n",
              "      <td>0.034105</td>\n",
              "      <td>0.125969</td>\n",
              "      <td>-0.001379</td>\n",
              "      <td>-0.005514</td>\n",
              "      <td>0.061999</td>\n",
              "      <td>0.052310</td>\n",
              "      <td>0.052965</td>\n",
              "      <td>-0.060126</td>\n",
              "      <td>0.002679</td>\n",
              "      <td>-0.026152</td>\n",
              "      <td>0.024944</td>\n",
              "      <td>-0.091290</td>\n",
              "      <td>-0.000102</td>\n",
              "      <td>-0.002655</td>\n",
              "      <td>0.152801</td>\n",
              "      <td>-0.099765</td>\n",
              "      <td>0.169264</td>\n",
              "      <td>0.000873</td>\n",
              "      <td>Friday</td>\n",
              "      <td>1</td>\n",
              "      <td>0</td>\n",
              "      <td>0</td>\n",
              "      <td>0</td>\n",
              "      <td>0</td>\n",
              "    </tr>\n",
              "    <tr>\n",
              "      <th>1</th>\n",
              "      <td>1485129600000000000</td>\n",
              "      <td>1</td>\n",
              "      <td>7.725418</td>\n",
              "      <td>-0.002694</td>\n",
              "      <td>2265.20</td>\n",
              "      <td>0.021507</td>\n",
              "      <td>-0.027905</td>\n",
              "      <td>-0.012251</td>\n",
              "      <td>-0.027441</td>\n",
              "      <td>0.053567</td>\n",
              "      <td>0.042050</td>\n",
              "      <td>0.074125</td>\n",
              "      <td>0.125117</td>\n",
              "      <td>0.076789</td>\n",
              "      <td>0.020549</td>\n",
              "      <td>-0.074027</td>\n",
              "      <td>0.129520</td>\n",
              "      <td>-0.075081</td>\n",
              "      <td>-0.062732</td>\n",
              "      <td>-0.080029</td>\n",
              "      <td>-0.025372</td>\n",
              "      <td>-0.017680</td>\n",
              "      <td>0.119386</td>\n",
              "      <td>0.170684</td>\n",
              "      <td>-0.012520</td>\n",
              "      <td>-0.080359</td>\n",
              "      <td>-0.026793</td>\n",
              "      <td>0.038081</td>\n",
              "      <td>-0.062197</td>\n",
              "      <td>0.117176</td>\n",
              "      <td>0.031763</td>\n",
              "      <td>0.045176</td>\n",
              "      <td>-0.137557</td>\n",
              "      <td>-0.067182</td>\n",
              "      <td>-0.085294</td>\n",
              "      <td>0.051930</td>\n",
              "      <td>-0.003805</td>\n",
              "      <td>-0.119176</td>\n",
              "      <td>-0.015235</td>\n",
              "      <td>0.030030</td>\n",
              "      <td>...</td>\n",
              "      <td>-0.088379</td>\n",
              "      <td>0.012237</td>\n",
              "      <td>-0.149725</td>\n",
              "      <td>-0.017698</td>\n",
              "      <td>0.006766</td>\n",
              "      <td>-0.002031</td>\n",
              "      <td>-0.018458</td>\n",
              "      <td>-0.081073</td>\n",
              "      <td>0.122154</td>\n",
              "      <td>0.006066</td>\n",
              "      <td>0.044414</td>\n",
              "      <td>-0.045758</td>\n",
              "      <td>-0.051107</td>\n",
              "      <td>-0.018188</td>\n",
              "      <td>0.016895</td>\n",
              "      <td>-0.062740</td>\n",
              "      <td>0.027819</td>\n",
              "      <td>0.127898</td>\n",
              "      <td>-0.011834</td>\n",
              "      <td>-0.030654</td>\n",
              "      <td>0.059241</td>\n",
              "      <td>0.064801</td>\n",
              "      <td>0.054803</td>\n",
              "      <td>-0.051413</td>\n",
              "      <td>-0.030087</td>\n",
              "      <td>-0.012975</td>\n",
              "      <td>0.016628</td>\n",
              "      <td>-0.111063</td>\n",
              "      <td>0.013943</td>\n",
              "      <td>0.032937</td>\n",
              "      <td>0.136431</td>\n",
              "      <td>-0.117138</td>\n",
              "      <td>0.117573</td>\n",
              "      <td>0.012826</td>\n",
              "      <td>Monday</td>\n",
              "      <td>0</td>\n",
              "      <td>1</td>\n",
              "      <td>0</td>\n",
              "      <td>0</td>\n",
              "      <td>0</td>\n",
              "    </tr>\n",
              "    <tr>\n",
              "      <th>2</th>\n",
              "      <td>1485216000000000000</td>\n",
              "      <td>4</td>\n",
              "      <td>7.731961</td>\n",
              "      <td>0.006543</td>\n",
              "      <td>2280.07</td>\n",
              "      <td>0.023263</td>\n",
              "      <td>-0.005317</td>\n",
              "      <td>-0.002226</td>\n",
              "      <td>-0.037325</td>\n",
              "      <td>0.030781</td>\n",
              "      <td>0.001117</td>\n",
              "      <td>0.054638</td>\n",
              "      <td>0.089228</td>\n",
              "      <td>0.076715</td>\n",
              "      <td>0.042343</td>\n",
              "      <td>-0.056198</td>\n",
              "      <td>0.103957</td>\n",
              "      <td>-0.021022</td>\n",
              "      <td>-0.046457</td>\n",
              "      <td>-0.040830</td>\n",
              "      <td>-0.019986</td>\n",
              "      <td>-0.023487</td>\n",
              "      <td>0.080950</td>\n",
              "      <td>0.113633</td>\n",
              "      <td>-0.013260</td>\n",
              "      <td>-0.044437</td>\n",
              "      <td>-0.002838</td>\n",
              "      <td>0.019050</td>\n",
              "      <td>-0.012407</td>\n",
              "      <td>0.065453</td>\n",
              "      <td>-0.000415</td>\n",
              "      <td>0.041168</td>\n",
              "      <td>-0.141949</td>\n",
              "      <td>-0.026494</td>\n",
              "      <td>-0.077243</td>\n",
              "      <td>0.064822</td>\n",
              "      <td>-0.031948</td>\n",
              "      <td>-0.086946</td>\n",
              "      <td>-0.023498</td>\n",
              "      <td>0.041629</td>\n",
              "      <td>...</td>\n",
              "      <td>-0.109771</td>\n",
              "      <td>0.003984</td>\n",
              "      <td>-0.122843</td>\n",
              "      <td>-0.045807</td>\n",
              "      <td>-0.010886</td>\n",
              "      <td>0.029315</td>\n",
              "      <td>-0.027187</td>\n",
              "      <td>-0.050737</td>\n",
              "      <td>0.107516</td>\n",
              "      <td>0.013852</td>\n",
              "      <td>0.054713</td>\n",
              "      <td>-0.021522</td>\n",
              "      <td>-0.020260</td>\n",
              "      <td>-0.011690</td>\n",
              "      <td>0.015425</td>\n",
              "      <td>-0.055023</td>\n",
              "      <td>0.003875</td>\n",
              "      <td>0.077413</td>\n",
              "      <td>0.007611</td>\n",
              "      <td>-0.000204</td>\n",
              "      <td>0.029217</td>\n",
              "      <td>0.045351</td>\n",
              "      <td>0.046208</td>\n",
              "      <td>-0.065232</td>\n",
              "      <td>-0.039977</td>\n",
              "      <td>-0.009713</td>\n",
              "      <td>0.037962</td>\n",
              "      <td>-0.094784</td>\n",
              "      <td>-0.033220</td>\n",
              "      <td>0.027535</td>\n",
              "      <td>0.109487</td>\n",
              "      <td>-0.093159</td>\n",
              "      <td>0.112307</td>\n",
              "      <td>0.040744</td>\n",
              "      <td>Tuesday</td>\n",
              "      <td>0</td>\n",
              "      <td>0</td>\n",
              "      <td>0</td>\n",
              "      <td>1</td>\n",
              "      <td>0</td>\n",
              "    </tr>\n",
              "    <tr>\n",
              "      <th>3</th>\n",
              "      <td>1485302400000000000</td>\n",
              "      <td>8</td>\n",
              "      <td>7.739955</td>\n",
              "      <td>0.007994</td>\n",
              "      <td>2298.37</td>\n",
              "      <td>0.036482</td>\n",
              "      <td>-0.005789</td>\n",
              "      <td>0.038364</td>\n",
              "      <td>-0.057268</td>\n",
              "      <td>0.036607</td>\n",
              "      <td>0.044079</td>\n",
              "      <td>0.082106</td>\n",
              "      <td>0.100600</td>\n",
              "      <td>0.046847</td>\n",
              "      <td>0.006294</td>\n",
              "      <td>-0.059985</td>\n",
              "      <td>0.122200</td>\n",
              "      <td>-0.042645</td>\n",
              "      <td>-0.051370</td>\n",
              "      <td>-0.093587</td>\n",
              "      <td>-0.042920</td>\n",
              "      <td>-0.040149</td>\n",
              "      <td>0.142667</td>\n",
              "      <td>0.090988</td>\n",
              "      <td>-0.046377</td>\n",
              "      <td>-0.078943</td>\n",
              "      <td>-0.012990</td>\n",
              "      <td>0.032323</td>\n",
              "      <td>0.000942</td>\n",
              "      <td>0.127136</td>\n",
              "      <td>0.028012</td>\n",
              "      <td>0.017610</td>\n",
              "      <td>-0.118617</td>\n",
              "      <td>-0.079444</td>\n",
              "      <td>-0.059109</td>\n",
              "      <td>-0.021439</td>\n",
              "      <td>-0.021918</td>\n",
              "      <td>-0.049777</td>\n",
              "      <td>-0.036763</td>\n",
              "      <td>0.034194</td>\n",
              "      <td>...</td>\n",
              "      <td>-0.067844</td>\n",
              "      <td>0.028081</td>\n",
              "      <td>-0.106782</td>\n",
              "      <td>0.021205</td>\n",
              "      <td>0.025735</td>\n",
              "      <td>0.025816</td>\n",
              "      <td>-0.010768</td>\n",
              "      <td>-0.078895</td>\n",
              "      <td>0.094858</td>\n",
              "      <td>0.018418</td>\n",
              "      <td>0.046352</td>\n",
              "      <td>-0.022785</td>\n",
              "      <td>-0.028541</td>\n",
              "      <td>-0.008943</td>\n",
              "      <td>0.033064</td>\n",
              "      <td>-0.053525</td>\n",
              "      <td>0.014901</td>\n",
              "      <td>0.102938</td>\n",
              "      <td>-0.024681</td>\n",
              "      <td>-0.015653</td>\n",
              "      <td>0.055012</td>\n",
              "      <td>0.022550</td>\n",
              "      <td>-0.007271</td>\n",
              "      <td>-0.056918</td>\n",
              "      <td>-0.041438</td>\n",
              "      <td>0.025013</td>\n",
              "      <td>0.034028</td>\n",
              "      <td>-0.078617</td>\n",
              "      <td>0.025987</td>\n",
              "      <td>0.024317</td>\n",
              "      <td>0.157233</td>\n",
              "      <td>-0.055233</td>\n",
              "      <td>0.132069</td>\n",
              "      <td>-0.011572</td>\n",
              "      <td>Wednesday</td>\n",
              "      <td>0</td>\n",
              "      <td>0</td>\n",
              "      <td>0</td>\n",
              "      <td>0</td>\n",
              "      <td>1</td>\n",
              "    </tr>\n",
              "    <tr>\n",
              "      <th>4</th>\n",
              "      <td>1485388800000000000</td>\n",
              "      <td>11</td>\n",
              "      <td>7.739220</td>\n",
              "      <td>-0.000736</td>\n",
              "      <td>2296.68</td>\n",
              "      <td>0.026489</td>\n",
              "      <td>-0.016078</td>\n",
              "      <td>0.022654</td>\n",
              "      <td>-0.055716</td>\n",
              "      <td>0.041689</td>\n",
              "      <td>0.021967</td>\n",
              "      <td>0.065600</td>\n",
              "      <td>0.117050</td>\n",
              "      <td>0.079832</td>\n",
              "      <td>0.017480</td>\n",
              "      <td>-0.056236</td>\n",
              "      <td>0.118578</td>\n",
              "      <td>-0.024595</td>\n",
              "      <td>-0.057932</td>\n",
              "      <td>-0.086467</td>\n",
              "      <td>-0.046755</td>\n",
              "      <td>-0.020007</td>\n",
              "      <td>0.098652</td>\n",
              "      <td>0.114778</td>\n",
              "      <td>-0.020991</td>\n",
              "      <td>-0.050441</td>\n",
              "      <td>-0.032855</td>\n",
              "      <td>0.042585</td>\n",
              "      <td>-0.007287</td>\n",
              "      <td>0.106681</td>\n",
              "      <td>0.015576</td>\n",
              "      <td>0.032844</td>\n",
              "      <td>-0.115995</td>\n",
              "      <td>-0.066810</td>\n",
              "      <td>-0.064362</td>\n",
              "      <td>0.009981</td>\n",
              "      <td>-0.016327</td>\n",
              "      <td>-0.071757</td>\n",
              "      <td>-0.024744</td>\n",
              "      <td>0.023638</td>\n",
              "      <td>...</td>\n",
              "      <td>-0.079803</td>\n",
              "      <td>0.004536</td>\n",
              "      <td>-0.096239</td>\n",
              "      <td>0.005165</td>\n",
              "      <td>0.025896</td>\n",
              "      <td>0.015748</td>\n",
              "      <td>-0.020131</td>\n",
              "      <td>-0.087466</td>\n",
              "      <td>0.123331</td>\n",
              "      <td>0.031274</td>\n",
              "      <td>0.083174</td>\n",
              "      <td>-0.006371</td>\n",
              "      <td>-0.006622</td>\n",
              "      <td>-0.014606</td>\n",
              "      <td>0.014911</td>\n",
              "      <td>-0.070302</td>\n",
              "      <td>0.032434</td>\n",
              "      <td>0.102919</td>\n",
              "      <td>-0.006315</td>\n",
              "      <td>-0.015258</td>\n",
              "      <td>0.054451</td>\n",
              "      <td>0.037230</td>\n",
              "      <td>0.004431</td>\n",
              "      <td>-0.044865</td>\n",
              "      <td>-0.018480</td>\n",
              "      <td>0.013936</td>\n",
              "      <td>0.034902</td>\n",
              "      <td>-0.075157</td>\n",
              "      <td>0.005226</td>\n",
              "      <td>0.026391</td>\n",
              "      <td>0.126812</td>\n",
              "      <td>-0.060259</td>\n",
              "      <td>0.115772</td>\n",
              "      <td>-0.020922</td>\n",
              "      <td>Thursday</td>\n",
              "      <td>0</td>\n",
              "      <td>0</td>\n",
              "      <td>1</td>\n",
              "      <td>0</td>\n",
              "      <td>0</td>\n",
              "    </tr>\n",
              "  </tbody>\n",
              "</table>\n",
              "<p>5 rows × 311 columns</p>\n",
              "</div>"
            ],
            "text/plain": [
              "                  date  text  ...  day_of_week_Tuesday  day_of_week_Wednesday\n",
              "0  1484870400000000000    13  ...                    0                      0\n",
              "1  1485129600000000000     1  ...                    0                      0\n",
              "2  1485216000000000000     4  ...                    1                      0\n",
              "3  1485302400000000000     8  ...                    0                      1\n",
              "4  1485388800000000000    11  ...                    0                      0\n",
              "\n",
              "[5 rows x 311 columns]"
            ]
          },
          "metadata": {
            "tags": []
          },
          "execution_count": 27
        }
      ]
    },
    {
      "cell_type": "code",
      "metadata": {
        "id": "n7AswbGKfTFw",
        "colab_type": "code",
        "colab": {}
      },
      "source": [
        "#特徴量とターゲットを決める\n",
        "from sklearn.model_selection import train_test_split\n",
        "\n",
        "target_col = 'dif_log'\n",
        "exclude_cols = ['log', 'price', 'dif_log', \"date\",\"text\",\"day_of_week\"]\n",
        "feature_cols = []\n",
        "for col in df4.columns:\n",
        "    if col not in exclude_cols:\n",
        "        feature_cols.append(col)\n",
        "        \n",
        "X = np.array(df4[feature_cols])\n",
        "y = np.array(df4[target_col])"
      ],
      "execution_count": 0,
      "outputs": []
    },
    {
      "cell_type": "code",
      "metadata": {
        "id": "20189zR5fTF0",
        "colab_type": "code",
        "outputId": "d6029c3d-34f6-4062-9051-90df631ba527",
        "colab": {
          "base_uri": "https://localhost:8080/",
          "height": 85
        }
      },
      "source": [
        "X_train_val, X_test, y_train_val, y_test = train_test_split(\n",
        "    X, y, test_size=0.1, random_state=1234)\n",
        "\n",
        "print('X_train_val Features Shape: ', X_train_val.shape)\n",
        "print('y_train_val Target Shape: ', y_train_val.shape)\n",
        "print('X_test Features Shape: ', X_test.shape)\n",
        "print('y_test Target Shape: ', y_test.shape)"
      ],
      "execution_count": 29,
      "outputs": [
        {
          "output_type": "stream",
          "text": [
            "X_train_val Features Shape:  (739, 305)\n",
            "y_train_val Target Shape:  (739,)\n",
            "X_test Features Shape:  (83, 305)\n",
            "y_test Target Shape:  (83,)\n"
          ],
          "name": "stdout"
        }
      ]
    },
    {
      "cell_type": "code",
      "metadata": {
        "id": "mW7aRfLifTF3",
        "colab_type": "code",
        "outputId": "43b4ed6f-101e-4d12-b99b-7a44fa258e4c",
        "colab": {
          "base_uri": "https://localhost:8080/",
          "height": 85
        }
      },
      "source": [
        "X_train, X_val, y_train, y_val = train_test_split(\n",
        "    X_train_val, y_train_val, test_size=0.1, random_state=1234)\n",
        "\n",
        "# 参考：分割後のデータ数を確認\n",
        "print('X_train Features Shape: ', X_train.shape)\n",
        "print('y_train Target Shape: ', y_train.shape)\n",
        "print('X_val Features Shape: ', X_val.shape)\n",
        "print('y_val Target Shape: ', y_val.shape)"
      ],
      "execution_count": 30,
      "outputs": [
        {
          "output_type": "stream",
          "text": [
            "X_train Features Shape:  (665, 305)\n",
            "y_train Target Shape:  (665,)\n",
            "X_val Features Shape:  (74, 305)\n",
            "y_val Target Shape:  (74,)\n"
          ],
          "name": "stdout"
        }
      ]
    },
    {
      "cell_type": "code",
      "metadata": {
        "id": "AMGJVo-zfTF6",
        "colab_type": "code",
        "colab": {}
      },
      "source": [
        "#分析用のライブラリ\n",
        "\n",
        "from collections import Counter\n",
        "from sklearn.linear_model import LogisticRegression\n",
        "from sklearn.metrics import confusion_matrix, accuracy_score, classification_report\n",
        "from sklearn.linear_model import LinearRegression  # 線形回帰モデルのライブラリ\n",
        "from sklearn.metrics import mean_squared_error  # MSEのライブラリ\n",
        "from sklearn.ensemble import RandomForestRegressor"
      ],
      "execution_count": 0,
      "outputs": []
    },
    {
      "cell_type": "code",
      "metadata": {
        "id": "_7Ucu_2FfTF_",
        "colab_type": "code",
        "outputId": "9660116a-3415-4691-e1f8-e2f76c7a1cb7",
        "colab": {
          "base_uri": "https://localhost:8080/",
          "height": 88
        }
      },
      "source": [
        "#分析1 線形回帰\n",
        "\n",
        "from sklearn.linear_model import LinearRegression  # 線形回帰モデルのライブラリ\n",
        "from sklearn.metrics import mean_squared_error  # MSEのライブラリ\n",
        "from sklearn.externals import joblib\n",
        "import pickle\n",
        "\n",
        "lm = LinearRegression()\n",
        "lm.fit(X_train, y_train)\n",
        "\n",
        "# モデルを保存する\n",
        "filename = 'lm_model.sav'\n",
        "pickle.dump(lm, open(filename, 'wb'))\n",
        "\n",
        "y_pred = lm.predict(X_val)\n",
        "lm_mse = mean_squared_error(y_val, y_pred)\n",
        "print('LinerRegression RMSE: ', round(np.sqrt(lm_mse), 3))"
      ],
      "execution_count": 32,
      "outputs": [
        {
          "output_type": "stream",
          "text": [
            "LinerRegression RMSE:  0.019\n"
          ],
          "name": "stdout"
        },
        {
          "output_type": "stream",
          "text": [
            "/usr/local/lib/python3.6/dist-packages/sklearn/externals/joblib/__init__.py:15: FutureWarning: sklearn.externals.joblib is deprecated in 0.21 and will be removed in 0.23. Please import this functionality directly from joblib, which can be installed with: pip install joblib. If this warning is raised when loading pickled models, you may need to re-serialize those models with scikit-learn 0.21+.\n",
            "  warnings.warn(msg, category=FutureWarning)\n"
          ],
          "name": "stderr"
        }
      ]
    },
    {
      "cell_type": "code",
      "metadata": {
        "id": "44WIdMIIdhon",
        "colab_type": "code",
        "outputId": "af625228-ff80-450a-bf85-886137eca239",
        "colab": {
          "base_uri": "https://localhost:8080/",
          "height": 34
        }
      },
      "source": [
        "#保存したモデルを読み取る\n",
        "loaded_model = pickle.load(open(filename, 'rb'))\n",
        "\n",
        "y_pred = loaded_model.predict(X_val)\n",
        "lm_mse = mean_squared_error(y_val, y_pred)\n",
        "print('LinerRegression RMSE: ', round(np.sqrt(lm_mse), 3))"
      ],
      "execution_count": 33,
      "outputs": [
        {
          "output_type": "stream",
          "text": [
            "LinerRegression RMSE:  0.019\n"
          ],
          "name": "stdout"
        }
      ]
    },
    {
      "cell_type": "code",
      "metadata": {
        "id": "yP6pY8SpfTGB",
        "colab_type": "code",
        "outputId": "d9a058f0-b5f2-4da0-aa64-1e34433ed421",
        "colab": {
          "base_uri": "https://localhost:8080/",
          "height": 34
        }
      },
      "source": [
        "#分析2 決定木\n",
        "\n",
        "from sklearn.tree import DecisionTreeRegressor\n",
        "\n",
        "dt = DecisionTreeRegressor(random_state=1234)\n",
        "dt.fit(X_train, y_train)\n",
        "\n",
        "# モデルを保存する\n",
        "filename = 'dt_model.sav'\n",
        "pickle.dump(dt, open(filename, 'wb'))\n",
        "\n",
        "y_pred = dt.predict(X_val)\n",
        "dt_mse = mean_squared_error(y_val, y_pred)\n",
        "print('DecisionTreeRegressor RMSE: ', round(np.sqrt(dt_mse), 3))"
      ],
      "execution_count": 34,
      "outputs": [
        {
          "output_type": "stream",
          "text": [
            "DecisionTreeRegressor RMSE:  0.024\n"
          ],
          "name": "stdout"
        }
      ]
    },
    {
      "cell_type": "code",
      "metadata": {
        "id": "TAO7GAT8fTGE",
        "colab_type": "code",
        "outputId": "a9c95862-97a4-4c21-ab95-c0d67ddf0407",
        "colab": {
          "base_uri": "https://localhost:8080/",
          "height": 34
        }
      },
      "source": [
        "#分析3 ランダムフォレスト\n",
        "\n",
        "from sklearn.ensemble import RandomForestRegressor\n",
        "\n",
        "rf = RandomForestRegressor(n_estimators=100, random_state=1234)\n",
        "rf.fit(X_train, y_train)\n",
        "\n",
        "# モデルを保存する\n",
        "filename = 'rf_model.sav'\n",
        "pickle.dump(rf, open(filename, 'wb'))\n",
        "\n",
        "y_pred = rf.predict(X_val)\n",
        "rf_mse = mean_squared_error(y_val, y_pred)\n",
        "print('RandomForestRegressor RMSE: ', round(np.sqrt(rf_mse), 3))"
      ],
      "execution_count": 35,
      "outputs": [
        {
          "output_type": "stream",
          "text": [
            "RandomForestRegressor RMSE:  0.013\n"
          ],
          "name": "stdout"
        }
      ]
    },
    {
      "cell_type": "code",
      "metadata": {
        "id": "uFuqpICakOUV",
        "colab_type": "code",
        "colab": {
          "base_uri": "https://localhost:8080/",
          "height": 34
        },
        "outputId": "54b14fd1-df91-471c-cf95-0ef937a05a2e"
      },
      "source": [
        "#分析3.5 Lasso回帰：説明変数が多い場合に精度が上がるモデル\n",
        "\n",
        "from sklearn.linear_model import Lasso\n",
        "ls = Lasso(alpha=0.1)\n",
        "ls.fit(X_train, y_train)\n",
        "\n",
        "# モデルを保存する\n",
        "filename = 'ls_model.sav'\n",
        "pickle.dump(ls, open(filename, 'wb'))\n",
        "\n",
        "y_pred = ls.predict(X_val)\n",
        "ls_mse = mean_squared_error(y_val, y_pred)\n",
        "print('LassoRegressor RMSE: ', round(np.sqrt(ls_mse), 3))"
      ],
      "execution_count": 36,
      "outputs": [
        {
          "output_type": "stream",
          "text": [
            "LassoRegressor RMSE:  0.013\n"
          ],
          "name": "stdout"
        }
      ]
    },
    {
      "cell_type": "code",
      "metadata": {
        "id": "8iYWdBRkfTGH",
        "colab_type": "code",
        "outputId": "8ddddaef-bc06-4351-fbcb-6daa86243927",
        "colab": {
          "base_uri": "https://localhost:8080/",
          "height": 282
        }
      },
      "source": [
        "#分析3 ランダムフォレストの特徴量\n",
        "\n",
        "rf_importances = pd.DataFrame(rf.feature_importances_, columns=['importance'], index=feature_cols)\n",
        "rf_importances.sort_values('importance', ascending=False).iloc[0:15].plot(kind='barh')"
      ],
      "execution_count": 37,
      "outputs": [
        {
          "output_type": "execute_result",
          "data": {
            "text/plain": [
              "<matplotlib.axes._subplots.AxesSubplot at 0x7f27a735c358>"
            ]
          },
          "metadata": {
            "tags": []
          },
          "execution_count": 37
        },
        {
          "output_type": "display_data",
          "data": {
            "image/png": "[encoded data removed]",
            "text/plain": [
              "<Figure size 432x288 with 1 Axes>"
            ]
          },
          "metadata": {
            "tags": [],
            "needs_background": "light"
          }
        }
      ]
    },
    {
      "cell_type": "code",
      "metadata": {
        "id": "_FrzHo3CfTGK",
        "colab_type": "code",
        "outputId": "8fa15b0d-f6a6-4037-a387-086069a923e6",
        "colab": {
          "base_uri": "https://localhost:8080/",
          "height": 85
        }
      },
      "source": [
        "#3つの分析の結果の比較\n",
        "\n",
        "print('線形回帰モデルのRMSE:    ', round(np.sqrt(lm_mse), 3))\n",
        "print('回帰木のRMSE:                  ', round(np.sqrt(dt_mse), 3))\n",
        "print('ランダムフォレストのRMSE: ', round(np.sqrt(rf_mse), 3))\n",
        "print('Lasso回帰のRMSE: ', round(np.sqrt(ls_mse), 3))"
      ],
      "execution_count": 38,
      "outputs": [
        {
          "output_type": "stream",
          "text": [
            "線形回帰モデルのRMSE:     0.019\n",
            "回帰木のRMSE:                   0.024\n",
            "ランダムフォレストのRMSE:  0.013\n",
            "Lasso回帰のRMSE:  0.013\n"
          ],
          "name": "stdout"
        }
      ]
    },
    {
      "cell_type": "code",
      "metadata": {
        "id": "6nAtZEWZfTGO",
        "colab_type": "code",
        "outputId": "e054ebce-1b49-43fe-ee9f-798015c32b85",
        "colab": {
          "base_uri": "https://localhost:8080/",
          "height": 85
        }
      },
      "source": [
        "#分析4 ランダムフォレストのチューニング\n",
        "\n",
        "# クロスバリデーションとグリッドサーチ のライブラリ\n",
        "from sklearn.model_selection import GridSearchCV\n",
        "\n",
        "rf = RandomForestRegressor(random_state=1234)\n",
        "\n",
        "params = {'n_estimators': [10, 25, 50, 100], 'max_depth': [10, 20, 30, 50]}\n",
        "gscv = GridSearchCV(rf, param_grid=params, verbose=1, cv=3,\n",
        "                    scoring='neg_mean_squared_error', n_jobs=-1)\n",
        "gscv.fit(X_train, y_train)\n",
        "\n",
        "gscv.best_params_"
      ],
      "execution_count": 39,
      "outputs": [
        {
          "output_type": "stream",
          "text": [
            "Fitting 3 folds for each of 16 candidates, totalling 48 fits\n"
          ],
          "name": "stdout"
        },
        {
          "output_type": "stream",
          "text": [
            "[Parallel(n_jobs=-1)]: Using backend LokyBackend with 2 concurrent workers.\n",
            "[Parallel(n_jobs=-1)]: Done  48 out of  48 | elapsed:  2.2min finished\n"
          ],
          "name": "stderr"
        },
        {
          "output_type": "execute_result",
          "data": {
            "text/plain": [
              "{'max_depth': 20, 'n_estimators': 100}"
            ]
          },
          "metadata": {
            "tags": []
          },
          "execution_count": 39
        }
      ]
    },
    {
      "cell_type": "code",
      "metadata": {
        "id": "TAcxNPOffTGR",
        "colab_type": "code",
        "outputId": "df937f27-f0b2-41bd-af91-b9953f662a77",
        "colab": {
          "base_uri": "https://localhost:8080/",
          "height": 34
        }
      },
      "source": [
        "#分析4 ランダムフォレストのチューニング\n",
        "best_estimators = gscv.best_params_[\"n_estimators\"]\n",
        "best_depth = gscv.best_params_[\"max_depth\"]\n",
        "\n",
        "rf_best = RandomForestRegressor(n_estimators=best_estimators, max_depth=best_depth, random_state=1234)\n",
        "rf_best.fit(X_train, y_train)\n",
        "\n",
        "# モデルを保存する\n",
        "filename = 'rf_best_model.sav'\n",
        "pickle.dump(rf_best, open(filename, 'wb'))\n",
        "\n",
        "y_pred = rf_best.predict(X_val)\n",
        "rf_best_mse = mean_squared_error(y_val, y_pred)\n",
        "print('RandomForest RMSE: ', round(np.sqrt(rf_best_mse), 3))"
      ],
      "execution_count": 40,
      "outputs": [
        {
          "output_type": "stream",
          "text": [
            "RandomForest RMSE:  0.013\n"
          ],
          "name": "stdout"
        }
      ]
    },
    {
      "cell_type": "code",
      "metadata": {
        "id": "43P-uNhxfTGU",
        "colab_type": "code",
        "outputId": "3589f246-2dda-435b-af22-cd430b5a7f27",
        "colab": {
          "base_uri": "https://localhost:8080/",
          "height": 34
        }
      },
      "source": [
        "#分析5 チューニングしたモデルにテストデータを代入\n",
        "\n",
        "y_pred_on_test = rf_best.predict(X_test)\n",
        "rf_best_test_mse = mean_squared_error(y_test, y_pred_on_test)\n",
        "print('RandomForest RMSE: ', round(np.sqrt(rf_best_test_mse), 3))"
      ],
      "execution_count": 41,
      "outputs": [
        {
          "output_type": "stream",
          "text": [
            "RandomForest RMSE:  0.012\n"
          ],
          "name": "stdout"
        }
      ]
    },
    {
      "cell_type": "code",
      "metadata": {
        "id": "OXUicVllfTGc",
        "colab_type": "code",
        "outputId": "974e3e45-b1cb-4a44-83ea-5f0377da6026",
        "colab": {
          "base_uri": "https://localhost:8080/",
          "height": 619
        }
      },
      "source": [
        "#分析5 テストデータを代入\n",
        "#誤差を可視化\n",
        "\n",
        "plt.scatter(y_test, y_pred_on_test)\n",
        "plt.show()\n",
        "\n",
        "import seaborn as sns\n",
        "\n",
        "error_rate = (y_test - y_pred_on_test) / y_test\n",
        "print('Mean: ', round(np.mean(error_rate), 5))\n",
        "print('Std: ', round(np.std(error_rate), 5))\n",
        "sns.distplot(error_rate, kde=False, rug=False, bins=20)"
      ],
      "execution_count": 42,
      "outputs": [
        {
          "output_type": "display_data",
          "data": {
            "image/png": "[encoded data removed]",
            "text/plain": [
              "<Figure size 432x288 with 1 Axes>"
            ]
          },
          "metadata": {
            "tags": [],
            "needs_background": "light"
          }
        },
        {
          "output_type": "stream",
          "text": [
            "Mean:  1.6882\n",
            "Std:  4.27389\n"
          ],
          "name": "stdout"
        },
        {
          "output_type": "stream",
          "text": [
            "/usr/local/lib/python3.6/dist-packages/statsmodels/tools/_testing.py:19: FutureWarning: pandas.util.testing is deprecated. Use the functions in the public API at pandas.testing instead.\n",
            "  import pandas.util.testing as tm\n"
          ],
          "name": "stderr"
        },
        {
          "output_type": "execute_result",
          "data": {
            "text/plain": [
              "<matplotlib.axes._subplots.AxesSubplot at 0x7f27a6747a90>"
            ]
          },
          "metadata": {
            "tags": []
          },
          "execution_count": 42
        },
        {
          "output_type": "display_data",
          "data": {
            "image/png": "[encoded data removed]",
            "text/plain": [
              "<Figure size 432x288 with 1 Axes>"
            ]
          },
          "metadata": {
            "tags": [],
            "needs_background": "light"
          }
        }
      ]
    },
    {
      "cell_type": "code",
      "metadata": {
        "id": "sGW47_XkfTGi",
        "colab_type": "code",
        "outputId": "521cc522-cb4a-48b0-fefb-6d9ffd98979b",
        "colab": {
          "base_uri": "https://localhost:8080/",
          "height": 581
        }
      },
      "source": [
        "#分析6 クラスタリング\n",
        "#https://hironsan.hatenablog.com/entry/clustering-word-vectors\n",
        "\n",
        "from collections import defaultdict\n",
        "from gensim.models.keyedvectors import KeyedVectors\n",
        "from sklearn.cluster import KMeans\n",
        "\n",
        "model = KeyedVectors.load('skipgram_w2v.model')\n",
        "max_vocab = 30000\n",
        "vocab = list(model.wv.vocab.keys())[:max_vocab]\n",
        "vectors = [model.wv[word] for word in vocab]\n",
        "\n",
        "n_clusters = 30\n",
        "kmeans_model = KMeans(n_clusters=n_clusters, verbose=1, random_state=1234, n_jobs=-1)\n",
        "kmeans_model.fit(vectors)\n",
        "\n",
        "cluster_labels = kmeans_model.labels_\n",
        "cluster_to_words = defaultdict(list)\n",
        "for cluster_id, word in zip(cluster_labels, vocab):\n",
        "    cluster_to_words[cluster_id].append(word)\n",
        "\n",
        "for words in cluster_to_words.values():\n",
        "    print(words[:10])"
      ],
      "execution_count": 43,
      "outputs": [
        {
          "output_type": "stream",
          "text": [
            "/usr/local/lib/python3.6/dist-packages/smart_open/smart_open_lib.py:253: UserWarning: This function is deprecated, use smart_open.open instead. See the migration notes for details: https://github.com/RaRe-Technologies/smart_open/blob/master/README.rst#migrating-to-the-new-open-function\n",
            "  'See the migration notes for details: %s' % _MIGRATION_NOTES_URL\n"
          ],
          "name": "stderr"
        },
        {
          "output_type": "stream",
          "text": [
            "['trump', 'show', '”', 'deep', '2016', 'covering', 'interview', 'quite', 'marthamaccallum', 'joe']\n",
            "['gets', 'back', 'make', 'given', 'amp', 'late', 'done', 'ventilators', 'getting', 'always']\n",
            "['latest', 'fire', 'president', 'pandemic', 'hughhewitt', 'direction', 'strategy', 'office', 'may', 'teachers']\n",
            "['poll', 'approval', 'republican', 'party', 'rating', '52', 'record', 'high', 'polls', 'points']\n",
            "['6', 'best', '7', 'point', 'trillion', 'since', 'history', 'gopchairwoman', 'cut', 'million']\n",
            "['tied', 'using', 'gave', 'authority', 'cop', 'seems', 'bucksexton', 'responsible', 'flynn', 'tried']\n",
            "['governor', 'michigan', 'night', 'vote', 'wisconsin', 'jersey', 'iowa', 'early', 'win', 'louisiana']\n",
            "['give', 'want', 'cryin', 'chuck', 'schumer', 'senators', 'enough', 'voted', 'congress', 'democrats']\n",
            "['little', 'put', 'deal', 'states', 'others', 'spent', '8', 'chinese', 'rest', 'ultimately']\n",
            "['good', 'see', 'one', 'days', 'tremendous', 'new', 'team', 'impact', 'glad', 'last']\n",
            "['people', 'lives', 'stand', 'leadership', 'america', 'making', 'americans', 'working', 'every', 'day']\n",
            "['angry', 'brought', 'totally', 'dirty', 'whole', 'case', 'corruption', 'cops', 'mueller', 'refuses']\n",
            "['talk', 'loser', 'thing', 'never', 'even', 'called', 'wonder', 'talking', 'would', 'knows']\n",
            "['home', 'middle', 'gm', 'production', 'farmers', 'ranchers', 'supply', 'us', 'small', 'business']\n",
            "['ny', '’', 'aoc', 'run', 'supporters', 'swamp', 'radical', 'election', 'still', 'shocking']\n",
            "['stop', 'border', 'allow', 'necessary', 'must', 'immigration', 'human', 'agents', 'built', 'build']\n",
            "['cuomo', 'job', 'special', 'mike', 'general', 'director', 'michael', 'state', 'officials', 'leader']\n",
            "['false', 'media', 'worse', 'fake', 'news', 'cnn', 'msdnc', 'story', 'post', 'corrupt']\n",
            "['testing', 'east', 'war', 'meeting', 'sanctions', 'putin', 'spoke', 'forward', 'discussions', 'north']\n",
            "['great', 'hard', 'opponent', 'navy', 'tom', 'drain', 'kevin', 'brian', 'ryan', 'conservative']\n",
            "['lied', 'fusion', 'fbi', 'investigation', 'knew', 'james', 'documents', 'christopher', 'wray', 'comey']\n",
            "['teamtrump', 'realdonaldtrump', '\\u2066', '\\u2069', '2020', 'thank', 'tonight', 'laraleatrump', 'pm', 'erictrump']\n",
            "['dollars', '25', 'pay', 'goods', 'paying', 'powell', 'higher', 'countries', 'federal', 'china']\n",
            "['mikepence', 'defense', 'first', 'response', 'careful', 'w', 'americas', 'coronavirus', 'critical', 'spread']\n",
            "['act', 'ensure', 'need', 'help', 'tax', 'funding', 'plan', 'care', 'infrastructure', 'communities']\n",
            "['honor', 'whitehouse', 'live', 'potus', 'delivers', 'remarks', 'met', 'oval', '45', 'joined']\n",
            "['military', 'vets', 'fighter', 'supports', 'loves', 'strong', 'crime', 'second', 'amendment', 'complete']\n",
            "['rep', 'jimjordan', 'house', 'th', 'repandybiggsaz', 'gopleader', 'mccarthy', 'partisan', 'dbongino', 'breaking']\n",
            "['incredible', 'nation', 'freedom', 'roundtable', 'supporting', 'grateful', 'law', 'enforcement', 'loved', 'god']\n",
            "['ं', 'ी', 'क', 'े', '्', 'र', 'ा', 'ि', 'म', 'ह']\n"
          ],
          "name": "stdout"
        }
      ]
    },
    {
      "cell_type": "code",
      "metadata": {
        "id": "Fu0b2E73mdhz",
        "colab_type": "code",
        "outputId": "0aff6750-2a1c-41da-e31a-e104019a55a4",
        "colab": {
          "base_uri": "https://localhost:8080/",
          "height": 466
        }
      },
      "source": [
        "#分析7 似ている単語をプロット\n",
        "# https://yoshipc.net/python-word2vec/\n",
        " \n",
        "from gensim.models import word2vec\n",
        "import numpy as np\n",
        "import matplotlib.pyplot as plt\n",
        "from sklearn.decomposition import PCA\n",
        " \n",
        "model = word2vec.Word2Vec.load(\"/content/skipgram_w2v.model\")\n",
        " \n",
        "#調べる情報を配列に収納\n",
        "trump_word = []\n",
        "trump_word.append([\"america\",\"china\"])\n",
        "trump_word.append([\"america\",\"great\"])\n",
        "trump_word.append([\"america\",\"japan\"])\n",
        "trump_word.append([\"trump\",\"president\"])\n",
        "trump_word.append([\"coronavirus\",\"covid\"])\n",
        "trump_word.append([\"coronavirus\",\"economy\"])\n",
        "trump_word.append([\"stock\",\"economy\"])\n",
        "\n",
        "length = len(trump_word)\n",
        "data = []\n",
        " \n",
        "j = 0\n",
        "while j < length:\n",
        "    #print(trump_word[j][1])\n",
        "    data.append(model[trump_word[j][0]])\n",
        "    data.append(model[trump_word[j][1]])\n",
        "    j += 1\n",
        " \n",
        "pca = PCA(n_components=2)\n",
        "pca.fit(data)\n",
        "data_pca= pca.transform(data)\n",
        " \n",
        "length_data = len(data_pca)\n",
        " \n",
        "i = 0\n",
        "j = 0\n",
        "\n",
        "plt.figure(figsize=(2.4, 1.8), dpi=200)\n",
        "\n",
        "while i < length_data:\n",
        "    #点プロット\n",
        "    plt.plot(data_pca[i][0], data_pca[i][1], ms=5.0, zorder=2 ,marker=\"x\")\n",
        "    plt.plot(data_pca[i+1][0], data_pca[i+1][1],ms=5.0, zorder=2 ,marker=\"x\")\n",
        " \n",
        "    #線プロット\n",
        "    plt.plot((data_pca[i][0], data_pca[i+1][0]),(data_pca[i][1],data_pca[i+1][1]),c=\"b\",linewidth=0.5,zorder=1,linestyle=\"--\")\n",
        " \n",
        "    #文字プロット\n",
        "    plt.annotate(trump_word[j][0],(data_pca[i][0], data_pca[i][1]),size=7)\n",
        "    plt.annotate(trump_word[j][1],(data_pca[i+1][0], data_pca[i+1][1]),size=7)\n",
        " \n",
        "    j += 1\n",
        "    i += 2\n",
        " \n",
        "plt.show()"
      ],
      "execution_count": 44,
      "outputs": [
        {
          "output_type": "stream",
          "text": [
            "/usr/local/lib/python3.6/dist-packages/smart_open/smart_open_lib.py:253: UserWarning: This function is deprecated, use smart_open.open instead. See the migration notes for details: https://github.com/RaRe-Technologies/smart_open/blob/master/README.rst#migrating-to-the-new-open-function\n",
            "  'See the migration notes for details: %s' % _MIGRATION_NOTES_URL\n",
            "/usr/local/lib/python3.6/dist-packages/ipykernel_launcher.py:27: DeprecationWarning: Call to deprecated `__getitem__` (Method will be removed in 4.0.0, use self.wv.__getitem__() instead).\n",
            "/usr/local/lib/python3.6/dist-packages/ipykernel_launcher.py:28: DeprecationWarning: Call to deprecated `__getitem__` (Method will be removed in 4.0.0, use self.wv.__getitem__() instead).\n"
          ],
          "name": "stderr"
        },
        {
          "output_type": "display_data",
          "data": {
            "image/png": "[encoded data removed]",
            "text/plain": [
              "<Figure size 480x360 with 1 Axes>"
            ]
          },
          "metadata": {
            "tags": [],
            "needs_background": "light"
          }
        }
      ]
    },
    {
      "cell_type": "code",
      "metadata": {
        "id": "zXq4SYqwp5Xu",
        "colab_type": "code",
        "colab": {}
      },
      "source": [
        "#分析8 DeepLearning\n",
        "#ライブラリをインポート\n",
        "\n",
        "import numpy as np\n",
        "import pandas as pd\n",
        "import torch\n",
        "from torch import nn\n",
        "from torch import optim\n",
        "import torch.nn.functional as F\n",
        "from torch.utils.data import DataLoader, TensorDataset\n",
        "from sklearn.model_selection import train_test_split\n",
        "from sklearn.metrics import confusion_matrix\n",
        "import matplotlib.pyplot as plt"
      ],
      "execution_count": 0,
      "outputs": []
    },
    {
      "cell_type": "code",
      "metadata": {
        "id": "4uecjMVBTBij",
        "colab_type": "code",
        "colab": {}
      },
      "source": [
        "class myMLP(nn.Module):\n",
        "    def __init__(self, in_features, out_features):\n",
        "        super().__init__()\n",
        "        self.ln1 = nn.Linear(in_features, 256)\n",
        "        self.ln2 = nn.Linear(256, 128)\n",
        "        self.ln3 = nn.Linear(128, 32)\n",
        "        self.ln4 = nn.Linear(32, 64)\n",
        "        self.ln5 = nn.Linear(64, 32)\n",
        "        self.ln6 = nn.Linear(32, 4)\n",
        "        self.ln7 = nn.Linear(4, out_features)\n",
        "\n",
        "    def forward(self, x):\n",
        "        x = self.ln1(x)\n",
        "        x = F.relu(x)\n",
        "        x = self.ln2(x)\n",
        "        x = F.relu(x)\n",
        "        x = self.ln3(x)\n",
        "        x = F.relu(x)\n",
        "        x = self.ln4(x)\n",
        "        x = F.relu(x)\n",
        "        x = self.ln5(x)\n",
        "        x = F.relu(x)\n",
        "        x = self.ln6(x)\n",
        "        x = F.relu(x)\n",
        "        x = self.ln7(x)\n",
        "        return x"
      ],
      "execution_count": 0,
      "outputs": []
    },
    {
      "cell_type": "code",
      "metadata": {
        "id": "_qwTPkn83jED",
        "colab_type": "code",
        "outputId": "9b3a6bae-9e2a-418e-d80d-6d7334542508",
        "colab": {
          "base_uri": "https://localhost:8080/",
          "height": 404
        }
      },
      "source": [
        "#分析8 DeepLearning\n",
        "# NumPyのarryをtorch.tensor型に変換する。\n",
        "\n",
        "X_train, X_test, y_train, y_test = train_test_split(\n",
        "    X, y, test_size=0.2, random_state=1234)\n",
        "\n",
        "X_train_tensor = torch.tensor(X_train, dtype=torch.float32)\n",
        "y_train_tensor = torch.tensor(y_train, dtype=torch.float32)\n",
        "X_test_tensor = torch.tensor(X_test, dtype=torch.float32)\n",
        "y_test_tensor = torch.tensor(y_test, dtype=torch.float32)\n",
        "\n",
        "train_dataset = TensorDataset(X_train_tensor, y_train_tensor)\n",
        "train_loader = DataLoader(train_dataset, batch_size=100, shuffle=True)\n",
        "\n",
        "#ネットワークを書く\n",
        "net = myMLP(305,1)\n",
        "net.parameters\n",
        "\n",
        "#目的関数を指定（今回は回帰問題のためMSELoss()を使用する）\n",
        "#https://pytorch.org/docs/stable/nn.html#loss-functions\n",
        "loss_func = nn.MSELoss()\n",
        "#Optimizerを定義する\n",
        "#https://pytorch.org/docs/stable/optim.html\n",
        "optimizer = optim.RMSprop(net.parameters())\n",
        "  \n",
        "train_loss_track = []\n",
        "test_loss_track = []\n",
        "\n",
        "for epoc in range(10):\n",
        "    running_loss = 0\n",
        "    \n",
        "    # 学習モード\n",
        "    net.train()\n",
        "    for step, (xx, yy)  in enumerate(train_loader):\n",
        "        \n",
        "        # 最後に計算した各パラメーターの勾配を初期化する\n",
        "        optimizer.zero_grad()\n",
        "        \n",
        "        # フォワード計算を行う\n",
        "        y_pred = net(xx).float()\n",
        "        \n",
        "        # 誤差関数を使ってギャップの計測\n",
        "        loss = loss_func(y_pred, yy)\n",
        "      \n",
        "        # 誤差逆伝播法を使って自動微分\n",
        "        loss.backward()\n",
        "        \n",
        "        # パラメーターを更新\n",
        "        optimizer.step()\n",
        "        \n",
        "        # 学習データを使って誤差を計算\n",
        "        running_loss += loss.item()\n",
        "        \n",
        "    # エポックが終了したら平均誤差を計算\n",
        "    train_loss_track.append(running_loss/step)\n",
        "    \n",
        "    \n",
        "    #評価（evaluation）モード\n",
        "    net.eval()\n",
        "    \n",
        "    # 予測値を計算\n",
        "    y_pred = net(X_test_tensor)\n",
        "    \n",
        "    # 誤差関数を計算\n",
        "    test_loss = loss_func(y_pred, y_test_tensor)\n",
        "    \n",
        "    # 誤差をトラッキング\n",
        "    test_loss_track.append(test_loss)\n",
        "\n",
        "\n",
        "\n",
        "plt.plot(train_loss_track)\n",
        "plt.plot(test_loss_track)\n",
        "print(\"test_loss: \",sum(test_loss_track)/len(test_loss_track))"
      ],
      "execution_count": 47,
      "outputs": [
        {
          "output_type": "stream",
          "text": [
            "/usr/local/lib/python3.6/dist-packages/torch/nn/modules/loss.py:432: UserWarning: Using a target size (torch.Size([100])) that is different to the input size (torch.Size([100, 1])). This will likely lead to incorrect results due to broadcasting. Please ensure they have the same size.\n",
            "  return F.mse_loss(input, target, reduction=self.reduction)\n",
            "/usr/local/lib/python3.6/dist-packages/torch/nn/modules/loss.py:432: UserWarning: Using a target size (torch.Size([57])) that is different to the input size (torch.Size([57, 1])). This will likely lead to incorrect results due to broadcasting. Please ensure they have the same size.\n",
            "  return F.mse_loss(input, target, reduction=self.reduction)\n",
            "/usr/local/lib/python3.6/dist-packages/torch/nn/modules/loss.py:432: UserWarning: Using a target size (torch.Size([165])) that is different to the input size (torch.Size([165, 1])). This will likely lead to incorrect results due to broadcasting. Please ensure they have the same size.\n",
            "  return F.mse_loss(input, target, reduction=self.reduction)\n"
          ],
          "name": "stderr"
        },
        {
          "output_type": "stream",
          "text": [
            "test_loss:  tensor(0.0001, grad_fn=<DivBackward0>)\n"
          ],
          "name": "stdout"
        },
        {
          "output_type": "display_data",
          "data": {
            "image/png": "[encoded data removed]",
            "text/plain": [
              "<Figure size 432x288 with 1 Axes>"
            ]
          },
          "metadata": {
            "tags": [],
            "needs_background": "light"
          }
        }
      ]
    },
    {
      "cell_type": "code",
      "metadata": {
        "id": "Zs3RyM14_Was",
        "colab_type": "code",
        "outputId": "8dca72ca-e9ab-4d87-f96b-e4751f3c32e8",
        "colab": {
          "base_uri": "https://localhost:8080/",
          "height": 537
        }
      },
      "source": [
        "#分析9　TFIDFを用いたランダムフォレスト\n",
        "\n",
        "#形態素解析のデータセットを作る\n",
        "#https://qiita.com/tomone_hata/items/67e7f9415dbf5c8ff8ba\n",
        "\n",
        "from sklearn.feature_extraction.text import CountVectorizer, TfidfTransformer\n",
        "\n",
        "#形態素解析のデータセットを作る\n",
        "#文章を全部１つのリストに入れる→TFIDFを作る→それぞれの日付に出てくる単語をKeyにTFIDFの値を取ってくる\n",
        "\n",
        "data_keitaiso = pd.read_csv(\"s&p_tweets.csv\")\n",
        "tweet_keitaiso=[]\n",
        "\n",
        "for tweet in data_keitaiso[\"text\"]:\n",
        "  tweet = re.sub(r'^RT[\\s]+', '', tweet)\n",
        "  tweet = re.sub(r'(http|https):\\/\\/.*[\\r\\n]*', '', tweet)\n",
        "  tweet = re.sub(r'#', '', tweet)\n",
        "  tweet = tweet.translate(str.maketrans('', '', string.punctuation)) \n",
        "  tweet_keitaiso.append(tweet)\n",
        "\n",
        "corpus = tweet_keitaiso         \n",
        "cv = CountVectorizer(token_pattern=r\"\\b\\w+\\b\")\n",
        "wc = cv.fit_transform(corpus)\n",
        "ttf = TfidfTransformer()\n",
        "tfidf = ttf.fit_transform(wc)\n",
        "\n",
        "#蜜行列に変更する\n",
        "X_tfidf = tfidf.toarray()\n",
        "\n",
        "data3 = pd.DataFrame(X_tfidf)\n",
        "df_tweets_tfidf =  pd.concat([data_keitaiso, data3], axis=1)\n",
        "\n",
        "df = df_tweets_tfidf.groupby([\"date\"]).mean()\n",
        "df_sp = pd.read_csv(\"/content/sp500-10-year-daily-chart.csv\")\n",
        "df_sp[\"log\"] = np.log(df_sp[\" value\"])\n",
        "df_sp[\"dif_log\"] = df_sp[\"log\"].diff()\n",
        "df2=pd.merge(df_sp, df, how=\"inner\" ,on=\"date\")\n",
        "df2 = df2.drop(\" value\", axis=1)\n",
        "df3 = df_tweets_tfidf[[\"date\",\"text\"]]\n",
        "df3 = df3.groupby([\"date\"]).count()\n",
        "df_tfidf = pd.merge( df3, df2, how=\"inner\" ,on=\"date\")\n",
        "df_tfidf[\"date\"] = pd.to_datetime(df4['date']).astype('int64')\n",
        "\n",
        "from sklearn.model_selection import train_test_split\n",
        "\n",
        "target_col = 'dif_log'\n",
        "exclude_cols = ['log', 'price', 'dif_log', \"date\",\"text\"]\n",
        "feature_cols = []\n",
        "for col in df_tfidf.columns:\n",
        "    if col not in exclude_cols:\n",
        "        feature_cols.append(col)\n",
        "        \n",
        "X2 = np.array(df_tfidf[feature_cols])\n",
        "y2 = np.array(df_tfidf[target_col])\n",
        "\n",
        "X２_train_val, X２_test, y２_train_val, y２_test = train_test_split(\n",
        "    X２, y２, test_size=0.1, random_state=1234)\n",
        "\n",
        "X２_train, X２_val, y２_train, y２_val = train_test_split(\n",
        "    X２_train_val, y２_train_val, test_size=0.1, random_state=1234)\n",
        "\n",
        "#分析\n",
        "from sklearn.ensemble import RandomForestRegressor\n",
        "\n",
        "rf = RandomForestRegressor(n_estimators=100, random_state=1234)\n",
        "rf.fit(X２_train, y２_train)\n",
        "\n",
        "filename = 'rf_TFIDF_model.sav'\n",
        "pickle.dump(rf, open(filename, 'wb'))\n",
        "\n",
        "y２_pred = rf.predict(X２_val)\n",
        "rf_mse_2 = mean_squared_error(y２_val, y２_pred)\n",
        "print('RandomForestRegressor RMSE: ', round(np.sqrt(rf_mse_2), 3))\n",
        "\n",
        "#プロット\n",
        "rf_importances = pd.DataFrame(rf.feature_importances_, columns=['importance'], index=feature_cols)\n",
        "rf_importances.sort_values('importance', ascending=False).iloc[0:15].plot(kind='barh')\n",
        "\n",
        "#列名をゲット\n",
        "#https://note.nkmk.me/python-dict-get-key-from-value/\n",
        "\n",
        "voca = cv.vocabulary_\n",
        "\n",
        "def get_keys_from_value(d, val):\n",
        "    return [k for k, v in d.items() if v == val]\n",
        "\n",
        "for i in rf_importances.sort_values('importance', ascending=False).iloc[0:15].index:\n",
        "  keys = get_keys_from_value(voca, i)\n",
        "  print(keys)\n",
        "# ['key1', 'key2']"
      ],
      "execution_count": 48,
      "outputs": [
        {
          "output_type": "stream",
          "text": [
            "RandomForestRegressor RMSE:  0.016\n",
            "['confident']\n",
            "['coronavirus']\n",
            "['declare']\n",
            "['nationwide']\n",
            "['duly']\n",
            "['spreading']\n",
            "['covid19']\n",
            "['practice']\n",
            "['cutter']\n",
            "['outbreak']\n",
            "['545']\n",
            "['prevail']\n",
            "['billcassidy']\n",
            "['restaurants']\n",
            "['jack']\n"
          ],
          "name": "stdout"
        },
        {
          "output_type": "display_data",
          "data": {
            "image/png": "[encoded data removed]",
            "text/plain": [
              "<Figure size 432x288 with 1 Axes>"
            ]
          },
          "metadata": {
            "tags": [],
            "needs_background": "light"
          }
        }
      ]
    },
    {
      "cell_type": "code",
      "metadata": {
        "id": "3fRvcdNFclQU",
        "colab_type": "code",
        "outputId": "ba2708cf-426a-4797-8ddc-572c60604f1f",
        "colab": {
          "base_uri": "https://localhost:8080/",
          "height": 404
        }
      },
      "source": [
        "#分析10　形態素解析でDeepLearning\n",
        "\n",
        "X2_train, X2_test, y2_train, y2_test = train_test_split(\n",
        "    X２, y2, test_size=0.2, random_state=1234)\n",
        "\n",
        "X2_train_tensor = torch.tensor(X2_train, dtype=torch.float32)\n",
        "y2_train_tensor = torch.tensor(y2_train, dtype=torch.float32)\n",
        "X2_test_tensor = torch.tensor(X2_test, dtype=torch.float32)\n",
        "y2_test_tensor = torch.tensor(y2_test, dtype=torch.float32)\n",
        "\n",
        "train2_dataset = TensorDataset(X2_train_tensor, y2_train_tensor)\n",
        "train2_loader = DataLoader(train2_dataset, batch_size=100, shuffle=True)\n",
        "\n",
        "#ネットワークを書く\n",
        "net = myMLP(16493,1)\n",
        "net.parameters\n",
        "\n",
        "#目的関数を指定（今回は回帰問題のためMSELoss()を使用する）\n",
        "#https://pytorch.org/docs/stable/nn.html#loss-functions\n",
        "loss_func = nn.MSELoss()\n",
        "#Optimizerを定義する\n",
        "#https://pytorch.org/docs/stable/optim.html\n",
        "optimizer = optim.RMSprop(net.parameters())\n",
        "  \n",
        "train_loss_track = []\n",
        "test_loss_track = []\n",
        "\n",
        "for epoc in range(10):\n",
        "    running_loss = 0\n",
        "    \n",
        "    # 学習モード\n",
        "    net.train()\n",
        "    for step, (xx, yy)  in enumerate(train2_loader):\n",
        "        \n",
        "        # 最後に計算した各パラメーターの勾配を初期化する\n",
        "        optimizer.zero_grad()\n",
        "        \n",
        "        # フォワード計算を行う\n",
        "        y_pred = net(xx).float()\n",
        "        \n",
        "        # 誤差関数を使ってギャップの計測\n",
        "        loss = loss_func(y_pred, yy)\n",
        "      \n",
        "        # 誤差逆伝播法を使って自動微分\n",
        "        loss.backward()\n",
        "        \n",
        "        # パラメーターを更新\n",
        "        optimizer.step()\n",
        "        \n",
        "        # 学習データを使って誤差を計算\n",
        "        running_loss += loss.item()\n",
        "        \n",
        "    # エポックが終了したら平均誤差を計算\n",
        "    train_loss_track.append(running_loss/step)\n",
        "    \n",
        "    \n",
        "    #評価（evaluation）モード\n",
        "    net.eval()\n",
        "    \n",
        "    # 予測値を計算\n",
        "    y_pred = net(X2_test_tensor)\n",
        "    \n",
        "    # 誤差関数を計算\n",
        "    test_loss = loss_func(y_pred, y2_test_tensor)\n",
        "    \n",
        "    # 誤差をトラッキング\n",
        "    test_loss_track.append(test_loss)\n",
        "\n",
        "\n",
        "\n",
        "plt.plot(train_loss_track)\n",
        "plt.plot(test_loss_track)\n",
        "print(\"test_loss: \",sum(test_loss_track)/len(test_loss_track))"
      ],
      "execution_count": 49,
      "outputs": [
        {
          "output_type": "stream",
          "text": [
            "/usr/local/lib/python3.6/dist-packages/torch/nn/modules/loss.py:432: UserWarning: Using a target size (torch.Size([100])) that is different to the input size (torch.Size([100, 1])). This will likely lead to incorrect results due to broadcasting. Please ensure they have the same size.\n",
            "  return F.mse_loss(input, target, reduction=self.reduction)\n",
            "/usr/local/lib/python3.6/dist-packages/torch/nn/modules/loss.py:432: UserWarning: Using a target size (torch.Size([57])) that is different to the input size (torch.Size([57, 1])). This will likely lead to incorrect results due to broadcasting. Please ensure they have the same size.\n",
            "  return F.mse_loss(input, target, reduction=self.reduction)\n",
            "/usr/local/lib/python3.6/dist-packages/torch/nn/modules/loss.py:432: UserWarning: Using a target size (torch.Size([165])) that is different to the input size (torch.Size([165, 1])). This will likely lead to incorrect results due to broadcasting. Please ensure they have the same size.\n",
            "  return F.mse_loss(input, target, reduction=self.reduction)\n"
          ],
          "name": "stderr"
        },
        {
          "output_type": "stream",
          "text": [
            "test_loss:  tensor(0.0005, grad_fn=<DivBackward0>)\n"
          ],
          "name": "stdout"
        },
        {
          "output_type": "display_data",
          "data": {
            "image/png": "[encoded data removed]",
            "text/plain": [
              "<Figure size 432x288 with 1 Axes>"
            ]
          },
          "metadata": {
            "tags": [],
            "needs_background": "light"
          }
        }
      ]
    },
    {
      "cell_type": "code",
      "metadata": {
        "id": "bUApNSsf5GmF",
        "colab_type": "code",
        "outputId": "f8a96c11-fce0-47eb-9915-c17c0bd978bc",
        "colab": {
          "base_uri": "https://localhost:8080/",
          "height": 85
        }
      },
      "source": [
        "#分析11 アンサンブル学習\n",
        "# https://blog.ikedaosushi.com/entry/2018/10/21/204842?t=0\n",
        "\n",
        "random_state = 1234\n",
        "\n",
        "X_train_valid, X_meta_valid, y_train_valid, y_meta_valid = train_test_split(X, y, test_size=0.1, random_state=random_state)\n",
        "X_train, X_valid, y_train, y_valid = train_test_split(X_train_valid, y_train_valid, test_size=0.1, random_state=random_state)\n",
        "\n",
        "import lightgbm as lgb\n",
        "import sklearn\n",
        "from sklearn.linear_model import LinearRegression\n",
        "from sklearn.model_selection import train_test_split\n",
        "from sklearn.metrics import mean_squared_error\n",
        "from sklearn.neighbors import KNeighborsRegressor\n",
        "from lightgbm import LGBMRegressor\n",
        "\n",
        "# train base model\n",
        "base_model_1 = LinearRegression()\n",
        "base_model_2 = LGBMRegressor()\n",
        "base_model_3 = KNeighborsRegressor()\n",
        "\n",
        "base_model_1.fit(X_train, y_train)\n",
        "base_model_2.fit(X_train, y_train)\n",
        "base_model_3.fit(X_train, y_train)\n",
        "\n",
        "# base predicts\n",
        "base_pred_1 = base_model_1.predict(X_valid)\n",
        "base_pred_2 = base_model_2.predict(X_valid)\n",
        "base_pred_3 = base_model_3.predict(X_valid)\n",
        "\n",
        "# test predicts for final result \n",
        "valid_pred_1 = base_model_1.predict(X_meta_valid)\n",
        "valid_pred_2 = base_model_2.predict(X_meta_valid)\n",
        "valid_pred_3 = base_model_3.predict(X_meta_valid)\n",
        "\n",
        "print (\"mean squared error of model 1: {:.4f}\".format(mean_squared_error(y_meta_valid, valid_pred_1)) )\n",
        "print (\"mean squared error of model 2: {:.4f}\".format(mean_squared_error(y_meta_valid, valid_pred_2)) )\n",
        "print (\"mean squared error of model 3: {:.4f}\".format(mean_squared_error(y_meta_valid, valid_pred_3)) )\n",
        "\n",
        "# stack base predicts for training meta model\n",
        "stacked_predictions = np.column_stack((base_pred_1, base_pred_2, base_pred_3))\n",
        "\n",
        "# stack test predicts for final result \n",
        "stacked_valid_predictions = np.column_stack((valid_pred_1, valid_pred_2, valid_pred_3))\n",
        "\n",
        "# train meta model \n",
        "meta_model = LinearRegression()\n",
        "meta_model.fit(stacked_predictions, y_valid)\n",
        "\n",
        "filename = 'meta_model.sav'\n",
        "pickle.dump(meta_model, open(filename, 'wb'))\n",
        "\n",
        "# final result \n",
        "meta_valid_pred = meta_model.predict(stacked_valid_predictions)\n",
        "print (\"mean squared error of meta model: {:.4f}\".format(mean_squared_error(y_meta_valid, meta_valid_pred)) )\n"
      ],
      "execution_count": 50,
      "outputs": [
        {
          "output_type": "stream",
          "text": [
            "mean squared error of model 1: 0.0004\n",
            "mean squared error of model 2: 0.0002\n",
            "mean squared error of model 3: 0.0001\n",
            "mean squared error of meta model: 0.0001\n"
          ],
          "name": "stdout"
        }
      ]
    },
    {
      "cell_type": "code",
      "metadata": {
        "id": "_eM6TLljmqYN",
        "colab_type": "code",
        "colab": {
          "base_uri": "https://localhost:8080/",
          "height": 122
        },
        "outputId": "1fded16b-f038-437f-d5e1-cd090a0436c9"
      },
      "source": [
        "f = open('/content/trump_test.txt', 'r')\n",
        "text = f.read()\n",
        "mylist = literal_eval(text)\n",
        "\n",
        "df_text=[]\n",
        "df_created_at=[]\n",
        "df_id_str=[]\n",
        "\n",
        "for i in range(len(mylist)):\n",
        "    text = mylist[i][\"text\"]\n",
        "    created_at = mylist[i][\"created_at\"]\n",
        "    id_str = mylist[i][\"id_str\"]\n",
        "    df_text.append(text)\n",
        "    df_created_at.append(created_at)\n",
        "    df_id_str.append(id_str)\n",
        "\n",
        "tweet_list=[df_created_at,df_id_str,df_text]\n",
        "\n",
        "columns1=[\"created_at\"]\n",
        "tweet_data = pd.DataFrame( data = df_created_at, columns = columns1)\n",
        "tweet_data[\"id\"]=df_id_str\n",
        "tweet_data[\"text\"] = df_text\n",
        "\n",
        "tweet_data[\"time_created_at\"] = pd.to_datetime(tweet_data['created_at'])\n",
        "tweet_data[\"date_created_at\"] = tweet_data[\"time_created_at\"].dt.date\n",
        "tweet_data[\"key\"]=pd.to_datetime(tweet_data[\"date_created_at\"])\n",
        "\n",
        "sp_data = pd.read_csv('/content/sp500-10-year-daily-chart.csv')\n",
        "sp_data[\"date_64\"] = pd.to_datetime(sp_data[\"date\"])\n",
        "sp_data[\"key\"] =sp_data[\"date_64\"] \n",
        "\n",
        "tweet_data=pd.merge(tweet_data, sp_data)\n",
        "tweet_data.columns\n",
        "data = tweet_data[[\"key\",\" value\",\"text\"]]\n",
        "\n",
        "#行の名前を変更する　20200505\n",
        "data = data.rename(columns={\"key\": \"date\",\" value\":\"price\"})\n",
        "data.head()\n",
        "\n",
        "import datetime as dt\n",
        "data2 = data[(data['date'] >= dt.datetime(2019,5,1)) & (data['date'] <= dt.datetime(2022,5,31))]\n",
        "print( \"2020/05/02 - 2020/05/31のツイート数は\", len(data2))\n",
        "data2.to_csv(\"s&p_tweets_test.csv\", index=False, mode='a', header=True)\n",
        "\n",
        "data = pd.read_csv(\"s&p_tweets_test.csv\")\n",
        "print( len(data),\"tweets\")\n",
        "\n",
        "import re\n",
        "import string\n",
        "\n",
        "stemmer = nltk.stem.PorterStemmer()\n",
        "punctuations = string.punctuation\n",
        "all_tweets_clean = []\n",
        "\n",
        "#Tweet毎にリスト形式で保存するための加工\n",
        "result=[]\n",
        "\n",
        "for tweet in data[\"text\"]:\n",
        "    # RTから始まる部分を取り除く。\n",
        "    tweet = re.sub(r'^RT[\\s]+', '', tweet)\n",
        "    # リンクを取り除く。\n",
        "    tweet = re.sub(r'(http|https):\\/\\/.*[\\r\\n]*', '', tweet)\n",
        "    # ハッシュタグを取り除く。\n",
        "    tweet = re.sub(r'#', '', tweet)\n",
        "    # 句読点の削除\n",
        "    tweet = tweet.translate(str.maketrans('', '', string.punctuation)) \n",
        "    # 単語に分解する。\n",
        "    tokenizer = nltk.tokenize.TweetTokenizer(preserve_case=False, strip_handles=True, reduce_len=True)\n",
        "    tweet_tokens = tokenizer.tokenize(tweet)\n",
        "    result.append(tweet_tokens)\n",
        "    \n",
        "stopwords = nltk.corpus.stopwords.words('english')\n",
        "stop_words = [\"→\", \"←\", \"?\", \"」\", \"「\",\"(\",\")\",\"!\",\".\",\",\",\"&\",\"…\",\"%\",\":\",\";\",\"“\"]\n",
        "stopwords += stop_words\n",
        "\n",
        "#print(stopwords)\n",
        "\n",
        "result_2=[]\n",
        "result_3=[]\n",
        "for i in range(len(result)):\n",
        "    for word in result[i]:\n",
        "        if word not in stopwords:\n",
        "            result_2.append(word)\n",
        "    result_3.append(result_2)\n",
        "    result_2=[]\n",
        "\n",
        "from gensim.models import word2vec\n",
        "skipgram_model = word2vec.Word2Vec.load(\"/content/skipgram_w2v.model\")\n",
        "\n",
        "num_features = 300\n",
        "\n",
        "\n",
        "def avg_document_vector(data, num_features):\n",
        "    document_vec = np.zeros((len(data), num_features))\n",
        "    for i, doc_word_list in enumerate(data):\n",
        "        feature_vec = np.zeros((num_features,), dtype=\"float32\")\n",
        "        for word in doc_word_list:\n",
        "            try:\n",
        "                feature_vec = np.add(\n",
        "                    feature_vec, skipgram_model.wv.__getitem__(word))\n",
        "            except:\n",
        "                pass\n",
        "\n",
        "        feature_vec = np.divide(feature_vec, len(doc_word_list))\n",
        "        document_vec[i] = feature_vec\n",
        "    return document_vec\n",
        "\n",
        "sentences = result_3\n",
        "sentences[0]\n",
        "\n",
        "X = avg_document_vector(data=sentences, num_features=300)\n",
        "X.shape\n",
        "\n",
        "\n",
        "data2 = pd.DataFrame(X)\n",
        "df_tweets_word2vec =  pd.concat([data, data2], axis=1)\n",
        "\n",
        "df_tweets_word2vec.to_csv(\"price_tweets_vector.csv\", index=False)\n",
        "\n",
        "#ツイートのベクトルを1日毎に平均にする（1日10ツイートだった場合ベクトルと足し合わせ10で割る）\n",
        "# groupby #https://qiita.com/propella/items/a9a32b878c77222630ae\n",
        "df = df_tweets_word2vec.groupby([\"date\"]).mean()\n",
        "\n",
        "\n",
        "# targetのcolである変化率（\"price\"の差分対数行列）をdateをKeyに内部結合する\n",
        "df_sp = pd.read_csv(\"/content/sp500-10-year-daily-chart.csv\")\n",
        "\n",
        "# 時系列データの差分を求める\n",
        "\n",
        "# \" value\"の行を対数化\n",
        "# https://www.sejuku.net/blog/70027\n",
        "df_sp[\"log\"] = np.log(df_sp[\" value\"])\n",
        "\n",
        "# \"log\"の1日前との差を取って、差分対数の列を作成\n",
        "# https://note.nkmk.me/python-pandas-diff-pct-change/\n",
        "df_sp[\"dif_log\"] = df_sp[\"log\"].diff()\n",
        "\n",
        "#内部結合\n",
        "df2=pd.merge(df_sp, df, how=\"inner\" ,on=\"date\")\n",
        "df2 = df2.drop(\" value\", axis=1)\n",
        "\n",
        "# groupbyを使って1日のツイート数も特徴量に加える\n",
        "# https://deepage.net/features/pandas-count.html\n",
        "df3 = df_tweets_word2vec[[\"date\",\"text\"]]\n",
        "df3 = df3.groupby([\"date\"]).count()\n",
        "\n",
        "#内部結合\n",
        "df4 = pd.merge( df3, df2, how=\"inner\" ,on=\"date\")\n",
        "\n",
        "#曜日を取得\n",
        "df4['day_of_week'] = pd.to_datetime(df4['date']).dt.day_name()\n",
        "\n",
        "date_for_result = df4[\"date\"]\n",
        "\n",
        "#日付データの形を変える\n",
        "df4[\"date\"] = pd.to_datetime(df4['date']).astype('int64')\n",
        "\n",
        "\n",
        "dummy_df = pd.get_dummies(df4[['day_of_week']], drop_first = False) \n",
        "df4 = pd.merge(df4, dummy_df, left_index=True, right_index=True)"
      ],
      "execution_count": 54,
      "outputs": [
        {
          "output_type": "stream",
          "text": [
            "2020/05/02 - 2020/05/31のツイート数は 620\n",
            "620 tweets\n"
          ],
          "name": "stdout"
        },
        {
          "output_type": "stream",
          "text": [
            "/usr/local/lib/python3.6/dist-packages/smart_open/smart_open_lib.py:253: UserWarning: This function is deprecated, use smart_open.open instead. See the migration notes for details: https://github.com/RaRe-Technologies/smart_open/blob/master/README.rst#migrating-to-the-new-open-function\n",
            "  'See the migration notes for details: %s' % _MIGRATION_NOTES_URL\n",
            "/usr/local/lib/python3.6/dist-packages/ipykernel_launcher.py:104: RuntimeWarning: invalid value encountered in true_divide\n"
          ],
          "name": "stderr"
        }
      ]
    },
    {
      "cell_type": "code",
      "metadata": {
        "id": "glrNj7NOn0-e",
        "colab_type": "code",
        "colab": {
          "base_uri": "https://localhost:8080/",
          "height": 350
        },
        "outputId": "ddc728cc-ba51-4179-95c5-f3589267d7f9"
      },
      "source": [
        "#特徴量とターゲットを決める\n",
        "from sklearn.model_selection import train_test_split\n",
        "\n",
        "target_col = 'dif_log'\n",
        "exclude_cols = ['log', 'price', 'dif_log', \"date\",\"text\",\"day_of_week\"]\n",
        "feature_cols = []\n",
        "for col in df4.columns:\n",
        "    if col not in exclude_cols:\n",
        "        feature_cols.append(col)\n",
        "        \n",
        "X = np.array(df4[feature_cols])\n",
        "y = np.array(df4[target_col])\n",
        "\n",
        "from sklearn.externals import joblib\n",
        "import pickle\n",
        "\n",
        "files = [(\"Linear Regression\",'/content/lm_model.sav'),(\"Decision Tree\",'/content/dt_model.sav'),(\"Random Forest\",'/content/rf_model.sav'),(\"Random Forest Best\",'/content/rf_best_model.sav'),(\"Lasso\",\"/content/ls_model.sav\")]\n",
        "df_result = pd.DataFrame(df4[\"dif_log\"])\n",
        "\n",
        "for i,(name,filename) in enumerate(files):\n",
        "  loaded_model = pickle.load(open(filename, 'rb'))\n",
        "  y_pred = loaded_model.predict(X)\n",
        "  mse = mean_squared_error(y, y_pred)\n",
        "  df_result[name] = y_pred\n",
        "  print(name+\"　: RMSE\", round(np.sqrt(mse), 3))\n",
        "  plt.plot(df_result[name])\n",
        "plt.plot(df_result[\"dif_log\"])\n",
        "\n",
        "plt.show()"
      ],
      "execution_count": 55,
      "outputs": [
        {
          "output_type": "stream",
          "text": [
            "Linear Regression　: RMSE 0.026\n",
            "Decision Tree　: RMSE 0.022\n",
            "Random Forest　: RMSE 0.014\n",
            "Random Forest Best　: RMSE 0.014\n",
            "Lasso　: RMSE 0.014\n"
          ],
          "name": "stdout"
        },
        {
          "output_type": "display_data",
          "data": {
            "image/png": "[encoded data removed]",
            "text/plain": [
              "<Figure size 432x288 with 1 Axes>"
            ]
          },
          "metadata": {
            "tags": [],
            "needs_background": "light"
          }
        }
      ]
    },
    {
      "cell_type": "code",
      "metadata": {
        "id": "-mOCmSGdoX3T",
        "colab_type": "code",
        "colab": {
          "base_uri": "https://localhost:8080/",
          "height": 379
        },
        "outputId": "a0f42e6f-273a-4d08-85a2-30d9b4e1d89d"
      },
      "source": [
        "fig = plt.figure(figsize=(8,4),dpi=100)\n",
        "rf = plt.plot(df_result[\"Random Forest\"])\n",
        "rf_b =plt.plot(df_result[\"Random Forest Best\"])\n",
        "ls =plt.plot(df_result[\"Lasso\"])\n",
        "sp = plt.plot(df_result[\"dif_log\"])\n",
        "plt.legend((rf[0], rf_b[0],ls[0],sp[0]), (\"Random Forest\", \"Random Forest Best\", \"Lasso\",\"Historical Difference\"), loc=2)"
      ],
      "execution_count": 56,
      "outputs": [
        {
          "output_type": "execute_result",
          "data": {
            "text/plain": [
              "<matplotlib.legend.Legend at 0x7f27a73a1b00>"
            ]
          },
          "metadata": {
            "tags": []
          },
          "execution_count": 56
        },
        {
          "output_type": "display_data",
          "data": {
            "image/png": "[encoded data removed]",
            "text/plain": [
              "<Figure size 800x400 with 1 Axes>"
            ]
          },
          "metadata": {
            "tags": [],
            "needs_background": "light"
          }
        }
      ]
    },
    {
      "cell_type": "code",
      "metadata": {
        "id": "pcp2tIVEfTGo",
        "colab_type": "code",
        "colab": {}
      },
      "source": [
        "#上手くいってない\n",
        "#分析6 Doc2Vecでツイートをクラスタリングする①\n",
        "#https://qiita.com/g-k/items/5ea94c13281f675302ca\n",
        "\n",
        "#from gensim.models.doc2vec import Doc2Vec, TaggedDocument\n",
        "#from gensim import models\n",
        "\n",
        "#documents = [TaggedDocument(doc, [i]) for i, doc in enumerate(sentences)]\n",
        "#model = Doc2Vec(documents, vector_size=300, window=5, min_count=1, workers=4)\n",
        "#model.save(\"doc2_w2v.model\")"
      ],
      "execution_count": 0,
      "outputs": []
    },
    {
      "cell_type": "code",
      "metadata": {
        "id": "Ge2VGRbHfTGr",
        "colab_type": "code",
        "colab": {}
      },
      "source": [
        "#上手くいってない\n",
        "#分析6 Doc2Vecでツイートをクラスタリングする②\n",
        "#https://qiita.com/naotaka1128/items/e617f63907fed035408a\n",
        "\n",
        "#model = models.Doc2Vec.load('/content/doc2_w2v.model')\n",
        "\n",
        "from sklearn.decomposition import PCA\n",
        "import matplotlib.pyplot as plt\n",
        "\n",
        "def draw_word_scatter(word, topn=30):\n",
        "    \"\"\" 入力されたwordに似ている単語の分布図を描くためのメソッド \"\"\"\n",
        "\n",
        "    # 似ている単語を求めるためにはGensim word2vecの以下の機能を利用\n",
        "    # model.most_similar(word, topn=topn)\n",
        "    words = [x[0] for x in sorted(model.most_similar(word, topn=topn))]\n",
        "    words.append(word)\n",
        "\n",
        "    # 各単語のベクトル表現を求めます。Gensimのmost_similarをベースとして\n",
        "    # 単語のベクトルを返すメソッド(model.calc_vec)を定義しています\n",
        "    # 長くなるので実装は本稿の末尾に記載しました。\n",
        "    vecs = [model.calc_vec(word) for word in words]\n",
        "\n",
        "    # 分布図\n",
        "    draw_scatter_plot(vecs, words)\n",
        "\n",
        "def draw_scatter_plot(vecs, tags, clusters):\n",
        "    \"\"\" 入力されたベクトルに基づき散布図(ラベル付き)を描くためのメソッド \"\"\"\n",
        "\n",
        "    # Scikit-learnのPCAによる次元削減とその可視化\n",
        "    pca = PCA(n_components=2)\n",
        "    coords = pca.fit_transform(vecs)\n",
        "\n",
        "    # matplotlibによる可視化\n",
        "    fig, ax = plt.subplots()\n",
        "    x = [v[0] for v in coords]\n",
        "    y = [v[1] for v in coords]\n",
        "\n",
        "    # 各点のクラスターが設定されていればクラスタを考慮\n",
        "    # エラーハンドリングは適当\n",
        "    if clusters:\n",
        "        ax.scatter(x, y, c=clusters)\n",
        "    else:\n",
        "        ax.scatter(x, y)\n",
        "\n",
        "    for i, txt in enumerate(tags):\n",
        "        ax.annotate(txt, (coords[i][0], coords[i][1]))\n",
        "    plt.show()\n",
        "    \n",
        "#draw_word_scatter('coronavirus', topn=40)"
      ],
      "execution_count": 0,
      "outputs": []
    },
    {
      "cell_type": "code",
      "metadata": {
        "id": "o9aiwySJh-Kg",
        "colab_type": "code",
        "colab": {}
      },
      "source": [
        "#　まだできていない\n",
        "# モデルの精度を確認する\n",
        "# https://note.com/uki_profit/n/nab22a04262f9"
      ],
      "execution_count": 0,
      "outputs": []
    },
    {
      "cell_type": "code",
      "metadata": {
        "id": "Rc2BiUt2ikqY",
        "colab_type": "code",
        "colab": {}
      },
      "source": [
        "#分析２　決定木　描画\n",
        "\n",
        "#$ brew install graphviz\n",
        "\n",
        "#from sklearn.tree import export_graphviz\n",
        "#export_graphviz(regressor, out_file='tree.dot', feature_names=['nth', 'holiday'])\n",
        "\n",
        "#$ dot -Tpng tree.dot -o tree.png"
      ],
      "execution_count": 0,
      "outputs": []
    }
  ]
}