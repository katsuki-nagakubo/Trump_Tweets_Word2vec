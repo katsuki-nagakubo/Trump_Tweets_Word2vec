{
  "nbformat": 4,
  "nbformat_minor": 0,
  "metadata": {
    "kernelspec": {
      "display_name": "Python 3",
      "language": "python",
      "name": "python3"
    },
    "language_info": {
      "codemirror_mode": {
        "name": "ipython",
        "version": 3
      },
      "file_extension": ".py",
      "mimetype": "text/x-python",
      "name": "python",
      "nbconvert_exporter": "python",
      "pygments_lexer": "ipython3",
      "version": "3.7.4"
    },
    "colab": {
      "name": "trump_tweets_s&p500_relation.ipynb ",
      "provenance": [],
      "collapsed_sections": [],
      "include_colab_link": true
    }
  },
  "cells": [
    {
      "cell_type": "markdown",
      "metadata": {
        "id": "view-in-github",
        "colab_type": "text"
      },
      "source": [
        "<a href=\"https://colab.research.google.com/github/katsuki-nagakubo/Tweets_Word2vec/blob/master/trump_tweets_s%26p500_relation.ipynb\" target=\"_parent\"><img src=\"https://colab.research.google.com/assets/colab-badge.svg\" alt=\"Open In Colab\"/></a>"
      ]
    },
    {
      "cell_type": "code",
      "metadata": {
        "id": "5TBDVbUQfTEM",
        "colab_type": "code",
        "colab": {}
      },
      "source": [
        "#データの取得と成形\n",
        "\n",
        "import pandas as pd\n",
        "import numpy as np\n",
        "import matplotlib.pyplot as plt "
      ],
      "execution_count": 0,
      "outputs": []
    },
    {
      "cell_type": "code",
      "metadata": {
        "id": "0etwSm9DfTEU",
        "colab_type": "code",
        "outputId": "a7bdc82e-a7b0-49f6-b41f-59fb1f676b11",
        "colab": {
          "base_uri": "https://localhost:8080/",
          "height": 34
        }
      },
      "source": [
        "#https://teratail.com/questions/128725\n",
        "\n",
        "from ast import literal_eval\n",
        "from pprint import pprint\n",
        "\n",
        "f = open('/content/trump_tweets.txt', 'r')\n",
        "text = f.read()\n",
        "mylist = literal_eval(text)\n",
        "\n",
        "print(type(mylist), type(mylist[0]))"
      ],
      "execution_count": 2,
      "outputs": [
        {
          "output_type": "stream",
          "text": [
            "<class 'list'> <class 'dict'>\n"
          ],
          "name": "stdout"
        }
      ]
    },
    {
      "cell_type": "code",
      "metadata": {
        "id": "e2D_Z2KUfTEY",
        "colab_type": "code",
        "outputId": "2e7fbe9e-8b14-4a65-8666-9fb741cbe16f",
        "colab": {
          "base_uri": "https://localhost:8080/",
          "height": 34
        }
      },
      "source": [
        "df_text=[]\n",
        "df_created_at=[]\n",
        "df_id_str=[]\n",
        "\n",
        "print(len(mylist),\"tweets\")\n",
        "\n",
        "for i in range(len(mylist)):\n",
        "    text = mylist[i][\"text\"]\n",
        "    created_at = mylist[i][\"created_at\"]\n",
        "    id_str = mylist[i][\"id_str\"]\n",
        "    df_text.append(text)\n",
        "    df_created_at.append(created_at)\n",
        "    df_id_str.append(id_str)\n",
        "\n",
        "tweet_list=[df_created_at,df_id_str,df_text]\n",
        "#print(tweet_list)"
      ],
      "execution_count": 3,
      "outputs": [
        {
          "output_type": "stream",
          "text": [
            "17544 tweets\n"
          ],
          "name": "stdout"
        }
      ]
    },
    {
      "cell_type": "code",
      "metadata": {
        "id": "FfVe8YhPfTEc",
        "colab_type": "code",
        "colab": {}
      },
      "source": [
        "#https://ai-inter1.com/pandas-dataframe_basic/\n",
        "#リスト型にしたデータをPandasでDataFrameにした\n",
        "\n",
        "columns1=[\"created_at\"]\n",
        "tweet_data = pd.DataFrame( data = df_created_at, columns = columns1)\n",
        "tweet_data[\"id\"]=df_id_str\n",
        "tweet_data[\"text\"] = df_text"
      ],
      "execution_count": 0,
      "outputs": []
    },
    {
      "cell_type": "code",
      "metadata": {
        "id": "njrdAvuzfTEf",
        "colab_type": "code",
        "colab": {}
      },
      "source": [
        "#https://teratail.com/questions/132333\n",
        "#https://note.nkmk.me/python-pandas-datetime-timestamp/\n",
        "\n",
        "tweet_data[\"time_created_at\"] = pd.to_datetime(tweet_data['created_at'])\n",
        "tweet_data[\"date_created_at\"] = tweet_data[\"time_created_at\"].dt.date\n",
        "tweet_data[\"key\"]=pd.to_datetime(tweet_data[\"date_created_at\"])"
      ],
      "execution_count": 0,
      "outputs": []
    },
    {
      "cell_type": "code",
      "metadata": {
        "id": "iZi3fq8nfTEj",
        "colab_type": "code",
        "colab": {}
      },
      "source": [
        "# https://www.macrotrends.net/2488/sp500-10-year-daily-chart\n",
        "\n",
        "sp_data = pd.read_csv('/content/sp500-10-year-daily-chart.csv')\n",
        "sp_data[\"date_64\"] = pd.to_datetime(sp_data[\"date\"])\n",
        "sp_data[\"key\"] =sp_data[\"date_64\"] "
      ],
      "execution_count": 0,
      "outputs": []
    },
    {
      "cell_type": "code",
      "metadata": {
        "id": "Lb8q3TCTfTEn",
        "colab_type": "code",
        "outputId": "597e5a90-fa13-420d-9e2f-d44d00ecb597",
        "colab": {
          "base_uri": "https://localhost:8080/",
          "height": 204
        }
      },
      "source": [
        "#内部結合\n",
        "#http://pppurple.hatenablog.com/entry/2016/06/27/022310#inner-join\n",
        "#https://note.nkmk.me/python-pandas-merge-join/\n",
        "\n",
        "tweet_data=pd.merge(tweet_data, sp_data)\n",
        "tweet_data.columns\n",
        "data = tweet_data[[\"key\",\" value\",\"text\"]]\n",
        "\n",
        "#行の名前を変更する　20200505\n",
        "data = data.rename(columns={\"key\": \"date\",\" value\":\"price\"})\n",
        "data.head()"
      ],
      "execution_count": 7,
      "outputs": [
        {
          "output_type": "execute_result",
          "data": {
            "text/html": [
              "<div>\n",
              "<style scoped>\n",
              "    .dataframe tbody tr th:only-of-type {\n",
              "        vertical-align: middle;\n",
              "    }\n",
              "\n",
              "    .dataframe tbody tr th {\n",
              "        vertical-align: top;\n",
              "    }\n",
              "\n",
              "    .dataframe thead th {\n",
              "        text-align: right;\n",
              "    }\n",
              "</style>\n",
              "<table border=\"1\" class=\"dataframe\">\n",
              "  <thead>\n",
              "    <tr style=\"text-align: right;\">\n",
              "      <th></th>\n",
              "      <th>date</th>\n",
              "      <th>price</th>\n",
              "      <th>text</th>\n",
              "    </tr>\n",
              "  </thead>\n",
              "  <tbody>\n",
              "    <tr>\n",
              "      <th>0</th>\n",
              "      <td>2020-05-01</td>\n",
              "      <td>2830.71</td>\n",
              "      <td>RT @StevenTDennis: Trump gets bump in latest G...</td>\n",
              "    </tr>\n",
              "    <tr>\n",
              "      <th>1</th>\n",
              "      <td>2020-05-01</td>\n",
              "      <td>2830.71</td>\n",
              "      <td>The Governor of Michigan should give a little,...</td>\n",
              "    </tr>\n",
              "    <tr>\n",
              "      <th>2</th>\n",
              "      <td>2020-05-01</td>\n",
              "      <td>2830.71</td>\n",
              "      <td>Cryin Chuck Schumer, compared to what other Se...</td>\n",
              "    </tr>\n",
              "    <tr>\n",
              "      <th>3</th>\n",
              "      <td>2020-05-01</td>\n",
              "      <td>2830.71</td>\n",
              "      <td>Cryin’ Chuck Schumer was on a late night show ...</td>\n",
              "    </tr>\n",
              "    <tr>\n",
              "      <th>4</th>\n",
              "      <td>2020-05-01</td>\n",
              "      <td>2830.71</td>\n",
              "      <td>RT @TeamTrump: President @realDonaldTrump: “We...</td>\n",
              "    </tr>\n",
              "  </tbody>\n",
              "</table>\n",
              "</div>"
            ],
            "text/plain": [
              "        date    price                                               text\n",
              "0 2020-05-01  2830.71  RT @StevenTDennis: Trump gets bump in latest G...\n",
              "1 2020-05-01  2830.71  The Governor of Michigan should give a little,...\n",
              "2 2020-05-01  2830.71  Cryin Chuck Schumer, compared to what other Se...\n",
              "3 2020-05-01  2830.71  Cryin’ Chuck Schumer was on a late night show ...\n",
              "4 2020-05-01  2830.71  RT @TeamTrump: President @realDonaldTrump: “We..."
            ]
          },
          "metadata": {
            "tags": []
          },
          "execution_count": 7
        }
      ]
    },
    {
      "cell_type": "code",
      "metadata": {
        "id": "RbtHgL9gfTEr",
        "colab_type": "code",
        "outputId": "57a9a0b4-f1af-4e69-8de1-32070a740663",
        "colab": {
          "base_uri": "https://localhost:8080/",
          "height": 34
        }
      },
      "source": [
        "# trumpが大統領になった2017年1月20日から、GW前2020年5月1日までのデータを分析する\n",
        "# https://qiita.com/mSpring/items/6ec1ab28dcb261db2c73\n",
        "\n",
        "import datetime as dt\n",
        "data2 = data[(data['date'] >= dt.datetime(2017,1,20)) & (data['date'] <= dt.datetime(2020,5,1))]\n",
        "print( \"2017/01/20 - 2020/05/01のツイート数は\", len(data2))"
      ],
      "execution_count": 8,
      "outputs": [
        {
          "output_type": "stream",
          "text": [
            "2017/01/20 - 2020/05/01のツイート数は 12259\n"
          ],
          "name": "stdout"
        }
      ]
    },
    {
      "cell_type": "code",
      "metadata": {
        "id": "5uWu1eYpfTEv",
        "colab_type": "code",
        "colab": {}
      },
      "source": [
        "#新しいデータを追加すると上書き保存されるようにmode=\"a\"にした。\n",
        "\n",
        "#初回だけ,headerはTrue\n",
        "data2.to_csv(\"s&p_tweets.csv\", index=False, mode='a', header=True)\n",
        "#2回目以降はFalse\n",
        "#data2.to_csv(\"s&p_tweets.csv\", index=False, mode='a', header=False)"
      ],
      "execution_count": 0,
      "outputs": []
    },
    {
      "cell_type": "code",
      "metadata": {
        "id": "nJcHtQApfTEy",
        "colab_type": "code",
        "outputId": "0be1480a-4092-41be-95eb-ceb1112b676a",
        "colab": {
          "base_uri": "https://localhost:8080/",
          "height": 34
        }
      },
      "source": [
        "# Fileを読み込むことで最新のデータで分析できる\n",
        "\n",
        "data = pd.read_csv(\"s&p_tweets.csv\")\n",
        "print( len(data),\"tweets\")"
      ],
      "execution_count": 10,
      "outputs": [
        {
          "output_type": "stream",
          "text": [
            "12259 tweets\n"
          ],
          "name": "stdout"
        }
      ]
    },
    {
      "cell_type": "code",
      "metadata": {
        "id": "UK-gdwmxfTE1",
        "colab_type": "code",
        "outputId": "78f4f4ae-9225-49fc-cc15-c91cb56d4b0a",
        "colab": {
          "base_uri": "https://localhost:8080/",
          "height": 88
        }
      },
      "source": [
        "#形態素解析\n",
        "#https://yottagin.com/?p=4360\n",
        "\n",
        "import nltk\n",
        "nltk.download('stopwords')\n",
        "\n",
        "tweet_tokenizer = nltk.tokenize.TweetTokenizer(preserve_case=False, strip_handles=True, reduce_len=True)\n",
        "for tweet in data[\"text\"][:1]:\n",
        "    print (tweet_tokenizer.tokenize(tweet))"
      ],
      "execution_count": 11,
      "outputs": [
        {
          "output_type": "stream",
          "text": [
            "[nltk_data] Downloading package stopwords to /root/nltk_data...\n",
            "[nltk_data]   Unzipping corpora/stopwords.zip.\n",
            "['rt', ':', 'trump', 'gets', 'bump', 'in', 'latest', 'gallup', 'poll', ':', '49', '%', 'approval', '(', '+', '6', ',', 'tied', 'for', 'his', 'best', ')', '47', '%', 'disapproval', '(', '-', '7', ')']\n"
          ],
          "name": "stdout"
        }
      ]
    },
    {
      "cell_type": "code",
      "metadata": {
        "id": "DrfyzDEAfTE6",
        "colab_type": "code",
        "outputId": "6c03976d-fc6f-40eb-9804-46332ba8c9ab",
        "colab": {
          "base_uri": "https://localhost:8080/",
          "height": 323
        }
      },
      "source": [
        "words = []\n",
        "for tweet in data[\"text\"]:\n",
        "    words += tweet_tokenizer.tokenize(tweet)\n",
        "\n",
        "fdist = nltk.FreqDist(words)\n",
        "fdist.plot(50)"
      ],
      "execution_count": 12,
      "outputs": [
        {
          "output_type": "display_data",
          "data": {
            "image/png": "[encoded data removed]",
            "text/plain": [
              "<Figure size 432x288 with 1 Axes>"
            ]
          },
          "metadata": {
            "tags": [],
            "needs_background": "light"
          }
        }
      ]
    },
    {
      "cell_type": "code",
      "metadata": {
        "id": "5VLnPp6vfTE-",
        "colab_type": "code",
        "outputId": "a6d93ec7-6964-4376-8674-3c7cfba9c76f",
        "colab": {
          "base_uri": "https://localhost:8080/",
          "height": 359
        }
      },
      "source": [
        "#高頻度のツイートを表示\n",
        "df_fdist = pd.DataFrame(fdist.most_common(10), columns=['Word', 'Frequency'])\n",
        "df_fdist"
      ],
      "execution_count": 13,
      "outputs": [
        {
          "output_type": "execute_result",
          "data": {
            "text/html": [
              "<div>\n",
              "<style scoped>\n",
              "    .dataframe tbody tr th:only-of-type {\n",
              "        vertical-align: middle;\n",
              "    }\n",
              "\n",
              "    .dataframe tbody tr th {\n",
              "        vertical-align: top;\n",
              "    }\n",
              "\n",
              "    .dataframe thead th {\n",
              "        text-align: right;\n",
              "    }\n",
              "</style>\n",
              "<table border=\"1\" class=\"dataframe\">\n",
              "  <thead>\n",
              "    <tr style=\"text-align: right;\">\n",
              "      <th></th>\n",
              "      <th>Word</th>\n",
              "      <th>Frequency</th>\n",
              "    </tr>\n",
              "  </thead>\n",
              "  <tbody>\n",
              "    <tr>\n",
              "      <th>0</th>\n",
              "      <td>the</td>\n",
              "      <td>15504</td>\n",
              "    </tr>\n",
              "    <tr>\n",
              "      <th>1</th>\n",
              "      <td>.</td>\n",
              "      <td>14634</td>\n",
              "    </tr>\n",
              "    <tr>\n",
              "      <th>2</th>\n",
              "      <td>,</td>\n",
              "      <td>14156</td>\n",
              "    </tr>\n",
              "    <tr>\n",
              "      <th>3</th>\n",
              "      <td>to</td>\n",
              "      <td>8172</td>\n",
              "    </tr>\n",
              "    <tr>\n",
              "      <th>4</th>\n",
              "      <td>!</td>\n",
              "      <td>7343</td>\n",
              "    </tr>\n",
              "    <tr>\n",
              "      <th>5</th>\n",
              "      <td>and</td>\n",
              "      <td>7289</td>\n",
              "    </tr>\n",
              "    <tr>\n",
              "      <th>6</th>\n",
              "      <td>of</td>\n",
              "      <td>6165</td>\n",
              "    </tr>\n",
              "    <tr>\n",
              "      <th>7</th>\n",
              "      <td>a</td>\n",
              "      <td>5419</td>\n",
              "    </tr>\n",
              "    <tr>\n",
              "      <th>8</th>\n",
              "      <td>:</td>\n",
              "      <td>4870</td>\n",
              "    </tr>\n",
              "    <tr>\n",
              "      <th>9</th>\n",
              "      <td>in</td>\n",
              "      <td>4507</td>\n",
              "    </tr>\n",
              "  </tbody>\n",
              "</table>\n",
              "</div>"
            ],
            "text/plain": [
              "  Word  Frequency\n",
              "0  the      15504\n",
              "1    .      14634\n",
              "2    ,      14156\n",
              "3   to       8172\n",
              "4    !       7343\n",
              "5  and       7289\n",
              "6   of       6165\n",
              "7    a       5419\n",
              "8    :       4870\n",
              "9   in       4507"
            ]
          },
          "metadata": {
            "tags": []
          },
          "execution_count": 13
        }
      ]
    },
    {
      "cell_type": "code",
      "metadata": {
        "id": "IvFoQ0TrfTFG",
        "colab_type": "code",
        "colab": {}
      },
      "source": [
        "#tokenにする\n",
        "import re\n",
        "import string\n",
        "\n",
        "stemmer = nltk.stem.PorterStemmer()\n",
        "punctuations = string.punctuation\n",
        "all_tweets_clean = []\n",
        "\n",
        "#Tweet毎にリスト形式で保存するための加工\n",
        "result=[]\n",
        "\n",
        "for tweet in data[\"text\"]:\n",
        "    # RTから始まる部分を取り除く。\n",
        "    tweet = re.sub(r'^RT[\\s]+', '', tweet)\n",
        "    # リンクを取り除く。\n",
        "    tweet = re.sub(r'(http|https):\\/\\/.*[\\r\\n]*', '', tweet)\n",
        "    # ハッシュタグを取り除く。\n",
        "    tweet = re.sub(r'#', '', tweet)\n",
        "    # 句読点の削除\n",
        "    tweet = tweet.translate(str.maketrans('', '', string.punctuation)) \n",
        "    # 単語に分解する。\n",
        "    tokenizer = nltk.tokenize.TweetTokenizer(preserve_case=False, strip_handles=True, reduce_len=True)\n",
        "    tweet_tokens = tokenizer.tokenize(tweet)\n",
        "    result.append(tweet_tokens)"
      ],
      "execution_count": 0,
      "outputs": []
    },
    {
      "cell_type": "code",
      "metadata": {
        "id": "jGskML9PfTFK",
        "colab_type": "code",
        "colab": {}
      },
      "source": [
        "stopwords = nltk.corpus.stopwords.words('english')\n",
        "stop_words = [\"→\", \"←\", \"?\", \"」\", \"「\",\"(\",\")\",\"!\",\".\",\",\",\"&\",\"…\",\"%\",\":\",\";\",\"“\"]\n",
        "stopwords += stop_words\n",
        "\n",
        "#print(stopwords)\n",
        "\n",
        "result_2=[]\n",
        "result_3=[]\n",
        "for i in range(len(result)):\n",
        "    for word in result[i]:\n",
        "        if word not in stopwords:\n",
        "            result_2.append(word)\n",
        "    result_3.append(result_2)\n",
        "    result_2=[]"
      ],
      "execution_count": 0,
      "outputs": []
    },
    {
      "cell_type": "code",
      "metadata": {
        "id": "wL2ASq-gfTFO",
        "colab_type": "code",
        "colab": {}
      },
      "source": [
        "#Word2Vec\n",
        "\n",
        "from gensim.models import word2vec"
      ],
      "execution_count": 0,
      "outputs": []
    },
    {
      "cell_type": "code",
      "metadata": {
        "id": "6Ov0af7rfTFQ",
        "colab_type": "code",
        "outputId": "aefa07d7-d4b3-4e00-ee79-94f3f9b5ad1a",
        "colab": {
          "base_uri": "https://localhost:8080/",
          "height": 272
        }
      },
      "source": [
        "# 対象データをLinseSentence(one sentence = one lineとして扱う)で読み込む\n",
        "\n",
        "sentences = result_3\n",
        "sentences[0]"
      ],
      "execution_count": 17,
      "outputs": [
        {
          "output_type": "execute_result",
          "data": {
            "text/plain": [
              "['steventdennis',\n",
              " 'trump',\n",
              " 'gets',\n",
              " 'bump',\n",
              " 'latest',\n",
              " 'gallup',\n",
              " 'poll',\n",
              " '49',\n",
              " 'approval',\n",
              " '6',\n",
              " 'tied',\n",
              " 'best',\n",
              " '47',\n",
              " 'disapproval',\n",
              " '7']"
            ]
          },
          "metadata": {
            "tags": []
          },
          "execution_count": 17
        }
      ]
    },
    {
      "cell_type": "code",
      "metadata": {
        "id": "9u7fFXncfTFU",
        "colab_type": "code",
        "colab": {}
      },
      "source": [
        "# skip-gramモデルの学習\n",
        "skipgram_model = word2vec.Word2Vec(sentences,\n",
        "                                   sg=1,\n",
        "                                   size=300,\n",
        "                                   min_count=10,\n",
        "                                   window=15, seed=1234)"
      ],
      "execution_count": 0,
      "outputs": []
    },
    {
      "cell_type": "code",
      "metadata": {
        "id": "akHH47YRfTFZ",
        "colab_type": "code",
        "outputId": "3010f895-09ce-41d1-8e2e-a28f222042ed",
        "colab": {
          "base_uri": "https://localhost:8080/",
          "height": 71
        }
      },
      "source": [
        "# 作成したモデルの保存\n",
        "skipgram_model.save(\"skipgram_w2v.model\")\n",
        "# saveしたモデルを読み込む時は\n",
        "#skipgram_model = word2vec.Word2Vec.load(\"skipgram_w2v.model\")"
      ],
      "execution_count": 19,
      "outputs": [
        {
          "output_type": "stream",
          "text": [
            "/usr/local/lib/python3.6/dist-packages/smart_open/smart_open_lib.py:253: UserWarning: This function is deprecated, use smart_open.open instead. See the migration notes for details: https://github.com/RaRe-Technologies/smart_open/blob/master/README.rst#migrating-to-the-new-open-function\n",
            "  'See the migration notes for details: %s' % _MIGRATION_NOTES_URL\n"
          ],
          "name": "stderr"
        }
      ]
    },
    {
      "cell_type": "code",
      "metadata": {
        "id": "ZAO8SIE_fTFc",
        "colab_type": "code",
        "outputId": "db8e1196-ff79-46d0-904b-92f32e23fc46",
        "colab": {
          "base_uri": "https://localhost:8080/",
          "height": 413
        }
      },
      "source": [
        "# coronavirusと似たキーワードを見つけていきます。\n",
        "# ここで記載しているscoreは、単語同士のコサイン類似度です。\n",
        "pd.DataFrame(skipgram_model.wv.most_similar(\n",
        "    positive=[\"coronavirus\"]), columns=[\"keyword\", \"score\"])"
      ],
      "execution_count": 20,
      "outputs": [
        {
          "output_type": "stream",
          "text": [
            "/usr/local/lib/python3.6/dist-packages/gensim/matutils.py:737: FutureWarning: Conversion of the second argument of issubdtype from `int` to `np.signedinteger` is deprecated. In future, it will be treated as `np.int64 == np.dtype(int).type`.\n",
            "  if np.issubdtype(vec.dtype, np.int):\n"
          ],
          "name": "stderr"
        },
        {
          "output_type": "execute_result",
          "data": {
            "text/html": [
              "<div>\n",
              "<style scoped>\n",
              "    .dataframe tbody tr th:only-of-type {\n",
              "        vertical-align: middle;\n",
              "    }\n",
              "\n",
              "    .dataframe tbody tr th {\n",
              "        vertical-align: top;\n",
              "    }\n",
              "\n",
              "    .dataframe thead th {\n",
              "        text-align: right;\n",
              "    }\n",
              "</style>\n",
              "<table border=\"1\" class=\"dataframe\">\n",
              "  <thead>\n",
              "    <tr style=\"text-align: right;\">\n",
              "      <th></th>\n",
              "      <th>keyword</th>\n",
              "      <th>score</th>\n",
              "    </tr>\n",
              "  </thead>\n",
              "  <tbody>\n",
              "    <tr>\n",
              "      <th>0</th>\n",
              "      <td>task</td>\n",
              "      <td>0.836699</td>\n",
              "    </tr>\n",
              "    <tr>\n",
              "      <th>1</th>\n",
              "      <td>covid</td>\n",
              "      <td>0.826432</td>\n",
              "    </tr>\n",
              "    <tr>\n",
              "      <th>2</th>\n",
              "      <td>spread</td>\n",
              "      <td>0.820856</td>\n",
              "    </tr>\n",
              "    <tr>\n",
              "      <th>3</th>\n",
              "      <td>response</td>\n",
              "      <td>0.814166</td>\n",
              "    </tr>\n",
              "    <tr>\n",
              "      <th>4</th>\n",
              "      <td>outbreak</td>\n",
              "      <td>0.802488</td>\n",
              "    </tr>\n",
              "    <tr>\n",
              "      <th>5</th>\n",
              "      <td>cdcgov</td>\n",
              "      <td>0.791928</td>\n",
              "    </tr>\n",
              "    <tr>\n",
              "      <th>6</th>\n",
              "      <td>force</td>\n",
              "      <td>0.785436</td>\n",
              "    </tr>\n",
              "    <tr>\n",
              "      <th>7</th>\n",
              "      <td>19</td>\n",
              "      <td>0.784676</td>\n",
              "    </tr>\n",
              "    <tr>\n",
              "      <th>8</th>\n",
              "      <td>briefing</td>\n",
              "      <td>0.781100</td>\n",
              "    </tr>\n",
              "    <tr>\n",
              "      <th>9</th>\n",
              "      <td>providing</td>\n",
              "      <td>0.761923</td>\n",
              "    </tr>\n",
              "  </tbody>\n",
              "</table>\n",
              "</div>"
            ],
            "text/plain": [
              "     keyword     score\n",
              "0       task  0.836699\n",
              "1      covid  0.826432\n",
              "2     spread  0.820856\n",
              "3   response  0.814166\n",
              "4   outbreak  0.802488\n",
              "5     cdcgov  0.791928\n",
              "6      force  0.785436\n",
              "7         19  0.784676\n",
              "8   briefing  0.781100\n",
              "9  providing  0.761923"
            ]
          },
          "metadata": {
            "tags": []
          },
          "execution_count": 20
        }
      ]
    },
    {
      "cell_type": "code",
      "metadata": {
        "id": "KfKYBXI_fTFf",
        "colab_type": "code",
        "colab": {}
      },
      "source": [
        "\"\"\"\n",
        "1. 抽出された各単語を、作成したword2Vecによってベクトル化\n",
        "2. 変換された各単語ベクトルの平均をとり、その結果得られたベクトルを記事のベクトルとする\n",
        "上記2ステップを実行する関数を作成\n",
        "\"\"\"\n",
        "\n",
        "num_features = 300\n",
        "\n",
        "\n",
        "def avg_document_vector(data, num_features):\n",
        "    document_vec = np.zeros((len(data), num_features))\n",
        "    for i, doc_word_list in enumerate(data):\n",
        "        feature_vec = np.zeros((num_features,), dtype=\"float32\")\n",
        "        for word in doc_word_list:\n",
        "            try:\n",
        "                feature_vec = np.add(\n",
        "                    feature_vec, skipgram_model.wv.__getitem__(word))\n",
        "            except:\n",
        "                pass\n",
        "\n",
        "        feature_vec = np.divide(feature_vec, len(doc_word_list))\n",
        "        document_vec[i] = feature_vec\n",
        "    return document_vec"
      ],
      "execution_count": 0,
      "outputs": []
    },
    {
      "cell_type": "code",
      "metadata": {
        "id": "gcoxgMvkfTFh",
        "colab_type": "code",
        "outputId": "a59198be-29b2-4e33-a07a-cce08ff702da",
        "colab": {
          "base_uri": "https://localhost:8080/",
          "height": 51
        }
      },
      "source": [
        "X = avg_document_vector(data=sentences, num_features=300)\n",
        "X.shape"
      ],
      "execution_count": 22,
      "outputs": [
        {
          "output_type": "stream",
          "text": [
            "/usr/local/lib/python3.6/dist-packages/ipykernel_launcher.py:21: RuntimeWarning: invalid value encountered in true_divide\n"
          ],
          "name": "stderr"
        },
        {
          "output_type": "execute_result",
          "data": {
            "text/plain": [
              "(12259, 300)"
            ]
          },
          "metadata": {
            "tags": []
          },
          "execution_count": 22
        }
      ]
    },
    {
      "cell_type": "code",
      "metadata": {
        "id": "PvVmeNp5fTFj",
        "colab_type": "code",
        "outputId": "88aee35d-c2ce-4e4e-d81f-ec0585d13149",
        "colab": {
          "base_uri": "https://localhost:8080/",
          "height": 474
        }
      },
      "source": [
        "# outer join\n",
        "data2 = pd.DataFrame(X)\n",
        "df_tweets_word2vec =  pd.concat([data, data2], axis=1)\n",
        "df_tweets_word2vec.head()"
      ],
      "execution_count": 23,
      "outputs": [
        {
          "output_type": "execute_result",
          "data": {
            "text/html": [
              "<div>\n",
              "<style scoped>\n",
              "    .dataframe tbody tr th:only-of-type {\n",
              "        vertical-align: middle;\n",
              "    }\n",
              "\n",
              "    .dataframe tbody tr th {\n",
              "        vertical-align: top;\n",
              "    }\n",
              "\n",
              "    .dataframe thead th {\n",
              "        text-align: right;\n",
              "    }\n",
              "</style>\n",
              "<table border=\"1\" class=\"dataframe\">\n",
              "  <thead>\n",
              "    <tr style=\"text-align: right;\">\n",
              "      <th></th>\n",
              "      <th>date</th>\n",
              "      <th>price</th>\n",
              "      <th>text</th>\n",
              "      <th>0</th>\n",
              "      <th>1</th>\n",
              "      <th>2</th>\n",
              "      <th>3</th>\n",
              "      <th>4</th>\n",
              "      <th>5</th>\n",
              "      <th>6</th>\n",
              "      <th>7</th>\n",
              "      <th>8</th>\n",
              "      <th>9</th>\n",
              "      <th>10</th>\n",
              "      <th>11</th>\n",
              "      <th>12</th>\n",
              "      <th>13</th>\n",
              "      <th>14</th>\n",
              "      <th>15</th>\n",
              "      <th>16</th>\n",
              "      <th>17</th>\n",
              "      <th>18</th>\n",
              "      <th>19</th>\n",
              "      <th>20</th>\n",
              "      <th>21</th>\n",
              "      <th>22</th>\n",
              "      <th>23</th>\n",
              "      <th>24</th>\n",
              "      <th>25</th>\n",
              "      <th>26</th>\n",
              "      <th>27</th>\n",
              "      <th>28</th>\n",
              "      <th>29</th>\n",
              "      <th>30</th>\n",
              "      <th>31</th>\n",
              "      <th>32</th>\n",
              "      <th>33</th>\n",
              "      <th>34</th>\n",
              "      <th>35</th>\n",
              "      <th>36</th>\n",
              "      <th>...</th>\n",
              "      <th>260</th>\n",
              "      <th>261</th>\n",
              "      <th>262</th>\n",
              "      <th>263</th>\n",
              "      <th>264</th>\n",
              "      <th>265</th>\n",
              "      <th>266</th>\n",
              "      <th>267</th>\n",
              "      <th>268</th>\n",
              "      <th>269</th>\n",
              "      <th>270</th>\n",
              "      <th>271</th>\n",
              "      <th>272</th>\n",
              "      <th>273</th>\n",
              "      <th>274</th>\n",
              "      <th>275</th>\n",
              "      <th>276</th>\n",
              "      <th>277</th>\n",
              "      <th>278</th>\n",
              "      <th>279</th>\n",
              "      <th>280</th>\n",
              "      <th>281</th>\n",
              "      <th>282</th>\n",
              "      <th>283</th>\n",
              "      <th>284</th>\n",
              "      <th>285</th>\n",
              "      <th>286</th>\n",
              "      <th>287</th>\n",
              "      <th>288</th>\n",
              "      <th>289</th>\n",
              "      <th>290</th>\n",
              "      <th>291</th>\n",
              "      <th>292</th>\n",
              "      <th>293</th>\n",
              "      <th>294</th>\n",
              "      <th>295</th>\n",
              "      <th>296</th>\n",
              "      <th>297</th>\n",
              "      <th>298</th>\n",
              "      <th>299</th>\n",
              "    </tr>\n",
              "  </thead>\n",
              "  <tbody>\n",
              "    <tr>\n",
              "      <th>0</th>\n",
              "      <td>2020-05-01</td>\n",
              "      <td>2830.71</td>\n",
              "      <td>RT @StevenTDennis: Trump gets bump in latest G...</td>\n",
              "      <td>-0.036767</td>\n",
              "      <td>0.021396</td>\n",
              "      <td>0.015288</td>\n",
              "      <td>0.034453</td>\n",
              "      <td>-0.052729</td>\n",
              "      <td>0.002335</td>\n",
              "      <td>0.080816</td>\n",
              "      <td>0.045532</td>\n",
              "      <td>0.070684</td>\n",
              "      <td>0.047131</td>\n",
              "      <td>0.063838</td>\n",
              "      <td>0.044308</td>\n",
              "      <td>0.120806</td>\n",
              "      <td>0.019047</td>\n",
              "      <td>-0.036300</td>\n",
              "      <td>0.002712</td>\n",
              "      <td>-0.045256</td>\n",
              "      <td>-0.037081</td>\n",
              "      <td>-0.059295</td>\n",
              "      <td>0.039007</td>\n",
              "      <td>-0.086139</td>\n",
              "      <td>-0.000210</td>\n",
              "      <td>-0.003222</td>\n",
              "      <td>0.008917</td>\n",
              "      <td>-0.022954</td>\n",
              "      <td>0.010042</td>\n",
              "      <td>-0.060440</td>\n",
              "      <td>-0.072157</td>\n",
              "      <td>0.003806</td>\n",
              "      <td>-0.087496</td>\n",
              "      <td>-0.057065</td>\n",
              "      <td>0.049698</td>\n",
              "      <td>0.035637</td>\n",
              "      <td>-0.005418</td>\n",
              "      <td>0.020407</td>\n",
              "      <td>0.014724</td>\n",
              "      <td>-0.036410</td>\n",
              "      <td>...</td>\n",
              "      <td>-0.033658</td>\n",
              "      <td>0.025675</td>\n",
              "      <td>-0.017975</td>\n",
              "      <td>-0.072556</td>\n",
              "      <td>0.004353</td>\n",
              "      <td>-0.045058</td>\n",
              "      <td>-0.069838</td>\n",
              "      <td>-0.000807</td>\n",
              "      <td>-0.045823</td>\n",
              "      <td>-0.079930</td>\n",
              "      <td>-0.002216</td>\n",
              "      <td>-0.006807</td>\n",
              "      <td>-0.123724</td>\n",
              "      <td>0.009089</td>\n",
              "      <td>-0.055317</td>\n",
              "      <td>-0.018380</td>\n",
              "      <td>-0.021726</td>\n",
              "      <td>0.033101</td>\n",
              "      <td>0.034362</td>\n",
              "      <td>-0.098400</td>\n",
              "      <td>-0.046125</td>\n",
              "      <td>0.022013</td>\n",
              "      <td>0.023473</td>\n",
              "      <td>0.076709</td>\n",
              "      <td>-0.059975</td>\n",
              "      <td>0.064046</td>\n",
              "      <td>0.033688</td>\n",
              "      <td>-0.048229</td>\n",
              "      <td>-0.069824</td>\n",
              "      <td>-0.077641</td>\n",
              "      <td>-0.041361</td>\n",
              "      <td>0.003201</td>\n",
              "      <td>-0.000031</td>\n",
              "      <td>-0.079973</td>\n",
              "      <td>-0.010907</td>\n",
              "      <td>0.013205</td>\n",
              "      <td>0.072902</td>\n",
              "      <td>0.031529</td>\n",
              "      <td>0.013031</td>\n",
              "      <td>-0.022459</td>\n",
              "    </tr>\n",
              "    <tr>\n",
              "      <th>1</th>\n",
              "      <td>2020-05-01</td>\n",
              "      <td>2830.71</td>\n",
              "      <td>The Governor of Michigan should give a little,...</td>\n",
              "      <td>0.009844</td>\n",
              "      <td>0.074947</td>\n",
              "      <td>-0.047522</td>\n",
              "      <td>0.009648</td>\n",
              "      <td>-0.014910</td>\n",
              "      <td>-0.031603</td>\n",
              "      <td>0.170464</td>\n",
              "      <td>0.114694</td>\n",
              "      <td>0.113863</td>\n",
              "      <td>0.033410</td>\n",
              "      <td>0.020455</td>\n",
              "      <td>0.057357</td>\n",
              "      <td>0.167867</td>\n",
              "      <td>-0.111023</td>\n",
              "      <td>-0.009628</td>\n",
              "      <td>0.051524</td>\n",
              "      <td>-0.036444</td>\n",
              "      <td>-0.017748</td>\n",
              "      <td>-0.028152</td>\n",
              "      <td>-0.081026</td>\n",
              "      <td>-0.067281</td>\n",
              "      <td>0.014982</td>\n",
              "      <td>-0.052687</td>\n",
              "      <td>-0.057546</td>\n",
              "      <td>-0.045524</td>\n",
              "      <td>-0.010229</td>\n",
              "      <td>-0.053004</td>\n",
              "      <td>-0.111873</td>\n",
              "      <td>-0.046198</td>\n",
              "      <td>-0.088032</td>\n",
              "      <td>-0.008855</td>\n",
              "      <td>0.026159</td>\n",
              "      <td>0.095137</td>\n",
              "      <td>-0.009375</td>\n",
              "      <td>0.053258</td>\n",
              "      <td>0.172831</td>\n",
              "      <td>-0.064829</td>\n",
              "      <td>...</td>\n",
              "      <td>-0.061866</td>\n",
              "      <td>0.032557</td>\n",
              "      <td>-0.181913</td>\n",
              "      <td>0.012855</td>\n",
              "      <td>-0.063534</td>\n",
              "      <td>0.058454</td>\n",
              "      <td>-0.069215</td>\n",
              "      <td>0.056722</td>\n",
              "      <td>-0.099721</td>\n",
              "      <td>-0.011651</td>\n",
              "      <td>-0.103779</td>\n",
              "      <td>-0.065761</td>\n",
              "      <td>-0.204417</td>\n",
              "      <td>-0.033373</td>\n",
              "      <td>-0.113502</td>\n",
              "      <td>-0.024483</td>\n",
              "      <td>-0.036401</td>\n",
              "      <td>0.080280</td>\n",
              "      <td>-0.024046</td>\n",
              "      <td>-0.168274</td>\n",
              "      <td>-0.061541</td>\n",
              "      <td>0.090800</td>\n",
              "      <td>-0.075941</td>\n",
              "      <td>0.031261</td>\n",
              "      <td>0.005457</td>\n",
              "      <td>0.076692</td>\n",
              "      <td>0.025302</td>\n",
              "      <td>-0.098398</td>\n",
              "      <td>0.017349</td>\n",
              "      <td>-0.017798</td>\n",
              "      <td>-0.057736</td>\n",
              "      <td>-0.016982</td>\n",
              "      <td>-0.021447</td>\n",
              "      <td>-0.113439</td>\n",
              "      <td>0.000855</td>\n",
              "      <td>0.027104</td>\n",
              "      <td>0.113406</td>\n",
              "      <td>0.043831</td>\n",
              "      <td>-0.055918</td>\n",
              "      <td>-0.004716</td>\n",
              "    </tr>\n",
              "    <tr>\n",
              "      <th>2</th>\n",
              "      <td>2020-05-01</td>\n",
              "      <td>2830.71</td>\n",
              "      <td>Cryin Chuck Schumer, compared to what other Se...</td>\n",
              "      <td>0.026390</td>\n",
              "      <td>0.049407</td>\n",
              "      <td>-0.035263</td>\n",
              "      <td>0.000060</td>\n",
              "      <td>-0.039060</td>\n",
              "      <td>-0.044138</td>\n",
              "      <td>0.132322</td>\n",
              "      <td>0.094046</td>\n",
              "      <td>0.111000</td>\n",
              "      <td>0.032866</td>\n",
              "      <td>0.014665</td>\n",
              "      <td>0.082030</td>\n",
              "      <td>0.121312</td>\n",
              "      <td>-0.107665</td>\n",
              "      <td>-0.008545</td>\n",
              "      <td>0.060219</td>\n",
              "      <td>-0.057857</td>\n",
              "      <td>-0.024738</td>\n",
              "      <td>-0.047923</td>\n",
              "      <td>-0.099366</td>\n",
              "      <td>-0.079607</td>\n",
              "      <td>-0.015763</td>\n",
              "      <td>-0.030310</td>\n",
              "      <td>-0.068818</td>\n",
              "      <td>-0.006751</td>\n",
              "      <td>-0.010712</td>\n",
              "      <td>-0.066544</td>\n",
              "      <td>-0.069076</td>\n",
              "      <td>-0.070619</td>\n",
              "      <td>-0.114590</td>\n",
              "      <td>-0.046926</td>\n",
              "      <td>0.035274</td>\n",
              "      <td>0.098263</td>\n",
              "      <td>-0.005080</td>\n",
              "      <td>0.048519</td>\n",
              "      <td>0.128828</td>\n",
              "      <td>-0.067045</td>\n",
              "      <td>...</td>\n",
              "      <td>-0.028673</td>\n",
              "      <td>0.033205</td>\n",
              "      <td>-0.129362</td>\n",
              "      <td>-0.006658</td>\n",
              "      <td>0.001459</td>\n",
              "      <td>0.039748</td>\n",
              "      <td>-0.068344</td>\n",
              "      <td>0.045006</td>\n",
              "      <td>-0.096886</td>\n",
              "      <td>0.004495</td>\n",
              "      <td>-0.052511</td>\n",
              "      <td>-0.049643</td>\n",
              "      <td>-0.120908</td>\n",
              "      <td>-0.040812</td>\n",
              "      <td>-0.076810</td>\n",
              "      <td>-0.064477</td>\n",
              "      <td>0.006965</td>\n",
              "      <td>0.055758</td>\n",
              "      <td>-0.053985</td>\n",
              "      <td>-0.148839</td>\n",
              "      <td>-0.036796</td>\n",
              "      <td>0.097533</td>\n",
              "      <td>0.006857</td>\n",
              "      <td>0.061719</td>\n",
              "      <td>-0.002524</td>\n",
              "      <td>0.074558</td>\n",
              "      <td>0.037831</td>\n",
              "      <td>-0.071195</td>\n",
              "      <td>0.032539</td>\n",
              "      <td>-0.082681</td>\n",
              "      <td>-0.065633</td>\n",
              "      <td>-0.001268</td>\n",
              "      <td>-0.008514</td>\n",
              "      <td>-0.105650</td>\n",
              "      <td>0.012436</td>\n",
              "      <td>0.047151</td>\n",
              "      <td>0.131916</td>\n",
              "      <td>0.040769</td>\n",
              "      <td>-0.043129</td>\n",
              "      <td>-0.016450</td>\n",
              "    </tr>\n",
              "    <tr>\n",
              "      <th>3</th>\n",
              "      <td>2020-05-01</td>\n",
              "      <td>2830.71</td>\n",
              "      <td>Cryin’ Chuck Schumer was on a late night show ...</td>\n",
              "      <td>0.012858</td>\n",
              "      <td>0.079648</td>\n",
              "      <td>0.005848</td>\n",
              "      <td>0.012730</td>\n",
              "      <td>-0.043981</td>\n",
              "      <td>-0.042923</td>\n",
              "      <td>0.152330</td>\n",
              "      <td>0.110496</td>\n",
              "      <td>0.105538</td>\n",
              "      <td>0.033809</td>\n",
              "      <td>0.073863</td>\n",
              "      <td>0.058999</td>\n",
              "      <td>0.124892</td>\n",
              "      <td>-0.114628</td>\n",
              "      <td>-0.010720</td>\n",
              "      <td>0.081147</td>\n",
              "      <td>-0.063650</td>\n",
              "      <td>-0.032431</td>\n",
              "      <td>-0.039890</td>\n",
              "      <td>-0.105951</td>\n",
              "      <td>-0.070103</td>\n",
              "      <td>0.011169</td>\n",
              "      <td>-0.046838</td>\n",
              "      <td>-0.053941</td>\n",
              "      <td>-0.000275</td>\n",
              "      <td>-0.015975</td>\n",
              "      <td>-0.066039</td>\n",
              "      <td>-0.086566</td>\n",
              "      <td>-0.048885</td>\n",
              "      <td>-0.099618</td>\n",
              "      <td>-0.060876</td>\n",
              "      <td>0.028448</td>\n",
              "      <td>0.072320</td>\n",
              "      <td>-0.004687</td>\n",
              "      <td>0.041983</td>\n",
              "      <td>0.128202</td>\n",
              "      <td>-0.071804</td>\n",
              "      <td>...</td>\n",
              "      <td>-0.071317</td>\n",
              "      <td>0.067028</td>\n",
              "      <td>-0.129857</td>\n",
              "      <td>-0.017199</td>\n",
              "      <td>-0.010904</td>\n",
              "      <td>0.014039</td>\n",
              "      <td>-0.061869</td>\n",
              "      <td>0.017188</td>\n",
              "      <td>-0.112811</td>\n",
              "      <td>-0.022326</td>\n",
              "      <td>-0.036412</td>\n",
              "      <td>-0.047433</td>\n",
              "      <td>-0.117461</td>\n",
              "      <td>-0.047204</td>\n",
              "      <td>-0.071130</td>\n",
              "      <td>-0.052634</td>\n",
              "      <td>-0.014778</td>\n",
              "      <td>0.031922</td>\n",
              "      <td>-0.026645</td>\n",
              "      <td>-0.148029</td>\n",
              "      <td>-0.066510</td>\n",
              "      <td>0.069929</td>\n",
              "      <td>0.009366</td>\n",
              "      <td>0.063185</td>\n",
              "      <td>-0.010055</td>\n",
              "      <td>0.078222</td>\n",
              "      <td>0.037823</td>\n",
              "      <td>-0.078991</td>\n",
              "      <td>0.002429</td>\n",
              "      <td>-0.093381</td>\n",
              "      <td>-0.053606</td>\n",
              "      <td>-0.007810</td>\n",
              "      <td>-0.004163</td>\n",
              "      <td>-0.098636</td>\n",
              "      <td>0.038562</td>\n",
              "      <td>0.030205</td>\n",
              "      <td>0.129408</td>\n",
              "      <td>0.002816</td>\n",
              "      <td>-0.065116</td>\n",
              "      <td>-0.051646</td>\n",
              "    </tr>\n",
              "    <tr>\n",
              "      <th>4</th>\n",
              "      <td>2020-05-01</td>\n",
              "      <td>2830.71</td>\n",
              "      <td>RT @TeamTrump: President @realDonaldTrump: “We...</td>\n",
              "      <td>-0.002043</td>\n",
              "      <td>0.030656</td>\n",
              "      <td>0.010094</td>\n",
              "      <td>0.028832</td>\n",
              "      <td>-0.094094</td>\n",
              "      <td>-0.012638</td>\n",
              "      <td>0.099687</td>\n",
              "      <td>0.095958</td>\n",
              "      <td>0.070570</td>\n",
              "      <td>0.047790</td>\n",
              "      <td>0.073098</td>\n",
              "      <td>0.077848</td>\n",
              "      <td>0.206546</td>\n",
              "      <td>-0.035163</td>\n",
              "      <td>-0.006100</td>\n",
              "      <td>0.024984</td>\n",
              "      <td>0.027821</td>\n",
              "      <td>-0.055744</td>\n",
              "      <td>-0.062557</td>\n",
              "      <td>0.011213</td>\n",
              "      <td>-0.097129</td>\n",
              "      <td>-0.000969</td>\n",
              "      <td>-0.073849</td>\n",
              "      <td>-0.017581</td>\n",
              "      <td>-0.079757</td>\n",
              "      <td>-0.029266</td>\n",
              "      <td>-0.090260</td>\n",
              "      <td>-0.158309</td>\n",
              "      <td>-0.003725</td>\n",
              "      <td>-0.102713</td>\n",
              "      <td>-0.063669</td>\n",
              "      <td>0.031348</td>\n",
              "      <td>0.106334</td>\n",
              "      <td>0.021352</td>\n",
              "      <td>0.001788</td>\n",
              "      <td>0.053793</td>\n",
              "      <td>-0.074015</td>\n",
              "      <td>...</td>\n",
              "      <td>-0.102189</td>\n",
              "      <td>0.058973</td>\n",
              "      <td>-0.068143</td>\n",
              "      <td>-0.052938</td>\n",
              "      <td>-0.038942</td>\n",
              "      <td>-0.076308</td>\n",
              "      <td>-0.063861</td>\n",
              "      <td>0.018615</td>\n",
              "      <td>-0.104999</td>\n",
              "      <td>-0.083952</td>\n",
              "      <td>-0.098628</td>\n",
              "      <td>-0.065791</td>\n",
              "      <td>-0.195289</td>\n",
              "      <td>0.002631</td>\n",
              "      <td>-0.098848</td>\n",
              "      <td>0.014103</td>\n",
              "      <td>-0.017488</td>\n",
              "      <td>0.088322</td>\n",
              "      <td>0.028766</td>\n",
              "      <td>-0.198034</td>\n",
              "      <td>-0.046825</td>\n",
              "      <td>0.079450</td>\n",
              "      <td>-0.029785</td>\n",
              "      <td>0.095828</td>\n",
              "      <td>-0.051667</td>\n",
              "      <td>0.111137</td>\n",
              "      <td>-0.020667</td>\n",
              "      <td>-0.092293</td>\n",
              "      <td>-0.065645</td>\n",
              "      <td>-0.102654</td>\n",
              "      <td>-0.046084</td>\n",
              "      <td>0.001863</td>\n",
              "      <td>0.008853</td>\n",
              "      <td>-0.122292</td>\n",
              "      <td>-0.013234</td>\n",
              "      <td>0.040134</td>\n",
              "      <td>0.108113</td>\n",
              "      <td>-0.010549</td>\n",
              "      <td>0.000716</td>\n",
              "      <td>-0.043534</td>\n",
              "    </tr>\n",
              "  </tbody>\n",
              "</table>\n",
              "<p>5 rows × 303 columns</p>\n",
              "</div>"
            ],
            "text/plain": [
              "         date    price  ...       298       299\n",
              "0  2020-05-01  2830.71  ...  0.013031 -0.022459\n",
              "1  2020-05-01  2830.71  ... -0.055918 -0.004716\n",
              "2  2020-05-01  2830.71  ... -0.043129 -0.016450\n",
              "3  2020-05-01  2830.71  ... -0.065116 -0.051646\n",
              "4  2020-05-01  2830.71  ...  0.000716 -0.043534\n",
              "\n",
              "[5 rows x 303 columns]"
            ]
          },
          "metadata": {
            "tags": []
          },
          "execution_count": 23
        }
      ]
    },
    {
      "cell_type": "code",
      "metadata": {
        "id": "wzaVvcZ3fTFn",
        "colab_type": "code",
        "colab": {}
      },
      "source": [
        "df_tweets_word2vec.to_csv(\"price_tweets_vector.csv\", index=False)"
      ],
      "execution_count": 0,
      "outputs": []
    },
    {
      "cell_type": "code",
      "metadata": {
        "id": "CY3UVb1TfTFp",
        "colab_type": "code",
        "outputId": "fc345c9a-7ef8-4e34-93bd-4bbd77c2e800",
        "colab": {
          "base_uri": "https://localhost:8080/",
          "height": 552
        }
      },
      "source": [
        "#ツイートのベクトルを1日毎に平均にする（1日10ツイートだった場合ベクトルと足し合わせ10で割る）\n",
        "# groupby #https://qiita.com/propella/items/a9a32b878c77222630ae\n",
        "df = df_tweets_word2vec.groupby([\"date\"]).mean()\n",
        "\n",
        "\n",
        "# targetのcolである変化率（\"price\"の差分対数行列）をdateをKeyに内部結合する\n",
        "df_sp = pd.read_csv(\"/content/sp500-10-year-daily-chart.csv\")\n",
        "\n",
        "# 時系列データの差分を求める\n",
        "\n",
        "# \" value\"の行を対数化\n",
        "# https://www.sejuku.net/blog/70027\n",
        "df_sp[\"log\"] = np.log(df_sp[\" value\"])\n",
        "\n",
        "# \"log\"の1日前との差を取って、差分対数の列を作成\n",
        "# https://note.nkmk.me/python-pandas-diff-pct-change/\n",
        "df_sp[\"dif_log\"] = df_sp[\"log\"].diff()\n",
        "\n",
        "#内部結合\n",
        "df2=pd.merge(df_sp, df, how=\"inner\" ,on=\"date\")\n",
        "df2 = df2.drop(\" value\", axis=1)\n",
        "\n",
        "# groupbyを使って1日のツイート数も特徴量に加える\n",
        "# https://deepage.net/features/pandas-count.html\n",
        "df3 = df_tweets_word2vec[[\"date\",\"text\"]]\n",
        "df3 = df3.groupby([\"date\"]).count()\n",
        "\n",
        "#内部結合\n",
        "df4 = pd.merge( df3, df2, how=\"inner\" ,on=\"date\")\n",
        "\n",
        "#日付データの形を変える\n",
        "df4[\"date\"] = pd.to_datetime(df4['date']).astype('int64')\n",
        "\n",
        "#変化率のグラフ\n",
        "df4.plot( y=[\"dif_log\"], figsize=(16,4), alpha=0.5)\n",
        "\n",
        "#ツイート数と変化率の関係\n",
        "df4.plot.scatter(x=[\"text\"], y=[\"dif_log\"])"
      ],
      "execution_count": 25,
      "outputs": [
        {
          "output_type": "execute_result",
          "data": {
            "text/plain": [
              "<matplotlib.axes._subplots.AxesSubplot at 0x7fbcec99d860>"
            ]
          },
          "metadata": {
            "tags": []
          },
          "execution_count": 25
        },
        {
          "output_type": "display_data",
          "data": {
            "image/png": "[encoded data removed]",
            "text/plain": [
              "<Figure size 1152x288 with 1 Axes>"
            ]
          },
          "metadata": {
            "tags": [],
            "needs_background": "light"
          }
        },
        {
          "output_type": "display_data",
          "data": {
            "image/png": "[encoded data removed]",
            "text/plain": [
              "<Figure size 432x288 with 1 Axes>"
            ]
          },
          "metadata": {
            "tags": [],
            "needs_background": "light"
          }
        }
      ]
    },
    {
      "cell_type": "code",
      "metadata": {
        "id": "LoiDgt9WfTFt",
        "colab_type": "code",
        "outputId": "26b04846-1fe9-4728-a2ba-139a134c4405",
        "colab": {
          "base_uri": "https://localhost:8080/",
          "height": 253
        }
      },
      "source": [
        "df4.head()"
      ],
      "execution_count": 26,
      "outputs": [
        {
          "output_type": "execute_result",
          "data": {
            "text/html": [
              "<div>\n",
              "<style scoped>\n",
              "    .dataframe tbody tr th:only-of-type {\n",
              "        vertical-align: middle;\n",
              "    }\n",
              "\n",
              "    .dataframe tbody tr th {\n",
              "        vertical-align: top;\n",
              "    }\n",
              "\n",
              "    .dataframe thead th {\n",
              "        text-align: right;\n",
              "    }\n",
              "</style>\n",
              "<table border=\"1\" class=\"dataframe\">\n",
              "  <thead>\n",
              "    <tr style=\"text-align: right;\">\n",
              "      <th></th>\n",
              "      <th>date</th>\n",
              "      <th>text</th>\n",
              "      <th>log</th>\n",
              "      <th>dif_log</th>\n",
              "      <th>price</th>\n",
              "      <th>0</th>\n",
              "      <th>1</th>\n",
              "      <th>2</th>\n",
              "      <th>3</th>\n",
              "      <th>4</th>\n",
              "      <th>5</th>\n",
              "      <th>6</th>\n",
              "      <th>7</th>\n",
              "      <th>8</th>\n",
              "      <th>9</th>\n",
              "      <th>10</th>\n",
              "      <th>11</th>\n",
              "      <th>12</th>\n",
              "      <th>13</th>\n",
              "      <th>14</th>\n",
              "      <th>15</th>\n",
              "      <th>16</th>\n",
              "      <th>17</th>\n",
              "      <th>18</th>\n",
              "      <th>19</th>\n",
              "      <th>20</th>\n",
              "      <th>21</th>\n",
              "      <th>22</th>\n",
              "      <th>23</th>\n",
              "      <th>24</th>\n",
              "      <th>25</th>\n",
              "      <th>26</th>\n",
              "      <th>27</th>\n",
              "      <th>28</th>\n",
              "      <th>29</th>\n",
              "      <th>30</th>\n",
              "      <th>31</th>\n",
              "      <th>32</th>\n",
              "      <th>33</th>\n",
              "      <th>34</th>\n",
              "      <th>...</th>\n",
              "      <th>260</th>\n",
              "      <th>261</th>\n",
              "      <th>262</th>\n",
              "      <th>263</th>\n",
              "      <th>264</th>\n",
              "      <th>265</th>\n",
              "      <th>266</th>\n",
              "      <th>267</th>\n",
              "      <th>268</th>\n",
              "      <th>269</th>\n",
              "      <th>270</th>\n",
              "      <th>271</th>\n",
              "      <th>272</th>\n",
              "      <th>273</th>\n",
              "      <th>274</th>\n",
              "      <th>275</th>\n",
              "      <th>276</th>\n",
              "      <th>277</th>\n",
              "      <th>278</th>\n",
              "      <th>279</th>\n",
              "      <th>280</th>\n",
              "      <th>281</th>\n",
              "      <th>282</th>\n",
              "      <th>283</th>\n",
              "      <th>284</th>\n",
              "      <th>285</th>\n",
              "      <th>286</th>\n",
              "      <th>287</th>\n",
              "      <th>288</th>\n",
              "      <th>289</th>\n",
              "      <th>290</th>\n",
              "      <th>291</th>\n",
              "      <th>292</th>\n",
              "      <th>293</th>\n",
              "      <th>294</th>\n",
              "      <th>295</th>\n",
              "      <th>296</th>\n",
              "      <th>297</th>\n",
              "      <th>298</th>\n",
              "      <th>299</th>\n",
              "    </tr>\n",
              "  </thead>\n",
              "  <tbody>\n",
              "    <tr>\n",
              "      <th>0</th>\n",
              "      <td>1484870400000000000</td>\n",
              "      <td>13</td>\n",
              "      <td>7.728112</td>\n",
              "      <td>0.003361</td>\n",
              "      <td>2271.31</td>\n",
              "      <td>-0.029871</td>\n",
              "      <td>0.080240</td>\n",
              "      <td>-0.047281</td>\n",
              "      <td>0.011400</td>\n",
              "      <td>-0.057000</td>\n",
              "      <td>-0.040643</td>\n",
              "      <td>0.118986</td>\n",
              "      <td>0.092421</td>\n",
              "      <td>0.099524</td>\n",
              "      <td>0.048238</td>\n",
              "      <td>-0.002336</td>\n",
              "      <td>0.072473</td>\n",
              "      <td>0.193896</td>\n",
              "      <td>-0.060288</td>\n",
              "      <td>-0.037245</td>\n",
              "      <td>-0.039678</td>\n",
              "      <td>-0.008721</td>\n",
              "      <td>-0.027559</td>\n",
              "      <td>-0.064388</td>\n",
              "      <td>-0.006030</td>\n",
              "      <td>-0.072294</td>\n",
              "      <td>0.017711</td>\n",
              "      <td>-0.029815</td>\n",
              "      <td>-0.049861</td>\n",
              "      <td>-0.052821</td>\n",
              "      <td>0.011919</td>\n",
              "      <td>-0.061662</td>\n",
              "      <td>-0.152660</td>\n",
              "      <td>-0.058473</td>\n",
              "      <td>-0.078206</td>\n",
              "      <td>-0.002149</td>\n",
              "      <td>0.108915</td>\n",
              "      <td>0.099989</td>\n",
              "      <td>-0.016664</td>\n",
              "      <td>0.048767</td>\n",
              "      <td>...</td>\n",
              "      <td>-0.067297</td>\n",
              "      <td>-0.028944</td>\n",
              "      <td>-0.125392</td>\n",
              "      <td>-0.019079</td>\n",
              "      <td>-0.096314</td>\n",
              "      <td>0.011718</td>\n",
              "      <td>-0.121680</td>\n",
              "      <td>0.029904</td>\n",
              "      <td>-0.108431</td>\n",
              "      <td>-0.025809</td>\n",
              "      <td>-0.090381</td>\n",
              "      <td>-0.074365</td>\n",
              "      <td>-0.213171</td>\n",
              "      <td>0.023140</td>\n",
              "      <td>-0.140311</td>\n",
              "      <td>-0.004188</td>\n",
              "      <td>-0.044086</td>\n",
              "      <td>0.099302</td>\n",
              "      <td>0.010045</td>\n",
              "      <td>-0.222891</td>\n",
              "      <td>-0.017292</td>\n",
              "      <td>0.105555</td>\n",
              "      <td>-0.110717</td>\n",
              "      <td>0.038513</td>\n",
              "      <td>-0.066666</td>\n",
              "      <td>0.072267</td>\n",
              "      <td>0.060288</td>\n",
              "      <td>-0.053392</td>\n",
              "      <td>-0.004833</td>\n",
              "      <td>-0.024420</td>\n",
              "      <td>-0.082964</td>\n",
              "      <td>-0.023809</td>\n",
              "      <td>-0.064172</td>\n",
              "      <td>-0.129375</td>\n",
              "      <td>-0.023220</td>\n",
              "      <td>0.031374</td>\n",
              "      <td>0.091514</td>\n",
              "      <td>0.049613</td>\n",
              "      <td>-0.000123</td>\n",
              "      <td>0.026538</td>\n",
              "    </tr>\n",
              "    <tr>\n",
              "      <th>1</th>\n",
              "      <td>1485129600000000000</td>\n",
              "      <td>1</td>\n",
              "      <td>7.725418</td>\n",
              "      <td>-0.002694</td>\n",
              "      <td>2265.20</td>\n",
              "      <td>-0.016755</td>\n",
              "      <td>0.052867</td>\n",
              "      <td>-0.049962</td>\n",
              "      <td>0.056776</td>\n",
              "      <td>-0.088590</td>\n",
              "      <td>-0.051414</td>\n",
              "      <td>0.105567</td>\n",
              "      <td>0.127373</td>\n",
              "      <td>0.118130</td>\n",
              "      <td>0.011892</td>\n",
              "      <td>0.047567</td>\n",
              "      <td>0.005614</td>\n",
              "      <td>0.178815</td>\n",
              "      <td>-0.084103</td>\n",
              "      <td>-0.048528</td>\n",
              "      <td>0.002410</td>\n",
              "      <td>0.016635</td>\n",
              "      <td>-0.048823</td>\n",
              "      <td>-0.044703</td>\n",
              "      <td>-0.028329</td>\n",
              "      <td>-0.079255</td>\n",
              "      <td>0.026225</td>\n",
              "      <td>-0.028053</td>\n",
              "      <td>-0.059359</td>\n",
              "      <td>-0.056542</td>\n",
              "      <td>0.017565</td>\n",
              "      <td>-0.100376</td>\n",
              "      <td>-0.126643</td>\n",
              "      <td>-0.028604</td>\n",
              "      <td>-0.120829</td>\n",
              "      <td>-0.035155</td>\n",
              "      <td>0.125118</td>\n",
              "      <td>0.086487</td>\n",
              "      <td>0.020927</td>\n",
              "      <td>0.026327</td>\n",
              "      <td>...</td>\n",
              "      <td>-0.102508</td>\n",
              "      <td>-0.025717</td>\n",
              "      <td>-0.061978</td>\n",
              "      <td>-0.049275</td>\n",
              "      <td>-0.059058</td>\n",
              "      <td>0.022579</td>\n",
              "      <td>-0.112196</td>\n",
              "      <td>0.010376</td>\n",
              "      <td>-0.110839</td>\n",
              "      <td>-0.065892</td>\n",
              "      <td>-0.151452</td>\n",
              "      <td>-0.031651</td>\n",
              "      <td>-0.230746</td>\n",
              "      <td>-0.023454</td>\n",
              "      <td>-0.153572</td>\n",
              "      <td>0.013920</td>\n",
              "      <td>-0.054280</td>\n",
              "      <td>0.084782</td>\n",
              "      <td>0.036141</td>\n",
              "      <td>-0.212441</td>\n",
              "      <td>-0.044153</td>\n",
              "      <td>0.078665</td>\n",
              "      <td>-0.076467</td>\n",
              "      <td>0.044520</td>\n",
              "      <td>-0.052146</td>\n",
              "      <td>0.091441</td>\n",
              "      <td>0.031649</td>\n",
              "      <td>-0.098472</td>\n",
              "      <td>-0.053653</td>\n",
              "      <td>-0.054890</td>\n",
              "      <td>-0.078981</td>\n",
              "      <td>0.010163</td>\n",
              "      <td>-0.039197</td>\n",
              "      <td>-0.103005</td>\n",
              "      <td>-0.010354</td>\n",
              "      <td>0.052488</td>\n",
              "      <td>0.079825</td>\n",
              "      <td>0.068750</td>\n",
              "      <td>-0.010173</td>\n",
              "      <td>0.001094</td>\n",
              "    </tr>\n",
              "    <tr>\n",
              "      <th>2</th>\n",
              "      <td>1485216000000000000</td>\n",
              "      <td>4</td>\n",
              "      <td>7.731961</td>\n",
              "      <td>0.006543</td>\n",
              "      <td>2280.07</td>\n",
              "      <td>-0.030715</td>\n",
              "      <td>0.055962</td>\n",
              "      <td>-0.009746</td>\n",
              "      <td>0.032042</td>\n",
              "      <td>-0.061481</td>\n",
              "      <td>-0.037425</td>\n",
              "      <td>0.054448</td>\n",
              "      <td>0.061716</td>\n",
              "      <td>0.076397</td>\n",
              "      <td>0.029066</td>\n",
              "      <td>0.049310</td>\n",
              "      <td>-0.001351</td>\n",
              "      <td>0.106977</td>\n",
              "      <td>-0.071311</td>\n",
              "      <td>-0.019010</td>\n",
              "      <td>-0.033775</td>\n",
              "      <td>0.015198</td>\n",
              "      <td>-0.040695</td>\n",
              "      <td>-0.053808</td>\n",
              "      <td>-0.019404</td>\n",
              "      <td>-0.036382</td>\n",
              "      <td>0.049286</td>\n",
              "      <td>-0.019481</td>\n",
              "      <td>-0.041056</td>\n",
              "      <td>-0.075696</td>\n",
              "      <td>0.005271</td>\n",
              "      <td>-0.044784</td>\n",
              "      <td>-0.116694</td>\n",
              "      <td>-0.052102</td>\n",
              "      <td>-0.074446</td>\n",
              "      <td>-0.010921</td>\n",
              "      <td>0.082558</td>\n",
              "      <td>0.067696</td>\n",
              "      <td>0.005932</td>\n",
              "      <td>-0.015726</td>\n",
              "      <td>...</td>\n",
              "      <td>-0.094381</td>\n",
              "      <td>-0.014776</td>\n",
              "      <td>-0.088213</td>\n",
              "      <td>-0.022936</td>\n",
              "      <td>-0.069405</td>\n",
              "      <td>0.011633</td>\n",
              "      <td>-0.114531</td>\n",
              "      <td>0.007017</td>\n",
              "      <td>-0.108119</td>\n",
              "      <td>-0.050006</td>\n",
              "      <td>-0.120126</td>\n",
              "      <td>-0.042102</td>\n",
              "      <td>-0.166898</td>\n",
              "      <td>0.016526</td>\n",
              "      <td>-0.127741</td>\n",
              "      <td>0.007443</td>\n",
              "      <td>-0.053352</td>\n",
              "      <td>0.064680</td>\n",
              "      <td>0.054394</td>\n",
              "      <td>-0.191438</td>\n",
              "      <td>-0.007539</td>\n",
              "      <td>0.061386</td>\n",
              "      <td>-0.122045</td>\n",
              "      <td>0.014795</td>\n",
              "      <td>-0.025296</td>\n",
              "      <td>0.066307</td>\n",
              "      <td>0.048655</td>\n",
              "      <td>-0.073094</td>\n",
              "      <td>-0.039048</td>\n",
              "      <td>-0.026594</td>\n",
              "      <td>-0.059128</td>\n",
              "      <td>-0.008375</td>\n",
              "      <td>-0.049227</td>\n",
              "      <td>-0.086546</td>\n",
              "      <td>0.008472</td>\n",
              "      <td>0.025092</td>\n",
              "      <td>0.059003</td>\n",
              "      <td>0.029143</td>\n",
              "      <td>-0.025977</td>\n",
              "      <td>-0.004654</td>\n",
              "    </tr>\n",
              "    <tr>\n",
              "      <th>3</th>\n",
              "      <td>1485302400000000000</td>\n",
              "      <td>8</td>\n",
              "      <td>7.739955</td>\n",
              "      <td>0.007994</td>\n",
              "      <td>2298.37</td>\n",
              "      <td>0.001664</td>\n",
              "      <td>0.056999</td>\n",
              "      <td>-0.021553</td>\n",
              "      <td>0.049800</td>\n",
              "      <td>-0.051176</td>\n",
              "      <td>-0.041649</td>\n",
              "      <td>0.099138</td>\n",
              "      <td>0.109796</td>\n",
              "      <td>0.087973</td>\n",
              "      <td>0.032046</td>\n",
              "      <td>0.049949</td>\n",
              "      <td>0.030042</td>\n",
              "      <td>0.109363</td>\n",
              "      <td>-0.076167</td>\n",
              "      <td>-0.016100</td>\n",
              "      <td>0.023066</td>\n",
              "      <td>-0.040823</td>\n",
              "      <td>-0.044379</td>\n",
              "      <td>-0.035267</td>\n",
              "      <td>-0.034284</td>\n",
              "      <td>-0.060867</td>\n",
              "      <td>0.021413</td>\n",
              "      <td>0.000890</td>\n",
              "      <td>-0.056265</td>\n",
              "      <td>-0.018352</td>\n",
              "      <td>0.004940</td>\n",
              "      <td>-0.044990</td>\n",
              "      <td>-0.102414</td>\n",
              "      <td>-0.057338</td>\n",
              "      <td>-0.096647</td>\n",
              "      <td>-0.048246</td>\n",
              "      <td>0.078638</td>\n",
              "      <td>0.068858</td>\n",
              "      <td>-0.006099</td>\n",
              "      <td>0.030695</td>\n",
              "      <td>...</td>\n",
              "      <td>-0.077490</td>\n",
              "      <td>0.004005</td>\n",
              "      <td>-0.089123</td>\n",
              "      <td>-0.019153</td>\n",
              "      <td>-0.019040</td>\n",
              "      <td>0.017264</td>\n",
              "      <td>-0.090897</td>\n",
              "      <td>0.002481</td>\n",
              "      <td>-0.086596</td>\n",
              "      <td>-0.064068</td>\n",
              "      <td>-0.053777</td>\n",
              "      <td>-0.040440</td>\n",
              "      <td>-0.147427</td>\n",
              "      <td>-0.000016</td>\n",
              "      <td>-0.085156</td>\n",
              "      <td>-0.030339</td>\n",
              "      <td>-0.018671</td>\n",
              "      <td>0.068887</td>\n",
              "      <td>0.004733</td>\n",
              "      <td>-0.163132</td>\n",
              "      <td>-0.045045</td>\n",
              "      <td>0.046989</td>\n",
              "      <td>-0.044745</td>\n",
              "      <td>0.054329</td>\n",
              "      <td>-0.033960</td>\n",
              "      <td>0.066338</td>\n",
              "      <td>0.053542</td>\n",
              "      <td>-0.056566</td>\n",
              "      <td>-0.043015</td>\n",
              "      <td>-0.058591</td>\n",
              "      <td>-0.082165</td>\n",
              "      <td>0.008456</td>\n",
              "      <td>-0.046967</td>\n",
              "      <td>-0.092259</td>\n",
              "      <td>0.027340</td>\n",
              "      <td>0.033516</td>\n",
              "      <td>0.081477</td>\n",
              "      <td>0.034274</td>\n",
              "      <td>-0.025171</td>\n",
              "      <td>-0.020927</td>\n",
              "    </tr>\n",
              "    <tr>\n",
              "      <th>4</th>\n",
              "      <td>1485388800000000000</td>\n",
              "      <td>11</td>\n",
              "      <td>7.739220</td>\n",
              "      <td>-0.000736</td>\n",
              "      <td>2296.68</td>\n",
              "      <td>-0.014292</td>\n",
              "      <td>0.060082</td>\n",
              "      <td>-0.027865</td>\n",
              "      <td>0.048097</td>\n",
              "      <td>-0.074691</td>\n",
              "      <td>-0.044514</td>\n",
              "      <td>0.108147</td>\n",
              "      <td>0.088224</td>\n",
              "      <td>0.068008</td>\n",
              "      <td>0.029190</td>\n",
              "      <td>0.050282</td>\n",
              "      <td>0.034119</td>\n",
              "      <td>0.136082</td>\n",
              "      <td>-0.072684</td>\n",
              "      <td>-0.024824</td>\n",
              "      <td>0.004631</td>\n",
              "      <td>-0.018553</td>\n",
              "      <td>-0.040171</td>\n",
              "      <td>-0.038012</td>\n",
              "      <td>-0.020803</td>\n",
              "      <td>-0.040866</td>\n",
              "      <td>0.028570</td>\n",
              "      <td>-0.026846</td>\n",
              "      <td>-0.063545</td>\n",
              "      <td>-0.028631</td>\n",
              "      <td>-0.015604</td>\n",
              "      <td>-0.053050</td>\n",
              "      <td>-0.134215</td>\n",
              "      <td>-0.043565</td>\n",
              "      <td>-0.097265</td>\n",
              "      <td>-0.020715</td>\n",
              "      <td>0.087326</td>\n",
              "      <td>0.080138</td>\n",
              "      <td>-0.008085</td>\n",
              "      <td>0.023391</td>\n",
              "      <td>...</td>\n",
              "      <td>-0.081341</td>\n",
              "      <td>-0.000543</td>\n",
              "      <td>-0.079835</td>\n",
              "      <td>-0.014230</td>\n",
              "      <td>-0.060363</td>\n",
              "      <td>-0.008426</td>\n",
              "      <td>-0.076704</td>\n",
              "      <td>-0.008918</td>\n",
              "      <td>-0.096417</td>\n",
              "      <td>-0.050263</td>\n",
              "      <td>-0.073584</td>\n",
              "      <td>-0.057801</td>\n",
              "      <td>-0.154360</td>\n",
              "      <td>0.003590</td>\n",
              "      <td>-0.105159</td>\n",
              "      <td>-0.001516</td>\n",
              "      <td>-0.018847</td>\n",
              "      <td>0.080329</td>\n",
              "      <td>0.023551</td>\n",
              "      <td>-0.185769</td>\n",
              "      <td>-0.042083</td>\n",
              "      <td>0.045411</td>\n",
              "      <td>-0.082063</td>\n",
              "      <td>0.071024</td>\n",
              "      <td>-0.041697</td>\n",
              "      <td>0.075469</td>\n",
              "      <td>0.037309</td>\n",
              "      <td>-0.079220</td>\n",
              "      <td>-0.036137</td>\n",
              "      <td>-0.051089</td>\n",
              "      <td>-0.073183</td>\n",
              "      <td>0.011508</td>\n",
              "      <td>-0.055967</td>\n",
              "      <td>-0.108369</td>\n",
              "      <td>0.004788</td>\n",
              "      <td>0.033138</td>\n",
              "      <td>0.090140</td>\n",
              "      <td>0.024540</td>\n",
              "      <td>-0.024595</td>\n",
              "      <td>0.002092</td>\n",
              "    </tr>\n",
              "  </tbody>\n",
              "</table>\n",
              "<p>5 rows × 305 columns</p>\n",
              "</div>"
            ],
            "text/plain": [
              "                  date  text       log  ...       297       298       299\n",
              "0  1484870400000000000    13  7.728112  ...  0.049613 -0.000123  0.026538\n",
              "1  1485129600000000000     1  7.725418  ...  0.068750 -0.010173  0.001094\n",
              "2  1485216000000000000     4  7.731961  ...  0.029143 -0.025977 -0.004654\n",
              "3  1485302400000000000     8  7.739955  ...  0.034274 -0.025171 -0.020927\n",
              "4  1485388800000000000    11  7.739220  ...  0.024540 -0.024595  0.002092\n",
              "\n",
              "[5 rows x 305 columns]"
            ]
          },
          "metadata": {
            "tags": []
          },
          "execution_count": 26
        }
      ]
    },
    {
      "cell_type": "code",
      "metadata": {
        "id": "n7AswbGKfTFw",
        "colab_type": "code",
        "colab": {}
      },
      "source": [
        "#特徴量とターゲットを決める\n",
        "from sklearn.model_selection import train_test_split\n",
        "\n",
        "target_col = 'dif_log'\n",
        "exclude_cols = ['log', 'price', 'dif_log', \"date\",\"text\"]\n",
        "feature_cols = []\n",
        "for col in df4.columns:\n",
        "    if col not in exclude_cols:\n",
        "        feature_cols.append(col)\n",
        "        \n",
        "X = np.array(df4[feature_cols])\n",
        "y = np.array(df4[target_col])"
      ],
      "execution_count": 0,
      "outputs": []
    },
    {
      "cell_type": "code",
      "metadata": {
        "id": "20189zR5fTF0",
        "colab_type": "code",
        "outputId": "9c9a693a-25c0-49bc-9c35-46d66fbc5772",
        "colab": {
          "base_uri": "https://localhost:8080/",
          "height": 85
        }
      },
      "source": [
        "X_train_val, X_test, y_train_val, y_test = train_test_split(\n",
        "    X, y, test_size=0.1, random_state=1234)\n",
        "\n",
        "print('X_train_val Features Shape: ', X_train_val.shape)\n",
        "print('y_train_val Target Shape: ', y_train_val.shape)\n",
        "print('X_test Features Shape: ', X_test.shape)\n",
        "print('y_test Target Shape: ', y_test.shape)"
      ],
      "execution_count": 86,
      "outputs": [
        {
          "output_type": "stream",
          "text": [
            "X_train_val Features Shape:  (739, 300)\n",
            "y_train_val Target Shape:  (739,)\n",
            "X_test Features Shape:  (83, 300)\n",
            "y_test Target Shape:  (83,)\n"
          ],
          "name": "stdout"
        }
      ]
    },
    {
      "cell_type": "code",
      "metadata": {
        "id": "mW7aRfLifTF3",
        "colab_type": "code",
        "outputId": "d24c980e-dcbb-460e-e75e-3f2015e20884",
        "colab": {
          "base_uri": "https://localhost:8080/",
          "height": 85
        }
      },
      "source": [
        "X_train, X_val, y_train, y_val = train_test_split(\n",
        "    X_train_val, y_train_val, test_size=0.1, random_state=1234)\n",
        "\n",
        "# 参考：分割後のデータ数を確認\n",
        "print('X_train Features Shape: ', X_train.shape)\n",
        "print('y_train Target Shape: ', y_train.shape)\n",
        "print('X_val Features Shape: ', X_val.shape)\n",
        "print('y_val Target Shape: ', y_val.shape)"
      ],
      "execution_count": 87,
      "outputs": [
        {
          "output_type": "stream",
          "text": [
            "X_train Features Shape:  (665, 300)\n",
            "y_train Target Shape:  (665,)\n",
            "X_val Features Shape:  (74, 300)\n",
            "y_val Target Shape:  (74,)\n"
          ],
          "name": "stdout"
        }
      ]
    },
    {
      "cell_type": "code",
      "metadata": {
        "id": "AMGJVo-zfTF6",
        "colab_type": "code",
        "colab": {}
      },
      "source": [
        "#分析用のライブラリ\n",
        "\n",
        "from collections import Counter\n",
        "from sklearn.linear_model import LogisticRegression\n",
        "from sklearn.metrics import confusion_matrix, accuracy_score, classification_report\n",
        "from sklearn.linear_model import LinearRegression  # 線形回帰モデルのライブラリ\n",
        "from sklearn.metrics import mean_squared_error  # MSEのライブラリ\n",
        "from sklearn.ensemble import RandomForestRegressor"
      ],
      "execution_count": 0,
      "outputs": []
    },
    {
      "cell_type": "code",
      "metadata": {
        "id": "_7Ucu_2FfTF_",
        "colab_type": "code",
        "outputId": "89a3e04b-d9c3-42c1-888f-130555e3dbb2",
        "colab": {
          "base_uri": "https://localhost:8080/",
          "height": 34
        }
      },
      "source": [
        "#分析1 線形回帰\n",
        "\n",
        "from sklearn.linear_model import LinearRegression  # 線形回帰モデルのライブラリ\n",
        "from sklearn.metrics import mean_squared_error  # MSEのライブラリ\n",
        "from sklearn.externals import joblib\n",
        "import pickle\n",
        "\n",
        "lm = LinearRegression()\n",
        "lm.fit(X_train, y_train)\n",
        "\n",
        "# モデルを保存する\n",
        "filename = 'lm_model.sav'\n",
        "pickle.dump(lm, open(filename, 'wb'))\n",
        "\n",
        "y_pred = lm.predict(X_val)\n",
        "lm_mse = mean_squared_error(y_val, y_pred)\n",
        "print('LinerRegression RMSE: ', round(np.sqrt(lm_mse), 3))"
      ],
      "execution_count": 70,
      "outputs": [
        {
          "output_type": "stream",
          "text": [
            "LinerRegression RMSE:  0.018\n"
          ],
          "name": "stdout"
        }
      ]
    },
    {
      "cell_type": "code",
      "metadata": {
        "id": "44WIdMIIdhon",
        "colab_type": "code",
        "colab": {
          "base_uri": "https://localhost:8080/",
          "height": 34
        },
        "outputId": "4b4f812b-ba4c-4ff1-9441-84957043c581"
      },
      "source": [
        "#保存したモデルを読み取る\n",
        "loaded_model = pickle.load(open(filename, 'rb'))\n",
        "\n",
        "y_pred = loaded_model.predict(X_val)\n",
        "lm_mse = mean_squared_error(y_val, y_pred)\n",
        "print('LinerRegression RMSE: ', round(np.sqrt(lm_mse), 3))"
      ],
      "execution_count": 71,
      "outputs": [
        {
          "output_type": "stream",
          "text": [
            "LinerRegression RMSE:  0.018\n"
          ],
          "name": "stdout"
        }
      ]
    },
    {
      "cell_type": "code",
      "metadata": {
        "id": "yP6pY8SpfTGB",
        "colab_type": "code",
        "outputId": "e7df00f8-197a-4b82-bfb2-793697be4003",
        "colab": {
          "base_uri": "https://localhost:8080/",
          "height": 34
        }
      },
      "source": [
        "#分析2 決定木\n",
        "\n",
        "from sklearn.tree import DecisionTreeRegressor\n",
        "\n",
        "dt = DecisionTreeRegressor(random_state=1234)\n",
        "dt.fit(X_train, y_train)\n",
        "\n",
        "# モデルを保存する\n",
        "filename = 'dt_model.sav'\n",
        "pickle.dump(lm, open(filename, 'wb'))\n",
        "\n",
        "y_pred = dt.predict(X_val)\n",
        "dt_mse = mean_squared_error(y_val, y_pred)\n",
        "print('DecisionTreeRegressor RMSE: ', round(np.sqrt(dt_mse), 3))"
      ],
      "execution_count": 72,
      "outputs": [
        {
          "output_type": "stream",
          "text": [
            "DecisionTreeRegressor RMSE:  0.021\n"
          ],
          "name": "stdout"
        }
      ]
    },
    {
      "cell_type": "code",
      "metadata": {
        "id": "TAO7GAT8fTGE",
        "colab_type": "code",
        "outputId": "4d0d36a0-a678-409f-c3c8-9762ca39058f",
        "colab": {
          "base_uri": "https://localhost:8080/",
          "height": 34
        }
      },
      "source": [
        "#分析3 ランダムフォレスト\n",
        "\n",
        "from sklearn.ensemble import RandomForestRegressor\n",
        "\n",
        "rf = RandomForestRegressor(n_estimators=100, random_state=1234)\n",
        "rf.fit(X_train, y_train)\n",
        "\n",
        "# モデルを保存する\n",
        "filename = 'rf_model.sav'\n",
        "pickle.dump(lm, open(filename, 'wb'))\n",
        "\n",
        "y_pred = rf.predict(X_val)\n",
        "rf_mse = mean_squared_error(y_val, y_pred)\n",
        "print('RandomForestRegressor RMSE: ', round(np.sqrt(rf_mse), 3))"
      ],
      "execution_count": 78,
      "outputs": [
        {
          "output_type": "stream",
          "text": [
            "RandomForestRegressor RMSE:  0.012\n"
          ],
          "name": "stdout"
        }
      ]
    },
    {
      "cell_type": "code",
      "metadata": {
        "id": "8iYWdBRkfTGH",
        "colab_type": "code",
        "outputId": "1354feef-84cd-4866-d578-933a3acc27bd",
        "colab": {
          "base_uri": "https://localhost:8080/",
          "height": 282
        }
      },
      "source": [
        "#分析3 ランダムフォレストの特徴量\n",
        "\n",
        "rf_importances = pd.DataFrame(rf.feature_importances_, columns=['importance'], index=feature_cols)\n",
        "rf_importances.sort_values('importance', ascending=False).iloc[0:15].plot(kind='barh')"
      ],
      "execution_count": 88,
      "outputs": [
        {
          "output_type": "execute_result",
          "data": {
            "text/plain": [
              "<matplotlib.axes._subplots.AxesSubplot at 0x7fbcf5539710>"
            ]
          },
          "metadata": {
            "tags": []
          },
          "execution_count": 88
        },
        {
          "output_type": "display_data",
          "data": {
            "image/png": "[encoded data removed]",
            "text/plain": [
              "<Figure size 432x288 with 1 Axes>"
            ]
          },
          "metadata": {
            "tags": [],
            "needs_background": "light"
          }
        }
      ]
    },
    {
      "cell_type": "code",
      "metadata": {
        "id": "_FrzHo3CfTGK",
        "colab_type": "code",
        "outputId": "fb32fa2f-3a2a-4396-fe05-4d4ab555f909",
        "colab": {
          "base_uri": "https://localhost:8080/",
          "height": 68
        }
      },
      "source": [
        "#４つの分析の結果の比較\n",
        "\n",
        "print('線形回帰モデルのRMSE:    ', round(np.sqrt(lm_mse), 3))\n",
        "print('回帰木のRMSE:                  ', round(np.sqrt(dt_mse), 3))\n",
        "print('ランダムフォレストのRMSE: ', round(np.sqrt(rf_mse), 3))"
      ],
      "execution_count": 75,
      "outputs": [
        {
          "output_type": "stream",
          "text": [
            "線形回帰モデルのRMSE:     0.018\n",
            "回帰木のRMSE:                   0.021\n",
            "ランダムフォレストのRMSE:  0.012\n"
          ],
          "name": "stdout"
        }
      ]
    },
    {
      "cell_type": "code",
      "metadata": {
        "id": "6nAtZEWZfTGO",
        "colab_type": "code",
        "outputId": "f33f4f1c-ef43-43c3-a599-9a035d767e49",
        "colab": {
          "base_uri": "https://localhost:8080/",
          "height": 85
        }
      },
      "source": [
        "#分析4 ランダムフォレストのチューニング\n",
        "\n",
        "# クロスバリデーションとグリッドサーチ のライブラリ\n",
        "from sklearn.model_selection import GridSearchCV\n",
        "\n",
        "rf = RandomForestRegressor(random_state=1234)\n",
        "\n",
        "params = {'n_estimators': [10, 25, 50, 100], 'max_depth': [10, 20, 30, 50]}\n",
        "gscv = GridSearchCV(rf, param_grid=params, verbose=1, cv=3,\n",
        "                    scoring='neg_mean_squared_error', n_jobs=-1)\n",
        "gscv.fit(X_train, y_train)\n",
        "\n",
        "gscv.best_params_"
      ],
      "execution_count": 76,
      "outputs": [
        {
          "output_type": "stream",
          "text": [
            "Fitting 3 folds for each of 16 candidates, totalling 48 fits\n"
          ],
          "name": "stdout"
        },
        {
          "output_type": "stream",
          "text": [
            "[Parallel(n_jobs=-1)]: Using backend LokyBackend with 2 concurrent workers.\n",
            "[Parallel(n_jobs=-1)]: Done  48 out of  48 | elapsed:  2.2min finished\n"
          ],
          "name": "stderr"
        },
        {
          "output_type": "execute_result",
          "data": {
            "text/plain": [
              "{'max_depth': 10, 'n_estimators': 100}"
            ]
          },
          "metadata": {
            "tags": []
          },
          "execution_count": 76
        }
      ]
    },
    {
      "cell_type": "code",
      "metadata": {
        "id": "TAcxNPOffTGR",
        "colab_type": "code",
        "outputId": "27fc0d5b-a391-4f36-99cf-189e915875a0",
        "colab": {
          "base_uri": "https://localhost:8080/",
          "height": 34
        }
      },
      "source": [
        "#分析4 ランダムフォレストのチューニング\n",
        "best_estimators = gscv.best_params_[\"n_estimators\"]\n",
        "best_depth = gscv.best_params_[\"max_depth\"]\n",
        "\n",
        "rf_best = RandomForestRegressor(n_estimators=best_estimators, max_depth=best_depth, random_state=1234)\n",
        "rf_best.fit(X_train, y_train)\n",
        "\n",
        "# モデルを保存する\n",
        "filename = 'rf_best_model.sav'\n",
        "pickle.dump(lm, open(filename, 'wb'))\n",
        "\n",
        "y_pred = rf_best.predict(X_val)\n",
        "rf_best_mse = mean_squared_error(y_val, y_pred)\n",
        "print('RandomForest RMSE: ', round(np.sqrt(rf_best_mse), 3))"
      ],
      "execution_count": 80,
      "outputs": [
        {
          "output_type": "stream",
          "text": [
            "RandomForest RMSE:  0.012\n"
          ],
          "name": "stdout"
        }
      ]
    },
    {
      "cell_type": "code",
      "metadata": {
        "id": "43P-uNhxfTGU",
        "colab_type": "code",
        "outputId": "0b9fcd47-ff3d-4ad8-9444-7cd982483242",
        "colab": {
          "base_uri": "https://localhost:8080/",
          "height": 34
        }
      },
      "source": [
        "#分析5 チューニングしたモデルにテストデータを代入\n",
        "\n",
        "y_pred_on_test = rf_best.predict(X_test)\n",
        "rf_best_test_mse = mean_squared_error(y_test, y_pred_on_test)\n",
        "print('RandomForest RMSE: ', round(np.sqrt(rf_best_test_mse), 3))"
      ],
      "execution_count": 40,
      "outputs": [
        {
          "output_type": "stream",
          "text": [
            "RandomForest RMSE:  0.011\n"
          ],
          "name": "stdout"
        }
      ]
    },
    {
      "cell_type": "code",
      "metadata": {
        "id": "OXUicVllfTGc",
        "colab_type": "code",
        "outputId": "3fc7d023-58e5-4936-b96c-7e0cfcc5d6ec",
        "colab": {
          "base_uri": "https://localhost:8080/",
          "height": 618
        }
      },
      "source": [
        "#分析5 テストデータを代入\n",
        "#誤差を可視化\n",
        "\n",
        "plt.scatter(y_test, y_pred_on_test)\n",
        "plt.show()\n",
        "\n",
        "import seaborn as sns\n",
        "\n",
        "error_rate = (y_test - y_pred_on_test) / y_test\n",
        "print('Mean: ', round(np.mean(error_rate), 5))\n",
        "print('Std: ', round(np.std(error_rate), 5))\n",
        "sns.distplot(error_rate, kde=False, rug=False, bins=20)"
      ],
      "execution_count": 41,
      "outputs": [
        {
          "output_type": "display_data",
          "data": {
            "image/png": "[encoded data removed]",
            "text/plain": [
              "<Figure size 432x288 with 1 Axes>"
            ]
          },
          "metadata": {
            "tags": [],
            "needs_background": "light"
          }
        },
        {
          "output_type": "stream",
          "text": [
            "Mean:  1.25722\n",
            "Std:  2.36412\n"
          ],
          "name": "stdout"
        },
        {
          "output_type": "stream",
          "text": [
            "/usr/local/lib/python3.6/dist-packages/statsmodels/tools/_testing.py:19: FutureWarning: pandas.util.testing is deprecated. Use the functions in the public API at pandas.testing instead.\n",
            "  import pandas.util.testing as tm\n"
          ],
          "name": "stderr"
        },
        {
          "output_type": "execute_result",
          "data": {
            "text/plain": [
              "<matplotlib.axes._subplots.AxesSubplot at 0x7fbcea005a90>"
            ]
          },
          "metadata": {
            "tags": []
          },
          "execution_count": 41
        },
        {
          "output_type": "display_data",
          "data": {
            "image/png": "[encoded data removed]",
            "text/plain": [
              "<Figure size 432x288 with 1 Axes>"
            ]
          },
          "metadata": {
            "tags": [],
            "needs_background": "light"
          }
        }
      ]
    },
    {
      "cell_type": "code",
      "metadata": {
        "id": "sGW47_XkfTGi",
        "colab_type": "code",
        "outputId": "2b23b623-fa15-447f-d4dc-6eead362f822",
        "colab": {
          "base_uri": "https://localhost:8080/",
          "height": 581
        }
      },
      "source": [
        "#分析6 クラスタリング\n",
        "#https://hironsan.hatenablog.com/entry/clustering-word-vectors\n",
        "\n",
        "from collections import defaultdict\n",
        "from gensim.models.keyedvectors import KeyedVectors\n",
        "from sklearn.cluster import KMeans\n",
        "\n",
        "model = KeyedVectors.load('skipgram_w2v.model')\n",
        "max_vocab = 30000\n",
        "vocab = list(model.wv.vocab.keys())[:max_vocab]\n",
        "vectors = [model.wv[word] for word in vocab]\n",
        "\n",
        "n_clusters = 30\n",
        "kmeans_model = KMeans(n_clusters=n_clusters, verbose=1, random_state=1234, n_jobs=-1)\n",
        "kmeans_model.fit(vectors)\n",
        "\n",
        "cluster_labels = kmeans_model.labels_\n",
        "cluster_to_words = defaultdict(list)\n",
        "for cluster_id, word in zip(cluster_labels, vocab):\n",
        "    cluster_to_words[cluster_id].append(word)\n",
        "\n",
        "for words in cluster_to_words.values():\n",
        "    print(words[:10])"
      ],
      "execution_count": 42,
      "outputs": [
        {
          "output_type": "stream",
          "text": [
            "/usr/local/lib/python3.6/dist-packages/smart_open/smart_open_lib.py:253: UserWarning: This function is deprecated, use smart_open.open instead. See the migration notes for details: https://github.com/RaRe-Technologies/smart_open/blob/master/README.rst#migrating-to-the-new-open-function\n",
            "  'See the migration notes for details: %s' % _MIGRATION_NOTES_URL\n"
          ],
          "name": "stderr"
        },
        {
          "output_type": "stream",
          "text": [
            "['trump', 'latest', 'fire', 'teamtrump', 'president', 'realdonaldtrump', 'leadership', 'hughhewitt', 'strategy', 'team']\n",
            "['gets', 'give', 'put', 'talk', 'ny', 'loser', 'thing', 'given', 'never', 'even']\n",
            "['poll', 'approval', 'best', 'trillion', 'since', 'million', 'economic', 'highest', 'economy', 'numbers']\n",
            "['6', '7', 'one', 'point', 'spent', '8', 'days', 'history', 'gopchairwoman', 'new']\n",
            "['tied', 'called', 'using', '”', 'cop', 'bucksexton', 'flynn', 'tried', 'released', 'indeed']\n",
            "['governor', 'michigan', 'night', 'great', 'incredible', 'wisconsin', 'jersey', 'proud', 'state', 'ryan']\n",
            "['little', 'good', 'back', 'deal', 'others', 'late', 'ventilators', 'getting', 'chinese', 'ultimately']\n",
            "['people', 'want', 'make', 'amp', 'making', 'working', 'hard', 'always', 'work', 'rest']\n",
            "['angry', 'brought', 'dirty', 'whole', 'case', 'seems', 'corruption', 'cops', 'mueller', 'lies']\n",
            "['lives', 'stand', 'mikepence', 'america', 'ensure', 'americans', 'every', 'day', 'message', '—']\n",
            "['see', 'run', 'supporters', '2020', 'big', 'election', '2016', 'iowa', 'joe', 'looking']\n",
            "['cryin', 'chuck', 'schumer', 'senators', 'voted', 'congress', 'democrats', 'speaker', 'pelosi', 'house']\n",
            "['home', 'states', 'testing', 'middle', 'gm', 'production', 'supply', 'us', 'financial', 'assistance']\n",
            "['totally', 'show', 'false', 'media', 'worse', 'fake', 'news', 'partner', 'cnn', 'msdnc']\n",
            "['stop', 'act', 'need', 'border', 'funding', 'allow', 'necessary', 'open', 'must', 'immigration']\n",
            "['cuomo', 'done', 'job', 'special', 'mike', 'deep', 'general', 'michael', 'williams', 'person']\n",
            "['lied', 'fusion', 'fbi', 'investigation', 'knew', 'james', 'documents', 'director', 'christopher', 'wray']\n",
            "['gave', 'pandemic', 'direction', 'responsible', 'may', 'spread', 'significant', 'management', 'devastating', 'around']\n",
            "['dollars', '25', 'pay', 'goods', 'paying', 'powell', 'higher', 'countries', 'federal', 'china']\n",
            "['east', 'war', 'test', 'meeting', 'sanctions', 'putin', 'seeing', 'spoke', 'forward', 'discussions']\n",
            "['authority', 'rep', 'jimjordan', 'swamp', 'refuses', 'th', 'elisestefanik', 'repandybiggsaz', 'gopleader', 'mccarthy']\n",
            "['defense', 'response', 'w', 'coronavirus', 'covid', 'officials', 'closely', 'law', 'enforcement', 'advice']\n",
            "['first', 'careful', 'tremendous', 'teachers', 'navy', 'sector', 'airport', 'receive', 'happy', 'executives']\n",
            "['farmers', 'ranchers', 'cut', 'small', 'business', 'tax', 'infrastructure', 'industry', 'businesses', 'taxpayers']\n",
            "['honor', 'whitehouse', 'live', 'potus', 'delivers', 'remarks', 'met', 'birthday', 'vp', 'oval']\n",
            "['\\u2066', '\\u2069', 'interview', 'marthamaccallum', 'morning', 'tonight', 'town', 'hall', 'pm', 'seanhannity']\n",
            "['military', 'vets', 'fighter', 'supports', 'loves', 'strong', 'crime', 'second', 'amendment', 'complete']\n",
            "['vote', 'opponent', 'tom', 'drain', 'kevin', 'brian', 'conservative', 'congressman', 'louisiana', 'district']\n",
            "['thank', 'laraleatrump', 'erictrump', 'god', '🇺', '🇸', 'join', 'danscavino', 'shortly', 'patriots']\n",
            "['ं', 'ी', 'क', 'े', '्', 'र', 'ा', 'ि', 'म', 'ह']\n"
          ],
          "name": "stdout"
        }
      ]
    },
    {
      "cell_type": "code",
      "metadata": {
        "id": "Fu0b2E73mdhz",
        "colab_type": "code",
        "outputId": "ec51c363-a206-46ee-f9cf-f69cfad50916",
        "colab": {
          "base_uri": "https://localhost:8080/",
          "height": 466
        }
      },
      "source": [
        "#分析7 似ている単語をプロット\n",
        "# https://yoshipc.net/python-word2vec/\n",
        " \n",
        "from gensim.models import word2vec\n",
        "import numpy as np\n",
        "import matplotlib.pyplot as plt\n",
        "from sklearn.decomposition import PCA\n",
        " \n",
        "model = word2vec.Word2Vec.load(\"/content/skipgram_w2v.model\")\n",
        " \n",
        "#調べる情報を配列に収納\n",
        "trump_word = []\n",
        "trump_word.append([\"america\",\"china\"])\n",
        "trump_word.append([\"america\",\"great\"])\n",
        "trump_word.append([\"america\",\"japan\"])\n",
        "trump_word.append([\"trump\",\"president\"])\n",
        "trump_word.append([\"coronavirus\",\"covid\"])\n",
        "trump_word.append([\"coronavirus\",\"economy\"])\n",
        "trump_word.append([\"stock\",\"economy\"])\n",
        "\n",
        "length = len(trump_word)\n",
        "data = []\n",
        " \n",
        "j = 0\n",
        "while j < length:\n",
        "    #print(trump_word[j][1])\n",
        "    data.append(model[trump_word[j][0]])\n",
        "    data.append(model[trump_word[j][1]])\n",
        "    j += 1\n",
        " \n",
        "pca = PCA(n_components=2)\n",
        "pca.fit(data)\n",
        "data_pca= pca.transform(data)\n",
        " \n",
        "length_data = len(data_pca)\n",
        " \n",
        "i = 0\n",
        "j = 0\n",
        "\n",
        "plt.figure(figsize=(2.4, 1.8), dpi=200)\n",
        "\n",
        "while i < length_data:\n",
        "    #点プロット\n",
        "    plt.plot(data_pca[i][0], data_pca[i][1], ms=5.0, zorder=2 ,marker=\"x\")\n",
        "    plt.plot(data_pca[i+1][0], data_pca[i+1][1],ms=5.0, zorder=2 ,marker=\"x\")\n",
        " \n",
        "    #線プロット\n",
        "    plt.plot((data_pca[i][0], data_pca[i+1][0]),(data_pca[i][1],data_pca[i+1][1]),c=\"b\",linewidth=0.5,zorder=1,linestyle=\"--\")\n",
        " \n",
        "    #文字プロット\n",
        "    plt.annotate(trump_word[j][0],(data_pca[i][0], data_pca[i][1]),size=7)\n",
        "    plt.annotate(trump_word[j][1],(data_pca[i+1][0], data_pca[i+1][1]),size=7)\n",
        " \n",
        "    j += 1\n",
        "    i += 2\n",
        " \n",
        "plt.show()"
      ],
      "execution_count": 43,
      "outputs": [
        {
          "output_type": "stream",
          "text": [
            "/usr/local/lib/python3.6/dist-packages/smart_open/smart_open_lib.py:253: UserWarning: This function is deprecated, use smart_open.open instead. See the migration notes for details: https://github.com/RaRe-Technologies/smart_open/blob/master/README.rst#migrating-to-the-new-open-function\n",
            "  'See the migration notes for details: %s' % _MIGRATION_NOTES_URL\n",
            "/usr/local/lib/python3.6/dist-packages/ipykernel_launcher.py:27: DeprecationWarning: Call to deprecated `__getitem__` (Method will be removed in 4.0.0, use self.wv.__getitem__() instead).\n",
            "/usr/local/lib/python3.6/dist-packages/ipykernel_launcher.py:28: DeprecationWarning: Call to deprecated `__getitem__` (Method will be removed in 4.0.0, use self.wv.__getitem__() instead).\n"
          ],
          "name": "stderr"
        },
        {
          "output_type": "display_data",
          "data": {
            "image/png": "[encoded data removed]",
            "text/plain": [
              "<Figure size 480x360 with 1 Axes>"
            ]
          },
          "metadata": {
            "tags": [],
            "needs_background": "light"
          }
        }
      ]
    },
    {
      "cell_type": "code",
      "metadata": {
        "id": "zXq4SYqwp5Xu",
        "colab_type": "code",
        "colab": {}
      },
      "source": [
        "#分析8 DeepLearning\n",
        "#ライブラリをインポート\n",
        "\n",
        "import numpy as np\n",
        "import pandas as pd\n",
        "import torch\n",
        "from torch import nn\n",
        "from torch import optim\n",
        "import torch.nn.functional as F\n",
        "from torch.utils.data import DataLoader, TensorDataset\n",
        "from sklearn.model_selection import train_test_split\n",
        "from sklearn.metrics import confusion_matrix\n",
        "import matplotlib.pyplot as plt"
      ],
      "execution_count": 0,
      "outputs": []
    },
    {
      "cell_type": "code",
      "metadata": {
        "id": "4uecjMVBTBij",
        "colab_type": "code",
        "colab": {}
      },
      "source": [
        "class myMLP(nn.Module):\n",
        "    def __init__(self, in_features, out_features):\n",
        "        super().__init__()\n",
        "        self.ln1 = nn.Linear(in_features, 256)\n",
        "        self.ln2 = nn.Linear(256, 128)\n",
        "        self.ln3 = nn.Linear(128, 32)\n",
        "        self.ln4 = nn.Linear(32, 64)\n",
        "        self.ln5 = nn.Linear(64, 32)\n",
        "        self.ln6 = nn.Linear(32, 4)\n",
        "        self.ln7 = nn.Linear(4, out_features)\n",
        "\n",
        "    def forward(self, x):\n",
        "        x = self.ln1(x)\n",
        "        x = F.relu(x)\n",
        "        x = self.ln2(x)\n",
        "        x = F.relu(x)\n",
        "        x = self.ln3(x)\n",
        "        x = F.relu(x)\n",
        "        x = self.ln4(x)\n",
        "        x = F.relu(x)\n",
        "        x = self.ln5(x)\n",
        "        x = F.relu(x)\n",
        "        x = self.ln6(x)\n",
        "        x = F.relu(x)\n",
        "        x = self.ln7(x)\n",
        "        return x"
      ],
      "execution_count": 0,
      "outputs": []
    },
    {
      "cell_type": "code",
      "metadata": {
        "id": "_qwTPkn83jED",
        "colab_type": "code",
        "outputId": "c65953f1-dc92-4797-84c4-fdc344b14bf6",
        "colab": {
          "base_uri": "https://localhost:8080/",
          "height": 404
        }
      },
      "source": [
        "#分析8 DeepLearning\n",
        "# NumPyのarryをtorch.tensor型に変換する。\n",
        "\n",
        "X_train, X_test, y_train, y_test = train_test_split(\n",
        "    X, y, test_size=0.2, random_state=1234)\n",
        "\n",
        "X_train_tensor = torch.tensor(X_train, dtype=torch.float32)\n",
        "y_train_tensor = torch.tensor(y_train, dtype=torch.float32)\n",
        "X_test_tensor = torch.tensor(X_test, dtype=torch.float32)\n",
        "y_test_tensor = torch.tensor(y_test, dtype=torch.float32)\n",
        "\n",
        "train_dataset = TensorDataset(X_train_tensor, y_train_tensor)\n",
        "train_loader = DataLoader(train_dataset, batch_size=100, shuffle=True)\n",
        "\n",
        "#ネットワークを書く\n",
        "net = myMLP(300,1)\n",
        "net.parameters\n",
        "\n",
        "#目的関数を指定（今回は回帰問題のためMSELoss()を使用する）\n",
        "#https://pytorch.org/docs/stable/nn.html#loss-functions\n",
        "loss_func = nn.MSELoss()\n",
        "#Optimizerを定義する\n",
        "#https://pytorch.org/docs/stable/optim.html\n",
        "optimizer = optim.RMSprop(net.parameters())\n",
        "  \n",
        "train_loss_track = []\n",
        "test_loss_track = []\n",
        "\n",
        "for epoc in range(10):\n",
        "    running_loss = 0\n",
        "    \n",
        "    # 学習モード\n",
        "    net.train()\n",
        "    for step, (xx, yy)  in enumerate(train_loader):\n",
        "        \n",
        "        # 最後に計算した各パラメーターの勾配を初期化する\n",
        "        optimizer.zero_grad()\n",
        "        \n",
        "        # フォワード計算を行う\n",
        "        y_pred = net(xx).float()\n",
        "        \n",
        "        # 誤差関数を使ってギャップの計測\n",
        "        loss = loss_func(y_pred, yy)\n",
        "      \n",
        "        # 誤差逆伝播法を使って自動微分\n",
        "        loss.backward()\n",
        "        \n",
        "        # パラメーターを更新\n",
        "        optimizer.step()\n",
        "        \n",
        "        # 学習データを使って誤差を計算\n",
        "        running_loss += loss.item()\n",
        "        \n",
        "    # エポックが終了したら平均誤差を計算\n",
        "    train_loss_track.append(running_loss/step)\n",
        "    \n",
        "    \n",
        "    #評価（evaluation）モード\n",
        "    net.eval()\n",
        "    \n",
        "    # 予測値を計算\n",
        "    y_pred = net(X_test_tensor)\n",
        "    \n",
        "    # 誤差関数を計算\n",
        "    test_loss = loss_func(y_pred, y_test_tensor)\n",
        "    \n",
        "    # 誤差をトラッキング\n",
        "    test_loss_track.append(test_loss)\n",
        "\n",
        "\n",
        "\n",
        "plt.plot(train_loss_track)\n",
        "plt.plot(test_loss_track)\n",
        "print(\"test_loss: \",sum(test_loss_track)/len(test_loss_track))"
      ],
      "execution_count": 46,
      "outputs": [
        {
          "output_type": "stream",
          "text": [
            "/usr/local/lib/python3.6/dist-packages/torch/nn/modules/loss.py:432: UserWarning: Using a target size (torch.Size([100])) that is different to the input size (torch.Size([100, 1])). This will likely lead to incorrect results due to broadcasting. Please ensure they have the same size.\n",
            "  return F.mse_loss(input, target, reduction=self.reduction)\n",
            "/usr/local/lib/python3.6/dist-packages/torch/nn/modules/loss.py:432: UserWarning: Using a target size (torch.Size([57])) that is different to the input size (torch.Size([57, 1])). This will likely lead to incorrect results due to broadcasting. Please ensure they have the same size.\n",
            "  return F.mse_loss(input, target, reduction=self.reduction)\n",
            "/usr/local/lib/python3.6/dist-packages/torch/nn/modules/loss.py:432: UserWarning: Using a target size (torch.Size([165])) that is different to the input size (torch.Size([165, 1])). This will likely lead to incorrect results due to broadcasting. Please ensure they have the same size.\n",
            "  return F.mse_loss(input, target, reduction=self.reduction)\n"
          ],
          "name": "stderr"
        },
        {
          "output_type": "stream",
          "text": [
            "test_loss:  tensor(0.0064, grad_fn=<DivBackward0>)\n"
          ],
          "name": "stdout"
        },
        {
          "output_type": "display_data",
          "data": {
            "image/png": "[encoded data removed]",
            "text/plain": [
              "<Figure size 432x288 with 1 Axes>"
            ]
          },
          "metadata": {
            "tags": [],
            "needs_background": "light"
          }
        }
      ]
    },
    {
      "cell_type": "code",
      "metadata": {
        "id": "Zs3RyM14_Was",
        "colab_type": "code",
        "outputId": "9feaa7a7-fae5-4480-adc4-df308fd8f8ca",
        "colab": {
          "base_uri": "https://localhost:8080/",
          "height": 537
        }
      },
      "source": [
        "#分析9　TFIDFを用いたランダムフォレスト\n",
        "\n",
        "#形態素解析のデータセットを作る\n",
        "#https://qiita.com/tomone_hata/items/67e7f9415dbf5c8ff8ba\n",
        "\n",
        "from sklearn.feature_extraction.text import CountVectorizer, TfidfTransformer\n",
        "\n",
        "#形態素解析のデータセットを作る\n",
        "#文章を全部１つのリストに入れる→TFIDFを作る→それぞれの日付に出てくる単語をKeyにTFIDFの値を取ってくる\n",
        "\n",
        "data_keitaiso = pd.read_csv(\"s&p_tweets.csv\")\n",
        "tweet_keitaiso=[]\n",
        "\n",
        "for tweet in data_keitaiso[\"text\"]:\n",
        "  tweet = re.sub(r'^RT[\\s]+', '', tweet)\n",
        "  tweet = re.sub(r'(http|https):\\/\\/.*[\\r\\n]*', '', tweet)\n",
        "  tweet = re.sub(r'#', '', tweet)\n",
        "  tweet = tweet.translate(str.maketrans('', '', string.punctuation)) \n",
        "  tweet_keitaiso.append(tweet)\n",
        "\n",
        "corpus = tweet_keitaiso         \n",
        "cv = CountVectorizer(token_pattern=r\"\\b\\w+\\b\")\n",
        "wc = cv.fit_transform(corpus)\n",
        "ttf = TfidfTransformer()\n",
        "tfidf = ttf.fit_transform(wc)\n",
        "\n",
        "#蜜行列に変更する\n",
        "X_tfidf = tfidf.toarray()\n",
        "\n",
        "data3 = pd.DataFrame(X_tfidf)\n",
        "df_tweets_tfidf =  pd.concat([data_keitaiso, data3], axis=1)\n",
        "\n",
        "df = df_tweets_tfidf.groupby([\"date\"]).mean()\n",
        "df_sp = pd.read_csv(\"/content/sp500-10-year-daily-chart.csv\")\n",
        "df_sp[\"log\"] = np.log(df_sp[\" value\"])\n",
        "df_sp[\"dif_log\"] = df_sp[\"log\"].diff()\n",
        "df2=pd.merge(df_sp, df, how=\"inner\" ,on=\"date\")\n",
        "df2 = df2.drop(\" value\", axis=1)\n",
        "df3 = df_tweets_tfidf[[\"date\",\"text\"]]\n",
        "df3 = df3.groupby([\"date\"]).count()\n",
        "df_tfidf = pd.merge( df3, df2, how=\"inner\" ,on=\"date\")\n",
        "df_tfidf[\"date\"] = pd.to_datetime(df4['date']).astype('int64')\n",
        "\n",
        "from sklearn.model_selection import train_test_split\n",
        "\n",
        "target_col = 'dif_log'\n",
        "exclude_cols = ['log', 'price', 'dif_log', \"date\",\"text\"]\n",
        "feature_cols = []\n",
        "for col in df_tfidf.columns:\n",
        "    if col not in exclude_cols:\n",
        "        feature_cols.append(col)\n",
        "        \n",
        "X2 = np.array(df_tfidf[feature_cols])\n",
        "y2 = np.array(df_tfidf[target_col])\n",
        "\n",
        "X２_train_val, X２_test, y２_train_val, y２_test = train_test_split(\n",
        "    X２, y２, test_size=0.1, random_state=1234)\n",
        "\n",
        "X２_train, X２_val, y２_train, y２_val = train_test_split(\n",
        "    X２_train_val, y２_train_val, test_size=0.1, random_state=1234)\n",
        "\n",
        "#分析\n",
        "from sklearn.ensemble import RandomForestRegressor\n",
        "\n",
        "rf = RandomForestRegressor(n_estimators=100, random_state=1234)\n",
        "rf.fit(X２_train, y２_train)\n",
        "y２_pred = rf.predict(X２_val)\n",
        "rf_mse_2 = mean_squared_error(y２_val, y２_pred)\n",
        "print('RandomForestRegressor RMSE: ', round(np.sqrt(rf_mse_2), 3))\n",
        "\n",
        "#プロット\n",
        "rf_importances = pd.DataFrame(rf.feature_importances_, columns=['importance'], index=feature_cols)\n",
        "rf_importances.sort_values('importance', ascending=False).iloc[0:15].plot(kind='barh')\n",
        "\n",
        "#列名をゲット\n",
        "#https://note.nkmk.me/python-dict-get-key-from-value/\n",
        "\n",
        "voca = cv.vocabulary_\n",
        "\n",
        "def get_keys_from_value(d, val):\n",
        "    return [k for k, v in d.items() if v == val]\n",
        "\n",
        "for i in rf_importances.sort_values('importance', ascending=False).iloc[0:15].index:\n",
        "  keys = get_keys_from_value(voca, i)\n",
        "  print(keys)\n",
        "# ['key1', 'key2']"
      ],
      "execution_count": 47,
      "outputs": [
        {
          "output_type": "stream",
          "text": [
            "RandomForestRegressor RMSE:  0.016\n",
            "['confident']\n",
            "['coronavirus']\n",
            "['declare']\n",
            "['nationwide']\n",
            "['duly']\n",
            "['spreading']\n",
            "['covid19']\n",
            "['practice']\n",
            "['cutter']\n",
            "['outbreak']\n",
            "['545']\n",
            "['prevail']\n",
            "['billcassidy']\n",
            "['restaurants']\n",
            "['jack']\n"
          ],
          "name": "stdout"
        },
        {
          "output_type": "display_data",
          "data": {
            "image/png": "[encoded data removed]",
            "text/plain": [
              "<Figure size 432x288 with 1 Axes>"
            ]
          },
          "metadata": {
            "tags": [],
            "needs_background": "light"
          }
        }
      ]
    },
    {
      "cell_type": "code",
      "metadata": {
        "id": "3fRvcdNFclQU",
        "colab_type": "code",
        "outputId": "3f6d98d3-8350-459e-8d7d-ca06316d3fbc",
        "colab": {
          "base_uri": "https://localhost:8080/",
          "height": 404
        }
      },
      "source": [
        "#分析10　形態素解析でDeepLearning\n",
        "\n",
        "X2_train, X2_test, y2_train, y2_test = train_test_split(\n",
        "    X２, y2, test_size=0.2, random_state=1234)\n",
        "\n",
        "X2_train_tensor = torch.tensor(X2_train, dtype=torch.float32)\n",
        "y2_train_tensor = torch.tensor(y2_train, dtype=torch.float32)\n",
        "X2_test_tensor = torch.tensor(X2_test, dtype=torch.float32)\n",
        "y2_test_tensor = torch.tensor(y2_test, dtype=torch.float32)\n",
        "\n",
        "train2_dataset = TensorDataset(X2_train_tensor, y2_train_tensor)\n",
        "train2_loader = DataLoader(train2_dataset, batch_size=100, shuffle=True)\n",
        "\n",
        "#ネットワークを書く\n",
        "net = myMLP(16493,1)\n",
        "net.parameters\n",
        "\n",
        "#目的関数を指定（今回は回帰問題のためMSELoss()を使用する）\n",
        "#https://pytorch.org/docs/stable/nn.html#loss-functions\n",
        "loss_func = nn.MSELoss()\n",
        "#Optimizerを定義する\n",
        "#https://pytorch.org/docs/stable/optim.html\n",
        "optimizer = optim.RMSprop(net.parameters())\n",
        "  \n",
        "train_loss_track = []\n",
        "test_loss_track = []\n",
        "\n",
        "for epoc in range(10):\n",
        "    running_loss = 0\n",
        "    \n",
        "    # 学習モード\n",
        "    net.train()\n",
        "    for step, (xx, yy)  in enumerate(train2_loader):\n",
        "        \n",
        "        # 最後に計算した各パラメーターの勾配を初期化する\n",
        "        optimizer.zero_grad()\n",
        "        \n",
        "        # フォワード計算を行う\n",
        "        y_pred = net(xx).float()\n",
        "        \n",
        "        # 誤差関数を使ってギャップの計測\n",
        "        loss = loss_func(y_pred, yy)\n",
        "      \n",
        "        # 誤差逆伝播法を使って自動微分\n",
        "        loss.backward()\n",
        "        \n",
        "        # パラメーターを更新\n",
        "        optimizer.step()\n",
        "        \n",
        "        # 学習データを使って誤差を計算\n",
        "        running_loss += loss.item()\n",
        "        \n",
        "    # エポックが終了したら平均誤差を計算\n",
        "    train_loss_track.append(running_loss/step)\n",
        "    \n",
        "    \n",
        "    #評価（evaluation）モード\n",
        "    net.eval()\n",
        "    \n",
        "    # 予測値を計算\n",
        "    y_pred = net(X2_test_tensor)\n",
        "    \n",
        "    # 誤差関数を計算\n",
        "    test_loss = loss_func(y_pred, y2_test_tensor)\n",
        "    \n",
        "    # 誤差をトラッキング\n",
        "    test_loss_track.append(test_loss)\n",
        "\n",
        "\n",
        "\n",
        "plt.plot(train_loss_track)\n",
        "plt.plot(test_loss_track)\n",
        "print(\"test_loss: \",sum(test_loss_track)/len(test_loss_track))"
      ],
      "execution_count": 48,
      "outputs": [
        {
          "output_type": "stream",
          "text": [
            "/usr/local/lib/python3.6/dist-packages/torch/nn/modules/loss.py:432: UserWarning: Using a target size (torch.Size([100])) that is different to the input size (torch.Size([100, 1])). This will likely lead to incorrect results due to broadcasting. Please ensure they have the same size.\n",
            "  return F.mse_loss(input, target, reduction=self.reduction)\n",
            "/usr/local/lib/python3.6/dist-packages/torch/nn/modules/loss.py:432: UserWarning: Using a target size (torch.Size([57])) that is different to the input size (torch.Size([57, 1])). This will likely lead to incorrect results due to broadcasting. Please ensure they have the same size.\n",
            "  return F.mse_loss(input, target, reduction=self.reduction)\n",
            "/usr/local/lib/python3.6/dist-packages/torch/nn/modules/loss.py:432: UserWarning: Using a target size (torch.Size([165])) that is different to the input size (torch.Size([165, 1])). This will likely lead to incorrect results due to broadcasting. Please ensure they have the same size.\n",
            "  return F.mse_loss(input, target, reduction=self.reduction)\n"
          ],
          "name": "stderr"
        },
        {
          "output_type": "stream",
          "text": [
            "test_loss:  tensor(0.0003, grad_fn=<DivBackward0>)\n"
          ],
          "name": "stdout"
        },
        {
          "output_type": "display_data",
          "data": {
            "image/png": "[encoded data removed]",
            "text/plain": [
              "<Figure size 432x288 with 1 Axes>"
            ]
          },
          "metadata": {
            "tags": [],
            "needs_background": "light"
          }
        }
      ]
    },
    {
      "cell_type": "code",
      "metadata": {
        "id": "bUApNSsf5GmF",
        "colab_type": "code",
        "outputId": "9fbd154a-5e4e-4b30-dfa4-7faea537efc9",
        "colab": {
          "base_uri": "https://localhost:8080/",
          "height": 85
        }
      },
      "source": [
        "#分析11 アンサンブル学習\n",
        "# https://blog.ikedaosushi.com/entry/2018/10/21/204842?t=0\n",
        "\n",
        "random_state = 1234\n",
        "\n",
        "X_train_valid, X_meta_valid, y_train_valid, y_meta_valid = train_test_split(X, y, test_size=0.1, random_state=random_state)\n",
        "X_train, X_valid, y_train, y_valid = train_test_split(X_train_valid, y_train_valid, test_size=0.1, random_state=random_state)\n",
        "\n",
        "import lightgbm as lgb\n",
        "import sklearn\n",
        "from sklearn.linear_model import LinearRegression\n",
        "from sklearn.model_selection import train_test_split\n",
        "from sklearn.metrics import mean_squared_error\n",
        "from sklearn.neighbors import KNeighborsRegressor\n",
        "from lightgbm import LGBMRegressor\n",
        "\n",
        "# train base model\n",
        "base_model_1 = LinearRegression()\n",
        "base_model_2 = LGBMRegressor()\n",
        "base_model_3 = KNeighborsRegressor()\n",
        "\n",
        "base_model_1.fit(X_train, y_train)\n",
        "base_model_2.fit(X_train, y_train)\n",
        "base_model_3.fit(X_train, y_train)\n",
        "\n",
        "# base predicts\n",
        "base_pred_1 = base_model_1.predict(X_valid)\n",
        "base_pred_2 = base_model_2.predict(X_valid)\n",
        "base_pred_3 = base_model_3.predict(X_valid)\n",
        "\n",
        "# test predicts for final result \n",
        "valid_pred_1 = base_model_1.predict(X_meta_valid)\n",
        "valid_pred_2 = base_model_2.predict(X_meta_valid)\n",
        "valid_pred_3 = base_model_3.predict(X_meta_valid)\n",
        "\n",
        "print (\"mean squared error of model 1: {:.4f}\".format(mean_squared_error(y_meta_valid, valid_pred_1)) )\n",
        "print (\"mean squared error of model 2: {:.4f}\".format(mean_squared_error(y_meta_valid, valid_pred_2)) )\n",
        "print (\"mean squared error of model 3: {:.4f}\".format(mean_squared_error(y_meta_valid, valid_pred_3)) )\n",
        "\n",
        "# stack base predicts for training meta model\n",
        "stacked_predictions = np.column_stack((base_pred_1, base_pred_2, base_pred_3))\n",
        "\n",
        "# stack test predicts for final result \n",
        "stacked_valid_predictions = np.column_stack((valid_pred_1, valid_pred_2, valid_pred_3))\n",
        "\n",
        "# train meta model \n",
        "meta_model = LinearRegression()\n",
        "meta_model.fit(stacked_predictions, y_valid)\n",
        "\n",
        "# final result \n",
        "meta_valid_pred = meta_model.predict(stacked_valid_predictions)\n",
        "print (\"mean squared error of meta model: {:.4f}\".format(mean_squared_error(y_meta_valid, meta_valid_pred)) )\n"
      ],
      "execution_count": 49,
      "outputs": [
        {
          "output_type": "stream",
          "text": [
            "mean squared error of model 1: 0.0003\n",
            "mean squared error of model 2: 0.0001\n",
            "mean squared error of model 3: 0.0002\n",
            "mean squared error of meta model: 0.0002\n"
          ],
          "name": "stdout"
        }
      ]
    },
    {
      "cell_type": "code",
      "metadata": {
        "id": "pcp2tIVEfTGo",
        "colab_type": "code",
        "colab": {}
      },
      "source": [
        "#上手くいってない\n",
        "#分析6 Doc2Vecでツイートをクラスタリングする①\n",
        "#https://qiita.com/g-k/items/5ea94c13281f675302ca\n",
        "\n",
        "#from gensim.models.doc2vec import Doc2Vec, TaggedDocument\n",
        "#from gensim import models\n",
        "\n",
        "#documents = [TaggedDocument(doc, [i]) for i, doc in enumerate(sentences)]\n",
        "#model = Doc2Vec(documents, vector_size=300, window=5, min_count=1, workers=4)\n",
        "#model.save(\"doc2_w2v.model\")"
      ],
      "execution_count": 0,
      "outputs": []
    },
    {
      "cell_type": "code",
      "metadata": {
        "id": "Ge2VGRbHfTGr",
        "colab_type": "code",
        "colab": {}
      },
      "source": [
        "#上手くいってない\n",
        "#分析6 Doc2Vecでツイートをクラスタリングする②\n",
        "#https://qiita.com/naotaka1128/items/e617f63907fed035408a\n",
        "\n",
        "#model = models.Doc2Vec.load('/content/doc2_w2v.model')\n",
        "\n",
        "from sklearn.decomposition import PCA\n",
        "import matplotlib.pyplot as plt\n",
        "\n",
        "def draw_word_scatter(word, topn=30):\n",
        "    \"\"\" 入力されたwordに似ている単語の分布図を描くためのメソッド \"\"\"\n",
        "\n",
        "    # 似ている単語を求めるためにはGensim word2vecの以下の機能を利用\n",
        "    # model.most_similar(word, topn=topn)\n",
        "    words = [x[0] for x in sorted(model.most_similar(word, topn=topn))]\n",
        "    words.append(word)\n",
        "\n",
        "    # 各単語のベクトル表現を求めます。Gensimのmost_similarをベースとして\n",
        "    # 単語のベクトルを返すメソッド(model.calc_vec)を定義しています\n",
        "    # 長くなるので実装は本稿の末尾に記載しました。\n",
        "    vecs = [model.calc_vec(word) for word in words]\n",
        "\n",
        "    # 分布図\n",
        "    draw_scatter_plot(vecs, words)\n",
        "\n",
        "def draw_scatter_plot(vecs, tags, clusters):\n",
        "    \"\"\" 入力されたベクトルに基づき散布図(ラベル付き)を描くためのメソッド \"\"\"\n",
        "\n",
        "    # Scikit-learnのPCAによる次元削減とその可視化\n",
        "    pca = PCA(n_components=2)\n",
        "    coords = pca.fit_transform(vecs)\n",
        "\n",
        "    # matplotlibによる可視化\n",
        "    fig, ax = plt.subplots()\n",
        "    x = [v[0] for v in coords]\n",
        "    y = [v[1] for v in coords]\n",
        "\n",
        "    # 各点のクラスターが設定されていればクラスタを考慮\n",
        "    # エラーハンドリングは適当\n",
        "    if clusters:\n",
        "        ax.scatter(x, y, c=clusters)\n",
        "    else:\n",
        "        ax.scatter(x, y)\n",
        "\n",
        "    for i, txt in enumerate(tags):\n",
        "        ax.annotate(txt, (coords[i][0], coords[i][1]))\n",
        "    plt.show()\n",
        "    \n",
        "#draw_word_scatter('coronavirus', topn=40)"
      ],
      "execution_count": 0,
      "outputs": []
    },
    {
      "cell_type": "code",
      "metadata": {
        "id": "o9aiwySJh-Kg",
        "colab_type": "code",
        "colab": {}
      },
      "source": [
        "#　まだできていない\n",
        "# モデルの精度を確認する\n",
        "# https://note.com/uki_profit/n/nab22a04262f9"
      ],
      "execution_count": 0,
      "outputs": []
    },
    {
      "cell_type": "code",
      "metadata": {
        "id": "Rc2BiUt2ikqY",
        "colab_type": "code",
        "outputId": "42267e9b-61d1-43c1-85c3-622eb67f6966",
        "colab": {
          "base_uri": "https://localhost:8080/",
          "height": 134
        }
      },
      "source": [
        "#分析２　決定木　描画\n",
        "\n",
        "#$ brew install graphviz\n",
        "\n",
        "#from sklearn.tree import export_graphviz\n",
        "#export_graphviz(regressor, out_file='tree.dot', feature_names=['nth', 'holiday'])\n",
        "\n",
        "#$ dot -Tpng tree.dot -o tree.png"
      ],
      "execution_count": 34,
      "outputs": [
        {
          "output_type": "error",
          "ename": "SyntaxError",
          "evalue": "ignored",
          "traceback": [
            "\u001b[0;36m  File \u001b[0;32m\"<ipython-input-34-09a86aeb53e5>\"\u001b[0;36m, line \u001b[0;32m3\u001b[0m\n\u001b[0;31m    $ brew install graphviz\u001b[0m\n\u001b[0m    ^\u001b[0m\n\u001b[0;31mSyntaxError\u001b[0m\u001b[0;31m:\u001b[0m invalid syntax\n"
          ]
        }
      ]
    }
  ]
}