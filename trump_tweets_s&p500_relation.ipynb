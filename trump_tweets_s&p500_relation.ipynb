{
  "nbformat": 4,
  "nbformat_minor": 0,
  "metadata": {
    "kernelspec": {
      "display_name": "Python 3",
      "language": "python",
      "name": "python3"
    },
    "language_info": {
      "codemirror_mode": {
        "name": "ipython",
        "version": 3
      },
      "file_extension": ".py",
      "mimetype": "text/x-python",
      "name": "python",
      "nbconvert_exporter": "python",
      "pygments_lexer": "ipython3",
      "version": "3.7.4"
    },
    "colab": {
      "name": "trump_tweets_s&p500_relation.ipynb",
      "provenance": [],
      "collapsed_sections": [],
      "include_colab_link": true
    }
  },
  "cells": [
    {
      "cell_type": "markdown",
      "metadata": {
        "id": "view-in-github",
        "colab_type": "text"
      },
      "source": [
        "<a href=\"https://colab.research.google.com/github/katsuki-nagakubo/Tweets_Word2vec/blob/master/trump_tweets_s%26p500_relation.ipynb\" target=\"_parent\"><img src=\"https://colab.research.google.com/assets/colab-badge.svg\" alt=\"Open In Colab\"/></a>"
      ]
    },
    {
      "cell_type": "code",
      "metadata": {
        "id": "5TBDVbUQfTEM",
        "colab_type": "code",
        "colab": {}
      },
      "source": [
        "#データの取得と成形\n",
        "\n",
        "import pandas as pd\n",
        "import numpy as np\n",
        "import matplotlib.pyplot as plt "
      ],
      "execution_count": 0,
      "outputs": []
    },
    {
      "cell_type": "code",
      "metadata": {
        "id": "0etwSm9DfTEU",
        "colab_type": "code",
        "outputId": "f5e68347-830f-4211-8ade-d68d0427fb7f",
        "colab": {
          "base_uri": "https://localhost:8080/",
          "height": 34
        }
      },
      "source": [
        "#https://teratail.com/questions/128725\n",
        "\n",
        "from ast import literal_eval\n",
        "from pprint import pprint\n",
        "\n",
        "f = open('/content/trump_tweets.txt', 'r')\n",
        "text = f.read()\n",
        "mylist = literal_eval(text)\n",
        "\n",
        "print(type(mylist), type(mylist[0]))"
      ],
      "execution_count": 2,
      "outputs": [
        {
          "output_type": "stream",
          "text": [
            "<class 'list'> <class 'dict'>\n"
          ],
          "name": "stdout"
        }
      ]
    },
    {
      "cell_type": "code",
      "metadata": {
        "id": "e2D_Z2KUfTEY",
        "colab_type": "code",
        "outputId": "b7eb1b95-97a9-47db-9403-451b55a721dc",
        "colab": {
          "base_uri": "https://localhost:8080/",
          "height": 34
        }
      },
      "source": [
        "df_text=[]\n",
        "df_created_at=[]\n",
        "df_id_str=[]\n",
        "\n",
        "print(len(mylist),\"tweets\")\n",
        "\n",
        "for i in range(len(mylist)):\n",
        "    text = mylist[i][\"text\"]\n",
        "    created_at = mylist[i][\"created_at\"]\n",
        "    id_str = mylist[i][\"id_str\"]\n",
        "    df_text.append(text)\n",
        "    df_created_at.append(created_at)\n",
        "    df_id_str.append(id_str)\n",
        "\n",
        "tweet_list=[df_created_at,df_id_str,df_text]\n",
        "#print(tweet_list)"
      ],
      "execution_count": 3,
      "outputs": [
        {
          "output_type": "stream",
          "text": [
            "17544 tweets\n"
          ],
          "name": "stdout"
        }
      ]
    },
    {
      "cell_type": "code",
      "metadata": {
        "id": "FfVe8YhPfTEc",
        "colab_type": "code",
        "colab": {}
      },
      "source": [
        "#https://ai-inter1.com/pandas-dataframe_basic/\n",
        "#リスト型にしたデータをPandasでDataFrameにした\n",
        "\n",
        "columns1=[\"created_at\"]\n",
        "tweet_data = pd.DataFrame( data = df_created_at, columns = columns1)\n",
        "tweet_data[\"id\"]=df_id_str\n",
        "tweet_data[\"text\"] = df_text"
      ],
      "execution_count": 0,
      "outputs": []
    },
    {
      "cell_type": "code",
      "metadata": {
        "id": "njrdAvuzfTEf",
        "colab_type": "code",
        "colab": {}
      },
      "source": [
        "#https://teratail.com/questions/132333\n",
        "#https://note.nkmk.me/python-pandas-datetime-timestamp/\n",
        "\n",
        "tweet_data[\"time_created_at\"] = pd.to_datetime(tweet_data['created_at'])\n",
        "tweet_data[\"date_created_at\"] = tweet_data[\"time_created_at\"].dt.date\n",
        "tweet_data[\"key\"]=pd.to_datetime(tweet_data[\"date_created_at\"])"
      ],
      "execution_count": 0,
      "outputs": []
    },
    {
      "cell_type": "code",
      "metadata": {
        "id": "iZi3fq8nfTEj",
        "colab_type": "code",
        "colab": {}
      },
      "source": [
        "# https://www.macrotrends.net/2488/sp500-10-year-daily-chart\n",
        "\n",
        "sp_data = pd.read_csv('/content/sp500-10-year-daily-chart.csv')\n",
        "sp_data[\"date_64\"] = pd.to_datetime(sp_data[\"date\"])\n",
        "sp_data[\"key\"] =sp_data[\"date_64\"] "
      ],
      "execution_count": 0,
      "outputs": []
    },
    {
      "cell_type": "code",
      "metadata": {
        "id": "Lb8q3TCTfTEn",
        "colab_type": "code",
        "outputId": "c41a4b19-280a-42ec-edbc-e06809ddf3ac",
        "colab": {
          "base_uri": "https://localhost:8080/",
          "height": 204
        }
      },
      "source": [
        "#内部結合\n",
        "#http://pppurple.hatenablog.com/entry/2016/06/27/022310#inner-join\n",
        "#https://note.nkmk.me/python-pandas-merge-join/\n",
        "\n",
        "tweet_data=pd.merge(tweet_data, sp_data)\n",
        "tweet_data.columns\n",
        "data = tweet_data[[\"key\",\" value\",\"text\"]]\n",
        "\n",
        "#行の名前を変更する　20200505\n",
        "data = data.rename(columns={\"key\": \"date\",\" value\":\"price\"})\n",
        "data.head()"
      ],
      "execution_count": 7,
      "outputs": [
        {
          "output_type": "execute_result",
          "data": {
            "text/html": [
              "<div>\n",
              "<style scoped>\n",
              "    .dataframe tbody tr th:only-of-type {\n",
              "        vertical-align: middle;\n",
              "    }\n",
              "\n",
              "    .dataframe tbody tr th {\n",
              "        vertical-align: top;\n",
              "    }\n",
              "\n",
              "    .dataframe thead th {\n",
              "        text-align: right;\n",
              "    }\n",
              "</style>\n",
              "<table border=\"1\" class=\"dataframe\">\n",
              "  <thead>\n",
              "    <tr style=\"text-align: right;\">\n",
              "      <th></th>\n",
              "      <th>date</th>\n",
              "      <th>price</th>\n",
              "      <th>text</th>\n",
              "    </tr>\n",
              "  </thead>\n",
              "  <tbody>\n",
              "    <tr>\n",
              "      <th>0</th>\n",
              "      <td>2020-05-01</td>\n",
              "      <td>2830.71</td>\n",
              "      <td>RT @StevenTDennis: Trump gets bump in latest G...</td>\n",
              "    </tr>\n",
              "    <tr>\n",
              "      <th>1</th>\n",
              "      <td>2020-05-01</td>\n",
              "      <td>2830.71</td>\n",
              "      <td>The Governor of Michigan should give a little,...</td>\n",
              "    </tr>\n",
              "    <tr>\n",
              "      <th>2</th>\n",
              "      <td>2020-05-01</td>\n",
              "      <td>2830.71</td>\n",
              "      <td>Cryin Chuck Schumer, compared to what other Se...</td>\n",
              "    </tr>\n",
              "    <tr>\n",
              "      <th>3</th>\n",
              "      <td>2020-05-01</td>\n",
              "      <td>2830.71</td>\n",
              "      <td>Cryin’ Chuck Schumer was on a late night show ...</td>\n",
              "    </tr>\n",
              "    <tr>\n",
              "      <th>4</th>\n",
              "      <td>2020-05-01</td>\n",
              "      <td>2830.71</td>\n",
              "      <td>RT @TeamTrump: President @realDonaldTrump: “We...</td>\n",
              "    </tr>\n",
              "  </tbody>\n",
              "</table>\n",
              "</div>"
            ],
            "text/plain": [
              "        date    price                                               text\n",
              "0 2020-05-01  2830.71  RT @StevenTDennis: Trump gets bump in latest G...\n",
              "1 2020-05-01  2830.71  The Governor of Michigan should give a little,...\n",
              "2 2020-05-01  2830.71  Cryin Chuck Schumer, compared to what other Se...\n",
              "3 2020-05-01  2830.71  Cryin’ Chuck Schumer was on a late night show ...\n",
              "4 2020-05-01  2830.71  RT @TeamTrump: President @realDonaldTrump: “We..."
            ]
          },
          "metadata": {
            "tags": []
          },
          "execution_count": 7
        }
      ]
    },
    {
      "cell_type": "code",
      "metadata": {
        "id": "RbtHgL9gfTEr",
        "colab_type": "code",
        "outputId": "a3d9489b-e95a-426a-b37f-1f680b66d31a",
        "colab": {
          "base_uri": "https://localhost:8080/",
          "height": 34
        }
      },
      "source": [
        "# trumpが大統領になった2017年1月20日から、GW前2020年5月1日までのデータを分析する\n",
        "# https://qiita.com/mSpring/items/6ec1ab28dcb261db2c73\n",
        "\n",
        "import datetime as dt\n",
        "data2 = data[(data['date'] >= dt.datetime(2017,1,20)) & (data['date'] <= dt.datetime(2020,5,1))]\n",
        "print( \"2017/01/20 - 2020/05/01のツイート数は\", len(data2))"
      ],
      "execution_count": 8,
      "outputs": [
        {
          "output_type": "stream",
          "text": [
            "2017/01/20 - 2020/05/01のツイート数は 12259\n"
          ],
          "name": "stdout"
        }
      ]
    },
    {
      "cell_type": "code",
      "metadata": {
        "id": "5uWu1eYpfTEv",
        "colab_type": "code",
        "colab": {}
      },
      "source": [
        "#新しいデータを追加すると上書き保存されるようにmode=\"a\"にした。\n",
        "\n",
        "#初回だけ,headerはTrue\n",
        "#data2.to_csv(\"s&p_tweets.csv\", index=False, mode='a', header=True)\n",
        "#2回目以降はFalse\n",
        "#data2.to_csv(\"s&p_tweets.csv\", index=False, mode='a', header=False)"
      ],
      "execution_count": 0,
      "outputs": []
    },
    {
      "cell_type": "code",
      "metadata": {
        "id": "nJcHtQApfTEy",
        "colab_type": "code",
        "outputId": "5a9bfebd-1482-4df5-cd3e-a82351f41a90",
        "colab": {
          "base_uri": "https://localhost:8080/",
          "height": 34
        }
      },
      "source": [
        "# Fileを読み込むことで最新のデータで分析できる\n",
        "\n",
        "data = pd.read_csv(\"s&p_tweets.csv\")\n",
        "print( len(data),\"tweets\")"
      ],
      "execution_count": 10,
      "outputs": [
        {
          "output_type": "stream",
          "text": [
            "12259 tweets\n"
          ],
          "name": "stdout"
        }
      ]
    },
    {
      "cell_type": "code",
      "metadata": {
        "id": "UK-gdwmxfTE1",
        "colab_type": "code",
        "outputId": "99bac417-9409-4446-a728-15c57a11847e",
        "colab": {
          "base_uri": "https://localhost:8080/",
          "height": 88
        }
      },
      "source": [
        "#形態素解析\n",
        "#https://yottagin.com/?p=4360\n",
        "\n",
        "import nltk\n",
        "nltk.download('stopwords')\n",
        "\n",
        "tweet_tokenizer = nltk.tokenize.TweetTokenizer(preserve_case=False, strip_handles=True, reduce_len=True)\n",
        "for tweet in data[\"text\"][:1]:\n",
        "    print (tweet_tokenizer.tokenize(tweet))"
      ],
      "execution_count": 11,
      "outputs": [
        {
          "output_type": "stream",
          "text": [
            "[nltk_data] Downloading package stopwords to /root/nltk_data...\n",
            "[nltk_data]   Package stopwords is already up-to-date!\n",
            "['rt', ':', 'trump', 'gets', 'bump', 'in', 'latest', 'gallup', 'poll', ':', '49', '%', 'approval', '(', '+', '6', ',', 'tied', 'for', 'his', 'best', ')', '47', '%', 'disapproval', '(', '-', '7', ')']\n"
          ],
          "name": "stdout"
        }
      ]
    },
    {
      "cell_type": "code",
      "metadata": {
        "id": "DrfyzDEAfTE6",
        "colab_type": "code",
        "outputId": "8c13d735-74e5-49b1-9a84-d2fae8bd61d5",
        "colab": {
          "base_uri": "https://localhost:8080/",
          "height": 323
        }
      },
      "source": [
        "words = []\n",
        "for tweet in data[\"text\"]:\n",
        "    words += tweet_tokenizer.tokenize(tweet)\n",
        "\n",
        "fdist = nltk.FreqDist(words)\n",
        "fdist.plot(50)"
      ],
      "execution_count": 12,
      "outputs": [
        {
          "output_type": "display_data",
          "data": {
            "image/png": "[encoded data removed]",
            "text/plain": [
              "<Figure size 432x288 with 1 Axes>"
            ]
          },
          "metadata": {
            "tags": [],
            "needs_background": "light"
          }
        }
      ]
    },
    {
      "cell_type": "code",
      "metadata": {
        "id": "5VLnPp6vfTE-",
        "colab_type": "code",
        "outputId": "fc4f6639-d489-4c6b-8ab5-62c07e7131e0",
        "colab": {
          "base_uri": "https://localhost:8080/",
          "height": 359
        }
      },
      "source": [
        "#高頻度のツイートを表示\n",
        "df_fdist = pd.DataFrame(fdist.most_common(10), columns=['Word', 'Frequency'])\n",
        "df_fdist"
      ],
      "execution_count": 13,
      "outputs": [
        {
          "output_type": "execute_result",
          "data": {
            "text/html": [
              "<div>\n",
              "<style scoped>\n",
              "    .dataframe tbody tr th:only-of-type {\n",
              "        vertical-align: middle;\n",
              "    }\n",
              "\n",
              "    .dataframe tbody tr th {\n",
              "        vertical-align: top;\n",
              "    }\n",
              "\n",
              "    .dataframe thead th {\n",
              "        text-align: right;\n",
              "    }\n",
              "</style>\n",
              "<table border=\"1\" class=\"dataframe\">\n",
              "  <thead>\n",
              "    <tr style=\"text-align: right;\">\n",
              "      <th></th>\n",
              "      <th>Word</th>\n",
              "      <th>Frequency</th>\n",
              "    </tr>\n",
              "  </thead>\n",
              "  <tbody>\n",
              "    <tr>\n",
              "      <th>0</th>\n",
              "      <td>the</td>\n",
              "      <td>15504</td>\n",
              "    </tr>\n",
              "    <tr>\n",
              "      <th>1</th>\n",
              "      <td>.</td>\n",
              "      <td>14634</td>\n",
              "    </tr>\n",
              "    <tr>\n",
              "      <th>2</th>\n",
              "      <td>,</td>\n",
              "      <td>14156</td>\n",
              "    </tr>\n",
              "    <tr>\n",
              "      <th>3</th>\n",
              "      <td>to</td>\n",
              "      <td>8172</td>\n",
              "    </tr>\n",
              "    <tr>\n",
              "      <th>4</th>\n",
              "      <td>!</td>\n",
              "      <td>7343</td>\n",
              "    </tr>\n",
              "    <tr>\n",
              "      <th>5</th>\n",
              "      <td>and</td>\n",
              "      <td>7289</td>\n",
              "    </tr>\n",
              "    <tr>\n",
              "      <th>6</th>\n",
              "      <td>of</td>\n",
              "      <td>6165</td>\n",
              "    </tr>\n",
              "    <tr>\n",
              "      <th>7</th>\n",
              "      <td>a</td>\n",
              "      <td>5419</td>\n",
              "    </tr>\n",
              "    <tr>\n",
              "      <th>8</th>\n",
              "      <td>:</td>\n",
              "      <td>4870</td>\n",
              "    </tr>\n",
              "    <tr>\n",
              "      <th>9</th>\n",
              "      <td>in</td>\n",
              "      <td>4507</td>\n",
              "    </tr>\n",
              "  </tbody>\n",
              "</table>\n",
              "</div>"
            ],
            "text/plain": [
              "  Word  Frequency\n",
              "0  the      15504\n",
              "1    .      14634\n",
              "2    ,      14156\n",
              "3   to       8172\n",
              "4    !       7343\n",
              "5  and       7289\n",
              "6   of       6165\n",
              "7    a       5419\n",
              "8    :       4870\n",
              "9   in       4507"
            ]
          },
          "metadata": {
            "tags": []
          },
          "execution_count": 13
        }
      ]
    },
    {
      "cell_type": "code",
      "metadata": {
        "id": "IvFoQ0TrfTFG",
        "colab_type": "code",
        "colab": {}
      },
      "source": [
        "#tokenにする\n",
        "import re\n",
        "import string\n",
        "\n",
        "stemmer = nltk.stem.PorterStemmer()\n",
        "punctuations = string.punctuation\n",
        "all_tweets_clean = []\n",
        "\n",
        "#Tweet毎にリスト形式で保存するための加工\n",
        "result=[]\n",
        "\n",
        "for tweet in data[\"text\"]:\n",
        "    # RTから始まる部分を取り除く。\n",
        "    tweet = re.sub(r'^RT[\\s]+', '', tweet)\n",
        "    # リンクを取り除く。\n",
        "    tweet = re.sub(r'(http|https):\\/\\/.*[\\r\\n]*', '', tweet)\n",
        "    # ハッシュタグを取り除く。\n",
        "    tweet = re.sub(r'#', '', tweet)\n",
        "    # 句読点の削除\n",
        "    tweet = tweet.translate(str.maketrans('', '', string.punctuation)) \n",
        "    # 単語に分解する。\n",
        "    tokenizer = nltk.tokenize.TweetTokenizer(preserve_case=False, strip_handles=True, reduce_len=True)\n",
        "    tweet_tokens = tokenizer.tokenize(tweet)\n",
        "    result.append(tweet_tokens)"
      ],
      "execution_count": 0,
      "outputs": []
    },
    {
      "cell_type": "code",
      "metadata": {
        "id": "jGskML9PfTFK",
        "colab_type": "code",
        "colab": {}
      },
      "source": [
        "stopwords = nltk.corpus.stopwords.words('english')\n",
        "stop_words = [\"→\", \"←\", \"?\", \"」\", \"「\",\"(\",\")\",\"!\",\".\",\",\",\"&\",\"…\",\"%\",\":\",\";\",\"“\"]\n",
        "stopwords += stop_words\n",
        "\n",
        "#print(stopwords)\n",
        "\n",
        "result_2=[]\n",
        "result_3=[]\n",
        "for i in range(len(result)):\n",
        "    for word in result[i]:\n",
        "        if word not in stopwords:\n",
        "            result_2.append(word)\n",
        "    result_3.append(result_2)\n",
        "    result_2=[]"
      ],
      "execution_count": 0,
      "outputs": []
    },
    {
      "cell_type": "code",
      "metadata": {
        "id": "wL2ASq-gfTFO",
        "colab_type": "code",
        "colab": {}
      },
      "source": [
        "#Word2Vec\n",
        "\n",
        "from gensim.models import word2vec"
      ],
      "execution_count": 0,
      "outputs": []
    },
    {
      "cell_type": "code",
      "metadata": {
        "id": "6Ov0af7rfTFQ",
        "colab_type": "code",
        "outputId": "02dab1a3-0e25-4619-9406-eaaf38a3365f",
        "colab": {
          "base_uri": "https://localhost:8080/",
          "height": 272
        }
      },
      "source": [
        "# 対象データをLinseSentence(one sentence = one lineとして扱う)で読み込む\n",
        "\n",
        "sentences = result_3\n",
        "sentences[0]"
      ],
      "execution_count": 17,
      "outputs": [
        {
          "output_type": "execute_result",
          "data": {
            "text/plain": [
              "['steventdennis',\n",
              " 'trump',\n",
              " 'gets',\n",
              " 'bump',\n",
              " 'latest',\n",
              " 'gallup',\n",
              " 'poll',\n",
              " '49',\n",
              " 'approval',\n",
              " '6',\n",
              " 'tied',\n",
              " 'best',\n",
              " '47',\n",
              " 'disapproval',\n",
              " '7']"
            ]
          },
          "metadata": {
            "tags": []
          },
          "execution_count": 17
        }
      ]
    },
    {
      "cell_type": "code",
      "metadata": {
        "id": "9u7fFXncfTFU",
        "colab_type": "code",
        "colab": {}
      },
      "source": [
        "# skip-gramモデルの学習\n",
        "skipgram_model = word2vec.Word2Vec(sentences,\n",
        "                                   sg=1,\n",
        "                                   size=300,\n",
        "                                   min_count=10,\n",
        "                                   window=15, seed=1234)"
      ],
      "execution_count": 0,
      "outputs": []
    },
    {
      "cell_type": "code",
      "metadata": {
        "id": "akHH47YRfTFZ",
        "colab_type": "code",
        "outputId": "f6f43b8f-db2b-47dc-8b11-2a67cf341eb6",
        "colab": {
          "base_uri": "https://localhost:8080/",
          "height": 71
        }
      },
      "source": [
        "# 作成したモデルの保存\n",
        "skipgram_model.save(\"skipgram_w2v.model\")\n",
        "# saveしたモデルを読み込む時は\n",
        "#skipgram_model = word2vec.Word2Vec.load(\"skipgram_w2v.model\")"
      ],
      "execution_count": 19,
      "outputs": [
        {
          "output_type": "stream",
          "text": [
            "/usr/local/lib/python3.6/dist-packages/smart_open/smart_open_lib.py:253: UserWarning: This function is deprecated, use smart_open.open instead. See the migration notes for details: https://github.com/RaRe-Technologies/smart_open/blob/master/README.rst#migrating-to-the-new-open-function\n",
            "  'See the migration notes for details: %s' % _MIGRATION_NOTES_URL\n"
          ],
          "name": "stderr"
        }
      ]
    },
    {
      "cell_type": "code",
      "metadata": {
        "id": "ZAO8SIE_fTFc",
        "colab_type": "code",
        "outputId": "0ee811f2-c9f6-4215-c73b-7f4c0c8f691d",
        "colab": {
          "base_uri": "https://localhost:8080/",
          "height": 413
        }
      },
      "source": [
        "# coronavirusと似たキーワードを見つけていきます。\n",
        "# ここで記載しているscoreは、単語同士のコサイン類似度です。\n",
        "pd.DataFrame(skipgram_model.wv.most_similar(\n",
        "    positive=[\"coronavirus\"]), columns=[\"keyword\", \"score\"])"
      ],
      "execution_count": 20,
      "outputs": [
        {
          "output_type": "stream",
          "text": [
            "/usr/local/lib/python3.6/dist-packages/gensim/matutils.py:737: FutureWarning: Conversion of the second argument of issubdtype from `int` to `np.signedinteger` is deprecated. In future, it will be treated as `np.int64 == np.dtype(int).type`.\n",
            "  if np.issubdtype(vec.dtype, np.int):\n"
          ],
          "name": "stderr"
        },
        {
          "output_type": "execute_result",
          "data": {
            "text/html": [
              "<div>\n",
              "<style scoped>\n",
              "    .dataframe tbody tr th:only-of-type {\n",
              "        vertical-align: middle;\n",
              "    }\n",
              "\n",
              "    .dataframe tbody tr th {\n",
              "        vertical-align: top;\n",
              "    }\n",
              "\n",
              "    .dataframe thead th {\n",
              "        text-align: right;\n",
              "    }\n",
              "</style>\n",
              "<table border=\"1\" class=\"dataframe\">\n",
              "  <thead>\n",
              "    <tr style=\"text-align: right;\">\n",
              "      <th></th>\n",
              "      <th>keyword</th>\n",
              "      <th>score</th>\n",
              "    </tr>\n",
              "  </thead>\n",
              "  <tbody>\n",
              "    <tr>\n",
              "      <th>0</th>\n",
              "      <td>response</td>\n",
              "      <td>0.813318</td>\n",
              "    </tr>\n",
              "    <tr>\n",
              "      <th>1</th>\n",
              "      <td>19</td>\n",
              "      <td>0.808495</td>\n",
              "    </tr>\n",
              "    <tr>\n",
              "      <th>2</th>\n",
              "      <td>covid</td>\n",
              "      <td>0.808326</td>\n",
              "    </tr>\n",
              "    <tr>\n",
              "      <th>3</th>\n",
              "      <td>task</td>\n",
              "      <td>0.799333</td>\n",
              "    </tr>\n",
              "    <tr>\n",
              "      <th>4</th>\n",
              "      <td>force</td>\n",
              "      <td>0.795073</td>\n",
              "    </tr>\n",
              "    <tr>\n",
              "      <th>5</th>\n",
              "      <td>spread</td>\n",
              "      <td>0.790754</td>\n",
              "    </tr>\n",
              "    <tr>\n",
              "      <th>6</th>\n",
              "      <td>briefing</td>\n",
              "      <td>0.762948</td>\n",
              "    </tr>\n",
              "    <tr>\n",
              "      <th>7</th>\n",
              "      <td>outbreak</td>\n",
              "      <td>0.756903</td>\n",
              "    </tr>\n",
              "    <tr>\n",
              "      <th>8</th>\n",
              "      <td>cdcgov</td>\n",
              "      <td>0.751583</td>\n",
              "    </tr>\n",
              "    <tr>\n",
              "      <th>9</th>\n",
              "      <td>executive</td>\n",
              "      <td>0.751455</td>\n",
              "    </tr>\n",
              "  </tbody>\n",
              "</table>\n",
              "</div>"
            ],
            "text/plain": [
              "     keyword     score\n",
              "0   response  0.813318\n",
              "1         19  0.808495\n",
              "2      covid  0.808326\n",
              "3       task  0.799333\n",
              "4      force  0.795073\n",
              "5     spread  0.790754\n",
              "6   briefing  0.762948\n",
              "7   outbreak  0.756903\n",
              "8     cdcgov  0.751583\n",
              "9  executive  0.751455"
            ]
          },
          "metadata": {
            "tags": []
          },
          "execution_count": 20
        }
      ]
    },
    {
      "cell_type": "code",
      "metadata": {
        "id": "KfKYBXI_fTFf",
        "colab_type": "code",
        "colab": {}
      },
      "source": [
        "\"\"\"\n",
        "1. 抽出された各単語を、作成したword2Vecによってベクトル化\n",
        "2. 変換された各単語ベクトルの平均をとり、その結果得られたベクトルを記事のベクトルとする\n",
        "上記2ステップを実行する関数を作成\n",
        "\"\"\"\n",
        "\n",
        "num_features = 300\n",
        "\n",
        "\n",
        "def avg_document_vector(data, num_features):\n",
        "    document_vec = np.zeros((len(data), num_features))\n",
        "    for i, doc_word_list in enumerate(data):\n",
        "        feature_vec = np.zeros((num_features,), dtype=\"float32\")\n",
        "        for word in doc_word_list:\n",
        "            try:\n",
        "                feature_vec = np.add(\n",
        "                    feature_vec, skipgram_model.wv.__getitem__(word))\n",
        "            except:\n",
        "                pass\n",
        "\n",
        "        feature_vec = np.divide(feature_vec, len(doc_word_list))\n",
        "        document_vec[i] = feature_vec\n",
        "    return document_vec"
      ],
      "execution_count": 0,
      "outputs": []
    },
    {
      "cell_type": "code",
      "metadata": {
        "id": "gcoxgMvkfTFh",
        "colab_type": "code",
        "outputId": "4c810100-fe31-4588-a833-9aa02a597616",
        "colab": {
          "base_uri": "https://localhost:8080/",
          "height": 51
        }
      },
      "source": [
        "X = avg_document_vector(data=sentences, num_features=300)\n",
        "X.shape"
      ],
      "execution_count": 22,
      "outputs": [
        {
          "output_type": "stream",
          "text": [
            "/usr/local/lib/python3.6/dist-packages/ipykernel_launcher.py:21: RuntimeWarning: invalid value encountered in true_divide\n"
          ],
          "name": "stderr"
        },
        {
          "output_type": "execute_result",
          "data": {
            "text/plain": [
              "(12259, 300)"
            ]
          },
          "metadata": {
            "tags": []
          },
          "execution_count": 22
        }
      ]
    },
    {
      "cell_type": "code",
      "metadata": {
        "id": "PvVmeNp5fTFj",
        "colab_type": "code",
        "outputId": "1f68cf5c-8f98-4a2b-a106-a91a623aba2b",
        "colab": {
          "base_uri": "https://localhost:8080/",
          "height": 474
        }
      },
      "source": [
        "# outer join\n",
        "data2 = pd.DataFrame(X)\n",
        "df_tweets_word2vec =  pd.concat([data, data2], axis=1)\n",
        "df_tweets_word2vec.head()"
      ],
      "execution_count": 23,
      "outputs": [
        {
          "output_type": "execute_result",
          "data": {
            "text/html": [
              "<div>\n",
              "<style scoped>\n",
              "    .dataframe tbody tr th:only-of-type {\n",
              "        vertical-align: middle;\n",
              "    }\n",
              "\n",
              "    .dataframe tbody tr th {\n",
              "        vertical-align: top;\n",
              "    }\n",
              "\n",
              "    .dataframe thead th {\n",
              "        text-align: right;\n",
              "    }\n",
              "</style>\n",
              "<table border=\"1\" class=\"dataframe\">\n",
              "  <thead>\n",
              "    <tr style=\"text-align: right;\">\n",
              "      <th></th>\n",
              "      <th>date</th>\n",
              "      <th>price</th>\n",
              "      <th>text</th>\n",
              "      <th>0</th>\n",
              "      <th>1</th>\n",
              "      <th>2</th>\n",
              "      <th>3</th>\n",
              "      <th>4</th>\n",
              "      <th>5</th>\n",
              "      <th>6</th>\n",
              "      <th>7</th>\n",
              "      <th>8</th>\n",
              "      <th>9</th>\n",
              "      <th>10</th>\n",
              "      <th>11</th>\n",
              "      <th>12</th>\n",
              "      <th>13</th>\n",
              "      <th>14</th>\n",
              "      <th>15</th>\n",
              "      <th>16</th>\n",
              "      <th>17</th>\n",
              "      <th>18</th>\n",
              "      <th>19</th>\n",
              "      <th>20</th>\n",
              "      <th>21</th>\n",
              "      <th>22</th>\n",
              "      <th>23</th>\n",
              "      <th>24</th>\n",
              "      <th>25</th>\n",
              "      <th>26</th>\n",
              "      <th>27</th>\n",
              "      <th>28</th>\n",
              "      <th>29</th>\n",
              "      <th>30</th>\n",
              "      <th>31</th>\n",
              "      <th>32</th>\n",
              "      <th>33</th>\n",
              "      <th>34</th>\n",
              "      <th>35</th>\n",
              "      <th>36</th>\n",
              "      <th>...</th>\n",
              "      <th>260</th>\n",
              "      <th>261</th>\n",
              "      <th>262</th>\n",
              "      <th>263</th>\n",
              "      <th>264</th>\n",
              "      <th>265</th>\n",
              "      <th>266</th>\n",
              "      <th>267</th>\n",
              "      <th>268</th>\n",
              "      <th>269</th>\n",
              "      <th>270</th>\n",
              "      <th>271</th>\n",
              "      <th>272</th>\n",
              "      <th>273</th>\n",
              "      <th>274</th>\n",
              "      <th>275</th>\n",
              "      <th>276</th>\n",
              "      <th>277</th>\n",
              "      <th>278</th>\n",
              "      <th>279</th>\n",
              "      <th>280</th>\n",
              "      <th>281</th>\n",
              "      <th>282</th>\n",
              "      <th>283</th>\n",
              "      <th>284</th>\n",
              "      <th>285</th>\n",
              "      <th>286</th>\n",
              "      <th>287</th>\n",
              "      <th>288</th>\n",
              "      <th>289</th>\n",
              "      <th>290</th>\n",
              "      <th>291</th>\n",
              "      <th>292</th>\n",
              "      <th>293</th>\n",
              "      <th>294</th>\n",
              "      <th>295</th>\n",
              "      <th>296</th>\n",
              "      <th>297</th>\n",
              "      <th>298</th>\n",
              "      <th>299</th>\n",
              "    </tr>\n",
              "  </thead>\n",
              "  <tbody>\n",
              "    <tr>\n",
              "      <th>0</th>\n",
              "      <td>2020-05-01</td>\n",
              "      <td>2830.71</td>\n",
              "      <td>RT @StevenTDennis: Trump gets bump in latest G...</td>\n",
              "      <td>0.010175</td>\n",
              "      <td>-0.016494</td>\n",
              "      <td>-0.105057</td>\n",
              "      <td>-0.006248</td>\n",
              "      <td>0.062784</td>\n",
              "      <td>-0.110187</td>\n",
              "      <td>0.022659</td>\n",
              "      <td>0.034406</td>\n",
              "      <td>0.022368</td>\n",
              "      <td>0.020675</td>\n",
              "      <td>0.026294</td>\n",
              "      <td>-0.068247</td>\n",
              "      <td>0.035129</td>\n",
              "      <td>-0.014844</td>\n",
              "      <td>-0.002949</td>\n",
              "      <td>0.107645</td>\n",
              "      <td>0.002338</td>\n",
              "      <td>-0.032422</td>\n",
              "      <td>-0.008027</td>\n",
              "      <td>0.031407</td>\n",
              "      <td>0.015601</td>\n",
              "      <td>-0.073292</td>\n",
              "      <td>0.035107</td>\n",
              "      <td>-0.065446</td>\n",
              "      <td>0.005228</td>\n",
              "      <td>-0.044763</td>\n",
              "      <td>0.011837</td>\n",
              "      <td>-0.034170</td>\n",
              "      <td>0.005120</td>\n",
              "      <td>-0.084400</td>\n",
              "      <td>0.016529</td>\n",
              "      <td>-0.045478</td>\n",
              "      <td>-0.059006</td>\n",
              "      <td>-0.084806</td>\n",
              "      <td>-0.027290</td>\n",
              "      <td>-0.020256</td>\n",
              "      <td>-0.032017</td>\n",
              "      <td>...</td>\n",
              "      <td>-0.020864</td>\n",
              "      <td>-0.022116</td>\n",
              "      <td>-0.002499</td>\n",
              "      <td>0.051714</td>\n",
              "      <td>-0.040439</td>\n",
              "      <td>0.040573</td>\n",
              "      <td>0.002964</td>\n",
              "      <td>-0.024892</td>\n",
              "      <td>0.023512</td>\n",
              "      <td>0.062814</td>\n",
              "      <td>0.029449</td>\n",
              "      <td>0.061647</td>\n",
              "      <td>-0.014827</td>\n",
              "      <td>0.028247</td>\n",
              "      <td>-0.040223</td>\n",
              "      <td>-0.032956</td>\n",
              "      <td>-0.006143</td>\n",
              "      <td>-0.007719</td>\n",
              "      <td>-0.024613</td>\n",
              "      <td>-0.065056</td>\n",
              "      <td>-0.036910</td>\n",
              "      <td>-0.065125</td>\n",
              "      <td>0.054302</td>\n",
              "      <td>-0.054908</td>\n",
              "      <td>0.070264</td>\n",
              "      <td>-0.065232</td>\n",
              "      <td>-0.025790</td>\n",
              "      <td>-0.106449</td>\n",
              "      <td>-0.050301</td>\n",
              "      <td>-0.007456</td>\n",
              "      <td>0.117693</td>\n",
              "      <td>0.024123</td>\n",
              "      <td>0.029307</td>\n",
              "      <td>0.029842</td>\n",
              "      <td>0.036785</td>\n",
              "      <td>0.052965</td>\n",
              "      <td>0.055804</td>\n",
              "      <td>0.027771</td>\n",
              "      <td>-0.065192</td>\n",
              "      <td>0.074992</td>\n",
              "    </tr>\n",
              "    <tr>\n",
              "      <th>1</th>\n",
              "      <td>2020-05-01</td>\n",
              "      <td>2830.71</td>\n",
              "      <td>The Governor of Michigan should give a little,...</td>\n",
              "      <td>0.033774</td>\n",
              "      <td>-0.040708</td>\n",
              "      <td>-0.080025</td>\n",
              "      <td>-0.095802</td>\n",
              "      <td>0.058689</td>\n",
              "      <td>-0.185660</td>\n",
              "      <td>0.087805</td>\n",
              "      <td>-0.031121</td>\n",
              "      <td>0.076894</td>\n",
              "      <td>0.031149</td>\n",
              "      <td>-0.079167</td>\n",
              "      <td>-0.070438</td>\n",
              "      <td>0.057593</td>\n",
              "      <td>-0.063765</td>\n",
              "      <td>0.078710</td>\n",
              "      <td>0.082556</td>\n",
              "      <td>-0.032676</td>\n",
              "      <td>0.039890</td>\n",
              "      <td>0.040963</td>\n",
              "      <td>0.068681</td>\n",
              "      <td>-0.027385</td>\n",
              "      <td>-0.031604</td>\n",
              "      <td>0.035666</td>\n",
              "      <td>0.049198</td>\n",
              "      <td>-0.048668</td>\n",
              "      <td>-0.066247</td>\n",
              "      <td>0.073276</td>\n",
              "      <td>-0.041394</td>\n",
              "      <td>-0.073589</td>\n",
              "      <td>0.023048</td>\n",
              "      <td>0.026895</td>\n",
              "      <td>-0.039440</td>\n",
              "      <td>-0.025587</td>\n",
              "      <td>-0.014691</td>\n",
              "      <td>0.059055</td>\n",
              "      <td>-0.107009</td>\n",
              "      <td>-0.006008</td>\n",
              "      <td>...</td>\n",
              "      <td>0.040271</td>\n",
              "      <td>0.039374</td>\n",
              "      <td>0.011711</td>\n",
              "      <td>0.057404</td>\n",
              "      <td>-0.044334</td>\n",
              "      <td>-0.000779</td>\n",
              "      <td>0.026194</td>\n",
              "      <td>-0.086779</td>\n",
              "      <td>0.148908</td>\n",
              "      <td>0.025143</td>\n",
              "      <td>0.029121</td>\n",
              "      <td>0.097435</td>\n",
              "      <td>-0.064056</td>\n",
              "      <td>0.062351</td>\n",
              "      <td>-0.025393</td>\n",
              "      <td>-0.068463</td>\n",
              "      <td>0.014951</td>\n",
              "      <td>-0.035007</td>\n",
              "      <td>-0.038205</td>\n",
              "      <td>-0.044799</td>\n",
              "      <td>-0.124869</td>\n",
              "      <td>-0.096492</td>\n",
              "      <td>0.086781</td>\n",
              "      <td>-0.036076</td>\n",
              "      <td>0.054294</td>\n",
              "      <td>-0.133637</td>\n",
              "      <td>-0.091561</td>\n",
              "      <td>-0.074521</td>\n",
              "      <td>-0.065325</td>\n",
              "      <td>0.007032</td>\n",
              "      <td>0.177090</td>\n",
              "      <td>-0.000236</td>\n",
              "      <td>0.083352</td>\n",
              "      <td>-0.017549</td>\n",
              "      <td>0.019180</td>\n",
              "      <td>0.091646</td>\n",
              "      <td>0.064741</td>\n",
              "      <td>0.093044</td>\n",
              "      <td>-0.164919</td>\n",
              "      <td>0.166860</td>\n",
              "    </tr>\n",
              "    <tr>\n",
              "      <th>2</th>\n",
              "      <td>2020-05-01</td>\n",
              "      <td>2830.71</td>\n",
              "      <td>Cryin Chuck Schumer, compared to what other Se...</td>\n",
              "      <td>-0.003366</td>\n",
              "      <td>-0.013288</td>\n",
              "      <td>-0.059605</td>\n",
              "      <td>-0.092962</td>\n",
              "      <td>0.035982</td>\n",
              "      <td>-0.207077</td>\n",
              "      <td>0.096278</td>\n",
              "      <td>-0.023961</td>\n",
              "      <td>0.066011</td>\n",
              "      <td>0.062147</td>\n",
              "      <td>-0.086768</td>\n",
              "      <td>-0.071417</td>\n",
              "      <td>0.030711</td>\n",
              "      <td>-0.084657</td>\n",
              "      <td>0.081933</td>\n",
              "      <td>0.076005</td>\n",
              "      <td>-0.001729</td>\n",
              "      <td>0.051153</td>\n",
              "      <td>0.010800</td>\n",
              "      <td>0.089708</td>\n",
              "      <td>-0.053079</td>\n",
              "      <td>-0.015934</td>\n",
              "      <td>0.046041</td>\n",
              "      <td>0.040634</td>\n",
              "      <td>-0.057963</td>\n",
              "      <td>-0.135153</td>\n",
              "      <td>0.020157</td>\n",
              "      <td>-0.034836</td>\n",
              "      <td>-0.040735</td>\n",
              "      <td>-0.006214</td>\n",
              "      <td>0.029162</td>\n",
              "      <td>-0.077448</td>\n",
              "      <td>-0.005660</td>\n",
              "      <td>-0.000454</td>\n",
              "      <td>0.060562</td>\n",
              "      <td>-0.089115</td>\n",
              "      <td>-0.011260</td>\n",
              "      <td>...</td>\n",
              "      <td>0.079501</td>\n",
              "      <td>0.015918</td>\n",
              "      <td>0.013015</td>\n",
              "      <td>0.062469</td>\n",
              "      <td>-0.048522</td>\n",
              "      <td>-0.010082</td>\n",
              "      <td>0.030333</td>\n",
              "      <td>-0.114131</td>\n",
              "      <td>0.086194</td>\n",
              "      <td>0.029307</td>\n",
              "      <td>-0.017581</td>\n",
              "      <td>0.085277</td>\n",
              "      <td>-0.062157</td>\n",
              "      <td>0.142584</td>\n",
              "      <td>0.001114</td>\n",
              "      <td>-0.054288</td>\n",
              "      <td>0.033391</td>\n",
              "      <td>-0.050323</td>\n",
              "      <td>-0.059351</td>\n",
              "      <td>-0.023730</td>\n",
              "      <td>-0.120800</td>\n",
              "      <td>-0.109886</td>\n",
              "      <td>0.126253</td>\n",
              "      <td>-0.063505</td>\n",
              "      <td>0.073949</td>\n",
              "      <td>-0.112051</td>\n",
              "      <td>-0.109024</td>\n",
              "      <td>-0.092052</td>\n",
              "      <td>-0.030863</td>\n",
              "      <td>-0.025638</td>\n",
              "      <td>0.170556</td>\n",
              "      <td>0.006637</td>\n",
              "      <td>0.063584</td>\n",
              "      <td>-0.026575</td>\n",
              "      <td>-0.008633</td>\n",
              "      <td>0.093199</td>\n",
              "      <td>0.013407</td>\n",
              "      <td>0.050949</td>\n",
              "      <td>-0.163967</td>\n",
              "      <td>0.148902</td>\n",
              "    </tr>\n",
              "    <tr>\n",
              "      <th>3</th>\n",
              "      <td>2020-05-01</td>\n",
              "      <td>2830.71</td>\n",
              "      <td>Cryin’ Chuck Schumer was on a late night show ...</td>\n",
              "      <td>0.024465</td>\n",
              "      <td>-0.017322</td>\n",
              "      <td>-0.046468</td>\n",
              "      <td>-0.084111</td>\n",
              "      <td>0.074957</td>\n",
              "      <td>-0.222157</td>\n",
              "      <td>0.078014</td>\n",
              "      <td>-0.050182</td>\n",
              "      <td>0.053823</td>\n",
              "      <td>0.039726</td>\n",
              "      <td>-0.073516</td>\n",
              "      <td>-0.106094</td>\n",
              "      <td>0.045218</td>\n",
              "      <td>-0.078346</td>\n",
              "      <td>0.071404</td>\n",
              "      <td>0.107473</td>\n",
              "      <td>-0.011433</td>\n",
              "      <td>0.018367</td>\n",
              "      <td>0.025272</td>\n",
              "      <td>0.114735</td>\n",
              "      <td>-0.063421</td>\n",
              "      <td>-0.036174</td>\n",
              "      <td>0.022110</td>\n",
              "      <td>0.014761</td>\n",
              "      <td>-0.061797</td>\n",
              "      <td>-0.123321</td>\n",
              "      <td>0.045968</td>\n",
              "      <td>-0.033332</td>\n",
              "      <td>-0.059486</td>\n",
              "      <td>-0.026399</td>\n",
              "      <td>0.012631</td>\n",
              "      <td>-0.065928</td>\n",
              "      <td>0.018515</td>\n",
              "      <td>0.029396</td>\n",
              "      <td>0.058400</td>\n",
              "      <td>-0.093582</td>\n",
              "      <td>0.007741</td>\n",
              "      <td>...</td>\n",
              "      <td>0.043115</td>\n",
              "      <td>0.005285</td>\n",
              "      <td>0.037331</td>\n",
              "      <td>0.073470</td>\n",
              "      <td>-0.001612</td>\n",
              "      <td>-0.007280</td>\n",
              "      <td>0.025580</td>\n",
              "      <td>-0.096517</td>\n",
              "      <td>0.091374</td>\n",
              "      <td>0.069627</td>\n",
              "      <td>-0.017394</td>\n",
              "      <td>0.097088</td>\n",
              "      <td>-0.016287</td>\n",
              "      <td>0.086357</td>\n",
              "      <td>-0.003385</td>\n",
              "      <td>-0.045720</td>\n",
              "      <td>0.023610</td>\n",
              "      <td>-0.037239</td>\n",
              "      <td>-0.068389</td>\n",
              "      <td>-0.031605</td>\n",
              "      <td>-0.146467</td>\n",
              "      <td>-0.104287</td>\n",
              "      <td>0.107077</td>\n",
              "      <td>-0.068177</td>\n",
              "      <td>0.100436</td>\n",
              "      <td>-0.096869</td>\n",
              "      <td>-0.082048</td>\n",
              "      <td>-0.093571</td>\n",
              "      <td>-0.067780</td>\n",
              "      <td>-0.030176</td>\n",
              "      <td>0.185631</td>\n",
              "      <td>0.001019</td>\n",
              "      <td>0.056206</td>\n",
              "      <td>-0.047596</td>\n",
              "      <td>0.015684</td>\n",
              "      <td>0.114032</td>\n",
              "      <td>0.055868</td>\n",
              "      <td>0.070145</td>\n",
              "      <td>-0.142830</td>\n",
              "      <td>0.181391</td>\n",
              "    </tr>\n",
              "    <tr>\n",
              "      <th>4</th>\n",
              "      <td>2020-05-01</td>\n",
              "      <td>2830.71</td>\n",
              "      <td>RT @TeamTrump: President @realDonaldTrump: “We...</td>\n",
              "      <td>0.001653</td>\n",
              "      <td>-0.022947</td>\n",
              "      <td>-0.130024</td>\n",
              "      <td>-0.047670</td>\n",
              "      <td>0.059566</td>\n",
              "      <td>-0.139189</td>\n",
              "      <td>0.035625</td>\n",
              "      <td>0.027041</td>\n",
              "      <td>0.029424</td>\n",
              "      <td>0.058296</td>\n",
              "      <td>-0.022874</td>\n",
              "      <td>-0.066433</td>\n",
              "      <td>0.064471</td>\n",
              "      <td>0.013222</td>\n",
              "      <td>0.011227</td>\n",
              "      <td>0.159224</td>\n",
              "      <td>-0.015863</td>\n",
              "      <td>0.006732</td>\n",
              "      <td>0.004739</td>\n",
              "      <td>0.020301</td>\n",
              "      <td>0.080757</td>\n",
              "      <td>-0.075611</td>\n",
              "      <td>0.007850</td>\n",
              "      <td>-0.085108</td>\n",
              "      <td>-0.023812</td>\n",
              "      <td>0.002341</td>\n",
              "      <td>0.067653</td>\n",
              "      <td>-0.093916</td>\n",
              "      <td>-0.022059</td>\n",
              "      <td>-0.078330</td>\n",
              "      <td>0.038657</td>\n",
              "      <td>-0.038194</td>\n",
              "      <td>-0.052671</td>\n",
              "      <td>-0.065854</td>\n",
              "      <td>-0.027950</td>\n",
              "      <td>-0.032447</td>\n",
              "      <td>-0.033700</td>\n",
              "      <td>...</td>\n",
              "      <td>0.037341</td>\n",
              "      <td>-0.038054</td>\n",
              "      <td>-0.034552</td>\n",
              "      <td>0.076874</td>\n",
              "      <td>-0.085006</td>\n",
              "      <td>-0.000661</td>\n",
              "      <td>0.024148</td>\n",
              "      <td>-0.080891</td>\n",
              "      <td>0.086974</td>\n",
              "      <td>0.073098</td>\n",
              "      <td>0.064326</td>\n",
              "      <td>0.044709</td>\n",
              "      <td>-0.038786</td>\n",
              "      <td>-0.038075</td>\n",
              "      <td>-0.081369</td>\n",
              "      <td>-0.055842</td>\n",
              "      <td>0.002617</td>\n",
              "      <td>-0.019609</td>\n",
              "      <td>-0.028561</td>\n",
              "      <td>-0.032185</td>\n",
              "      <td>-0.090736</td>\n",
              "      <td>-0.099694</td>\n",
              "      <td>0.083547</td>\n",
              "      <td>-0.117361</td>\n",
              "      <td>0.085026</td>\n",
              "      <td>-0.099593</td>\n",
              "      <td>0.002304</td>\n",
              "      <td>-0.078596</td>\n",
              "      <td>-0.079982</td>\n",
              "      <td>-0.031456</td>\n",
              "      <td>0.147730</td>\n",
              "      <td>0.036261</td>\n",
              "      <td>0.013466</td>\n",
              "      <td>0.007732</td>\n",
              "      <td>0.046773</td>\n",
              "      <td>0.054942</td>\n",
              "      <td>0.068124</td>\n",
              "      <td>0.069680</td>\n",
              "      <td>-0.130640</td>\n",
              "      <td>0.095409</td>\n",
              "    </tr>\n",
              "  </tbody>\n",
              "</table>\n",
              "<p>5 rows × 303 columns</p>\n",
              "</div>"
            ],
            "text/plain": [
              "         date    price  ...       298       299\n",
              "0  2020-05-01  2830.71  ... -0.065192  0.074992\n",
              "1  2020-05-01  2830.71  ... -0.164919  0.166860\n",
              "2  2020-05-01  2830.71  ... -0.163967  0.148902\n",
              "3  2020-05-01  2830.71  ... -0.142830  0.181391\n",
              "4  2020-05-01  2830.71  ... -0.130640  0.095409\n",
              "\n",
              "[5 rows x 303 columns]"
            ]
          },
          "metadata": {
            "tags": []
          },
          "execution_count": 23
        }
      ]
    },
    {
      "cell_type": "code",
      "metadata": {
        "id": "wzaVvcZ3fTFn",
        "colab_type": "code",
        "colab": {}
      },
      "source": [
        "df_tweets_word2vec.to_csv(\"price_tweets_vector.csv\", index=False)"
      ],
      "execution_count": 0,
      "outputs": []
    },
    {
      "cell_type": "code",
      "metadata": {
        "id": "CY3UVb1TfTFp",
        "colab_type": "code",
        "outputId": "37ed82e8-b93a-4716-a6e1-a7e3643babe3",
        "colab": {
          "base_uri": "https://localhost:8080/",
          "height": 525
        }
      },
      "source": [
        "#ツイートのベクトルを1日毎に平均にする（1日10ツイートだった場合ベクトルと足し合わせ10で割る）\n",
        "# groupby #https://qiita.com/propella/items/a9a32b878c77222630ae\n",
        "df = df_tweets_word2vec.groupby([\"date\"]).mean()\n",
        "\n",
        "\n",
        "# targetのcolである変化率（\"price\"の差分対数行列）をdateをKeyに内部結合する\n",
        "df_sp = pd.read_csv(\"/content/sp500-10-year-daily-chart.csv\")\n",
        "\n",
        "# 時系列データの差分を求める\n",
        "\n",
        "# \" value\"の行を対数化\n",
        "# https://www.sejuku.net/blog/70027\n",
        "df_sp[\"log\"] = np.log(df_sp[\" value\"])\n",
        "\n",
        "# \"log\"の1日前との差を取って、差分対数の列を作成\n",
        "# https://note.nkmk.me/python-pandas-diff-pct-change/\n",
        "df_sp[\"dif_log\"] = df_sp[\"log\"].diff()\n",
        "\n",
        "#内部結合\n",
        "df2=pd.merge(df_sp, df, how=\"inner\" ,on=\"date\")\n",
        "df2 = df2.drop(\" value\", axis=1)\n",
        "\n",
        "# groupbyを使って1日のツイート数も特徴量に加える\n",
        "# https://deepage.net/features/pandas-count.html\n",
        "df3 = df_tweets_word2vec[[\"date\",\"text\"]]\n",
        "df3 = df3.groupby([\"date\"]).count()\n",
        "\n",
        "#内部結合\n",
        "df4 = pd.merge( df3, df2, how=\"inner\" ,on=\"date\")\n",
        "\n",
        "#日付データの形を変える\n",
        "df4[\"date\"] = pd.to_datetime(df4['date']).astype('int64')\n",
        "\n",
        "#変化率のグラフ\n",
        "df4.plot( y=[\"dif_log\"], figsize=(16,4), alpha=0.5)\n",
        "\n",
        "#ツイート数と変化率の関係\n",
        "df4.plot.scatter(x=[\"text\"], y=[\"dif_log\"])"
      ],
      "execution_count": 25,
      "outputs": [
        {
          "output_type": "execute_result",
          "data": {
            "text/plain": [
              "<matplotlib.axes._subplots.AxesSubplot at 0x7f0ae4c610b8>"
            ]
          },
          "metadata": {
            "tags": []
          },
          "execution_count": 25
        },
        {
          "output_type": "display_data",
          "data": {
            "image/png": "[encoded data removed]",
            "text/plain": [
              "<Figure size 1152x288 with 1 Axes>"
            ]
          },
          "metadata": {
            "tags": [],
            "needs_background": "light"
          }
        },
        {
          "output_type": "display_data",
          "data": {
            "image/png": "[encoded data removed]",
            "text/plain": [
              "<Figure size 432x288 with 1 Axes>"
            ]
          },
          "metadata": {
            "tags": [],
            "needs_background": "light"
          }
        }
      ]
    },
    {
      "cell_type": "code",
      "metadata": {
        "id": "LoiDgt9WfTFt",
        "colab_type": "code",
        "outputId": "0a93aa66-cc74-48f0-e18d-f91752d3c445",
        "colab": {
          "base_uri": "https://localhost:8080/",
          "height": 253
        }
      },
      "source": [
        "df4.head()"
      ],
      "execution_count": 26,
      "outputs": [
        {
          "output_type": "execute_result",
          "data": {
            "text/html": [
              "<div>\n",
              "<style scoped>\n",
              "    .dataframe tbody tr th:only-of-type {\n",
              "        vertical-align: middle;\n",
              "    }\n",
              "\n",
              "    .dataframe tbody tr th {\n",
              "        vertical-align: top;\n",
              "    }\n",
              "\n",
              "    .dataframe thead th {\n",
              "        text-align: right;\n",
              "    }\n",
              "</style>\n",
              "<table border=\"1\" class=\"dataframe\">\n",
              "  <thead>\n",
              "    <tr style=\"text-align: right;\">\n",
              "      <th></th>\n",
              "      <th>date</th>\n",
              "      <th>text</th>\n",
              "      <th>log</th>\n",
              "      <th>dif_log</th>\n",
              "      <th>price</th>\n",
              "      <th>0</th>\n",
              "      <th>1</th>\n",
              "      <th>2</th>\n",
              "      <th>3</th>\n",
              "      <th>4</th>\n",
              "      <th>5</th>\n",
              "      <th>6</th>\n",
              "      <th>7</th>\n",
              "      <th>8</th>\n",
              "      <th>9</th>\n",
              "      <th>10</th>\n",
              "      <th>11</th>\n",
              "      <th>12</th>\n",
              "      <th>13</th>\n",
              "      <th>14</th>\n",
              "      <th>15</th>\n",
              "      <th>16</th>\n",
              "      <th>17</th>\n",
              "      <th>18</th>\n",
              "      <th>19</th>\n",
              "      <th>20</th>\n",
              "      <th>21</th>\n",
              "      <th>22</th>\n",
              "      <th>23</th>\n",
              "      <th>24</th>\n",
              "      <th>25</th>\n",
              "      <th>26</th>\n",
              "      <th>27</th>\n",
              "      <th>28</th>\n",
              "      <th>29</th>\n",
              "      <th>30</th>\n",
              "      <th>31</th>\n",
              "      <th>32</th>\n",
              "      <th>33</th>\n",
              "      <th>34</th>\n",
              "      <th>...</th>\n",
              "      <th>260</th>\n",
              "      <th>261</th>\n",
              "      <th>262</th>\n",
              "      <th>263</th>\n",
              "      <th>264</th>\n",
              "      <th>265</th>\n",
              "      <th>266</th>\n",
              "      <th>267</th>\n",
              "      <th>268</th>\n",
              "      <th>269</th>\n",
              "      <th>270</th>\n",
              "      <th>271</th>\n",
              "      <th>272</th>\n",
              "      <th>273</th>\n",
              "      <th>274</th>\n",
              "      <th>275</th>\n",
              "      <th>276</th>\n",
              "      <th>277</th>\n",
              "      <th>278</th>\n",
              "      <th>279</th>\n",
              "      <th>280</th>\n",
              "      <th>281</th>\n",
              "      <th>282</th>\n",
              "      <th>283</th>\n",
              "      <th>284</th>\n",
              "      <th>285</th>\n",
              "      <th>286</th>\n",
              "      <th>287</th>\n",
              "      <th>288</th>\n",
              "      <th>289</th>\n",
              "      <th>290</th>\n",
              "      <th>291</th>\n",
              "      <th>292</th>\n",
              "      <th>293</th>\n",
              "      <th>294</th>\n",
              "      <th>295</th>\n",
              "      <th>296</th>\n",
              "      <th>297</th>\n",
              "      <th>298</th>\n",
              "      <th>299</th>\n",
              "    </tr>\n",
              "  </thead>\n",
              "  <tbody>\n",
              "    <tr>\n",
              "      <th>0</th>\n",
              "      <td>1484870400000000000</td>\n",
              "      <td>13</td>\n",
              "      <td>7.728112</td>\n",
              "      <td>0.003361</td>\n",
              "      <td>2271.31</td>\n",
              "      <td>0.004351</td>\n",
              "      <td>-0.069597</td>\n",
              "      <td>-0.097043</td>\n",
              "      <td>-0.041223</td>\n",
              "      <td>0.017942</td>\n",
              "      <td>-0.126465</td>\n",
              "      <td>0.080384</td>\n",
              "      <td>0.029731</td>\n",
              "      <td>0.047950</td>\n",
              "      <td>0.030388</td>\n",
              "      <td>-0.017149</td>\n",
              "      <td>-0.016396</td>\n",
              "      <td>0.029140</td>\n",
              "      <td>-0.029987</td>\n",
              "      <td>0.055730</td>\n",
              "      <td>0.067659</td>\n",
              "      <td>0.000685</td>\n",
              "      <td>0.027620</td>\n",
              "      <td>0.028377</td>\n",
              "      <td>0.023100</td>\n",
              "      <td>0.029178</td>\n",
              "      <td>-0.081397</td>\n",
              "      <td>0.069100</td>\n",
              "      <td>0.004270</td>\n",
              "      <td>0.000578</td>\n",
              "      <td>-0.086482</td>\n",
              "      <td>0.087280</td>\n",
              "      <td>-0.151347</td>\n",
              "      <td>-0.044179</td>\n",
              "      <td>-0.011795</td>\n",
              "      <td>0.033636</td>\n",
              "      <td>-0.024125</td>\n",
              "      <td>-0.084783</td>\n",
              "      <td>-0.136969</td>\n",
              "      <td>0.022228</td>\n",
              "      <td>...</td>\n",
              "      <td>-0.001834</td>\n",
              "      <td>0.047651</td>\n",
              "      <td>-0.024733</td>\n",
              "      <td>0.068925</td>\n",
              "      <td>-0.107201</td>\n",
              "      <td>0.027448</td>\n",
              "      <td>0.038426</td>\n",
              "      <td>-0.050815</td>\n",
              "      <td>0.091421</td>\n",
              "      <td>0.013205</td>\n",
              "      <td>0.064599</td>\n",
              "      <td>0.106447</td>\n",
              "      <td>-0.094130</td>\n",
              "      <td>0.080241</td>\n",
              "      <td>-0.072096</td>\n",
              "      <td>-0.088887</td>\n",
              "      <td>0.014161</td>\n",
              "      <td>0.004980</td>\n",
              "      <td>0.003956</td>\n",
              "      <td>-0.077324</td>\n",
              "      <td>-0.100233</td>\n",
              "      <td>-0.101296</td>\n",
              "      <td>0.059349</td>\n",
              "      <td>-0.040731</td>\n",
              "      <td>0.000569</td>\n",
              "      <td>-0.130584</td>\n",
              "      <td>-0.095595</td>\n",
              "      <td>-0.089106</td>\n",
              "      <td>-0.091623</td>\n",
              "      <td>0.035298</td>\n",
              "      <td>0.178246</td>\n",
              "      <td>-0.012589</td>\n",
              "      <td>0.063670</td>\n",
              "      <td>0.069794</td>\n",
              "      <td>0.052531</td>\n",
              "      <td>0.064684</td>\n",
              "      <td>0.045977</td>\n",
              "      <td>0.085277</td>\n",
              "      <td>-0.159356</td>\n",
              "      <td>0.110608</td>\n",
              "    </tr>\n",
              "    <tr>\n",
              "      <th>1</th>\n",
              "      <td>1485129600000000000</td>\n",
              "      <td>1</td>\n",
              "      <td>7.725418</td>\n",
              "      <td>-0.002694</td>\n",
              "      <td>2265.20</td>\n",
              "      <td>0.009121</td>\n",
              "      <td>-0.050938</td>\n",
              "      <td>-0.146143</td>\n",
              "      <td>-0.023215</td>\n",
              "      <td>0.083139</td>\n",
              "      <td>-0.165272</td>\n",
              "      <td>0.041268</td>\n",
              "      <td>-0.007931</td>\n",
              "      <td>0.073408</td>\n",
              "      <td>0.002581</td>\n",
              "      <td>-0.054024</td>\n",
              "      <td>-0.055096</td>\n",
              "      <td>0.011558</td>\n",
              "      <td>-0.013563</td>\n",
              "      <td>0.057374</td>\n",
              "      <td>0.094836</td>\n",
              "      <td>-0.027407</td>\n",
              "      <td>0.012658</td>\n",
              "      <td>0.036486</td>\n",
              "      <td>0.039649</td>\n",
              "      <td>0.044099</td>\n",
              "      <td>-0.075414</td>\n",
              "      <td>0.032085</td>\n",
              "      <td>-0.012178</td>\n",
              "      <td>-0.030242</td>\n",
              "      <td>-0.041159</td>\n",
              "      <td>0.081335</td>\n",
              "      <td>-0.113738</td>\n",
              "      <td>-0.092953</td>\n",
              "      <td>-0.005715</td>\n",
              "      <td>0.057282</td>\n",
              "      <td>-0.032879</td>\n",
              "      <td>-0.059215</td>\n",
              "      <td>-0.124113</td>\n",
              "      <td>-0.038766</td>\n",
              "      <td>...</td>\n",
              "      <td>0.009785</td>\n",
              "      <td>-0.021171</td>\n",
              "      <td>-0.049226</td>\n",
              "      <td>0.033670</td>\n",
              "      <td>-0.057488</td>\n",
              "      <td>0.016596</td>\n",
              "      <td>0.029151</td>\n",
              "      <td>-0.076609</td>\n",
              "      <td>0.121240</td>\n",
              "      <td>0.037541</td>\n",
              "      <td>0.099513</td>\n",
              "      <td>0.119075</td>\n",
              "      <td>-0.064953</td>\n",
              "      <td>0.041857</td>\n",
              "      <td>-0.076921</td>\n",
              "      <td>-0.067165</td>\n",
              "      <td>0.011132</td>\n",
              "      <td>0.014485</td>\n",
              "      <td>-0.024117</td>\n",
              "      <td>-0.073422</td>\n",
              "      <td>-0.131634</td>\n",
              "      <td>-0.106042</td>\n",
              "      <td>0.063050</td>\n",
              "      <td>-0.076485</td>\n",
              "      <td>0.065253</td>\n",
              "      <td>-0.135551</td>\n",
              "      <td>-0.011203</td>\n",
              "      <td>-0.111378</td>\n",
              "      <td>-0.085531</td>\n",
              "      <td>0.019838</td>\n",
              "      <td>0.154820</td>\n",
              "      <td>0.007846</td>\n",
              "      <td>0.036227</td>\n",
              "      <td>0.038716</td>\n",
              "      <td>0.012810</td>\n",
              "      <td>0.072177</td>\n",
              "      <td>0.056355</td>\n",
              "      <td>0.071581</td>\n",
              "      <td>-0.155943</td>\n",
              "      <td>0.130382</td>\n",
              "    </tr>\n",
              "    <tr>\n",
              "      <th>2</th>\n",
              "      <td>1485216000000000000</td>\n",
              "      <td>4</td>\n",
              "      <td>7.731961</td>\n",
              "      <td>0.006543</td>\n",
              "      <td>2280.07</td>\n",
              "      <td>-0.011666</td>\n",
              "      <td>-0.055205</td>\n",
              "      <td>-0.096755</td>\n",
              "      <td>-0.013310</td>\n",
              "      <td>0.065761</td>\n",
              "      <td>-0.112140</td>\n",
              "      <td>0.026689</td>\n",
              "      <td>-0.016075</td>\n",
              "      <td>0.034582</td>\n",
              "      <td>-0.008299</td>\n",
              "      <td>-0.062670</td>\n",
              "      <td>-0.010235</td>\n",
              "      <td>0.041533</td>\n",
              "      <td>-0.004344</td>\n",
              "      <td>0.062147</td>\n",
              "      <td>0.058937</td>\n",
              "      <td>0.011538</td>\n",
              "      <td>-0.002350</td>\n",
              "      <td>0.038271</td>\n",
              "      <td>0.061141</td>\n",
              "      <td>0.027721</td>\n",
              "      <td>-0.072098</td>\n",
              "      <td>0.021481</td>\n",
              "      <td>-0.002909</td>\n",
              "      <td>-0.001958</td>\n",
              "      <td>-0.044007</td>\n",
              "      <td>0.080231</td>\n",
              "      <td>-0.126509</td>\n",
              "      <td>-0.103061</td>\n",
              "      <td>-0.013335</td>\n",
              "      <td>0.022105</td>\n",
              "      <td>-0.007327</td>\n",
              "      <td>-0.054073</td>\n",
              "      <td>-0.123167</td>\n",
              "      <td>-0.038750</td>\n",
              "      <td>...</td>\n",
              "      <td>-0.035457</td>\n",
              "      <td>-0.004529</td>\n",
              "      <td>-0.027875</td>\n",
              "      <td>0.049612</td>\n",
              "      <td>-0.058837</td>\n",
              "      <td>0.021435</td>\n",
              "      <td>0.047072</td>\n",
              "      <td>-0.065756</td>\n",
              "      <td>0.100141</td>\n",
              "      <td>0.014480</td>\n",
              "      <td>0.077365</td>\n",
              "      <td>0.107029</td>\n",
              "      <td>-0.039487</td>\n",
              "      <td>0.026536</td>\n",
              "      <td>-0.075086</td>\n",
              "      <td>-0.050287</td>\n",
              "      <td>0.005691</td>\n",
              "      <td>0.025325</td>\n",
              "      <td>-0.017249</td>\n",
              "      <td>-0.057267</td>\n",
              "      <td>-0.117452</td>\n",
              "      <td>-0.066861</td>\n",
              "      <td>0.031477</td>\n",
              "      <td>-0.056568</td>\n",
              "      <td>0.026390</td>\n",
              "      <td>-0.092806</td>\n",
              "      <td>-0.010514</td>\n",
              "      <td>-0.060031</td>\n",
              "      <td>-0.102783</td>\n",
              "      <td>0.022439</td>\n",
              "      <td>0.139108</td>\n",
              "      <td>-0.015522</td>\n",
              "      <td>0.021615</td>\n",
              "      <td>0.059506</td>\n",
              "      <td>0.013772</td>\n",
              "      <td>0.057791</td>\n",
              "      <td>0.045356</td>\n",
              "      <td>0.077563</td>\n",
              "      <td>-0.131436</td>\n",
              "      <td>0.116357</td>\n",
              "    </tr>\n",
              "    <tr>\n",
              "      <th>3</th>\n",
              "      <td>1485302400000000000</td>\n",
              "      <td>8</td>\n",
              "      <td>7.739955</td>\n",
              "      <td>0.007994</td>\n",
              "      <td>2298.37</td>\n",
              "      <td>0.002697</td>\n",
              "      <td>-0.039816</td>\n",
              "      <td>-0.077380</td>\n",
              "      <td>-0.021993</td>\n",
              "      <td>0.062645</td>\n",
              "      <td>-0.178871</td>\n",
              "      <td>0.046498</td>\n",
              "      <td>-0.029299</td>\n",
              "      <td>0.032604</td>\n",
              "      <td>-0.010027</td>\n",
              "      <td>-0.043530</td>\n",
              "      <td>-0.082569</td>\n",
              "      <td>0.042334</td>\n",
              "      <td>-0.055728</td>\n",
              "      <td>0.062880</td>\n",
              "      <td>0.089423</td>\n",
              "      <td>-0.003042</td>\n",
              "      <td>-0.009297</td>\n",
              "      <td>0.014878</td>\n",
              "      <td>0.082840</td>\n",
              "      <td>-0.013210</td>\n",
              "      <td>-0.054016</td>\n",
              "      <td>0.052332</td>\n",
              "      <td>0.019167</td>\n",
              "      <td>-0.013342</td>\n",
              "      <td>-0.079039</td>\n",
              "      <td>0.043706</td>\n",
              "      <td>-0.081952</td>\n",
              "      <td>-0.075167</td>\n",
              "      <td>-0.006117</td>\n",
              "      <td>0.014915</td>\n",
              "      <td>-0.054616</td>\n",
              "      <td>-0.040403</td>\n",
              "      <td>-0.093773</td>\n",
              "      <td>0.017056</td>\n",
              "      <td>...</td>\n",
              "      <td>-0.009192</td>\n",
              "      <td>0.013079</td>\n",
              "      <td>0.004669</td>\n",
              "      <td>0.033532</td>\n",
              "      <td>-0.031737</td>\n",
              "      <td>-0.002156</td>\n",
              "      <td>0.027782</td>\n",
              "      <td>-0.078774</td>\n",
              "      <td>0.092067</td>\n",
              "      <td>0.055222</td>\n",
              "      <td>0.027815</td>\n",
              "      <td>0.114201</td>\n",
              "      <td>-0.030715</td>\n",
              "      <td>0.085015</td>\n",
              "      <td>-0.036922</td>\n",
              "      <td>-0.046979</td>\n",
              "      <td>0.002103</td>\n",
              "      <td>0.002471</td>\n",
              "      <td>-0.021515</td>\n",
              "      <td>-0.047514</td>\n",
              "      <td>-0.115831</td>\n",
              "      <td>-0.099893</td>\n",
              "      <td>0.054817</td>\n",
              "      <td>-0.048867</td>\n",
              "      <td>0.057228</td>\n",
              "      <td>-0.087970</td>\n",
              "      <td>-0.057406</td>\n",
              "      <td>-0.110503</td>\n",
              "      <td>-0.081844</td>\n",
              "      <td>0.008330</td>\n",
              "      <td>0.137762</td>\n",
              "      <td>-0.019827</td>\n",
              "      <td>0.041465</td>\n",
              "      <td>0.011684</td>\n",
              "      <td>0.026721</td>\n",
              "      <td>0.079002</td>\n",
              "      <td>0.031892</td>\n",
              "      <td>0.079606</td>\n",
              "      <td>-0.139880</td>\n",
              "      <td>0.111760</td>\n",
              "    </tr>\n",
              "    <tr>\n",
              "      <th>4</th>\n",
              "      <td>1485388800000000000</td>\n",
              "      <td>11</td>\n",
              "      <td>7.739220</td>\n",
              "      <td>-0.000736</td>\n",
              "      <td>2296.68</td>\n",
              "      <td>0.005381</td>\n",
              "      <td>-0.045987</td>\n",
              "      <td>-0.085638</td>\n",
              "      <td>-0.019450</td>\n",
              "      <td>0.063208</td>\n",
              "      <td>-0.155412</td>\n",
              "      <td>0.065034</td>\n",
              "      <td>-0.027883</td>\n",
              "      <td>0.037484</td>\n",
              "      <td>0.004569</td>\n",
              "      <td>-0.032876</td>\n",
              "      <td>-0.048769</td>\n",
              "      <td>0.038707</td>\n",
              "      <td>-0.042685</td>\n",
              "      <td>0.053910</td>\n",
              "      <td>0.097983</td>\n",
              "      <td>-0.014668</td>\n",
              "      <td>0.005354</td>\n",
              "      <td>0.010721</td>\n",
              "      <td>0.065545</td>\n",
              "      <td>0.019558</td>\n",
              "      <td>-0.065279</td>\n",
              "      <td>0.034795</td>\n",
              "      <td>-0.015994</td>\n",
              "      <td>-0.013334</td>\n",
              "      <td>-0.061918</td>\n",
              "      <td>0.065488</td>\n",
              "      <td>-0.095571</td>\n",
              "      <td>-0.062455</td>\n",
              "      <td>-0.014294</td>\n",
              "      <td>0.023583</td>\n",
              "      <td>-0.042985</td>\n",
              "      <td>-0.048752</td>\n",
              "      <td>-0.084865</td>\n",
              "      <td>0.020409</td>\n",
              "      <td>...</td>\n",
              "      <td>-0.018936</td>\n",
              "      <td>-0.008468</td>\n",
              "      <td>-0.006331</td>\n",
              "      <td>0.049205</td>\n",
              "      <td>-0.054407</td>\n",
              "      <td>0.009634</td>\n",
              "      <td>0.020053</td>\n",
              "      <td>-0.072661</td>\n",
              "      <td>0.080090</td>\n",
              "      <td>0.053780</td>\n",
              "      <td>0.042872</td>\n",
              "      <td>0.114502</td>\n",
              "      <td>-0.049346</td>\n",
              "      <td>0.054990</td>\n",
              "      <td>-0.067361</td>\n",
              "      <td>-0.052211</td>\n",
              "      <td>0.003494</td>\n",
              "      <td>-0.005065</td>\n",
              "      <td>-0.016215</td>\n",
              "      <td>-0.057685</td>\n",
              "      <td>-0.117921</td>\n",
              "      <td>-0.098726</td>\n",
              "      <td>0.049118</td>\n",
              "      <td>-0.066036</td>\n",
              "      <td>0.056669</td>\n",
              "      <td>-0.087814</td>\n",
              "      <td>-0.042181</td>\n",
              "      <td>-0.082327</td>\n",
              "      <td>-0.088308</td>\n",
              "      <td>0.007800</td>\n",
              "      <td>0.159380</td>\n",
              "      <td>-0.023198</td>\n",
              "      <td>0.028998</td>\n",
              "      <td>0.040570</td>\n",
              "      <td>0.028425</td>\n",
              "      <td>0.048665</td>\n",
              "      <td>0.041007</td>\n",
              "      <td>0.078338</td>\n",
              "      <td>-0.129301</td>\n",
              "      <td>0.108247</td>\n",
              "    </tr>\n",
              "  </tbody>\n",
              "</table>\n",
              "<p>5 rows × 305 columns</p>\n",
              "</div>"
            ],
            "text/plain": [
              "                  date  text       log  ...       297       298       299\n",
              "0  1484870400000000000    13  7.728112  ...  0.085277 -0.159356  0.110608\n",
              "1  1485129600000000000     1  7.725418  ...  0.071581 -0.155943  0.130382\n",
              "2  1485216000000000000     4  7.731961  ...  0.077563 -0.131436  0.116357\n",
              "3  1485302400000000000     8  7.739955  ...  0.079606 -0.139880  0.111760\n",
              "4  1485388800000000000    11  7.739220  ...  0.078338 -0.129301  0.108247\n",
              "\n",
              "[5 rows x 305 columns]"
            ]
          },
          "metadata": {
            "tags": []
          },
          "execution_count": 26
        }
      ]
    },
    {
      "cell_type": "code",
      "metadata": {
        "id": "n7AswbGKfTFw",
        "colab_type": "code",
        "colab": {}
      },
      "source": [
        "#特徴量とターゲットを決める\n",
        "from sklearn.model_selection import train_test_split\n",
        "\n",
        "target_col = 'dif_log'\n",
        "exclude_cols = ['log', 'price', 'dif_log', \"date\",\"text\"]\n",
        "feature_cols = []\n",
        "for col in df4.columns:\n",
        "    if col not in exclude_cols:\n",
        "        feature_cols.append(col)\n",
        "        \n",
        "X = np.array(df4[feature_cols])\n",
        "y = np.array(df4[target_col])"
      ],
      "execution_count": 0,
      "outputs": []
    },
    {
      "cell_type": "code",
      "metadata": {
        "id": "20189zR5fTF0",
        "colab_type": "code",
        "outputId": "15cefe90-8629-474c-8e3f-59607988b7fe",
        "colab": {
          "base_uri": "https://localhost:8080/",
          "height": 85
        }
      },
      "source": [
        "X_train_val, X_test, y_train_val, y_test = train_test_split(\n",
        "    X, y, test_size=0.1, random_state=1234)\n",
        "\n",
        "print('X_train_val Features Shape: ', X_train_val.shape)\n",
        "print('y_train_val Target Shape: ', y_train_val.shape)\n",
        "print('X_test Features Shape: ', X_test.shape)\n",
        "print('y_test Target Shape: ', y_test.shape)"
      ],
      "execution_count": 28,
      "outputs": [
        {
          "output_type": "stream",
          "text": [
            "X_train_val Features Shape:  (739, 300)\n",
            "y_train_val Target Shape:  (739,)\n",
            "X_test Features Shape:  (83, 300)\n",
            "y_test Target Shape:  (83,)\n"
          ],
          "name": "stdout"
        }
      ]
    },
    {
      "cell_type": "code",
      "metadata": {
        "id": "mW7aRfLifTF3",
        "colab_type": "code",
        "outputId": "bdbf984c-d621-4ce5-be9a-1bdf6eb8ada2",
        "colab": {
          "base_uri": "https://localhost:8080/",
          "height": 85
        }
      },
      "source": [
        "X_train, X_val, y_train, y_val = train_test_split(\n",
        "    X_train_val, y_train_val, test_size=0.1, random_state=1234)\n",
        "\n",
        "# 参考：分割後のデータ数を確認\n",
        "print('X_train Features Shape: ', X_train.shape)\n",
        "print('y_train Target Shape: ', y_train.shape)\n",
        "print('X_val Features Shape: ', X_val.shape)\n",
        "print('y_val Target Shape: ', y_val.shape)"
      ],
      "execution_count": 29,
      "outputs": [
        {
          "output_type": "stream",
          "text": [
            "X_train Features Shape:  (665, 300)\n",
            "y_train Target Shape:  (665,)\n",
            "X_val Features Shape:  (74, 300)\n",
            "y_val Target Shape:  (74,)\n"
          ],
          "name": "stdout"
        }
      ]
    },
    {
      "cell_type": "code",
      "metadata": {
        "id": "AMGJVo-zfTF6",
        "colab_type": "code",
        "colab": {}
      },
      "source": [
        "#分析用のライブラリ\n",
        "\n",
        "from collections import Counter\n",
        "from sklearn.linear_model import LogisticRegression\n",
        "from sklearn.metrics import confusion_matrix, accuracy_score, classification_report\n",
        "from sklearn.linear_model import LinearRegression  # 線形回帰モデルのライブラリ\n",
        "from sklearn.metrics import mean_squared_error  # MSEのライブラリ\n",
        "from sklearn.ensemble import RandomForestRegressor"
      ],
      "execution_count": 0,
      "outputs": []
    },
    {
      "cell_type": "code",
      "metadata": {
        "id": "_7Ucu_2FfTF_",
        "colab_type": "code",
        "outputId": "fca8c858-c2f1-4634-a68c-d0f842887cba",
        "colab": {
          "base_uri": "https://localhost:8080/",
          "height": 34
        }
      },
      "source": [
        "#分析1 線形回帰\n",
        "\n",
        "from sklearn.linear_model import LinearRegression  # 線形回帰モデルのライブラリ\n",
        "from sklearn.metrics import mean_squared_error  # MSEのライブラリ\n",
        "\n",
        "lm = LinearRegression()\n",
        "lm.fit(X_train, y_train)\n",
        "y_pred = lm.predict(X_val)\n",
        "lm_mse = mean_squared_error(y_val, y_pred)\n",
        "print('LinerRegression RMSE: ', round(np.sqrt(lm_mse), 3))"
      ],
      "execution_count": 31,
      "outputs": [
        {
          "output_type": "stream",
          "text": [
            "LinerRegression RMSE:  0.017\n"
          ],
          "name": "stdout"
        }
      ]
    },
    {
      "cell_type": "code",
      "metadata": {
        "id": "yP6pY8SpfTGB",
        "colab_type": "code",
        "outputId": "7cfdf3a8-7109-415c-c0ca-bb00d93e9872",
        "colab": {
          "base_uri": "https://localhost:8080/",
          "height": 34
        }
      },
      "source": [
        "#分析2 決定木\n",
        "\n",
        "from sklearn.tree import DecisionTreeRegressor\n",
        "\n",
        "dt = DecisionTreeRegressor(random_state=1234)\n",
        "dt.fit(X_train, y_train)\n",
        "y_pred = dt.predict(X_val)\n",
        "dt_mse = mean_squared_error(y_val, y_pred)\n",
        "print('DecisionTreeRegressor RMSE: ', round(np.sqrt(dt_mse), 3))"
      ],
      "execution_count": 32,
      "outputs": [
        {
          "output_type": "stream",
          "text": [
            "DecisionTreeRegressor RMSE:  0.024\n"
          ],
          "name": "stdout"
        }
      ]
    },
    {
      "cell_type": "code",
      "metadata": {
        "id": "TAO7GAT8fTGE",
        "colab_type": "code",
        "outputId": "bf68558e-c8bc-4663-a1e4-870ccb47227e",
        "colab": {
          "base_uri": "https://localhost:8080/",
          "height": 34
        }
      },
      "source": [
        "#分析3 ランダムフォレスト\n",
        "\n",
        "from sklearn.ensemble import RandomForestRegressor\n",
        "\n",
        "rf = RandomForestRegressor(n_estimators=100, random_state=1234)\n",
        "rf.fit(X_train, y_train)\n",
        "y_pred = rf.predict(X_val)\n",
        "rf_mse = mean_squared_error(y_val, y_pred)\n",
        "print('RandomForestRegressor RMSE: ', round(np.sqrt(rf_mse), 3))"
      ],
      "execution_count": 33,
      "outputs": [
        {
          "output_type": "stream",
          "text": [
            "RandomForestRegressor RMSE:  0.014\n"
          ],
          "name": "stdout"
        }
      ]
    },
    {
      "cell_type": "code",
      "metadata": {
        "id": "8iYWdBRkfTGH",
        "colab_type": "code",
        "outputId": "a4845b64-4af2-4310-f3eb-8bf35bb3b9c7",
        "colab": {
          "base_uri": "https://localhost:8080/",
          "height": 282
        }
      },
      "source": [
        "#分析3 ランダムフォレストの特徴量\n",
        "\n",
        "rf_importances = pd.DataFrame(rf.feature_importances_, columns=['importance'], index=feature_cols)\n",
        "rf_importances.sort_values('importance', ascending=False).iloc[0:15].plot(kind='barh')"
      ],
      "execution_count": 34,
      "outputs": [
        {
          "output_type": "execute_result",
          "data": {
            "text/plain": [
              "<matplotlib.axes._subplots.AxesSubplot at 0x7f0ae2fc26d8>"
            ]
          },
          "metadata": {
            "tags": []
          },
          "execution_count": 34
        },
        {
          "output_type": "display_data",
          "data": {
            "image/png": "[encoded data removed]",
            "text/plain": [
              "<Figure size 432x288 with 1 Axes>"
            ]
          },
          "metadata": {
            "tags": [],
            "needs_background": "light"
          }
        }
      ]
    },
    {
      "cell_type": "code",
      "metadata": {
        "id": "_FrzHo3CfTGK",
        "colab_type": "code",
        "outputId": "648c9b82-8704-4392-ea5a-e76aa791e0ae",
        "colab": {
          "base_uri": "https://localhost:8080/",
          "height": 68
        }
      },
      "source": [
        "#４つの分析の結果の比較\n",
        "\n",
        "print('線形回帰モデルのRMSE:    ', round(np.sqrt(lm_mse), 3))\n",
        "print('回帰木のRMSE:                  ', round(np.sqrt(dt_mse), 3))\n",
        "print('ランダムフォレストのRMSE: ', round(np.sqrt(rf_mse), 3))"
      ],
      "execution_count": 35,
      "outputs": [
        {
          "output_type": "stream",
          "text": [
            "線形回帰モデルのRMSE:     0.017\n",
            "回帰木のRMSE:                   0.024\n",
            "ランダムフォレストのRMSE:  0.014\n"
          ],
          "name": "stdout"
        }
      ]
    },
    {
      "cell_type": "code",
      "metadata": {
        "id": "6nAtZEWZfTGO",
        "colab_type": "code",
        "outputId": "bd973743-a03c-4464-f979-8e80be65bf8d",
        "colab": {
          "base_uri": "https://localhost:8080/",
          "height": 85
        }
      },
      "source": [
        "#分析4 ランダムフォレストのチューニング\n",
        "\n",
        "# クロスバリデーションとグリッドサーチ のライブラリ\n",
        "from sklearn.model_selection import GridSearchCV\n",
        "\n",
        "rf = RandomForestRegressor(random_state=1234)\n",
        "\n",
        "params = {'n_estimators': [10, 25, 50, 100], 'max_depth': [10, 20, 30, 50]}\n",
        "gscv = GridSearchCV(rf, param_grid=params, verbose=1, cv=3,\n",
        "                    scoring='neg_mean_squared_error', n_jobs=-1)\n",
        "gscv.fit(X_train, y_train)\n",
        "\n",
        "gscv.best_params_"
      ],
      "execution_count": 36,
      "outputs": [
        {
          "output_type": "stream",
          "text": [
            "Fitting 3 folds for each of 16 candidates, totalling 48 fits\n"
          ],
          "name": "stdout"
        },
        {
          "output_type": "stream",
          "text": [
            "[Parallel(n_jobs=-1)]: Using backend LokyBackend with 2 concurrent workers.\n",
            "[Parallel(n_jobs=-1)]: Done  48 out of  48 | elapsed:  2.2min finished\n"
          ],
          "name": "stderr"
        },
        {
          "output_type": "execute_result",
          "data": {
            "text/plain": [
              "{'max_depth': 10, 'n_estimators': 50}"
            ]
          },
          "metadata": {
            "tags": []
          },
          "execution_count": 36
        }
      ]
    },
    {
      "cell_type": "code",
      "metadata": {
        "id": "TAcxNPOffTGR",
        "colab_type": "code",
        "outputId": "07197a8b-e787-4c37-8c49-c3a192d7fc86",
        "colab": {
          "base_uri": "https://localhost:8080/",
          "height": 34
        }
      },
      "source": [
        "#分析4 ランダムフォレストのチューニング\n",
        "best_estimators = gscv.best_params_[\"n_estimators\"]\n",
        "best_depth = gscv.best_params_[\"max_depth\"]\n",
        "\n",
        "rf_best = RandomForestRegressor(n_estimators=best_estimators, max_depth=best_depth, random_state=1234)\n",
        "rf_best.fit(X_train, y_train)\n",
        "y_pred = rf_best.predict(X_val)\n",
        "rf_best_mse = mean_squared_error(y_val, y_pred)\n",
        "print('RandomForest RMSE: ', round(np.sqrt(rf_best_mse), 3))"
      ],
      "execution_count": 37,
      "outputs": [
        {
          "output_type": "stream",
          "text": [
            "RandomForest RMSE:  0.014\n"
          ],
          "name": "stdout"
        }
      ]
    },
    {
      "cell_type": "code",
      "metadata": {
        "id": "43P-uNhxfTGU",
        "colab_type": "code",
        "outputId": "081c2049-6390-49e7-b77c-351bfaa39781",
        "colab": {
          "base_uri": "https://localhost:8080/",
          "height": 34
        }
      },
      "source": [
        "#分析5 チューニングしたモデルにテストデータを代入\n",
        "\n",
        "y_pred_on_test = rf_best.predict(X_test)\n",
        "rf_best_test_mse = mean_squared_error(y_test, y_pred_on_test)\n",
        "print('RandomForest RMSE: ', round(np.sqrt(rf_best_test_mse), 3))"
      ],
      "execution_count": 38,
      "outputs": [
        {
          "output_type": "stream",
          "text": [
            "RandomForest RMSE:  0.012\n"
          ],
          "name": "stdout"
        }
      ]
    },
    {
      "cell_type": "code",
      "metadata": {
        "id": "OXUicVllfTGc",
        "colab_type": "code",
        "outputId": "62e6137d-28a3-4f1a-ea37-e08242a1630c",
        "colab": {
          "base_uri": "https://localhost:8080/",
          "height": 618
        }
      },
      "source": [
        "#分析5 テストデータを代入\n",
        "#誤差を可視化\n",
        "\n",
        "plt.scatter(y_test, y_pred_on_test)\n",
        "plt.show()\n",
        "\n",
        "import seaborn as sns\n",
        "\n",
        "error_rate = (y_test - y_pred_on_test) / y_test\n",
        "print('Mean: ', round(np.mean(error_rate), 5))\n",
        "print('Std: ', round(np.std(error_rate), 5))\n",
        "sns.distplot(error_rate, kde=False, rug=False, bins=20)"
      ],
      "execution_count": 39,
      "outputs": [
        {
          "output_type": "display_data",
          "data": {
            "image/png": "[encoded data removed]",
            "text/plain": [
              "<Figure size 432x288 with 1 Axes>"
            ]
          },
          "metadata": {
            "tags": [],
            "needs_background": "light"
          }
        },
        {
          "output_type": "stream",
          "text": [
            "Mean:  1.08384\n",
            "Std:  2.8587\n"
          ],
          "name": "stdout"
        },
        {
          "output_type": "stream",
          "text": [
            "/usr/local/lib/python3.6/dist-packages/statsmodels/tools/_testing.py:19: FutureWarning: pandas.util.testing is deprecated. Use the functions in the public API at pandas.testing instead.\n",
            "  import pandas.util.testing as tm\n"
          ],
          "name": "stderr"
        },
        {
          "output_type": "execute_result",
          "data": {
            "text/plain": [
              "<matplotlib.axes._subplots.AxesSubplot at 0x7f0ae2724b38>"
            ]
          },
          "metadata": {
            "tags": []
          },
          "execution_count": 39
        },
        {
          "output_type": "display_data",
          "data": {
            "image/png": "[encoded data removed]",
            "text/plain": [
              "<Figure size 432x288 with 1 Axes>"
            ]
          },
          "metadata": {
            "tags": [],
            "needs_background": "light"
          }
        }
      ]
    },
    {
      "cell_type": "code",
      "metadata": {
        "id": "sGW47_XkfTGi",
        "colab_type": "code",
        "outputId": "7e41a535-5f85-4205-ec1c-e4ec29574df1",
        "colab": {
          "base_uri": "https://localhost:8080/",
          "height": 581
        }
      },
      "source": [
        "#分析6 クラスタリング\n",
        "#https://hironsan.hatenablog.com/entry/clustering-word-vectors\n",
        "\n",
        "from collections import defaultdict\n",
        "from gensim.models.keyedvectors import KeyedVectors\n",
        "from sklearn.cluster import KMeans\n",
        "\n",
        "model = KeyedVectors.load('skipgram_w2v.model')\n",
        "max_vocab = 30000\n",
        "vocab = list(model.wv.vocab.keys())[:max_vocab]\n",
        "vectors = [model.wv[word] for word in vocab]\n",
        "\n",
        "n_clusters = 30\n",
        "kmeans_model = KMeans(n_clusters=n_clusters, verbose=1, random_state=1234, n_jobs=-1)\n",
        "kmeans_model.fit(vectors)\n",
        "\n",
        "cluster_labels = kmeans_model.labels_\n",
        "cluster_to_words = defaultdict(list)\n",
        "for cluster_id, word in zip(cluster_labels, vocab):\n",
        "    cluster_to_words[cluster_id].append(word)\n",
        "\n",
        "for words in cluster_to_words.values():\n",
        "    print(words[:10])"
      ],
      "execution_count": 40,
      "outputs": [
        {
          "output_type": "stream",
          "text": [
            "/usr/local/lib/python3.6/dist-packages/smart_open/smart_open_lib.py:253: UserWarning: This function is deprecated, use smart_open.open instead. See the migration notes for details: https://github.com/RaRe-Technologies/smart_open/blob/master/README.rst#migrating-to-the-new-open-function\n",
            "  'See the migration notes for details: %s' % _MIGRATION_NOTES_URL\n"
          ],
          "name": "stderr"
        },
        {
          "output_type": "stream",
          "text": [
            "['trump', 'show', '”', 'corruption', 'special', 'deep', 'swamp', 'general', '2016', 'katiepavlich']\n",
            "['gets', 'good', 'talk', 'loser', 'thing', 'given', 'never', 'even', 'called', 'wonder']\n",
            "['latest', 'teamtrump', 'president', 'realdonaldtrump', 'response', 'day', '—', 'office', 'potus', 'delivers']\n",
            "['poll', 'approval', '6', 'best', '7', 'point', 'trillion', 'since', 'history', 'gopchairwoman']\n",
            "['tied', 'brought', 'using', 'cop', 'whole', 'case', 'seems', 'knew', 'flynn', 'tried']\n",
            "['governor', 'great', 'job', 'vote', 'mike', 'tom', 'wisconsin', 'jersey', 'kevin', 'state']\n",
            "['michigan', '2020', 'iowa', 'thank', 'tonight', 'erictrump', '🇺', '🇸', 'west', 'maga']\n",
            "['give', 'want', 'cryin', 'chuck', 'schumer', 'senators', 'aoc', 'enough', 'run', 'voted']\n",
            "['little', 'home', 'states', 'others', 'testing', 'ventilators', 'chinese', 'ultimately', 'us', 'impact']\n",
            "['put', 'fire', 'ny', 'one', 'gave', 'spent', '8', 'authority', 'pandemic', 'direction']\n",
            "['people', 'back', 'make', 'amp', 'done', 'making', 'working', 'hard', 'getting', 'always']\n",
            "['angry', 'mueller', 'scam', 'greatest', 'russia', 'collusion', 'hoax', 'witch', 'hunt', 'russian']\n",
            "['lives', 'stand', 'mikepence', 'america', 'americans', 'every', 'message', 'incredible', 'americas', 'hardworking']\n",
            "['see', 'night', 'supporters', 'opponent', 'big', 'election', 'beat', 'last', 'liberal', 'bernie']\n",
            "['deal', 'dollars', '25', 'pay', 'goods', 'countries', 'china', 'additional', 'phase', 'billion']\n",
            "['totally', 'cuomo', 'false', 'media', 'worse', 'fake', 'news', 'partner', 'cnn', 'msdnc']\n",
            "['stop', 'border', 'allow', 'necessary', 'open', 'must', 'immigration', 'human', 'agents', 'built']\n",
            "['lied', 'dirty', 'fusion', 'fbi', 'investigation', 'cops', 'james', 'documents', 'director', 'christopher']\n",
            "['middle', 'gm', 'production', 'farmers', 'ranchers', 'small', 'business', 'plants', 'infrastructure', 'thousands']\n",
            "['east', 'war', 'meeting', 'sanctions', 'putin', 'seeing', 'spoke', 'leaving', 'forward', 'discussions']\n",
            "['leadership', 'first', 'days', 'hughhewitt', 'new', 'team', 'teachers', 'food', 'line', 'glad']\n",
            "['defense', 'careful', 'w', 'navy', 'officials', 'closely', 'supporting', 'wonderful', 'advice', 'loved']\n",
            "['act', 'ensure', 'supply', 'chuckgrassley', 'protecting', 'seniors', 'coronavirus', 'assistance', 'funding', 'plan']\n",
            "['honor', 'whitehouse', 'live', 'remarks', 'met', 'today', 'birthday', 'oval', '45', 'joined']\n",
            "['\\u2066', '\\u2069', 'morning', 'hall', 'conference', 'white', 'press', 'pm', 'seanhannity', 'eastern']\n",
            "['military', 'vets', 'fighter', 'supports', 'loves', 'strong', 'crime', 'second', 'amendment', 'complete']\n",
            "['rep', 'jimjordan', 'speaker', 'pelosi', 'house', 'repandybiggsaz', 'gopleader', 'partisan', 'single', 'stevescalise']\n",
            "['cut', 'need', 'tax', 'insurance', 'bill', 'taxes', 'cuts', 'disaster', 'obamacare', 'helped']\n",
            "['paying', 'powell', 'higher', 'low', 'federal', 'interest', 'lower', 'dollar', 'raised', 'rates']\n",
            "['ं', 'ी', 'क', 'े', '्', 'र', 'ा', 'ि', 'म', 'ह']\n"
          ],
          "name": "stdout"
        }
      ]
    },
    {
      "cell_type": "code",
      "metadata": {
        "id": "Fu0b2E73mdhz",
        "colab_type": "code",
        "outputId": "0512006f-7b56-4ea9-fa13-790116bbeee4",
        "colab": {
          "base_uri": "https://localhost:8080/",
          "height": 472
        }
      },
      "source": [
        "#分析7 似ている単語をプロット\n",
        "# https://yoshipc.net/python-word2vec/\n",
        " \n",
        "from gensim.models import word2vec\n",
        "import numpy as np\n",
        "import matplotlib.pyplot as plt\n",
        "from sklearn.decomposition import PCA\n",
        " \n",
        "model = word2vec.Word2Vec.load(\"/content/skipgram_w2v.model\")\n",
        " \n",
        "#調べる情報を配列に収納\n",
        "trump_word = []\n",
        "trump_word.append([\"america\",\"china\"])\n",
        "trump_word.append([\"america\",\"great\"])\n",
        "trump_word.append([\"america\",\"japan\"])\n",
        "trump_word.append([\"trump\",\"president\"])\n",
        "trump_word.append([\"coronavirus\",\"covid\"])\n",
        "trump_word.append([\"coronavirus\",\"economy\"])\n",
        "trump_word.append([\"stock\",\"economy\"])\n",
        "\n",
        "length = len(trump_word)\n",
        "data = []\n",
        " \n",
        "j = 0\n",
        "while j < length:\n",
        "    print(trump_word[j][1])\n",
        "    data.append(model[trump_word[j][0]])\n",
        "    data.append(model[trump_word[j][1]])\n",
        "    j += 1\n",
        " \n",
        "pca = PCA(n_components=2)\n",
        "pca.fit(data)\n",
        "data_pca= pca.transform(data)\n",
        " \n",
        "length_data = len(data_pca)\n",
        " \n",
        "i = 0\n",
        "j = 0\n",
        "while i < length_data:\n",
        "    #点プロット\n",
        "    plt.plot(data_pca[i][0], data_pca[i][1], ms=5.0, zorder=2 ,marker=\"x\")\n",
        "    plt.plot(data_pca[i+1][0], data_pca[i+1][1],ms=5.0, zorder=2 ,marker=\"x\")\n",
        " \n",
        "    #線プロット\n",
        "    plt.plot((data_pca[i][0], data_pca[i+1][0]),(data_pca[i][1],data_pca[i+1][1]),c=\"b\",linewidth=0.5,zorder=1,linestyle=\"--\")\n",
        " \n",
        "    #文字プロット\n",
        "    plt.annotate(trump_word[j][0],(data_pca[i][0], data_pca[i][1]),size=7)\n",
        "    plt.annotate(trump_word[j][1],(data_pca[i+1][0], data_pca[i+1][1]),size=7)\n",
        " \n",
        "    j += 1\n",
        "    i += 2\n",
        " \n",
        "plt.show()"
      ],
      "execution_count": 41,
      "outputs": [
        {
          "output_type": "stream",
          "text": [
            "china\n",
            "great\n",
            "japan\n",
            "president\n",
            "covid\n",
            "economy\n",
            "economy\n"
          ],
          "name": "stdout"
        },
        {
          "output_type": "stream",
          "text": [
            "/usr/local/lib/python3.6/dist-packages/smart_open/smart_open_lib.py:253: UserWarning: This function is deprecated, use smart_open.open instead. See the migration notes for details: https://github.com/RaRe-Technologies/smart_open/blob/master/README.rst#migrating-to-the-new-open-function\n",
            "  'See the migration notes for details: %s' % _MIGRATION_NOTES_URL\n",
            "/usr/local/lib/python3.6/dist-packages/ipykernel_launcher.py:25: DeprecationWarning: Call to deprecated `__getitem__` (Method will be removed in 4.0.0, use self.wv.__getitem__() instead).\n",
            "/usr/local/lib/python3.6/dist-packages/ipykernel_launcher.py:26: DeprecationWarning: Call to deprecated `__getitem__` (Method will be removed in 4.0.0, use self.wv.__getitem__() instead).\n"
          ],
          "name": "stderr"
        },
        {
          "output_type": "display_data",
          "data": {
            "image/png": "[encoded data removed]",
            "text/plain": [
              "<Figure size 432x288 with 1 Axes>"
            ]
          },
          "metadata": {
            "tags": [],
            "needs_background": "light"
          }
        }
      ]
    },
    {
      "cell_type": "code",
      "metadata": {
        "id": "zXq4SYqwp5Xu",
        "colab_type": "code",
        "colab": {}
      },
      "source": [
        "#分析8 DeepLearning\n",
        "#ライブラリをインポート\n",
        "\n",
        "import numpy as np\n",
        "import pandas as pd\n",
        "import torch\n",
        "from torch import nn\n",
        "from torch import optim\n",
        "import torch.nn.functional as F\n",
        "from torch.utils.data import DataLoader, TensorDataset\n",
        "from sklearn.model_selection import train_test_split\n",
        "from sklearn.metrics import confusion_matrix\n",
        "import matplotlib.pyplot as plt"
      ],
      "execution_count": 0,
      "outputs": []
    },
    {
      "cell_type": "code",
      "metadata": {
        "id": "4uecjMVBTBij",
        "colab_type": "code",
        "colab": {}
      },
      "source": [
        "class myMLP(nn.Module):\n",
        "    def __init__(self, in_features, out_features):\n",
        "        super().__init__()\n",
        "        self.ln1 = nn.Linear(in_features, 256)\n",
        "        self.ln2 = nn.Linear(256, 128)\n",
        "        self.ln3 = nn.Linear(128, 32)\n",
        "        self.ln4 = nn.Linear(32, 64)\n",
        "        self.ln5 = nn.Linear(64, 32)\n",
        "        self.ln6 = nn.Linear(32, 4)\n",
        "        self.ln7 = nn.Linear(4, out_features)\n",
        "\n",
        "    def forward(self, x):\n",
        "        x = self.ln1(x)\n",
        "        x = F.relu(x)\n",
        "        x = self.ln2(x)\n",
        "        x = F.relu(x)\n",
        "        x = self.ln3(x)\n",
        "        x = F.relu(x)\n",
        "        x = self.ln4(x)\n",
        "        x = F.relu(x)\n",
        "        x = self.ln5(x)\n",
        "        x = F.relu(x)\n",
        "        x = self.ln6(x)\n",
        "        x = F.relu(x)\n",
        "        x = self.ln7(x)\n",
        "        return x"
      ],
      "execution_count": 0,
      "outputs": []
    },
    {
      "cell_type": "code",
      "metadata": {
        "id": "_qwTPkn83jED",
        "colab_type": "code",
        "outputId": "10be1a9b-537f-4471-fe0a-77ffb333e8cd",
        "colab": {
          "base_uri": "https://localhost:8080/",
          "height": 407
        }
      },
      "source": [
        "#分析8 DeepLearning\n",
        "# NumPyのarryをtorch.tensor型に変換する。\n",
        "\n",
        "X_train, X_test, y_train, y_test = train_test_split(\n",
        "    X, y, test_size=0.2, random_state=1234)\n",
        "\n",
        "X_train_tensor = torch.tensor(X_train, dtype=torch.float32)\n",
        "y_train_tensor = torch.tensor(y_train, dtype=torch.float32)\n",
        "X_test_tensor = torch.tensor(X_test, dtype=torch.float32)\n",
        "y_test_tensor = torch.tensor(y_test, dtype=torch.float32)\n",
        "\n",
        "train_dataset = TensorDataset(X_train_tensor, y_train_tensor)\n",
        "train_loader = DataLoader(train_dataset, batch_size=100, shuffle=True)\n",
        "\n",
        "#ネットワークを書く\n",
        "net = myMLP(300,1)\n",
        "net.parameters\n",
        "\n",
        "#目的関数を指定（今回は回帰問題のためMSELoss()を使用する）\n",
        "#https://pytorch.org/docs/stable/nn.html#loss-functions\n",
        "loss_func = nn.MSELoss()\n",
        "#Optimizerを定義する\n",
        "#https://pytorch.org/docs/stable/optim.html\n",
        "optimizer = optim.RMSprop(net.parameters())\n",
        "\n",
        "train_loss_track = []\n",
        "test_loss_track = []\n",
        "\n",
        "for epoc in range(100):\n",
        "    running_loss = 0\n",
        "    \n",
        "    # 学習モード\n",
        "    net.train()\n",
        "    for step, (xx, yy)  in enumerate(train_loader):\n",
        "        \n",
        "        # 最後に計算した各パラメーターの勾配を初期化する\n",
        "        optimizer.zero_grad()\n",
        "        \n",
        "        # フォワード計算を行う\n",
        "        y_pred = net(xx).float()\n",
        "        \n",
        "        # 誤差関数を使ってギャップの計測\n",
        "        loss = loss_func(y_pred, yy)\n",
        "      \n",
        "        # 誤差逆伝播法を使って自動微分\n",
        "        loss.backward()\n",
        "        \n",
        "        # パラメーターを更新\n",
        "        optimizer.step()\n",
        "        \n",
        "        # 学習データを使って誤差を計算\n",
        "        running_loss += loss.item()\n",
        "        \n",
        "    # エポックが終了したら平均誤差を計算\n",
        "    train_loss_track.append(running_loss/step)\n",
        "    \n",
        "    \n",
        "    #評価（evaluation）モード\n",
        "    net.eval()\n",
        "    \n",
        "    # 予測値を計算\n",
        "    y_pred = net(X_test_tensor)\n",
        "    \n",
        "    # 誤差関数を計算\n",
        "    test_loss = loss_func(y_pred, y_test_tensor)\n",
        "    \n",
        "    # 誤差をトラッキング\n",
        "    test_loss_track.append(test_loss)\n",
        "\n",
        "plt.plot(train_loss_track)\n",
        "plt.plot(test_loss_track)\n",
        "print(\"test_loss: \",sum(test_loss_track)/len(test_loss_track))"
      ],
      "execution_count": 44,
      "outputs": [
        {
          "output_type": "stream",
          "text": [
            "/usr/local/lib/python3.6/dist-packages/torch/nn/modules/loss.py:432: UserWarning: Using a target size (torch.Size([100])) that is different to the input size (torch.Size([100, 1])). This will likely lead to incorrect results due to broadcasting. Please ensure they have the same size.\n",
            "  return F.mse_loss(input, target, reduction=self.reduction)\n",
            "/usr/local/lib/python3.6/dist-packages/torch/nn/modules/loss.py:432: UserWarning: Using a target size (torch.Size([57])) that is different to the input size (torch.Size([57, 1])). This will likely lead to incorrect results due to broadcasting. Please ensure they have the same size.\n",
            "  return F.mse_loss(input, target, reduction=self.reduction)\n",
            "/usr/local/lib/python3.6/dist-packages/torch/nn/modules/loss.py:432: UserWarning: Using a target size (torch.Size([165])) that is different to the input size (torch.Size([165, 1])). This will likely lead to incorrect results due to broadcasting. Please ensure they have the same size.\n",
            "  return F.mse_loss(input, target, reduction=self.reduction)\n"
          ],
          "name": "stderr"
        },
        {
          "output_type": "stream",
          "text": [
            "test_loss:  tensor(0.0449, grad_fn=<DivBackward0>)\n"
          ],
          "name": "stdout"
        },
        {
          "output_type": "display_data",
          "data": {
            "image/png": "[encoded data removed]",
            "text/plain": [
              "<Figure size 432x288 with 1 Axes>"
            ]
          },
          "metadata": {
            "tags": [],
            "needs_background": "light"
          }
        }
      ]
    },
    {
      "cell_type": "code",
      "metadata": {
        "id": "Zs3RyM14_Was",
        "colab_type": "code",
        "outputId": "380a361d-1706-4ea6-a2ba-49bd33b92b16",
        "colab": {
          "base_uri": "https://localhost:8080/",
          "height": 537
        }
      },
      "source": [
        "#分析9　TFIDFを用いたランダムフォレスト\n",
        "\n",
        "#形態素解析のデータセットを作る\n",
        "#https://qiita.com/tomone_hata/items/67e7f9415dbf5c8ff8ba\n",
        "\n",
        "from sklearn.feature_extraction.text import CountVectorizer, TfidfTransformer\n",
        "\n",
        "#形態素解析のデータセットを作る\n",
        "#文章を全部１つのリストに入れる→TFIDFを作る→それぞれの日付に出てくる単語をKeyにTFIDFの値を取ってくる\n",
        "\n",
        "data_keitaiso = pd.read_csv(\"s&p_tweets.csv\")\n",
        "tweet_keitaiso=[]\n",
        "\n",
        "for tweet in data_keitaiso[\"text\"]:\n",
        "  tweet = re.sub(r'^RT[\\s]+', '', tweet)\n",
        "  tweet = re.sub(r'(http|https):\\/\\/.*[\\r\\n]*', '', tweet)\n",
        "  tweet = re.sub(r'#', '', tweet)\n",
        "  tweet = tweet.translate(str.maketrans('', '', string.punctuation)) \n",
        "  tweet_keitaiso.append(tweet)\n",
        "\n",
        "corpus = tweet_keitaiso         \n",
        "cv = CountVectorizer(token_pattern=r\"\\b\\w+\\b\")\n",
        "wc = cv.fit_transform(corpus)\n",
        "ttf = TfidfTransformer()\n",
        "tfidf = ttf.fit_transform(wc)\n",
        "\n",
        "#蜜行列に変更する\n",
        "X_tfidf = tfidf.toarray()\n",
        "\n",
        "data3 = pd.DataFrame(X_tfidf)\n",
        "df_tweets_tfidf =  pd.concat([data_keitaiso, data3], axis=1)\n",
        "\n",
        "df = df_tweets_tfidf.groupby([\"date\"]).mean()\n",
        "df_sp = pd.read_csv(\"/content/sp500-10-year-daily-chart.csv\")\n",
        "df_sp[\"log\"] = np.log(df_sp[\" value\"])\n",
        "df_sp[\"dif_log\"] = df_sp[\"log\"].diff()\n",
        "df2=pd.merge(df_sp, df, how=\"inner\" ,on=\"date\")\n",
        "df2 = df2.drop(\" value\", axis=1)\n",
        "df3 = df_tweets_tfidf[[\"date\",\"text\"]]\n",
        "df3 = df3.groupby([\"date\"]).count()\n",
        "df_tfidf = pd.merge( df3, df2, how=\"inner\" ,on=\"date\")\n",
        "df_tfidf[\"date\"] = pd.to_datetime(df4['date']).astype('int64')\n",
        "\n",
        "from sklearn.model_selection import train_test_split\n",
        "\n",
        "target_col = 'dif_log'\n",
        "exclude_cols = ['log', 'price', 'dif_log', \"date\",\"text\"]\n",
        "feature_cols = []\n",
        "for col in df_tfidf.columns:\n",
        "    if col not in exclude_cols:\n",
        "        feature_cols.append(col)\n",
        "        \n",
        "X2 = np.array(df_tfidf[feature_cols])\n",
        "y2 = np.array(df_tfidf[target_col])\n",
        "\n",
        "X２_train_val, X２_test, y２_train_val, y２_test = train_test_split(\n",
        "    X２, y２, test_size=0.1, random_state=1234)\n",
        "\n",
        "X２_train, X２_val, y２_train, y２_val = train_test_split(\n",
        "    X２_train_val, y２_train_val, test_size=0.1, random_state=1234)\n",
        "\n",
        "#分析\n",
        "from sklearn.ensemble import RandomForestRegressor\n",
        "\n",
        "rf = RandomForestRegressor(n_estimators=100, random_state=1234)\n",
        "rf.fit(X２_train, y２_train)\n",
        "y２_pred = rf.predict(X２_val)\n",
        "rf_mse_2 = mean_squared_error(y２_val, y２_pred)\n",
        "print('RandomForestRegressor RMSE: ', round(np.sqrt(rf_mse_2), 3))\n",
        "\n",
        "#プロット\n",
        "rf_importances = pd.DataFrame(rf.feature_importances_, columns=['importance'], index=feature_cols)\n",
        "rf_importances.sort_values('importance', ascending=False).iloc[0:15].plot(kind='barh')\n",
        "\n",
        "#列名をゲット\n",
        "#https://note.nkmk.me/python-dict-get-key-from-value/\n",
        "\n",
        "voca = cv.vocabulary_\n",
        "\n",
        "def get_keys_from_value(d, val):\n",
        "    return [k for k, v in d.items() if v == val]\n",
        "\n",
        "for i in rf_importances.sort_values('importance', ascending=False).iloc[0:15].index:\n",
        "  keys = get_keys_from_value(voca, i)\n",
        "  print(keys)\n",
        "# ['key1', 'key2']"
      ],
      "execution_count": 46,
      "outputs": [
        {
          "output_type": "stream",
          "text": [
            "RandomForestRegressor RMSE:  0.016\n",
            "['confident']\n",
            "['coronavirus']\n",
            "['declare']\n",
            "['nationwide']\n",
            "['duly']\n",
            "['spreading']\n",
            "['covid19']\n",
            "['practice']\n",
            "['cutter']\n",
            "['outbreak']\n",
            "['545']\n",
            "['prevail']\n",
            "['billcassidy']\n",
            "['restaurants']\n",
            "['jack']\n"
          ],
          "name": "stdout"
        },
        {
          "output_type": "display_data",
          "data": {
            "image/png": "[encoded data removed]",
            "text/plain": [
              "<Figure size 432x288 with 1 Axes>"
            ]
          },
          "metadata": {
            "tags": [],
            "needs_background": "light"
          }
        }
      ]
    },
    {
      "cell_type": "code",
      "metadata": {
        "id": "pcp2tIVEfTGo",
        "colab_type": "code",
        "colab": {}
      },
      "source": [
        "#上手くいってない\n",
        "#分析6 Doc2Vecでツイートをクラスタリングする①\n",
        "#https://qiita.com/g-k/items/5ea94c13281f675302ca\n",
        "\n",
        "#from gensim.models.doc2vec import Doc2Vec, TaggedDocument\n",
        "#from gensim import models\n",
        "\n",
        "#documents = [TaggedDocument(doc, [i]) for i, doc in enumerate(sentences)]\n",
        "#model = Doc2Vec(documents, vector_size=300, window=5, min_count=1, workers=4)\n",
        "#model.save(\"doc2_w2v.model\")"
      ],
      "execution_count": 0,
      "outputs": []
    },
    {
      "cell_type": "code",
      "metadata": {
        "id": "Ge2VGRbHfTGr",
        "colab_type": "code",
        "colab": {}
      },
      "source": [
        "#上手くいってない\n",
        "#分析6 Doc2Vecでツイートをクラスタリングする②\n",
        "#https://qiita.com/naotaka1128/items/e617f63907fed035408a\n",
        "\n",
        "#model = models.Doc2Vec.load('/content/doc2_w2v.model')\n",
        "\n",
        "from sklearn.decomposition import PCA\n",
        "import matplotlib.pyplot as plt\n",
        "\n",
        "def draw_word_scatter(word, topn=30):\n",
        "    \"\"\" 入力されたwordに似ている単語の分布図を描くためのメソッド \"\"\"\n",
        "\n",
        "    # 似ている単語を求めるためにはGensim word2vecの以下の機能を利用\n",
        "    # model.most_similar(word, topn=topn)\n",
        "    words = [x[0] for x in sorted(model.most_similar(word, topn=topn))]\n",
        "    words.append(word)\n",
        "\n",
        "    # 各単語のベクトル表現を求めます。Gensimのmost_similarをベースとして\n",
        "    # 単語のベクトルを返すメソッド(model.calc_vec)を定義しています\n",
        "    # 長くなるので実装は本稿の末尾に記載しました。\n",
        "    vecs = [model.calc_vec(word) for word in words]\n",
        "\n",
        "    # 分布図\n",
        "    draw_scatter_plot(vecs, words)\n",
        "\n",
        "def draw_scatter_plot(vecs, tags, clusters):\n",
        "    \"\"\" 入力されたベクトルに基づき散布図(ラベル付き)を描くためのメソッド \"\"\"\n",
        "\n",
        "    # Scikit-learnのPCAによる次元削減とその可視化\n",
        "    pca = PCA(n_components=2)\n",
        "    coords = pca.fit_transform(vecs)\n",
        "\n",
        "    # matplotlibによる可視化\n",
        "    fig, ax = plt.subplots()\n",
        "    x = [v[0] for v in coords]\n",
        "    y = [v[1] for v in coords]\n",
        "\n",
        "    # 各点のクラスターが設定されていればクラスタを考慮\n",
        "    # エラーハンドリングは適当\n",
        "    if clusters:\n",
        "        ax.scatter(x, y, c=clusters)\n",
        "    else:\n",
        "        ax.scatter(x, y)\n",
        "\n",
        "    for i, txt in enumerate(tags):\n",
        "        ax.annotate(txt, (coords[i][0], coords[i][1]))\n",
        "    plt.show()\n",
        "    \n",
        "#draw_word_scatter('coronavirus', topn=40)"
      ],
      "execution_count": 0,
      "outputs": []
    },
    {
      "cell_type": "code",
      "metadata": {
        "id": "o9aiwySJh-Kg",
        "colab_type": "code",
        "colab": {}
      },
      "source": [
        "#　まだできていない\n",
        "# モデルの精度を確認する\n",
        "# https://note.com/uki_profit/n/nab22a04262f9"
      ],
      "execution_count": 0,
      "outputs": []
    }
  ]
}