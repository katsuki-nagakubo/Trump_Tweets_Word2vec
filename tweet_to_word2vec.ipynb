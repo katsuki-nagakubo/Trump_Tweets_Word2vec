{
 "cells": [
  {
   "cell_type": "code",
   "execution_count": 1,
   "metadata": {},
   "outputs": [],
   "source": [
    "#データの取得と成形\n",
    "\n",
    "import pandas as pd\n",
    "import numpy as np\n",
    "import matplotlib.pyplot as plt "
   ]
  },
  {
   "cell_type": "code",
   "execution_count": 2,
   "metadata": {},
   "outputs": [
    {
     "data": {
      "text/html": [
       "<div>\n",
       "<style scoped>\n",
       "    .dataframe tbody tr th:only-of-type {\n",
       "        vertical-align: middle;\n",
       "    }\n",
       "\n",
       "    .dataframe tbody tr th {\n",
       "        vertical-align: top;\n",
       "    }\n",
       "\n",
       "    .dataframe thead th {\n",
       "        text-align: right;\n",
       "    }\n",
       "</style>\n",
       "<table border=\"1\" class=\"dataframe\">\n",
       "  <thead>\n",
       "    <tr style=\"text-align: right;\">\n",
       "      <th></th>\n",
       "      <th>date</th>\n",
       "      <th>price</th>\n",
       "      <th>text</th>\n",
       "    </tr>\n",
       "  </thead>\n",
       "  <tbody>\n",
       "    <tr>\n",
       "      <td>0</td>\n",
       "      <td>2020-05-01</td>\n",
       "      <td>2830.71</td>\n",
       "      <td>RT @StevenTDennis: Trump gets bump in latest G...</td>\n",
       "    </tr>\n",
       "    <tr>\n",
       "      <td>1</td>\n",
       "      <td>2020-05-01</td>\n",
       "      <td>2830.71</td>\n",
       "      <td>The Governor of Michigan should give a little,...</td>\n",
       "    </tr>\n",
       "    <tr>\n",
       "      <td>2</td>\n",
       "      <td>2020-05-01</td>\n",
       "      <td>2830.71</td>\n",
       "      <td>Cryin Chuck Schumer, compared to what other Se...</td>\n",
       "    </tr>\n",
       "    <tr>\n",
       "      <td>3</td>\n",
       "      <td>2020-05-01</td>\n",
       "      <td>2830.71</td>\n",
       "      <td>Cryin’ Chuck Schumer was on a late night show ...</td>\n",
       "    </tr>\n",
       "    <tr>\n",
       "      <td>4</td>\n",
       "      <td>2020-05-01</td>\n",
       "      <td>2830.71</td>\n",
       "      <td>RT @TeamTrump: President @realDonaldTrump: “We...</td>\n",
       "    </tr>\n",
       "  </tbody>\n",
       "</table>\n",
       "</div>"
      ],
      "text/plain": [
       "         date    price                                               text\n",
       "0  2020-05-01  2830.71  RT @StevenTDennis: Trump gets bump in latest G...\n",
       "1  2020-05-01  2830.71  The Governor of Michigan should give a little,...\n",
       "2  2020-05-01  2830.71  Cryin Chuck Schumer, compared to what other Se...\n",
       "3  2020-05-01  2830.71  Cryin’ Chuck Schumer was on a late night show ...\n",
       "4  2020-05-01  2830.71  RT @TeamTrump: President @realDonaldTrump: “We..."
      ]
     },
     "execution_count": 2,
     "metadata": {},
     "output_type": "execute_result"
    }
   ],
   "source": [
    "data = pd.read_csv(\"s&p_tweets.csv\")\n",
    "data.head()"
   ]
  },
  {
   "cell_type": "code",
   "execution_count": 4,
   "metadata": {},
   "outputs": [
    {
     "data": {
      "text/plain": [
       "(12226, 3)"
      ]
     },
     "execution_count": 4,
     "metadata": {},
     "output_type": "execute_result"
    }
   ],
   "source": [
    "data.shape"
   ]
  },
  {
   "cell_type": "code",
   "execution_count": 5,
   "metadata": {},
   "outputs": [
    {
     "name": "stdout",
     "output_type": "stream",
     "text": [
      "['rt', ':', 'trump', 'gets', 'bump', 'in', 'latest', 'gallup', 'poll', ':', '49', '%', 'approval', '(', '+', '6', ',', 'tied', 'for', 'his', 'best', ')', '47', '%', 'disapproval', '(', '-', '7', ')']\n"
     ]
    }
   ],
   "source": [
    "#https://yottagin.com/?p=4360\n",
    "\n",
    "import nltk\n",
    "\n",
    "tweet_tokenizer = nltk.tokenize.TweetTokenizer(preserve_case=False, strip_handles=True, reduce_len=True)\n",
    "for tweet in data[\"text\"][:1]:\n",
    "    print (tweet_tokenizer.tokenize(tweet))"
   ]
  },
  {
   "cell_type": "code",
   "execution_count": 6,
   "metadata": {},
   "outputs": [
    {
     "data": {
      "image/png": "[encoded data removed]",
      "text/plain": [
       "<Figure size 432x288 with 1 Axes>"
      ]
     },
     "metadata": {
      "needs_background": "light"
     },
     "output_type": "display_data"
    },
    {
     "data": {
      "text/plain": [
       "<matplotlib.axes._subplots.AxesSubplot at 0x1a1dd95b90>"
      ]
     },
     "execution_count": 6,
     "metadata": {},
     "output_type": "execute_result"
    }
   ],
   "source": [
    "words = []\n",
    "for tweet in data[\"text\"]:\n",
    "    words += tweet_tokenizer.tokenize(tweet)\n",
    "\n",
    "fdist = nltk.FreqDist(words)\n",
    "fdist.plot(50)"
   ]
  },
  {
   "cell_type": "code",
   "execution_count": 7,
   "metadata": {},
   "outputs": [],
   "source": [
    "df_fdist = pd.DataFrame(fdist.most_common(10), columns=['Word', 'Frequency'])\n",
    "#df_fdist"
   ]
  },
  {
   "cell_type": "code",
   "execution_count": 8,
   "metadata": {},
   "outputs": [],
   "source": [
    "import re\n",
    "#RTから始まる部分を削除\n",
    "tweet = re.sub(r'^RT[\\s]+', '', tweet)\n",
    "#リンクを削除\n",
    "tweet = re.sub(r'^RT[\\s]+', '', tweet)\n",
    "#ハッシュダグを削除\n",
    "tweet = re.sub(r'#', '', tweet)\n",
    "#Punctionを除去\n",
    "import string\n",
    "punctuations = string.punctuation\n",
    "punctuations\n",
    "#互換への変換\n",
    "stemmer = nltk.stem.PorterStemmer()"
   ]
  },
  {
   "cell_type": "code",
   "execution_count": 9,
   "metadata": {},
   "outputs": [],
   "source": [
    "import nltk\n",
    "#nltk.download('stopwords')"
   ]
  },
  {
   "cell_type": "code",
   "execution_count": 10,
   "metadata": {},
   "outputs": [],
   "source": [
    "import re\n",
    "import string\n",
    "\n",
    "stemmer = nltk.stem.PorterStemmer()\n",
    "punctuations = string.punctuation\n",
    "all_tweets_clean = []\n",
    "\n",
    "#Tweet毎にリスト形式で保存するための加工\n",
    "result=[]\n",
    "\n",
    "for tweet in data[\"text\"]:\n",
    "    # RTから始まる部分を取り除く。\n",
    "    tweet = re.sub(r'^RT[\\s]+', '', tweet)\n",
    "    # リンクを取り除く。\n",
    "    tweet = re.sub(r'(http|https):\\/\\/.*[\\r\\n]*', '', tweet)\n",
    "    # ハッシュタグを取り除く。\n",
    "    tweet = re.sub(r'#', '', tweet)\n",
    "    # 句読点の削除\n",
    "    tweet = tweet.translate(str.maketrans('', '', string.punctuation)) \n",
    "    # 単語に分解する。\n",
    "    tokenizer = nltk.tokenize.TweetTokenizer(preserve_case=False, strip_handles=True, reduce_len=True)\n",
    "    tweet_tokens = tokenizer.tokenize(tweet)\n",
    "    result.append(tweet_tokens)\n",
    "    \n",
    "#    tweets_clean = []\n",
    "#   for word in tweet_tokens:\n",
    "#        if (word not in stopwords and # stopwordsを除去する。\n",
    "#               word not in punctuations): # punctuationを除去する。\n",
    "#            #stem_word = stemmer.stem(word) # 単語を語幹に変形する。\n",
    "#            tweets_clean.append(word)\n",
    "#            all_tweets_clean += tweets_clean\n",
    "            \n",
    "#fdist_all_tweets_clean = nltk.FreqDist(all_tweets_clean)\n",
    "#fdist_all_tweets_clean.plot(50)"
   ]
  },
  {
   "cell_type": "code",
   "execution_count": 11,
   "metadata": {},
   "outputs": [],
   "source": [
    "stopwords = nltk.corpus.stopwords.words('english')\n",
    "stop_words = [\"→\", \"←\", \"?\", \"」\", \"「\",\"(\",\")\",\"!\",\".\",\",\",\"&\",\"…\",\"%\",\":\",\";\",\"“\"]\n",
    "stopwords += stop_words\n",
    "\n",
    "#print(stopwords)\n",
    "\n",
    "result_2=[]\n",
    "result_3=[]\n",
    "for i in range(len(result)):\n",
    "    for word in result[i]:\n",
    "        if word not in stopwords:\n",
    "            result_2.append(word)\n",
    "    result_3.append(result_2)\n",
    "    result_2=[]"
   ]
  },
  {
   "cell_type": "code",
   "execution_count": 12,
   "metadata": {},
   "outputs": [
    {
     "name": "stderr",
     "output_type": "stream",
     "text": [
      "unable to import 'smart_open.gcs', disabling that module\n"
     ]
    }
   ],
   "source": [
    "#Word2Vec\n",
    "\n",
    "from gensim.models import word2vec"
   ]
  },
  {
   "cell_type": "code",
   "execution_count": 13,
   "metadata": {},
   "outputs": [
    {
     "data": {
      "text/plain": [
       "['steventdennis',\n",
       " 'trump',\n",
       " 'gets',\n",
       " 'bump',\n",
       " 'latest',\n",
       " 'gallup',\n",
       " 'poll',\n",
       " '49',\n",
       " 'approval',\n",
       " '6',\n",
       " 'tied',\n",
       " 'best',\n",
       " '47',\n",
       " 'disapproval',\n",
       " '7']"
      ]
     },
     "execution_count": 13,
     "metadata": {},
     "output_type": "execute_result"
    }
   ],
   "source": [
    "# 対象データをLinseSentence(one sentence = one lineとして扱う)で読み込む\n",
    "\n",
    "sentences = result_3\n",
    "sentences[0]"
   ]
  },
  {
   "cell_type": "code",
   "execution_count": null,
   "metadata": {},
   "outputs": [],
   "source": [
    "# skip-gramモデルの学習\n",
    "skipgram_model = word2vec.Word2Vec(sentences,\n",
    "                                   sg=1,\n",
    "                                   size=250,\n",
    "                                   min_count=10,\n",
    "                                   window=15, seed=1234)"
   ]
  },
  {
   "cell_type": "code",
   "execution_count": 14,
   "metadata": {},
   "outputs": [],
   "source": [
    "# 作成したモデルの保存\n",
    "#skipgram_model.save(\"skipgram_w2v.model\")\n",
    "# saveしたモデルを読み込む時は\n",
    "skipgram_model = word2vec.Word2Vec.load(\"./skipgram_w2v.model\")"
   ]
  },
  {
   "cell_type": "code",
   "execution_count": 15,
   "metadata": {},
   "outputs": [
    {
     "data": {
      "text/html": [
       "<div>\n",
       "<style scoped>\n",
       "    .dataframe tbody tr th:only-of-type {\n",
       "        vertical-align: middle;\n",
       "    }\n",
       "\n",
       "    .dataframe tbody tr th {\n",
       "        vertical-align: top;\n",
       "    }\n",
       "\n",
       "    .dataframe thead th {\n",
       "        text-align: right;\n",
       "    }\n",
       "</style>\n",
       "<table border=\"1\" class=\"dataframe\">\n",
       "  <thead>\n",
       "    <tr style=\"text-align: right;\">\n",
       "      <th></th>\n",
       "      <th>keyword</th>\n",
       "      <th>score</th>\n",
       "    </tr>\n",
       "  </thead>\n",
       "  <tbody>\n",
       "    <tr>\n",
       "      <td>0</td>\n",
       "      <td>response</td>\n",
       "      <td>0.844936</td>\n",
       "    </tr>\n",
       "    <tr>\n",
       "      <td>1</td>\n",
       "      <td>covid</td>\n",
       "      <td>0.833694</td>\n",
       "    </tr>\n",
       "    <tr>\n",
       "      <td>2</td>\n",
       "      <td>spread</td>\n",
       "      <td>0.828075</td>\n",
       "    </tr>\n",
       "    <tr>\n",
       "      <td>3</td>\n",
       "      <td>19</td>\n",
       "      <td>0.823361</td>\n",
       "    </tr>\n",
       "    <tr>\n",
       "      <td>4</td>\n",
       "      <td>task</td>\n",
       "      <td>0.814213</td>\n",
       "    </tr>\n",
       "    <tr>\n",
       "      <td>5</td>\n",
       "      <td>outbreak</td>\n",
       "      <td>0.798263</td>\n",
       "    </tr>\n",
       "    <tr>\n",
       "      <td>6</td>\n",
       "      <td>cdcgov</td>\n",
       "      <td>0.789784</td>\n",
       "    </tr>\n",
       "    <tr>\n",
       "      <td>7</td>\n",
       "      <td>providing</td>\n",
       "      <td>0.779386</td>\n",
       "    </tr>\n",
       "    <tr>\n",
       "      <td>8</td>\n",
       "      <td>distancing</td>\n",
       "      <td>0.770392</td>\n",
       "    </tr>\n",
       "    <tr>\n",
       "      <td>9</td>\n",
       "      <td>executive</td>\n",
       "      <td>0.769038</td>\n",
       "    </tr>\n",
       "  </tbody>\n",
       "</table>\n",
       "</div>"
      ],
      "text/plain": [
       "      keyword     score\n",
       "0    response  0.844936\n",
       "1       covid  0.833694\n",
       "2      spread  0.828075\n",
       "3          19  0.823361\n",
       "4        task  0.814213\n",
       "5    outbreak  0.798263\n",
       "6      cdcgov  0.789784\n",
       "7   providing  0.779386\n",
       "8  distancing  0.770392\n",
       "9   executive  0.769038"
      ]
     },
     "execution_count": 15,
     "metadata": {},
     "output_type": "execute_result"
    }
   ],
   "source": [
    "# coronavirusと似たキーワードを見つけていきます。\n",
    "# ここで記載しているscoreは、単語同士のコサイン類似度です。\n",
    "pd.DataFrame(skipgram_model.wv.most_similar(\n",
    "    positive=[\"coronavirus\"]), columns=[\"keyword\", \"score\"])"
   ]
  },
  {
   "cell_type": "code",
   "execution_count": 16,
   "metadata": {},
   "outputs": [],
   "source": [
    "\"\"\"\n",
    "1. 抽出された各単語を、作成したword2Vecによってベクトル化\n",
    "2. 変換された各単語ベクトルの平均をとり、その結果得られたベクトルを記事のベクトルとする\n",
    "上記2ステップを実行する関数を作成\n",
    "\"\"\"\n",
    "\n",
    "num_features = 250\n",
    "\n",
    "\n",
    "def avg_document_vector(data, num_features):\n",
    "    document_vec = np.zeros((len(data), num_features))\n",
    "    for i, doc_word_list in enumerate(data):\n",
    "        feature_vec = np.zeros((num_features,), dtype=\"float32\")\n",
    "        for word in doc_word_list:\n",
    "            try:\n",
    "                feature_vec = np.add(\n",
    "                    feature_vec, skipgram_model.wv.__getitem__(word))\n",
    "            except:\n",
    "                pass\n",
    "\n",
    "        feature_vec = np.divide(feature_vec, len(doc_word_list))\n",
    "        document_vec[i] = feature_vec\n",
    "    return document_vec"
   ]
  },
  {
   "cell_type": "code",
   "execution_count": 17,
   "metadata": {},
   "outputs": [
    {
     "name": "stderr",
     "output_type": "stream",
     "text": [
      "/opt/anaconda3/lib/python3.7/site-packages/ipykernel_launcher.py:21: RuntimeWarning: invalid value encountered in true_divide\n"
     ]
    },
    {
     "data": {
      "text/plain": [
       "(12226, 250)"
      ]
     },
     "execution_count": 17,
     "metadata": {},
     "output_type": "execute_result"
    }
   ],
   "source": [
    "X = avg_document_vector(data=sentences, num_features=250)\n",
    "X.shape"
   ]
  },
  {
   "cell_type": "code",
   "execution_count": 18,
   "metadata": {},
   "outputs": [
    {
     "data": {
      "text/html": [
       "<div>\n",
       "<style scoped>\n",
       "    .dataframe tbody tr th:only-of-type {\n",
       "        vertical-align: middle;\n",
       "    }\n",
       "\n",
       "    .dataframe tbody tr th {\n",
       "        vertical-align: top;\n",
       "    }\n",
       "\n",
       "    .dataframe thead th {\n",
       "        text-align: right;\n",
       "    }\n",
       "</style>\n",
       "<table border=\"1\" class=\"dataframe\">\n",
       "  <thead>\n",
       "    <tr style=\"text-align: right;\">\n",
       "      <th></th>\n",
       "      <th>date</th>\n",
       "      <th>price</th>\n",
       "      <th>text</th>\n",
       "      <th>0</th>\n",
       "      <th>1</th>\n",
       "      <th>2</th>\n",
       "      <th>3</th>\n",
       "      <th>4</th>\n",
       "      <th>5</th>\n",
       "      <th>6</th>\n",
       "      <th>...</th>\n",
       "      <th>240</th>\n",
       "      <th>241</th>\n",
       "      <th>242</th>\n",
       "      <th>243</th>\n",
       "      <th>244</th>\n",
       "      <th>245</th>\n",
       "      <th>246</th>\n",
       "      <th>247</th>\n",
       "      <th>248</th>\n",
       "      <th>249</th>\n",
       "    </tr>\n",
       "  </thead>\n",
       "  <tbody>\n",
       "    <tr>\n",
       "      <td>0</td>\n",
       "      <td>2020-05-01</td>\n",
       "      <td>2830.71</td>\n",
       "      <td>RT @StevenTDennis: Trump gets bump in latest G...</td>\n",
       "      <td>0.017511</td>\n",
       "      <td>0.033036</td>\n",
       "      <td>-0.055609</td>\n",
       "      <td>-0.086756</td>\n",
       "      <td>0.038204</td>\n",
       "      <td>0.007787</td>\n",
       "      <td>0.009487</td>\n",
       "      <td>...</td>\n",
       "      <td>-0.025825</td>\n",
       "      <td>-0.143078</td>\n",
       "      <td>0.074192</td>\n",
       "      <td>-0.021282</td>\n",
       "      <td>-0.023262</td>\n",
       "      <td>-0.015457</td>\n",
       "      <td>0.059069</td>\n",
       "      <td>0.099523</td>\n",
       "      <td>0.037090</td>\n",
       "      <td>-0.158329</td>\n",
       "    </tr>\n",
       "    <tr>\n",
       "      <td>1</td>\n",
       "      <td>2020-05-01</td>\n",
       "      <td>2830.71</td>\n",
       "      <td>The Governor of Michigan should give a little,...</td>\n",
       "      <td>0.116268</td>\n",
       "      <td>0.206312</td>\n",
       "      <td>-0.061226</td>\n",
       "      <td>-0.027443</td>\n",
       "      <td>-0.024336</td>\n",
       "      <td>0.020309</td>\n",
       "      <td>0.140659</td>\n",
       "      <td>...</td>\n",
       "      <td>-0.023505</td>\n",
       "      <td>-0.236269</td>\n",
       "      <td>0.122842</td>\n",
       "      <td>0.018296</td>\n",
       "      <td>-0.007191</td>\n",
       "      <td>0.086792</td>\n",
       "      <td>0.035547</td>\n",
       "      <td>0.105070</td>\n",
       "      <td>0.020868</td>\n",
       "      <td>-0.117669</td>\n",
       "    </tr>\n",
       "    <tr>\n",
       "      <td>2</td>\n",
       "      <td>2020-05-01</td>\n",
       "      <td>2830.71</td>\n",
       "      <td>Cryin Chuck Schumer, compared to what other Se...</td>\n",
       "      <td>0.107201</td>\n",
       "      <td>0.149604</td>\n",
       "      <td>-0.060804</td>\n",
       "      <td>-0.017472</td>\n",
       "      <td>-0.022624</td>\n",
       "      <td>-0.010882</td>\n",
       "      <td>0.114679</td>\n",
       "      <td>...</td>\n",
       "      <td>-0.008816</td>\n",
       "      <td>-0.226043</td>\n",
       "      <td>0.126307</td>\n",
       "      <td>0.028040</td>\n",
       "      <td>0.019861</td>\n",
       "      <td>0.073369</td>\n",
       "      <td>0.061576</td>\n",
       "      <td>0.095116</td>\n",
       "      <td>0.047083</td>\n",
       "      <td>-0.111482</td>\n",
       "    </tr>\n",
       "    <tr>\n",
       "      <td>3</td>\n",
       "      <td>2020-05-01</td>\n",
       "      <td>2830.71</td>\n",
       "      <td>Cryin’ Chuck Schumer was on a late night show ...</td>\n",
       "      <td>0.080933</td>\n",
       "      <td>0.126144</td>\n",
       "      <td>-0.048920</td>\n",
       "      <td>-0.041991</td>\n",
       "      <td>-0.030629</td>\n",
       "      <td>0.019780</td>\n",
       "      <td>0.140582</td>\n",
       "      <td>...</td>\n",
       "      <td>-0.041110</td>\n",
       "      <td>-0.247888</td>\n",
       "      <td>0.124528</td>\n",
       "      <td>0.045370</td>\n",
       "      <td>0.009205</td>\n",
       "      <td>0.053368</td>\n",
       "      <td>0.073823</td>\n",
       "      <td>0.079290</td>\n",
       "      <td>0.070780</td>\n",
       "      <td>-0.130648</td>\n",
       "    </tr>\n",
       "    <tr>\n",
       "      <td>4</td>\n",
       "      <td>2020-05-01</td>\n",
       "      <td>2830.71</td>\n",
       "      <td>RT @TeamTrump: President @realDonaldTrump: “We...</td>\n",
       "      <td>0.076822</td>\n",
       "      <td>0.078205</td>\n",
       "      <td>-0.045310</td>\n",
       "      <td>-0.066868</td>\n",
       "      <td>0.015297</td>\n",
       "      <td>-0.005735</td>\n",
       "      <td>0.037144</td>\n",
       "      <td>...</td>\n",
       "      <td>-0.062958</td>\n",
       "      <td>-0.211431</td>\n",
       "      <td>0.120815</td>\n",
       "      <td>-0.014881</td>\n",
       "      <td>0.009230</td>\n",
       "      <td>0.052308</td>\n",
       "      <td>0.062994</td>\n",
       "      <td>0.212341</td>\n",
       "      <td>0.024647</td>\n",
       "      <td>-0.208380</td>\n",
       "    </tr>\n",
       "  </tbody>\n",
       "</table>\n",
       "<p>5 rows × 253 columns</p>\n",
       "</div>"
      ],
      "text/plain": [
       "         date    price                                               text  \\\n",
       "0  2020-05-01  2830.71  RT @StevenTDennis: Trump gets bump in latest G...   \n",
       "1  2020-05-01  2830.71  The Governor of Michigan should give a little,...   \n",
       "2  2020-05-01  2830.71  Cryin Chuck Schumer, compared to what other Se...   \n",
       "3  2020-05-01  2830.71  Cryin’ Chuck Schumer was on a late night show ...   \n",
       "4  2020-05-01  2830.71  RT @TeamTrump: President @realDonaldTrump: “We...   \n",
       "\n",
       "          0         1         2         3         4         5         6  ...  \\\n",
       "0  0.017511  0.033036 -0.055609 -0.086756  0.038204  0.007787  0.009487  ...   \n",
       "1  0.116268  0.206312 -0.061226 -0.027443 -0.024336  0.020309  0.140659  ...   \n",
       "2  0.107201  0.149604 -0.060804 -0.017472 -0.022624 -0.010882  0.114679  ...   \n",
       "3  0.080933  0.126144 -0.048920 -0.041991 -0.030629  0.019780  0.140582  ...   \n",
       "4  0.076822  0.078205 -0.045310 -0.066868  0.015297 -0.005735  0.037144  ...   \n",
       "\n",
       "        240       241       242       243       244       245       246  \\\n",
       "0 -0.025825 -0.143078  0.074192 -0.021282 -0.023262 -0.015457  0.059069   \n",
       "1 -0.023505 -0.236269  0.122842  0.018296 -0.007191  0.086792  0.035547   \n",
       "2 -0.008816 -0.226043  0.126307  0.028040  0.019861  0.073369  0.061576   \n",
       "3 -0.041110 -0.247888  0.124528  0.045370  0.009205  0.053368  0.073823   \n",
       "4 -0.062958 -0.211431  0.120815 -0.014881  0.009230  0.052308  0.062994   \n",
       "\n",
       "        247       248       249  \n",
       "0  0.099523  0.037090 -0.158329  \n",
       "1  0.105070  0.020868 -0.117669  \n",
       "2  0.095116  0.047083 -0.111482  \n",
       "3  0.079290  0.070780 -0.130648  \n",
       "4  0.212341  0.024647 -0.208380  \n",
       "\n",
       "[5 rows x 253 columns]"
      ]
     },
     "execution_count": 18,
     "metadata": {},
     "output_type": "execute_result"
    }
   ],
   "source": [
    "# outer join\n",
    "data2 = pd.DataFrame(X)\n",
    "df_tweets_word2vec =  pd.concat([data, data2], axis=1)\n",
    "df_tweets_word2vec.head()"
   ]
  },
  {
   "cell_type": "code",
   "execution_count": 19,
   "metadata": {},
   "outputs": [],
   "source": [
    "df_tweets_word2vec.to_csv(\"price_tweets_vector.csv\", index=False)"
   ]
  },
  {
   "cell_type": "code",
   "execution_count": 94,
   "metadata": {},
   "outputs": [
    {
     "data": {
      "text/plain": [
       "<matplotlib.axes._subplots.AxesSubplot at 0x1a2fe58b50>"
      ]
     },
     "execution_count": 94,
     "metadata": {},
     "output_type": "execute_result"
    },
    {
     "data": {
      "image/png": "[encoded data removed]",
      "text/plain": [
       "<Figure size 1152x288 with 1 Axes>"
      ]
     },
     "metadata": {
      "needs_background": "light"
     },
     "output_type": "display_data"
    },
    {
     "data": {
      "image/png": "[encoded data removed]",
      "text/plain": [
       "<Figure size 432x288 with 1 Axes>"
      ]
     },
     "metadata": {
      "needs_background": "light"
     },
     "output_type": "display_data"
    }
   ],
   "source": [
    "#ツイートのベクトルを1日毎に平均にする（1日10ツイートだった場合ベクトルと足し合わせ10で割る）\n",
    "# groupby #https://qiita.com/propella/items/a9a32b878c77222630ae\n",
    "df = df_tweets_word2vec.groupby([\"date\"]).mean()\n",
    "\n",
    "\n",
    "# targetのcolである変化率（\"price\"の差分対数行列）をdateをKeyに内部結合する\n",
    "df_sp = pd.read_csv(\"sp500-10-year-daily-chart.csv\")\n",
    "\n",
    "# 時系列データの差分を求める\n",
    "\n",
    "# \" value\"の行を対数化\n",
    "# https://www.sejuku.net/blog/70027\n",
    "df_sp[\"log\"] = np.log(df_sp[\" value\"])\n",
    "\n",
    "# \"log\"の1日前との差を取って、差分対数の列を作成\n",
    "# https://note.nkmk.me/python-pandas-diff-pct-change/\n",
    "df_sp[\"dif_log\"] = df_sp[\"log\"].diff()\n",
    "\n",
    "#内部結合\n",
    "df2=pd.merge(df_sp, df, how=\"inner\" ,on=\"date\")\n",
    "df2 = df2.drop(\" value\", axis=1)\n",
    "\n",
    "# groupbyを使って1日のツイート数も特徴量に加える\n",
    "# https://deepage.net/features/pandas-count.html\n",
    "df3 = df_tweets_word2vec[[\"date\",\"text\"]]\n",
    "df3 = df3.groupby([\"date\"]).count()\n",
    "\n",
    "#内部結合\n",
    "df4 = pd.merge( df3, df2, how=\"inner\" ,on=\"date\")\n",
    "\n",
    "#日付データの形を変える\n",
    "df4[\"date\"] = pd.to_datetime(df4['date']).astype('int64')\n",
    "\n",
    "#変化率のグラフ\n",
    "df4.plot( y=[\"dif_log\"], figsize=(16,4), alpha=0.5)\n",
    "\n",
    "#ツイート数と変化率の関係\n",
    "df4.plot.scatter(x=[\"text\"], y=[\"dif_log\"])"
   ]
  },
  {
   "cell_type": "code",
   "execution_count": 95,
   "metadata": {},
   "outputs": [
    {
     "data": {
      "text/html": [
       "<div>\n",
       "<style scoped>\n",
       "    .dataframe tbody tr th:only-of-type {\n",
       "        vertical-align: middle;\n",
       "    }\n",
       "\n",
       "    .dataframe tbody tr th {\n",
       "        vertical-align: top;\n",
       "    }\n",
       "\n",
       "    .dataframe thead th {\n",
       "        text-align: right;\n",
       "    }\n",
       "</style>\n",
       "<table border=\"1\" class=\"dataframe\">\n",
       "  <thead>\n",
       "    <tr style=\"text-align: right;\">\n",
       "      <th></th>\n",
       "      <th>date</th>\n",
       "      <th>text</th>\n",
       "      <th>log</th>\n",
       "      <th>dif_log</th>\n",
       "      <th>price</th>\n",
       "      <th>0</th>\n",
       "      <th>1</th>\n",
       "      <th>2</th>\n",
       "      <th>3</th>\n",
       "      <th>4</th>\n",
       "      <th>...</th>\n",
       "      <th>240</th>\n",
       "      <th>241</th>\n",
       "      <th>242</th>\n",
       "      <th>243</th>\n",
       "      <th>244</th>\n",
       "      <th>245</th>\n",
       "      <th>246</th>\n",
       "      <th>247</th>\n",
       "      <th>248</th>\n",
       "      <th>249</th>\n",
       "    </tr>\n",
       "  </thead>\n",
       "  <tbody>\n",
       "    <tr>\n",
       "      <td>0</td>\n",
       "      <td>1485388800000000000</td>\n",
       "      <td>4</td>\n",
       "      <td>7.739220</td>\n",
       "      <td>-0.000736</td>\n",
       "      <td>2296.68</td>\n",
       "      <td>0.028186</td>\n",
       "      <td>0.063896</td>\n",
       "      <td>-0.054952</td>\n",
       "      <td>-0.081198</td>\n",
       "      <td>-0.005036</td>\n",
       "      <td>...</td>\n",
       "      <td>-0.015950</td>\n",
       "      <td>-0.256750</td>\n",
       "      <td>0.095328</td>\n",
       "      <td>0.027891</td>\n",
       "      <td>-0.052631</td>\n",
       "      <td>0.057231</td>\n",
       "      <td>0.028564</td>\n",
       "      <td>0.067227</td>\n",
       "      <td>-0.011364</td>\n",
       "      <td>-0.158354</td>\n",
       "    </tr>\n",
       "    <tr>\n",
       "      <td>1</td>\n",
       "      <td>1485475200000000000</td>\n",
       "      <td>7</td>\n",
       "      <td>7.738353</td>\n",
       "      <td>-0.000867</td>\n",
       "      <td>2294.69</td>\n",
       "      <td>0.049721</td>\n",
       "      <td>0.176991</td>\n",
       "      <td>-0.085925</td>\n",
       "      <td>-0.025510</td>\n",
       "      <td>-0.026521</td>\n",
       "      <td>...</td>\n",
       "      <td>-0.013792</td>\n",
       "      <td>-0.229306</td>\n",
       "      <td>0.128353</td>\n",
       "      <td>-0.002184</td>\n",
       "      <td>-0.067476</td>\n",
       "      <td>0.090140</td>\n",
       "      <td>0.014357</td>\n",
       "      <td>0.133015</td>\n",
       "      <td>0.025477</td>\n",
       "      <td>-0.158135</td>\n",
       "    </tr>\n",
       "    <tr>\n",
       "      <td>2</td>\n",
       "      <td>1485734400000000000</td>\n",
       "      <td>7</td>\n",
       "      <td>7.732325</td>\n",
       "      <td>-0.006028</td>\n",
       "      <td>2280.90</td>\n",
       "      <td>0.072995</td>\n",
       "      <td>0.164643</td>\n",
       "      <td>-0.069141</td>\n",
       "      <td>-0.030508</td>\n",
       "      <td>-0.007188</td>\n",
       "      <td>...</td>\n",
       "      <td>-0.009502</td>\n",
       "      <td>-0.219064</td>\n",
       "      <td>0.108246</td>\n",
       "      <td>0.005359</td>\n",
       "      <td>-0.015952</td>\n",
       "      <td>0.063800</td>\n",
       "      <td>0.051648</td>\n",
       "      <td>0.115916</td>\n",
       "      <td>0.024918</td>\n",
       "      <td>-0.139839</td>\n",
       "    </tr>\n",
       "    <tr>\n",
       "      <td>3</td>\n",
       "      <td>1485820800000000000</td>\n",
       "      <td>3</td>\n",
       "      <td>7.731435</td>\n",
       "      <td>-0.000890</td>\n",
       "      <td>2278.87</td>\n",
       "      <td>0.109382</td>\n",
       "      <td>0.112762</td>\n",
       "      <td>-0.045016</td>\n",
       "      <td>-0.081742</td>\n",
       "      <td>0.013047</td>\n",
       "      <td>...</td>\n",
       "      <td>0.000737</td>\n",
       "      <td>-0.269361</td>\n",
       "      <td>0.106410</td>\n",
       "      <td>0.051216</td>\n",
       "      <td>0.013596</td>\n",
       "      <td>0.054842</td>\n",
       "      <td>0.047909</td>\n",
       "      <td>0.053978</td>\n",
       "      <td>0.037297</td>\n",
       "      <td>-0.127028</td>\n",
       "    </tr>\n",
       "    <tr>\n",
       "      <td>4</td>\n",
       "      <td>1485907200000000000</td>\n",
       "      <td>4</td>\n",
       "      <td>7.731733</td>\n",
       "      <td>0.000298</td>\n",
       "      <td>2279.55</td>\n",
       "      <td>0.060450</td>\n",
       "      <td>0.150733</td>\n",
       "      <td>-0.081919</td>\n",
       "      <td>-0.046430</td>\n",
       "      <td>-0.042003</td>\n",
       "      <td>...</td>\n",
       "      <td>-0.017719</td>\n",
       "      <td>-0.264643</td>\n",
       "      <td>0.142889</td>\n",
       "      <td>-0.007400</td>\n",
       "      <td>-0.034531</td>\n",
       "      <td>0.090331</td>\n",
       "      <td>0.033544</td>\n",
       "      <td>0.167153</td>\n",
       "      <td>-0.010577</td>\n",
       "      <td>-0.189657</td>\n",
       "    </tr>\n",
       "  </tbody>\n",
       "</table>\n",
       "<p>5 rows × 255 columns</p>\n",
       "</div>"
      ],
      "text/plain": [
       "                  date  text       log   dif_log    price         0         1  \\\n",
       "0  1485388800000000000     4  7.739220 -0.000736  2296.68  0.028186  0.063896   \n",
       "1  1485475200000000000     7  7.738353 -0.000867  2294.69  0.049721  0.176991   \n",
       "2  1485734400000000000     7  7.732325 -0.006028  2280.90  0.072995  0.164643   \n",
       "3  1485820800000000000     3  7.731435 -0.000890  2278.87  0.109382  0.112762   \n",
       "4  1485907200000000000     4  7.731733  0.000298  2279.55  0.060450  0.150733   \n",
       "\n",
       "          2         3         4  ...       240       241       242       243  \\\n",
       "0 -0.054952 -0.081198 -0.005036  ... -0.015950 -0.256750  0.095328  0.027891   \n",
       "1 -0.085925 -0.025510 -0.026521  ... -0.013792 -0.229306  0.128353 -0.002184   \n",
       "2 -0.069141 -0.030508 -0.007188  ... -0.009502 -0.219064  0.108246  0.005359   \n",
       "3 -0.045016 -0.081742  0.013047  ...  0.000737 -0.269361  0.106410  0.051216   \n",
       "4 -0.081919 -0.046430 -0.042003  ... -0.017719 -0.264643  0.142889 -0.007400   \n",
       "\n",
       "        244       245       246       247       248       249  \n",
       "0 -0.052631  0.057231  0.028564  0.067227 -0.011364 -0.158354  \n",
       "1 -0.067476  0.090140  0.014357  0.133015  0.025477 -0.158135  \n",
       "2 -0.015952  0.063800  0.051648  0.115916  0.024918 -0.139839  \n",
       "3  0.013596  0.054842  0.047909  0.053978  0.037297 -0.127028  \n",
       "4 -0.034531  0.090331  0.033544  0.167153 -0.010577 -0.189657  \n",
       "\n",
       "[5 rows x 255 columns]"
      ]
     },
     "execution_count": 95,
     "metadata": {},
     "output_type": "execute_result"
    }
   ],
   "source": [
    "df4.head()"
   ]
  },
  {
   "cell_type": "code",
   "execution_count": 108,
   "metadata": {},
   "outputs": [],
   "source": [
    "#特徴量とターゲットを決める\n",
    "from sklearn.model_selection import train_test_split\n",
    "\n",
    "target_col = 'dif_log'\n",
    "exclude_cols = ['log', 'price', 'dif_log',\"date\"]\n",
    "feature_cols = []\n",
    "for col in df4.columns:\n",
    "    if col not in exclude_cols:\n",
    "        feature_cols.append(col)\n",
    "        \n",
    "X = np.array(df4[feature_cols])\n",
    "y = np.array(df4[target_col])"
   ]
  },
  {
   "cell_type": "code",
   "execution_count": 109,
   "metadata": {},
   "outputs": [
    {
     "name": "stdout",
     "output_type": "stream",
     "text": [
      "X_train Features Shape:  (572, 251)\n",
      "y_train Target Shape:  (572,)\n",
      "X_val Features Shape:  (246, 251)\n",
      "y_val Target Shape:  (246,)\n"
     ]
    }
   ],
   "source": [
    "X_train, X_val, y_train, y_val = train_test_split(\n",
    "    X, y, test_size=0.3, random_state=1234)\n",
    "\n",
    "# 参考：分割後のデータ数を確認\n",
    "print('X_train Features Shape: ', X_train.shape)\n",
    "print('y_train Target Shape: ', y_train.shape)\n",
    "print('X_val Features Shape: ', X_val.shape)\n",
    "print('y_val Target Shape: ', y_val.shape)"
   ]
  },
  {
   "cell_type": "code",
   "execution_count": 110,
   "metadata": {},
   "outputs": [],
   "source": [
    "#分析用のライブラリ\n",
    "\n",
    "from collections import Counter\n",
    "from sklearn.linear_model import LogisticRegression\n",
    "from sklearn.metrics import confusion_matrix, accuracy_score, classification_report\n",
    "from sklearn.linear_model import LinearRegression  # 線形回帰モデルのライブラリ\n",
    "from sklearn.metrics import mean_squared_error  # MSEのライブラリ\n",
    "from sklearn.ensemble import RandomForestRegressor"
   ]
  },
  {
   "cell_type": "code",
   "execution_count": 111,
   "metadata": {},
   "outputs": [],
   "source": [
    "# Accuracy, Precision/Recall/F-score/Support, Confusion Matrix を表示\n",
    "def show_evaluation_metrics(y_true, y_pred):\n",
    "    print(\"Accuracy:\")\n",
    "    print(accuracy_score(y_val, y_pred))\n",
    "    print()\n",
    "\n",
    "    print(\"Report:\")\n",
    "    print(classification_report(y_val, y_pred))\n",
    "\n",
    "    print(\"Confusion matrix:\")\n",
    "    print(confusion_matrix(y_val, y_pred))"
   ]
  },
  {
   "cell_type": "code",
   "execution_count": 112,
   "metadata": {},
   "outputs": [
    {
     "name": "stdout",
     "output_type": "stream",
     "text": [
      "RandomForestRegressor RMSE:  0.014\n"
     ]
    }
   ],
   "source": [
    "rf = RandomForestRegressor(n_estimators=100, random_state=1234)\n",
    "rf.fit(X_train, y_train)\n",
    "y_pred = rf.predict(X_val)\n",
    "rf_mse = mean_squared_error(y_val, y_pred)\n",
    "print('RandomForestRegressor RMSE: ', round(np.sqrt(rf_mse), 3))"
   ]
  },
  {
   "cell_type": "code",
   "execution_count": 113,
   "metadata": {},
   "outputs": [
    {
     "data": {
      "text/plain": [
       "<matplotlib.axes._subplots.AxesSubplot at 0x1a30d04c90>"
      ]
     },
     "execution_count": 113,
     "metadata": {},
     "output_type": "execute_result"
    },
    {
     "data": {
      "image/png": "[encoded data removed]",
      "text/plain": [
       "<Figure size 432x288 with 1 Axes>"
      ]
     },
     "metadata": {
      "needs_background": "light"
     },
     "output_type": "display_data"
    }
   ],
   "source": [
    "rf_importances = pd.DataFrame(rf.feature_importances_, columns=['importance'], index=feature_cols)\n",
    "rf_importances.sort_values('importance', ascending=False).iloc[0:15].plot(kind='barh')"
   ]
  },
  {
   "cell_type": "code",
   "execution_count": null,
   "metadata": {},
   "outputs": [],
   "source": []
  }
 ],
 "metadata": {
  "kernelspec": {
   "display_name": "Python 3",
   "language": "python",
   "name": "python3"
  },
  "language_info": {
   "codemirror_mode": {
    "name": "ipython",
    "version": 3
   },
   "file_extension": ".py",
   "mimetype": "text/x-python",
   "name": "python",
   "nbconvert_exporter": "python",
   "pygments_lexer": "ipython3",
   "version": "3.7.4"
  }
 },
 "nbformat": 4,
 "nbformat_minor": 2
}
