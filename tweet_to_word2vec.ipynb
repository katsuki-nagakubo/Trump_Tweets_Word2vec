{
 "cells": [
  {
   "cell_type": "code",
   "execution_count": 1,
   "metadata": {},
   "outputs": [],
   "source": [
    "#データの取得と成形\n",
    "\n",
    "import pandas as pd\n",
    "import numpy as np\n",
    "import matplotlib.pyplot as plt "
   ]
  },
  {
   "cell_type": "code",
   "execution_count": 2,
   "metadata": {},
   "outputs": [
    {
     "data": {
      "text/html": [
       "<div>\n",
       "<style scoped>\n",
       "    .dataframe tbody tr th:only-of-type {\n",
       "        vertical-align: middle;\n",
       "    }\n",
       "\n",
       "    .dataframe tbody tr th {\n",
       "        vertical-align: top;\n",
       "    }\n",
       "\n",
       "    .dataframe thead th {\n",
       "        text-align: right;\n",
       "    }\n",
       "</style>\n",
       "<table border=\"1\" class=\"dataframe\">\n",
       "  <thead>\n",
       "    <tr style=\"text-align: right;\">\n",
       "      <th></th>\n",
       "      <th>key</th>\n",
       "      <th>value</th>\n",
       "      <th>text</th>\n",
       "    </tr>\n",
       "  </thead>\n",
       "  <tbody>\n",
       "    <tr>\n",
       "      <td>0</td>\n",
       "      <td>2020-04-21</td>\n",
       "      <td>2736.56</td>\n",
       "      <td>RT @SexCounseling: How apropos that the Witch ...</td>\n",
       "    </tr>\n",
       "    <tr>\n",
       "      <td>1</td>\n",
       "      <td>2020-04-21</td>\n",
       "      <td>2736.56</td>\n",
       "      <td>RT @SexCounseling: @realDonaldTrump The States...</td>\n",
       "    </tr>\n",
       "    <tr>\n",
       "      <td>2</td>\n",
       "      <td>2020-04-21</td>\n",
       "      <td>2736.56</td>\n",
       "      <td>We will never let the great U.S. Oil &amp;amp; Gas...</td>\n",
       "    </tr>\n",
       "    <tr>\n",
       "      <td>3</td>\n",
       "      <td>2020-04-21</td>\n",
       "      <td>2736.56</td>\n",
       "      <td>96% Approval Rating in the Republican Party. T...</td>\n",
       "    </tr>\n",
       "    <tr>\n",
       "      <td>4</td>\n",
       "      <td>2020-04-21</td>\n",
       "      <td>2736.56</td>\n",
       "      <td>I’ve had great “ratings” my whole life, there’...</td>\n",
       "    </tr>\n",
       "  </tbody>\n",
       "</table>\n",
       "</div>"
      ],
      "text/plain": [
       "          key    value                                               text\n",
       "0  2020-04-21  2736.56  RT @SexCounseling: How apropos that the Witch ...\n",
       "1  2020-04-21  2736.56  RT @SexCounseling: @realDonaldTrump The States...\n",
       "2  2020-04-21  2736.56  We will never let the great U.S. Oil &amp; Gas...\n",
       "3  2020-04-21  2736.56  96% Approval Rating in the Republican Party. T...\n",
       "4  2020-04-21  2736.56  I’ve had great “ratings” my whole life, there’..."
      ]
     },
     "execution_count": 2,
     "metadata": {},
     "output_type": "execute_result"
    }
   ],
   "source": [
    "data = pd.read_csv(\"s&p_tweets.csv\")\n",
    "data.head()"
   ]
  },
  {
   "cell_type": "code",
   "execution_count": 3,
   "metadata": {},
   "outputs": [
    {
     "name": "stdout",
     "output_type": "stream",
     "text": [
      "['rt', ':', 'how', 'apropos', 'that', 'the', 'witch', 'is', 'behind', 'the', 'witch', 'hunt', '.']\n",
      "['rt', ':', 'the', 'states', 'need', 'to', 'step', 'up', 'their', 'own', 'testing', 'and', 'take', 'responsibility', 'and', 'if', 'they', \"can't\", ',', 'perhaps', 'the', 'pol', '…']\n",
      "['we', 'will', 'never', 'let', 'the', 'great', 'u', '.', 's', '.', 'oil', '&', 'gas', 'industry', 'down', '.', 'i', 'have', 'instructed', 'the', 'secretary', 'of', 'energy', 'and', 'secretary', 'of', 'the', 'treasury', 'to', 'formulate', 'a', 'plan', 'which', 'will', 'make', 'funds', 'available', 'so', 'that', 'these', 'very', 'important', 'companies', 'and', 'jobs', 'will', 'be', 'secured', 'long', 'into', 'the', 'future', '!']\n",
      "['96', '%', 'approval', 'rating', 'in', 'the', 'republican', 'party', '.', 'thank', 'you', '!', 'this', 'must', 'also', 'mean', 'that', ',', 'most', 'importantly', ',', 'we', 'are', 'doing', 'a', 'good', '(', 'great', ')', 'job', 'in', 'the', 'handling', 'of', 'the', 'pandemic', '.']\n",
      "['i', '’', 've', 'had', 'great', '“', 'ratings', '”', 'my', 'whole', 'life', ',', 'there', '’', 's', 'nothing', 'unusual', 'about', 'that', 'for', 'me', '.', 'the', 'white', 'house', 'news', 'conference', 'ratings', 'are', '“', 'through', 'the', 'roof', '”', '(', 'monday', 'night', 'football', ',', 'bachelor', 'finale', ',', ')', 'but', 'i', 'don', '’', 't', 'care', 'about', 'that', '.', 'i', 'care', 'about', 'going', 'around', 'the', 'fake', 'news', 'to', 'the', 'people', '!']\n"
     ]
    }
   ],
   "source": [
    "#https://yottagin.com/?p=4360\n",
    "\n",
    "import nltk\n",
    "\n",
    "tweet_tokenizer = nltk.tokenize.TweetTokenizer(preserve_case=False, strip_handles=True, reduce_len=True)\n",
    "for tweet in data[\"text\"][:5]:\n",
    "    print (tweet_tokenizer.tokenize(tweet))"
   ]
  },
  {
   "cell_type": "code",
   "execution_count": 4,
   "metadata": {},
   "outputs": [
    {
     "data": {
      "image/png": "[encoded data removed]",
      "text/plain": [
       "<Figure size 432x288 with 1 Axes>"
      ]
     },
     "metadata": {
      "needs_background": "light"
     },
     "output_type": "display_data"
    },
    {
     "data": {
      "text/plain": [
       "<matplotlib.axes._subplots.AxesSubplot at 0x1a1e7d8350>"
      ]
     },
     "execution_count": 4,
     "metadata": {},
     "output_type": "execute_result"
    }
   ],
   "source": [
    "words = []\n",
    "for tweet in data[\"text\"]:\n",
    "    words += tweet_tokenizer.tokenize(tweet)\n",
    "\n",
    "fdist = nltk.FreqDist(words)\n",
    "fdist.plot(50)"
   ]
  },
  {
   "cell_type": "code",
   "execution_count": 5,
   "metadata": {},
   "outputs": [
    {
     "data": {
      "text/html": [
       "<div>\n",
       "<style scoped>\n",
       "    .dataframe tbody tr th:only-of-type {\n",
       "        vertical-align: middle;\n",
       "    }\n",
       "\n",
       "    .dataframe tbody tr th {\n",
       "        vertical-align: top;\n",
       "    }\n",
       "\n",
       "    .dataframe thead th {\n",
       "        text-align: right;\n",
       "    }\n",
       "</style>\n",
       "<table border=\"1\" class=\"dataframe\">\n",
       "  <thead>\n",
       "    <tr style=\"text-align: right;\">\n",
       "      <th></th>\n",
       "      <th>Word</th>\n",
       "      <th>Frequency</th>\n",
       "    </tr>\n",
       "  </thead>\n",
       "  <tbody>\n",
       "    <tr>\n",
       "      <td>0</td>\n",
       "      <td>.</td>\n",
       "      <td>1139</td>\n",
       "    </tr>\n",
       "    <tr>\n",
       "      <td>1</td>\n",
       "      <td>the</td>\n",
       "      <td>1111</td>\n",
       "    </tr>\n",
       "    <tr>\n",
       "      <td>2</td>\n",
       "      <td>,</td>\n",
       "      <td>1064</td>\n",
       "    </tr>\n",
       "    <tr>\n",
       "      <td>3</td>\n",
       "      <td>:</td>\n",
       "      <td>664</td>\n",
       "    </tr>\n",
       "    <tr>\n",
       "      <td>4</td>\n",
       "      <td>to</td>\n",
       "      <td>656</td>\n",
       "    </tr>\n",
       "    <tr>\n",
       "      <td>5</td>\n",
       "      <td>!</td>\n",
       "      <td>555</td>\n",
       "    </tr>\n",
       "    <tr>\n",
       "      <td>6</td>\n",
       "      <td>rt</td>\n",
       "      <td>548</td>\n",
       "    </tr>\n",
       "    <tr>\n",
       "      <td>7</td>\n",
       "      <td>and</td>\n",
       "      <td>520</td>\n",
       "    </tr>\n",
       "    <tr>\n",
       "      <td>8</td>\n",
       "      <td>of</td>\n",
       "      <td>453</td>\n",
       "    </tr>\n",
       "    <tr>\n",
       "      <td>9</td>\n",
       "      <td>a</td>\n",
       "      <td>400</td>\n",
       "    </tr>\n",
       "  </tbody>\n",
       "</table>\n",
       "</div>"
      ],
      "text/plain": [
       "  Word  Frequency\n",
       "0    .       1139\n",
       "1  the       1111\n",
       "2    ,       1064\n",
       "3    :        664\n",
       "4   to        656\n",
       "5    !        555\n",
       "6   rt        548\n",
       "7  and        520\n",
       "8   of        453\n",
       "9    a        400"
      ]
     },
     "execution_count": 5,
     "metadata": {},
     "output_type": "execute_result"
    }
   ],
   "source": [
    "df_fdist = pd.DataFrame(fdist.most_common(10), columns=['Word', 'Frequency'])\n",
    "df_fdist"
   ]
  },
  {
   "cell_type": "code",
   "execution_count": 6,
   "metadata": {},
   "outputs": [],
   "source": [
    "import re\n",
    "#RTから始まる部分を削除\n",
    "tweet = re.sub(r'^RT[\\s]+', '', tweet)\n",
    "#リンクを削除\n",
    "tweet = re.sub(r'^RT[\\s]+', '', tweet)\n",
    "#ハッシュダグを削除\n",
    "tweet = re.sub(r'#', '', tweet)\n",
    "#Punctionを除去\n",
    "import string\n",
    "punctuations = string.punctuation\n",
    "punctuations\n",
    "#互換への変換\n",
    "stemmer = nltk.stem.PorterStemmer()"
   ]
  },
  {
   "cell_type": "code",
   "execution_count": 7,
   "metadata": {},
   "outputs": [],
   "source": [
    "import nltk\n",
    "#nltk.download('stopwords')"
   ]
  },
  {
   "cell_type": "code",
   "execution_count": 8,
   "metadata": {},
   "outputs": [],
   "source": [
    "import re\n",
    "import string\n",
    "\n",
    "stemmer = nltk.stem.PorterStemmer()\n",
    "punctuations = string.punctuation\n",
    "all_tweets_clean = []\n",
    "\n",
    "#Tweet毎にリスト形式で保存するための加工\n",
    "result=[]\n",
    "\n",
    "for tweet in data[\"text\"]:\n",
    "    # RTから始まる部分を取り除く。\n",
    "    tweet = re.sub(r'^RT[\\s]+', '', tweet)\n",
    "    # リンクを取り除く。\n",
    "    tweet = re.sub(r'(http|https):\\/\\/.*[\\r\\n]*', '', tweet)\n",
    "    # ハッシュタグを取り除く。\n",
    "    tweet = re.sub(r'#', '', tweet)\n",
    "    # 単語に分解する。\n",
    "    tokenizer = nltk.tokenize.TweetTokenizer(preserve_case=False, strip_handles=True, reduce_len=True)\n",
    "    tweet_tokens = tokenizer.tokenize(tweet)\n",
    "    result.append(tweet_tokens)\n",
    "    \n",
    "#    tweets_clean = []\n",
    "#   for word in tweet_tokens:\n",
    "#        if (word not in stopwords and # stopwordsを除去する。\n",
    "#               word not in punctuations): # punctuationを除去する。\n",
    "#            #stem_word = stemmer.stem(word) # 単語を語幹に変形する。\n",
    "#            tweets_clean.append(word)\n",
    "#            all_tweets_clean += tweets_clean\n",
    "            \n",
    "#fdist_all_tweets_clean = nltk.FreqDist(all_tweets_clean)\n",
    "#fdist_all_tweets_clean.plot(50)"
   ]
  },
  {
   "cell_type": "code",
   "execution_count": 9,
   "metadata": {},
   "outputs": [
    {
     "name": "stderr",
     "output_type": "stream",
     "text": [
      "unable to import 'smart_open.gcs', disabling that module\n"
     ]
    }
   ],
   "source": [
    "#Word2Vec\n",
    "\n",
    "from gensim.models import word2vec"
   ]
  },
  {
   "cell_type": "code",
   "execution_count": 10,
   "metadata": {},
   "outputs": [
    {
     "data": {
      "text/plain": [
       "[':',\n",
       " 'how',\n",
       " 'apropos',\n",
       " 'that',\n",
       " 'the',\n",
       " 'witch',\n",
       " 'is',\n",
       " 'behind',\n",
       " 'the',\n",
       " 'witch',\n",
       " 'hunt',\n",
       " '.']"
      ]
     },
     "execution_count": 10,
     "metadata": {},
     "output_type": "execute_result"
    }
   ],
   "source": [
    "# 対象データをLinseSentence(one sentence = one lineとして扱う)で読み込む\n",
    "\n",
    "sentences = result\n",
    "sentences[0]"
   ]
  },
  {
   "cell_type": "code",
   "execution_count": null,
   "metadata": {},
   "outputs": [
    {
     "name": "stderr",
     "output_type": "stream",
     "text": [
      "/opt/anaconda3/lib/python3.7/site-packages/gensim/models/base_any2vec.py:743: UserWarning: C extension not loaded, training will be slow. Install a C compiler and reinstall gensim for fast training.\n",
      "  \"C extension not loaded, training will be slow. \"\n"
     ]
    }
   ],
   "source": [
    "# skip-gramモデルの学習\n",
    "skipgram_model = word2vec.Word2Vec(sentences,\n",
    "                                   sg=1,\n",
    "                                   size=300,\n",
    "                                   min_count=5,\n",
    "                                   window=15, seed=1234)"
   ]
  },
  {
   "cell_type": "code",
   "execution_count": null,
   "metadata": {},
   "outputs": [],
   "source": [
    "# 作成したモデルの保存\n",
    "skipgram_model.save(\"skipgram_w2v.model\")\n",
    "# saveしたモデルを読み込む時は\n",
    "# model = word2vec.Word2Vec.load(\"./skipgram_w2v.model\")"
   ]
  },
  {
   "cell_type": "code",
   "execution_count": null,
   "metadata": {},
   "outputs": [],
   "source": [
    "# Virusと似たキーワードを見つけていきます。\n",
    "# ここで記載しているscoreは、単語同士のコサイン類似度です。\n",
    "pd.DataFrame(skipgram_model.wv.most_similar(\n",
    "    positive=[\"coronavirus\"]), columns=[\"keyword\", \"score\"])"
   ]
  },
  {
   "cell_type": "code",
   "execution_count": null,
   "metadata": {},
   "outputs": [],
   "source": []
  }
 ],
 "metadata": {
  "kernelspec": {
   "display_name": "Python 3",
   "language": "python",
   "name": "python3"
  },
  "language_info": {
   "codemirror_mode": {
    "name": "ipython",
    "version": 3
   },
   "file_extension": ".py",
   "mimetype": "text/x-python",
   "name": "python",
   "nbconvert_exporter": "python",
   "pygments_lexer": "ipython3",
   "version": "3.7.4"
  }
 },
 "nbformat": 4,
 "nbformat_minor": 2
}
