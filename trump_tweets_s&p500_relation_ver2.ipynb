{
  "nbformat": 4,
  "nbformat_minor": 0,
  "metadata": {
    "kernelspec": {
      "display_name": "Python 3",
      "language": "python",
      "name": "python3"
    },
    "language_info": {
      "codemirror_mode": {
        "name": "ipython",
        "version": 3
      },
      "file_extension": ".py",
      "mimetype": "text/x-python",
      "name": "python",
      "nbconvert_exporter": "python",
      "pygments_lexer": "ipython3",
      "version": "3.7.4"
    },
    "colab": {
      "name": "trump_tweets_s&p500_relation_ver2.ipynb ",
      "provenance": [],
      "collapsed_sections": [],
      "include_colab_link": true
    }
  },
  "cells": [
    {
      "cell_type": "markdown",
      "metadata": {
        "id": "view-in-github",
        "colab_type": "text"
      },
      "source": [
        "<a href=\"https://colab.research.google.com/github/katsuki-nagakubo/Tweets_Word2vec/blob/master/trump_tweets_s%26p500_relation_ver2.ipynb\" target=\"_parent\"><img src=\"https://colab.research.google.com/assets/colab-badge.svg\" alt=\"Open In Colab\"/></a>"
      ]
    },
    {
      "cell_type": "code",
      "metadata": {
        "id": "5TBDVbUQfTEM",
        "colab_type": "code",
        "colab": {}
      },
      "source": [
        "#データの取得と成形\n",
        "\n",
        "import pandas as pd\n",
        "import numpy as np\n",
        "import matplotlib.pyplot as plt "
      ],
      "execution_count": 0,
      "outputs": []
    },
    {
      "cell_type": "code",
      "metadata": {
        "id": "0etwSm9DfTEU",
        "colab_type": "code",
        "outputId": "12428e68-d142-469b-995b-1e3a7a345369",
        "colab": {
          "base_uri": "https://localhost:8080/",
          "height": 34
        }
      },
      "source": [
        "#https://teratail.com/questions/128725\n",
        "\n",
        "from ast import literal_eval\n",
        "from pprint import pprint\n",
        "\n",
        "f = open('/content/trump_tweets.txt', 'r')\n",
        "text = f.read()\n",
        "mylist = literal_eval(text)\n",
        "\n",
        "print(type(mylist), type(mylist[0]))"
      ],
      "execution_count": 2,
      "outputs": [
        {
          "output_type": "stream",
          "text": [
            "<class 'list'> <class 'dict'>\n"
          ],
          "name": "stdout"
        }
      ]
    },
    {
      "cell_type": "code",
      "metadata": {
        "id": "e2D_Z2KUfTEY",
        "colab_type": "code",
        "outputId": "bd449611-e9a7-4794-abd0-067587a9f214",
        "colab": {
          "base_uri": "https://localhost:8080/",
          "height": 34
        }
      },
      "source": [
        "df_text=[]\n",
        "df_created_at=[]\n",
        "df_id_str=[]\n",
        "\n",
        "print(len(mylist),\"tweets\")\n",
        "\n",
        "for i in range(len(mylist)):\n",
        "    text = mylist[i][\"text\"]\n",
        "    created_at = mylist[i][\"created_at\"]\n",
        "    id_str = mylist[i][\"id_str\"]\n",
        "    df_text.append(text)\n",
        "    df_created_at.append(created_at)\n",
        "    df_id_str.append(id_str)\n",
        "\n",
        "tweet_list=[df_created_at,df_id_str,df_text]\n",
        "#print(tweet_list)"
      ],
      "execution_count": 3,
      "outputs": [
        {
          "output_type": "stream",
          "text": [
            "17544 tweets\n"
          ],
          "name": "stdout"
        }
      ]
    },
    {
      "cell_type": "code",
      "metadata": {
        "id": "FfVe8YhPfTEc",
        "colab_type": "code",
        "colab": {}
      },
      "source": [
        "#https://ai-inter1.com/pandas-dataframe_basic/\n",
        "#リスト型にしたデータをPandasでDataFrameにした\n",
        "\n",
        "columns1=[\"created_at\"]\n",
        "tweet_data = pd.DataFrame( data = df_created_at, columns = columns1)\n",
        "tweet_data[\"id\"]=df_id_str\n",
        "tweet_data[\"text\"] = df_text"
      ],
      "execution_count": 0,
      "outputs": []
    },
    {
      "cell_type": "code",
      "metadata": {
        "id": "njrdAvuzfTEf",
        "colab_type": "code",
        "colab": {}
      },
      "source": [
        "#https://teratail.com/questions/132333\n",
        "#https://note.nkmk.me/python-pandas-datetime-timestamp/\n",
        "\n",
        "tweet_data[\"time_created_at\"] = pd.to_datetime(tweet_data['created_at'])\n",
        "tweet_data[\"date_created_at\"] = tweet_data[\"time_created_at\"].dt.date\n",
        "tweet_data[\"key\"]=pd.to_datetime(tweet_data[\"date_created_at\"])"
      ],
      "execution_count": 0,
      "outputs": []
    },
    {
      "cell_type": "code",
      "metadata": {
        "id": "iZi3fq8nfTEj",
        "colab_type": "code",
        "colab": {}
      },
      "source": [
        "# https://www.macrotrends.net/2488/sp500-10-year-daily-chart\n",
        "\n",
        "sp_data = pd.read_csv('/content/sp500-10-year-daily-chart.csv')\n",
        "sp_data[\"date_64\"] = pd.to_datetime(sp_data[\"date\"])\n",
        "sp_data[\"key\"] =sp_data[\"date_64\"] "
      ],
      "execution_count": 0,
      "outputs": []
    },
    {
      "cell_type": "code",
      "metadata": {
        "id": "Lb8q3TCTfTEn",
        "colab_type": "code",
        "outputId": "623de9ea-9274-4d0f-e7ac-dcfc2781bee1",
        "colab": {
          "base_uri": "https://localhost:8080/",
          "height": 204
        }
      },
      "source": [
        "#内部結合\n",
        "#http://pppurple.hatenablog.com/entry/2016/06/27/022310#inner-join\n",
        "#https://note.nkmk.me/python-pandas-merge-join/\n",
        "\n",
        "tweet_data=pd.merge(tweet_data, sp_data)\n",
        "tweet_data.columns\n",
        "data = tweet_data[[\"key\",\" value\",\"text\"]]\n",
        "\n",
        "#行の名前を変更する　20200505\n",
        "data = data.rename(columns={\"key\": \"date\",\" value\":\"price\"})\n",
        "data.head()"
      ],
      "execution_count": 7,
      "outputs": [
        {
          "output_type": "execute_result",
          "data": {
            "text/html": [
              "<div>\n",
              "<style scoped>\n",
              "    .dataframe tbody tr th:only-of-type {\n",
              "        vertical-align: middle;\n",
              "    }\n",
              "\n",
              "    .dataframe tbody tr th {\n",
              "        vertical-align: top;\n",
              "    }\n",
              "\n",
              "    .dataframe thead th {\n",
              "        text-align: right;\n",
              "    }\n",
              "</style>\n",
              "<table border=\"1\" class=\"dataframe\">\n",
              "  <thead>\n",
              "    <tr style=\"text-align: right;\">\n",
              "      <th></th>\n",
              "      <th>date</th>\n",
              "      <th>price</th>\n",
              "      <th>text</th>\n",
              "    </tr>\n",
              "  </thead>\n",
              "  <tbody>\n",
              "    <tr>\n",
              "      <th>0</th>\n",
              "      <td>2020-05-01</td>\n",
              "      <td>2830.71</td>\n",
              "      <td>RT @StevenTDennis: Trump gets bump in latest G...</td>\n",
              "    </tr>\n",
              "    <tr>\n",
              "      <th>1</th>\n",
              "      <td>2020-05-01</td>\n",
              "      <td>2830.71</td>\n",
              "      <td>The Governor of Michigan should give a little,...</td>\n",
              "    </tr>\n",
              "    <tr>\n",
              "      <th>2</th>\n",
              "      <td>2020-05-01</td>\n",
              "      <td>2830.71</td>\n",
              "      <td>Cryin Chuck Schumer, compared to what other Se...</td>\n",
              "    </tr>\n",
              "    <tr>\n",
              "      <th>3</th>\n",
              "      <td>2020-05-01</td>\n",
              "      <td>2830.71</td>\n",
              "      <td>Cryin’ Chuck Schumer was on a late night show ...</td>\n",
              "    </tr>\n",
              "    <tr>\n",
              "      <th>4</th>\n",
              "      <td>2020-05-01</td>\n",
              "      <td>2830.71</td>\n",
              "      <td>RT @TeamTrump: President @realDonaldTrump: “We...</td>\n",
              "    </tr>\n",
              "  </tbody>\n",
              "</table>\n",
              "</div>"
            ],
            "text/plain": [
              "        date    price                                               text\n",
              "0 2020-05-01  2830.71  RT @StevenTDennis: Trump gets bump in latest G...\n",
              "1 2020-05-01  2830.71  The Governor of Michigan should give a little,...\n",
              "2 2020-05-01  2830.71  Cryin Chuck Schumer, compared to what other Se...\n",
              "3 2020-05-01  2830.71  Cryin’ Chuck Schumer was on a late night show ...\n",
              "4 2020-05-01  2830.71  RT @TeamTrump: President @realDonaldTrump: “We..."
            ]
          },
          "metadata": {
            "tags": []
          },
          "execution_count": 7
        }
      ]
    },
    {
      "cell_type": "code",
      "metadata": {
        "id": "RbtHgL9gfTEr",
        "colab_type": "code",
        "outputId": "0aa1c1c4-8aeb-4edc-e25f-1e061c7e2449",
        "colab": {
          "base_uri": "https://localhost:8080/",
          "height": 34
        }
      },
      "source": [
        "# trumpが大統領になった2017年1月20日から、GW前2020年5月1日までのデータを分析する\n",
        "# https://qiita.com/mSpring/items/6ec1ab28dcb261db2c73\n",
        "\n",
        "import datetime as dt\n",
        "data2 = data[(data['date'] >= dt.datetime(2017,1,20)) & (data['date'] <= dt.datetime(2020,5,1))]\n",
        "print( \"2017/01/20 - 2020/05/01のツイート数は\", len(data2))"
      ],
      "execution_count": 8,
      "outputs": [
        {
          "output_type": "stream",
          "text": [
            "2017/01/20 - 2020/05/01のツイート数は 12259\n"
          ],
          "name": "stdout"
        }
      ]
    },
    {
      "cell_type": "code",
      "metadata": {
        "id": "5uWu1eYpfTEv",
        "colab_type": "code",
        "colab": {}
      },
      "source": [
        "#新しいデータを追加すると上書き保存されるようにmode=\"a\"にした。\n",
        "\n",
        "#初回だけ,headerはTrue\n",
        "data2.to_csv(\"s&p_tweets.csv\", index=False, mode='a', header=True)\n",
        "#2回目以降はFalse\n",
        "#data2.to_csv(\"s&p_tweets.csv\", index=False, mode='a', header=False)"
      ],
      "execution_count": 0,
      "outputs": []
    },
    {
      "cell_type": "code",
      "metadata": {
        "id": "nJcHtQApfTEy",
        "colab_type": "code",
        "outputId": "31b0cc5f-4514-4a58-b9b3-a0892af97a13",
        "colab": {
          "base_uri": "https://localhost:8080/",
          "height": 34
        }
      },
      "source": [
        "# Fileを読み込むことで最新のデータで分析できる\n",
        "\n",
        "data = pd.read_csv(\"s&p_tweets.csv\")\n",
        "print( len(data),\"tweets\")"
      ],
      "execution_count": 10,
      "outputs": [
        {
          "output_type": "stream",
          "text": [
            "12259 tweets\n"
          ],
          "name": "stdout"
        }
      ]
    },
    {
      "cell_type": "code",
      "metadata": {
        "id": "UK-gdwmxfTE1",
        "colab_type": "code",
        "outputId": "a4305072-a522-4e43-85da-d6a4c5a98097",
        "colab": {
          "base_uri": "https://localhost:8080/",
          "height": 88
        }
      },
      "source": [
        "#形態素解析\n",
        "#https://yottagin.com/?p=4360\n",
        "\n",
        "import nltk\n",
        "nltk.download('stopwords')\n",
        "\n",
        "tweet_tokenizer = nltk.tokenize.TweetTokenizer(preserve_case=False, strip_handles=True, reduce_len=True)\n",
        "for tweet in data[\"text\"][:1]:\n",
        "    print (tweet_tokenizer.tokenize(tweet))"
      ],
      "execution_count": 11,
      "outputs": [
        {
          "output_type": "stream",
          "text": [
            "[nltk_data] Downloading package stopwords to /root/nltk_data...\n",
            "[nltk_data]   Unzipping corpora/stopwords.zip.\n",
            "['rt', ':', 'trump', 'gets', 'bump', 'in', 'latest', 'gallup', 'poll', ':', '49', '%', 'approval', '(', '+', '6', ',', 'tied', 'for', 'his', 'best', ')', '47', '%', 'disapproval', '(', '-', '7', ')']\n"
          ],
          "name": "stdout"
        }
      ]
    },
    {
      "cell_type": "code",
      "metadata": {
        "id": "DrfyzDEAfTE6",
        "colab_type": "code",
        "outputId": "33471cee-51ac-4bd0-99d3-0b061662c783",
        "colab": {
          "base_uri": "https://localhost:8080/",
          "height": 323
        }
      },
      "source": [
        "words = []\n",
        "for tweet in data[\"text\"]:\n",
        "    words += tweet_tokenizer.tokenize(tweet)\n",
        "\n",
        "fdist = nltk.FreqDist(words)\n",
        "fdist.plot(50)"
      ],
      "execution_count": 12,
      "outputs": [
        {
          "output_type": "display_data",
          "data": {
            "image/png": "[encoded data removed]",
            "text/plain": [
              "<Figure size 432x288 with 1 Axes>"
            ]
          },
          "metadata": {
            "tags": [],
            "needs_background": "light"
          }
        }
      ]
    },
    {
      "cell_type": "code",
      "metadata": {
        "id": "5VLnPp6vfTE-",
        "colab_type": "code",
        "outputId": "42c297fc-c723-43c3-969d-64af09af1ac7",
        "colab": {
          "base_uri": "https://localhost:8080/",
          "height": 359
        }
      },
      "source": [
        "#高頻度のツイートを表示\n",
        "df_fdist = pd.DataFrame(fdist.most_common(10), columns=['Word', 'Frequency'])\n",
        "df_fdist"
      ],
      "execution_count": 13,
      "outputs": [
        {
          "output_type": "execute_result",
          "data": {
            "text/html": [
              "<div>\n",
              "<style scoped>\n",
              "    .dataframe tbody tr th:only-of-type {\n",
              "        vertical-align: middle;\n",
              "    }\n",
              "\n",
              "    .dataframe tbody tr th {\n",
              "        vertical-align: top;\n",
              "    }\n",
              "\n",
              "    .dataframe thead th {\n",
              "        text-align: right;\n",
              "    }\n",
              "</style>\n",
              "<table border=\"1\" class=\"dataframe\">\n",
              "  <thead>\n",
              "    <tr style=\"text-align: right;\">\n",
              "      <th></th>\n",
              "      <th>Word</th>\n",
              "      <th>Frequency</th>\n",
              "    </tr>\n",
              "  </thead>\n",
              "  <tbody>\n",
              "    <tr>\n",
              "      <th>0</th>\n",
              "      <td>the</td>\n",
              "      <td>15504</td>\n",
              "    </tr>\n",
              "    <tr>\n",
              "      <th>1</th>\n",
              "      <td>.</td>\n",
              "      <td>14634</td>\n",
              "    </tr>\n",
              "    <tr>\n",
              "      <th>2</th>\n",
              "      <td>,</td>\n",
              "      <td>14156</td>\n",
              "    </tr>\n",
              "    <tr>\n",
              "      <th>3</th>\n",
              "      <td>to</td>\n",
              "      <td>8172</td>\n",
              "    </tr>\n",
              "    <tr>\n",
              "      <th>4</th>\n",
              "      <td>!</td>\n",
              "      <td>7343</td>\n",
              "    </tr>\n",
              "    <tr>\n",
              "      <th>5</th>\n",
              "      <td>and</td>\n",
              "      <td>7289</td>\n",
              "    </tr>\n",
              "    <tr>\n",
              "      <th>6</th>\n",
              "      <td>of</td>\n",
              "      <td>6165</td>\n",
              "    </tr>\n",
              "    <tr>\n",
              "      <th>7</th>\n",
              "      <td>a</td>\n",
              "      <td>5419</td>\n",
              "    </tr>\n",
              "    <tr>\n",
              "      <th>8</th>\n",
              "      <td>:</td>\n",
              "      <td>4870</td>\n",
              "    </tr>\n",
              "    <tr>\n",
              "      <th>9</th>\n",
              "      <td>in</td>\n",
              "      <td>4507</td>\n",
              "    </tr>\n",
              "  </tbody>\n",
              "</table>\n",
              "</div>"
            ],
            "text/plain": [
              "  Word  Frequency\n",
              "0  the      15504\n",
              "1    .      14634\n",
              "2    ,      14156\n",
              "3   to       8172\n",
              "4    !       7343\n",
              "5  and       7289\n",
              "6   of       6165\n",
              "7    a       5419\n",
              "8    :       4870\n",
              "9   in       4507"
            ]
          },
          "metadata": {
            "tags": []
          },
          "execution_count": 13
        }
      ]
    },
    {
      "cell_type": "code",
      "metadata": {
        "id": "IvFoQ0TrfTFG",
        "colab_type": "code",
        "colab": {}
      },
      "source": [
        "#tokenにする\n",
        "import re\n",
        "import string\n",
        "\n",
        "stemmer = nltk.stem.PorterStemmer()\n",
        "punctuations = string.punctuation\n",
        "all_tweets_clean = []\n",
        "\n",
        "#Tweet毎にリスト形式で保存するための加工\n",
        "result=[]\n",
        "\n",
        "for tweet in data[\"text\"]:\n",
        "    # RTから始まる部分を取り除く。\n",
        "    tweet = re.sub(r'^RT[\\s]+', '', tweet)\n",
        "    # リンクを取り除く。\n",
        "    tweet = re.sub(r'(http|https):\\/\\/.*[\\r\\n]*', '', tweet)\n",
        "    # ハッシュタグを取り除く。\n",
        "    tweet = re.sub(r'#', '', tweet)\n",
        "    # 句読点の削除\n",
        "    tweet = tweet.translate(str.maketrans('', '', string.punctuation)) \n",
        "    # 単語に分解する。\n",
        "    tokenizer = nltk.tokenize.TweetTokenizer(preserve_case=False, strip_handles=True, reduce_len=True)\n",
        "    tweet_tokens = tokenizer.tokenize(tweet)\n",
        "    result.append(tweet_tokens)"
      ],
      "execution_count": 0,
      "outputs": []
    },
    {
      "cell_type": "code",
      "metadata": {
        "id": "jGskML9PfTFK",
        "colab_type": "code",
        "colab": {}
      },
      "source": [
        "stopwords = nltk.corpus.stopwords.words('english')\n",
        "stop_words = [\"→\", \"←\", \"?\", \"」\", \"「\",\"(\",\")\",\"!\",\".\",\",\",\"&\",\"…\",\"%\",\":\",\";\",\"“\"]\n",
        "stopwords += stop_words\n",
        "\n",
        "#print(stopwords)\n",
        "\n",
        "result_2=[]\n",
        "result_3=[]\n",
        "for i in range(len(result)):\n",
        "    for word in result[i]:\n",
        "        if word not in stopwords:\n",
        "            result_2.append(word)\n",
        "    result_3.append(result_2)\n",
        "    result_2=[]"
      ],
      "execution_count": 0,
      "outputs": []
    },
    {
      "cell_type": "code",
      "metadata": {
        "id": "wL2ASq-gfTFO",
        "colab_type": "code",
        "colab": {}
      },
      "source": [
        "#Word2Vec\n",
        "\n",
        "from gensim.models import word2vec"
      ],
      "execution_count": 0,
      "outputs": []
    },
    {
      "cell_type": "code",
      "metadata": {
        "id": "6Ov0af7rfTFQ",
        "colab_type": "code",
        "outputId": "91ad1664-9467-4ca2-ce0a-00f7527dffcc",
        "colab": {
          "base_uri": "https://localhost:8080/",
          "height": 272
        }
      },
      "source": [
        "# 対象データをLinseSentence(one sentence = one lineとして扱う)で読み込む\n",
        "\n",
        "sentences = result_3\n",
        "sentences[0]"
      ],
      "execution_count": 17,
      "outputs": [
        {
          "output_type": "execute_result",
          "data": {
            "text/plain": [
              "['steventdennis',\n",
              " 'trump',\n",
              " 'gets',\n",
              " 'bump',\n",
              " 'latest',\n",
              " 'gallup',\n",
              " 'poll',\n",
              " '49',\n",
              " 'approval',\n",
              " '6',\n",
              " 'tied',\n",
              " 'best',\n",
              " '47',\n",
              " 'disapproval',\n",
              " '7']"
            ]
          },
          "metadata": {
            "tags": []
          },
          "execution_count": 17
        }
      ]
    },
    {
      "cell_type": "code",
      "metadata": {
        "id": "9u7fFXncfTFU",
        "colab_type": "code",
        "colab": {}
      },
      "source": [
        "# skip-gramモデルの学習\n",
        "skipgram_model = word2vec.Word2Vec(sentences,\n",
        "                                   sg=1,\n",
        "                                   size=300,\n",
        "                                   min_count=10,\n",
        "                                   window=15, seed=1234)"
      ],
      "execution_count": 0,
      "outputs": []
    },
    {
      "cell_type": "code",
      "metadata": {
        "id": "akHH47YRfTFZ",
        "colab_type": "code",
        "outputId": "7ca06023-2783-4605-fb65-d691b0d5d329",
        "colab": {
          "base_uri": "https://localhost:8080/",
          "height": 71
        }
      },
      "source": [
        "# 作成したモデルの保存\n",
        "skipgram_model.save(\"skipgram_w2v.model\")\n",
        "# saveしたモデルを読み込む時は\n",
        "#skipgram_model = word2vec.Word2Vec.load(\"skipgram_w2v.model\")"
      ],
      "execution_count": 19,
      "outputs": [
        {
          "output_type": "stream",
          "text": [
            "/usr/local/lib/python3.6/dist-packages/smart_open/smart_open_lib.py:253: UserWarning: This function is deprecated, use smart_open.open instead. See the migration notes for details: https://github.com/RaRe-Technologies/smart_open/blob/master/README.rst#migrating-to-the-new-open-function\n",
            "  'See the migration notes for details: %s' % _MIGRATION_NOTES_URL\n"
          ],
          "name": "stderr"
        }
      ]
    },
    {
      "cell_type": "code",
      "metadata": {
        "id": "ZAO8SIE_fTFc",
        "colab_type": "code",
        "outputId": "3bab5e56-1606-41d6-c33c-54538107c7da",
        "colab": {
          "base_uri": "https://localhost:8080/",
          "height": 413
        }
      },
      "source": [
        "# coronavirusと似たキーワードを見つけていきます。\n",
        "# ここで記載しているscoreは、単語同士のコサイン類似度です。\n",
        "pd.DataFrame(skipgram_model.wv.most_similar(\n",
        "    positive=[\"coronavirus\"]), columns=[\"keyword\", \"score\"])"
      ],
      "execution_count": 20,
      "outputs": [
        {
          "output_type": "stream",
          "text": [
            "/usr/local/lib/python3.6/dist-packages/gensim/matutils.py:737: FutureWarning: Conversion of the second argument of issubdtype from `int` to `np.signedinteger` is deprecated. In future, it will be treated as `np.int64 == np.dtype(int).type`.\n",
            "  if np.issubdtype(vec.dtype, np.int):\n"
          ],
          "name": "stderr"
        },
        {
          "output_type": "execute_result",
          "data": {
            "text/html": [
              "<div>\n",
              "<style scoped>\n",
              "    .dataframe tbody tr th:only-of-type {\n",
              "        vertical-align: middle;\n",
              "    }\n",
              "\n",
              "    .dataframe tbody tr th {\n",
              "        vertical-align: top;\n",
              "    }\n",
              "\n",
              "    .dataframe thead th {\n",
              "        text-align: right;\n",
              "    }\n",
              "</style>\n",
              "<table border=\"1\" class=\"dataframe\">\n",
              "  <thead>\n",
              "    <tr style=\"text-align: right;\">\n",
              "      <th></th>\n",
              "      <th>keyword</th>\n",
              "      <th>score</th>\n",
              "    </tr>\n",
              "  </thead>\n",
              "  <tbody>\n",
              "    <tr>\n",
              "      <th>0</th>\n",
              "      <td>covid</td>\n",
              "      <td>0.849422</td>\n",
              "    </tr>\n",
              "    <tr>\n",
              "      <th>1</th>\n",
              "      <td>response</td>\n",
              "      <td>0.839187</td>\n",
              "    </tr>\n",
              "    <tr>\n",
              "      <th>2</th>\n",
              "      <td>spread</td>\n",
              "      <td>0.837546</td>\n",
              "    </tr>\n",
              "    <tr>\n",
              "      <th>3</th>\n",
              "      <td>task</td>\n",
              "      <td>0.833811</td>\n",
              "    </tr>\n",
              "    <tr>\n",
              "      <th>4</th>\n",
              "      <td>19</td>\n",
              "      <td>0.811066</td>\n",
              "    </tr>\n",
              "    <tr>\n",
              "      <th>5</th>\n",
              "      <td>outbreak</td>\n",
              "      <td>0.809031</td>\n",
              "    </tr>\n",
              "    <tr>\n",
              "      <th>6</th>\n",
              "      <td>executive</td>\n",
              "      <td>0.796829</td>\n",
              "    </tr>\n",
              "    <tr>\n",
              "      <th>7</th>\n",
              "      <td>briefing</td>\n",
              "      <td>0.795041</td>\n",
              "    </tr>\n",
              "    <tr>\n",
              "      <th>8</th>\n",
              "      <td>force</td>\n",
              "      <td>0.788158</td>\n",
              "    </tr>\n",
              "    <tr>\n",
              "      <th>9</th>\n",
              "      <td>cdcgov</td>\n",
              "      <td>0.780910</td>\n",
              "    </tr>\n",
              "  </tbody>\n",
              "</table>\n",
              "</div>"
            ],
            "text/plain": [
              "     keyword     score\n",
              "0      covid  0.849422\n",
              "1   response  0.839187\n",
              "2     spread  0.837546\n",
              "3       task  0.833811\n",
              "4         19  0.811066\n",
              "5   outbreak  0.809031\n",
              "6  executive  0.796829\n",
              "7   briefing  0.795041\n",
              "8      force  0.788158\n",
              "9     cdcgov  0.780910"
            ]
          },
          "metadata": {
            "tags": []
          },
          "execution_count": 20
        }
      ]
    },
    {
      "cell_type": "code",
      "metadata": {
        "id": "KfKYBXI_fTFf",
        "colab_type": "code",
        "colab": {}
      },
      "source": [
        "\"\"\"\n",
        "1. 抽出された各単語を、作成したword2Vecによってベクトル化\n",
        "2. 変換された各単語ベクトルの平均をとり、その結果得られたベクトルを記事のベクトルとする\n",
        "上記2ステップを実行する関数を作成\n",
        "\"\"\"\n",
        "\n",
        "num_features = 300\n",
        "\n",
        "\n",
        "def avg_document_vector(data, num_features):\n",
        "    document_vec = np.zeros((len(data), num_features))\n",
        "    for i, doc_word_list in enumerate(data):\n",
        "        feature_vec = np.zeros((num_features,), dtype=\"float32\")\n",
        "        for word in doc_word_list:\n",
        "            try:\n",
        "                feature_vec = np.add(\n",
        "                    feature_vec, skipgram_model.wv.__getitem__(word))\n",
        "            except:\n",
        "                pass\n",
        "\n",
        "        feature_vec = np.divide(feature_vec, len(doc_word_list))\n",
        "        document_vec[i] = feature_vec\n",
        "    return document_vec"
      ],
      "execution_count": 0,
      "outputs": []
    },
    {
      "cell_type": "code",
      "metadata": {
        "id": "gcoxgMvkfTFh",
        "colab_type": "code",
        "outputId": "fbf6acbf-8d48-4de2-a43f-21e858d7a24a",
        "colab": {
          "base_uri": "https://localhost:8080/",
          "height": 51
        }
      },
      "source": [
        "X = avg_document_vector(data=sentences, num_features=300)\n",
        "X.shape"
      ],
      "execution_count": 22,
      "outputs": [
        {
          "output_type": "stream",
          "text": [
            "/usr/local/lib/python3.6/dist-packages/ipykernel_launcher.py:21: RuntimeWarning: invalid value encountered in true_divide\n"
          ],
          "name": "stderr"
        },
        {
          "output_type": "execute_result",
          "data": {
            "text/plain": [
              "(12259, 300)"
            ]
          },
          "metadata": {
            "tags": []
          },
          "execution_count": 22
        }
      ]
    },
    {
      "cell_type": "code",
      "metadata": {
        "id": "PvVmeNp5fTFj",
        "colab_type": "code",
        "outputId": "3e7e4f72-4539-4c1b-b4a4-a15aedc3c9e0",
        "colab": {
          "base_uri": "https://localhost:8080/",
          "height": 474
        }
      },
      "source": [
        "# outer join\n",
        "data2 = pd.DataFrame(X)\n",
        "df_tweets_word2vec =  pd.concat([data, data2], axis=1)\n",
        "df_tweets_word2vec.head()"
      ],
      "execution_count": 23,
      "outputs": [
        {
          "output_type": "execute_result",
          "data": {
            "text/html": [
              "<div>\n",
              "<style scoped>\n",
              "    .dataframe tbody tr th:only-of-type {\n",
              "        vertical-align: middle;\n",
              "    }\n",
              "\n",
              "    .dataframe tbody tr th {\n",
              "        vertical-align: top;\n",
              "    }\n",
              "\n",
              "    .dataframe thead th {\n",
              "        text-align: right;\n",
              "    }\n",
              "</style>\n",
              "<table border=\"1\" class=\"dataframe\">\n",
              "  <thead>\n",
              "    <tr style=\"text-align: right;\">\n",
              "      <th></th>\n",
              "      <th>date</th>\n",
              "      <th>price</th>\n",
              "      <th>text</th>\n",
              "      <th>0</th>\n",
              "      <th>1</th>\n",
              "      <th>2</th>\n",
              "      <th>3</th>\n",
              "      <th>4</th>\n",
              "      <th>5</th>\n",
              "      <th>6</th>\n",
              "      <th>7</th>\n",
              "      <th>8</th>\n",
              "      <th>9</th>\n",
              "      <th>10</th>\n",
              "      <th>11</th>\n",
              "      <th>12</th>\n",
              "      <th>13</th>\n",
              "      <th>14</th>\n",
              "      <th>15</th>\n",
              "      <th>16</th>\n",
              "      <th>17</th>\n",
              "      <th>18</th>\n",
              "      <th>19</th>\n",
              "      <th>20</th>\n",
              "      <th>21</th>\n",
              "      <th>22</th>\n",
              "      <th>23</th>\n",
              "      <th>24</th>\n",
              "      <th>25</th>\n",
              "      <th>26</th>\n",
              "      <th>27</th>\n",
              "      <th>28</th>\n",
              "      <th>29</th>\n",
              "      <th>30</th>\n",
              "      <th>31</th>\n",
              "      <th>32</th>\n",
              "      <th>33</th>\n",
              "      <th>34</th>\n",
              "      <th>35</th>\n",
              "      <th>36</th>\n",
              "      <th>...</th>\n",
              "      <th>260</th>\n",
              "      <th>261</th>\n",
              "      <th>262</th>\n",
              "      <th>263</th>\n",
              "      <th>264</th>\n",
              "      <th>265</th>\n",
              "      <th>266</th>\n",
              "      <th>267</th>\n",
              "      <th>268</th>\n",
              "      <th>269</th>\n",
              "      <th>270</th>\n",
              "      <th>271</th>\n",
              "      <th>272</th>\n",
              "      <th>273</th>\n",
              "      <th>274</th>\n",
              "      <th>275</th>\n",
              "      <th>276</th>\n",
              "      <th>277</th>\n",
              "      <th>278</th>\n",
              "      <th>279</th>\n",
              "      <th>280</th>\n",
              "      <th>281</th>\n",
              "      <th>282</th>\n",
              "      <th>283</th>\n",
              "      <th>284</th>\n",
              "      <th>285</th>\n",
              "      <th>286</th>\n",
              "      <th>287</th>\n",
              "      <th>288</th>\n",
              "      <th>289</th>\n",
              "      <th>290</th>\n",
              "      <th>291</th>\n",
              "      <th>292</th>\n",
              "      <th>293</th>\n",
              "      <th>294</th>\n",
              "      <th>295</th>\n",
              "      <th>296</th>\n",
              "      <th>297</th>\n",
              "      <th>298</th>\n",
              "      <th>299</th>\n",
              "    </tr>\n",
              "  </thead>\n",
              "  <tbody>\n",
              "    <tr>\n",
              "      <th>0</th>\n",
              "      <td>2020-05-01</td>\n",
              "      <td>2830.71</td>\n",
              "      <td>RT @StevenTDennis: Trump gets bump in latest G...</td>\n",
              "      <td>0.048241</td>\n",
              "      <td>0.059343</td>\n",
              "      <td>-0.074168</td>\n",
              "      <td>-0.102202</td>\n",
              "      <td>-0.027979</td>\n",
              "      <td>-0.006321</td>\n",
              "      <td>-0.003280</td>\n",
              "      <td>-0.025286</td>\n",
              "      <td>0.024393</td>\n",
              "      <td>0.009621</td>\n",
              "      <td>0.030607</td>\n",
              "      <td>-0.059204</td>\n",
              "      <td>0.010845</td>\n",
              "      <td>0.013499</td>\n",
              "      <td>0.027129</td>\n",
              "      <td>-0.010853</td>\n",
              "      <td>-0.091906</td>\n",
              "      <td>-0.073355</td>\n",
              "      <td>0.022842</td>\n",
              "      <td>0.033119</td>\n",
              "      <td>0.049701</td>\n",
              "      <td>0.057860</td>\n",
              "      <td>-0.026545</td>\n",
              "      <td>-0.063918</td>\n",
              "      <td>0.025201</td>\n",
              "      <td>-0.016992</td>\n",
              "      <td>0.039506</td>\n",
              "      <td>0.123442</td>\n",
              "      <td>-0.030186</td>\n",
              "      <td>-0.055474</td>\n",
              "      <td>-0.055225</td>\n",
              "      <td>-0.020549</td>\n",
              "      <td>0.029997</td>\n",
              "      <td>0.110299</td>\n",
              "      <td>0.056860</td>\n",
              "      <td>-0.047704</td>\n",
              "      <td>-0.089840</td>\n",
              "      <td>...</td>\n",
              "      <td>0.004570</td>\n",
              "      <td>-0.012826</td>\n",
              "      <td>-0.052159</td>\n",
              "      <td>-0.026116</td>\n",
              "      <td>-0.018429</td>\n",
              "      <td>-0.038315</td>\n",
              "      <td>-0.012312</td>\n",
              "      <td>0.025028</td>\n",
              "      <td>0.042201</td>\n",
              "      <td>0.009671</td>\n",
              "      <td>0.110060</td>\n",
              "      <td>-0.038436</td>\n",
              "      <td>-0.012172</td>\n",
              "      <td>0.017982</td>\n",
              "      <td>-0.010838</td>\n",
              "      <td>0.029899</td>\n",
              "      <td>0.033058</td>\n",
              "      <td>-0.065363</td>\n",
              "      <td>0.041728</td>\n",
              "      <td>0.022063</td>\n",
              "      <td>-0.054949</td>\n",
              "      <td>0.017375</td>\n",
              "      <td>0.001039</td>\n",
              "      <td>0.014454</td>\n",
              "      <td>-0.001970</td>\n",
              "      <td>-0.111772</td>\n",
              "      <td>0.063796</td>\n",
              "      <td>-0.139253</td>\n",
              "      <td>-0.041334</td>\n",
              "      <td>-0.046455</td>\n",
              "      <td>0.031132</td>\n",
              "      <td>0.011245</td>\n",
              "      <td>0.034879</td>\n",
              "      <td>0.007442</td>\n",
              "      <td>0.111581</td>\n",
              "      <td>0.001900</td>\n",
              "      <td>0.069504</td>\n",
              "      <td>-0.001583</td>\n",
              "      <td>0.054448</td>\n",
              "      <td>-0.006316</td>\n",
              "    </tr>\n",
              "    <tr>\n",
              "      <th>1</th>\n",
              "      <td>2020-05-01</td>\n",
              "      <td>2830.71</td>\n",
              "      <td>The Governor of Michigan should give a little,...</td>\n",
              "      <td>0.067295</td>\n",
              "      <td>0.065737</td>\n",
              "      <td>-0.080651</td>\n",
              "      <td>-0.153470</td>\n",
              "      <td>-0.062781</td>\n",
              "      <td>0.084460</td>\n",
              "      <td>0.097882</td>\n",
              "      <td>-0.097466</td>\n",
              "      <td>0.025868</td>\n",
              "      <td>0.066413</td>\n",
              "      <td>0.026237</td>\n",
              "      <td>-0.060389</td>\n",
              "      <td>-0.041913</td>\n",
              "      <td>-0.002046</td>\n",
              "      <td>0.074839</td>\n",
              "      <td>-0.029249</td>\n",
              "      <td>-0.143069</td>\n",
              "      <td>-0.052183</td>\n",
              "      <td>0.057287</td>\n",
              "      <td>-0.043340</td>\n",
              "      <td>0.041600</td>\n",
              "      <td>0.110599</td>\n",
              "      <td>0.002549</td>\n",
              "      <td>-0.071241</td>\n",
              "      <td>-0.001593</td>\n",
              "      <td>-0.050672</td>\n",
              "      <td>0.138582</td>\n",
              "      <td>0.125802</td>\n",
              "      <td>0.021792</td>\n",
              "      <td>-0.175057</td>\n",
              "      <td>-0.022902</td>\n",
              "      <td>-0.145977</td>\n",
              "      <td>-0.006275</td>\n",
              "      <td>0.073208</td>\n",
              "      <td>-0.023674</td>\n",
              "      <td>-0.070486</td>\n",
              "      <td>0.018465</td>\n",
              "      <td>...</td>\n",
              "      <td>0.006060</td>\n",
              "      <td>-0.074807</td>\n",
              "      <td>-0.064379</td>\n",
              "      <td>-0.102687</td>\n",
              "      <td>-0.033679</td>\n",
              "      <td>-0.139021</td>\n",
              "      <td>0.018947</td>\n",
              "      <td>-0.006205</td>\n",
              "      <td>0.070146</td>\n",
              "      <td>-0.026273</td>\n",
              "      <td>0.106022</td>\n",
              "      <td>0.012643</td>\n",
              "      <td>0.043809</td>\n",
              "      <td>0.037522</td>\n",
              "      <td>-0.025560</td>\n",
              "      <td>0.068256</td>\n",
              "      <td>0.154969</td>\n",
              "      <td>-0.145763</td>\n",
              "      <td>0.117384</td>\n",
              "      <td>0.150921</td>\n",
              "      <td>-0.115617</td>\n",
              "      <td>0.071571</td>\n",
              "      <td>-0.017832</td>\n",
              "      <td>0.032463</td>\n",
              "      <td>0.085449</td>\n",
              "      <td>-0.150913</td>\n",
              "      <td>0.180492</td>\n",
              "      <td>-0.102506</td>\n",
              "      <td>-0.023194</td>\n",
              "      <td>-0.029429</td>\n",
              "      <td>0.021109</td>\n",
              "      <td>-0.027015</td>\n",
              "      <td>0.014771</td>\n",
              "      <td>-0.069248</td>\n",
              "      <td>0.201786</td>\n",
              "      <td>-0.037958</td>\n",
              "      <td>0.045962</td>\n",
              "      <td>-0.000133</td>\n",
              "      <td>0.042984</td>\n",
              "      <td>0.006437</td>\n",
              "    </tr>\n",
              "    <tr>\n",
              "      <th>2</th>\n",
              "      <td>2020-05-01</td>\n",
              "      <td>2830.71</td>\n",
              "      <td>Cryin Chuck Schumer, compared to what other Se...</td>\n",
              "      <td>0.074129</td>\n",
              "      <td>0.054035</td>\n",
              "      <td>-0.047577</td>\n",
              "      <td>-0.138969</td>\n",
              "      <td>-0.024204</td>\n",
              "      <td>0.087372</td>\n",
              "      <td>0.048822</td>\n",
              "      <td>-0.110518</td>\n",
              "      <td>0.040400</td>\n",
              "      <td>0.053006</td>\n",
              "      <td>0.051875</td>\n",
              "      <td>-0.033936</td>\n",
              "      <td>-0.028880</td>\n",
              "      <td>0.044753</td>\n",
              "      <td>0.080675</td>\n",
              "      <td>-0.051941</td>\n",
              "      <td>-0.153464</td>\n",
              "      <td>-0.036111</td>\n",
              "      <td>0.080564</td>\n",
              "      <td>-0.006554</td>\n",
              "      <td>0.044138</td>\n",
              "      <td>0.057812</td>\n",
              "      <td>-0.004431</td>\n",
              "      <td>-0.062420</td>\n",
              "      <td>0.005022</td>\n",
              "      <td>-0.062594</td>\n",
              "      <td>0.096280</td>\n",
              "      <td>0.125239</td>\n",
              "      <td>0.023979</td>\n",
              "      <td>-0.173230</td>\n",
              "      <td>-0.016681</td>\n",
              "      <td>-0.141113</td>\n",
              "      <td>-0.001342</td>\n",
              "      <td>0.125666</td>\n",
              "      <td>-0.062361</td>\n",
              "      <td>-0.096085</td>\n",
              "      <td>0.019846</td>\n",
              "      <td>...</td>\n",
              "      <td>0.012987</td>\n",
              "      <td>-0.072538</td>\n",
              "      <td>-0.032089</td>\n",
              "      <td>-0.103827</td>\n",
              "      <td>-0.049592</td>\n",
              "      <td>-0.129789</td>\n",
              "      <td>0.028587</td>\n",
              "      <td>0.007459</td>\n",
              "      <td>0.011778</td>\n",
              "      <td>-0.021470</td>\n",
              "      <td>0.120637</td>\n",
              "      <td>-0.010403</td>\n",
              "      <td>0.010230</td>\n",
              "      <td>0.028169</td>\n",
              "      <td>0.010701</td>\n",
              "      <td>0.056492</td>\n",
              "      <td>0.111062</td>\n",
              "      <td>-0.124445</td>\n",
              "      <td>0.156269</td>\n",
              "      <td>0.125211</td>\n",
              "      <td>-0.105991</td>\n",
              "      <td>0.101536</td>\n",
              "      <td>-0.061251</td>\n",
              "      <td>0.026980</td>\n",
              "      <td>0.083413</td>\n",
              "      <td>-0.088980</td>\n",
              "      <td>0.094021</td>\n",
              "      <td>-0.105696</td>\n",
              "      <td>0.031988</td>\n",
              "      <td>-0.048122</td>\n",
              "      <td>0.015593</td>\n",
              "      <td>-0.007362</td>\n",
              "      <td>0.025080</td>\n",
              "      <td>-0.045592</td>\n",
              "      <td>0.197214</td>\n",
              "      <td>-0.055860</td>\n",
              "      <td>0.056453</td>\n",
              "      <td>-0.009692</td>\n",
              "      <td>0.015668</td>\n",
              "      <td>0.001125</td>\n",
              "    </tr>\n",
              "    <tr>\n",
              "      <th>3</th>\n",
              "      <td>2020-05-01</td>\n",
              "      <td>2830.71</td>\n",
              "      <td>Cryin’ Chuck Schumer was on a late night show ...</td>\n",
              "      <td>0.081467</td>\n",
              "      <td>0.091006</td>\n",
              "      <td>-0.059714</td>\n",
              "      <td>-0.152566</td>\n",
              "      <td>-0.025866</td>\n",
              "      <td>0.065605</td>\n",
              "      <td>0.064819</td>\n",
              "      <td>-0.119684</td>\n",
              "      <td>0.023666</td>\n",
              "      <td>0.052051</td>\n",
              "      <td>0.046519</td>\n",
              "      <td>-0.043284</td>\n",
              "      <td>-0.035385</td>\n",
              "      <td>-0.007623</td>\n",
              "      <td>0.085897</td>\n",
              "      <td>-0.062975</td>\n",
              "      <td>-0.142256</td>\n",
              "      <td>-0.039780</td>\n",
              "      <td>0.076933</td>\n",
              "      <td>0.005649</td>\n",
              "      <td>0.044619</td>\n",
              "      <td>0.056291</td>\n",
              "      <td>-0.019694</td>\n",
              "      <td>-0.106322</td>\n",
              "      <td>-0.008333</td>\n",
              "      <td>-0.070434</td>\n",
              "      <td>0.113172</td>\n",
              "      <td>0.143580</td>\n",
              "      <td>0.017615</td>\n",
              "      <td>-0.185084</td>\n",
              "      <td>-0.005173</td>\n",
              "      <td>-0.110970</td>\n",
              "      <td>0.033524</td>\n",
              "      <td>0.132542</td>\n",
              "      <td>-0.063583</td>\n",
              "      <td>-0.100868</td>\n",
              "      <td>-0.006367</td>\n",
              "      <td>...</td>\n",
              "      <td>0.035496</td>\n",
              "      <td>-0.092416</td>\n",
              "      <td>-0.035658</td>\n",
              "      <td>-0.068428</td>\n",
              "      <td>-0.075076</td>\n",
              "      <td>-0.137127</td>\n",
              "      <td>-0.018075</td>\n",
              "      <td>0.015359</td>\n",
              "      <td>0.025445</td>\n",
              "      <td>-0.020557</td>\n",
              "      <td>0.119552</td>\n",
              "      <td>0.001626</td>\n",
              "      <td>0.013843</td>\n",
              "      <td>0.003796</td>\n",
              "      <td>0.005564</td>\n",
              "      <td>0.068894</td>\n",
              "      <td>0.099190</td>\n",
              "      <td>-0.129789</td>\n",
              "      <td>0.124140</td>\n",
              "      <td>0.106475</td>\n",
              "      <td>-0.113288</td>\n",
              "      <td>0.082159</td>\n",
              "      <td>-0.009153</td>\n",
              "      <td>0.046931</td>\n",
              "      <td>0.100006</td>\n",
              "      <td>-0.103029</td>\n",
              "      <td>0.105299</td>\n",
              "      <td>-0.084166</td>\n",
              "      <td>0.032647</td>\n",
              "      <td>-0.044181</td>\n",
              "      <td>0.018581</td>\n",
              "      <td>-0.004457</td>\n",
              "      <td>0.008838</td>\n",
              "      <td>-0.044614</td>\n",
              "      <td>0.169575</td>\n",
              "      <td>-0.050989</td>\n",
              "      <td>0.090134</td>\n",
              "      <td>-0.003325</td>\n",
              "      <td>0.066744</td>\n",
              "      <td>0.017180</td>\n",
              "    </tr>\n",
              "    <tr>\n",
              "      <th>4</th>\n",
              "      <td>2020-05-01</td>\n",
              "      <td>2830.71</td>\n",
              "      <td>RT @TeamTrump: President @realDonaldTrump: “We...</td>\n",
              "      <td>0.055053</td>\n",
              "      <td>0.079258</td>\n",
              "      <td>-0.169880</td>\n",
              "      <td>-0.128334</td>\n",
              "      <td>-0.056022</td>\n",
              "      <td>0.045531</td>\n",
              "      <td>0.043898</td>\n",
              "      <td>-0.036433</td>\n",
              "      <td>-0.018799</td>\n",
              "      <td>0.050679</td>\n",
              "      <td>-0.015264</td>\n",
              "      <td>-0.028522</td>\n",
              "      <td>0.045297</td>\n",
              "      <td>-0.007759</td>\n",
              "      <td>0.067268</td>\n",
              "      <td>0.001515</td>\n",
              "      <td>-0.137767</td>\n",
              "      <td>-0.096647</td>\n",
              "      <td>0.074347</td>\n",
              "      <td>-0.026259</td>\n",
              "      <td>0.037565</td>\n",
              "      <td>0.121564</td>\n",
              "      <td>-0.028739</td>\n",
              "      <td>-0.102168</td>\n",
              "      <td>0.005849</td>\n",
              "      <td>0.007038</td>\n",
              "      <td>0.139539</td>\n",
              "      <td>0.201101</td>\n",
              "      <td>-0.012400</td>\n",
              "      <td>-0.086574</td>\n",
              "      <td>-0.052742</td>\n",
              "      <td>-0.064194</td>\n",
              "      <td>0.053290</td>\n",
              "      <td>0.132847</td>\n",
              "      <td>0.029767</td>\n",
              "      <td>-0.023630</td>\n",
              "      <td>-0.077173</td>\n",
              "      <td>...</td>\n",
              "      <td>0.042446</td>\n",
              "      <td>-0.035632</td>\n",
              "      <td>-0.039194</td>\n",
              "      <td>-0.086164</td>\n",
              "      <td>-0.018679</td>\n",
              "      <td>-0.045109</td>\n",
              "      <td>-0.023072</td>\n",
              "      <td>0.007252</td>\n",
              "      <td>0.080020</td>\n",
              "      <td>0.044897</td>\n",
              "      <td>0.121611</td>\n",
              "      <td>0.033826</td>\n",
              "      <td>0.037227</td>\n",
              "      <td>0.082992</td>\n",
              "      <td>0.029003</td>\n",
              "      <td>0.055111</td>\n",
              "      <td>0.098393</td>\n",
              "      <td>-0.121930</td>\n",
              "      <td>0.048923</td>\n",
              "      <td>0.091200</td>\n",
              "      <td>-0.082842</td>\n",
              "      <td>-0.013811</td>\n",
              "      <td>-0.056647</td>\n",
              "      <td>0.028785</td>\n",
              "      <td>0.018568</td>\n",
              "      <td>-0.209967</td>\n",
              "      <td>0.128757</td>\n",
              "      <td>-0.147206</td>\n",
              "      <td>-0.069663</td>\n",
              "      <td>0.003829</td>\n",
              "      <td>0.061386</td>\n",
              "      <td>-0.021596</td>\n",
              "      <td>0.078495</td>\n",
              "      <td>-0.019021</td>\n",
              "      <td>0.165752</td>\n",
              "      <td>-0.009162</td>\n",
              "      <td>0.111100</td>\n",
              "      <td>-0.012854</td>\n",
              "      <td>0.043889</td>\n",
              "      <td>-0.001807</td>\n",
              "    </tr>\n",
              "  </tbody>\n",
              "</table>\n",
              "<p>5 rows × 303 columns</p>\n",
              "</div>"
            ],
            "text/plain": [
              "         date    price  ...       298       299\n",
              "0  2020-05-01  2830.71  ...  0.054448 -0.006316\n",
              "1  2020-05-01  2830.71  ...  0.042984  0.006437\n",
              "2  2020-05-01  2830.71  ...  0.015668  0.001125\n",
              "3  2020-05-01  2830.71  ...  0.066744  0.017180\n",
              "4  2020-05-01  2830.71  ...  0.043889 -0.001807\n",
              "\n",
              "[5 rows x 303 columns]"
            ]
          },
          "metadata": {
            "tags": []
          },
          "execution_count": 23
        }
      ]
    },
    {
      "cell_type": "code",
      "metadata": {
        "id": "wzaVvcZ3fTFn",
        "colab_type": "code",
        "colab": {}
      },
      "source": [
        "df_tweets_word2vec.to_csv(\"price_tweets_vector.csv\", index=False)"
      ],
      "execution_count": 0,
      "outputs": []
    },
    {
      "cell_type": "code",
      "metadata": {
        "id": "CY3UVb1TfTFp",
        "colab_type": "code",
        "outputId": "2c607b81-f1a4-4883-fcb6-de4eabf98538",
        "colab": {
          "base_uri": "https://localhost:8080/",
          "height": 532
        }
      },
      "source": [
        "#ツイートのベクトルを1日毎に平均にする（1日10ツイートだった場合ベクトルと足し合わせ10で割る）\n",
        "# groupby #https://qiita.com/propella/items/a9a32b878c77222630ae\n",
        "df = df_tweets_word2vec.groupby([\"date\"]).mean()\n",
        "\n",
        "\n",
        "# targetのcolである変化率（\"price\"の差分対数行列）をdateをKeyに内部結合する\n",
        "df_sp = pd.read_csv(\"/content/sp500-10-year-daily-chart.csv\")\n",
        "\n",
        "# 時系列データの差分を求める\n",
        "\n",
        "# \" value\"の行を対数化\n",
        "# https://www.sejuku.net/blog/70027\n",
        "df_sp[\"log\"] = np.log(df_sp[\" value\"])\n",
        "\n",
        "# \"log\"の1日前との差を取って、差分対数の列を作成\n",
        "# https://note.nkmk.me/python-pandas-diff-pct-change/\n",
        "df_sp[\"dif_log\"] = df_sp[\"log\"].diff()\n",
        "\n",
        "#内部結合\n",
        "df2=pd.merge(df_sp, df, how=\"inner\" ,on=\"date\")\n",
        "df2 = df2.drop(\" value\", axis=1)\n",
        "\n",
        "# groupbyを使って1日のツイート数も特徴量に加える\n",
        "# https://deepage.net/features/pandas-count.html\n",
        "df3 = df_tweets_word2vec[[\"date\",\"text\"]]\n",
        "df3 = df3.groupby([\"date\"]).count()\n",
        "\n",
        "#内部結合\n",
        "df4 = pd.merge( df3, df2, how=\"inner\" ,on=\"date\")\n",
        "\n",
        "#曜日を取得\n",
        "df4['day_of_week'] = pd.to_datetime(df4['date']).dt.day_name()\n",
        "\n",
        "#日付データの形を変える\n",
        "df4[\"date\"] = pd.to_datetime(df4['date']).astype('int64')\n",
        "\n",
        "#変化率のグラフ\n",
        "df4.plot( y=[\"dif_log\"], figsize=(16,4), alpha=0.5)\n",
        "\n",
        "#ツイート数と変化率の関係\n",
        "df4.plot.scatter(x=[\"text\"], y=[\"dif_log\"])"
      ],
      "execution_count": 25,
      "outputs": [
        {
          "output_type": "execute_result",
          "data": {
            "text/plain": [
              "<matplotlib.axes._subplots.AxesSubplot at 0x7f3cb4302e48>"
            ]
          },
          "metadata": {
            "tags": []
          },
          "execution_count": 25
        },
        {
          "output_type": "display_data",
          "data": {
            "image/png": "[encoded data removed]",
            "text/plain": [
              "<Figure size 1152x288 with 1 Axes>"
            ]
          },
          "metadata": {
            "tags": [],
            "needs_background": "light"
          }
        },
        {
          "output_type": "display_data",
          "data": {
            "image/png": "[encoded data removed]",
            "text/plain": [
              "<Figure size 432x288 with 1 Axes>"
            ]
          },
          "metadata": {
            "tags": [],
            "needs_background": "light"
          }
        }
      ]
    },
    {
      "cell_type": "code",
      "metadata": {
        "id": "yEzPjOUKhrir",
        "colab_type": "code",
        "colab": {}
      },
      "source": [
        "dummy_df = pd.get_dummies(df4[['day_of_week']], drop_first = False) \n",
        "df4 = pd.merge(df4, dummy_df, left_index=True, right_index=True)"
      ],
      "execution_count": 0,
      "outputs": []
    },
    {
      "cell_type": "code",
      "metadata": {
        "id": "LoiDgt9WfTFt",
        "colab_type": "code",
        "outputId": "bbba60fa-700f-499b-ac37-605173880088",
        "colab": {
          "base_uri": "https://localhost:8080/",
          "height": 253
        }
      },
      "source": [
        "df4.head()"
      ],
      "execution_count": 27,
      "outputs": [
        {
          "output_type": "execute_result",
          "data": {
            "text/html": [
              "<div>\n",
              "<style scoped>\n",
              "    .dataframe tbody tr th:only-of-type {\n",
              "        vertical-align: middle;\n",
              "    }\n",
              "\n",
              "    .dataframe tbody tr th {\n",
              "        vertical-align: top;\n",
              "    }\n",
              "\n",
              "    .dataframe thead th {\n",
              "        text-align: right;\n",
              "    }\n",
              "</style>\n",
              "<table border=\"1\" class=\"dataframe\">\n",
              "  <thead>\n",
              "    <tr style=\"text-align: right;\">\n",
              "      <th></th>\n",
              "      <th>date</th>\n",
              "      <th>text</th>\n",
              "      <th>log</th>\n",
              "      <th>dif_log</th>\n",
              "      <th>price</th>\n",
              "      <th>0</th>\n",
              "      <th>1</th>\n",
              "      <th>2</th>\n",
              "      <th>3</th>\n",
              "      <th>4</th>\n",
              "      <th>5</th>\n",
              "      <th>6</th>\n",
              "      <th>7</th>\n",
              "      <th>8</th>\n",
              "      <th>9</th>\n",
              "      <th>10</th>\n",
              "      <th>11</th>\n",
              "      <th>12</th>\n",
              "      <th>13</th>\n",
              "      <th>14</th>\n",
              "      <th>15</th>\n",
              "      <th>16</th>\n",
              "      <th>17</th>\n",
              "      <th>18</th>\n",
              "      <th>19</th>\n",
              "      <th>20</th>\n",
              "      <th>21</th>\n",
              "      <th>22</th>\n",
              "      <th>23</th>\n",
              "      <th>24</th>\n",
              "      <th>25</th>\n",
              "      <th>26</th>\n",
              "      <th>27</th>\n",
              "      <th>28</th>\n",
              "      <th>29</th>\n",
              "      <th>30</th>\n",
              "      <th>31</th>\n",
              "      <th>32</th>\n",
              "      <th>33</th>\n",
              "      <th>34</th>\n",
              "      <th>...</th>\n",
              "      <th>266</th>\n",
              "      <th>267</th>\n",
              "      <th>268</th>\n",
              "      <th>269</th>\n",
              "      <th>270</th>\n",
              "      <th>271</th>\n",
              "      <th>272</th>\n",
              "      <th>273</th>\n",
              "      <th>274</th>\n",
              "      <th>275</th>\n",
              "      <th>276</th>\n",
              "      <th>277</th>\n",
              "      <th>278</th>\n",
              "      <th>279</th>\n",
              "      <th>280</th>\n",
              "      <th>281</th>\n",
              "      <th>282</th>\n",
              "      <th>283</th>\n",
              "      <th>284</th>\n",
              "      <th>285</th>\n",
              "      <th>286</th>\n",
              "      <th>287</th>\n",
              "      <th>288</th>\n",
              "      <th>289</th>\n",
              "      <th>290</th>\n",
              "      <th>291</th>\n",
              "      <th>292</th>\n",
              "      <th>293</th>\n",
              "      <th>294</th>\n",
              "      <th>295</th>\n",
              "      <th>296</th>\n",
              "      <th>297</th>\n",
              "      <th>298</th>\n",
              "      <th>299</th>\n",
              "      <th>day_of_week</th>\n",
              "      <th>day_of_week_Friday</th>\n",
              "      <th>day_of_week_Monday</th>\n",
              "      <th>day_of_week_Thursday</th>\n",
              "      <th>day_of_week_Tuesday</th>\n",
              "      <th>day_of_week_Wednesday</th>\n",
              "    </tr>\n",
              "  </thead>\n",
              "  <tbody>\n",
              "    <tr>\n",
              "      <th>0</th>\n",
              "      <td>1484870400000000000</td>\n",
              "      <td>13</td>\n",
              "      <td>7.728112</td>\n",
              "      <td>0.003361</td>\n",
              "      <td>2271.31</td>\n",
              "      <td>0.039028</td>\n",
              "      <td>0.048144</td>\n",
              "      <td>-0.116790</td>\n",
              "      <td>-0.113819</td>\n",
              "      <td>-0.051271</td>\n",
              "      <td>0.051119</td>\n",
              "      <td>0.083228</td>\n",
              "      <td>-0.074546</td>\n",
              "      <td>0.060662</td>\n",
              "      <td>0.034360</td>\n",
              "      <td>-0.006811</td>\n",
              "      <td>-0.088676</td>\n",
              "      <td>-0.043543</td>\n",
              "      <td>0.006891</td>\n",
              "      <td>0.043681</td>\n",
              "      <td>0.016932</td>\n",
              "      <td>-0.124626</td>\n",
              "      <td>-0.076917</td>\n",
              "      <td>0.028388</td>\n",
              "      <td>-0.022252</td>\n",
              "      <td>0.049078</td>\n",
              "      <td>0.162042</td>\n",
              "      <td>0.036462</td>\n",
              "      <td>-0.042952</td>\n",
              "      <td>0.025934</td>\n",
              "      <td>-0.030809</td>\n",
              "      <td>0.089874</td>\n",
              "      <td>0.115414</td>\n",
              "      <td>-0.021594</td>\n",
              "      <td>-0.108496</td>\n",
              "      <td>-0.021407</td>\n",
              "      <td>-0.107579</td>\n",
              "      <td>-0.052602</td>\n",
              "      <td>0.077441</td>\n",
              "      <td>0.043774</td>\n",
              "      <td>...</td>\n",
              "      <td>0.050593</td>\n",
              "      <td>-0.013868</td>\n",
              "      <td>0.110926</td>\n",
              "      <td>0.028264</td>\n",
              "      <td>0.138170</td>\n",
              "      <td>-0.009166</td>\n",
              "      <td>0.046440</td>\n",
              "      <td>0.051309</td>\n",
              "      <td>-0.027013</td>\n",
              "      <td>0.040693</td>\n",
              "      <td>0.177420</td>\n",
              "      <td>-0.101669</td>\n",
              "      <td>0.066925</td>\n",
              "      <td>0.119875</td>\n",
              "      <td>-0.082918</td>\n",
              "      <td>0.001342</td>\n",
              "      <td>0.013695</td>\n",
              "      <td>0.033186</td>\n",
              "      <td>0.000137</td>\n",
              "      <td>-0.192540</td>\n",
              "      <td>0.201087</td>\n",
              "      <td>-0.230852</td>\n",
              "      <td>-0.098995</td>\n",
              "      <td>-0.008057</td>\n",
              "      <td>0.042410</td>\n",
              "      <td>-0.039217</td>\n",
              "      <td>0.018669</td>\n",
              "      <td>-0.080276</td>\n",
              "      <td>0.168429</td>\n",
              "      <td>-0.039599</td>\n",
              "      <td>0.073293</td>\n",
              "      <td>-0.033928</td>\n",
              "      <td>0.045701</td>\n",
              "      <td>-0.036587</td>\n",
              "      <td>Friday</td>\n",
              "      <td>1</td>\n",
              "      <td>0</td>\n",
              "      <td>0</td>\n",
              "      <td>0</td>\n",
              "      <td>0</td>\n",
              "    </tr>\n",
              "    <tr>\n",
              "      <th>1</th>\n",
              "      <td>1485129600000000000</td>\n",
              "      <td>1</td>\n",
              "      <td>7.725418</td>\n",
              "      <td>-0.002694</td>\n",
              "      <td>2265.20</td>\n",
              "      <td>0.070658</td>\n",
              "      <td>0.109443</td>\n",
              "      <td>-0.127563</td>\n",
              "      <td>-0.121572</td>\n",
              "      <td>-0.043983</td>\n",
              "      <td>0.068067</td>\n",
              "      <td>0.076413</td>\n",
              "      <td>-0.090769</td>\n",
              "      <td>0.023657</td>\n",
              "      <td>0.056238</td>\n",
              "      <td>0.045125</td>\n",
              "      <td>-0.055560</td>\n",
              "      <td>-0.042072</td>\n",
              "      <td>-0.009179</td>\n",
              "      <td>0.043337</td>\n",
              "      <td>-0.016099</td>\n",
              "      <td>-0.141193</td>\n",
              "      <td>-0.045880</td>\n",
              "      <td>0.052846</td>\n",
              "      <td>-0.017003</td>\n",
              "      <td>0.034856</td>\n",
              "      <td>0.180826</td>\n",
              "      <td>0.019087</td>\n",
              "      <td>-0.068674</td>\n",
              "      <td>-0.003275</td>\n",
              "      <td>-0.016350</td>\n",
              "      <td>0.101193</td>\n",
              "      <td>0.115467</td>\n",
              "      <td>-0.011018</td>\n",
              "      <td>-0.099619</td>\n",
              "      <td>-0.064305</td>\n",
              "      <td>-0.033116</td>\n",
              "      <td>-0.021485</td>\n",
              "      <td>0.077383</td>\n",
              "      <td>0.023758</td>\n",
              "      <td>...</td>\n",
              "      <td>0.026861</td>\n",
              "      <td>-0.007287</td>\n",
              "      <td>0.132804</td>\n",
              "      <td>0.028646</td>\n",
              "      <td>0.120434</td>\n",
              "      <td>-0.044177</td>\n",
              "      <td>0.015531</td>\n",
              "      <td>0.062517</td>\n",
              "      <td>-0.022474</td>\n",
              "      <td>0.036432</td>\n",
              "      <td>0.140680</td>\n",
              "      <td>-0.139517</td>\n",
              "      <td>0.076756</td>\n",
              "      <td>0.112663</td>\n",
              "      <td>-0.072096</td>\n",
              "      <td>-0.007516</td>\n",
              "      <td>-0.005093</td>\n",
              "      <td>0.043058</td>\n",
              "      <td>0.008652</td>\n",
              "      <td>-0.238633</td>\n",
              "      <td>0.171336</td>\n",
              "      <td>-0.215003</td>\n",
              "      <td>-0.059756</td>\n",
              "      <td>-0.030833</td>\n",
              "      <td>0.004346</td>\n",
              "      <td>-0.037359</td>\n",
              "      <td>0.056583</td>\n",
              "      <td>-0.044331</td>\n",
              "      <td>0.148344</td>\n",
              "      <td>-0.019222</td>\n",
              "      <td>0.056231</td>\n",
              "      <td>0.006921</td>\n",
              "      <td>0.054767</td>\n",
              "      <td>-0.020726</td>\n",
              "      <td>Monday</td>\n",
              "      <td>0</td>\n",
              "      <td>1</td>\n",
              "      <td>0</td>\n",
              "      <td>0</td>\n",
              "      <td>0</td>\n",
              "    </tr>\n",
              "    <tr>\n",
              "      <th>2</th>\n",
              "      <td>1485216000000000000</td>\n",
              "      <td>4</td>\n",
              "      <td>7.731961</td>\n",
              "      <td>0.006543</td>\n",
              "      <td>2280.07</td>\n",
              "      <td>0.043864</td>\n",
              "      <td>0.077936</td>\n",
              "      <td>-0.092234</td>\n",
              "      <td>-0.095663</td>\n",
              "      <td>-0.035344</td>\n",
              "      <td>0.045021</td>\n",
              "      <td>0.096591</td>\n",
              "      <td>-0.091771</td>\n",
              "      <td>0.037087</td>\n",
              "      <td>0.054308</td>\n",
              "      <td>0.025081</td>\n",
              "      <td>-0.078451</td>\n",
              "      <td>-0.039211</td>\n",
              "      <td>-0.029181</td>\n",
              "      <td>0.038341</td>\n",
              "      <td>0.006028</td>\n",
              "      <td>-0.096779</td>\n",
              "      <td>-0.053858</td>\n",
              "      <td>0.033698</td>\n",
              "      <td>-0.013831</td>\n",
              "      <td>0.039417</td>\n",
              "      <td>0.166732</td>\n",
              "      <td>0.054202</td>\n",
              "      <td>-0.047496</td>\n",
              "      <td>-0.003072</td>\n",
              "      <td>-0.015217</td>\n",
              "      <td>0.084713</td>\n",
              "      <td>0.093606</td>\n",
              "      <td>-0.036187</td>\n",
              "      <td>-0.078603</td>\n",
              "      <td>-0.022574</td>\n",
              "      <td>-0.054516</td>\n",
              "      <td>-0.051124</td>\n",
              "      <td>0.026891</td>\n",
              "      <td>0.021063</td>\n",
              "      <td>...</td>\n",
              "      <td>-0.004900</td>\n",
              "      <td>-0.018151</td>\n",
              "      <td>0.122476</td>\n",
              "      <td>0.043280</td>\n",
              "      <td>0.095348</td>\n",
              "      <td>-0.017912</td>\n",
              "      <td>0.028934</td>\n",
              "      <td>0.045192</td>\n",
              "      <td>-0.039490</td>\n",
              "      <td>0.026784</td>\n",
              "      <td>0.116895</td>\n",
              "      <td>-0.104189</td>\n",
              "      <td>0.063241</td>\n",
              "      <td>0.114574</td>\n",
              "      <td>-0.045093</td>\n",
              "      <td>-0.035226</td>\n",
              "      <td>0.020432</td>\n",
              "      <td>0.041795</td>\n",
              "      <td>-0.003602</td>\n",
              "      <td>-0.202587</td>\n",
              "      <td>0.168288</td>\n",
              "      <td>-0.186976</td>\n",
              "      <td>-0.066002</td>\n",
              "      <td>-0.010689</td>\n",
              "      <td>0.000351</td>\n",
              "      <td>-0.060908</td>\n",
              "      <td>0.023224</td>\n",
              "      <td>-0.089798</td>\n",
              "      <td>0.082105</td>\n",
              "      <td>-0.028434</td>\n",
              "      <td>0.077065</td>\n",
              "      <td>0.003066</td>\n",
              "      <td>0.058131</td>\n",
              "      <td>-0.003658</td>\n",
              "      <td>Tuesday</td>\n",
              "      <td>0</td>\n",
              "      <td>0</td>\n",
              "      <td>0</td>\n",
              "      <td>1</td>\n",
              "      <td>0</td>\n",
              "    </tr>\n",
              "    <tr>\n",
              "      <th>3</th>\n",
              "      <td>1485302400000000000</td>\n",
              "      <td>8</td>\n",
              "      <td>7.739955</td>\n",
              "      <td>0.007994</td>\n",
              "      <td>2298.37</td>\n",
              "      <td>0.057195</td>\n",
              "      <td>0.073653</td>\n",
              "      <td>-0.070744</td>\n",
              "      <td>-0.113591</td>\n",
              "      <td>-0.028205</td>\n",
              "      <td>0.040374</td>\n",
              "      <td>0.039095</td>\n",
              "      <td>-0.110164</td>\n",
              "      <td>0.049338</td>\n",
              "      <td>0.020370</td>\n",
              "      <td>0.034911</td>\n",
              "      <td>-0.069594</td>\n",
              "      <td>-0.050953</td>\n",
              "      <td>-0.009835</td>\n",
              "      <td>0.065969</td>\n",
              "      <td>-0.022926</td>\n",
              "      <td>-0.105823</td>\n",
              "      <td>-0.050099</td>\n",
              "      <td>0.062980</td>\n",
              "      <td>0.007597</td>\n",
              "      <td>0.061724</td>\n",
              "      <td>0.098381</td>\n",
              "      <td>0.021523</td>\n",
              "      <td>-0.064969</td>\n",
              "      <td>-0.013956</td>\n",
              "      <td>-0.044256</td>\n",
              "      <td>0.050207</td>\n",
              "      <td>0.092324</td>\n",
              "      <td>-0.007561</td>\n",
              "      <td>-0.119464</td>\n",
              "      <td>-0.024535</td>\n",
              "      <td>-0.052591</td>\n",
              "      <td>-0.036366</td>\n",
              "      <td>0.091938</td>\n",
              "      <td>-0.016241</td>\n",
              "      <td>...</td>\n",
              "      <td>-0.004749</td>\n",
              "      <td>-0.008330</td>\n",
              "      <td>0.071204</td>\n",
              "      <td>0.030370</td>\n",
              "      <td>0.106743</td>\n",
              "      <td>-0.005506</td>\n",
              "      <td>0.018290</td>\n",
              "      <td>-0.001510</td>\n",
              "      <td>-0.018842</td>\n",
              "      <td>0.016694</td>\n",
              "      <td>0.102249</td>\n",
              "      <td>-0.111348</td>\n",
              "      <td>0.102811</td>\n",
              "      <td>0.072968</td>\n",
              "      <td>-0.079947</td>\n",
              "      <td>0.027687</td>\n",
              "      <td>0.028829</td>\n",
              "      <td>0.057653</td>\n",
              "      <td>0.022626</td>\n",
              "      <td>-0.152398</td>\n",
              "      <td>0.102874</td>\n",
              "      <td>-0.187636</td>\n",
              "      <td>-0.009599</td>\n",
              "      <td>-0.025949</td>\n",
              "      <td>0.023957</td>\n",
              "      <td>-0.032492</td>\n",
              "      <td>0.023595</td>\n",
              "      <td>-0.059010</td>\n",
              "      <td>0.120890</td>\n",
              "      <td>-0.019593</td>\n",
              "      <td>0.081388</td>\n",
              "      <td>0.010520</td>\n",
              "      <td>0.045260</td>\n",
              "      <td>0.003871</td>\n",
              "      <td>Wednesday</td>\n",
              "      <td>0</td>\n",
              "      <td>0</td>\n",
              "      <td>0</td>\n",
              "      <td>0</td>\n",
              "      <td>1</td>\n",
              "    </tr>\n",
              "    <tr>\n",
              "      <th>4</th>\n",
              "      <td>1485388800000000000</td>\n",
              "      <td>11</td>\n",
              "      <td>7.739220</td>\n",
              "      <td>-0.000736</td>\n",
              "      <td>2296.68</td>\n",
              "      <td>0.051580</td>\n",
              "      <td>0.069645</td>\n",
              "      <td>-0.069430</td>\n",
              "      <td>-0.104721</td>\n",
              "      <td>-0.028555</td>\n",
              "      <td>0.049190</td>\n",
              "      <td>0.051731</td>\n",
              "      <td>-0.070246</td>\n",
              "      <td>0.028808</td>\n",
              "      <td>0.026537</td>\n",
              "      <td>0.007293</td>\n",
              "      <td>-0.077292</td>\n",
              "      <td>-0.024199</td>\n",
              "      <td>-0.016881</td>\n",
              "      <td>0.044888</td>\n",
              "      <td>-0.005435</td>\n",
              "      <td>-0.112708</td>\n",
              "      <td>-0.068343</td>\n",
              "      <td>0.065873</td>\n",
              "      <td>-0.005304</td>\n",
              "      <td>0.035526</td>\n",
              "      <td>0.125818</td>\n",
              "      <td>0.028857</td>\n",
              "      <td>-0.073613</td>\n",
              "      <td>-0.001915</td>\n",
              "      <td>-0.032942</td>\n",
              "      <td>0.075969</td>\n",
              "      <td>0.103884</td>\n",
              "      <td>-0.023790</td>\n",
              "      <td>-0.091854</td>\n",
              "      <td>-0.023097</td>\n",
              "      <td>-0.046076</td>\n",
              "      <td>-0.012948</td>\n",
              "      <td>0.089587</td>\n",
              "      <td>0.000889</td>\n",
              "      <td>...</td>\n",
              "      <td>-0.008856</td>\n",
              "      <td>-0.005541</td>\n",
              "      <td>0.098732</td>\n",
              "      <td>0.055383</td>\n",
              "      <td>0.126338</td>\n",
              "      <td>0.002022</td>\n",
              "      <td>0.029109</td>\n",
              "      <td>0.036573</td>\n",
              "      <td>-0.021490</td>\n",
              "      <td>0.036975</td>\n",
              "      <td>0.106038</td>\n",
              "      <td>-0.105972</td>\n",
              "      <td>0.082855</td>\n",
              "      <td>0.078429</td>\n",
              "      <td>-0.069631</td>\n",
              "      <td>0.019982</td>\n",
              "      <td>0.022515</td>\n",
              "      <td>0.065746</td>\n",
              "      <td>0.025177</td>\n",
              "      <td>-0.179145</td>\n",
              "      <td>0.136295</td>\n",
              "      <td>-0.184884</td>\n",
              "      <td>-0.040728</td>\n",
              "      <td>0.003143</td>\n",
              "      <td>0.040934</td>\n",
              "      <td>-0.043925</td>\n",
              "      <td>0.041071</td>\n",
              "      <td>-0.053095</td>\n",
              "      <td>0.129720</td>\n",
              "      <td>-0.013559</td>\n",
              "      <td>0.087412</td>\n",
              "      <td>0.001625</td>\n",
              "      <td>0.045862</td>\n",
              "      <td>-0.002382</td>\n",
              "      <td>Thursday</td>\n",
              "      <td>0</td>\n",
              "      <td>0</td>\n",
              "      <td>1</td>\n",
              "      <td>0</td>\n",
              "      <td>0</td>\n",
              "    </tr>\n",
              "  </tbody>\n",
              "</table>\n",
              "<p>5 rows × 311 columns</p>\n",
              "</div>"
            ],
            "text/plain": [
              "                  date  text  ...  day_of_week_Tuesday  day_of_week_Wednesday\n",
              "0  1484870400000000000    13  ...                    0                      0\n",
              "1  1485129600000000000     1  ...                    0                      0\n",
              "2  1485216000000000000     4  ...                    1                      0\n",
              "3  1485302400000000000     8  ...                    0                      1\n",
              "4  1485388800000000000    11  ...                    0                      0\n",
              "\n",
              "[5 rows x 311 columns]"
            ]
          },
          "metadata": {
            "tags": []
          },
          "execution_count": 27
        }
      ]
    },
    {
      "cell_type": "code",
      "metadata": {
        "id": "n7AswbGKfTFw",
        "colab_type": "code",
        "colab": {}
      },
      "source": [
        "#特徴量とターゲットを決める\n",
        "from sklearn.model_selection import train_test_split\n",
        "\n",
        "target_col = 'dif_log'\n",
        "exclude_cols = ['log', 'price', 'dif_log', \"date\",\"text\",\"day_of_week\"]\n",
        "feature_cols = []\n",
        "for col in df4.columns:\n",
        "    if col not in exclude_cols:\n",
        "        feature_cols.append(col)\n",
        "        \n",
        "X = np.array(df4[feature_cols])\n",
        "y = np.array(df4[target_col])"
      ],
      "execution_count": 0,
      "outputs": []
    },
    {
      "cell_type": "code",
      "metadata": {
        "id": "20189zR5fTF0",
        "colab_type": "code",
        "outputId": "254ab2ae-0f2a-4eaa-e273-4f80194f0db3",
        "colab": {
          "base_uri": "https://localhost:8080/",
          "height": 85
        }
      },
      "source": [
        "X_train_val, X_test, y_train_val, y_test = train_test_split(\n",
        "    X, y, test_size=0.1, random_state=1234)\n",
        "\n",
        "print('X_train_val Features Shape: ', X_train_val.shape)\n",
        "print('y_train_val Target Shape: ', y_train_val.shape)\n",
        "print('X_test Features Shape: ', X_test.shape)\n",
        "print('y_test Target Shape: ', y_test.shape)"
      ],
      "execution_count": 29,
      "outputs": [
        {
          "output_type": "stream",
          "text": [
            "X_train_val Features Shape:  (739, 305)\n",
            "y_train_val Target Shape:  (739,)\n",
            "X_test Features Shape:  (83, 305)\n",
            "y_test Target Shape:  (83,)\n"
          ],
          "name": "stdout"
        }
      ]
    },
    {
      "cell_type": "code",
      "metadata": {
        "id": "mW7aRfLifTF3",
        "colab_type": "code",
        "outputId": "11ac6d3b-351e-4b73-9a0a-719954f109fe",
        "colab": {
          "base_uri": "https://localhost:8080/",
          "height": 85
        }
      },
      "source": [
        "X_train, X_val, y_train, y_val = train_test_split(\n",
        "    X_train_val, y_train_val, test_size=0.1, random_state=1234)\n",
        "\n",
        "# 参考：分割後のデータ数を確認\n",
        "print('X_train Features Shape: ', X_train.shape)\n",
        "print('y_train Target Shape: ', y_train.shape)\n",
        "print('X_val Features Shape: ', X_val.shape)\n",
        "print('y_val Target Shape: ', y_val.shape)"
      ],
      "execution_count": 30,
      "outputs": [
        {
          "output_type": "stream",
          "text": [
            "X_train Features Shape:  (665, 305)\n",
            "y_train Target Shape:  (665,)\n",
            "X_val Features Shape:  (74, 305)\n",
            "y_val Target Shape:  (74,)\n"
          ],
          "name": "stdout"
        }
      ]
    },
    {
      "cell_type": "code",
      "metadata": {
        "id": "AMGJVo-zfTF6",
        "colab_type": "code",
        "colab": {}
      },
      "source": [
        "#分析用のライブラリ\n",
        "\n",
        "from collections import Counter\n",
        "from sklearn.linear_model import LogisticRegression\n",
        "from sklearn.metrics import confusion_matrix, accuracy_score, classification_report\n",
        "from sklearn.linear_model import LinearRegression  # 線形回帰モデルのライブラリ\n",
        "from sklearn.metrics import mean_squared_error  # MSEのライブラリ\n",
        "from sklearn.ensemble import RandomForestRegressor"
      ],
      "execution_count": 0,
      "outputs": []
    },
    {
      "cell_type": "code",
      "metadata": {
        "id": "_7Ucu_2FfTF_",
        "colab_type": "code",
        "outputId": "c490e6f9-264f-4b01-dda0-6628c893ad3e",
        "colab": {
          "base_uri": "https://localhost:8080/",
          "height": 88
        }
      },
      "source": [
        "#分析1 線形回帰\n",
        "\n",
        "from sklearn.linear_model import LinearRegression  # 線形回帰モデルのライブラリ\n",
        "from sklearn.metrics import mean_squared_error  # MSEのライブラリ\n",
        "from sklearn.externals import joblib\n",
        "import pickle\n",
        "\n",
        "lm = LinearRegression()\n",
        "lm.fit(X_train, y_train)\n",
        "\n",
        "# モデルを保存する\n",
        "filename = 'lm_model.sav'\n",
        "pickle.dump(lm, open(filename, 'wb'))\n",
        "\n",
        "y_pred = lm.predict(X_val)\n",
        "lm_mse = mean_squared_error(y_val, y_pred)\n",
        "print('LinerRegression RMSE: ', round(np.sqrt(lm_mse), 3))"
      ],
      "execution_count": 32,
      "outputs": [
        {
          "output_type": "stream",
          "text": [
            "LinerRegression RMSE:  0.021\n"
          ],
          "name": "stdout"
        },
        {
          "output_type": "stream",
          "text": [
            "/usr/local/lib/python3.6/dist-packages/sklearn/externals/joblib/__init__.py:15: FutureWarning: sklearn.externals.joblib is deprecated in 0.21 and will be removed in 0.23. Please import this functionality directly from joblib, which can be installed with: pip install joblib. If this warning is raised when loading pickled models, you may need to re-serialize those models with scikit-learn 0.21+.\n",
            "  warnings.warn(msg, category=FutureWarning)\n"
          ],
          "name": "stderr"
        }
      ]
    },
    {
      "cell_type": "code",
      "metadata": {
        "id": "44WIdMIIdhon",
        "colab_type": "code",
        "outputId": "722a9d38-87bb-47aa-92b0-281324b6f2ae",
        "colab": {
          "base_uri": "https://localhost:8080/",
          "height": 34
        }
      },
      "source": [
        "#保存したモデルを読み取る\n",
        "loaded_model = pickle.load(open(filename, 'rb'))\n",
        "\n",
        "y_pred = loaded_model.predict(X_val)\n",
        "lm_mse = mean_squared_error(y_val, y_pred)\n",
        "print('LinerRegression RMSE: ', round(np.sqrt(lm_mse), 3))"
      ],
      "execution_count": 33,
      "outputs": [
        {
          "output_type": "stream",
          "text": [
            "LinerRegression RMSE:  0.021\n"
          ],
          "name": "stdout"
        }
      ]
    },
    {
      "cell_type": "code",
      "metadata": {
        "id": "yP6pY8SpfTGB",
        "colab_type": "code",
        "outputId": "de02cfa8-eedc-4ac2-ce39-37a280557366",
        "colab": {
          "base_uri": "https://localhost:8080/",
          "height": 34
        }
      },
      "source": [
        "#分析2 決定木\n",
        "\n",
        "from sklearn.tree import DecisionTreeRegressor\n",
        "\n",
        "dt = DecisionTreeRegressor(random_state=1234)\n",
        "dt.fit(X_train, y_train)\n",
        "\n",
        "# モデルを保存する\n",
        "filename = 'dt_model.sav'\n",
        "pickle.dump(dt, open(filename, 'wb'))\n",
        "\n",
        "y_pred = dt.predict(X_val)\n",
        "dt_mse = mean_squared_error(y_val, y_pred)\n",
        "print('DecisionTreeRegressor RMSE: ', round(np.sqrt(dt_mse), 3))"
      ],
      "execution_count": 34,
      "outputs": [
        {
          "output_type": "stream",
          "text": [
            "DecisionTreeRegressor RMSE:  0.017\n"
          ],
          "name": "stdout"
        }
      ]
    },
    {
      "cell_type": "code",
      "metadata": {
        "id": "TAO7GAT8fTGE",
        "colab_type": "code",
        "outputId": "3d386481-83b4-4e6c-f250-a9ae49321091",
        "colab": {
          "base_uri": "https://localhost:8080/",
          "height": 34
        }
      },
      "source": [
        "#分析3 ランダムフォレスト\n",
        "\n",
        "from sklearn.ensemble import RandomForestRegressor\n",
        "\n",
        "rf = RandomForestRegressor(n_estimators=100, random_state=1234)\n",
        "rf.fit(X_train, y_train)\n",
        "\n",
        "# モデルを保存する\n",
        "filename = 'rf_model.sav'\n",
        "pickle.dump(rf, open(filename, 'wb'))\n",
        "\n",
        "y_pred = rf.predict(X_val)\n",
        "rf_mse = mean_squared_error(y_val, y_pred)\n",
        "print('RandomForestRegressor RMSE: ', round(np.sqrt(rf_mse), 3))"
      ],
      "execution_count": 35,
      "outputs": [
        {
          "output_type": "stream",
          "text": [
            "RandomForestRegressor RMSE:  0.013\n"
          ],
          "name": "stdout"
        }
      ]
    },
    {
      "cell_type": "code",
      "metadata": {
        "id": "uFuqpICakOUV",
        "colab_type": "code",
        "colab": {
          "base_uri": "https://localhost:8080/",
          "height": 34
        },
        "outputId": "ab083454-6941-4914-c18b-20328ca9c85e"
      },
      "source": [
        "#分析2.5 Lasso回帰：説明変数が多い場合に精度が上がるモデル\n",
        "\n",
        "from sklearn.linear_model import Lasso\n",
        "ls = Lasso(alpha=0.01, random_state=1234)\n",
        "ls.fit(X_train, y_train)\n",
        "\n",
        "# モデルを保存する\n",
        "filename = 'ls_model.sav'\n",
        "pickle.dump(ls, open(filename, 'wb'))\n",
        "\n",
        "y_pred = ls.predict(X_val)\n",
        "ls_mse = mean_squared_error(y_val, y_pred)\n",
        "print('LassoRegressor RMSE: ', round(np.sqrt(ls_mse), 3))"
      ],
      "execution_count": 36,
      "outputs": [
        {
          "output_type": "stream",
          "text": [
            "LassoRegressor RMSE:  0.013\n"
          ],
          "name": "stdout"
        }
      ]
    },
    {
      "cell_type": "code",
      "metadata": {
        "id": "fZYcE_dliM0j",
        "colab_type": "code",
        "colab": {
          "base_uri": "https://localhost:8080/",
          "height": 34
        },
        "outputId": "849cb61e-682c-4a5c-c410-bcd2130565ca"
      },
      "source": [
        "#分析2.5 Ridge回帰\n",
        "\n",
        "from sklearn.linear_model import Ridge\n",
        "rd = Ridge(alpha=0.01, random_state=1234)\n",
        "\n",
        "rd.fit(X_train, y_train)\n",
        "\n",
        "# モデルを保存する\n",
        "filename = 'rd_model.sav'\n",
        "pickle.dump(ls, open(filename, 'wb'))\n",
        "\n",
        "y_pred = rd.predict(X_val)\n",
        "rd_mse = mean_squared_error(y_val, y_pred)\n",
        "print('RidgeRegressor RMSE: ', round(np.sqrt(rd_mse), 3))\n"
      ],
      "execution_count": 37,
      "outputs": [
        {
          "output_type": "stream",
          "text": [
            "RidgeRegressor RMSE:  0.013\n"
          ],
          "name": "stdout"
        }
      ]
    },
    {
      "cell_type": "code",
      "metadata": {
        "id": "8iYWdBRkfTGH",
        "colab_type": "code",
        "outputId": "7b2caec4-85a4-4b70-d525-ad1a900f6292",
        "colab": {
          "base_uri": "https://localhost:8080/",
          "height": 282
        }
      },
      "source": [
        "#分析3 ランダムフォレストの特徴量\n",
        "\n",
        "rf_importances = pd.DataFrame(rf.feature_importances_, columns=['importance'], index=feature_cols)\n",
        "rf_importances.sort_values('importance', ascending=False).iloc[0:15].plot(kind='barh')"
      ],
      "execution_count": 38,
      "outputs": [
        {
          "output_type": "execute_result",
          "data": {
            "text/plain": [
              "<matplotlib.axes._subplots.AxesSubplot at 0x7f3cb42d6c50>"
            ]
          },
          "metadata": {
            "tags": []
          },
          "execution_count": 38
        },
        {
          "output_type": "display_data",
          "data": {
            "image/png": "[encoded data removed]",
            "text/plain": [
              "<Figure size 432x288 with 1 Axes>"
            ]
          },
          "metadata": {
            "tags": [],
            "needs_background": "light"
          }
        }
      ]
    },
    {
      "cell_type": "code",
      "metadata": {
        "id": "_FrzHo3CfTGK",
        "colab_type": "code",
        "outputId": "67d87c09-d4e2-4a79-df0b-554bc0cc8fa6",
        "colab": {
          "base_uri": "https://localhost:8080/",
          "height": 85
        }
      },
      "source": [
        "#3つの分析の結果の比較\n",
        "\n",
        "print('線形回帰モデルのRMSE:    ', round(np.sqrt(lm_mse), 3))\n",
        "print('回帰木のRMSE:                  ', round(np.sqrt(dt_mse), 3))\n",
        "print('ランダムフォレストのRMSE: ', round(np.sqrt(rf_mse), 3))\n",
        "print('Lasso回帰のRMSE: ', round(np.sqrt(ls_mse), 3))"
      ],
      "execution_count": 39,
      "outputs": [
        {
          "output_type": "stream",
          "text": [
            "線形回帰モデルのRMSE:     0.021\n",
            "回帰木のRMSE:                   0.017\n",
            "ランダムフォレストのRMSE:  0.013\n",
            "Lasso回帰のRMSE:  0.013\n"
          ],
          "name": "stdout"
        }
      ]
    },
    {
      "cell_type": "code",
      "metadata": {
        "id": "6nAtZEWZfTGO",
        "colab_type": "code",
        "outputId": "01c738cc-5250-4b0b-c121-4939032a5b49",
        "colab": {
          "base_uri": "https://localhost:8080/",
          "height": 85
        }
      },
      "source": [
        "#分析4 ランダムフォレストのチューニング\n",
        "\n",
        "# クロスバリデーションとグリッドサーチ のライブラリ\n",
        "from sklearn.model_selection import GridSearchCV\n",
        "\n",
        "rf = RandomForestRegressor(random_state=1234)\n",
        "\n",
        "params = {'n_estimators': [10, 25, 50, 100], 'max_depth': [10, 20, 30, 50]}\n",
        "gscv = GridSearchCV(rf, param_grid=params, verbose=1, cv=3,\n",
        "                    scoring='neg_mean_squared_error', n_jobs=-1)\n",
        "gscv.fit(X_train, y_train)\n",
        "\n",
        "gscv.best_params_"
      ],
      "execution_count": 40,
      "outputs": [
        {
          "output_type": "stream",
          "text": [
            "Fitting 3 folds for each of 16 candidates, totalling 48 fits\n"
          ],
          "name": "stdout"
        },
        {
          "output_type": "stream",
          "text": [
            "[Parallel(n_jobs=-1)]: Using backend LokyBackend with 2 concurrent workers.\n",
            "[Parallel(n_jobs=-1)]: Done  48 out of  48 | elapsed:  2.2min finished\n"
          ],
          "name": "stderr"
        },
        {
          "output_type": "execute_result",
          "data": {
            "text/plain": [
              "{'max_depth': 20, 'n_estimators': 50}"
            ]
          },
          "metadata": {
            "tags": []
          },
          "execution_count": 40
        }
      ]
    },
    {
      "cell_type": "code",
      "metadata": {
        "id": "TAcxNPOffTGR",
        "colab_type": "code",
        "outputId": "97f6d1d2-4f09-4d21-fd15-9db1ddf82d4f",
        "colab": {
          "base_uri": "https://localhost:8080/",
          "height": 34
        }
      },
      "source": [
        "#分析4 ランダムフォレストのチューニング\n",
        "best_estimators = gscv.best_params_[\"n_estimators\"]\n",
        "best_depth = gscv.best_params_[\"max_depth\"]\n",
        "\n",
        "rf_best = RandomForestRegressor(n_estimators=best_estimators, max_depth=best_depth, random_state=1234)\n",
        "rf_best.fit(X_train, y_train)\n",
        "\n",
        "# モデルを保存する\n",
        "filename = 'rf_best_model.sav'\n",
        "pickle.dump(rf_best, open(filename, 'wb'))\n",
        "\n",
        "y_pred = rf_best.predict(X_val)\n",
        "rf_best_mse = mean_squared_error(y_val, y_pred)\n",
        "print('RandomForest RMSE: ', round(np.sqrt(rf_best_mse), 3))"
      ],
      "execution_count": 42,
      "outputs": [
        {
          "output_type": "stream",
          "text": [
            "RandomForest RMSE:  0.013\n"
          ],
          "name": "stdout"
        }
      ]
    },
    {
      "cell_type": "code",
      "metadata": {
        "id": "43P-uNhxfTGU",
        "colab_type": "code",
        "outputId": "03620b1c-2fec-4b9b-9e14-41bb5375d7a0",
        "colab": {
          "base_uri": "https://localhost:8080/",
          "height": 34
        }
      },
      "source": [
        "#分析5 チューニングしたモデルにテストデータを代入\n",
        "\n",
        "y_pred_on_test = rf_best.predict(X_test)\n",
        "rf_best_test_mse = mean_squared_error(y_test, y_pred_on_test)\n",
        "print('RandomForest RMSE: ', round(np.sqrt(rf_best_test_mse), 3))"
      ],
      "execution_count": 43,
      "outputs": [
        {
          "output_type": "stream",
          "text": [
            "RandomForest RMSE:  0.011\n"
          ],
          "name": "stdout"
        }
      ]
    },
    {
      "cell_type": "code",
      "metadata": {
        "id": "OXUicVllfTGc",
        "colab_type": "code",
        "outputId": "baaeb490-a6de-47fe-ef49-d3ecdc61ac89",
        "colab": {
          "base_uri": "https://localhost:8080/",
          "height": 618
        }
      },
      "source": [
        "#分析5 テストデータを代入\n",
        "#誤差を可視化\n",
        "\n",
        "plt.scatter(y_test, y_pred_on_test)\n",
        "plt.show()\n",
        "\n",
        "import seaborn as sns\n",
        "\n",
        "error_rate = (y_test - y_pred_on_test) / y_test\n",
        "print('Mean: ', round(np.mean(error_rate), 5))\n",
        "print('Std: ', round(np.std(error_rate), 5))\n",
        "sns.distplot(error_rate, kde=False, rug=False, bins=20)"
      ],
      "execution_count": 44,
      "outputs": [
        {
          "output_type": "display_data",
          "data": {
            "image/png": "[encoded data removed]",
            "text/plain": [
              "<Figure size 432x288 with 1 Axes>"
            ]
          },
          "metadata": {
            "tags": [],
            "needs_background": "light"
          }
        },
        {
          "output_type": "stream",
          "text": [
            "Mean:  1.30229\n",
            "Std:  2.91154\n"
          ],
          "name": "stdout"
        },
        {
          "output_type": "stream",
          "text": [
            "/usr/local/lib/python3.6/dist-packages/statsmodels/tools/_testing.py:19: FutureWarning: pandas.util.testing is deprecated. Use the functions in the public API at pandas.testing instead.\n",
            "  import pandas.util.testing as tm\n"
          ],
          "name": "stderr"
        },
        {
          "output_type": "execute_result",
          "data": {
            "text/plain": [
              "<matplotlib.axes._subplots.AxesSubplot at 0x7f3cb1864b38>"
            ]
          },
          "metadata": {
            "tags": []
          },
          "execution_count": 44
        },
        {
          "output_type": "display_data",
          "data": {
            "image/png": "[encoded data removed]",
            "text/plain": [
              "<Figure size 432x288 with 1 Axes>"
            ]
          },
          "metadata": {
            "tags": [],
            "needs_background": "light"
          }
        }
      ]
    },
    {
      "cell_type": "code",
      "metadata": {
        "id": "sGW47_XkfTGi",
        "colab_type": "code",
        "outputId": "09fc4654-4186-44ed-ac95-3214f00dd4d1",
        "colab": {
          "base_uri": "https://localhost:8080/",
          "height": 581
        }
      },
      "source": [
        "#分析6 クラスタリング\n",
        "#https://hironsan.hatenablog.com/entry/clustering-word-vectors\n",
        "\n",
        "from collections import defaultdict\n",
        "from gensim.models.keyedvectors import KeyedVectors\n",
        "from sklearn.cluster import KMeans\n",
        "\n",
        "model = KeyedVectors.load('skipgram_w2v.model')\n",
        "max_vocab = 30000\n",
        "vocab = list(model.wv.vocab.keys())[:max_vocab]\n",
        "vectors = [model.wv[word] for word in vocab]\n",
        "\n",
        "n_clusters = 30\n",
        "kmeans_model = KMeans(n_clusters=n_clusters, verbose=1, random_state=1234, n_jobs=-1)\n",
        "kmeans_model.fit(vectors)\n",
        "\n",
        "cluster_labels = kmeans_model.labels_\n",
        "cluster_to_words = defaultdict(list)\n",
        "for cluster_id, word in zip(cluster_labels, vocab):\n",
        "    cluster_to_words[cluster_id].append(word)\n",
        "\n",
        "for words in cluster_to_words.values():\n",
        "    print(words[:10])"
      ],
      "execution_count": 45,
      "outputs": [
        {
          "output_type": "stream",
          "text": [
            "/usr/local/lib/python3.6/dist-packages/smart_open/smart_open_lib.py:253: UserWarning: This function is deprecated, use smart_open.open instead. See the migration notes for details: https://github.com/RaRe-Technologies/smart_open/blob/master/README.rst#migrating-to-the-new-open-function\n",
            "  'See the migration notes for details: %s' % _MIGRATION_NOTES_URL\n"
          ],
          "name": "stderr"
        },
        {
          "output_type": "stream",
          "text": [
            "['trump', 'teamtrump', 'realdonaldtrump', '\\u2066', '\\u2069', 'potus', 'interview', 'marthamaccallum', 'joe', 'dbongino']\n",
            "['gets', 'totally', 'loser', 'thing', 'never', 'even', 'called', 'wonder', 'show', 'talking']\n",
            "['latest', 'fire', 'president', 'pandemic', 'hughhewitt', 'direction', 'strategy', 'may', 'line', 'significant']\n",
            "['poll', '6', 'best', '7', 'one', 'point', '8', 'days', 'history', 'gopchairwoman']\n",
            "['approval', 'republican', 'party', 'rating', 'overall', '95', '53', 'seats']\n",
            "['tied', 'using', '”', 'gave', 'cop', 'seems', 'bucksexton', 'responsible', 'general', 'tried']\n",
            "['governor', 'job', 'opponent', 'tom', 'jersey', 'kevin', 'state', 'brian', 'ryan', 'conservative']\n",
            "['michigan', 'night', 'great', '2020', 'incredible', 'wisconsin', 'proud', 'iowa', 'thank', 'supporting']\n",
            "['give', 'want', 'cryin', 'chuck', 'schumer', '’', 'aoc', 'enough', 'run', 'something']\n",
            "['little', 'put', 'given', 'others', 'would', 'else', 'spent', 'payments', 'already', 'come']\n",
            "['good', 'people', 'back', 'see', 'talk', 'make', 'amp', 'late', 'done', 'making']\n",
            "['angry', 'brought', 'dirty', 'whole', 'case', 'corruption', 'cops', 'mueller', 'crooked', 'scam']\n",
            "['lives', 'stand', 'leadership', 'act', 'america', 'ensure', 'americans', 'every', '—', 'chuckgrassley']\n",
            "['deal', 'dollars', '25', 'pay', 'goods', 'paying', 'powell', 'higher', 'countries', 'price']\n",
            "['senators', 'vote', 'voted', 'need', 'congress', 'tax', 'get', 'plan', 'care', 'votes']\n",
            "['home', 'states', 'testing', 'ventilators', 'middle', 'gm', 'production', 'supply', 'chinese', 'ultimately']\n",
            "['ny', 'cuomo', 'knows', 'supporters', 'special', 'mike', 'deep', 'drain', 'swamp', 'wow']\n",
            "['stop', 'border', 'funding', 'allow', 'necessary', 'open', 'must', 'immigration', 'human', 'agents']\n",
            "['false', 'media', 'fake', 'news', 'partner', 'cnn', 'msdnc', 'story', 'post', 'corrupt']\n",
            "['lied', 'fusion', 'fbi', 'investigation', 'knew', 'james', 'flynn', 'documents', 'director', 'christopher']\n",
            "['trillion', 'since', 'million', 'economic', 'highest', 'economy', '4', '21', 'numbers', 'low']\n",
            "['east', 'meeting', 'sanctions', 'putin', 'seeing', 'leaving', 'forward', 'monday', 'conversations', 'north']\n",
            "['mikepence', 'first', 'response', 'day', 'message', 'team', 'teachers', 'delivers', 'americas', 'received']\n",
            "['authority', 'rep', 'jimjordan', 'speaker', 'pelosi', 'refuses', 'house', 'th', 'repandybiggsaz', 'gopleader']\n",
            "['defense', 'careful', 'w', 'navy', 'officials', 'closely', 'wonderful', 'advisor', 'advice', 'loved']\n",
            "['farmers', 'ranchers', 'cut', 'small', 'business', 'parts', 'plants', 'infrastructure', 'coming', 'thousands']\n",
            "['honor', 'nation', 'freedom', 'birthday', 'grateful', 'enforcement', 'love', 'god', 'prayers', 'families']\n",
            "['whitehouse', 'live', 'remarks', 'met', 'morning', 'oval', '45', 'conference', 'white', 'press']\n",
            "['military', 'vets', 'fighter', 'supports', 'loves', 'strong', 'crime', 'second', 'amendment', 'complete']\n",
            "['ं', 'ी', 'क', 'े', '्', 'र', 'ा', 'ि', 'म', 'ह']\n"
          ],
          "name": "stdout"
        }
      ]
    },
    {
      "cell_type": "code",
      "metadata": {
        "id": "Fu0b2E73mdhz",
        "colab_type": "code",
        "outputId": "618e1ee5-b76e-43a2-e2a4-0db2b48bd62d",
        "colab": {
          "base_uri": "https://localhost:8080/",
          "height": 466
        }
      },
      "source": [
        "#分析7 似ている単語をプロット\n",
        "# https://yoshipc.net/python-word2vec/\n",
        " \n",
        "from gensim.models import word2vec\n",
        "import numpy as np\n",
        "import matplotlib.pyplot as plt\n",
        "from sklearn.decomposition import PCA\n",
        " \n",
        "model = word2vec.Word2Vec.load(\"/content/skipgram_w2v.model\")\n",
        " \n",
        "#調べる情報を配列に収納\n",
        "trump_word = []\n",
        "trump_word.append([\"america\",\"china\"])\n",
        "trump_word.append([\"america\",\"great\"])\n",
        "trump_word.append([\"america\",\"japan\"])\n",
        "trump_word.append([\"trump\",\"president\"])\n",
        "trump_word.append([\"coronavirus\",\"covid\"])\n",
        "trump_word.append([\"coronavirus\",\"economy\"])\n",
        "trump_word.append([\"stock\",\"economy\"])\n",
        "\n",
        "length = len(trump_word)\n",
        "data = []\n",
        " \n",
        "j = 0\n",
        "while j < length:\n",
        "    #print(trump_word[j][1])\n",
        "    data.append(model[trump_word[j][0]])\n",
        "    data.append(model[trump_word[j][1]])\n",
        "    j += 1\n",
        " \n",
        "pca = PCA(n_components=2)\n",
        "pca.fit(data)\n",
        "data_pca= pca.transform(data)\n",
        " \n",
        "length_data = len(data_pca)\n",
        " \n",
        "i = 0\n",
        "j = 0\n",
        "\n",
        "plt.figure(figsize=(2.4, 1.8), dpi=200)\n",
        "\n",
        "while i < length_data:\n",
        "    #点プロット\n",
        "    plt.plot(data_pca[i][0], data_pca[i][1], ms=5.0, zorder=2 ,marker=\"x\")\n",
        "    plt.plot(data_pca[i+1][0], data_pca[i+1][1],ms=5.0, zorder=2 ,marker=\"x\")\n",
        " \n",
        "    #線プロット\n",
        "    plt.plot((data_pca[i][0], data_pca[i+1][0]),(data_pca[i][1],data_pca[i+1][1]),c=\"b\",linewidth=0.5,zorder=1,linestyle=\"--\")\n",
        " \n",
        "    #文字プロット\n",
        "    plt.annotate(trump_word[j][0],(data_pca[i][0], data_pca[i][1]),size=7)\n",
        "    plt.annotate(trump_word[j][1],(data_pca[i+1][0], data_pca[i+1][1]),size=7)\n",
        " \n",
        "    j += 1\n",
        "    i += 2\n",
        " \n",
        "plt.show()"
      ],
      "execution_count": 46,
      "outputs": [
        {
          "output_type": "stream",
          "text": [
            "/usr/local/lib/python3.6/dist-packages/smart_open/smart_open_lib.py:253: UserWarning: This function is deprecated, use smart_open.open instead. See the migration notes for details: https://github.com/RaRe-Technologies/smart_open/blob/master/README.rst#migrating-to-the-new-open-function\n",
            "  'See the migration notes for details: %s' % _MIGRATION_NOTES_URL\n",
            "/usr/local/lib/python3.6/dist-packages/ipykernel_launcher.py:27: DeprecationWarning: Call to deprecated `__getitem__` (Method will be removed in 4.0.0, use self.wv.__getitem__() instead).\n",
            "/usr/local/lib/python3.6/dist-packages/ipykernel_launcher.py:28: DeprecationWarning: Call to deprecated `__getitem__` (Method will be removed in 4.0.0, use self.wv.__getitem__() instead).\n"
          ],
          "name": "stderr"
        },
        {
          "output_type": "display_data",
          "data": {
            "image/png": "[encoded data removed]",
            "text/plain": [
              "<Figure size 480x360 with 1 Axes>"
            ]
          },
          "metadata": {
            "tags": [],
            "needs_background": "light"
          }
        }
      ]
    },
    {
      "cell_type": "code",
      "metadata": {
        "id": "zXq4SYqwp5Xu",
        "colab_type": "code",
        "colab": {}
      },
      "source": [
        "#分析8 DeepLearning\n",
        "#ライブラリをインポート\n",
        "\n",
        "import numpy as np\n",
        "import pandas as pd\n",
        "import torch\n",
        "from torch import nn\n",
        "from torch import optim\n",
        "import torch.nn.functional as F\n",
        "from torch.utils.data import DataLoader, TensorDataset\n",
        "from sklearn.model_selection import train_test_split\n",
        "from sklearn.metrics import confusion_matrix\n",
        "import matplotlib.pyplot as plt"
      ],
      "execution_count": 0,
      "outputs": []
    },
    {
      "cell_type": "code",
      "metadata": {
        "id": "4uecjMVBTBij",
        "colab_type": "code",
        "colab": {}
      },
      "source": [
        "class myMLP(nn.Module):\n",
        "    def __init__(self, in_features, out_features):\n",
        "        super().__init__()\n",
        "        self.ln1 = nn.Linear(in_features, 64)\n",
        "        self.ln2 = nn.Linear(64, 16)\n",
        "        self.ln3 = nn.Linear(16, 4)\n",
        "        self.ln4 = nn.Linear(4, out_features)\n",
        "\n",
        "    def forward(self, x):\n",
        "        x = self.ln1(x)\n",
        "        x = F.relu(x)\n",
        "        x = self.ln2(x)\n",
        "        x = F.relu(x)\n",
        "        x = self.ln3(x)\n",
        "        x = F.relu(x)\n",
        "        x = self.ln4(x)\n",
        "        \n",
        "        return x"
      ],
      "execution_count": 0,
      "outputs": []
    },
    {
      "cell_type": "code",
      "metadata": {
        "id": "_qwTPkn83jED",
        "colab_type": "code",
        "outputId": "dcf968d9-7e53-403c-c7f3-caba6f16e374",
        "colab": {
          "base_uri": "https://localhost:8080/",
          "height": 404
        }
      },
      "source": [
        "#分析8 DeepLearning\n",
        "# NumPyのarryをtorch.tensor型に変換する。\n",
        "\n",
        "X_train, X_test, y_train, y_test = train_test_split(\n",
        "    X, y, test_size=0.2, random_state=1234)\n",
        "\n",
        "X_train_tensor = torch.tensor(X_train, dtype=torch.float32)\n",
        "y_train_tensor = torch.tensor(y_train, dtype=torch.float32)\n",
        "X_test_tensor = torch.tensor(X_test, dtype=torch.float32)\n",
        "y_test_tensor = torch.tensor(y_test, dtype=torch.float32)\n",
        "\n",
        "train_dataset = TensorDataset(X_train_tensor, y_train_tensor)\n",
        "train_loader = DataLoader(train_dataset, batch_size=100, shuffle=True)\n",
        "\n",
        "#ネットワークを書く\n",
        "net = myMLP(305,1)\n",
        "net.parameters\n",
        "\n",
        "#目的関数を指定（今回は回帰問題のためMSELoss()を使用する）\n",
        "#https://pytorch.org/docs/stable/nn.html#loss-functions\n",
        "loss_func = nn.MSELoss()\n",
        "#Optimizerを定義する\n",
        "#https://pytorch.org/docs/stable/optim.html\n",
        "optimizer = optim.RMSprop(net.parameters())\n",
        "  \n",
        "train_loss_track = []\n",
        "test_loss_track = []\n",
        "\n",
        "for epoc in range(10):\n",
        "    running_loss = 0\n",
        "    \n",
        "    # 学習モード\n",
        "    net.train()\n",
        "    for step, (xx, yy)  in enumerate(train_loader):\n",
        "        \n",
        "        # 最後に計算した各パラメーターの勾配を初期化する\n",
        "        optimizer.zero_grad()\n",
        "        \n",
        "        # フォワード計算を行う\n",
        "        y_pred = net(xx).float()\n",
        "        \n",
        "        # 誤差関数を使ってギャップの計測\n",
        "        loss = loss_func(y_pred, yy)\n",
        "      \n",
        "        # 誤差逆伝播法を使って自動微分\n",
        "        loss.backward()\n",
        "        \n",
        "        # パラメーターを更新\n",
        "        optimizer.step()\n",
        "        \n",
        "        # 学習データを使って誤差を計算\n",
        "        running_loss += loss.item()\n",
        "        \n",
        "    # エポックが終了したら平均誤差を計算\n",
        "    train_loss_track.append(running_loss/step)\n",
        "    \n",
        "    \n",
        "    #評価（evaluation）モード\n",
        "    net.eval()\n",
        "    \n",
        "    # 予測値を計算\n",
        "    y_pred = net(X_test_tensor)\n",
        "    \n",
        "    # 誤差関数を計算\n",
        "    test_loss = loss_func(y_pred, y_test_tensor)\n",
        "    \n",
        "    # 誤差をトラッキング\n",
        "    test_loss_track.append(test_loss)\n",
        "\n",
        "\n",
        "\n",
        "plt.plot(train_loss_track)\n",
        "plt.plot(test_loss_track)\n",
        "print(\"test_loss: \",sum(test_loss_track)/len(test_loss_track))"
      ],
      "execution_count": 49,
      "outputs": [
        {
          "output_type": "stream",
          "text": [
            "/usr/local/lib/python3.6/dist-packages/torch/nn/modules/loss.py:432: UserWarning: Using a target size (torch.Size([100])) that is different to the input size (torch.Size([100, 1])). This will likely lead to incorrect results due to broadcasting. Please ensure they have the same size.\n",
            "  return F.mse_loss(input, target, reduction=self.reduction)\n",
            "/usr/local/lib/python3.6/dist-packages/torch/nn/modules/loss.py:432: UserWarning: Using a target size (torch.Size([57])) that is different to the input size (torch.Size([57, 1])). This will likely lead to incorrect results due to broadcasting. Please ensure they have the same size.\n",
            "  return F.mse_loss(input, target, reduction=self.reduction)\n",
            "/usr/local/lib/python3.6/dist-packages/torch/nn/modules/loss.py:432: UserWarning: Using a target size (torch.Size([165])) that is different to the input size (torch.Size([165, 1])). This will likely lead to incorrect results due to broadcasting. Please ensure they have the same size.\n",
            "  return F.mse_loss(input, target, reduction=self.reduction)\n"
          ],
          "name": "stderr"
        },
        {
          "output_type": "stream",
          "text": [
            "test_loss:  tensor(0.0001, grad_fn=<DivBackward0>)\n"
          ],
          "name": "stdout"
        },
        {
          "output_type": "display_data",
          "data": {
            "image/png": "[encoded data removed]",
            "text/plain": [
              "<Figure size 432x288 with 1 Axes>"
            ]
          },
          "metadata": {
            "tags": [],
            "needs_background": "light"
          }
        }
      ]
    },
    {
      "cell_type": "code",
      "metadata": {
        "id": "Zs3RyM14_Was",
        "colab_type": "code",
        "outputId": "75471813-6453-42cd-e38d-12cfa4fc979f",
        "colab": {
          "base_uri": "https://localhost:8080/",
          "height": 537
        }
      },
      "source": [
        "#分析9　TFIDFを用いたランダムフォレスト\n",
        "\n",
        "#形態素解析のデータセットを作る\n",
        "#https://qiita.com/tomone_hata/items/67e7f9415dbf5c8ff8ba\n",
        "\n",
        "from sklearn.feature_extraction.text import CountVectorizer, TfidfTransformer\n",
        "\n",
        "#形態素解析のデータセットを作る\n",
        "#文章を全部１つのリストに入れる→TFIDFを作る→それぞれの日付に出てくる単語をKeyにTFIDFの値を取ってくる\n",
        "\n",
        "data_keitaiso = pd.read_csv(\"s&p_tweets.csv\")\n",
        "tweet_keitaiso=[]\n",
        "\n",
        "for tweet in data_keitaiso[\"text\"]:\n",
        "  tweet = re.sub(r'^RT[\\s]+', '', tweet)\n",
        "  tweet = re.sub(r'(http|https):\\/\\/.*[\\r\\n]*', '', tweet)\n",
        "  tweet = re.sub(r'#', '', tweet)\n",
        "  tweet = tweet.translate(str.maketrans('', '', string.punctuation)) \n",
        "  tweet_keitaiso.append(tweet)\n",
        "\n",
        "corpus = tweet_keitaiso         \n",
        "cv = CountVectorizer(token_pattern=r\"\\b\\w+\\b\")\n",
        "wc = cv.fit_transform(corpus)\n",
        "ttf = TfidfTransformer()\n",
        "tfidf = ttf.fit_transform(wc)\n",
        "\n",
        "#蜜行列に変更する\n",
        "X_tfidf = tfidf.toarray()\n",
        "\n",
        "data3 = pd.DataFrame(X_tfidf)\n",
        "df_tweets_tfidf =  pd.concat([data_keitaiso, data3], axis=1)\n",
        "\n",
        "df = df_tweets_tfidf.groupby([\"date\"]).mean()\n",
        "df_sp = pd.read_csv(\"/content/sp500-10-year-daily-chart.csv\")\n",
        "df_sp[\"log\"] = np.log(df_sp[\" value\"])\n",
        "df_sp[\"dif_log\"] = df_sp[\"log\"].diff()\n",
        "df2=pd.merge(df_sp, df, how=\"inner\" ,on=\"date\")\n",
        "df2 = df2.drop(\" value\", axis=1)\n",
        "df3 = df_tweets_tfidf[[\"date\",\"text\"]]\n",
        "df3 = df3.groupby([\"date\"]).count()\n",
        "df_tfidf = pd.merge( df3, df2, how=\"inner\" ,on=\"date\")\n",
        "df_tfidf['day_of_week'] = pd.to_datetime(df_tfidf['date']).dt.day_name()\n",
        "df_tfidf[\"date\"] = pd.to_datetime(df4['date']).astype('int64')\n",
        "\n",
        "dummy_df = pd.get_dummies(df_tfidf[['day_of_week']], drop_first = False) \n",
        "df_tfidf = pd.merge(df_tfidf, dummy_df, left_index=True, right_index=True)\n",
        "\n",
        "from sklearn.model_selection import train_test_split\n",
        "\n",
        "target_col = 'dif_log'\n",
        "exclude_cols = ['log', 'price', 'dif_log', \"date\",\"text\",\"day_of_week\"]\n",
        "feature_cols = []\n",
        "for col in df_tfidf.columns:\n",
        "    if col not in exclude_cols:\n",
        "        feature_cols.append(col)\n",
        "        \n",
        "X2 = np.array(df_tfidf[feature_cols])\n",
        "y2 = np.array(df_tfidf[target_col])\n",
        "\n",
        "X２_train_val, X２_test, y２_train_val, y２_test = train_test_split(\n",
        "    X２, y２, test_size=0.1, random_state=1234)\n",
        "\n",
        "X２_train, X２_val, y２_train, y２_val = train_test_split(\n",
        "    X２_train_val, y２_train_val, test_size=0.1, random_state=1234)\n",
        "\n",
        "#分析\n",
        "from sklearn.ensemble import RandomForestRegressor\n",
        "\n",
        "rf = RandomForestRegressor(n_estimators=100, random_state=1234)\n",
        "rf.fit(X２_train, y２_train)\n",
        "\n",
        "filename = 'rf_TFIDF_model.sav'\n",
        "pickle.dump(rf, open(filename, 'wb'))\n",
        "\n",
        "y２_pred = rf.predict(X２_val)\n",
        "rf_mse_2 = mean_squared_error(y２_val, y２_pred)\n",
        "print('RandomForestRegressor RMSE: ', round(np.sqrt(rf_mse_2), 3))\n",
        "\n",
        "#プロット\n",
        "rf_importances = pd.DataFrame(rf.feature_importances_, columns=['importance'], index=feature_cols)\n",
        "rf_importances.sort_values('importance', ascending=False).iloc[0:15].plot(kind='barh')\n",
        "\n",
        "#列名をゲット\n",
        "#https://note.nkmk.me/python-dict-get-key-from-value/\n",
        "\n",
        "voca = cv.vocabulary_\n",
        "\n",
        "def get_keys_from_value(d, val):\n",
        "    return [k for k, v in d.items() if v == val]\n",
        "\n",
        "for i in rf_importances.sort_values('importance', ascending=False).iloc[0:15].index:\n",
        "  keys = get_keys_from_value(voca, i)\n",
        "  print(keys)\n",
        "# ['key1', 'key2']"
      ],
      "execution_count": 51,
      "outputs": [
        {
          "output_type": "stream",
          "text": [
            "RandomForestRegressor RMSE:  0.016\n",
            "['confident']\n",
            "['coronavirus']\n",
            "['declare']\n",
            "['nationwide']\n",
            "['duly']\n",
            "['spreading']\n",
            "['covid19']\n",
            "['cutter']\n",
            "['545']\n",
            "['outbreak']\n",
            "['practice']\n",
            "['prevail']\n",
            "['billcassidy']\n",
            "['restaurants']\n",
            "['powerfully']\n"
          ],
          "name": "stdout"
        },
        {
          "output_type": "display_data",
          "data": {
            "image/png": "[encoded data removed]",
            "text/plain": [
              "<Figure size 432x288 with 1 Axes>"
            ]
          },
          "metadata": {
            "tags": [],
            "needs_background": "light"
          }
        }
      ]
    },
    {
      "cell_type": "code",
      "metadata": {
        "id": "3fRvcdNFclQU",
        "colab_type": "code",
        "outputId": "368ade4d-ae94-48eb-b113-2d2e93610e06",
        "colab": {
          "base_uri": "https://localhost:8080/",
          "height": 404
        }
      },
      "source": [
        "#分析10　形態素解析でDeepLearning\n",
        "\n",
        "X2_train, X2_test, y2_train, y2_test = train_test_split(\n",
        "    X２, y2, test_size=0.2, random_state=1234)\n",
        "\n",
        "X2_train_tensor = torch.tensor(X2_train, dtype=torch.float32)\n",
        "y2_train_tensor = torch.tensor(y2_train, dtype=torch.float32)\n",
        "X2_test_tensor = torch.tensor(X2_test, dtype=torch.float32)\n",
        "y2_test_tensor = torch.tensor(y2_test, dtype=torch.float32)\n",
        "\n",
        "train2_dataset = TensorDataset(X2_train_tensor, y2_train_tensor)\n",
        "train2_loader = DataLoader(train2_dataset, batch_size=100, shuffle=True)\n",
        "\n",
        "#ネットワークを書く\n",
        "net = myMLP(16498,1)\n",
        "net.parameters\n",
        "\n",
        "#目的関数を指定（今回は回帰問題のためMSELoss()を使用する）\n",
        "#https://pytorch.org/docs/stable/nn.html#loss-functions\n",
        "loss_func = nn.MSELoss()\n",
        "#Optimizerを定義する\n",
        "#https://pytorch.org/docs/stable/optim.html\n",
        "optimizer = optim.RMSprop(net.parameters())\n",
        "  \n",
        "train_loss_track = []\n",
        "test_loss_track = []\n",
        "\n",
        "for epoc in range(10):\n",
        "    running_loss = 0\n",
        "    \n",
        "    # 学習モード\n",
        "    net.train()\n",
        "    for step, (xx, yy)  in enumerate(train2_loader):\n",
        "        \n",
        "        # 最後に計算した各パラメーターの勾配を初期化する\n",
        "        optimizer.zero_grad()\n",
        "        \n",
        "        # フォワード計算を行う\n",
        "        y_pred = net(xx).float()\n",
        "        \n",
        "        # 誤差関数を使ってギャップの計測\n",
        "        loss = loss_func(y_pred, yy)\n",
        "      \n",
        "        # 誤差逆伝播法を使って自動微分\n",
        "        loss.backward()\n",
        "        \n",
        "        # パラメーターを更新\n",
        "        optimizer.step()\n",
        "        \n",
        "        # 学習データを使って誤差を計算\n",
        "        running_loss += loss.item()\n",
        "        \n",
        "    # エポックが終了したら平均誤差を計算\n",
        "    train_loss_track.append(running_loss/step)\n",
        "    \n",
        "    \n",
        "    #評価（evaluation）モード\n",
        "    net.eval()\n",
        "    \n",
        "    # 予測値を計算\n",
        "    y_pred = net(X2_test_tensor)\n",
        "    \n",
        "    # 誤差関数を計算\n",
        "    test_loss = loss_func(y_pred, y2_test_tensor)\n",
        "    \n",
        "    # 誤差をトラッキング\n",
        "    test_loss_track.append(test_loss)\n",
        "\n",
        "\n",
        "\n",
        "plt.plot(train_loss_track)\n",
        "plt.plot(test_loss_track)\n",
        "print(\"test_loss: \",sum(test_loss_track)/len(test_loss_track))"
      ],
      "execution_count": 52,
      "outputs": [
        {
          "output_type": "stream",
          "text": [
            "/usr/local/lib/python3.6/dist-packages/torch/nn/modules/loss.py:432: UserWarning: Using a target size (torch.Size([100])) that is different to the input size (torch.Size([100, 1])). This will likely lead to incorrect results due to broadcasting. Please ensure they have the same size.\n",
            "  return F.mse_loss(input, target, reduction=self.reduction)\n",
            "/usr/local/lib/python3.6/dist-packages/torch/nn/modules/loss.py:432: UserWarning: Using a target size (torch.Size([57])) that is different to the input size (torch.Size([57, 1])). This will likely lead to incorrect results due to broadcasting. Please ensure they have the same size.\n",
            "  return F.mse_loss(input, target, reduction=self.reduction)\n",
            "/usr/local/lib/python3.6/dist-packages/torch/nn/modules/loss.py:432: UserWarning: Using a target size (torch.Size([165])) that is different to the input size (torch.Size([165, 1])). This will likely lead to incorrect results due to broadcasting. Please ensure they have the same size.\n",
            "  return F.mse_loss(input, target, reduction=self.reduction)\n"
          ],
          "name": "stderr"
        },
        {
          "output_type": "stream",
          "text": [
            "test_loss:  tensor(0.0010, grad_fn=<DivBackward0>)\n"
          ],
          "name": "stdout"
        },
        {
          "output_type": "display_data",
          "data": {
            "image/png": "[encoded data removed]",
            "text/plain": [
              "<Figure size 432x288 with 1 Axes>"
            ]
          },
          "metadata": {
            "tags": [],
            "needs_background": "light"
          }
        }
      ]
    },
    {
      "cell_type": "code",
      "metadata": {
        "id": "bUApNSsf5GmF",
        "colab_type": "code",
        "outputId": "254544fe-7017-4ef3-ac92-65cdb99ffbd8",
        "colab": {
          "base_uri": "https://localhost:8080/",
          "height": 85
        }
      },
      "source": [
        "#分析11 アンサンブル学習\n",
        "# https://blog.ikedaosushi.com/entry/2018/10/21/204842?t=0\n",
        "\n",
        "random_state = 1234\n",
        "\n",
        "X_train_valid, X_meta_valid, y_train_valid, y_meta_valid = train_test_split(X, y, test_size=0.1, random_state=random_state)\n",
        "X_train, X_valid, y_train, y_valid = train_test_split(X_train_valid, y_train_valid, test_size=0.1, random_state=random_state)\n",
        "\n",
        "import lightgbm as lgb\n",
        "import sklearn\n",
        "from sklearn.linear_model import LinearRegression\n",
        "from sklearn.model_selection import train_test_split\n",
        "from sklearn.metrics import mean_squared_error\n",
        "from sklearn.neighbors import KNeighborsRegressor\n",
        "from lightgbm import LGBMRegressor\n",
        "\n",
        "# train base model\n",
        "base_model_1 = LinearRegression()\n",
        "base_model_2 = LGBMRegressor()\n",
        "base_model_3 = KNeighborsRegressor()\n",
        "\n",
        "base_model_1.fit(X_train, y_train)\n",
        "base_model_2.fit(X_train, y_train)\n",
        "base_model_3.fit(X_train, y_train)\n",
        "\n",
        "# base predicts\n",
        "base_pred_1 = base_model_1.predict(X_valid)\n",
        "base_pred_2 = base_model_2.predict(X_valid)\n",
        "base_pred_3 = base_model_3.predict(X_valid)\n",
        "\n",
        "# test predicts for final result \n",
        "valid_pred_1 = base_model_1.predict(X_meta_valid)\n",
        "valid_pred_2 = base_model_2.predict(X_meta_valid)\n",
        "valid_pred_3 = base_model_3.predict(X_meta_valid)\n",
        "\n",
        "print (\"mean squared error of model 1: {:.4f}\".format(mean_squared_error(y_meta_valid, valid_pred_1)) )\n",
        "print (\"mean squared error of model 2: {:.4f}\".format(mean_squared_error(y_meta_valid, valid_pred_2)) )\n",
        "print (\"mean squared error of model 3: {:.4f}\".format(mean_squared_error(y_meta_valid, valid_pred_3)) )\n",
        "\n",
        "# stack base predicts for training meta model\n",
        "stacked_predictions = np.column_stack((base_pred_1, base_pred_2, base_pred_3))\n",
        "\n",
        "# stack test predicts for final result \n",
        "stacked_valid_predictions = np.column_stack((valid_pred_1, valid_pred_2, valid_pred_3))\n",
        "\n",
        "# train meta model \n",
        "meta_model = LinearRegression()\n",
        "meta_model.fit(stacked_predictions, y_valid)\n",
        "\n",
        "filename = 'meta_model.sav'\n",
        "pickle.dump(meta_model, open(filename, 'wb'))\n",
        "\n",
        "# final result \n",
        "meta_valid_pred = meta_model.predict(stacked_valid_predictions)\n",
        "print (\"mean squared error of meta model: {:.4f}\".format(mean_squared_error(y_meta_valid, meta_valid_pred)) )\n"
      ],
      "execution_count": 53,
      "outputs": [
        {
          "output_type": "stream",
          "text": [
            "mean squared error of model 1: 0.0003\n",
            "mean squared error of model 2: 0.0001\n",
            "mean squared error of model 3: 0.0002\n",
            "mean squared error of meta model: 0.0001\n"
          ],
          "name": "stdout"
        }
      ]
    },
    {
      "cell_type": "code",
      "metadata": {
        "id": "_eM6TLljmqYN",
        "colab_type": "code",
        "colab": {
          "base_uri": "https://localhost:8080/",
          "height": 122
        },
        "outputId": "b6e4d14e-819c-4563-f9f4-24bf7abcf72a"
      },
      "source": [
        "f = open('/content/trump_test.txt', 'r')\n",
        "text = f.read()\n",
        "mylist = literal_eval(text)\n",
        "\n",
        "df_text=[]\n",
        "df_created_at=[]\n",
        "df_id_str=[]\n",
        "\n",
        "for i in range(len(mylist)):\n",
        "    text = mylist[i][\"text\"]\n",
        "    created_at = mylist[i][\"created_at\"]\n",
        "    id_str = mylist[i][\"id_str\"]\n",
        "    df_text.append(text)\n",
        "    df_created_at.append(created_at)\n",
        "    df_id_str.append(id_str)\n",
        "\n",
        "tweet_list=[df_created_at,df_id_str,df_text]\n",
        "\n",
        "columns1=[\"created_at\"]\n",
        "tweet_data = pd.DataFrame( data = df_created_at, columns = columns1)\n",
        "tweet_data[\"id\"]=df_id_str\n",
        "tweet_data[\"text\"] = df_text\n",
        "\n",
        "tweet_data[\"time_created_at\"] = pd.to_datetime(tweet_data['created_at'])\n",
        "tweet_data[\"date_created_at\"] = tweet_data[\"time_created_at\"].dt.date\n",
        "tweet_data[\"key\"]=pd.to_datetime(tweet_data[\"date_created_at\"])\n",
        "\n",
        "sp_data = pd.read_csv('/content/sp500-10-year-daily-chart.csv')\n",
        "sp_data[\"date_64\"] = pd.to_datetime(sp_data[\"date\"])\n",
        "sp_data[\"key\"] =sp_data[\"date_64\"] \n",
        "\n",
        "tweet_data=pd.merge(tweet_data, sp_data)\n",
        "tweet_data.columns\n",
        "data = tweet_data[[\"key\",\" value\",\"text\"]]\n",
        "\n",
        "#行の名前を変更する　20200505\n",
        "data = data.rename(columns={\"key\": \"date\",\" value\":\"price\"})\n",
        "data.head()\n",
        "\n",
        "import datetime as dt\n",
        "data2 = data[(data['date'] >= dt.datetime(2019,5,1)) & (data['date'] <= dt.datetime(2022,5,31))]\n",
        "print( \"2020/05/02 - 2020/05/31のツイート数は\", len(data2))\n",
        "data2.to_csv(\"s&p_tweets_test.csv\", index=False, mode='a', header=True)\n",
        "\n",
        "data = pd.read_csv(\"s&p_tweets_test.csv\")\n",
        "print( len(data),\"tweets\")\n",
        "\n",
        "import re\n",
        "import string\n",
        "\n",
        "stemmer = nltk.stem.PorterStemmer()\n",
        "punctuations = string.punctuation\n",
        "all_tweets_clean = []\n",
        "\n",
        "#Tweet毎にリスト形式で保存するための加工\n",
        "result=[]\n",
        "\n",
        "for tweet in data[\"text\"]:\n",
        "    # RTから始まる部分を取り除く。\n",
        "    tweet = re.sub(r'^RT[\\s]+', '', tweet)\n",
        "    # リンクを取り除く。\n",
        "    tweet = re.sub(r'(http|https):\\/\\/.*[\\r\\n]*', '', tweet)\n",
        "    # ハッシュタグを取り除く。\n",
        "    tweet = re.sub(r'#', '', tweet)\n",
        "    # 句読点の削除\n",
        "    tweet = tweet.translate(str.maketrans('', '', string.punctuation)) \n",
        "    # 単語に分解する。\n",
        "    tokenizer = nltk.tokenize.TweetTokenizer(preserve_case=False, strip_handles=True, reduce_len=True)\n",
        "    tweet_tokens = tokenizer.tokenize(tweet)\n",
        "    result.append(tweet_tokens)\n",
        "    \n",
        "stopwords = nltk.corpus.stopwords.words('english')\n",
        "stop_words = [\"→\", \"←\", \"?\", \"」\", \"「\",\"(\",\")\",\"!\",\".\",\",\",\"&\",\"…\",\"%\",\":\",\";\",\"“\"]\n",
        "stopwords += stop_words\n",
        "\n",
        "#print(stopwords)\n",
        "\n",
        "result_2=[]\n",
        "result_3=[]\n",
        "for i in range(len(result)):\n",
        "    for word in result[i]:\n",
        "        if word not in stopwords:\n",
        "            result_2.append(word)\n",
        "    result_3.append(result_2)\n",
        "    result_2=[]\n",
        "\n",
        "from gensim.models import word2vec\n",
        "skipgram_model = word2vec.Word2Vec.load(\"/content/skipgram_w2v.model\")\n",
        "\n",
        "num_features = 300\n",
        "\n",
        "\n",
        "def avg_document_vector(data, num_features):\n",
        "    document_vec = np.zeros((len(data), num_features))\n",
        "    for i, doc_word_list in enumerate(data):\n",
        "        feature_vec = np.zeros((num_features,), dtype=\"float32\")\n",
        "        for word in doc_word_list:\n",
        "            try:\n",
        "                feature_vec = np.add(\n",
        "                    feature_vec, skipgram_model.wv.__getitem__(word))\n",
        "            except:\n",
        "                pass\n",
        "\n",
        "        feature_vec = np.divide(feature_vec, len(doc_word_list))\n",
        "        document_vec[i] = feature_vec\n",
        "    return document_vec\n",
        "\n",
        "sentences = result_3\n",
        "sentences[0]\n",
        "\n",
        "X = avg_document_vector(data=sentences, num_features=300)\n",
        "X.shape\n",
        "\n",
        "\n",
        "data2 = pd.DataFrame(X)\n",
        "df_tweets_word2vec =  pd.concat([data, data2], axis=1)\n",
        "\n",
        "df_tweets_word2vec.to_csv(\"price_tweets_vector.csv\", index=False)\n",
        "\n",
        "#ツイートのベクトルを1日毎に平均にする（1日10ツイートだった場合ベクトルと足し合わせ10で割る）\n",
        "# groupby #https://qiita.com/propella/items/a9a32b878c77222630ae\n",
        "df = df_tweets_word2vec.groupby([\"date\"]).mean()\n",
        "\n",
        "\n",
        "# targetのcolである変化率（\"price\"の差分対数行列）をdateをKeyに内部結合する\n",
        "df_sp = pd.read_csv(\"/content/sp500-10-year-daily-chart.csv\")\n",
        "\n",
        "# 時系列データの差分を求める\n",
        "\n",
        "# \" value\"の行を対数化\n",
        "# https://www.sejuku.net/blog/70027\n",
        "df_sp[\"log\"] = np.log(df_sp[\" value\"])\n",
        "\n",
        "# \"log\"の1日前との差を取って、差分対数の列を作成\n",
        "# https://note.nkmk.me/python-pandas-diff-pct-change/\n",
        "df_sp[\"dif_log\"] = df_sp[\"log\"].diff()\n",
        "\n",
        "#内部結合\n",
        "df2=pd.merge(df_sp, df, how=\"inner\" ,on=\"date\")\n",
        "df2 = df2.drop(\" value\", axis=1)\n",
        "\n",
        "# groupbyを使って1日のツイート数も特徴量に加える\n",
        "# https://deepage.net/features/pandas-count.html\n",
        "df3 = df_tweets_word2vec[[\"date\",\"text\"]]\n",
        "df3 = df3.groupby([\"date\"]).count()\n",
        "\n",
        "#内部結合\n",
        "df4 = pd.merge( df3, df2, how=\"inner\" ,on=\"date\")\n",
        "\n",
        "#曜日を取得\n",
        "df4['day_of_week'] = pd.to_datetime(df4['date']).dt.day_name()\n",
        "\n",
        "date_for_result = df4[\"date\"]\n",
        "\n",
        "#日付データの形を変える\n",
        "df4[\"date\"] = pd.to_datetime(df4['date']).astype('int64')\n",
        "\n",
        "\n",
        "dummy_df = pd.get_dummies(df4[['day_of_week']], drop_first = False) \n",
        "df4 = pd.merge(df4, dummy_df, left_index=True, right_index=True)"
      ],
      "execution_count": 54,
      "outputs": [
        {
          "output_type": "stream",
          "text": [
            "2020/05/02 - 2020/05/31のツイート数は 620\n",
            "620 tweets\n"
          ],
          "name": "stdout"
        },
        {
          "output_type": "stream",
          "text": [
            "/usr/local/lib/python3.6/dist-packages/smart_open/smart_open_lib.py:253: UserWarning: This function is deprecated, use smart_open.open instead. See the migration notes for details: https://github.com/RaRe-Technologies/smart_open/blob/master/README.rst#migrating-to-the-new-open-function\n",
            "  'See the migration notes for details: %s' % _MIGRATION_NOTES_URL\n",
            "/usr/local/lib/python3.6/dist-packages/ipykernel_launcher.py:104: RuntimeWarning: invalid value encountered in true_divide\n"
          ],
          "name": "stderr"
        }
      ]
    },
    {
      "cell_type": "code",
      "metadata": {
        "id": "glrNj7NOn0-e",
        "colab_type": "code",
        "colab": {
          "base_uri": "https://localhost:8080/",
          "height": 367
        },
        "outputId": "83430e04-516a-40ef-ca25-708880ecd9f5"
      },
      "source": [
        "#特徴量とターゲットを決める\n",
        "from sklearn.model_selection import train_test_split\n",
        "\n",
        "target_col = 'dif_log'\n",
        "exclude_cols = ['log', 'price', 'dif_log', \"date\",\"text\",\"day_of_week\"]\n",
        "feature_cols = []\n",
        "for col in df4.columns:\n",
        "    if col not in exclude_cols:\n",
        "        feature_cols.append(col)\n",
        "        \n",
        "X = np.array(df4[feature_cols])\n",
        "y = np.array(df4[target_col])\n",
        "\n",
        "from sklearn.externals import joblib\n",
        "import pickle\n",
        "\n",
        "files = [(\"Linear Regression\",'/content/lm_model.sav'),(\"Decision Tree\",'/content/dt_model.sav'),(\"Random Forest\",'/content/rf_model.sav'),(\"Random Forest Best\",'/content/rf_best_model.sav'),(\"Lasso\",\"/content/ls_model.sav\"),(\"Ridge\",\"/content/rd_model.sav\")]\n",
        "df_result = pd.DataFrame(df4[\"dif_log\"])\n",
        "\n",
        "for i,(name,filename) in enumerate(files):\n",
        "  loaded_model = pickle.load(open(filename, 'rb'))\n",
        "  y_pred = loaded_model.predict(X)\n",
        "  mse = mean_squared_error(y, y_pred)\n",
        "  df_result[name] = y_pred\n",
        "  print(name+\"　: RMSE\", round(np.sqrt(mse), 3))\n",
        "  plt.plot(df_result[name])\n",
        "plt.plot(df_result[\"dif_log\"])\n",
        "\n",
        "plt.show()"
      ],
      "execution_count": 55,
      "outputs": [
        {
          "output_type": "stream",
          "text": [
            "Linear Regression　: RMSE 0.021\n",
            "Decision Tree　: RMSE 0.015\n",
            "Random Forest　: RMSE 0.014\n",
            "Random Forest Best　: RMSE 0.016\n",
            "Lasso　: RMSE 0.014\n",
            "Ridge　: RMSE 0.014\n"
          ],
          "name": "stdout"
        },
        {
          "output_type": "display_data",
          "data": {
            "image/png": "[encoded data removed]",
            "text/plain": [
              "<Figure size 432x288 with 1 Axes>"
            ]
          },
          "metadata": {
            "tags": [],
            "needs_background": "light"
          }
        }
      ]
    },
    {
      "cell_type": "code",
      "metadata": {
        "id": "-mOCmSGdoX3T",
        "colab_type": "code",
        "colab": {
          "base_uri": "https://localhost:8080/",
          "height": 462
        },
        "outputId": "8dd83bc3-c034-4436-89b2-110026eb1c14"
      },
      "source": [
        "fig = plt.figure(figsize=(16,8),dpi=100)\n",
        "rf = plt.plot(df_result[\"Random Forest\"])\n",
        "rf_b =plt.plot(df_result[\"Random Forest Best\"])\n",
        "ls =plt.plot(df_result[\"Lasso\"])\n",
        "rd =plt.plot(df_result[\"Ridge\"])\n",
        "dt = plt.plot(df_result[\"Decision Tree\"])\n",
        "ln = plt.plot(df_result[\"Linear Regression\"])\n",
        "sp = plt.plot(df_result[\"dif_log\"])\n",
        "plt.legend((rf[0], rf_b[0], ls[0], rd[0], dt[0], ln[0], sp[0]), (\"Random Forest\", \"Random Forest Best\", \"Lasso\", \"Ridge\", \"Decision Tree\",\"Linear Regression\", \"Historical Difference\"), loc=0)"
      ],
      "execution_count": 64,
      "outputs": [
        {
          "output_type": "execute_result",
          "data": {
            "text/plain": [
              "<matplotlib.legend.Legend at 0x7f3cbb46add8>"
            ]
          },
          "metadata": {
            "tags": []
          },
          "execution_count": 64
        },
        {
          "output_type": "display_data",
          "data": {
            "image/png": "[encoded data removed]",
            "text/plain": [
              "<Figure size 1600x800 with 1 Axes>"
            ]
          },
          "metadata": {
            "tags": [],
            "needs_background": "light"
          }
        }
      ]
    },
    {
      "cell_type": "code",
      "metadata": {
        "id": "pcp2tIVEfTGo",
        "colab_type": "code",
        "colab": {}
      },
      "source": [
        "#上手くいってない\n",
        "#分析6 Doc2Vecでツイートをクラスタリングする①\n",
        "#https://qiita.com/g-k/items/5ea94c13281f675302ca\n",
        "\n",
        "#from gensim.models.doc2vec import Doc2Vec, TaggedDocument\n",
        "#from gensim import models\n",
        "\n",
        "#documents = [TaggedDocument(doc, [i]) for i, doc in enumerate(sentences)]\n",
        "#model = Doc2Vec(documents, vector_size=300, window=5, min_count=1, workers=4)\n",
        "#model.save(\"doc2_w2v.model\")"
      ],
      "execution_count": 0,
      "outputs": []
    },
    {
      "cell_type": "code",
      "metadata": {
        "id": "Ge2VGRbHfTGr",
        "colab_type": "code",
        "colab": {}
      },
      "source": [
        "#上手くいってない\n",
        "#分析6 Doc2Vecでツイートをクラスタリングする②\n",
        "#https://qiita.com/naotaka1128/items/e617f63907fed035408a\n",
        "\n",
        "#model = models.Doc2Vec.load('/content/doc2_w2v.model')\n",
        "\n",
        "from sklearn.decomposition import PCA\n",
        "import matplotlib.pyplot as plt\n",
        "\n",
        "def draw_word_scatter(word, topn=30):\n",
        "    \"\"\" 入力されたwordに似ている単語の分布図を描くためのメソッド \"\"\"\n",
        "\n",
        "    # 似ている単語を求めるためにはGensim word2vecの以下の機能を利用\n",
        "    # model.most_similar(word, topn=topn)\n",
        "    words = [x[0] for x in sorted(model.most_similar(word, topn=topn))]\n",
        "    words.append(word)\n",
        "\n",
        "    # 各単語のベクトル表現を求めます。Gensimのmost_similarをベースとして\n",
        "    # 単語のベクトルを返すメソッド(model.calc_vec)を定義しています\n",
        "    # 長くなるので実装は本稿の末尾に記載しました。\n",
        "    vecs = [model.calc_vec(word) for word in words]\n",
        "\n",
        "    # 分布図\n",
        "    draw_scatter_plot(vecs, words)\n",
        "\n",
        "def draw_scatter_plot(vecs, tags, clusters):\n",
        "    \"\"\" 入力されたベクトルに基づき散布図(ラベル付き)を描くためのメソッド \"\"\"\n",
        "\n",
        "    # Scikit-learnのPCAによる次元削減とその可視化\n",
        "    pca = PCA(n_components=2)\n",
        "    coords = pca.fit_transform(vecs)\n",
        "\n",
        "    # matplotlibによる可視化\n",
        "    fig, ax = plt.subplots()\n",
        "    x = [v[0] for v in coords]\n",
        "    y = [v[1] for v in coords]\n",
        "\n",
        "    # 各点のクラスターが設定されていればクラスタを考慮\n",
        "    # エラーハンドリングは適当\n",
        "    if clusters:\n",
        "        ax.scatter(x, y, c=clusters)\n",
        "    else:\n",
        "        ax.scatter(x, y)\n",
        "\n",
        "    for i, txt in enumerate(tags):\n",
        "        ax.annotate(txt, (coords[i][0], coords[i][1]))\n",
        "    plt.show()\n",
        "    \n",
        "#draw_word_scatter('coronavirus', topn=40)"
      ],
      "execution_count": 0,
      "outputs": []
    },
    {
      "cell_type": "code",
      "metadata": {
        "id": "o9aiwySJh-Kg",
        "colab_type": "code",
        "colab": {}
      },
      "source": [
        "#　まだできていない\n",
        "# モデルの精度を確認する\n",
        "# https://note.com/uki_profit/n/nab22a04262f9"
      ],
      "execution_count": 0,
      "outputs": []
    },
    {
      "cell_type": "code",
      "metadata": {
        "id": "Rc2BiUt2ikqY",
        "colab_type": "code",
        "colab": {}
      },
      "source": [
        "#分析２　決定木　描画\n",
        "\n",
        "#$ brew install graphviz\n",
        "\n",
        "#from sklearn.tree import export_graphviz\n",
        "#export_graphviz(regressor, out_file='tree.dot', feature_names=['nth', 'holiday'])\n",
        "\n",
        "#$ dot -Tpng tree.dot -o tree.png"
      ],
      "execution_count": 0,
      "outputs": []
    }
  ]
}