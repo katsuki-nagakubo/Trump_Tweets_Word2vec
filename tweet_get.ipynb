{
 "cells": [
  {
   "cell_type": "code",
   "execution_count": 1,
   "metadata": {},
   "outputs": [
    {
     "name": "stdout",
     "output_type": "stream",
     "text": [
      "Keyword?: coronavirus\n"
     ]
    },
    {
     "data": {
      "text/plain": [
       "<function __main__.Search_words()>"
      ]
     },
     "execution_count": 1,
     "metadata": {},
     "output_type": "execute_result"
    }
   ],
   "source": [
    "#コード引用元#\n",
    "#https://qiita.com/Gen6/items/eff47ac564966c0ae4ef\n",
    "\n",
    "#ファイルへの追記の方法\n",
    "#https://techacademy.jp/magazine/18884\n",
    "\n",
    "#!/user/bin/env python\n",
    "# -*- coding: utf-8 -*-\n",
    "from requests_oauthlib import OAuth1Session\n",
    "import csv\n",
    "import json\n",
    "import sys, codecs\n",
    "import pandas as pd\n",
    "import numpy as np\n",
    "import matplotlib.pyplot as plt \n",
    "\n",
    "\n",
    "\n",
    "search_words = input(u\"Keyword?: \")\n",
    "\n",
    "\n",
    "C_KEY = \"jmW82zM3yQOnBzzp3KY2LcwxQ\"\n",
    "C_SECRET =  \"NAFLEZMvtOzdWGkDYEKz009fuvoGOvh2OpPQB2N23Py3qSUF3x\"\n",
    "A_KEY =\"1272488718-k5vPzFhtcusxEUCJZJVJDIdiK3RtjDe1X4i6q8z\"\n",
    "A_SECRET = \"3B0xhf6pqJ84GJje3Z6Co1pwjarDitAooL1BcwcSM47vk\"\n",
    "\n",
    "\n",
    "\n",
    "def Search_words():\n",
    "    url = \"https://api.twitter.com/1.1/search/tweets.json?\"\n",
    "    params = {\n",
    "            \"q\": search_words,\n",
    "            \"lang\": \"en\",\n",
    "            \"result_type\": \"recent\",\n",
    "            \"count\": 50\n",
    "            }\n",
    "    tw = OAuth1Session(C_KEY,C_SECRET,A_KEY,A_SECRET)\n",
    "    req = tw.get(url, params = params)\n",
    "    tweets = json.loads(req.text)\n",
    "\n",
    "    f = open(\"tweetsearch.csv\" , \"a\")\n",
    "    writer = csv.writer(f)\n",
    "    writer.writerow([\"datatime\", \"id\", \"name\", \"text\"])\n",
    "\n",
    "    for tweet in tweets[\"statuses\"]:\n",
    "        time = tweet[\"created_at\"]\n",
    "        id = tweet[\"user\"][\"screen_name\"]\n",
    "        name = tweet[\"user\"][\"name\"]\n",
    "        text = tweet[\"text\"]\n",
    "\n",
    "        writer.writerow([time, id, name, text])\n",
    "\n",
    "    f.close()\n",
    "\n",
    "    return Search_words\n",
    "\n",
    "Search_words()\n"
   ]
  },
  {
   "cell_type": "code",
   "execution_count": null,
   "metadata": {},
   "outputs": [],
   "source": []
  }
 ],
 "metadata": {
  "kernelspec": {
   "display_name": "Python 3",
   "language": "python",
   "name": "python3"
  },
  "language_info": {
   "codemirror_mode": {
    "name": "ipython",
    "version": 3
   },
   "file_extension": ".py",
   "mimetype": "text/x-python",
   "name": "python",
   "nbconvert_exporter": "python",
   "pygments_lexer": "ipython3",
   "version": "3.7.4"
  }
 },
 "nbformat": 4,
 "nbformat_minor": 2
}
