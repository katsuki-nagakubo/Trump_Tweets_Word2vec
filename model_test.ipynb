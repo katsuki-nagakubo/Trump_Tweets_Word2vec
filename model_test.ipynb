{
  "nbformat": 4,
  "nbformat_minor": 0,
  "metadata": {
    "kernelspec": {
      "display_name": "Python 3",
      "language": "python",
      "name": "python3"
    },
    "language_info": {
      "codemirror_mode": {
        "name": "ipython",
        "version": 3
      },
      "file_extension": ".py",
      "mimetype": "text/x-python",
      "name": "python",
      "nbconvert_exporter": "python",
      "pygments_lexer": "ipython3",
      "version": "3.7.4"
    },
    "colab": {
      "name": "model_test.ipynb",
      "provenance": [],
      "include_colab_link": true
    }
  },
  "cells": [
    {
      "cell_type": "markdown",
      "metadata": {
        "id": "view-in-github",
        "colab_type": "text"
      },
      "source": [
        "<a href=\"https://colab.research.google.com/github/katsuki-nagakubo/Tweets_Word2vec/blob/master/model_test.ipynb\" target=\"_parent\"><img src=\"https://colab.research.google.com/assets/colab-badge.svg\" alt=\"Open In Colab\"/></a>"
      ]
    },
    {
      "cell_type": "code",
      "metadata": {
        "id": "o4_qIq_4rSXz",
        "colab_type": "code",
        "colab": {
          "base_uri": "https://localhost:8080/",
          "height": 34
        },
        "outputId": "4b1552f1-ade9-4bfb-9871-3e1d1f73cd46"
      },
      "source": [
        "#データの取得と成形\n",
        "\n",
        "import pandas as pd\n",
        "import numpy as np\n",
        "import matplotlib.pyplot as plt \n",
        "\n",
        "#https://teratail.com/questions/128725\n",
        "\n",
        "from ast import literal_eval\n",
        "from pprint import pprint\n",
        "\n",
        "f = open('/content/trump_test.txt', 'r')\n",
        "text = f.read()\n",
        "mylist = literal_eval(text)\n",
        "\n",
        "df_text=[]\n",
        "df_created_at=[]\n",
        "df_id_str=[]\n",
        "\n",
        "for i in range(len(mylist)):\n",
        "    text = mylist[i][\"text\"]\n",
        "    created_at = mylist[i][\"created_at\"]\n",
        "    id_str = mylist[i][\"id_str\"]\n",
        "    df_text.append(text)\n",
        "    df_created_at.append(created_at)\n",
        "    df_id_str.append(id_str)\n",
        "\n",
        "tweet_list=[df_created_at,df_id_str,df_text]\n",
        "\n",
        "columns1=[\"created_at\"]\n",
        "tweet_data = pd.DataFrame( data = df_created_at, columns = columns1)\n",
        "tweet_data[\"id\"]=df_id_str\n",
        "tweet_data[\"text\"] = df_text\n",
        "\n",
        "tweet_data[\"time_created_at\"] = pd.to_datetime(tweet_data['created_at'])\n",
        "tweet_data[\"date_created_at\"] = tweet_data[\"time_created_at\"].dt.date\n",
        "tweet_data[\"key\"]=pd.to_datetime(tweet_data[\"date_created_at\"])\n",
        "\n",
        "sp_data = pd.read_csv('/content/sp500-10-year-daily-chart.csv')\n",
        "sp_data[\"date_64\"] = pd.to_datetime(sp_data[\"date\"])\n",
        "sp_data[\"key\"] =sp_data[\"date_64\"] \n",
        "\n",
        "tweet_data=pd.merge(tweet_data, sp_data)\n",
        "tweet_data.columns\n",
        "data = tweet_data[[\"key\",\" value\",\"text\"]]\n",
        "\n",
        "#行の名前を変更する　20200505\n",
        "data = data.rename(columns={\"key\": \"date\",\" value\":\"price\"})\n",
        "data.head()\n",
        "\n",
        "import datetime as dt\n",
        "data2 = data[(data['date'] >= dt.datetime(2019,5,1)) & (data['date'] <= dt.datetime(2022,5,31))]\n",
        "print( \"2020/05/02 - 2020/05/31のツイート数は\", len(data2))\n",
        "data2.to_csv(\"s&p_tweets.csv\", index=False, mode='a', header=True)"
      ],
      "execution_count": 1,
      "outputs": [
        {
          "output_type": "stream",
          "text": [
            "2020/05/02 - 2020/05/31のツイート数は 620\n"
          ],
          "name": "stdout"
        }
      ]
    },
    {
      "cell_type": "code",
      "metadata": {
        "id": "_-BQNnrlrSX5",
        "colab_type": "code",
        "colab": {
          "base_uri": "https://localhost:8080/",
          "height": 34
        },
        "outputId": "d8b3e608-6880-43dd-a037-ec017a969f61"
      },
      "source": [
        "data = pd.read_csv(\"s&p_tweets.csv\")\n",
        "print( len(data),\"tweets\")"
      ],
      "execution_count": 2,
      "outputs": [
        {
          "output_type": "stream",
          "text": [
            "620 tweets\n"
          ],
          "name": "stdout"
        }
      ]
    },
    {
      "cell_type": "code",
      "metadata": {
        "id": "htzuOiudrSX-",
        "colab_type": "code",
        "colab": {
          "base_uri": "https://localhost:8080/",
          "height": 692
        },
        "outputId": "43a36ae5-7d60-4102-b672-cbcf1ef005ec"
      },
      "source": [
        "import nltk\n",
        "nltk.download('stopwords')\n",
        "\n",
        "tweet_tokenizer = nltk.tokenize.TweetTokenizer(preserve_case=False, strip_handles=True, reduce_len=True)\n",
        "\n",
        "words = []\n",
        "for tweet in data[\"text\"]:\n",
        "    words += tweet_tokenizer.tokenize(tweet)\n",
        "\n",
        "fdist = nltk.FreqDist(words)\n",
        "fdist.plot(50)\n",
        "\n",
        "df_fdist = pd.DataFrame(fdist.most_common(10), columns=['Word', 'Frequency'])\n",
        "df_fdist"
      ],
      "execution_count": 3,
      "outputs": [
        {
          "output_type": "stream",
          "text": [
            "[nltk_data] Downloading package stopwords to /root/nltk_data...\n",
            "[nltk_data]   Package stopwords is already up-to-date!\n"
          ],
          "name": "stdout"
        },
        {
          "output_type": "display_data",
          "data": {
            "image/png": "[encoded data removed]",
            "text/plain": [
              "<Figure size 432x288 with 1 Axes>"
            ]
          },
          "metadata": {
            "tags": [],
            "needs_background": "light"
          }
        },
        {
          "output_type": "execute_result",
          "data": {
            "text/html": [
              "<div>\n",
              "<style scoped>\n",
              "    .dataframe tbody tr th:only-of-type {\n",
              "        vertical-align: middle;\n",
              "    }\n",
              "\n",
              "    .dataframe tbody tr th {\n",
              "        vertical-align: top;\n",
              "    }\n",
              "\n",
              "    .dataframe thead th {\n",
              "        text-align: right;\n",
              "    }\n",
              "</style>\n",
              "<table border=\"1\" class=\"dataframe\">\n",
              "  <thead>\n",
              "    <tr style=\"text-align: right;\">\n",
              "      <th></th>\n",
              "      <th>Word</th>\n",
              "      <th>Frequency</th>\n",
              "    </tr>\n",
              "  </thead>\n",
              "  <tbody>\n",
              "    <tr>\n",
              "      <th>0</th>\n",
              "      <td>,</td>\n",
              "      <td>618</td>\n",
              "    </tr>\n",
              "    <tr>\n",
              "      <th>1</th>\n",
              "      <td>the</td>\n",
              "      <td>554</td>\n",
              "    </tr>\n",
              "    <tr>\n",
              "      <th>2</th>\n",
              "      <td>.</td>\n",
              "      <td>534</td>\n",
              "    </tr>\n",
              "    <tr>\n",
              "      <th>3</th>\n",
              "      <td>!</td>\n",
              "      <td>377</td>\n",
              "    </tr>\n",
              "    <tr>\n",
              "      <th>4</th>\n",
              "      <td>to</td>\n",
              "      <td>357</td>\n",
              "    </tr>\n",
              "    <tr>\n",
              "      <th>5</th>\n",
              "      <td>:</td>\n",
              "      <td>350</td>\n",
              "    </tr>\n",
              "    <tr>\n",
              "      <th>6</th>\n",
              "      <td>and</td>\n",
              "      <td>306</td>\n",
              "    </tr>\n",
              "    <tr>\n",
              "      <th>7</th>\n",
              "      <td>rt</td>\n",
              "      <td>272</td>\n",
              "    </tr>\n",
              "    <tr>\n",
              "      <th>8</th>\n",
              "      <td>of</td>\n",
              "      <td>245</td>\n",
              "    </tr>\n",
              "    <tr>\n",
              "      <th>9</th>\n",
              "      <td>a</td>\n",
              "      <td>223</td>\n",
              "    </tr>\n",
              "  </tbody>\n",
              "</table>\n",
              "</div>"
            ],
            "text/plain": [
              "  Word  Frequency\n",
              "0    ,        618\n",
              "1  the        554\n",
              "2    .        534\n",
              "3    !        377\n",
              "4   to        357\n",
              "5    :        350\n",
              "6  and        306\n",
              "7   rt        272\n",
              "8   of        245\n",
              "9    a        223"
            ]
          },
          "metadata": {
            "tags": []
          },
          "execution_count": 3
        }
      ]
    },
    {
      "cell_type": "code",
      "metadata": {
        "id": "hxi33qUbrSYC",
        "colab_type": "code",
        "colab": {}
      },
      "source": [
        "import re\n",
        "import string\n",
        "\n",
        "stemmer = nltk.stem.PorterStemmer()\n",
        "punctuations = string.punctuation\n",
        "all_tweets_clean = []\n",
        "\n",
        "#Tweet毎にリスト形式で保存するための加工\n",
        "result=[]\n",
        "\n",
        "for tweet in data[\"text\"]:\n",
        "    # RTから始まる部分を取り除く。\n",
        "    tweet = re.sub(r'^RT[\\s]+', '', tweet)\n",
        "    # リンクを取り除く。\n",
        "    tweet = re.sub(r'(http|https):\\/\\/.*[\\r\\n]*', '', tweet)\n",
        "    # ハッシュタグを取り除く。\n",
        "    tweet = re.sub(r'#', '', tweet)\n",
        "    # 句読点の削除\n",
        "    tweet = tweet.translate(str.maketrans('', '', string.punctuation)) \n",
        "    # 単語に分解する。\n",
        "    tokenizer = nltk.tokenize.TweetTokenizer(preserve_case=False, strip_handles=True, reduce_len=True)\n",
        "    tweet_tokens = tokenizer.tokenize(tweet)\n",
        "    result.append(tweet_tokens)\n",
        "    \n",
        "stopwords = nltk.corpus.stopwords.words('english')\n",
        "stop_words = [\"→\", \"←\", \"?\", \"」\", \"「\",\"(\",\")\",\"!\",\".\",\",\",\"&\",\"…\",\"%\",\":\",\";\",\"“\"]\n",
        "stopwords += stop_words\n",
        "\n",
        "#print(stopwords)\n",
        "\n",
        "result_2=[]\n",
        "result_3=[]\n",
        "for i in range(len(result)):\n",
        "    for word in result[i]:\n",
        "        if word not in stopwords:\n",
        "            result_2.append(word)\n",
        "    result_3.append(result_2)\n",
        "    result_2=[]"
      ],
      "execution_count": 0,
      "outputs": []
    },
    {
      "cell_type": "code",
      "metadata": {
        "id": "lFw9KsumrSYF",
        "colab_type": "code",
        "colab": {
          "base_uri": "https://localhost:8080/",
          "height": 71
        },
        "outputId": "166b5194-24d8-4eeb-c6d6-fa3664745699"
      },
      "source": [
        "from gensim.models import word2vec\n",
        "skipgram_model = word2vec.Word2Vec.load(\"/content/skipgram_w2v.model\")"
      ],
      "execution_count": 5,
      "outputs": [
        {
          "output_type": "stream",
          "text": [
            "/usr/local/lib/python3.6/dist-packages/smart_open/smart_open_lib.py:253: UserWarning: This function is deprecated, use smart_open.open instead. See the migration notes for details: https://github.com/RaRe-Technologies/smart_open/blob/master/README.rst#migrating-to-the-new-open-function\n",
            "  'See the migration notes for details: %s' % _MIGRATION_NOTES_URL\n"
          ],
          "name": "stderr"
        }
      ]
    },
    {
      "cell_type": "code",
      "metadata": {
        "id": "f8aDtKjRrSYJ",
        "colab_type": "code",
        "colab": {}
      },
      "source": [
        "num_features = 300\n",
        "\n",
        "\n",
        "def avg_document_vector(data, num_features):\n",
        "    document_vec = np.zeros((len(data), num_features))\n",
        "    for i, doc_word_list in enumerate(data):\n",
        "        feature_vec = np.zeros((num_features,), dtype=\"float32\")\n",
        "        for word in doc_word_list:\n",
        "            try:\n",
        "                feature_vec = np.add(\n",
        "                    feature_vec, skipgram_model.wv.__getitem__(word))\n",
        "            except:\n",
        "                pass\n",
        "\n",
        "        feature_vec = np.divide(feature_vec, len(doc_word_list))\n",
        "        document_vec[i] = feature_vec\n",
        "    return document_vec"
      ],
      "execution_count": 0,
      "outputs": []
    },
    {
      "cell_type": "code",
      "metadata": {
        "id": "wz3Waw5rrSYZ",
        "colab_type": "code",
        "colab": {
          "base_uri": "https://localhost:8080/",
          "height": 68
        },
        "outputId": "956dfa25-dd5a-4da1-f688-5fccb76ee2ba"
      },
      "source": [
        "sentences = result_3\n",
        "sentences[0]\n",
        "\n",
        "X = avg_document_vector(data=sentences, num_features=300)\n",
        "X.shape"
      ],
      "execution_count": 7,
      "outputs": [
        {
          "output_type": "stream",
          "text": [
            "/usr/local/lib/python3.6/dist-packages/ipykernel_launcher.py:15: RuntimeWarning: invalid value encountered in true_divide\n",
            "  from ipykernel import kernelapp as app\n"
          ],
          "name": "stderr"
        },
        {
          "output_type": "execute_result",
          "data": {
            "text/plain": [
              "(620, 300)"
            ]
          },
          "metadata": {
            "tags": []
          },
          "execution_count": 7
        }
      ]
    },
    {
      "cell_type": "code",
      "metadata": {
        "id": "HYhSiB1drSYf",
        "colab_type": "code",
        "colab": {}
      },
      "source": [
        "data2 = pd.DataFrame(X)\n",
        "df_tweets_word2vec =  pd.concat([data, data2], axis=1)\n",
        "\n",
        "df_tweets_word2vec.to_csv(\"price_tweets_vector.csv\", index=False)\n",
        "\n",
        "#ツイートのベクトルを1日毎に平均にする（1日10ツイートだった場合ベクトルと足し合わせ10で割る）\n",
        "# groupby #https://qiita.com/propella/items/a9a32b878c77222630ae\n",
        "df = df_tweets_word2vec.groupby([\"date\"]).mean()\n",
        "\n",
        "\n",
        "# targetのcolである変化率（\"price\"の差分対数行列）をdateをKeyに内部結合する\n",
        "df_sp = pd.read_csv(\"/content/sp500-10-year-daily-chart.csv\")\n",
        "\n",
        "# 時系列データの差分を求める\n",
        "\n",
        "# \" value\"の行を対数化\n",
        "# https://www.sejuku.net/blog/70027\n",
        "df_sp[\"log\"] = np.log(df_sp[\" value\"])\n",
        "\n",
        "# \"log\"の1日前との差を取って、差分対数の列を作成\n",
        "# https://note.nkmk.me/python-pandas-diff-pct-change/\n",
        "df_sp[\"dif_log\"] = df_sp[\"log\"].diff()\n",
        "\n",
        "#内部結合\n",
        "df2=pd.merge(df_sp, df, how=\"inner\" ,on=\"date\")\n",
        "df2 = df2.drop(\" value\", axis=1)\n",
        "\n",
        "# groupbyを使って1日のツイート数も特徴量に加える\n",
        "# https://deepage.net/features/pandas-count.html\n",
        "df3 = df_tweets_word2vec[[\"date\",\"text\"]]\n",
        "df3 = df3.groupby([\"date\"]).count()\n",
        "\n",
        "#内部結合\n",
        "df4 = pd.merge( df3, df2, how=\"inner\" ,on=\"date\")\n",
        "\n",
        "date_for_result = df4[\"date\"]\n",
        "\n",
        "#日付データの形を変える\n",
        "df4[\"date\"] = pd.to_datetime(df4['date']).astype('int64')"
      ],
      "execution_count": 0,
      "outputs": []
    },
    {
      "cell_type": "code",
      "metadata": {
        "id": "VlCMB_fHrSYk",
        "colab_type": "code",
        "colab": {}
      },
      "source": [
        "#特徴量とターゲットを決める\n",
        "from sklearn.model_selection import train_test_split\n",
        "\n",
        "target_col = 'dif_log'\n",
        "exclude_cols = ['log', 'price', 'dif_log', \"date\",\"text\"]\n",
        "feature_cols = []\n",
        "for col in df4.columns:\n",
        "    if col not in exclude_cols:\n",
        "        feature_cols.append(col)\n",
        "        \n",
        "X = np.array(df4[feature_cols])\n",
        "y = np.array(df4[target_col])"
      ],
      "execution_count": 0,
      "outputs": []
    },
    {
      "cell_type": "code",
      "metadata": {
        "id": "Fr6Om5oIrSYr",
        "colab_type": "code",
        "colab": {
          "base_uri": "https://localhost:8080/",
          "height": 71
        },
        "outputId": "8292eed4-8a81-4f31-d58f-2c0092ae1518"
      },
      "source": [
        "from collections import Counter\n",
        "from sklearn.linear_model import LogisticRegression\n",
        "from sklearn.metrics import confusion_matrix, accuracy_score, classification_report\n",
        "from sklearn.linear_model import LinearRegression  # 線形回帰モデルのライブラリ\n",
        "from sklearn.metrics import mean_squared_error  # MSEのライブラリ\n",
        "from sklearn.ensemble import RandomForestRegressor\n",
        "\n",
        "from sklearn.externals import joblib\n",
        "import pickle"
      ],
      "execution_count": 10,
      "outputs": [
        {
          "output_type": "stream",
          "text": [
            "/usr/local/lib/python3.6/dist-packages/sklearn/externals/joblib/__init__.py:15: FutureWarning: sklearn.externals.joblib is deprecated in 0.21 and will be removed in 0.23. Please import this functionality directly from joblib, which can be installed with: pip install joblib. If this warning is raised when loading pickled models, you may need to re-serialize those models with scikit-learn 0.21+.\n",
            "  warnings.warn(msg, category=FutureWarning)\n"
          ],
          "name": "stderr"
        }
      ]
    },
    {
      "cell_type": "code",
      "metadata": {
        "id": "UZlldQG-rSY0",
        "colab_type": "code",
        "colab": {
          "base_uri": "https://localhost:8080/",
          "height": 333
        },
        "outputId": "6b3a154f-2765-45ff-9d31-9fa20b1f6293"
      },
      "source": [
        "files = [(\"Linear Regression\",'/content/lm_model.sav'),(\"Decision Tree\",'/content/dt_model.sav'),(\"Random Forest\",'/content/rf_model.sav'),(\"Random Forest Best\",'/content/rf_best_model.sav')]\n",
        "df_result = pd.DataFrame(df4[\"dif_log\"])\n",
        "\n",
        "for i,(name,filename) in enumerate(files):\n",
        "  loaded_model = pickle.load(open(filename, 'rb'))\n",
        "  y_pred = loaded_model.predict(X)\n",
        "  mse = mean_squared_error(y, y_pred)\n",
        "  df_result[name] = y_pred\n",
        "  print(name+\"　: RMSE\", round(np.sqrt(mse), 3))\n",
        "  plt.plot(df_result[name])\n",
        "plt.plot(df_result[\"dif_log\"])\n",
        "\n",
        "plt.show()"
      ],
      "execution_count": 30,
      "outputs": [
        {
          "output_type": "stream",
          "text": [
            "Linear Regression　: RMSE 0.408\n",
            "Decision Tree　: RMSE 0.103\n",
            "Random Forest　: RMSE 0.054\n",
            "Random Forest Best　: RMSE 0.056\n"
          ],
          "name": "stdout"
        },
        {
          "output_type": "display_data",
          "data": {
            "image/png": "[encoded data removed]",
            "text/plain": [
              "<Figure size 432x288 with 1 Axes>"
            ]
          },
          "metadata": {
            "tags": [],
            "needs_background": "light"
          }
        }
      ]
    },
    {
      "cell_type": "code",
      "metadata": {
        "id": "lO4kgND2_6HR",
        "colab_type": "code",
        "colab": {
          "base_uri": "https://localhost:8080/",
          "height": 379
        },
        "outputId": "ce9878f5-e583-4437-f771-3ede7a9a1919"
      },
      "source": [
        "fig = plt.figure(figsize=(8,4),dpi=100)\n",
        "rf = plt.plot(df_result[\"Random Forest\"])\n",
        "rf_b =plt.plot(df_result[\"Random Forest Best\"])\n",
        "sp = plt.plot(df_result[\"dif_log\"])\n",
        "plt.legend((rf[0], rf_b[0],sp[0]), (\"Random Forest\", \"Random Forest Best\", \"Historical Difference\"), loc=2)"
      ],
      "execution_count": 32,
      "outputs": [
        {
          "output_type": "execute_result",
          "data": {
            "text/plain": [
              "<matplotlib.legend.Legend at 0x7fb8d04aac50>"
            ]
          },
          "metadata": {
            "tags": []
          },
          "execution_count": 32
        },
        {
          "output_type": "display_data",
          "data": {
            "image/png": "[encoded data removed]",
            "text/plain": [
              "<Figure size 800x400 with 1 Axes>"
            ]
          },
          "metadata": {
            "tags": [],
            "needs_background": "light"
          }
        }
      ]
    },
    {
      "cell_type": "code",
      "metadata": {
        "id": "z3OYRj4zLqgI",
        "colab_type": "code",
        "colab": {}
      },
      "source": [
        ""
      ],
      "execution_count": 0,
      "outputs": []
    }
  ]
}